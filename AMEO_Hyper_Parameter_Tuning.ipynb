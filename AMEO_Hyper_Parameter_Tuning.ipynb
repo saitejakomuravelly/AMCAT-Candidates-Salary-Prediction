{
 "cells": [
  {
   "cell_type": "code",
   "execution_count": 1,
   "metadata": {},
   "outputs": [],
   "source": [
    "import numpy as np\n",
    "import pandas as pd\n",
    "import matplotlib.pyplot as plt\n",
    "import seaborn as sns\n",
    "import scipy.stats as stats\n",
    "import statistics as st\n",
    "\n",
    "pd.set_option('display.max_columns',999)\n",
    "pd.set_option('display.max_rows',3998)\n",
    "\n",
    "import warnings\n",
    "warnings.filterwarnings('ignore')"
   ]
  },
  {
   "cell_type": "code",
   "execution_count": 2,
   "metadata": {},
   "outputs": [],
   "source": [
    "from mlxtend.feature_selection import SequentialFeatureSelector as SFS\n",
    "from mlxtend.plotting import plot_sequential_feature_selection as plot_sfs"
   ]
  },
  {
   "cell_type": "code",
   "execution_count": 3,
   "metadata": {},
   "outputs": [],
   "source": [
    "from sklearn.metrics import mean_squared_error,r2_score,mean_absolute_error"
   ]
  },
  {
   "cell_type": "code",
   "execution_count": 4,
   "metadata": {},
   "outputs": [
    {
     "data": {
      "text/html": [
       "<div>\n",
       "<style scoped>\n",
       "    .dataframe tbody tr th:only-of-type {\n",
       "        vertical-align: middle;\n",
       "    }\n",
       "\n",
       "    .dataframe tbody tr th {\n",
       "        vertical-align: top;\n",
       "    }\n",
       "\n",
       "    .dataframe thead th {\n",
       "        text-align: right;\n",
       "    }\n",
       "</style>\n",
       "<table border=\"1\" class=\"dataframe\">\n",
       "  <thead>\n",
       "    <tr style=\"text-align: right;\">\n",
       "      <th></th>\n",
       "      <th>Unnamed: 0</th>\n",
       "      <th>ID</th>\n",
       "      <th>Salary</th>\n",
       "      <th>DOJ</th>\n",
       "      <th>DOL</th>\n",
       "      <th>Designation</th>\n",
       "      <th>JobCity</th>\n",
       "      <th>Gender</th>\n",
       "      <th>DOB</th>\n",
       "      <th>10percentage</th>\n",
       "      <th>10board</th>\n",
       "      <th>12graduation</th>\n",
       "      <th>12percentage</th>\n",
       "      <th>12board</th>\n",
       "      <th>CollegeID</th>\n",
       "      <th>CollegeTier</th>\n",
       "      <th>Degree</th>\n",
       "      <th>Specialization</th>\n",
       "      <th>collegeGPA</th>\n",
       "      <th>CollegeCityID</th>\n",
       "      <th>CollegeCityTier</th>\n",
       "      <th>CollegeState</th>\n",
       "      <th>GraduationYear</th>\n",
       "      <th>English</th>\n",
       "      <th>Logical</th>\n",
       "      <th>Quant</th>\n",
       "      <th>Domain</th>\n",
       "      <th>ComputerProgramming</th>\n",
       "      <th>ElectronicsAndSemicon</th>\n",
       "      <th>ComputerScience</th>\n",
       "      <th>MechanicalEngg</th>\n",
       "      <th>ElectricalEngg</th>\n",
       "      <th>TelecomEngg</th>\n",
       "      <th>CivilEngg</th>\n",
       "      <th>conscientiousness</th>\n",
       "      <th>agreeableness</th>\n",
       "      <th>extraversion</th>\n",
       "      <th>nueroticism</th>\n",
       "      <th>openess_to_experience</th>\n",
       "    </tr>\n",
       "  </thead>\n",
       "  <tbody>\n",
       "    <tr>\n",
       "      <th>0</th>\n",
       "      <td>train</td>\n",
       "      <td>203097</td>\n",
       "      <td>420000</td>\n",
       "      <td>2012-06-01</td>\n",
       "      <td>present</td>\n",
       "      <td>senior quality engineer</td>\n",
       "      <td>Bangalore</td>\n",
       "      <td>f</td>\n",
       "      <td>1990-02-19</td>\n",
       "      <td>84.3</td>\n",
       "      <td>board ofsecondary education,ap</td>\n",
       "      <td>2007</td>\n",
       "      <td>95.8</td>\n",
       "      <td>board of intermediate education,ap</td>\n",
       "      <td>1141</td>\n",
       "      <td>2</td>\n",
       "      <td>B.Tech/B.E.</td>\n",
       "      <td>computer engineering</td>\n",
       "      <td>78.00</td>\n",
       "      <td>1141</td>\n",
       "      <td>0</td>\n",
       "      <td>Andhra Pradesh</td>\n",
       "      <td>2011</td>\n",
       "      <td>515</td>\n",
       "      <td>585</td>\n",
       "      <td>525</td>\n",
       "      <td>0.635979</td>\n",
       "      <td>445</td>\n",
       "      <td>-1</td>\n",
       "      <td>-1</td>\n",
       "      <td>-1</td>\n",
       "      <td>-1</td>\n",
       "      <td>-1</td>\n",
       "      <td>-1</td>\n",
       "      <td>0.9737</td>\n",
       "      <td>0.8128</td>\n",
       "      <td>0.5269</td>\n",
       "      <td>1.35490</td>\n",
       "      <td>-0.4455</td>\n",
       "    </tr>\n",
       "    <tr>\n",
       "      <th>1</th>\n",
       "      <td>train</td>\n",
       "      <td>579905</td>\n",
       "      <td>500000</td>\n",
       "      <td>2013-09-01</td>\n",
       "      <td>present</td>\n",
       "      <td>assistant manager</td>\n",
       "      <td>Indore</td>\n",
       "      <td>m</td>\n",
       "      <td>1989-10-04</td>\n",
       "      <td>85.4</td>\n",
       "      <td>cbse</td>\n",
       "      <td>2007</td>\n",
       "      <td>85.0</td>\n",
       "      <td>cbse</td>\n",
       "      <td>5807</td>\n",
       "      <td>2</td>\n",
       "      <td>B.Tech/B.E.</td>\n",
       "      <td>electronics and communication engineering</td>\n",
       "      <td>70.06</td>\n",
       "      <td>5807</td>\n",
       "      <td>0</td>\n",
       "      <td>Madhya Pradesh</td>\n",
       "      <td>2012</td>\n",
       "      <td>695</td>\n",
       "      <td>610</td>\n",
       "      <td>780</td>\n",
       "      <td>0.960603</td>\n",
       "      <td>-1</td>\n",
       "      <td>466</td>\n",
       "      <td>-1</td>\n",
       "      <td>-1</td>\n",
       "      <td>-1</td>\n",
       "      <td>-1</td>\n",
       "      <td>-1</td>\n",
       "      <td>-0.7335</td>\n",
       "      <td>0.3789</td>\n",
       "      <td>1.2396</td>\n",
       "      <td>-0.10760</td>\n",
       "      <td>0.8637</td>\n",
       "    </tr>\n",
       "    <tr>\n",
       "      <th>2</th>\n",
       "      <td>train</td>\n",
       "      <td>810601</td>\n",
       "      <td>325000</td>\n",
       "      <td>2014-06-01</td>\n",
       "      <td>present</td>\n",
       "      <td>systems engineer</td>\n",
       "      <td>Chennai</td>\n",
       "      <td>f</td>\n",
       "      <td>1992-08-03</td>\n",
       "      <td>85.0</td>\n",
       "      <td>cbse</td>\n",
       "      <td>2010</td>\n",
       "      <td>68.2</td>\n",
       "      <td>cbse</td>\n",
       "      <td>64</td>\n",
       "      <td>2</td>\n",
       "      <td>B.Tech/B.E.</td>\n",
       "      <td>information technology</td>\n",
       "      <td>70.00</td>\n",
       "      <td>64</td>\n",
       "      <td>0</td>\n",
       "      <td>Uttar Pradesh</td>\n",
       "      <td>2014</td>\n",
       "      <td>615</td>\n",
       "      <td>545</td>\n",
       "      <td>370</td>\n",
       "      <td>0.450877</td>\n",
       "      <td>395</td>\n",
       "      <td>-1</td>\n",
       "      <td>-1</td>\n",
       "      <td>-1</td>\n",
       "      <td>-1</td>\n",
       "      <td>-1</td>\n",
       "      <td>-1</td>\n",
       "      <td>0.2718</td>\n",
       "      <td>1.7109</td>\n",
       "      <td>0.1637</td>\n",
       "      <td>-0.86820</td>\n",
       "      <td>0.6721</td>\n",
       "    </tr>\n",
       "    <tr>\n",
       "      <th>3</th>\n",
       "      <td>train</td>\n",
       "      <td>267447</td>\n",
       "      <td>1100000</td>\n",
       "      <td>2011-07-01</td>\n",
       "      <td>present</td>\n",
       "      <td>senior software engineer</td>\n",
       "      <td>Gurgaon</td>\n",
       "      <td>m</td>\n",
       "      <td>1989-12-05</td>\n",
       "      <td>85.6</td>\n",
       "      <td>cbse</td>\n",
       "      <td>2007</td>\n",
       "      <td>83.6</td>\n",
       "      <td>cbse</td>\n",
       "      <td>6920</td>\n",
       "      <td>1</td>\n",
       "      <td>B.Tech/B.E.</td>\n",
       "      <td>computer engineering</td>\n",
       "      <td>74.64</td>\n",
       "      <td>6920</td>\n",
       "      <td>1</td>\n",
       "      <td>Delhi</td>\n",
       "      <td>2011</td>\n",
       "      <td>635</td>\n",
       "      <td>585</td>\n",
       "      <td>625</td>\n",
       "      <td>0.974396</td>\n",
       "      <td>615</td>\n",
       "      <td>-1</td>\n",
       "      <td>-1</td>\n",
       "      <td>-1</td>\n",
       "      <td>-1</td>\n",
       "      <td>-1</td>\n",
       "      <td>-1</td>\n",
       "      <td>0.0464</td>\n",
       "      <td>0.3448</td>\n",
       "      <td>-0.3440</td>\n",
       "      <td>-0.40780</td>\n",
       "      <td>-0.9194</td>\n",
       "    </tr>\n",
       "    <tr>\n",
       "      <th>4</th>\n",
       "      <td>train</td>\n",
       "      <td>343523</td>\n",
       "      <td>200000</td>\n",
       "      <td>2014-03-01</td>\n",
       "      <td>2015-03-01 00:00:00</td>\n",
       "      <td>get</td>\n",
       "      <td>Manesar</td>\n",
       "      <td>m</td>\n",
       "      <td>1991-02-27</td>\n",
       "      <td>78.0</td>\n",
       "      <td>cbse</td>\n",
       "      <td>2008</td>\n",
       "      <td>76.8</td>\n",
       "      <td>cbse</td>\n",
       "      <td>11368</td>\n",
       "      <td>2</td>\n",
       "      <td>B.Tech/B.E.</td>\n",
       "      <td>electronics and communication engineering</td>\n",
       "      <td>73.90</td>\n",
       "      <td>11368</td>\n",
       "      <td>0</td>\n",
       "      <td>Uttar Pradesh</td>\n",
       "      <td>2012</td>\n",
       "      <td>545</td>\n",
       "      <td>625</td>\n",
       "      <td>465</td>\n",
       "      <td>0.124502</td>\n",
       "      <td>-1</td>\n",
       "      <td>233</td>\n",
       "      <td>-1</td>\n",
       "      <td>-1</td>\n",
       "      <td>-1</td>\n",
       "      <td>-1</td>\n",
       "      <td>-1</td>\n",
       "      <td>-0.8810</td>\n",
       "      <td>-0.2793</td>\n",
       "      <td>-1.0697</td>\n",
       "      <td>0.09163</td>\n",
       "      <td>-0.1295</td>\n",
       "    </tr>\n",
       "  </tbody>\n",
       "</table>\n",
       "</div>"
      ],
      "text/plain": [
       "  Unnamed: 0      ID   Salary        DOJ                  DOL  \\\n",
       "0      train  203097   420000 2012-06-01              present   \n",
       "1      train  579905   500000 2013-09-01              present   \n",
       "2      train  810601   325000 2014-06-01              present   \n",
       "3      train  267447  1100000 2011-07-01              present   \n",
       "4      train  343523   200000 2014-03-01  2015-03-01 00:00:00   \n",
       "\n",
       "                Designation    JobCity Gender        DOB  10percentage  \\\n",
       "0   senior quality engineer  Bangalore      f 1990-02-19          84.3   \n",
       "1         assistant manager     Indore      m 1989-10-04          85.4   \n",
       "2          systems engineer    Chennai      f 1992-08-03          85.0   \n",
       "3  senior software engineer    Gurgaon      m 1989-12-05          85.6   \n",
       "4                       get    Manesar      m 1991-02-27          78.0   \n",
       "\n",
       "                          10board  12graduation  12percentage  \\\n",
       "0  board ofsecondary education,ap          2007          95.8   \n",
       "1                            cbse          2007          85.0   \n",
       "2                            cbse          2010          68.2   \n",
       "3                            cbse          2007          83.6   \n",
       "4                            cbse          2008          76.8   \n",
       "\n",
       "                              12board  CollegeID  CollegeTier       Degree  \\\n",
       "0  board of intermediate education,ap       1141            2  B.Tech/B.E.   \n",
       "1                                cbse       5807            2  B.Tech/B.E.   \n",
       "2                                cbse         64            2  B.Tech/B.E.   \n",
       "3                                cbse       6920            1  B.Tech/B.E.   \n",
       "4                                cbse      11368            2  B.Tech/B.E.   \n",
       "\n",
       "                              Specialization  collegeGPA  CollegeCityID  \\\n",
       "0                       computer engineering       78.00           1141   \n",
       "1  electronics and communication engineering       70.06           5807   \n",
       "2                     information technology       70.00             64   \n",
       "3                       computer engineering       74.64           6920   \n",
       "4  electronics and communication engineering       73.90          11368   \n",
       "\n",
       "   CollegeCityTier    CollegeState  GraduationYear  English  Logical  Quant  \\\n",
       "0                0  Andhra Pradesh            2011      515      585    525   \n",
       "1                0  Madhya Pradesh            2012      695      610    780   \n",
       "2                0   Uttar Pradesh            2014      615      545    370   \n",
       "3                1           Delhi            2011      635      585    625   \n",
       "4                0   Uttar Pradesh            2012      545      625    465   \n",
       "\n",
       "     Domain  ComputerProgramming  ElectronicsAndSemicon  ComputerScience  \\\n",
       "0  0.635979                  445                     -1               -1   \n",
       "1  0.960603                   -1                    466               -1   \n",
       "2  0.450877                  395                     -1               -1   \n",
       "3  0.974396                  615                     -1               -1   \n",
       "4  0.124502                   -1                    233               -1   \n",
       "\n",
       "   MechanicalEngg  ElectricalEngg  TelecomEngg  CivilEngg  conscientiousness  \\\n",
       "0              -1              -1           -1         -1             0.9737   \n",
       "1              -1              -1           -1         -1            -0.7335   \n",
       "2              -1              -1           -1         -1             0.2718   \n",
       "3              -1              -1           -1         -1             0.0464   \n",
       "4              -1              -1           -1         -1            -0.8810   \n",
       "\n",
       "   agreeableness  extraversion  nueroticism  openess_to_experience  \n",
       "0         0.8128        0.5269      1.35490                -0.4455  \n",
       "1         0.3789        1.2396     -0.10760                 0.8637  \n",
       "2         1.7109        0.1637     -0.86820                 0.6721  \n",
       "3         0.3448       -0.3440     -0.40780                -0.9194  \n",
       "4        -0.2793       -1.0697      0.09163                -0.1295  "
      ]
     },
     "execution_count": 4,
     "metadata": {},
     "output_type": "execute_result"
    }
   ],
   "source": [
    "df = pd.read_excel('AMEO.xlsx')\n",
    "df.head()"
   ]
  },
  {
   "cell_type": "code",
   "execution_count": 5,
   "metadata": {},
   "outputs": [],
   "source": [
    "df.drop(['Unnamed: 0','ID','CollegeCityID','CollegeID'],axis=1,inplace=True)"
   ]
  },
  {
   "cell_type": "code",
   "execution_count": 6,
   "metadata": {},
   "outputs": [
    {
     "data": {
      "text/plain": [
       "(3998, 35)"
      ]
     },
     "execution_count": 6,
     "metadata": {},
     "output_type": "execute_result"
    }
   ],
   "source": [
    "df.shape"
   ]
  },
  {
   "cell_type": "code",
   "execution_count": 7,
   "metadata": {},
   "outputs": [],
   "source": [
    "df['10board'].replace({0:np.NaN},inplace=True)\n",
    "df['12board'].replace({0:np.NaN},inplace=True)\n",
    "df['Domain'].replace({-1:np.NaN},inplace=True)\n",
    "df['JobCity'].replace({-1:np.NaN},inplace=True)\n",
    "df['GraduationYear'].replace({0:np.NaN},inplace=True)"
   ]
  },
  {
   "cell_type": "code",
   "execution_count": 8,
   "metadata": {},
   "outputs": [],
   "source": [
    "#null= df.isnull().sum()\n",
    "#null.sort_values(ascending=False)[1:].plot(kind='bar')"
   ]
  },
  {
   "cell_type": "code",
   "execution_count": 9,
   "metadata": {},
   "outputs": [
    {
     "name": "stdout",
     "output_type": "stream",
     "text": [
      "Salary                    0.00\n",
      "DOJ                       0.00\n",
      "DOL                       0.00\n",
      "Designation               0.00\n",
      "JobCity                  11.53\n",
      "Gender                    0.00\n",
      "DOB                       0.00\n",
      "10percentage              0.00\n",
      "10board                   8.75\n",
      "12graduation              0.00\n",
      "12percentage              0.00\n",
      "12board                   8.98\n",
      "CollegeTier               0.00\n",
      "Degree                    0.00\n",
      "Specialization            0.00\n",
      "collegeGPA                0.00\n",
      "CollegeCityTier           0.00\n",
      "CollegeState              0.00\n",
      "GraduationYear            0.03\n",
      "English                   0.00\n",
      "Logical                   0.00\n",
      "Quant                     0.00\n",
      "Domain                    6.15\n",
      "ComputerProgramming       0.00\n",
      "ElectronicsAndSemicon     0.00\n",
      "ComputerScience           0.00\n",
      "MechanicalEngg            0.00\n",
      "ElectricalEngg            0.00\n",
      "TelecomEngg               0.00\n",
      "CivilEngg                 0.00\n",
      "conscientiousness         0.00\n",
      "agreeableness             0.00\n",
      "extraversion              0.00\n",
      "nueroticism               0.00\n",
      "openess_to_experience     0.00\n",
      "dtype: float64\n"
     ]
    }
   ],
   "source": [
    "print(round((df.isnull().sum()/len(df))*100,2))"
   ]
  },
  {
   "cell_type": "code",
   "execution_count": 10,
   "metadata": {},
   "outputs": [],
   "source": [
    "#we have null values in jobcity of 11% and 10th Board and 12th Board with 8% and Domain with 6% Null values."
   ]
  },
  {
   "cell_type": "code",
   "execution_count": 11,
   "metadata": {},
   "outputs": [],
   "source": [
    "#df['JobCity'].fillna(method='ffill',inplace=True)\n",
    "#df['10board'].fillna(method='ffill',inplace=True)\n",
    "#df['12board'].fillna(method='ffill',inplace=True)\n",
    "#df['Domain'].fillna(method='ffill',inplace=True)\n",
    "#df['GraduationYear'].fillna(method='ffill',inplace=True)"
   ]
  },
  {
   "cell_type": "markdown",
   "metadata": {},
   "source": [
    "### Experience:"
   ]
  },
  {
   "cell_type": "code",
   "execution_count": 12,
   "metadata": {},
   "outputs": [],
   "source": [
    "df['DOL'].replace({'present':'2016-01-01'},inplace=True)"
   ]
  },
  {
   "cell_type": "code",
   "execution_count": 13,
   "metadata": {},
   "outputs": [],
   "source": [
    "df['DOL'] = pd.to_datetime(df['DOL'])"
   ]
  },
  {
   "cell_type": "code",
   "execution_count": 14,
   "metadata": {},
   "outputs": [
    {
     "data": {
      "text/html": [
       "<div>\n",
       "<style scoped>\n",
       "    .dataframe tbody tr th:only-of-type {\n",
       "        vertical-align: middle;\n",
       "    }\n",
       "\n",
       "    .dataframe tbody tr th {\n",
       "        vertical-align: top;\n",
       "    }\n",
       "\n",
       "    .dataframe thead th {\n",
       "        text-align: right;\n",
       "    }\n",
       "</style>\n",
       "<table border=\"1\" class=\"dataframe\">\n",
       "  <thead>\n",
       "    <tr style=\"text-align: right;\">\n",
       "      <th></th>\n",
       "      <th>Salary</th>\n",
       "      <th>DOJ</th>\n",
       "      <th>DOL</th>\n",
       "      <th>Designation</th>\n",
       "      <th>JobCity</th>\n",
       "      <th>Gender</th>\n",
       "      <th>DOB</th>\n",
       "      <th>10percentage</th>\n",
       "      <th>10board</th>\n",
       "      <th>12graduation</th>\n",
       "      <th>12percentage</th>\n",
       "      <th>12board</th>\n",
       "      <th>CollegeTier</th>\n",
       "      <th>Degree</th>\n",
       "      <th>Specialization</th>\n",
       "      <th>collegeGPA</th>\n",
       "      <th>CollegeCityTier</th>\n",
       "      <th>CollegeState</th>\n",
       "      <th>GraduationYear</th>\n",
       "      <th>English</th>\n",
       "      <th>Logical</th>\n",
       "      <th>Quant</th>\n",
       "      <th>Domain</th>\n",
       "      <th>ComputerProgramming</th>\n",
       "      <th>ElectronicsAndSemicon</th>\n",
       "      <th>ComputerScience</th>\n",
       "      <th>MechanicalEngg</th>\n",
       "      <th>ElectricalEngg</th>\n",
       "      <th>TelecomEngg</th>\n",
       "      <th>CivilEngg</th>\n",
       "      <th>conscientiousness</th>\n",
       "      <th>agreeableness</th>\n",
       "      <th>extraversion</th>\n",
       "      <th>nueroticism</th>\n",
       "      <th>openess_to_experience</th>\n",
       "    </tr>\n",
       "  </thead>\n",
       "  <tbody>\n",
       "    <tr>\n",
       "      <th>29</th>\n",
       "      <td>220000</td>\n",
       "      <td>2014-11-01</td>\n",
       "      <td>2014-04-01</td>\n",
       "      <td>java software engineer</td>\n",
       "      <td>Gurgaon</td>\n",
       "      <td>m</td>\n",
       "      <td>1992-06-11</td>\n",
       "      <td>64.00</td>\n",
       "      <td>cbse</td>\n",
       "      <td>2010</td>\n",
       "      <td>74.00</td>\n",
       "      <td>cbse</td>\n",
       "      <td>2</td>\n",
       "      <td>B.Tech/B.E.</td>\n",
       "      <td>information technology</td>\n",
       "      <td>68.00</td>\n",
       "      <td>0</td>\n",
       "      <td>Haryana</td>\n",
       "      <td>2014.0</td>\n",
       "      <td>485</td>\n",
       "      <td>375</td>\n",
       "      <td>435</td>\n",
       "      <td>0.486747</td>\n",
       "      <td>345</td>\n",
       "      <td>-1</td>\n",
       "      <td>376</td>\n",
       "      <td>-1</td>\n",
       "      <td>-1</td>\n",
       "      <td>-1</td>\n",
       "      <td>-1</td>\n",
       "      <td>-3.1994</td>\n",
       "      <td>-1.8393</td>\n",
       "      <td>0.0552</td>\n",
       "      <td>0.06230</td>\n",
       "      <td>-0.7615</td>\n",
       "    </tr>\n",
       "    <tr>\n",
       "      <th>92</th>\n",
       "      <td>1500000</td>\n",
       "      <td>2014-11-01</td>\n",
       "      <td>2014-07-01</td>\n",
       "      <td>application developer</td>\n",
       "      <td>Hyderabad</td>\n",
       "      <td>m</td>\n",
       "      <td>1992-01-04</td>\n",
       "      <td>79.00</td>\n",
       "      <td>state board</td>\n",
       "      <td>2009</td>\n",
       "      <td>87.90</td>\n",
       "      <td>state board</td>\n",
       "      <td>2</td>\n",
       "      <td>B.Tech/B.E.</td>\n",
       "      <td>computer science &amp; engineering</td>\n",
       "      <td>66.00</td>\n",
       "      <td>1</td>\n",
       "      <td>Telangana</td>\n",
       "      <td>2013.0</td>\n",
       "      <td>315</td>\n",
       "      <td>435</td>\n",
       "      <td>355</td>\n",
       "      <td>0.356536</td>\n",
       "      <td>335</td>\n",
       "      <td>-1</td>\n",
       "      <td>346</td>\n",
       "      <td>-1</td>\n",
       "      <td>-1</td>\n",
       "      <td>-1</td>\n",
       "      <td>-1</td>\n",
       "      <td>0.4155</td>\n",
       "      <td>0.5454</td>\n",
       "      <td>0.9322</td>\n",
       "      <td>-0.61470</td>\n",
       "      <td>0.8637</td>\n",
       "    </tr>\n",
       "    <tr>\n",
       "      <th>148</th>\n",
       "      <td>105000</td>\n",
       "      <td>2014-11-01</td>\n",
       "      <td>2014-02-01</td>\n",
       "      <td>web developer</td>\n",
       "      <td>Hyderabad</td>\n",
       "      <td>m</td>\n",
       "      <td>1991-11-03</td>\n",
       "      <td>73.08</td>\n",
       "      <td>state board</td>\n",
       "      <td>2009</td>\n",
       "      <td>71.20</td>\n",
       "      <td>state board</td>\n",
       "      <td>2</td>\n",
       "      <td>B.Tech/B.E.</td>\n",
       "      <td>electronics and communication engineering</td>\n",
       "      <td>64.46</td>\n",
       "      <td>1</td>\n",
       "      <td>Telangana</td>\n",
       "      <td>2013.0</td>\n",
       "      <td>405</td>\n",
       "      <td>400</td>\n",
       "      <td>430</td>\n",
       "      <td>0.538387</td>\n",
       "      <td>385</td>\n",
       "      <td>333</td>\n",
       "      <td>-1</td>\n",
       "      <td>-1</td>\n",
       "      <td>-1</td>\n",
       "      <td>-1</td>\n",
       "      <td>-1</td>\n",
       "      <td>-0.7335</td>\n",
       "      <td>-0.9531</td>\n",
       "      <td>0.6248</td>\n",
       "      <td>0.27270</td>\n",
       "      <td>-1.8189</td>\n",
       "    </tr>\n",
       "    <tr>\n",
       "      <th>235</th>\n",
       "      <td>120000</td>\n",
       "      <td>2013-10-01</td>\n",
       "      <td>2013-07-01</td>\n",
       "      <td>web developer</td>\n",
       "      <td>Noida</td>\n",
       "      <td>f</td>\n",
       "      <td>1990-08-05</td>\n",
       "      <td>74.00</td>\n",
       "      <td>state board</td>\n",
       "      <td>2007</td>\n",
       "      <td>60.00</td>\n",
       "      <td>state board</td>\n",
       "      <td>2</td>\n",
       "      <td>B.Tech/B.E.</td>\n",
       "      <td>computer engineering</td>\n",
       "      <td>71.88</td>\n",
       "      <td>0</td>\n",
       "      <td>Uttar Pradesh</td>\n",
       "      <td>2012.0</td>\n",
       "      <td>415</td>\n",
       "      <td>535</td>\n",
       "      <td>485</td>\n",
       "      <td>0.450877</td>\n",
       "      <td>395</td>\n",
       "      <td>-1</td>\n",
       "      <td>-1</td>\n",
       "      <td>-1</td>\n",
       "      <td>-1</td>\n",
       "      <td>-1</td>\n",
       "      <td>-1</td>\n",
       "      <td>-0.5719</td>\n",
       "      <td>0.1888</td>\n",
       "      <td>0.2366</td>\n",
       "      <td>0.29730</td>\n",
       "      <td>-0.2875</td>\n",
       "    </tr>\n",
       "    <tr>\n",
       "      <th>264</th>\n",
       "      <td>325000</td>\n",
       "      <td>2014-12-01</td>\n",
       "      <td>2014-09-01</td>\n",
       "      <td>systems engineer</td>\n",
       "      <td>Mysore</td>\n",
       "      <td>f</td>\n",
       "      <td>1992-09-16</td>\n",
       "      <td>85.28</td>\n",
       "      <td>state board</td>\n",
       "      <td>2010</td>\n",
       "      <td>71.50</td>\n",
       "      <td>state board</td>\n",
       "      <td>2</td>\n",
       "      <td>B.Tech/B.E.</td>\n",
       "      <td>electronics &amp; telecommunications</td>\n",
       "      <td>74.98</td>\n",
       "      <td>0</td>\n",
       "      <td>Karnataka</td>\n",
       "      <td>2014.0</td>\n",
       "      <td>615</td>\n",
       "      <td>525</td>\n",
       "      <td>635</td>\n",
       "      <td>0.112139</td>\n",
       "      <td>335</td>\n",
       "      <td>228</td>\n",
       "      <td>-1</td>\n",
       "      <td>-1</td>\n",
       "      <td>-1</td>\n",
       "      <td>-1</td>\n",
       "      <td>-1</td>\n",
       "      <td>0.5591</td>\n",
       "      <td>-0.2871</td>\n",
       "      <td>0.0100</td>\n",
       "      <td>0.65300</td>\n",
       "      <td>-4.5015</td>\n",
       "    </tr>\n",
       "    <tr>\n",
       "      <th>451</th>\n",
       "      <td>170000</td>\n",
       "      <td>2014-12-01</td>\n",
       "      <td>2014-03-01</td>\n",
       "      <td>data analyst</td>\n",
       "      <td>hyderabad</td>\n",
       "      <td>m</td>\n",
       "      <td>1992-02-26</td>\n",
       "      <td>86.80</td>\n",
       "      <td>state board</td>\n",
       "      <td>2009</td>\n",
       "      <td>88.40</td>\n",
       "      <td>state board</td>\n",
       "      <td>2</td>\n",
       "      <td>B.Tech/B.E.</td>\n",
       "      <td>electronics and communication engineering</td>\n",
       "      <td>75.20</td>\n",
       "      <td>1</td>\n",
       "      <td>Telangana</td>\n",
       "      <td>2013.0</td>\n",
       "      <td>440</td>\n",
       "      <td>545</td>\n",
       "      <td>605</td>\n",
       "      <td>NaN</td>\n",
       "      <td>375</td>\n",
       "      <td>-1</td>\n",
       "      <td>-1</td>\n",
       "      <td>-1</td>\n",
       "      <td>-1</td>\n",
       "      <td>-1</td>\n",
       "      <td>-1</td>\n",
       "      <td>0.5591</td>\n",
       "      <td>-0.1206</td>\n",
       "      <td>1.0859</td>\n",
       "      <td>-0.86820</td>\n",
       "      <td>0.0973</td>\n",
       "    </tr>\n",
       "    <tr>\n",
       "      <th>591</th>\n",
       "      <td>240000</td>\n",
       "      <td>2014-10-01</td>\n",
       "      <td>2014-08-01</td>\n",
       "      <td>business development manager</td>\n",
       "      <td>Noida</td>\n",
       "      <td>f</td>\n",
       "      <td>1995-01-10</td>\n",
       "      <td>60.00</td>\n",
       "      <td>state board</td>\n",
       "      <td>2010</td>\n",
       "      <td>73.00</td>\n",
       "      <td>state board</td>\n",
       "      <td>2</td>\n",
       "      <td>B.Tech/B.E.</td>\n",
       "      <td>electronics and communication engineering</td>\n",
       "      <td>75.16</td>\n",
       "      <td>0</td>\n",
       "      <td>Uttar Pradesh</td>\n",
       "      <td>2014.0</td>\n",
       "      <td>450</td>\n",
       "      <td>555</td>\n",
       "      <td>500</td>\n",
       "      <td>NaN</td>\n",
       "      <td>-1</td>\n",
       "      <td>-1</td>\n",
       "      <td>-1</td>\n",
       "      <td>-1</td>\n",
       "      <td>-1</td>\n",
       "      <td>-1</td>\n",
       "      <td>-1</td>\n",
       "      <td>1.2772</td>\n",
       "      <td>-1.1196</td>\n",
       "      <td>0.0100</td>\n",
       "      <td>0.90660</td>\n",
       "      <td>0.4805</td>\n",
       "    </tr>\n",
       "    <tr>\n",
       "      <th>865</th>\n",
       "      <td>200000</td>\n",
       "      <td>2014-12-01</td>\n",
       "      <td>2014-04-01</td>\n",
       "      <td>qa analyst</td>\n",
       "      <td>Hyderabad</td>\n",
       "      <td>m</td>\n",
       "      <td>1992-11-06</td>\n",
       "      <td>92.83</td>\n",
       "      <td>state board</td>\n",
       "      <td>2010</td>\n",
       "      <td>91.90</td>\n",
       "      <td>state board</td>\n",
       "      <td>2</td>\n",
       "      <td>B.Tech/B.E.</td>\n",
       "      <td>information technology</td>\n",
       "      <td>78.15</td>\n",
       "      <td>0</td>\n",
       "      <td>Andhra Pradesh</td>\n",
       "      <td>2014.0</td>\n",
       "      <td>545</td>\n",
       "      <td>505</td>\n",
       "      <td>500</td>\n",
       "      <td>0.793581</td>\n",
       "      <td>495</td>\n",
       "      <td>-1</td>\n",
       "      <td>-1</td>\n",
       "      <td>-1</td>\n",
       "      <td>-1</td>\n",
       "      <td>-1</td>\n",
       "      <td>-1</td>\n",
       "      <td>1.8517</td>\n",
       "      <td>1.0449</td>\n",
       "      <td>1.8543</td>\n",
       "      <td>-2.13600</td>\n",
       "      <td>1.0554</td>\n",
       "    </tr>\n",
       "    <tr>\n",
       "      <th>888</th>\n",
       "      <td>110000</td>\n",
       "      <td>2014-10-01</td>\n",
       "      <td>2014-02-01</td>\n",
       "      <td>software engineer</td>\n",
       "      <td>Pune</td>\n",
       "      <td>m</td>\n",
       "      <td>1991-01-16</td>\n",
       "      <td>66.46</td>\n",
       "      <td>state board</td>\n",
       "      <td>2009</td>\n",
       "      <td>62.81</td>\n",
       "      <td>state board</td>\n",
       "      <td>2</td>\n",
       "      <td>B.Tech/B.E.</td>\n",
       "      <td>computer engineering</td>\n",
       "      <td>61.51</td>\n",
       "      <td>0</td>\n",
       "      <td>Maharashtra</td>\n",
       "      <td>2013.0</td>\n",
       "      <td>430</td>\n",
       "      <td>340</td>\n",
       "      <td>370</td>\n",
       "      <td>0.842248</td>\n",
       "      <td>515</td>\n",
       "      <td>-1</td>\n",
       "      <td>469</td>\n",
       "      <td>-1</td>\n",
       "      <td>-1</td>\n",
       "      <td>-1</td>\n",
       "      <td>-1</td>\n",
       "      <td>1.5644</td>\n",
       "      <td>-0.1206</td>\n",
       "      <td>0.0100</td>\n",
       "      <td>0.52620</td>\n",
       "      <td>0.6721</td>\n",
       "    </tr>\n",
       "    <tr>\n",
       "      <th>1005</th>\n",
       "      <td>180000</td>\n",
       "      <td>2014-11-01</td>\n",
       "      <td>2014-06-01</td>\n",
       "      <td>staffing recruiter</td>\n",
       "      <td>Noida</td>\n",
       "      <td>m</td>\n",
       "      <td>1992-08-20</td>\n",
       "      <td>79.00</td>\n",
       "      <td>icse</td>\n",
       "      <td>2010</td>\n",
       "      <td>78.00</td>\n",
       "      <td>icse</td>\n",
       "      <td>2</td>\n",
       "      <td>B.Tech/B.E.</td>\n",
       "      <td>electronics and communication engineering</td>\n",
       "      <td>73.00</td>\n",
       "      <td>0</td>\n",
       "      <td>Punjab</td>\n",
       "      <td>2014.0</td>\n",
       "      <td>485</td>\n",
       "      <td>610</td>\n",
       "      <td>575</td>\n",
       "      <td>0.493596</td>\n",
       "      <td>495</td>\n",
       "      <td>324</td>\n",
       "      <td>-1</td>\n",
       "      <td>-1</td>\n",
       "      <td>-1</td>\n",
       "      <td>-1</td>\n",
       "      <td>-1</td>\n",
       "      <td>-2.0262</td>\n",
       "      <td>0.3789</td>\n",
       "      <td>-1.2196</td>\n",
       "      <td>0.39950</td>\n",
       "      <td>0.6721</td>\n",
       "    </tr>\n",
       "    <tr>\n",
       "      <th>1355</th>\n",
       "      <td>150000</td>\n",
       "      <td>2014-12-01</td>\n",
       "      <td>2014-04-01</td>\n",
       "      <td>process executive</td>\n",
       "      <td>Pune</td>\n",
       "      <td>f</td>\n",
       "      <td>1991-01-16</td>\n",
       "      <td>63.00</td>\n",
       "      <td>icse</td>\n",
       "      <td>2009</td>\n",
       "      <td>60.00</td>\n",
       "      <td>cbse</td>\n",
       "      <td>2</td>\n",
       "      <td>B.Tech/B.E.</td>\n",
       "      <td>computer science &amp; engineering</td>\n",
       "      <td>59.85</td>\n",
       "      <td>0</td>\n",
       "      <td>Punjab</td>\n",
       "      <td>2013.0</td>\n",
       "      <td>570</td>\n",
       "      <td>410</td>\n",
       "      <td>310</td>\n",
       "      <td>0.563268</td>\n",
       "      <td>425</td>\n",
       "      <td>-1</td>\n",
       "      <td>-1</td>\n",
       "      <td>-1</td>\n",
       "      <td>-1</td>\n",
       "      <td>-1</td>\n",
       "      <td>-1</td>\n",
       "      <td>-2.6007</td>\n",
       "      <td>1.0449</td>\n",
       "      <td>0.1637</td>\n",
       "      <td>0.39950</td>\n",
       "      <td>-0.4776</td>\n",
       "    </tr>\n",
       "    <tr>\n",
       "      <th>1433</th>\n",
       "      <td>60000</td>\n",
       "      <td>2014-12-01</td>\n",
       "      <td>2014-06-01</td>\n",
       "      <td>.net web developer</td>\n",
       "      <td>NaN</td>\n",
       "      <td>m</td>\n",
       "      <td>1990-11-24</td>\n",
       "      <td>59.00</td>\n",
       "      <td>state board</td>\n",
       "      <td>2008</td>\n",
       "      <td>64.00</td>\n",
       "      <td>state board</td>\n",
       "      <td>2</td>\n",
       "      <td>MCA</td>\n",
       "      <td>computer application</td>\n",
       "      <td>84.00</td>\n",
       "      <td>0</td>\n",
       "      <td>Punjab</td>\n",
       "      <td>2014.0</td>\n",
       "      <td>395</td>\n",
       "      <td>510</td>\n",
       "      <td>250</td>\n",
       "      <td>0.356536</td>\n",
       "      <td>415</td>\n",
       "      <td>-1</td>\n",
       "      <td>346</td>\n",
       "      <td>-1</td>\n",
       "      <td>-1</td>\n",
       "      <td>-1</td>\n",
       "      <td>-1</td>\n",
       "      <td>-0.3027</td>\n",
       "      <td>-0.6201</td>\n",
       "      <td>0.1637</td>\n",
       "      <td>0.77980</td>\n",
       "      <td>-0.2859</td>\n",
       "    </tr>\n",
       "    <tr>\n",
       "      <th>1482</th>\n",
       "      <td>190000</td>\n",
       "      <td>2014-12-01</td>\n",
       "      <td>2014-02-01</td>\n",
       "      <td>software engineer trainee</td>\n",
       "      <td>NaN</td>\n",
       "      <td>m</td>\n",
       "      <td>1989-08-02</td>\n",
       "      <td>73.83</td>\n",
       "      <td>rbse</td>\n",
       "      <td>2008</td>\n",
       "      <td>72.31</td>\n",
       "      <td>rbse</td>\n",
       "      <td>2</td>\n",
       "      <td>MCA</td>\n",
       "      <td>computer application</td>\n",
       "      <td>73.00</td>\n",
       "      <td>1</td>\n",
       "      <td>Rajasthan</td>\n",
       "      <td>2014.0</td>\n",
       "      <td>560</td>\n",
       "      <td>540</td>\n",
       "      <td>545</td>\n",
       "      <td>0.744758</td>\n",
       "      <td>525</td>\n",
       "      <td>-1</td>\n",
       "      <td>438</td>\n",
       "      <td>-1</td>\n",
       "      <td>-1</td>\n",
       "      <td>-1</td>\n",
       "      <td>-1</td>\n",
       "      <td>1.5644</td>\n",
       "      <td>1.0449</td>\n",
       "      <td>0.4711</td>\n",
       "      <td>0.77980</td>\n",
       "      <td>1.2470</td>\n",
       "    </tr>\n",
       "    <tr>\n",
       "      <th>1522</th>\n",
       "      <td>105000</td>\n",
       "      <td>2014-10-01</td>\n",
       "      <td>2014-05-01</td>\n",
       "      <td>android developer</td>\n",
       "      <td>NaN</td>\n",
       "      <td>m</td>\n",
       "      <td>1988-11-29</td>\n",
       "      <td>63.00</td>\n",
       "      <td>icse</td>\n",
       "      <td>2008</td>\n",
       "      <td>55.00</td>\n",
       "      <td>state board</td>\n",
       "      <td>2</td>\n",
       "      <td>MCA</td>\n",
       "      <td>computer application</td>\n",
       "      <td>64.00</td>\n",
       "      <td>0</td>\n",
       "      <td>Punjab</td>\n",
       "      <td>2014.0</td>\n",
       "      <td>520</td>\n",
       "      <td>545</td>\n",
       "      <td>560</td>\n",
       "      <td>0.622643</td>\n",
       "      <td>445</td>\n",
       "      <td>-1</td>\n",
       "      <td>407</td>\n",
       "      <td>-1</td>\n",
       "      <td>-1</td>\n",
       "      <td>-1</td>\n",
       "      <td>-1</td>\n",
       "      <td>-0.1590</td>\n",
       "      <td>0.3789</td>\n",
       "      <td>0.4711</td>\n",
       "      <td>1.41360</td>\n",
       "      <td>-0.2859</td>\n",
       "    </tr>\n",
       "    <tr>\n",
       "      <th>1541</th>\n",
       "      <td>125000</td>\n",
       "      <td>2014-11-01</td>\n",
       "      <td>2014-07-01</td>\n",
       "      <td>sales executive</td>\n",
       "      <td>india</td>\n",
       "      <td>f</td>\n",
       "      <td>1993-05-04</td>\n",
       "      <td>62.00</td>\n",
       "      <td>cbse</td>\n",
       "      <td>2010</td>\n",
       "      <td>60.00</td>\n",
       "      <td>cbse</td>\n",
       "      <td>2</td>\n",
       "      <td>B.Tech/B.E.</td>\n",
       "      <td>computer science &amp; engineering</td>\n",
       "      <td>71.65</td>\n",
       "      <td>0</td>\n",
       "      <td>Haryana</td>\n",
       "      <td>2014.0</td>\n",
       "      <td>265</td>\n",
       "      <td>285</td>\n",
       "      <td>320</td>\n",
       "      <td>0.165633</td>\n",
       "      <td>305</td>\n",
       "      <td>-1</td>\n",
       "      <td>-1</td>\n",
       "      <td>-1</td>\n",
       "      <td>-1</td>\n",
       "      <td>-1</td>\n",
       "      <td>-1</td>\n",
       "      <td>-0.0154</td>\n",
       "      <td>-0.1206</td>\n",
       "      <td>-0.4511</td>\n",
       "      <td>-0.86820</td>\n",
       "      <td>0.0973</td>\n",
       "    </tr>\n",
       "    <tr>\n",
       "      <th>1591</th>\n",
       "      <td>120000</td>\n",
       "      <td>2013-11-01</td>\n",
       "      <td>2013-06-01</td>\n",
       "      <td>software developer</td>\n",
       "      <td>NaN</td>\n",
       "      <td>m</td>\n",
       "      <td>1991-04-14</td>\n",
       "      <td>83.80</td>\n",
       "      <td>cbse</td>\n",
       "      <td>2009</td>\n",
       "      <td>70.83</td>\n",
       "      <td>cbse</td>\n",
       "      <td>2</td>\n",
       "      <td>B.Tech/B.E.</td>\n",
       "      <td>computer engineering</td>\n",
       "      <td>70.00</td>\n",
       "      <td>0</td>\n",
       "      <td>Haryana</td>\n",
       "      <td>2013.0</td>\n",
       "      <td>570</td>\n",
       "      <td>630</td>\n",
       "      <td>635</td>\n",
       "      <td>0.864685</td>\n",
       "      <td>525</td>\n",
       "      <td>-1</td>\n",
       "      <td>-1</td>\n",
       "      <td>-1</td>\n",
       "      <td>-1</td>\n",
       "      <td>-1</td>\n",
       "      <td>-1</td>\n",
       "      <td>-0.1590</td>\n",
       "      <td>1.2114</td>\n",
       "      <td>1.2396</td>\n",
       "      <td>-0.61470</td>\n",
       "      <td>1.6302</td>\n",
       "    </tr>\n",
       "    <tr>\n",
       "      <th>1636</th>\n",
       "      <td>315000</td>\n",
       "      <td>2014-10-01</td>\n",
       "      <td>2014-06-01</td>\n",
       "      <td>system engineer</td>\n",
       "      <td>NaN</td>\n",
       "      <td>m</td>\n",
       "      <td>1992-01-16</td>\n",
       "      <td>94.20</td>\n",
       "      <td>cbse</td>\n",
       "      <td>2009</td>\n",
       "      <td>89.80</td>\n",
       "      <td>cbse</td>\n",
       "      <td>2</td>\n",
       "      <td>B.Tech/B.E.</td>\n",
       "      <td>electronics and electrical engineering</td>\n",
       "      <td>80.60</td>\n",
       "      <td>0</td>\n",
       "      <td>Jharkhand</td>\n",
       "      <td>2013.0</td>\n",
       "      <td>475</td>\n",
       "      <td>525</td>\n",
       "      <td>665</td>\n",
       "      <td>0.938399</td>\n",
       "      <td>345</td>\n",
       "      <td>-1</td>\n",
       "      <td>-1</td>\n",
       "      <td>-1</td>\n",
       "      <td>553</td>\n",
       "      <td>-1</td>\n",
       "      <td>-1</td>\n",
       "      <td>0.4155</td>\n",
       "      <td>0.3789</td>\n",
       "      <td>-0.6048</td>\n",
       "      <td>-0.74150</td>\n",
       "      <td>0.2889</td>\n",
       "    </tr>\n",
       "    <tr>\n",
       "      <th>1992</th>\n",
       "      <td>300000</td>\n",
       "      <td>2013-12-01</td>\n",
       "      <td>2013-04-01</td>\n",
       "      <td>java software engineer</td>\n",
       "      <td>Hyderabad</td>\n",
       "      <td>m</td>\n",
       "      <td>1991-10-20</td>\n",
       "      <td>89.00</td>\n",
       "      <td>state board</td>\n",
       "      <td>2009</td>\n",
       "      <td>92.50</td>\n",
       "      <td>state board</td>\n",
       "      <td>2</td>\n",
       "      <td>B.Tech/B.E.</td>\n",
       "      <td>computer science &amp; engineering</td>\n",
       "      <td>87.90</td>\n",
       "      <td>0</td>\n",
       "      <td>Andhra Pradesh</td>\n",
       "      <td>2013.0</td>\n",
       "      <td>485</td>\n",
       "      <td>525</td>\n",
       "      <td>665</td>\n",
       "      <td>0.670743</td>\n",
       "      <td>455</td>\n",
       "      <td>-1</td>\n",
       "      <td>-1</td>\n",
       "      <td>-1</td>\n",
       "      <td>-1</td>\n",
       "      <td>-1</td>\n",
       "      <td>-1</td>\n",
       "      <td>0.5591</td>\n",
       "      <td>1.3779</td>\n",
       "      <td>0.6248</td>\n",
       "      <td>-0.74150</td>\n",
       "      <td>-0.2859</td>\n",
       "    </tr>\n",
       "    <tr>\n",
       "      <th>2044</th>\n",
       "      <td>190000</td>\n",
       "      <td>2013-11-01</td>\n",
       "      <td>2013-06-01</td>\n",
       "      <td>technical support engineer</td>\n",
       "      <td>Chennai</td>\n",
       "      <td>m</td>\n",
       "      <td>1990-11-02</td>\n",
       "      <td>83.00</td>\n",
       "      <td>state board</td>\n",
       "      <td>2009</td>\n",
       "      <td>86.00</td>\n",
       "      <td>state board</td>\n",
       "      <td>2</td>\n",
       "      <td>B.Tech/B.E.</td>\n",
       "      <td>electronics and communication engineering</td>\n",
       "      <td>71.00</td>\n",
       "      <td>1</td>\n",
       "      <td>Tamil Nadu</td>\n",
       "      <td>2013.0</td>\n",
       "      <td>555</td>\n",
       "      <td>555</td>\n",
       "      <td>280</td>\n",
       "      <td>0.376060</td>\n",
       "      <td>425</td>\n",
       "      <td>300</td>\n",
       "      <td>-1</td>\n",
       "      <td>-1</td>\n",
       "      <td>-1</td>\n",
       "      <td>313</td>\n",
       "      <td>-1</td>\n",
       "      <td>-0.1590</td>\n",
       "      <td>0.8784</td>\n",
       "      <td>0.7785</td>\n",
       "      <td>0.14590</td>\n",
       "      <td>1.2470</td>\n",
       "    </tr>\n",
       "    <tr>\n",
       "      <th>2266</th>\n",
       "      <td>105000</td>\n",
       "      <td>2013-10-01</td>\n",
       "      <td>2013-07-01</td>\n",
       "      <td>electrical project engineer</td>\n",
       "      <td>Lucknow</td>\n",
       "      <td>f</td>\n",
       "      <td>1990-07-16</td>\n",
       "      <td>77.40</td>\n",
       "      <td>cbse</td>\n",
       "      <td>2008</td>\n",
       "      <td>68.80</td>\n",
       "      <td>cbse</td>\n",
       "      <td>2</td>\n",
       "      <td>B.Tech/B.E.</td>\n",
       "      <td>electronics and electrical engineering</td>\n",
       "      <td>75.16</td>\n",
       "      <td>0</td>\n",
       "      <td>Uttar Pradesh</td>\n",
       "      <td>2013.0</td>\n",
       "      <td>625</td>\n",
       "      <td>500</td>\n",
       "      <td>560</td>\n",
       "      <td>0.758380</td>\n",
       "      <td>-1</td>\n",
       "      <td>433</td>\n",
       "      <td>-1</td>\n",
       "      <td>-1</td>\n",
       "      <td>473</td>\n",
       "      <td>-1</td>\n",
       "      <td>-1</td>\n",
       "      <td>0.1282</td>\n",
       "      <td>-0.2871</td>\n",
       "      <td>1.2396</td>\n",
       "      <td>-0.36120</td>\n",
       "      <td>-0.8608</td>\n",
       "    </tr>\n",
       "    <tr>\n",
       "      <th>2319</th>\n",
       "      <td>140000</td>\n",
       "      <td>2013-10-01</td>\n",
       "      <td>2013-04-01</td>\n",
       "      <td>software engineer</td>\n",
       "      <td>Gurgaon</td>\n",
       "      <td>f</td>\n",
       "      <td>1990-08-11</td>\n",
       "      <td>78.80</td>\n",
       "      <td>cbse</td>\n",
       "      <td>2008</td>\n",
       "      <td>74.60</td>\n",
       "      <td>cbse</td>\n",
       "      <td>2</td>\n",
       "      <td>B.Tech/B.E.</td>\n",
       "      <td>electronics and communication engineering</td>\n",
       "      <td>72.20</td>\n",
       "      <td>1</td>\n",
       "      <td>Rajasthan</td>\n",
       "      <td>2012.0</td>\n",
       "      <td>710</td>\n",
       "      <td>555</td>\n",
       "      <td>680</td>\n",
       "      <td>0.493596</td>\n",
       "      <td>345</td>\n",
       "      <td>324</td>\n",
       "      <td>-1</td>\n",
       "      <td>-1</td>\n",
       "      <td>-1</td>\n",
       "      <td>-1</td>\n",
       "      <td>-1</td>\n",
       "      <td>0.4155</td>\n",
       "      <td>0.0459</td>\n",
       "      <td>-0.7585</td>\n",
       "      <td>2.04750</td>\n",
       "      <td>0.2889</td>\n",
       "    </tr>\n",
       "    <tr>\n",
       "      <th>2349</th>\n",
       "      <td>75000</td>\n",
       "      <td>2014-11-01</td>\n",
       "      <td>2014-06-01</td>\n",
       "      <td>android developer</td>\n",
       "      <td>NaN</td>\n",
       "      <td>m</td>\n",
       "      <td>1990-04-07</td>\n",
       "      <td>74.16</td>\n",
       "      <td>state board</td>\n",
       "      <td>2008</td>\n",
       "      <td>66.00</td>\n",
       "      <td>state board</td>\n",
       "      <td>2</td>\n",
       "      <td>B.Tech/B.E.</td>\n",
       "      <td>computer science &amp; engineering</td>\n",
       "      <td>74.64</td>\n",
       "      <td>0</td>\n",
       "      <td>Uttar Pradesh</td>\n",
       "      <td>2014.0</td>\n",
       "      <td>500</td>\n",
       "      <td>570</td>\n",
       "      <td>465</td>\n",
       "      <td>0.744758</td>\n",
       "      <td>335</td>\n",
       "      <td>-1</td>\n",
       "      <td>438</td>\n",
       "      <td>-1</td>\n",
       "      <td>-1</td>\n",
       "      <td>-1</td>\n",
       "      <td>-1</td>\n",
       "      <td>1.2772</td>\n",
       "      <td>0.2124</td>\n",
       "      <td>0.3174</td>\n",
       "      <td>-1.37530</td>\n",
       "      <td>0.6721</td>\n",
       "    </tr>\n",
       "    <tr>\n",
       "      <th>2407</th>\n",
       "      <td>210000</td>\n",
       "      <td>2013-12-01</td>\n",
       "      <td>2013-08-01</td>\n",
       "      <td>application developer</td>\n",
       "      <td>Chennai</td>\n",
       "      <td>m</td>\n",
       "      <td>1992-02-14</td>\n",
       "      <td>89.39</td>\n",
       "      <td>state board</td>\n",
       "      <td>2009</td>\n",
       "      <td>94.17</td>\n",
       "      <td>state board</td>\n",
       "      <td>2</td>\n",
       "      <td>B.Tech/B.E.</td>\n",
       "      <td>electronics and electrical engineering</td>\n",
       "      <td>75.46</td>\n",
       "      <td>0</td>\n",
       "      <td>Tamil Nadu</td>\n",
       "      <td>2013.0</td>\n",
       "      <td>500</td>\n",
       "      <td>645</td>\n",
       "      <td>665</td>\n",
       "      <td>0.661834</td>\n",
       "      <td>515</td>\n",
       "      <td>-1</td>\n",
       "      <td>-1</td>\n",
       "      <td>-1</td>\n",
       "      <td>446</td>\n",
       "      <td>-1</td>\n",
       "      <td>-1</td>\n",
       "      <td>-0.7335</td>\n",
       "      <td>0.2124</td>\n",
       "      <td>0.0100</td>\n",
       "      <td>-0.36120</td>\n",
       "      <td>0.2889</td>\n",
       "    </tr>\n",
       "    <tr>\n",
       "      <th>2414</th>\n",
       "      <td>220000</td>\n",
       "      <td>2013-11-01</td>\n",
       "      <td>2013-07-01</td>\n",
       "      <td>technical support engineer</td>\n",
       "      <td>Noida</td>\n",
       "      <td>m</td>\n",
       "      <td>1992-07-01</td>\n",
       "      <td>85.00</td>\n",
       "      <td>cbse</td>\n",
       "      <td>2009</td>\n",
       "      <td>72.00</td>\n",
       "      <td>cbse</td>\n",
       "      <td>2</td>\n",
       "      <td>B.Tech/B.E.</td>\n",
       "      <td>electronics and communication engineering</td>\n",
       "      <td>69.80</td>\n",
       "      <td>0</td>\n",
       "      <td>Uttar Pradesh</td>\n",
       "      <td>2013.0</td>\n",
       "      <td>745</td>\n",
       "      <td>650</td>\n",
       "      <td>655</td>\n",
       "      <td>NaN</td>\n",
       "      <td>445</td>\n",
       "      <td>-1</td>\n",
       "      <td>-1</td>\n",
       "      <td>-1</td>\n",
       "      <td>-1</td>\n",
       "      <td>-1</td>\n",
       "      <td>-1</td>\n",
       "      <td>1.7081</td>\n",
       "      <td>1.5444</td>\n",
       "      <td>0.9322</td>\n",
       "      <td>-2.26270</td>\n",
       "      <td>0.6721</td>\n",
       "    </tr>\n",
       "    <tr>\n",
       "      <th>2805</th>\n",
       "      <td>240000</td>\n",
       "      <td>2014-10-01</td>\n",
       "      <td>2014-04-01</td>\n",
       "      <td>senior software engineer</td>\n",
       "      <td>Noida</td>\n",
       "      <td>m</td>\n",
       "      <td>1992-05-04</td>\n",
       "      <td>78.80</td>\n",
       "      <td>cbse</td>\n",
       "      <td>2009</td>\n",
       "      <td>67.00</td>\n",
       "      <td>cbse</td>\n",
       "      <td>2</td>\n",
       "      <td>B.Tech/B.E.</td>\n",
       "      <td>information technology</td>\n",
       "      <td>71.00</td>\n",
       "      <td>0</td>\n",
       "      <td>Uttar Pradesh</td>\n",
       "      <td>2014.0</td>\n",
       "      <td>465</td>\n",
       "      <td>440</td>\n",
       "      <td>520</td>\n",
       "      <td>0.144790</td>\n",
       "      <td>495</td>\n",
       "      <td>-1</td>\n",
       "      <td>284</td>\n",
       "      <td>-1</td>\n",
       "      <td>-1</td>\n",
       "      <td>-1</td>\n",
       "      <td>-1</td>\n",
       "      <td>-1.0208</td>\n",
       "      <td>-0.4536</td>\n",
       "      <td>-0.4511</td>\n",
       "      <td>-0.36120</td>\n",
       "      <td>1.2470</td>\n",
       "    </tr>\n",
       "    <tr>\n",
       "      <th>2889</th>\n",
       "      <td>240000</td>\n",
       "      <td>2014-12-01</td>\n",
       "      <td>2014-05-01</td>\n",
       "      <td>test engineer</td>\n",
       "      <td>NaN</td>\n",
       "      <td>m</td>\n",
       "      <td>1991-08-11</td>\n",
       "      <td>71.00</td>\n",
       "      <td>state board</td>\n",
       "      <td>2009</td>\n",
       "      <td>63.00</td>\n",
       "      <td>cbse</td>\n",
       "      <td>2</td>\n",
       "      <td>B.Tech/B.E.</td>\n",
       "      <td>electronics and communication engineering</td>\n",
       "      <td>68.00</td>\n",
       "      <td>0</td>\n",
       "      <td>Rajasthan</td>\n",
       "      <td>2013.0</td>\n",
       "      <td>545</td>\n",
       "      <td>460</td>\n",
       "      <td>525</td>\n",
       "      <td>0.338786</td>\n",
       "      <td>485</td>\n",
       "      <td>292</td>\n",
       "      <td>-1</td>\n",
       "      <td>-1</td>\n",
       "      <td>-1</td>\n",
       "      <td>-1</td>\n",
       "      <td>-1</td>\n",
       "      <td>-0.3027</td>\n",
       "      <td>0.7119</td>\n",
       "      <td>0.0100</td>\n",
       "      <td>-0.99500</td>\n",
       "      <td>-0.4776</td>\n",
       "    </tr>\n",
       "    <tr>\n",
       "      <th>2946</th>\n",
       "      <td>120000</td>\n",
       "      <td>2014-12-01</td>\n",
       "      <td>2014-08-01</td>\n",
       "      <td>service engineer</td>\n",
       "      <td>Bangalore</td>\n",
       "      <td>m</td>\n",
       "      <td>1993-05-03</td>\n",
       "      <td>75.00</td>\n",
       "      <td>state board</td>\n",
       "      <td>2010</td>\n",
       "      <td>60.40</td>\n",
       "      <td>state board</td>\n",
       "      <td>2</td>\n",
       "      <td>B.Tech/B.E.</td>\n",
       "      <td>electrical engineering</td>\n",
       "      <td>72.00</td>\n",
       "      <td>1</td>\n",
       "      <td>West Bengal</td>\n",
       "      <td>2014.0</td>\n",
       "      <td>350</td>\n",
       "      <td>445</td>\n",
       "      <td>510</td>\n",
       "      <td>0.557390</td>\n",
       "      <td>-1</td>\n",
       "      <td>324</td>\n",
       "      <td>-1</td>\n",
       "      <td>-1</td>\n",
       "      <td>420</td>\n",
       "      <td>-1</td>\n",
       "      <td>-1</td>\n",
       "      <td>-0.5116</td>\n",
       "      <td>-1.6191</td>\n",
       "      <td>-0.7585</td>\n",
       "      <td>-0.10760</td>\n",
       "      <td>-0.2511</td>\n",
       "    </tr>\n",
       "    <tr>\n",
       "      <th>2977</th>\n",
       "      <td>120000</td>\n",
       "      <td>2013-12-01</td>\n",
       "      <td>2013-05-01</td>\n",
       "      <td>technical support engineer</td>\n",
       "      <td>Noida</td>\n",
       "      <td>m</td>\n",
       "      <td>1989-08-17</td>\n",
       "      <td>58.33</td>\n",
       "      <td>up</td>\n",
       "      <td>2007</td>\n",
       "      <td>73.33</td>\n",
       "      <td>up</td>\n",
       "      <td>2</td>\n",
       "      <td>B.Tech/B.E.</td>\n",
       "      <td>computer science &amp; engineering</td>\n",
       "      <td>71.97</td>\n",
       "      <td>0</td>\n",
       "      <td>Uttar Pradesh</td>\n",
       "      <td>2012.0</td>\n",
       "      <td>395</td>\n",
       "      <td>325</td>\n",
       "      <td>585</td>\n",
       "      <td>0.744758</td>\n",
       "      <td>395</td>\n",
       "      <td>-1</td>\n",
       "      <td>438</td>\n",
       "      <td>-1</td>\n",
       "      <td>-1</td>\n",
       "      <td>-1</td>\n",
       "      <td>-1</td>\n",
       "      <td>0.8192</td>\n",
       "      <td>0.5008</td>\n",
       "      <td>0.2366</td>\n",
       "      <td>-0.05527</td>\n",
       "      <td>0.6603</td>\n",
       "    </tr>\n",
       "    <tr>\n",
       "      <th>3094</th>\n",
       "      <td>900000</td>\n",
       "      <td>2014-12-01</td>\n",
       "      <td>2014-04-01</td>\n",
       "      <td>automation engineer</td>\n",
       "      <td>Delhi</td>\n",
       "      <td>m</td>\n",
       "      <td>1988-12-16</td>\n",
       "      <td>83.67</td>\n",
       "      <td>cbse</td>\n",
       "      <td>2006</td>\n",
       "      <td>73.67</td>\n",
       "      <td>cbse</td>\n",
       "      <td>2</td>\n",
       "      <td>B.Tech/B.E.</td>\n",
       "      <td>electronics and communication engineering</td>\n",
       "      <td>72.70</td>\n",
       "      <td>0</td>\n",
       "      <td>Meghalaya</td>\n",
       "      <td>2010.0</td>\n",
       "      <td>645</td>\n",
       "      <td>495</td>\n",
       "      <td>615</td>\n",
       "      <td>0.538387</td>\n",
       "      <td>375</td>\n",
       "      <td>333</td>\n",
       "      <td>-1</td>\n",
       "      <td>-1</td>\n",
       "      <td>-1</td>\n",
       "      <td>-1</td>\n",
       "      <td>-1</td>\n",
       "      <td>-0.2628</td>\n",
       "      <td>0.8128</td>\n",
       "      <td>1.3977</td>\n",
       "      <td>1.00240</td>\n",
       "      <td>1.1343</td>\n",
       "    </tr>\n",
       "    <tr>\n",
       "      <th>3095</th>\n",
       "      <td>100000</td>\n",
       "      <td>2012-10-01</td>\n",
       "      <td>2012-09-01</td>\n",
       "      <td>financial analyst</td>\n",
       "      <td>Pune</td>\n",
       "      <td>f</td>\n",
       "      <td>1991-09-30</td>\n",
       "      <td>82.60</td>\n",
       "      <td>cbse</td>\n",
       "      <td>2008</td>\n",
       "      <td>71.60</td>\n",
       "      <td>cbse</td>\n",
       "      <td>2</td>\n",
       "      <td>B.Tech/B.E.</td>\n",
       "      <td>chemical engineering</td>\n",
       "      <td>55.60</td>\n",
       "      <td>1</td>\n",
       "      <td>Maharashtra</td>\n",
       "      <td>2012.0</td>\n",
       "      <td>615</td>\n",
       "      <td>575</td>\n",
       "      <td>705</td>\n",
       "      <td>NaN</td>\n",
       "      <td>-1</td>\n",
       "      <td>-1</td>\n",
       "      <td>-1</td>\n",
       "      <td>-1</td>\n",
       "      <td>-1</td>\n",
       "      <td>-1</td>\n",
       "      <td>-1</td>\n",
       "      <td>0.9900</td>\n",
       "      <td>-0.6201</td>\n",
       "      <td>0.3174</td>\n",
       "      <td>1.54040</td>\n",
       "      <td>-0.8608</td>\n",
       "    </tr>\n",
       "    <tr>\n",
       "      <th>3109</th>\n",
       "      <td>310000</td>\n",
       "      <td>2014-11-01</td>\n",
       "      <td>2014-06-01</td>\n",
       "      <td>system engineer</td>\n",
       "      <td>Mysore</td>\n",
       "      <td>m</td>\n",
       "      <td>1992-01-09</td>\n",
       "      <td>69.00</td>\n",
       "      <td>cbse</td>\n",
       "      <td>2010</td>\n",
       "      <td>69.00</td>\n",
       "      <td>cbse</td>\n",
       "      <td>2</td>\n",
       "      <td>B.Tech/B.E.</td>\n",
       "      <td>electronics and electrical engineering</td>\n",
       "      <td>71.00</td>\n",
       "      <td>0</td>\n",
       "      <td>Tamil Nadu</td>\n",
       "      <td>2014.0</td>\n",
       "      <td>510</td>\n",
       "      <td>475</td>\n",
       "      <td>400</td>\n",
       "      <td>0.298769</td>\n",
       "      <td>465</td>\n",
       "      <td>-1</td>\n",
       "      <td>-1</td>\n",
       "      <td>-1</td>\n",
       "      <td>356</td>\n",
       "      <td>-1</td>\n",
       "      <td>-1</td>\n",
       "      <td>1.1336</td>\n",
       "      <td>1.0449</td>\n",
       "      <td>0.7785</td>\n",
       "      <td>-2.38950</td>\n",
       "      <td>-0.2859</td>\n",
       "    </tr>\n",
       "    <tr>\n",
       "      <th>3243</th>\n",
       "      <td>300000</td>\n",
       "      <td>2013-10-01</td>\n",
       "      <td>2013-08-01</td>\n",
       "      <td>business analyst</td>\n",
       "      <td>Gurgaon</td>\n",
       "      <td>m</td>\n",
       "      <td>1992-04-27</td>\n",
       "      <td>81.50</td>\n",
       "      <td>cbse</td>\n",
       "      <td>2009</td>\n",
       "      <td>85.00</td>\n",
       "      <td>cbse</td>\n",
       "      <td>1</td>\n",
       "      <td>B.Tech/B.E.</td>\n",
       "      <td>electronics and communication engineering</td>\n",
       "      <td>69.00</td>\n",
       "      <td>1</td>\n",
       "      <td>Delhi</td>\n",
       "      <td>2013.0</td>\n",
       "      <td>675</td>\n",
       "      <td>670</td>\n",
       "      <td>840</td>\n",
       "      <td>0.376060</td>\n",
       "      <td>415</td>\n",
       "      <td>300</td>\n",
       "      <td>-1</td>\n",
       "      <td>-1</td>\n",
       "      <td>-1</td>\n",
       "      <td>393</td>\n",
       "      <td>-1</td>\n",
       "      <td>-0.0154</td>\n",
       "      <td>0.8784</td>\n",
       "      <td>1.3933</td>\n",
       "      <td>0.39950</td>\n",
       "      <td>0.6721</td>\n",
       "    </tr>\n",
       "    <tr>\n",
       "      <th>3304</th>\n",
       "      <td>145000</td>\n",
       "      <td>2013-11-01</td>\n",
       "      <td>2013-06-01</td>\n",
       "      <td>sales engineer</td>\n",
       "      <td>Gurgaon</td>\n",
       "      <td>m</td>\n",
       "      <td>1991-08-21</td>\n",
       "      <td>66.50</td>\n",
       "      <td>state board</td>\n",
       "      <td>2008</td>\n",
       "      <td>66.40</td>\n",
       "      <td>state board</td>\n",
       "      <td>2</td>\n",
       "      <td>B.Tech/B.E.</td>\n",
       "      <td>electrical engineering</td>\n",
       "      <td>66.00</td>\n",
       "      <td>0</td>\n",
       "      <td>Uttar Pradesh</td>\n",
       "      <td>2013.0</td>\n",
       "      <td>500</td>\n",
       "      <td>560</td>\n",
       "      <td>560</td>\n",
       "      <td>0.376060</td>\n",
       "      <td>-1</td>\n",
       "      <td>300</td>\n",
       "      <td>-1</td>\n",
       "      <td>-1</td>\n",
       "      <td>-1</td>\n",
       "      <td>-1</td>\n",
       "      <td>-1</td>\n",
       "      <td>-0.5719</td>\n",
       "      <td>0.8351</td>\n",
       "      <td>0.2477</td>\n",
       "      <td>-0.64280</td>\n",
       "      <td>-0.4455</td>\n",
       "    </tr>\n",
       "    <tr>\n",
       "      <th>3384</th>\n",
       "      <td>120000</td>\n",
       "      <td>2014-10-01</td>\n",
       "      <td>2014-06-01</td>\n",
       "      <td>software developer</td>\n",
       "      <td>NaN</td>\n",
       "      <td>m</td>\n",
       "      <td>1991-11-11</td>\n",
       "      <td>76.00</td>\n",
       "      <td>cbse</td>\n",
       "      <td>2009</td>\n",
       "      <td>86.00</td>\n",
       "      <td>state board</td>\n",
       "      <td>2</td>\n",
       "      <td>B.Tech/B.E.</td>\n",
       "      <td>computer science &amp; engineering</td>\n",
       "      <td>72.00</td>\n",
       "      <td>1</td>\n",
       "      <td>Telangana</td>\n",
       "      <td>2013.0</td>\n",
       "      <td>510</td>\n",
       "      <td>400</td>\n",
       "      <td>440</td>\n",
       "      <td>0.018541</td>\n",
       "      <td>465</td>\n",
       "      <td>-1</td>\n",
       "      <td>192</td>\n",
       "      <td>-1</td>\n",
       "      <td>-1</td>\n",
       "      <td>-1</td>\n",
       "      <td>-1</td>\n",
       "      <td>-0.5899</td>\n",
       "      <td>-1.4526</td>\n",
       "      <td>2.0080</td>\n",
       "      <td>2.68140</td>\n",
       "      <td>1.2470</td>\n",
       "    </tr>\n",
       "    <tr>\n",
       "      <th>3391</th>\n",
       "      <td>270000</td>\n",
       "      <td>2014-10-01</td>\n",
       "      <td>2014-06-01</td>\n",
       "      <td>risk investigator</td>\n",
       "      <td>NaN</td>\n",
       "      <td>m</td>\n",
       "      <td>1992-12-27</td>\n",
       "      <td>82.00</td>\n",
       "      <td>state board</td>\n",
       "      <td>2010</td>\n",
       "      <td>88.00</td>\n",
       "      <td>state board</td>\n",
       "      <td>2</td>\n",
       "      <td>B.Tech/B.E.</td>\n",
       "      <td>electronics and communication engineering</td>\n",
       "      <td>75.02</td>\n",
       "      <td>1</td>\n",
       "      <td>Telangana</td>\n",
       "      <td>2014.0</td>\n",
       "      <td>660</td>\n",
       "      <td>470</td>\n",
       "      <td>355</td>\n",
       "      <td>0.207392</td>\n",
       "      <td>395</td>\n",
       "      <td>260</td>\n",
       "      <td>-1</td>\n",
       "      <td>-1</td>\n",
       "      <td>-1</td>\n",
       "      <td>-1</td>\n",
       "      <td>-1</td>\n",
       "      <td>1.4208</td>\n",
       "      <td>1.2114</td>\n",
       "      <td>0.3174</td>\n",
       "      <td>-0.99500</td>\n",
       "      <td>0.4805</td>\n",
       "    </tr>\n",
       "    <tr>\n",
       "      <th>3470</th>\n",
       "      <td>200000</td>\n",
       "      <td>2014-11-01</td>\n",
       "      <td>2014-07-01</td>\n",
       "      <td>sales coordinator</td>\n",
       "      <td>NaN</td>\n",
       "      <td>m</td>\n",
       "      <td>1992-04-04</td>\n",
       "      <td>79.60</td>\n",
       "      <td>cbse</td>\n",
       "      <td>2010</td>\n",
       "      <td>69.60</td>\n",
       "      <td>cbse</td>\n",
       "      <td>2</td>\n",
       "      <td>B.Tech/B.E.</td>\n",
       "      <td>electronics and communication engineering</td>\n",
       "      <td>72.52</td>\n",
       "      <td>0</td>\n",
       "      <td>Uttar Pradesh</td>\n",
       "      <td>2014.0</td>\n",
       "      <td>325</td>\n",
       "      <td>525</td>\n",
       "      <td>530</td>\n",
       "      <td>0.207392</td>\n",
       "      <td>425</td>\n",
       "      <td>260</td>\n",
       "      <td>-1</td>\n",
       "      <td>-1</td>\n",
       "      <td>-1</td>\n",
       "      <td>-1</td>\n",
       "      <td>-1</td>\n",
       "      <td>0.1282</td>\n",
       "      <td>1.3779</td>\n",
       "      <td>0.3174</td>\n",
       "      <td>0.27270</td>\n",
       "      <td>-0.2859</td>\n",
       "    </tr>\n",
       "    <tr>\n",
       "      <th>3593</th>\n",
       "      <td>200000</td>\n",
       "      <td>2014-11-01</td>\n",
       "      <td>2014-08-01</td>\n",
       "      <td>field business development associate</td>\n",
       "      <td>NaN</td>\n",
       "      <td>m</td>\n",
       "      <td>1992-12-02</td>\n",
       "      <td>70.00</td>\n",
       "      <td>cbse</td>\n",
       "      <td>2010</td>\n",
       "      <td>66.00</td>\n",
       "      <td>cbse</td>\n",
       "      <td>2</td>\n",
       "      <td>B.Tech/B.E.</td>\n",
       "      <td>electronics and communication engineering</td>\n",
       "      <td>60.00</td>\n",
       "      <td>0</td>\n",
       "      <td>Uttarakhand</td>\n",
       "      <td>2014.0</td>\n",
       "      <td>570</td>\n",
       "      <td>570</td>\n",
       "      <td>535</td>\n",
       "      <td>0.207392</td>\n",
       "      <td>405</td>\n",
       "      <td>260</td>\n",
       "      <td>-1</td>\n",
       "      <td>-1</td>\n",
       "      <td>-1</td>\n",
       "      <td>-1</td>\n",
       "      <td>-1</td>\n",
       "      <td>1.1336</td>\n",
       "      <td>1.5444</td>\n",
       "      <td>0.9322</td>\n",
       "      <td>-2.26270</td>\n",
       "      <td>0.4805</td>\n",
       "    </tr>\n",
       "    <tr>\n",
       "      <th>3634</th>\n",
       "      <td>165000</td>\n",
       "      <td>2014-12-01</td>\n",
       "      <td>2014-02-01</td>\n",
       "      <td>network engineer</td>\n",
       "      <td>Ahmedabad</td>\n",
       "      <td>m</td>\n",
       "      <td>1991-12-08</td>\n",
       "      <td>91.00</td>\n",
       "      <td>rajasthan board of secondary education</td>\n",
       "      <td>2008</td>\n",
       "      <td>83.00</td>\n",
       "      <td>rajasthan board of secondary education</td>\n",
       "      <td>2</td>\n",
       "      <td>B.Tech/B.E.</td>\n",
       "      <td>computer engineering</td>\n",
       "      <td>71.00</td>\n",
       "      <td>0</td>\n",
       "      <td>Rajasthan</td>\n",
       "      <td>2012.0</td>\n",
       "      <td>475</td>\n",
       "      <td>495</td>\n",
       "      <td>565</td>\n",
       "      <td>0.930371</td>\n",
       "      <td>565</td>\n",
       "      <td>-1</td>\n",
       "      <td>-1</td>\n",
       "      <td>-1</td>\n",
       "      <td>-1</td>\n",
       "      <td>-1</td>\n",
       "      <td>-1</td>\n",
       "      <td>1.1283</td>\n",
       "      <td>0.6568</td>\n",
       "      <td>-0.3440</td>\n",
       "      <td>-0.76030</td>\n",
       "      <td>-0.4455</td>\n",
       "    </tr>\n",
       "    <tr>\n",
       "      <th>3700</th>\n",
       "      <td>95000</td>\n",
       "      <td>2014-10-01</td>\n",
       "      <td>2014-08-01</td>\n",
       "      <td>ios developer</td>\n",
       "      <td>NaN</td>\n",
       "      <td>m</td>\n",
       "      <td>1992-09-04</td>\n",
       "      <td>60.20</td>\n",
       "      <td>cbse</td>\n",
       "      <td>2010</td>\n",
       "      <td>60.80</td>\n",
       "      <td>cbse</td>\n",
       "      <td>2</td>\n",
       "      <td>B.Tech/B.E.</td>\n",
       "      <td>computer science &amp; engineering</td>\n",
       "      <td>62.42</td>\n",
       "      <td>0</td>\n",
       "      <td>Uttar Pradesh</td>\n",
       "      <td>2014.0</td>\n",
       "      <td>485</td>\n",
       "      <td>405</td>\n",
       "      <td>345</td>\n",
       "      <td>0.144790</td>\n",
       "      <td>405</td>\n",
       "      <td>-1</td>\n",
       "      <td>284</td>\n",
       "      <td>-1</td>\n",
       "      <td>-1</td>\n",
       "      <td>-1</td>\n",
       "      <td>-1</td>\n",
       "      <td>1.1283</td>\n",
       "      <td>0.9688</td>\n",
       "      <td>0.9623</td>\n",
       "      <td>0.41483</td>\n",
       "      <td>0.0679</td>\n",
       "    </tr>\n",
       "    <tr>\n",
       "      <th>3911</th>\n",
       "      <td>180000</td>\n",
       "      <td>2013-11-01</td>\n",
       "      <td>2013-05-01</td>\n",
       "      <td>quality analyst</td>\n",
       "      <td>Ongole</td>\n",
       "      <td>m</td>\n",
       "      <td>1992-03-30</td>\n",
       "      <td>64.00</td>\n",
       "      <td>state board</td>\n",
       "      <td>2008</td>\n",
       "      <td>73.20</td>\n",
       "      <td>state board</td>\n",
       "      <td>2</td>\n",
       "      <td>B.Tech/B.E.</td>\n",
       "      <td>computer science &amp; engineering</td>\n",
       "      <td>72.00</td>\n",
       "      <td>1</td>\n",
       "      <td>Tamil Nadu</td>\n",
       "      <td>2014.0</td>\n",
       "      <td>505</td>\n",
       "      <td>450</td>\n",
       "      <td>435</td>\n",
       "      <td>0.413838</td>\n",
       "      <td>385</td>\n",
       "      <td>-1</td>\n",
       "      <td>-1</td>\n",
       "      <td>-1</td>\n",
       "      <td>-1</td>\n",
       "      <td>-1</td>\n",
       "      <td>-1</td>\n",
       "      <td>1.2772</td>\n",
       "      <td>1.0449</td>\n",
       "      <td>-0.1437</td>\n",
       "      <td>-1.37530</td>\n",
       "      <td>1.0554</td>\n",
       "    </tr>\n",
       "  </tbody>\n",
       "</table>\n",
       "</div>"
      ],
      "text/plain": [
       "       Salary        DOJ        DOL                           Designation  \\\n",
       "29     220000 2014-11-01 2014-04-01                java software engineer   \n",
       "92    1500000 2014-11-01 2014-07-01                 application developer   \n",
       "148    105000 2014-11-01 2014-02-01                         web developer   \n",
       "235    120000 2013-10-01 2013-07-01                         web developer   \n",
       "264    325000 2014-12-01 2014-09-01                      systems engineer   \n",
       "451    170000 2014-12-01 2014-03-01                          data analyst   \n",
       "591    240000 2014-10-01 2014-08-01          business development manager   \n",
       "865    200000 2014-12-01 2014-04-01                            qa analyst   \n",
       "888    110000 2014-10-01 2014-02-01                     software engineer   \n",
       "1005   180000 2014-11-01 2014-06-01                    staffing recruiter   \n",
       "1355   150000 2014-12-01 2014-04-01                     process executive   \n",
       "1433    60000 2014-12-01 2014-06-01                    .net web developer   \n",
       "1482   190000 2014-12-01 2014-02-01             software engineer trainee   \n",
       "1522   105000 2014-10-01 2014-05-01                     android developer   \n",
       "1541   125000 2014-11-01 2014-07-01                       sales executive   \n",
       "1591   120000 2013-11-01 2013-06-01                    software developer   \n",
       "1636   315000 2014-10-01 2014-06-01                       system engineer   \n",
       "1992   300000 2013-12-01 2013-04-01                java software engineer   \n",
       "2044   190000 2013-11-01 2013-06-01            technical support engineer   \n",
       "2266   105000 2013-10-01 2013-07-01           electrical project engineer   \n",
       "2319   140000 2013-10-01 2013-04-01                     software engineer   \n",
       "2349    75000 2014-11-01 2014-06-01                     android developer   \n",
       "2407   210000 2013-12-01 2013-08-01                 application developer   \n",
       "2414   220000 2013-11-01 2013-07-01            technical support engineer   \n",
       "2805   240000 2014-10-01 2014-04-01              senior software engineer   \n",
       "2889   240000 2014-12-01 2014-05-01                         test engineer   \n",
       "2946   120000 2014-12-01 2014-08-01                      service engineer   \n",
       "2977   120000 2013-12-01 2013-05-01            technical support engineer   \n",
       "3094   900000 2014-12-01 2014-04-01                   automation engineer   \n",
       "3095   100000 2012-10-01 2012-09-01                     financial analyst   \n",
       "3109   310000 2014-11-01 2014-06-01                       system engineer   \n",
       "3243   300000 2013-10-01 2013-08-01                      business analyst   \n",
       "3304   145000 2013-11-01 2013-06-01                        sales engineer   \n",
       "3384   120000 2014-10-01 2014-06-01                    software developer   \n",
       "3391   270000 2014-10-01 2014-06-01                     risk investigator   \n",
       "3470   200000 2014-11-01 2014-07-01                     sales coordinator   \n",
       "3593   200000 2014-11-01 2014-08-01  field business development associate   \n",
       "3634   165000 2014-12-01 2014-02-01                      network engineer   \n",
       "3700    95000 2014-10-01 2014-08-01                         ios developer   \n",
       "3911   180000 2013-11-01 2013-05-01                       quality analyst   \n",
       "\n",
       "        JobCity Gender        DOB  10percentage  \\\n",
       "29      Gurgaon      m 1992-06-11         64.00   \n",
       "92    Hyderabad      m 1992-01-04         79.00   \n",
       "148   Hyderabad      m 1991-11-03         73.08   \n",
       "235       Noida      f 1990-08-05         74.00   \n",
       "264     Mysore       f 1992-09-16         85.28   \n",
       "451   hyderabad      m 1992-02-26         86.80   \n",
       "591       Noida      f 1995-01-10         60.00   \n",
       "865   Hyderabad      m 1992-11-06         92.83   \n",
       "888        Pune      m 1991-01-16         66.46   \n",
       "1005      Noida      m 1992-08-20         79.00   \n",
       "1355       Pune      f 1991-01-16         63.00   \n",
       "1433        NaN      m 1990-11-24         59.00   \n",
       "1482        NaN      m 1989-08-02         73.83   \n",
       "1522        NaN      m 1988-11-29         63.00   \n",
       "1541      india      f 1993-05-04         62.00   \n",
       "1591        NaN      m 1991-04-14         83.80   \n",
       "1636        NaN      m 1992-01-16         94.20   \n",
       "1992  Hyderabad      m 1991-10-20         89.00   \n",
       "2044    Chennai      m 1990-11-02         83.00   \n",
       "2266    Lucknow      f 1990-07-16         77.40   \n",
       "2319    Gurgaon      f 1990-08-11         78.80   \n",
       "2349        NaN      m 1990-04-07         74.16   \n",
       "2407    Chennai      m 1992-02-14         89.39   \n",
       "2414      Noida      m 1992-07-01         85.00   \n",
       "2805      Noida      m 1992-05-04         78.80   \n",
       "2889        NaN      m 1991-08-11         71.00   \n",
       "2946  Bangalore      m 1993-05-03         75.00   \n",
       "2977      Noida      m 1989-08-17         58.33   \n",
       "3094      Delhi      m 1988-12-16         83.67   \n",
       "3095       Pune      f 1991-09-30         82.60   \n",
       "3109     Mysore      m 1992-01-09         69.00   \n",
       "3243    Gurgaon      m 1992-04-27         81.50   \n",
       "3304    Gurgaon      m 1991-08-21         66.50   \n",
       "3384        NaN      m 1991-11-11         76.00   \n",
       "3391        NaN      m 1992-12-27         82.00   \n",
       "3470        NaN      m 1992-04-04         79.60   \n",
       "3593        NaN      m 1992-12-02         70.00   \n",
       "3634  Ahmedabad      m 1991-12-08         91.00   \n",
       "3700        NaN      m 1992-09-04         60.20   \n",
       "3911     Ongole      m 1992-03-30         64.00   \n",
       "\n",
       "                                     10board  12graduation  12percentage  \\\n",
       "29                                      cbse          2010         74.00   \n",
       "92                               state board          2009         87.90   \n",
       "148                              state board          2009         71.20   \n",
       "235                              state board          2007         60.00   \n",
       "264                              state board          2010         71.50   \n",
       "451                              state board          2009         88.40   \n",
       "591                              state board          2010         73.00   \n",
       "865                              state board          2010         91.90   \n",
       "888                              state board          2009         62.81   \n",
       "1005                                    icse          2010         78.00   \n",
       "1355                                    icse          2009         60.00   \n",
       "1433                             state board          2008         64.00   \n",
       "1482                                    rbse          2008         72.31   \n",
       "1522                                    icse          2008         55.00   \n",
       "1541                                    cbse          2010         60.00   \n",
       "1591                                    cbse          2009         70.83   \n",
       "1636                                    cbse          2009         89.80   \n",
       "1992                             state board          2009         92.50   \n",
       "2044                             state board          2009         86.00   \n",
       "2266                                    cbse          2008         68.80   \n",
       "2319                                    cbse          2008         74.60   \n",
       "2349                             state board          2008         66.00   \n",
       "2407                             state board          2009         94.17   \n",
       "2414                                    cbse          2009         72.00   \n",
       "2805                                    cbse          2009         67.00   \n",
       "2889                             state board          2009         63.00   \n",
       "2946                             state board          2010         60.40   \n",
       "2977                                      up          2007         73.33   \n",
       "3094                                    cbse          2006         73.67   \n",
       "3095                                    cbse          2008         71.60   \n",
       "3109                                    cbse          2010         69.00   \n",
       "3243                                    cbse          2009         85.00   \n",
       "3304                             state board          2008         66.40   \n",
       "3384                                    cbse          2009         86.00   \n",
       "3391                             state board          2010         88.00   \n",
       "3470                                    cbse          2010         69.60   \n",
       "3593                                    cbse          2010         66.00   \n",
       "3634  rajasthan board of secondary education          2008         83.00   \n",
       "3700                                    cbse          2010         60.80   \n",
       "3911                             state board          2008         73.20   \n",
       "\n",
       "                                     12board  CollegeTier       Degree  \\\n",
       "29                                      cbse            2  B.Tech/B.E.   \n",
       "92                               state board            2  B.Tech/B.E.   \n",
       "148                              state board            2  B.Tech/B.E.   \n",
       "235                              state board            2  B.Tech/B.E.   \n",
       "264                              state board            2  B.Tech/B.E.   \n",
       "451                              state board            2  B.Tech/B.E.   \n",
       "591                              state board            2  B.Tech/B.E.   \n",
       "865                              state board            2  B.Tech/B.E.   \n",
       "888                              state board            2  B.Tech/B.E.   \n",
       "1005                                    icse            2  B.Tech/B.E.   \n",
       "1355                                    cbse            2  B.Tech/B.E.   \n",
       "1433                             state board            2          MCA   \n",
       "1482                                    rbse            2          MCA   \n",
       "1522                             state board            2          MCA   \n",
       "1541                                    cbse            2  B.Tech/B.E.   \n",
       "1591                                    cbse            2  B.Tech/B.E.   \n",
       "1636                                    cbse            2  B.Tech/B.E.   \n",
       "1992                             state board            2  B.Tech/B.E.   \n",
       "2044                             state board            2  B.Tech/B.E.   \n",
       "2266                                    cbse            2  B.Tech/B.E.   \n",
       "2319                                    cbse            2  B.Tech/B.E.   \n",
       "2349                             state board            2  B.Tech/B.E.   \n",
       "2407                             state board            2  B.Tech/B.E.   \n",
       "2414                                    cbse            2  B.Tech/B.E.   \n",
       "2805                                    cbse            2  B.Tech/B.E.   \n",
       "2889                                    cbse            2  B.Tech/B.E.   \n",
       "2946                             state board            2  B.Tech/B.E.   \n",
       "2977                                      up            2  B.Tech/B.E.   \n",
       "3094                                    cbse            2  B.Tech/B.E.   \n",
       "3095                                    cbse            2  B.Tech/B.E.   \n",
       "3109                                    cbse            2  B.Tech/B.E.   \n",
       "3243                                    cbse            1  B.Tech/B.E.   \n",
       "3304                             state board            2  B.Tech/B.E.   \n",
       "3384                             state board            2  B.Tech/B.E.   \n",
       "3391                             state board            2  B.Tech/B.E.   \n",
       "3470                                    cbse            2  B.Tech/B.E.   \n",
       "3593                                    cbse            2  B.Tech/B.E.   \n",
       "3634  rajasthan board of secondary education            2  B.Tech/B.E.   \n",
       "3700                                    cbse            2  B.Tech/B.E.   \n",
       "3911                             state board            2  B.Tech/B.E.   \n",
       "\n",
       "                                 Specialization  collegeGPA  CollegeCityTier  \\\n",
       "29                       information technology       68.00                0   \n",
       "92               computer science & engineering       66.00                1   \n",
       "148   electronics and communication engineering       64.46                1   \n",
       "235                        computer engineering       71.88                0   \n",
       "264            electronics & telecommunications       74.98                0   \n",
       "451   electronics and communication engineering       75.20                1   \n",
       "591   electronics and communication engineering       75.16                0   \n",
       "865                      information technology       78.15                0   \n",
       "888                        computer engineering       61.51                0   \n",
       "1005  electronics and communication engineering       73.00                0   \n",
       "1355             computer science & engineering       59.85                0   \n",
       "1433                       computer application       84.00                0   \n",
       "1482                       computer application       73.00                1   \n",
       "1522                       computer application       64.00                0   \n",
       "1541             computer science & engineering       71.65                0   \n",
       "1591                       computer engineering       70.00                0   \n",
       "1636     electronics and electrical engineering       80.60                0   \n",
       "1992             computer science & engineering       87.90                0   \n",
       "2044  electronics and communication engineering       71.00                1   \n",
       "2266     electronics and electrical engineering       75.16                0   \n",
       "2319  electronics and communication engineering       72.20                1   \n",
       "2349             computer science & engineering       74.64                0   \n",
       "2407     electronics and electrical engineering       75.46                0   \n",
       "2414  electronics and communication engineering       69.80                0   \n",
       "2805                     information technology       71.00                0   \n",
       "2889  electronics and communication engineering       68.00                0   \n",
       "2946                     electrical engineering       72.00                1   \n",
       "2977             computer science & engineering       71.97                0   \n",
       "3094  electronics and communication engineering       72.70                0   \n",
       "3095                       chemical engineering       55.60                1   \n",
       "3109     electronics and electrical engineering       71.00                0   \n",
       "3243  electronics and communication engineering       69.00                1   \n",
       "3304                     electrical engineering       66.00                0   \n",
       "3384             computer science & engineering       72.00                1   \n",
       "3391  electronics and communication engineering       75.02                1   \n",
       "3470  electronics and communication engineering       72.52                0   \n",
       "3593  electronics and communication engineering       60.00                0   \n",
       "3634                       computer engineering       71.00                0   \n",
       "3700             computer science & engineering       62.42                0   \n",
       "3911             computer science & engineering       72.00                1   \n",
       "\n",
       "        CollegeState  GraduationYear  English  Logical  Quant    Domain  \\\n",
       "29           Haryana          2014.0      485      375    435  0.486747   \n",
       "92         Telangana          2013.0      315      435    355  0.356536   \n",
       "148        Telangana          2013.0      405      400    430  0.538387   \n",
       "235    Uttar Pradesh          2012.0      415      535    485  0.450877   \n",
       "264        Karnataka          2014.0      615      525    635  0.112139   \n",
       "451        Telangana          2013.0      440      545    605       NaN   \n",
       "591    Uttar Pradesh          2014.0      450      555    500       NaN   \n",
       "865   Andhra Pradesh          2014.0      545      505    500  0.793581   \n",
       "888      Maharashtra          2013.0      430      340    370  0.842248   \n",
       "1005          Punjab          2014.0      485      610    575  0.493596   \n",
       "1355          Punjab          2013.0      570      410    310  0.563268   \n",
       "1433          Punjab          2014.0      395      510    250  0.356536   \n",
       "1482       Rajasthan          2014.0      560      540    545  0.744758   \n",
       "1522          Punjab          2014.0      520      545    560  0.622643   \n",
       "1541         Haryana          2014.0      265      285    320  0.165633   \n",
       "1591         Haryana          2013.0      570      630    635  0.864685   \n",
       "1636       Jharkhand          2013.0      475      525    665  0.938399   \n",
       "1992  Andhra Pradesh          2013.0      485      525    665  0.670743   \n",
       "2044      Tamil Nadu          2013.0      555      555    280  0.376060   \n",
       "2266   Uttar Pradesh          2013.0      625      500    560  0.758380   \n",
       "2319       Rajasthan          2012.0      710      555    680  0.493596   \n",
       "2349   Uttar Pradesh          2014.0      500      570    465  0.744758   \n",
       "2407      Tamil Nadu          2013.0      500      645    665  0.661834   \n",
       "2414   Uttar Pradesh          2013.0      745      650    655       NaN   \n",
       "2805   Uttar Pradesh          2014.0      465      440    520  0.144790   \n",
       "2889       Rajasthan          2013.0      545      460    525  0.338786   \n",
       "2946     West Bengal          2014.0      350      445    510  0.557390   \n",
       "2977   Uttar Pradesh          2012.0      395      325    585  0.744758   \n",
       "3094       Meghalaya          2010.0      645      495    615  0.538387   \n",
       "3095     Maharashtra          2012.0      615      575    705       NaN   \n",
       "3109      Tamil Nadu          2014.0      510      475    400  0.298769   \n",
       "3243           Delhi          2013.0      675      670    840  0.376060   \n",
       "3304   Uttar Pradesh          2013.0      500      560    560  0.376060   \n",
       "3384       Telangana          2013.0      510      400    440  0.018541   \n",
       "3391       Telangana          2014.0      660      470    355  0.207392   \n",
       "3470   Uttar Pradesh          2014.0      325      525    530  0.207392   \n",
       "3593     Uttarakhand          2014.0      570      570    535  0.207392   \n",
       "3634       Rajasthan          2012.0      475      495    565  0.930371   \n",
       "3700   Uttar Pradesh          2014.0      485      405    345  0.144790   \n",
       "3911      Tamil Nadu          2014.0      505      450    435  0.413838   \n",
       "\n",
       "      ComputerProgramming  ElectronicsAndSemicon  ComputerScience  \\\n",
       "29                    345                     -1              376   \n",
       "92                    335                     -1              346   \n",
       "148                   385                    333               -1   \n",
       "235                   395                     -1               -1   \n",
       "264                   335                    228               -1   \n",
       "451                   375                     -1               -1   \n",
       "591                    -1                     -1               -1   \n",
       "865                   495                     -1               -1   \n",
       "888                   515                     -1              469   \n",
       "1005                  495                    324               -1   \n",
       "1355                  425                     -1               -1   \n",
       "1433                  415                     -1              346   \n",
       "1482                  525                     -1              438   \n",
       "1522                  445                     -1              407   \n",
       "1541                  305                     -1               -1   \n",
       "1591                  525                     -1               -1   \n",
       "1636                  345                     -1               -1   \n",
       "1992                  455                     -1               -1   \n",
       "2044                  425                    300               -1   \n",
       "2266                   -1                    433               -1   \n",
       "2319                  345                    324               -1   \n",
       "2349                  335                     -1              438   \n",
       "2407                  515                     -1               -1   \n",
       "2414                  445                     -1               -1   \n",
       "2805                  495                     -1              284   \n",
       "2889                  485                    292               -1   \n",
       "2946                   -1                    324               -1   \n",
       "2977                  395                     -1              438   \n",
       "3094                  375                    333               -1   \n",
       "3095                   -1                     -1               -1   \n",
       "3109                  465                     -1               -1   \n",
       "3243                  415                    300               -1   \n",
       "3304                   -1                    300               -1   \n",
       "3384                  465                     -1              192   \n",
       "3391                  395                    260               -1   \n",
       "3470                  425                    260               -1   \n",
       "3593                  405                    260               -1   \n",
       "3634                  565                     -1               -1   \n",
       "3700                  405                     -1              284   \n",
       "3911                  385                     -1               -1   \n",
       "\n",
       "      MechanicalEngg  ElectricalEngg  TelecomEngg  CivilEngg  \\\n",
       "29                -1              -1           -1         -1   \n",
       "92                -1              -1           -1         -1   \n",
       "148               -1              -1           -1         -1   \n",
       "235               -1              -1           -1         -1   \n",
       "264               -1              -1           -1         -1   \n",
       "451               -1              -1           -1         -1   \n",
       "591               -1              -1           -1         -1   \n",
       "865               -1              -1           -1         -1   \n",
       "888               -1              -1           -1         -1   \n",
       "1005              -1              -1           -1         -1   \n",
       "1355              -1              -1           -1         -1   \n",
       "1433              -1              -1           -1         -1   \n",
       "1482              -1              -1           -1         -1   \n",
       "1522              -1              -1           -1         -1   \n",
       "1541              -1              -1           -1         -1   \n",
       "1591              -1              -1           -1         -1   \n",
       "1636              -1             553           -1         -1   \n",
       "1992              -1              -1           -1         -1   \n",
       "2044              -1              -1          313         -1   \n",
       "2266              -1             473           -1         -1   \n",
       "2319              -1              -1           -1         -1   \n",
       "2349              -1              -1           -1         -1   \n",
       "2407              -1             446           -1         -1   \n",
       "2414              -1              -1           -1         -1   \n",
       "2805              -1              -1           -1         -1   \n",
       "2889              -1              -1           -1         -1   \n",
       "2946              -1             420           -1         -1   \n",
       "2977              -1              -1           -1         -1   \n",
       "3094              -1              -1           -1         -1   \n",
       "3095              -1              -1           -1         -1   \n",
       "3109              -1             356           -1         -1   \n",
       "3243              -1              -1          393         -1   \n",
       "3304              -1              -1           -1         -1   \n",
       "3384              -1              -1           -1         -1   \n",
       "3391              -1              -1           -1         -1   \n",
       "3470              -1              -1           -1         -1   \n",
       "3593              -1              -1           -1         -1   \n",
       "3634              -1              -1           -1         -1   \n",
       "3700              -1              -1           -1         -1   \n",
       "3911              -1              -1           -1         -1   \n",
       "\n",
       "      conscientiousness  agreeableness  extraversion  nueroticism  \\\n",
       "29              -3.1994        -1.8393        0.0552      0.06230   \n",
       "92               0.4155         0.5454        0.9322     -0.61470   \n",
       "148             -0.7335        -0.9531        0.6248      0.27270   \n",
       "235             -0.5719         0.1888        0.2366      0.29730   \n",
       "264              0.5591        -0.2871        0.0100      0.65300   \n",
       "451              0.5591        -0.1206        1.0859     -0.86820   \n",
       "591              1.2772        -1.1196        0.0100      0.90660   \n",
       "865              1.8517         1.0449        1.8543     -2.13600   \n",
       "888              1.5644        -0.1206        0.0100      0.52620   \n",
       "1005            -2.0262         0.3789       -1.2196      0.39950   \n",
       "1355            -2.6007         1.0449        0.1637      0.39950   \n",
       "1433            -0.3027        -0.6201        0.1637      0.77980   \n",
       "1482             1.5644         1.0449        0.4711      0.77980   \n",
       "1522            -0.1590         0.3789        0.4711      1.41360   \n",
       "1541            -0.0154        -0.1206       -0.4511     -0.86820   \n",
       "1591            -0.1590         1.2114        1.2396     -0.61470   \n",
       "1636             0.4155         0.3789       -0.6048     -0.74150   \n",
       "1992             0.5591         1.3779        0.6248     -0.74150   \n",
       "2044            -0.1590         0.8784        0.7785      0.14590   \n",
       "2266             0.1282        -0.2871        1.2396     -0.36120   \n",
       "2319             0.4155         0.0459       -0.7585      2.04750   \n",
       "2349             1.2772         0.2124        0.3174     -1.37530   \n",
       "2407            -0.7335         0.2124        0.0100     -0.36120   \n",
       "2414             1.7081         1.5444        0.9322     -2.26270   \n",
       "2805            -1.0208        -0.4536       -0.4511     -0.36120   \n",
       "2889            -0.3027         0.7119        0.0100     -0.99500   \n",
       "2946            -0.5116        -1.6191       -0.7585     -0.10760   \n",
       "2977             0.8192         0.5008        0.2366     -0.05527   \n",
       "3094            -0.2628         0.8128        1.3977      1.00240   \n",
       "3095             0.9900        -0.6201        0.3174      1.54040   \n",
       "3109             1.1336         1.0449        0.7785     -2.38950   \n",
       "3243            -0.0154         0.8784        1.3933      0.39950   \n",
       "3304            -0.5719         0.8351        0.2477     -0.64280   \n",
       "3384            -0.5899        -1.4526        2.0080      2.68140   \n",
       "3391             1.4208         1.2114        0.3174     -0.99500   \n",
       "3470             0.1282         1.3779        0.3174      0.27270   \n",
       "3593             1.1336         1.5444        0.9322     -2.26270   \n",
       "3634             1.1283         0.6568       -0.3440     -0.76030   \n",
       "3700             1.1283         0.9688        0.9623      0.41483   \n",
       "3911             1.2772         1.0449       -0.1437     -1.37530   \n",
       "\n",
       "      openess_to_experience  \n",
       "29                  -0.7615  \n",
       "92                   0.8637  \n",
       "148                 -1.8189  \n",
       "235                 -0.2875  \n",
       "264                 -4.5015  \n",
       "451                  0.0973  \n",
       "591                  0.4805  \n",
       "865                  1.0554  \n",
       "888                  0.6721  \n",
       "1005                 0.6721  \n",
       "1355                -0.4776  \n",
       "1433                -0.2859  \n",
       "1482                 1.2470  \n",
       "1522                -0.2859  \n",
       "1541                 0.0973  \n",
       "1591                 1.6302  \n",
       "1636                 0.2889  \n",
       "1992                -0.2859  \n",
       "2044                 1.2470  \n",
       "2266                -0.8608  \n",
       "2319                 0.2889  \n",
       "2349                 0.6721  \n",
       "2407                 0.2889  \n",
       "2414                 0.6721  \n",
       "2805                 1.2470  \n",
       "2889                -0.4776  \n",
       "2946                -0.2511  \n",
       "2977                 0.6603  \n",
       "3094                 1.1343  \n",
       "3095                -0.8608  \n",
       "3109                -0.2859  \n",
       "3243                 0.6721  \n",
       "3304                -0.4455  \n",
       "3384                 1.2470  \n",
       "3391                 0.4805  \n",
       "3470                -0.2859  \n",
       "3593                 0.4805  \n",
       "3634                -0.4455  \n",
       "3700                 0.0679  \n",
       "3911                 1.0554  "
      ]
     },
     "execution_count": 14,
     "metadata": {},
     "output_type": "execute_result"
    }
   ],
   "source": [
    "df[df['DOL']<df['DOJ']]"
   ]
  },
  {
   "cell_type": "code",
   "execution_count": 15,
   "metadata": {},
   "outputs": [],
   "source": [
    "df.DOJ, df.DOL = np.where(df.DOJ > df.DOL,[df.DOL, df.DOJ], [df.DOJ,df.DOL])"
   ]
  },
  {
   "cell_type": "code",
   "execution_count": 16,
   "metadata": {},
   "outputs": [
    {
     "data": {
      "text/html": [
       "<div>\n",
       "<style scoped>\n",
       "    .dataframe tbody tr th:only-of-type {\n",
       "        vertical-align: middle;\n",
       "    }\n",
       "\n",
       "    .dataframe tbody tr th {\n",
       "        vertical-align: top;\n",
       "    }\n",
       "\n",
       "    .dataframe thead th {\n",
       "        text-align: right;\n",
       "    }\n",
       "</style>\n",
       "<table border=\"1\" class=\"dataframe\">\n",
       "  <thead>\n",
       "    <tr style=\"text-align: right;\">\n",
       "      <th></th>\n",
       "      <th>Salary</th>\n",
       "      <th>DOJ</th>\n",
       "      <th>DOL</th>\n",
       "      <th>Designation</th>\n",
       "      <th>JobCity</th>\n",
       "      <th>Gender</th>\n",
       "      <th>DOB</th>\n",
       "      <th>10percentage</th>\n",
       "      <th>10board</th>\n",
       "      <th>12graduation</th>\n",
       "      <th>12percentage</th>\n",
       "      <th>12board</th>\n",
       "      <th>CollegeTier</th>\n",
       "      <th>Degree</th>\n",
       "      <th>Specialization</th>\n",
       "      <th>collegeGPA</th>\n",
       "      <th>CollegeCityTier</th>\n",
       "      <th>CollegeState</th>\n",
       "      <th>GraduationYear</th>\n",
       "      <th>English</th>\n",
       "      <th>Logical</th>\n",
       "      <th>Quant</th>\n",
       "      <th>Domain</th>\n",
       "      <th>ComputerProgramming</th>\n",
       "      <th>ElectronicsAndSemicon</th>\n",
       "      <th>ComputerScience</th>\n",
       "      <th>MechanicalEngg</th>\n",
       "      <th>ElectricalEngg</th>\n",
       "      <th>TelecomEngg</th>\n",
       "      <th>CivilEngg</th>\n",
       "      <th>conscientiousness</th>\n",
       "      <th>agreeableness</th>\n",
       "      <th>extraversion</th>\n",
       "      <th>nueroticism</th>\n",
       "      <th>openess_to_experience</th>\n",
       "    </tr>\n",
       "  </thead>\n",
       "  <tbody>\n",
       "  </tbody>\n",
       "</table>\n",
       "</div>"
      ],
      "text/plain": [
       "Empty DataFrame\n",
       "Columns: [Salary, DOJ, DOL, Designation, JobCity, Gender, DOB, 10percentage, 10board, 12graduation, 12percentage, 12board, CollegeTier, Degree, Specialization, collegeGPA, CollegeCityTier, CollegeState, GraduationYear, English, Logical, Quant, Domain, ComputerProgramming, ElectronicsAndSemicon, ComputerScience, MechanicalEngg, ElectricalEngg, TelecomEngg, CivilEngg, conscientiousness, agreeableness, extraversion, nueroticism, openess_to_experience]\n",
       "Index: []"
      ]
     },
     "execution_count": 16,
     "metadata": {},
     "output_type": "execute_result"
    }
   ],
   "source": [
    "df[df['DOL']<df['DOJ']]"
   ]
  },
  {
   "cell_type": "code",
   "execution_count": 17,
   "metadata": {},
   "outputs": [],
   "source": [
    "df['Exp']= (df['DOL']-df['DOJ'])\n",
    "df['Exp'] = (df['Exp'] / np.timedelta64(1, 'D')).astype(int)"
   ]
  },
  {
   "cell_type": "code",
   "execution_count": 18,
   "metadata": {},
   "outputs": [],
   "source": [
    "df['Exp'] = round(df['Exp']/365.2425,1)"
   ]
  },
  {
   "cell_type": "code",
   "execution_count": 19,
   "metadata": {},
   "outputs": [],
   "source": [
    "#df = df.drop(df.index[[29,92,148,235,264,451,591,865,888,1005,1355,1433,1482,1522,1541,1591,1636,1992,2044,2266,2319,2349,2407,2414,2805,2889,2946,2977,3094,3095,3109,3243,3304,\n",
    "                          #3384,3391,3470,3593,3634,3700,3911]])   #DOJ is greater than DOL"
   ]
  },
  {
   "cell_type": "markdown",
   "metadata": {},
   "source": [
    "### Age:"
   ]
  },
  {
   "cell_type": "code",
   "execution_count": 20,
   "metadata": {},
   "outputs": [],
   "source": [
    "import datetime\n",
    "df['curr_date'] = datetime.datetime(2016,1,1)"
   ]
  },
  {
   "cell_type": "code",
   "execution_count": 21,
   "metadata": {},
   "outputs": [],
   "source": [
    "df['curr_date'] = pd.to_datetime(df['curr_date'])"
   ]
  },
  {
   "cell_type": "code",
   "execution_count": 22,
   "metadata": {},
   "outputs": [],
   "source": [
    "df['Age'] = df['curr_date'] - df['DOB']\n",
    "df['Age'] = (df['Age'] / np.timedelta64(1, 'D')).astype(int)"
   ]
  },
  {
   "cell_type": "code",
   "execution_count": 23,
   "metadata": {},
   "outputs": [],
   "source": [
    "df['Age'] = round(df['Age']/365.2425,0)"
   ]
  },
  {
   "cell_type": "markdown",
   "metadata": {},
   "source": [
    "### JobCity:"
   ]
  },
  {
   "cell_type": "code",
   "execution_count": 24,
   "metadata": {},
   "outputs": [
    {
     "data": {
      "text/plain": [
       "338"
      ]
     },
     "execution_count": 24,
     "metadata": {},
     "output_type": "execute_result"
    }
   ],
   "source": [
    "len(df['JobCity'].value_counts())"
   ]
  },
  {
   "cell_type": "code",
   "execution_count": 25,
   "metadata": {},
   "outputs": [],
   "source": [
    "df[\"JobCity\"]=df['JobCity'].str.upper()"
   ]
  },
  {
   "cell_type": "code",
   "execution_count": 26,
   "metadata": {},
   "outputs": [],
   "source": [
    "#df['JobCity'] = df[\"JobCity\"].replace({'AMBALA CITY':'AMBALA','A-64,SEC-64,NOIDA':'GREATER NOIDA','BANGALORE ':'BANGALORE','BENGALURU':'BANGALORE','BANGLORE':'BANGALORE','BANAGLORE':'BANGALORE','BANGLORE':'BANGALORE',\n",
    "#                                           'ASIFABADBANGLORE':'BANGALORE',' BANGALORE':'BANGALORE','BHOPAL ':'BHOPAL','BHUBANESHWAR':'BHUBANESWAR',\n",
    "#                                          'BHUBANESWAR ':'BHUBANESWAR','BHUBNESHWAR':'BHUBANESWAR','CHANDIGARH ':'CHANDIGARH','CHENNAI ':'CHENNAI','CHENNAI & MUMBAI':'CHENNAI',\n",
    "#                                          'CHENNAI, BANGALORE':'CHENNAI','DELHI/NCR':'DELHI','GAJIABAAD':'GHAZIABAAD','GAZIABAAD':'GHAZIABAAD','GHAZIABAD':'GHAZIABAAD','INDIRAPURAM, GHAZIABAD':'GHAZIABAAD','GANDHI NAGAR':'GANDHINAGAR',\n",
    "#                                         'GANDHINAGAR ':'GANDHINAGAR','GURGA':'GURGAON','GURGAON ':'GURGAON','GURAGAON':'GURGAON','GURGOAN':'GURGAON','HARYANA':'CHANDIGARH','HDERABAD':'HYDERABAD','HYDERABAD ':'HYDERABAD',\n",
    "#                                          'HYDERABAD(BHADURPALLY)':'HYDERABAD','JAIPUR ':'JAIPUR','KANPUR ':'KANPUR','KERAL':'THIRUVANANTHAPURAM','KOCHI/COCHIN':'KOCHI',\n",
    "#                                          'KOCHI/COCHIN, CHENNAI AND COIMBATORE':'KOCHI','KOLKATA ':'KOLKATA','KOLKATA`':'KOLKATA','LUCKNOW ':'LUCKNOW',\n",
    "#                                           'MADURAI ':'MADURAI','MUMBAI ':'MUMBAI','MYSORE ':'MYSORE','NAGPUR ':'NAGPUR','NASIKCITY':'NASHIK','NAVI MUMBAI':'MUMBAI',\n",
    "#                                           'NAVI MUMBAI , HYDERABAD':'MUMBAI','NCR':'DELHI','NEW DELHI':'DELHI','NEW DELHI ':'DELHI','NEW DEHLI':'DELHI',\n",
    "#                                          'NEW DELHI - JAISALMER':'NEW DELHI','NOIDA ':'NOIDA','ORISSA':'BHUBANESWAR','PANCHKULA ':'PANCHKULA','PUNCHKULA':'PANCHKULA','PONDI':'PONDICHERRY',\n",
    "#                                          'PONDY':'PONDICHERRY','PUNR':'PUNE','PUNE ':'PUNE','RANCHI ':'RANCHI','SILIGURI ':'SILIGURI','TRIVANDRUM ':'TRIVANDRUM',\n",
    "#                                          'VISAKHAPATNAM':'VIZAG','VSAKHAPTTNAM':'VIZAG',' MUMBAI':'MUMBAI',' PUNE':'PUNE',' DELHI':'DELHI',' CHENNAI':'CHENNAI','BANAGALORE':'BANGALORE','RAJASTHAN':'JAIPUR','TIRUPATHI':'TIRUPATI',\n",
    "#                                      'BIHAR':'PATNA','MUZAFFARPUR':'MUZZAFARPUR','SONIPAT':'SONEPAT'})"
   ]
  },
  {
   "cell_type": "code",
   "execution_count": 27,
   "metadata": {},
   "outputs": [
    {
     "data": {
      "text/plain": [
       "261"
      ]
     },
     "execution_count": 27,
     "metadata": {},
     "output_type": "execute_result"
    }
   ],
   "source": [
    "len(df['JobCity'].value_counts())"
   ]
  },
  {
   "cell_type": "code",
   "execution_count": 28,
   "metadata": {},
   "outputs": [],
   "source": [
    "df['JobRegion'] = df['JobCity'].replace({'BANGALORE':'South-South','INDORE':'North-South','CHENNAI':'South-East','GURGAON':'North-North',\n",
    "                                      'MANESAR':'North-North','HYDERABAD':'South-North','BANGLORE':'South-South','NOIDA':'North-North',\n",
    "                                      'KOLKATA':'East-East','PUNE':'West-West','MOHALI':'North-North','JHANSI':'North-South','DELHI':'North-North',\n",
    "                                      'HYDERABAD ':'South-North','BANGALORE ':'South-South','BHUBANESWAR':'East-East','NAVI MUMBAI':'West-West',\n",
    "                                      'MUMBAI':'West-West','NEW DELHI':'North-North','MANGALORE':'West-South','REWARI':'North-North',\n",
    "                                       'GAZIABAAD':'North-North','BHIWADI':'North-West','MYSORE':'South-South','RAJKOT':'West-West',\n",
    "                                       'GREATER NOIDA':'North-North','JAIPUR':'North-West','NOIDA ':'North-North','THANE':'West-West',\n",
    "                                       'MAHARAJGANJ':'North-East','THIRUVANANTHAPURAM':'West-South','PUNCHKULA':'North-North','BHUBANESHWAR':'East-East',\n",
    "                                       'PUNE ':'West-West','COIMBATORE':'West-South','DHANBAD':'East-North','LUCKNOW':'North-East','TRIVANDRUM':'West-South',\n",
    "                                       'GANDHI NAGAR':'West-North','UNA':'North-North','DAMAN AND DIU':'West-West','GURGOAN':'North-North',\n",
    "                                       'VSAKHAPTTNAM':'East-South','NAGPUR':'North-South','BHAGALPUR':'East-North','NEW DELHI - JAISALMER':'North-North',\n",
    "                                       'AHMEDABAD':'West-North','KOCHI/COCHIN':'West-South','BANKURA':'East-North','BENGALURU':'South-South',\n",
    "                                       'MYSORE ':'South-West','KANPUR ':'North-East','GURGAON ':'North-North','VIJAYAWADA':'East-South','KOCHI':'West-South',\n",
    "                                       'BEAWAR':'North-West','ALWAR':'North-North','SILIGURI ':'East-North','RAIPUR':'East-West','BHOPAL':'North-South',\n",
    "                                       'FARIDABAD':'North-North','JODHPUR':'West-North','UDAIPUR':'West-North','MUZAFFARPUR':'North-East','KOLKATA':'East-East',\n",
    "                                       'BULANDSHAHAR':'North-North','HARIDWAR':'North-East','RAIGARH':'East-West','VISAKHAPATNAM':'East-South',\n",
    "                                       'JABALPUR':'North-South','UNNAO':'North-East','AURANGABAD':'West-East','BELGAUM':'South-West','DEHRADUN':'North-North',\n",
    "                                       'RUDRAPUR':'North-North','JAMSHEDPUR':'East-North','VIZAG':'East-South','NOUDA':'North-North','DHARAMSHALA':'North-North',\n",
    "                                       'BANAGALORE':'South-South','HISSAR':'North-West','RANCHI':'East-North','MADURAI':'South-South','GURGA':'North-North',\n",
    "                                       'CHANDIGARH':'North-North','AUSTRALIA':'Out Of India',' CHENNAI':'East-South','CHEYYAR':'South-East','MUMBAI ':'West-West',\n",
    "                                       'SONEPAT':'North-North','GHAZIABAD':'North-North','PANTNAGAR':'North-East','SILIGURI':'East-North','JAGDALPUR':'South-East',\n",
    "                                       'CHENNAI ':'East-South','ANGUL':'East-North','BARODA':'West-North','ARIYALUR':'South-East','JOWAI':'North-East',\n",
    "                                       'KOCHI/COCHIN, CHENNAI AND COIMBATORE':'West-South','NEEMRANA':'North-West','TIRUPATHI':'South-East','LUCKNOW ':'North-East',\n",
    "                                       'AHMEDABAD ':'West-North','BHUBNESHWAR':'East-East','CALICUT':'West-South','GANDHINAGAR':'West-North','DUBAI':'Out Of India',\n",
    "                                       'AHMEDNAGAR':'South-West','NASHIK':'West-East','BELLARY':'South-South','LUDHIANA':'North-West','NEW DELHI ':'North-North',\n",
    "                                       'MUZAFFARNAGAR':'North-East','GAGRET':'North-North','INDIRAPURAM, GHAZIABAD':'North-North','GWALIOR':'North-North',\n",
    "                                       'KANPUR':'North-East','HOSPETE':'South-South','MIRYALAGUDA':'South-East',' MUMBAI':'West-West','DHARUHERA':'North-North',\n",
    "                                       'MEERUT':'North-East','GANJAM':'East-South','HUBLI':'South-West','NCR':'North-North','AGRA':'North-North','TRICHY':'South-East',\n",
    "                                       'KUDANKULAM ,TARAPUR':'West-West','ONGOLE':'East-South','SAMBALPUR':'South-East','PONDICHERRY':'East-South','BUNDI':'North-West',\n",
    "                                       'SADULPUR,RAJGARH,DISTT-CHURU,RAJASTHAN':'North-West','AM':'West-East','BIKANER':'West-North','VADODARA':'West-West',\n",
    "                                       'INDIA':'North-North','ASANSOL':'East-West','TIRUNELVELLI':'South-South','ERNAKULAM':'South-West','BILASPUR':'South-East',\n",
    "                                       'CHANDRAPUR':'South-North','NANDED':'South-North','DHARMAPURI':'South-East','VANDAVASI':'East-South','ROHTAK':'North-West',\n",
    "                                       'NAGPUR ':'South-North','PATNA':'East-North','SALEM':'South-East','NASIKCITY':'South-West','GANDHINAGAR ':'West-West',\n",
    "                                       'TECHNOPARK, TRIVANDRUM':'South-West','BHARUCH':'West-West','TORNAGALLU':'South-South','KOLKATA ':'East-East','JASPUR':'East-West',\n",
    "                                       'BURDWAN':'East-East','BHUBANESWAR ':'East-East','SHIMLA':'North-North','GAJIABAAD':'North-North','JAMMU':'North-West',\n",
    "                                       'SHAHDOL':'East-West','MUVATTUPUZHA':'South-West','AL JUBAIL,SAUDI ARABIA':'Out Of India','KALMAR, SWEDEN':'Out Of India',\n",
    "                                       'SECUNDERABAD':'South-North','A-64,SEC-64,NOIDA':'North-North','RATNAGIRI':'West-West','JHAJJAR':'North-West','GULBARGA':'South-West',\n",
    "                                       'HYDERABAD(BHADURPALLY)':'South-North','NALAGARH':'North-West','CHANDIGARH ':'North-North','JAIPUR ':'West-North',\n",
    "                                       'JEDDAH SAUDI ARABIA':'Out Of India',' DELHI':'North-North','CHENNAI, BANGALORE':'East-South','BHOPAL ':'North-South',\n",
    "                                       'JAMNAGAR':'West-West','TIRUPATI':'East-West','GONDA':'North-East','ORISSA':'East-East','KHARAGPUR':'East-East',\n",
    "                                       'TRIVANDRUM ':'South-West','NAVI MUMBAI , HYDERABAD':'West-West','JOSHIMATH':'North-East','BATHINDA':'West-North',\n",
    "                                       'JOHANNESBURG':'Out Of India','KALA AMB ':'North-North','KARNAL':'West-East','LONDON':'Out Of India','KOTA':'West-East',\n",
    "                                       'PANCHKULA':'North-North','BADDI HP':'North-North','NAGARI':'South-East','METTUR, TAMIL NADU ':'South-South','DURGAPUR':'East-East',\n",
    "                                       'PONDI':'West-South','SURAT':'West-West','KURNOOL':'South-East','KOLHAPUR':'West-South','MADURAI ':'South-South','BHILAI':'East-West',\n",
    "                                       ' PUNE':'West-West','HDERABAD':'South-North','BAHADURGARH':'North-North','RAYAGADA, ODISHA':'East-South','KAKINADA':'East-South',\n",
    "                                       'VARANASI':'East-West','PUNR':'West-West','NELLORE':'South-East','SAHIBABAD':'East-West','HOWRAH':'East-East','TRICHUR':'West-South',\n",
    "                                       'AMBALA':'West-East','KHOPOLI':'West-West','KERAL':'South-South','ROORKEE':'North-North','ALLAHABAD':'East-West','DELHI/NCR':'North-North',\n",
    "                                       'PANCHKULA ':'North-North','RANCHI ':'East-North','JALANDHAR':'West-North','VAPI':'West-West','PILANI':'West-East',\n",
    "                                       'MUZZAFARPUR':'East-West','RAS AL KHAIMAH':'Out Of India','BIHAR':'East-East','SINGARULI':'East-West','BANGLORE ':'South-South',\n",
    "                                       'PONDY':'East-South','PHAGWARA':'West-East',' BANGALORE':'South-South','GURAGAON':'North-North','BARIPADA':'East-East',\n",
    "                                       'YAMUNA NAGAR':'North-North','SHAHIBABAD':'North-North','SAMPLA':'North-North','GUWAHATI':'North-East','ROURKELA':'East-East',\n",
    "                                       'BANAGLORE':'South-South','VELLORE':'East-West','DAUSA':'West-North','LATUR (MAHARASHTRA )':'South-North','MAINPURI':'East-West',\n",
    "                                       'DAMMAM':'Out Of India','HALDIA':'East-East','PATIALA':'West-North','GORAKHPUR':'East-West','NEW DEHLI':'North-North',\n",
    "                                       'AMBALA CITY':'West-North','KARAD':'West-West','RAJPURA':'West-North','HARYANA':'West-North','ASIFABADBANGLORE':'South-South',\n",
    "                                       'SONIPAT':'West-North','BARELI':'West-East','CHENNAI & MUMBAI':'South-East','KOLKATA`':'East-East',' ARIYALUR':'South-South',\n",
    "                                       'RAJASTHAN':'West-West','RAE BARELI':'East-West'\n",
    "                                      })"
   ]
  },
  {
   "cell_type": "code",
   "execution_count": 29,
   "metadata": {},
   "outputs": [
    {
     "data": {
      "text/plain": [
       "North-North     990\n",
       "South-South     736\n",
       "West-West       505\n",
       "South-North     379\n",
       "South-East      326\n",
       "East-East       169\n",
       "North-West       69\n",
       "West-South       68\n",
       "North-East       68\n",
       "North-South      61\n",
       "West-North       44\n",
       "East-South       36\n",
       "East-West        21\n",
       "East-North       20\n",
       "West-East        17\n",
       "South-West       17\n",
       "Out Of India     11\n",
       "Name: JobRegion, dtype: int64"
      ]
     },
     "execution_count": 29,
     "metadata": {},
     "output_type": "execute_result"
    }
   ],
   "source": [
    "df['JobRegion'].value_counts()"
   ]
  },
  {
   "cell_type": "code",
   "execution_count": 30,
   "metadata": {},
   "outputs": [],
   "source": [
    "df.drop('JobCity',axis=1,inplace=True)"
   ]
  },
  {
   "cell_type": "markdown",
   "metadata": {},
   "source": [
    "### 10th Board:"
   ]
  },
  {
   "cell_type": "code",
   "execution_count": 31,
   "metadata": {},
   "outputs": [
    {
     "data": {
      "text/plain": [
       "cbse                                                                        1395\n",
       "state board                                                                 1164\n",
       "icse                                                                         281\n",
       "ssc                                                                          122\n",
       "up board                                                                      85\n",
       "matriculation                                                                 38\n",
       "rbse                                                                          23\n",
       "board of secondary education                                                  20\n",
       "up                                                                            19\n",
       "mp board                                                                      17\n",
       "sslc                                                                          16\n",
       "wbbse                                                                         16\n",
       "central board of secondary education                                          13\n",
       "kseeb                                                                         12\n",
       "upboard                                                                       11\n",
       "maharashtra state board                                                       11\n",
       "karnataka state board                                                         10\n",
       "state                                                                          9\n",
       "bseb                                                                           9\n",
       "maharashtra board                                                              8\n",
       "pseb                                                                           8\n",
       "uttar pradesh board                                                            7\n",
       "hbse                                                                           6\n",
       "rajasthan board                                                                6\n",
       "bse                                                                            6\n",
       "karnataka secondary education examination board                                6\n",
       "karnataka secondary education board                                            6\n",
       "gseb                                                                           5\n",
       "west bengal board of secondary education                                       5\n",
       "u p board                                                                      5\n",
       "mp                                                                             4\n",
       "uttar pradesh                                                                  4\n",
       "secondary school of education                                                  4\n",
       "matriculation board                                                            4\n",
       "bseb,patna                                                                     4\n",
       "stateboard                                                                     4\n",
       "matric                                                                         4\n",
       "uttarakhand board                                                              4\n",
       "bihar board                                                                    3\n",
       "hbsc                                                                           3\n",
       "bse,orissa                                                                     3\n",
       "maharashtra                                                                    3\n",
       "rajasthan board of secondary education                                         3\n",
       "anglo indian                                                                   3\n",
       "board of secondary education,ap                                                3\n",
       "tamilnadu state board                                                          2\n",
       "karnataka secondary education                                                  2\n",
       "bihar school examination board                                                 2\n",
       "jseb                                                                           2\n",
       "kerala state board                                                             2\n",
       "jkbose                                                                         2\n",
       "nagpur                                                                         2\n",
       "pune                                                                           2\n",
       "bseb, patna                                                                    2\n",
       "hsc                                                                            2\n",
       "karnataka state secondary education board                                      2\n",
       "mpboard                                                                        2\n",
       "sslc board                                                                     2\n",
       "karnataka board                                                                2\n",
       "kseb                                                                           2\n",
       "board of secondary education, andhra pradesh                                   2\n",
       "hse                                                                            2\n",
       "mp board bhopal                                                                2\n",
       "latur                                                                          2\n",
       "matric board                                                                   2\n",
       "cbse board                                                                     2\n",
       "karnataka                                                                      2\n",
       "board of secondary education,andhra pradesh                                    2\n",
       "board of school education harayana                                             2\n",
       "board of secondary education, rajasthan                                        2\n",
       "bse, odisha                                                                    2\n",
       "mpbse                                                                          2\n",
       "ksseb                                                                          1\n",
       "state board of secondary education, andhra pradesh                             1\n",
       "karnataka board of higher education                                            1\n",
       "himachal pradesh board of school education                                     1\n",
       "board of school education uttarakhand                                          1\n",
       "bharathi matriculation school                                                  1\n",
       "up board , allahabad                                                           1\n",
       "state(karnataka board)                                                         1\n",
       "hsce                                                                           1\n",
       "karnataka state examination board                                              1\n",
       "bseb ,patna                                                                    1\n",
       "secondary education board of rajasthan                                         1\n",
       "andhra pradesh board ssc                                                       1\n",
       "board of secondaray education                                                  1\n",
       "uttaranchal shiksha avam pariksha parishad                                     1\n",
       "dav public school,hehal                                                        1\n",
       "cbse[gulf zone]                                                                1\n",
       "little jacky matric higher secondary school                                    1\n",
       "kerala university                                                              1\n",
       "rbse (state board)                                                             1\n",
       "board of secondary education,odisha                                            1\n",
       "state boardmp board                                                            1\n",
       "jharkhand secondary examination board (ranchi)                                 1\n",
       "board of secondary school education                                            1\n",
       "state board (jac, ranchi)                                                      1\n",
       "aisse                                                                          1\n",
       "jharkhand acedemic council                                                     1\n",
       "bsc,orissa                                                                     1\n",
       "education board of kerala                                                      1\n",
       "kiran english medium high school                                               1\n",
       "bsemp                                                                          1\n",
       "dav public school sec 14                                                       1\n",
       "mp-bse                                                                         1\n",
       "delhi board                                                                    1\n",
       "maharashtra satate board                                                       1\n",
       "state board                                                                    1\n",
       "nashik board                                                                   1\n",
       "maharashtra state board of secondary and higher secondary education,pune       1\n",
       "sss pune                                                                       1\n",
       "state board of secondary education,andhra pradesh                              1\n",
       "gujarat state board                                                            1\n",
       "rajasthan board ajmer                                                          1\n",
       "ms board                                                                       1\n",
       "upbhsie                                                                        1\n",
       "bihar examination board, patna                                                 1\n",
       "board of school education haryana                                              1\n",
       "board of  secondary education                                                  1\n",
       "msbshse,pune                                                                   1\n",
       "karnataka state education examination board                                    1\n",
       "stmary's convent inter college                                                 1\n",
       "delhi public school                                                            1\n",
       "maharashtra state board of secondary and higher secondary education            1\n",
       "board of secondary education - andhra pradesh                                  1\n",
       "hse,board                                                                      1\n",
       "apsche                                                                         1\n",
       "ua                                                                             1\n",
       "kolhapur                                                                       1\n",
       "state board of secondary education, ap                                         1\n",
       "state borad hp                                                                 1\n",
       "board of secondary education (bse) orissa                                      1\n",
       "bseb patna                                                                     1\n",
       "kerala state technical education                                               1\n",
       "maharashtra state(latur board)                                                 1\n",
       "state bord                                                                     1\n",
       "board of ssc education andhra pradesh                                          1\n",
       "up board,allahabad                                                             1\n",
       "maharashtra nasik board                                                        1\n",
       "west bengal  board of secondary education                                      1\n",
       "sri kannika parameswari highier secondary school, udumalpet                    1\n",
       "maharashtra sate board                                                         1\n",
       "certificate of middle years program of ib                                      1\n",
       "pune board                                                                     1\n",
       "up-board                                                                       1\n",
       "sarada high scchool                                                            1\n",
       "cicse                                                                          1\n",
       "gsheb                                                                          1\n",
       "ssc board of andrapradesh                                                      1\n",
       "gujarat board                                                                  1\n",
       "cbse                                                                           1\n",
       "maharashtra state board of secondary & higher secondary education              1\n",
       "maharashtra state boar of secondary and higher secondary education             1\n",
       "tn state board                                                                 1\n",
       "up board allahabad                                                             1\n",
       "secondary school cerfificate                                                   1\n",
       "ap state board for secondary education                                         1\n",
       "board of secondary education rajasthan                                         1\n",
       "board of secondary education orissa                                            1\n",
       "up borad                                                                       1\n",
       "hse,orissa                                                                     1\n",
       "up(allahabad)                                                                  1\n",
       "up bord                                                                        1\n",
       "ssc-andhra pradesh                                                             1\n",
       "jharkhand academic council                                                     1\n",
       "board of intermediate education                                                1\n",
       "nagpur board                                                                   1\n",
       "himachal pradesh board                                                         1\n",
       "don bosco maatriculation school                                                1\n",
       "ksseb(karnataka state board)                                                   1\n",
       "bsepatna                                                                       1\n",
       "jharkhand secondary examination board,ranchi                                   1\n",
       "holy cross matriculation hr sec school                                         1\n",
       "up baord                                                                       1\n",
       "biharboard                                                                     1\n",
       "karnataka secondary eduction                                                   1\n",
       "latur board                                                                    1\n",
       "ghseb                                                                          1\n",
       "karnataka secondory education board                                            1\n",
       "bright way college, (up board)                                                 1\n",
       "wbbsce                                                                         1\n",
       "karnataka education board (keeb)                                               1\n",
       "ap state board                                                                 1\n",
       "board of secendary education orissa                                            1\n",
       "maticulation                                                                   1\n",
       "cgbse                                                                          1\n",
       "u p                                                                            1\n",
       "west bengal board of secondary examination (wbbse)                             1\n",
       "central board of secondary education, new delhi                                1\n",
       "ksbe                                                                           1\n",
       "maharashtra state board mumbai divisional board                                1\n",
       "kalaimagal matriculation higher secondary school                               1\n",
       "cgbse raipur                                                                   1\n",
       "jharkhand secondary board                                                      1\n",
       "state board - west bengal board of secondary education : wbbse                 1\n",
       "karnataka sslc board bangalore                                                 1\n",
       "ssc maharashtra board                                                          1\n",
       "up bourd                                                                       1\n",
       "gyan bharati school                                                            1\n",
       "maharashtra state board for ssc                                                1\n",
       "secondary state certificate                                                    1\n",
       "uttrakhand board                                                               1\n",
       "tamilnadu matriculation board                                                  1\n",
       "stmary higher secondary                                                        1\n",
       "council for indian school certificate examination                              1\n",
       "uttranchal board                                                               1\n",
       "bihar school examination board patna                                           1\n",
       "secondary school education                                                     1\n",
       "kseeb(karnataka secondary education examination board)                         1\n",
       "punjab school education board, mohali                                          1\n",
       "state board of karnataka                                                       1\n",
       "secondary school certificate                                                   1\n",
       "kolhapur divisional board, maharashtra                                         1\n",
       "nagpur board,nagpur                                                            1\n",
       "karnataka board of secondary education                                         1\n",
       "sslc,karnataka                                                                 1\n",
       "karnataka education board                                                      1\n",
       "ssc regular                                                                    1\n",
       "jawahar navodaya vidyalaya                                                     1\n",
       "bse(board of secondary education)                                              1\n",
       "haryana board of school education,(hbse)                                       1\n",
       "rbse,ajmer                                                                     1\n",
       "j&k state board of school education                                            1\n",
       "board of secondary education,rajasthan(rbse)                                   1\n",
       "nasik                                                                          1\n",
       "board secondary  education                                                     1\n",
       "board ofsecondary education,ap                                                 1\n",
       "maharashtra state board,pune                                                   1\n",
       "jbse,jharkhand                                                                 1\n",
       "kerala                                                                         1\n",
       "bihar secondary education board,patna                                          1\n",
       "cbsc                                                                           1\n",
       "cluny                                                                          1\n",
       "maharashtra board, pune                                                        1\n",
       "seba                                                                           1\n",
       "jharkhand accademic council                                                    1\n",
       "karnataka secondary school of examination                                      1\n",
       "mp state board                                                                 1\n",
       "jharkhand secondary education board                                            1\n",
       "stjoseph of cluny matrhrsecschool,neyveli,cuddalore district                   1\n",
       "school secondary education, andhra pradesh                                     1\n",
       "stjosephs girls higher sec school,dindigul                                     1\n",
       "west bengal board of secondary eucation                                        1\n",
       "seba(assam)                                                                    1\n",
       "karantaka secondary education and examination borad                            1\n",
       "mumbai board                                                                   1\n",
       "bse,odisha                                                                     1\n",
       "haryana board of school education                                              1\n",
       "karnataka secondary board                                                      1\n",
       "nagpur divisional board                                                        1\n",
       "uttaranchal state board                                                        1\n",
       "board of high school and intermediate education uttarpradesh                   1\n",
       "board of secondary education(bse) orissa                                       1\n",
       "j & k bord                                                                     1\n",
       "mirza ahmed ali baig                                                           1\n",
       "metric                                                                         1\n",
       "madhya pradesh board                                                           1\n",
       "maharastra board                                                               1\n",
       "aurangabad board                                                               1\n",
       "andhra pradesh state board                                                     1\n",
       "icse board , new delhi                                                         1\n",
       "secondary board of rajasthan                                                   1\n",
       "national public school                                                         1\n",
       "board of secondary education,andhara pradesh                                   1\n",
       "state board of secondary education( ssc)                                       1\n",
       "board of ssc                                                                   1\n",
       "tamil nadu state                                                               1\n",
       "apssc                                                                          1\n",
       "board of secondary education,orissa                                            1\n",
       "bihar                                                                          1\n",
       "icse board                                                                     1\n",
       "maharashtra state board pune                                                   1\n",
       "kea                                                                            1\n",
       "mhsbse                                                                         1\n",
       "Name: 10board, dtype: int64"
      ]
     },
     "execution_count": 31,
     "metadata": {},
     "output_type": "execute_result"
    }
   ],
   "source": [
    "df['10board'].value_counts()"
   ]
  },
  {
   "cell_type": "code",
   "execution_count": 32,
   "metadata": {},
   "outputs": [],
   "source": [
    "df['10board'].replace({'central board of secondary education':'cbse','ssc':'state board','up board':'state board of up',\n",
    "                       'matriculation':'state board','rbse':'state board of rajasthan','board of secondary education':'state board',\n",
    "                       'up':'state board of up','mp board':'state board of mp','wbbse':'state board of wb','sslc':'state board of karnataka','kseeb':'state board of karnataka',\n",
    "                       'upboard':'state board of up','maharashtra state board':'state board of maharashtra','karnataka state board':'state board of karnataka',\n",
    "                       'state':'state board','bseb':'state board of bihar','maharashtra board':'state board of maharashtra','pseb':'state board of punjab',\n",
    "                       'uttar pradesh board':'state board of up','bse':'state board','karnataka secondary education board':'state board of karnataka',\n",
    "                       'karnataka secondary education examination board':'state board of karnataka','hbse':'state board of haryana','rajasthan board':'state board of rajasthan',\n",
    "                       'gseb':'state board of gujarat','u p board':'state board of up','west bengal board of secondary education':'state board of wb',\n",
    "                       'matriculation board':'state board','mp':'state board of mp','bseb,patna':'state board of bihar',\n",
    "                       'secondary school of education':'state board','uttarakhand board':'state board of uttarakhand','bse,orissa':'state board of orissa',\n",
    "                       'anglo indian':'state board','maharashtra':'state board of maharashtra','hbsc':'state board of haryana',\n",
    "                       'rajasthan board of secondary education':'state board of rajasthan','bihar board':'state board of bihar',\n",
    "                       'board of secondary education,ap':'state board of ap','jkbose':'state board of j&k','board of school education harayana':'state board of haryana',\n",
    "                       'hse':'state board of orissa','kerala state board':'state board of kerala','mpboard':'state board of mp','mp board bhopal':'state board of mp',\n",
    "                       'karnataka board':'state board of karnataka','board of secondary education,andhra pradesh':'state board of ap',\n",
    "                       'board of secondary education, rajasthan':'state board of rajasthan','pune':'state board of maharashtra','matric board':'state board of bihar',\n",
    "                       'bihar school examination board':'state board of bihar','board of secondary education, andhra pradesh':'state board of ap',\n",
    "                       'karnataka state secondary education board':'state board of karnataka','karnataka secondary education':'state board of karnataka',\n",
    "                       'nagpur':'state board of maharashtra','mpbse':'state board of mp','bseb, patna':'state board of bihar','karnataka':'state board of karnataka',\n",
    "                       'latur':'state board of maharashtra','sslc board':'state board of karnataka','tamilnadu state board':'state board of tamilnadu','kseb':'state board karnataka',\n",
    "                       'hsc':'state board','bse, odisha':'state board of orissa','cbse board':'cbse','jseb':'state board of jharkhand',\n",
    "                       'andhra pradesh state board':'state board of ap','jawahar navodaya vidyalaya':'state board',\n",
    "                       'tamilnadu matriculation board':'state board of tamilnadu','j & k bord':'state board of j&k',\n",
    "                       'uttaranchal state board':'state board of uttaranchal','mhsbse':'state board of maharashtra','jbse,jharkhand':'state board of jharkhand',\n",
    "                       'council for indian school certificate examination':'state board',\n",
    "                       'state board - west bengal board of secondary education : wbbse':'state board of wb','karnataka secondary school of examination':'state board of karnataka',\n",
    "                       'gsheb':'state board of gujarat','up board,allahabad':'state board of up','dav public school sec 14':'state board of haryana',\n",
    "                       'nashik board':'state board of maharashtra','secondary education board of rajasthan':'state board of rajasthan','board of secondary education(bse) orissa':'state board of orissa',\n",
    "                       'state board (jac, ranchi)':'state board of jharkhand','u p':'state board of up','karnataka education board (keeb)':'state board of karnataka',\n",
    "                       'bseb ,patna':'state board of bihar','maharashtra sate board':'state board of maharashtra','karnataka sslc board bangalore':'state board of karnataka',\n",
    "                       'ksseb(karnataka state board)':'state board of karnataka','ua':'state board of uttarakhand','board of intermediate education':'state board of ap',\n",
    "                       'ssc regular':'state board','mumbai board':'state board of maharashtra','state borad hp':'state board of hp','ghseb':'state board of gujarat',\n",
    "                       'sarada high scchool':'state board','ap state board':'state board of ap','rajasthan board ajmer':'state board of rajasthan',\n",
    "                       'cgbse raipur':'state board of chhattisgarh','hsce':'state board of orissa','little jacky matric higher secondary school':'state board',\n",
    "                       'karnataka education board':'state board of karnataka','gujarat board':'state board of gujarat','gyan bharati school':'state board',\n",
    "                       'karnataka board of higher education':'state board of karnataka','ms board':'state board of maharashtra','bsepatna':'state board of bihar',\n",
    "                       'kiran english medium high school':'state board','uttrakhand board':'state board of uttarakhand',\n",
    "                       'dav public school,hehal':'state board of jharkhand','board of school education uttarakhand':'state board of uttarakhand',\n",
    "                       'up board , allahabad':'state board of up','delhi public school':'cbse','nagpur board':'state board of maharashtra',\n",
    "                       'maharashtra satate board':'state board of maharashtra','mirza ahmed ali baig':'state board',\n",
    "                       'haryana board of school education':'state board of haryana','board of high school and intermediate education uttarpradesh':'state board of up',\n",
    "                       'pune board':'state board of maharashtra','bihar secondary education board,patna':'state board of bihar',\n",
    "                       'ap state board for secondary education':'state board of ap','board of secondary education - andhra pradesh':'state board of ap',\n",
    "                       'nasik':'state board of maharshtra','jharkhand secondary examination board,ranchi':'state board of jharkhand',\n",
    "                       'ssc maharashtra board':'state board of maharashtra','board of secondary education orissa':'state board of orissa',\n",
    "                       'central board of secondary education, new delhi':'cbse','wbbsce':'state board of wb','bse,odisha':'state board of orissa',\n",
    "                       'board of secondary education (bse) orissa':'state board of orissa','west bengal board of secondary eucation':'state board of wb',\n",
    "                       'maharashtra state(latur board)':'state board of maharshtra','nagpur board,nagpur':'state board of maharashtra','karnataka state examination board':'state board of karnataka',\n",
    "                       'icse board , new delhi':'icse','aurangabad board':'state board of maharashtra','maharashtra nasik board':'state board of maharashtra',\n",
    "                       'up bourd':'state board of up','karantaka secondary education and examination borad':'state board of karnataka','sslc,karnataka':'state board of karnataka',\n",
    "                       'board of secondary education,orissa':'state board of orissa','maharashtra state board mumbai divisional board':'state board of maharasthra',\n",
    "                       'sslc,karnataka':'state board of karnataka','board of secondary education,orissa':'state board of orissa','maharashtra state board mumbai divisional board':'state board of maharashtra',\n",
    "                       'secondary school cerfificate':'state board','mp state board':'state board','delhi board':'state board','kerala state technical education':'state board',\n",
    "                       'board of secondary education,rajasthan(rbse)':'state board of rajasthan','state board of secondary education, ap':'state board of ap',\n",
    "                       'kolhapur divisional board, maharashtra':'state board of maharashtra','ksbe':'state board of karnataka',\n",
    "'jharkhand academic council':'state board of jharkhand',\n",
    "'maharashtra state board for ssc':'state board of maharashtra', \n",
    "'bsc,orissa':'state board of orissa',\n",
    "'bse(board of secondary education)':'state board',\n",
    "'j&k state board of school education':'state board of j&k', \n",
    "'state board of secondary education,andhra pradesh':'state board of ap',\n",
    "'state board of karnataka':'state board of karnataka',\n",
    "'secondary school certificate':'state board',\n",
    "'msbshse,pune':'state board of maharashtra',\n",
    "'state(karnataka board)':'state board of karnataka',\n",
    "'state board ':'state board',\n",
    "'apsche':'state board of ap',\n",
    "'himachal pradesh board':'state board of hp',\n",
    "'ssc board of andrapradesh':'state board of ap',\n",
    "'icse board':'icse',\n",
    "'himachal pradesh board of school education':'state board of hp',\n",
    "'rbse,ajmer':'state board of rajasthan', \n",
    "'education board of kerala':'state board of kerala',\n",
    "'apssc':'state board of ap',\n",
    "'bharathi matriculation school':'state board',\n",
    "'gujarat state board':'state board of gujarat',\n",
    "'stmary higher secondary':'state board',\n",
    "'maharashtra state board,pune':'state board of maharashtra',\n",
    "'cbse[gulf zone]':'cbse',\n",
    "'kerala university':'state board of kerala',\n",
    "'up(allahabad)':'state board of up',\n",
    "'board of secondary education,andhara pradesh':'state board of ap',\n",
    "'karnataka secondary eduction':'state board of karnataka',\n",
    "'latur board':'state board of maharashtra',\n",
    "'ssc-andhra pradesh':'state board of ap',\n",
    "'national public school':'cbse',\n",
    "'tamil nadu state':'state board of tamilnadu',\n",
    "'stjosephs girls higher sec school,dindigul':'state board of tamilnadu',\n",
    "'board ofsecondary education,ap':'state board of ap',\n",
    "'karnataka board of secondary education':'state board of karnataka',\n",
    "'bihar examination board, patna':'state board of bihar',\n",
    "'board of secondaray education':'state board',\n",
    "'state board of secondary education( ssc)':'state board',\n",
    "'jharkhand acedemic council':'state board of jharkhand',\n",
    "'seba(assam)':'state board of assam',\n",
    "'nagpur divisional board':'state board of maharashtra',\n",
    "'maharashtra state board of secondary & higher secondary education':'state board of maharashtra',\n",
    "'hse,board':'state board of orissa',\n",
    "'cicse':'icse',\n",
    "'maharastra board':'state board of maharashtra',\n",
    "'west bengal  board of secondary education':'state board of wb',\n",
    "'kseeb(karnataka secondary education examination board)':'state board of karnataka',\n",
    "'metric':'state board',\n",
    "'uttaranchal shiksha avam pariksha parishad':'state board of uttaranchal',\n",
    "'maharashtra state boar of secondary and higher secondary education':'state board of maharashtra',\n",
    "'board of secondary education,odisha':'state board of orissa',\n",
    "'cgbse':'state board of chhattisgarh',\n",
    "'holy cross matriculation hr sec school':'state board',\n",
    "'sss pune':'state board of maharashtra',\n",
    "'west bengal board of secondary examination (wbbse)':'state board of wb',\n",
    "'up-board':'state board of up',\n",
    "'andhra pradesh board ssc':'state board of ap',\n",
    "'uttranchal board':'state board of uttaranchal',\n",
    "'jharkhand secondary education board':'state board of jharkhand',\n",
    "'maharashtra board, pune':'state board of maharashtra',\n",
    "'don bosco maatriculation school':'cbse',\n",
    "'haryana board of school education,(hbse)':'state board of haryana',\n",
    "'bihar school examination board patna':'state board of bihar',\n",
    "'biharboard':'state board of bihar',\n",
    "'board of school education haryana':'state board of haryana',\n",
    "'up baord':'state board of up',\n",
    "'bsemp':'state board of mp',\n",
    "'seba':'state board of assam',\n",
    "'kerala':'state board of kerala',\n",
    "'cbsc':'cbse',\n",
    "'kalaimagal matriculation higher secondary school':'state board of tamilnadu',\n",
    "'madhya pradesh board':'state board of mp',\n",
    "'up bord':'state board of up',\n",
    "'secondary board of rajasthan':'state board of rajasthan',\n",
    "'board of ssc education andhra pradesh':'state board of ap',\n",
    "'karnataka secondory education board':'state board of karnataka',\n",
    "'kolhapur':'state board of maharashtra',\n",
    "'bihar':'state board of bihar',\n",
    "'sri kannika parameswari highier secondary school, udumalpet':'state board of tamilnadu',\n",
    "'kea':'state board of karnataka',\n",
    "'stjoseph of cluny matrhrsecschool,neyveli,cuddalore district':'state board of tamilnadu',\n",
    "'cbse ':'cbse',\n",
    "'board of secondary education rajasthan':'state board of rajasthan',\n",
    "'school secondary education, andhra pradesh':'state board of ap',\n",
    "'bright way college, (up board)':'state board of up',\n",
    "'certificate of middle years program of ib':'state board',\n",
    "'upbhsie':'state board of up',\n",
    "#'cluny':'state board',\n",
    "'jharkhand accademic council':'state board of jharkhand',\n",
    "'aisse':'cbse',\n",
    "'hse,orissa':'state board of orissa',\n",
    "'maharashtra state board pune':'state board of maharashtra',\n",
    "'rbse (state board)':'state board of rajasthan',\n",
    "'karnataka secondary board':'state board of karnataka',\n",
    "'tn state board':'state board of tamilnadu',\n",
    "'board of  secondary education':'state board',\n",
    "'maharashtra state board of secondary and higher secondary education,pune':'state board of maharashtra',\n",
    "'up board allahabad':'state board of up',\n",
    "'maharashtra state board of secondary and higher secondary education':'state board of maharashtra',\n",
    "'jharkhand secondary examination board (ranchi)':'state board of jharkhand',\n",
    "'board of secondary school education':'state board',\n",
    "'secondary state certificate':'state board',\n",
    "\"stmary's convent inter college\":\"state board\",\n",
    "'jharkhand secondary board':'state board of jharkhand',\n",
    "'state bord':'state board',\n",
    "'maticulation':'state board',\n",
    "'mp-bse':'state board of mp',\n",
    "'secondary school education':'state board',\n",
    "'bseb patna':'state board of bihar',\n",
    "'state board of secondary education, andhra pradesh':'state board of ap',\n",
    "'punjab school education board, mohali':'state board of punjab',\n",
    "'ksseb':'state board of karnataka',\n",
    "'stateboard':'state board',\n",
    "'uttar pradesh':'state board of up',\n",
    "'matric':'state board',\n",
    "'board of ssc':'state board',\n",
    "'board of secendary education orissa':'state board of orissa',\n",
    "'board secondary  education':'state board',\n",
    "'state boardmp board ':'state board of mp',\n",
    "'up borad':'state board of up',\n",
    "'karnataka state education examination board':'state board of karnataka'},inplace=True)"
   ]
  },
  {
   "cell_type": "code",
   "execution_count": 33,
   "metadata": {},
   "outputs": [
    {
     "data": {
      "text/plain": [
       "cbse                           1418\n",
       "state board                    1411\n",
       "icse                            284\n",
       "state board of up               144\n",
       "state board of karnataka         80\n",
       "state board of maharashtra       56\n",
       "state board of rajasthan         41\n",
       "state board of mp                31\n",
       "state board of bihar             30\n",
       "state board of wb                26\n",
       "state board of ap                24\n",
       "state board of orissa            18\n",
       "state board of haryana           15\n",
       "state board of jharkhand         12\n",
       "state board of tamilnadu          9\n",
       "state board of gujarat            9\n",
       "state board of punjab             9\n",
       "state board of uttarakhand        7\n",
       "state board of kerala             5\n",
       "state board of j&k                4\n",
       "state board of hp                 3\n",
       "state board of uttaranchal        3\n",
       "state board of assam              2\n",
       "state board of maharshtra         2\n",
       "state board karnataka             2\n",
       "state board of chhattisgarh       2\n",
       "cluny                             1\n",
       "Name: 10board, dtype: int64"
      ]
     },
     "execution_count": 33,
     "metadata": {},
     "output_type": "execute_result"
    }
   ],
   "source": [
    "df['10board'].value_counts()"
   ]
  },
  {
   "cell_type": "markdown",
   "metadata": {},
   "source": [
    "### 12th Board:"
   ]
  },
  {
   "cell_type": "code",
   "execution_count": 34,
   "metadata": {},
   "outputs": [
    {
     "data": {
      "text/plain": [
       "cbse                                                                           1400\n",
       "state board                                                                    1254\n",
       "icse                                                                            129\n",
       "up board                                                                         87\n",
       "isc                                                                              45\n",
       "board of intermediate                                                            36\n",
       "board of intermediate education                                                  31\n",
       "up                                                                               20\n",
       "rbse                                                                             19\n",
       "mp board                                                                         17\n",
       "bie                                                                              15\n",
       "chse                                                                             14\n",
       "ipe                                                                              14\n",
       "hsc                                                                              13\n",
       "central board of secondary education                                             12\n",
       "maharashtra state board                                                          12\n",
       "wbchse                                                                           11\n",
       "maharashtra board                                                                10\n",
       "matriculation                                                                     9\n",
       "pu board                                                                          9\n",
       "puc                                                                               9\n",
       "intermediate                                                                      9\n",
       "hbse                                                                              8\n",
       "state                                                                             8\n",
       "uttar pradesh board                                                               7\n",
       "nios                                                                              7\n",
       "upboard                                                                           7\n",
       "pseb                                                                              6\n",
       "bseb                                                                              6\n",
       "karnataka state board                                                             6\n",
       "board of intermediate education,ap                                                6\n",
       "stateboard                                                                        6\n",
       "ssc                                                                               6\n",
       "msbte                                                                             5\n",
       "u p board                                                                         5\n",
       "west bengal council of higher secondary education                                 5\n",
       "rajasthan board                                                                   5\n",
       "uttarakhand board                                                                 4\n",
       "karnataka pre university board                                                    4\n",
       "mp                                                                                4\n",
       "biec,patna                                                                        4\n",
       "chse,orissa                                                                       4\n",
       "bieap                                                                             4\n",
       "intermediate board                                                                4\n",
       "jharkhand academic council                                                        3\n",
       "karnataka pre-university board                                                    3\n",
       "department of pre-university education                                            3\n",
       "karnataka pu board                                                                3\n",
       "board of intermediate education, andhra pradesh                                   3\n",
       "maharashtra                                                                       3\n",
       "uttar pradesh                                                                     3\n",
       "board of intermediate education, ap                                               3\n",
       "sbtet                                                                             3\n",
       "bihar intermediate education council                                              3\n",
       "pre-university                                                                    3\n",
       "wbbhse                                                                            2\n",
       "ibe                                                                               2\n",
       " board of intermediate                                                            2\n",
       "pre university board                                                              2\n",
       "apbie                                                                             2\n",
       "kerala state board                                                                2\n",
       "board of intermediate education,andhra pradesh                                    2\n",
       "tamilnadu state board                                                             2\n",
       "nagpur                                                                            2\n",
       "jkbose                                                                            2\n",
       "gsheb                                                                             2\n",
       "bte up                                                                            2\n",
       "ghseb                                                                             2\n",
       "latur                                                                             2\n",
       "pue                                                                               2\n",
       "rajasthan board of secondary education                                            2\n",
       "biec                                                                              2\n",
       "karnataka board                                                                   2\n",
       "pre-university board                                                              2\n",
       "mpbse                                                                             2\n",
       "board of secondary education rajasthan                                            2\n",
       "tamil nadu state board                                                            2\n",
       "kea                                                                               2\n",
       "bihar board                                                                       2\n",
       "chse,odisha                                                                       2\n",
       "board of intermediate ap                                                          2\n",
       "board of school education uttarakhand                                             1\n",
       "andhra pradesh                                                                    1\n",
       "haryana state board of technical education chandigarh                             1\n",
       "karanataka secondary board                                                        1\n",
       "bseb, patna                                                                       1\n",
       "stmiras college for girls                                                         1\n",
       "board of intermediate,ap                                                          1\n",
       "tamilnadu stateboard                                                              1\n",
       "international baccalaureate (ib) diploma                                          1\n",
       "chsc                                                                              1\n",
       "state syllabus                                                                    1\n",
       "higher secondary                                                                  1\n",
       "board of higher secondary examination, kerala                                     1\n",
       "up(allahabad)                                                                     1\n",
       "dav public school,hehal                                                           1\n",
       "mbose                                                                             1\n",
       "cbse board                                                                        1\n",
       "karnataka pre unversity board                                                     1\n",
       "sri chaitanya junior kalasala                                                     1\n",
       "all india board                                                                   1\n",
       "himachal pradesh board of school education                                        1\n",
       "pub                                                                               1\n",
       "jyoti nivas                                                                       1\n",
       "dept of pre-university education                                                  1\n",
       "central board of secondary education, new delhi                                   1\n",
       "bihar school examination board patna                                              1\n",
       "ks rangasamy institute of technology                                              1\n",
       "andhra pradesh board of secondary education                                       1\n",
       "certificate for higher secondary education (chse)orissa                           1\n",
       "karnataka pre-university                                                          1\n",
       "kerala university                                                                 1\n",
       "intermediate board examination                                                    1\n",
       "dote (diploma - computer engg)                                                    1\n",
       "board of school education harayana                                                1\n",
       "uttaranchal shiksha avam pariksha parishad                                        1\n",
       "hsc pune                                                                          1\n",
       "staae board                                                                       1\n",
       "mpboard                                                                           1\n",
       "state board of technical education harayana                                       1\n",
       "rbse (state board)                                                                1\n",
       "cbese                                                                             1\n",
       "srv girls higher sec school,rasipuram                                             1\n",
       "board of intmediate education ap                                                  1\n",
       "up board , allahabad                                                              1\n",
       "maharashtra satate board                                                          1\n",
       "diploma(msbte)                                                                    1\n",
       "ap intermediate board                                                             1\n",
       "jharkhand board                                                                   1\n",
       "biec patna                                                                        1\n",
       "karnatak pu board                                                                 1\n",
       "apsb                                                                              1\n",
       "sri sankara vidyalaya                                                             1\n",
       "board of intermediate education,hyderabad                                         1\n",
       "mp-bse                                                                            1\n",
       "board of secondary education                                                      1\n",
       "state broad                                                                       1\n",
       "west bengal board of higher secondary education                                   1\n",
       "department of pre-university education(government of karnataka)                   1\n",
       "p u board, karnataka                                                              1\n",
       "msbte (diploma in computer technology)                                            1\n",
       "department of pre university education                                            1\n",
       "karnataka secondary education board                                               1\n",
       "preuniversity board(karnataka)                                                    1\n",
       "govt of karnataka department of pre-university education                          1\n",
       "ua                                                                                1\n",
       "bte,delhi                                                                         1\n",
       "lucknow public college                                                            1\n",
       "biec, patna                                                                       1\n",
       "state board of technical education and training                                   1\n",
       "scte and vt ,orissa                                                               1\n",
       "hslc (tamil nadu state board)                                                     1\n",
       "board of intermediate(bie)                                                        1\n",
       "department of technical education                                                 1\n",
       "upbhsie                                                                           1\n",
       "pu board karnataka                                                                1\n",
       "secnior secondary education board of rajasthan                                    1\n",
       "rajasthan board ajmer                                                             1\n",
       "cgbse                                                                             1\n",
       "baord of intermediate education                                                   1\n",
       "intermideate                                                                      1\n",
       "dpue                                                                              1\n",
       "secondary board of rajasthan                                                      1\n",
       "gseb/technical education board                                                    1\n",
       "jaswant modern school                                                             1\n",
       "up board,allahabad                                                                1\n",
       "sri kannika parameswari highier secondary school, udumalpet                       1\n",
       "biec-patna                                                                        1\n",
       "hse                                                                               1\n",
       "kolhapur                                                                          1\n",
       "state bord                                                                        1\n",
       "maharashtra state(latur board)                                                    1\n",
       "board of intrmediate education,ap                                                 1\n",
       "bsemp                                                                             1\n",
       "amravati divisional board                                                         1\n",
       "intermediate board of andhra pardesh                                              1\n",
       "himachal pradesh board                                                            1\n",
       "dte                                                                               1\n",
       "karnataka education board                                                         1\n",
       "jharkhand acedemic council                                                        1\n",
       "cicse                                                                             1\n",
       "jstb,jharkhand                                                                    1\n",
       "mpc                                                                               1\n",
       "madhya pradesh board                                                              1\n",
       "scte&vt                                                                           1\n",
       "up bord                                                                           1\n",
       "karnataka board of university                                                     1\n",
       "board of technicaleducation ,delhi                                                1\n",
       "intermidiate                                                                      1\n",
       "maharashtra state board of secondary & higher secondary education                 1\n",
       "tn state board                                                                    1\n",
       "psbte                                                                             1\n",
       "st joseph hr sec school                                                           1\n",
       "andhpradesh board of intermediate education                                       1\n",
       "hbsc                                                                              1\n",
       "board of intermidiate education,ap                                                1\n",
       "pre university board, karnataka                                                   1\n",
       "borad of intermediate                                                             1\n",
       "latur board                                                                       1\n",
       "jawahar higher secondary school                                                   1\n",
       "board fo intermediate education, ap                                               1\n",
       "diploma ( maharashtra state board of technical education)                         1\n",
       "up baord                                                                          1\n",
       "board of intermidiate examination                                                 1\n",
       "department of pre-university eduction                                             1\n",
       "board of secondary school of education                                            1\n",
       "up board allahabad                                                                1\n",
       "aissce                                                                            1\n",
       "mp board bhopal                                                                   1\n",
       "nagpur board                                                                      1\n",
       "ap board for intermediate education                                               1\n",
       "west bengal state council of technical education                                  1\n",
       "chse, odisha                                                                      1\n",
       "stateboard/tamil nadu                                                             1\n",
       "hisher seconadry examination(state board)                                         1\n",
       "madhya pradesh open school                                                        1\n",
       "technical board, punchkula                                                        1\n",
       "maharashtra board, pune                                                           1\n",
       "board of technical education                                                      1\n",
       "state  board of intermediate education, andhra pradesh                            1\n",
       " upboard                                                                          1\n",
       "state board (jac, ranchi)                                                         1\n",
       "karnataka board secondary education                                               1\n",
       "state board - west bengal council of higher secondary education : wbchse          1\n",
       "scte & vt (diploma)                                                               1\n",
       "puboard                                                                           1\n",
       "tamil nadu polytechnic                                                            1\n",
       "msbte pune                                                                        1\n",
       "bright way college, (up board)                                                    1\n",
       "up-board                                                                          1\n",
       "state board of technical eduction panchkula                                       1\n",
       "jharkhand acamedic council (ranchi)                                               1\n",
       "narayana junior college                                                           1\n",
       "uttrakhand board                                                                  1\n",
       "nasik                                                                             1\n",
       "u p                                                                               1\n",
       "maharashtra state board for hsc                                                   1\n",
       "uttranchal board                                                                  1\n",
       "board of secondary education, rajasthan                                           1\n",
       "maharashtra state boar of secondary and higher secondary education                1\n",
       "isce                                                                              1\n",
       "state board of karnataka                                                          1\n",
       "electonincs and communication(dote)                                               1\n",
       "isc board , new delhi                                                             1\n",
       "scte vt orissa                                                                    1\n",
       "karnataka pu                                                                      1\n",
       "government polytechnic mumbai , mumbai board                                      1\n",
       "cgbse raipur                                                                      1\n",
       "department of technical education, bangalore                                      1\n",
       "s j polytechnic                                                                   1\n",
       "sda matric higher secondary school                                                1\n",
       "higher secondary education                                                        1\n",
       "matric board                                                                      1\n",
       "maharashtra state board mumbai divisional board                                   1\n",
       "state board of technical education                                                1\n",
       "ssm srsecschool                                                                   1\n",
       "ap board                                                                          1\n",
       "council for indian school certificate examination                                 1\n",
       "karnataka sslc                                                                    1\n",
       "diploma in engg (e &tc) tilak maharashtra vidayapeeth                             1\n",
       "directorate of technical education,banglore                                       1\n",
       "karnataka state examination board                                                 1\n",
       "hsc maharashtra board                                                             1\n",
       "intermediate board of education,andhra pradesh                                    1\n",
       "kolhapur divisional board, maharashtra                                            1\n",
       "board of secondary education,rajasthan(rbse)                                      1\n",
       "sbte, jharkhand                                                                   1\n",
       "kerala state hse board                                                            1\n",
       "state board                                                                       1\n",
       "bciec,patna                                                                       1\n",
       "jharkhand accademic council                                                       1\n",
       "state board - tamilnadu                                                           1\n",
       "board of higher secondary orissa                                                  1\n",
       "intermedite                                                                       1\n",
       "bice                                                                              1\n",
       "cbsc                                                                              1\n",
       "aurangabad board                                                                  1\n",
       "andhra board                                                                      1\n",
       "kerala                                                                            1\n",
       "maharashtra nasik board                                                           1\n",
       "isc board                                                                         1\n",
       "gujarat board                                                                     1\n",
       "ms board                                                                          1\n",
       "sjrcw                                                                             1\n",
       "west bengal council of higher secondary eucation                                  1\n",
       "pu                                                                                1\n",
       "j&k state board of school education                                               1\n",
       "jaycee matriculation school                                                       1\n",
       "bteup                                                                             1\n",
       "dav public school sec 14                                                          1\n",
       "nagpur board,nagpur                                                               1\n",
       "karnataka state                                                                   1\n",
       "up bourd                                                                          1\n",
       "karnataka state pre- university board                                             1\n",
       "pu board ,karnataka                                                               1\n",
       "intermediate council patna                                                        1\n",
       "department of pre-university education, bangalore                                 1\n",
       "bihar intermediate education council, patna                                       1\n",
       "aligarh muslim university                                                         1\n",
       "board of intermediate education:ap,hyderabad                                      1\n",
       "stjoseph of cluny matrhrsecschool,neyveli,cuddalore district                      1\n",
       "intermediate state board                                                          1\n",
       "cbse,new delhi                                                                    1\n",
       "nagpur divisional board                                                           1\n",
       "higher secondary state certificate                                                1\n",
       "jiec                                                                              1\n",
       "andhra pradesh state board                                                        1\n",
       "msbshse,pune                                                                      1\n",
       "pu  board karnataka                                                               1\n",
       "tamilnadu higher secondary education board                                        1\n",
       "gseb                                                                              1\n",
       "boardofintermediate                                                               1\n",
       "uo board                                                                          1\n",
       "gshseb                                                                            1\n",
       "nashik board                                                                      1\n",
       "j & k board                                                                       1\n",
       "holy cross matriculation hr sec school                                            1\n",
       "board of high school and intermediate education uttarpradesh                      1\n",
       "karnataka secondary education                                                     1\n",
       "uttaranchal state board                                                           1\n",
       "diploma in computers                                                              1\n",
       "pune board                                                                        1\n",
       "board of intermeadiate education                                                  1\n",
       "bihar                                                                             1\n",
       "ahsec                                                                             1\n",
       "punjab state board of technical education & industrial training, chandigarh       1\n",
       "apbsc                                                                             1\n",
       "board of intermediate education,andra pradesh                                     1\n",
       "west bengal council of higher secondary examination (wbchse)                      1\n",
       "pre university board of karnataka                                                 1\n",
       "punjab state board of technical education & industrial training                   1\n",
       "chse(concil of higher secondary education)                                        1\n",
       "board of intermidiate                                                             1\n",
       "pre university                                                                    1\n",
       "intermediate board of education                                                   1\n",
       "tamil nadu state                                                                  1\n",
       "science college                                                                   1\n",
       "wbscte                                                                            1\n",
       "dav public school                                                                 1\n",
       "Name: 12board, dtype: int64"
      ]
     },
     "execution_count": 34,
     "metadata": {},
     "output_type": "execute_result"
    }
   ],
   "source": [
    "df['12board'].value_counts()"
   ]
  },
  {
   "cell_type": "code",
   "execution_count": 35,
   "metadata": {},
   "outputs": [],
   "source": [
    "df['12board'].replace({'icse':'isc','board of intermediate':'state board of ap','board of intermediate education':'state board of ap',\n",
    "                     'up':'state board of up','rbse':'state board of rajasthan','mp board':'state board of mp','bie':'state board of ap',\n",
    "                      'chse':'state board of orissa','ipe':'state board of telangana','hsc':'state board of maharashtra','central board of secondary education':'cbse',\n",
    "                      'maharashtra state board':'state board of maharashtra','wbchse':'state board of wb','maharashtra board':'state board of maharashtra',\n",
    "                      'puc':'state board of karnataka','matriculation':'state board','hbse':'state board of haryana','state':'state board',\n",
    "                      'upboard':'state board of up','nios':'cbse','uttar pradesh board':'state board of up','board of intermediate education,ap':'state board of ap',\n",
    "                      'stateboard':'state board','bseb':'state board of bihar','pseb':'state board of punjab','ssc':'state board','karnataka state board':'state board of karnataka',\n",
    "                     'rajasthan board':'state board of rajasthan','u p board':'state board of up','west bengal council of higher secondary education':'state board of wb',\n",
    "                      'msbte':'state board of maharashtra','biec,patna':'state board of bihar','intermediate board':'state board of telangana','chse,orissa':'state board of orissa',\n",
    "                      'karnataka pre university board':'state board of karnataka','bieap':'state board of ap','mp':'state board of mp','uttarakhand board':'state board of uttarakhand',\n",
    "                      'uttar pradesh':'state board of up','sbtet':'state board of telangana','karnataka pre-university board':'state board of karnataka','jharkhand academic council':'state board of jharkhand',\n",
    "                      'bihar intermediate education council':'state board of bihar','board of intermediate education, andhra pradesh':'state board of ap',\n",
    "                     'pre-university':'state board of karnataka','karnataka pu board':'state board of karnataka','board of intermediate education, ap':'state board of ap',\n",
    "                      'maharashtra':'state board of maharashtra','department of pre-university education':'state board of karnataka','pre university board':'state board of karnataka',\n",
    "                      'biec':'state board of bihar','apbie':'state board of ap','kerala state board':'state board of kerala','tamilnadu state board':'state board of tamilnadu',\n",
    "                      'board of secondary education rajasthan':'state board of rajasthan','jkbose':'state board of j&k','pue':'state board of karnataka','chse,odisha':'state board of orissa',\n",
    "                      'pre-university board':'state board of karnataka','wbbhse':'state board of wb','tamil nadu state board':'state board of tamilnadu','rajasthan board of secondary education':'state board of rajasthan',\n",
    "                      'bihar board':'state board of bihar','ghseb':'state board of gujarat','latur':'state board of maharashtra','karnataka board':'state board of karnataka','nagpur':'state board of maharashtra',\n",
    "                     'gsheb':'state board of gujarat','bte up':'state board of up',' board of intermediate':'state board of ap',\n",
    "                    'board of intermediate ap':'state board of ap','board of intermediate education,andhra pradesh':'state board of ap',\n",
    "                      'ibe':'state board',\n",
    "                       'mpbse':'state board of mp','state board of technical education':'state board of telangana','certificate for higher secondary education (chse)orissa':'state board of orissa',\n",
    "                      'latur board':'state board of maharashtra','tamilnadu stateboard':'state board of tamilnadu','st joseph hr sec school':'state board of tamilnadu',\n",
    "                      'tn state board':'state board of tamilnadu','andhpradesh board of intermediate education':'state board of ap','uttaranchal shiksha avam pariksha parishad':'state board of uttaranchal',\n",
    "                      'board of secondary education, rajasthan':'state board of rajasthan','board of intermediate education,andra pradesh':'state board of ap',\n",
    "                      ' upboard':'state board of up','msbshse,pune':'state board of maharashtra','nagpur board,nagpur':'state board of maharashtra','kolhapur divisional board, maharashtra':'state board of maharashtra',\n",
    "                      'tamil nadu state':'state board of tamilnadu','karnataka pre-university':'state board of karnataka','ks rangasamy institute of technology':'state board of tamilnadu',\n",
    "                      'board of intermidiate':'state board of ap','mbose':'state board of meghalaya','board of intermediate education:ap,hyderabad':'state board of ap',\n",
    "                      'intermidiate':'state board of ap','holy cross matriculation hr sec school':'state board of tamilnadu','state board of technical education harayana':'state board of haryana',\n",
    "                     'bice':'state board','secnior secondary education board of rajasthan':'state board of rajasthan','bte,delhi':'state board of delhi',\n",
    "                      'maharashtra state board of secondary & higher secondary education':'state board of maharashtra','gseb':'state board of gujarat','mpboard':'state board of mp',\n",
    "                      'andhra board':'state board of ap','haryana state board of technical education chandigarh':'state board of haryana','karnataka board of university':'state board of karnataka',\n",
    "                       'intermideate':'state board of ap','jharkhand acamedic council (ranchi)':'state board of jharkhand','science college':'state board','uo board':'state board of up',\n",
    "                      'central board of secondary education, new delhi':'cbse','himachal pradesh board':'state board of hp',\n",
    "                      'board of technicaleducation ,delhi':'state board of delhi','board of technical education':'state board of telangana',\n",
    "                      'karnataka state examination board':'state board of karnataka','dav public school sec 14':'state board of haryana','board of high school and intermediate education uttarpradesh':'state board of up',\n",
    "                      'ap board':'state board of ap','board of higher secondary orissa':'state board of orissa','apsb':'state board','ap intermediate board':'state board of ap',\n",
    "                      'karnataka secondary education board':'state board of karnataka','sri kannika parameswari highier secondary school, udumalpet':'state board of tamilnadu',\n",
    "                      'west bengal state council of technical education':'state board of wb','higher secondary':'state board','hse':'state board of orissa','jawahar higher secondary school':'cbse',\n",
    "                      'karnataka sslc':'state board of karnataka','uttranchal board':'state board of uttaranchal','karnataka state pre- university board':'state board of karnataka',\n",
    "                      'maharashtra state(latur board)':'state board of maharashtra','bihar school examination board patna':'state board of bihar','puboard':'state board of karnataka',\n",
    "                      'department of pre-university eduction':'state board of karnataka','scte & vt (diploma)':'state board of orissa','state board (jac, ranchi)':'state board of jharkhand',\n",
    "                      'board of secondary education':'state board of telangana','all india board':'state board','maharashtra state boar of secondary and higher secondary education':'state board maharashtra',\n",
    "                      'mpc':'state board of telangana','scte and vt ,orissa':'state board of orissa','gujarat board':'state board of gujarat','up baord':'state board of up','pu  board karnataka':'state board of karnataka',\n",
    "                      'karnataka state':'state board of karnataka','bihar':'state board of bihar','stmiras college for girls':'state board of maharashtra','pu board ,karnataka':'state board of karnataka',\n",
    "                      'board of secondary education,rajasthan(rbse)':'state board of rajasthan','kolhapur':'state board of maharashtra','lucknow public college':'state board of up',\n",
    "                      'up bourd':'state board of up','dte':'state board of telangana','j & k board':'state board of j&k','apbsc':'state board of ap','pre university board, karnataka':'state board of karnataka',\n",
    "                      'state board - tamilnadu':'state board of tamilnadu','karnatak pu board':'state board of karnataka','maharashtra board, pune':'state board of maharashtra','karnataka pre unversity board':'state board of karnataka',\n",
    "                      'hsc maharashtra board':'state board of maharashtra','state  board of intermediate education, andhra pradesh':'state board of ap',\n",
    "                     'j&k state board of school education':'state board of j&k','pu':'state board of karnataka','state broad':'state board','jharkhand acedemic council':'state board of jharkhand',\n",
    "                       'higher secondary state certificate':'state board of maharashtra','pre university board of karnataka':'state board of karnataka',\n",
    "    'karanataka secondary board':'state board of karnataka','srv girls higher sec school,rasipuram':'state board of tamilnadu','up board allahabad':'state board of up',\n",
    "                   'diploma ( maharashtra state board of technical education)':'state board of maharashtra','sri sankara vidyalaya':'state board of telangana',\n",
    "                       'department of pre-university education, bangalore':'state board of karnataka','uttaranchal state board':'state board of uttaranchal',\n",
    "                       'cgbse':'state board of chhattisgarh','kerala state hse board':'state board of kerala','aissce':'cbse','msbte (diploma in computer technology)':'state board',\n",
    "                'chse(concil of higher secondary education)':'state board of orissa','maharashtra nasik board':'state board of maharashtra','jiec':'state board of jharkhand',\n",
    "                       'kerala university':'state board of kerala','preuniversity board(karnataka)':'state board of karnataka','gshseb':'state board of gujarat','hsc pune':'state board of maharashtra',\n",
    "                       'uttrakhand board':'state board of uttarakhand','maharashtra satate board':'state board of maharashtra','cgbse raipur':'state board of chhattisgarh','jharkhand accademic council':'state board of jharkhand',\n",
    "                       'nagpur divisional board':'state board of maharashtra','nasik':'state board of maharashtra','borad of intermediate':'state board of ap','technical board, punchkula':'state board of haryana',\n",
    "                       'jaycee matriculation school':'state board of tamilnadu','chse, odisha':'state board of orissa','intermedite':'state board of ap','board of intermidiate examination':'state board of ap',\n",
    "                       'hslc (tamil nadu state board)':'state board of tamilnadu','matric board':'state board of bihar','higher secondary education':'state board of orissa',\n",
    "                       'tamilnadu higher secondary education board':'state board of tamilnadu','state board - west bengal council of higher secondary education : wbchse':'state board of wb',\n",
    "                       'intermediate board of education':'state board of ap','state syllabus':'state board of ap','dpue':'state board of karnataka','department of technical education':'state board of telangana',\n",
    "                       'board of school education uttarakhand':'state board of uttarakhand','state board of karnataka':'state board of karnataka','jharkhand board':'state board of jharkhand',\n",
    "                       'board of school education harayana':'state board of haryana','intermediate board of education,andhra pradesh':'state board of ap','nashik board':'state board of maharashtra',\n",
    "                       'west bengal board of higher secondary education':'state board of wb','jstb,jharkhand':'state board of jharkhand','pune board':'state board of maharashtra',\n",
    "                       'chsc':'state board of orissa','up(allahabad)':'state board of up','cbse board':'cbse','west bengal council of higher secondary eucation':'state board of wb',\n",
    "                       'scte vt orissa':'state board of orissa','madhya pradesh board':'state board of mp','bsemp':'state board of mp','aurangabad board':'state board of maharashtra',\n",
    "                       'aligarh muslim university':'state board of up','gseb/technical education board':'state board of gujarat','dav public school':'state board',\n",
    "                       'biec, patna':'state board of bihar','electonincs and communication(dote)':'state board of tamilnadu','amravati divisional board':'state board of maharashtra',\n",
    "                       'karnataka pu':'state board of karnataka','diploma in engg (e &tc) tilak maharashtra vidayapeeth':'state board of maharshtra','punjab state board of technical education & industrial training, chandigarh':'state board of punjab',\n",
    "                       'ua':'state board of uttarakhand','pub':'state board','board of intermediate(bie)':'state board of ap','jyoti nivas':'state board of karnataka','board of secondary school of education':'state board of ap',\n",
    "                       'msbte pune':'state board of maharashtra','secondary board of rajasthan':'state board of rajsthan','bseb, patna':'state board of bihar','mp board bhopal':'state board of mp',\n",
    "                       'tamil nadu polytechnic':'state board of tamilnadu','ms board':'state board of maharashtra','jaswant modern school':'state board of mp','punjab state board of technical education & industrial training':'state board of punjab',\n",
    "                       'stateboard/tamil nadu':'state board of tamilnadu','cbsc':'cbse','department of pre university education':'state board of karnataka',\n",
    "                       'karnataka education board':'state board of karnataka','ssm srsecschool':'state board of haryana','sbte, jharkhand':'state board of jharkhand',\n",
    "                       'government polytechnic mumbai , mumbai board':'state board of maharashtra','diploma(msbte)':'state board of maharashtra','kerala':'state board of kerala',\n",
    "                       'baord of intermediate education':'state board of ap','cicse':'state board','sda matric higher secondary school':'state board of tamilnadu',\n",
    "                       'international baccalaureate (ib) diploma':'state board','hbsc':'state board of haryana','psbte':'state board of punjab','p u board, karnataka':'state board of karnataka',\n",
    "                       'sjrcw':'state board of karnataka','state bord':'state board','intermediate board of andhra pardesh':'state board of ap',\n",
    "                       'isce':'isc','maharashtra state board mumbai divisional board':'state board of maharashtra','hisher seconadry examination(state board)':'state board',\n",
    "                       'ahsec':'state board of assam','dav public school,hehal':'state board of jharkhand','board of intermidiate education,ap':'state board of ap',\n",
    "                       'state board of technical education and training':'state board of telangana','karnataka board secondary education':'state board of karnataka',\n",
    "                       'biec-patna':'state board of bihar','bihar intermediate education council, patna':'state board of bihar','bright way college, (up board)':'state board of up',\n",
    "                       'boardofintermediate':'state board of ap','council for indian school certificate examination':'isc','cbese':'cbse',\n",
    "                       'biec patna':'state board of bihar','intermediate board examination':'state board of ap','isc board , new delhi':'isc',\n",
    "                       'board of intrmediate education,ap':'state board of ap','cbse,new delhi':'cbse','sri chaitanya junior kalasala':'state board of ap',\n",
    "                       'intermediate state board':'state board of ap','dote (diploma - computer engg)':'state board of tamilnadu','narayana junior college':'state board of ap',\n",
    "                       's j polytechnic':'state board of karnataka','department of technical education, bangalore':'state board of karnataka','madhya pradesh open school':'state board of mp',\n",
    "                       'mp-bse':'state board of mp','board of intermediate,ap':'state board of ap','karnataka secondary education':'state board of karnataka','board of intermeadiate education':'state board of ap',\n",
    "                       'bteup':'state board of up','pu board karnataka':'state board of karnataka','staae board':'state board','maharashtra state board for hsc':'state board of maharashtra',\n",
    "                       'ap board for intermediate education':'state board of ap','dept of pre-university education':'state board of karnataka','diploma in computers':'state board',\n",
    "                       'stjoseph of cluny matrhrsecschool,neyveli,cuddalore district':'state board of tamilnadu','rajasthan board ajmer':'state board of rajasthan',\n",
    "                    'upbhsie':'state board of up','board of intermediate education,hyderabad':'state board of telangana','andhra pradesh board of secondary education':'state board of ap',\n",
    "                       'intermediate council patna':'state board of bihar','govt of karnataka department of pre-university education':'state board of karnataka',\n",
    "                    'board of intmediate education ap':'state board of ap','rbse (state board)':'state board of rajasthan','andhra pradesh':'state board of ap',\n",
    "                       'wbscte':'state board of wb','board fo intermediate education, ap':'state board of ap','up board,allahabad':'state board of up',\n",
    "                       'pre university':'state board of karnataka','department of pre-university education(government of karnataka)':'state board of karnataka',\n",
    "                       'west bengal council of higher secondary examination (wbchse)':'state board of wb','directorate of technical education,banglore':'state board of karnataka',\n",
    "                       'scte&vt':'state board of orissa','state board':'state board','up-board':'state board of up','up board , allahabad':'state board of up',\n",
    "                       'isc board':'isc','nagpur board':'state board of maharashtra','andhra pradesh state board':'state board of ap','state board of technical eduction panchkula':'state board of haryana',\n",
    "                       'u p':'state board of up',\n",
    "                      'up board':'state board of up',\n",
    "                      'intermediate':'state board of ap',\n",
    "                      'pu board':'state board of karnataka','himachal pradesh board of school education':'state board of hp',\n",
    "                       'board of higher secondary examination, kerala':'state board of kerala',\n",
    "                       'state board ':'state board','bciec,patna':'state board of bihar','up bord':'state board of up','kea':'state board of karnataka'\n",
    "                      },inplace=True)\n",
    "                       "
   ]
  },
  {
   "cell_type": "code",
   "execution_count": 36,
   "metadata": {},
   "outputs": [
    {
     "data": {
      "text/plain": [
       "cbse                           1426\n",
       "state board                    1301\n",
       "isc                             178\n",
       "state board of ap               151\n",
       "state board of up               148\n",
       "state board of karnataka         87\n",
       "state board of maharashtra       75\n",
       "state board of rajasthan         33\n",
       "state board of orissa            31\n",
       "state board of mp                30\n",
       "state board of telangana         30\n",
       "state board of bihar             27\n",
       "state board of wb                24\n",
       "state board of tamilnadu         22\n",
       "state board of haryana           16\n",
       "state board of jharkhand         12\n",
       "state board of punjab             9\n",
       "state board of gujarat            8\n",
       "state board of uttarakhand        7\n",
       "state board of kerala             6\n",
       "state board of j&k                4\n",
       "state board of uttaranchal        3\n",
       "state board of delhi              2\n",
       "state board of chhattisgarh       2\n",
       "state board of hp                 2\n",
       "state board of assam              1\n",
       "state board of rajsthan           1\n",
       "state board maharashtra           1\n",
       "state board of maharshtra         1\n",
       "state board of meghalaya          1\n",
       "Name: 12board, dtype: int64"
      ]
     },
     "execution_count": 36,
     "metadata": {},
     "output_type": "execute_result"
    }
   ],
   "source": [
    "df['12board'].value_counts()"
   ]
  },
  {
   "cell_type": "markdown",
   "metadata": {},
   "source": [
    "### Specialization:"
   ]
  },
  {
   "cell_type": "code",
   "execution_count": 37,
   "metadata": {},
   "outputs": [
    {
     "data": {
      "text/plain": [
       "46"
      ]
     },
     "execution_count": 37,
     "metadata": {},
     "output_type": "execute_result"
    }
   ],
   "source": [
    "len(df['Specialization'].value_counts())"
   ]
  },
  {
   "cell_type": "code",
   "execution_count": 38,
   "metadata": {},
   "outputs": [],
   "source": [
    "df['Specialization'].replace({'electronics and communication engineering':'Electronics','computer science & engineering':'Computer Science',\n",
    "                               'information technology':'Information Technology','computer engineering':'Computer Science','computer application':'Computer Science','mechanical engineering':'Mechanical Engineering',\n",
    "                               'electronics and electrical engineering':'Electronics Engineering','electronics & telecommunications':'Electronics Engineering',\n",
    "                               'electrical engineering':'Electrical Engineering','electronics & instrumentation eng':'Electronics Engineering','civil engineering':'Civil Engg',\n",
    "                               'electronics and instrumentation engineering':'Electronics Engineering','information science engineering':'Information Technology',\n",
    "                               'instrumentation and control engineering':'Electrical Engineering','electronics engineering':'Electronics Engineering','biotechnology':'Biotechnology',\n",
    "                               'other':'Other','industrial & production engineering':'Industrial Engineering','chemical engineering':'Chemical Engineering',\n",
    "                                'applied electronics and instrumentation':'Electronics Engineering','telecommunication engineering':'Telecommunication Engineering',\n",
    "                               'computer science and technology':'Computer Science','automobile/automotive engineering':'Mechanical Engineering','mechanical and automation':'Mechanical Engineering',\n",
    "                               'instrumentation engineering':'Electrical Engineering','mechatronics':'Mechanical Engineering','electronics and computer engineering':'Electronics Engineering',\n",
    "                               'aeronautical engineering':'Aeronautical Engineering','biomedical engineering':'Biotechnology','electrical and power engineering':'Electrical Engineering',\n",
    "                               'industrial engineering':'Industrial Engineering','metallurgical engineering':'Metallurgical Engineering','information & communication technology':'Information Technology',\n",
    "                               'computer science':'Computer Science','ceramic engineering':'Chemical Engineering','computer and communication engineering':'Computer Science',\n",
    "                               'information science':'Information Technology','power systems and automation':'Electrical Engineering','industrial & management engineering':'Industrial Mgmt',\n",
    "                               'polymer technology':'Polymer Technology','internal combustion engine':'Mechanical Engineering','control and instrumentation engineering':'Electrical Engineering',\n",
    "                               'mechanical & production engineering':'Mechanical Engineering','electronics':'Electronics Engineering','embedded systems technology':'Electronics Engineering',\n",
    "                               'computer networking':'Computer Science'},inplace=True)"
   ]
  },
  {
   "cell_type": "code",
   "execution_count": 39,
   "metadata": {},
   "outputs": [
    {
     "data": {
      "text/plain": [
       "16"
      ]
     },
     "execution_count": 39,
     "metadata": {},
     "output_type": "execute_result"
    }
   ],
   "source": [
    "len(df['Specialization'].value_counts())"
   ]
  },
  {
   "cell_type": "markdown",
   "metadata": {},
   "source": [
    "## DOB:"
   ]
  },
  {
   "cell_type": "code",
   "execution_count": 40,
   "metadata": {},
   "outputs": [],
   "source": [
    "df['DOB_yr'] = df['DOB'].dt.year"
   ]
  },
  {
   "cell_type": "markdown",
   "metadata": {},
   "source": [
    "## Year Gap:"
   ]
  },
  {
   "cell_type": "code",
   "execution_count": 41,
   "metadata": {},
   "outputs": [],
   "source": [
    "df['12Gap'] = df['12graduation']-df['DOB_yr']\n",
    "df['GradGap']  = df['GraduationYear']-df['DOB_yr']"
   ]
  },
  {
   "cell_type": "code",
   "execution_count": 42,
   "metadata": {},
   "outputs": [],
   "source": [
    "df.drop(['DOB','12graduation','GraduationYear','curr_date','DOJ','DOL'],axis=1,inplace=True)"
   ]
  },
  {
   "cell_type": "markdown",
   "metadata": {},
   "source": [
    "### College GPA:"
   ]
  },
  {
   "cell_type": "code",
   "execution_count": 43,
   "metadata": {},
   "outputs": [],
   "source": [
    "a = [lambda x:x*9.5 if x<10 else x]\n",
    "df['collegeGPA'] = df['collegeGPA'].apply(a)"
   ]
  },
  {
   "cell_type": "markdown",
   "metadata": {},
   "source": [
    "### Domain:"
   ]
  },
  {
   "cell_type": "code",
   "execution_count": 44,
   "metadata": {},
   "outputs": [],
   "source": [
    "df['ComputerProgramming'].replace(-1,0,inplace=True),\n",
    "df['ElectronicsAndSemicon'].replace(-1,0,inplace=True),\n",
    "df['ComputerScience'].replace(-1,0,inplace=True),\n",
    "df['MechanicalEngg'].replace(-1,0,inplace=True),\n",
    "df['ElectricalEngg'].replace(-1,0,inplace=True),\n",
    "df['TelecomEngg'].replace(-1,0,inplace=True),\n",
    "df['CivilEngg'].replace(-1,0,inplace=True)"
   ]
  },
  {
   "cell_type": "code",
   "execution_count": 45,
   "metadata": {},
   "outputs": [],
   "source": [
    "df['Score'] = df[['ComputerProgramming','ElectronicsAndSemicon', 'ComputerScience', 'MechanicalEngg','ElectricalEngg', 'TelecomEngg', 'CivilEngg']].max(axis=1)"
   ]
  },
  {
   "cell_type": "code",
   "execution_count": 46,
   "metadata": {},
   "outputs": [],
   "source": [
    "df['Score'].replace({0:np.NaN},inplace=True)"
   ]
  },
  {
   "cell_type": "code",
   "execution_count": 47,
   "metadata": {},
   "outputs": [],
   "source": [
    "df['Score'].fillna(method='ffill',inplace=True)"
   ]
  },
  {
   "cell_type": "code",
   "execution_count": 48,
   "metadata": {},
   "outputs": [
    {
     "data": {
      "text/html": [
       "<div>\n",
       "<style scoped>\n",
       "    .dataframe tbody tr th:only-of-type {\n",
       "        vertical-align: middle;\n",
       "    }\n",
       "\n",
       "    .dataframe tbody tr th {\n",
       "        vertical-align: top;\n",
       "    }\n",
       "\n",
       "    .dataframe thead th {\n",
       "        text-align: right;\n",
       "    }\n",
       "</style>\n",
       "<table border=\"1\" class=\"dataframe\">\n",
       "  <thead>\n",
       "    <tr style=\"text-align: right;\">\n",
       "      <th></th>\n",
       "      <th>ComputerProgramming</th>\n",
       "      <th>ElectronicsAndSemicon</th>\n",
       "      <th>ComputerScience</th>\n",
       "      <th>MechanicalEngg</th>\n",
       "      <th>ElectricalEngg</th>\n",
       "      <th>TelecomEngg</th>\n",
       "      <th>CivilEngg</th>\n",
       "      <th>Score</th>\n",
       "    </tr>\n",
       "  </thead>\n",
       "  <tbody>\n",
       "    <tr>\n",
       "      <th>0</th>\n",
       "      <td>445</td>\n",
       "      <td>0</td>\n",
       "      <td>0</td>\n",
       "      <td>0</td>\n",
       "      <td>0</td>\n",
       "      <td>0</td>\n",
       "      <td>0</td>\n",
       "      <td>445.0</td>\n",
       "    </tr>\n",
       "    <tr>\n",
       "      <th>1</th>\n",
       "      <td>0</td>\n",
       "      <td>466</td>\n",
       "      <td>0</td>\n",
       "      <td>0</td>\n",
       "      <td>0</td>\n",
       "      <td>0</td>\n",
       "      <td>0</td>\n",
       "      <td>466.0</td>\n",
       "    </tr>\n",
       "    <tr>\n",
       "      <th>2</th>\n",
       "      <td>395</td>\n",
       "      <td>0</td>\n",
       "      <td>0</td>\n",
       "      <td>0</td>\n",
       "      <td>0</td>\n",
       "      <td>0</td>\n",
       "      <td>0</td>\n",
       "      <td>395.0</td>\n",
       "    </tr>\n",
       "    <tr>\n",
       "      <th>3</th>\n",
       "      <td>615</td>\n",
       "      <td>0</td>\n",
       "      <td>0</td>\n",
       "      <td>0</td>\n",
       "      <td>0</td>\n",
       "      <td>0</td>\n",
       "      <td>0</td>\n",
       "      <td>615.0</td>\n",
       "    </tr>\n",
       "    <tr>\n",
       "      <th>4</th>\n",
       "      <td>0</td>\n",
       "      <td>233</td>\n",
       "      <td>0</td>\n",
       "      <td>0</td>\n",
       "      <td>0</td>\n",
       "      <td>0</td>\n",
       "      <td>0</td>\n",
       "      <td>233.0</td>\n",
       "    </tr>\n",
       "  </tbody>\n",
       "</table>\n",
       "</div>"
      ],
      "text/plain": [
       "   ComputerProgramming  ElectronicsAndSemicon  ComputerScience  \\\n",
       "0                  445                      0                0   \n",
       "1                    0                    466                0   \n",
       "2                  395                      0                0   \n",
       "3                  615                      0                0   \n",
       "4                    0                    233                0   \n",
       "\n",
       "   MechanicalEngg  ElectricalEngg  TelecomEngg  CivilEngg  Score  \n",
       "0               0               0            0          0  445.0  \n",
       "1               0               0            0          0  466.0  \n",
       "2               0               0            0          0  395.0  \n",
       "3               0               0            0          0  615.0  \n",
       "4               0               0            0          0  233.0  "
      ]
     },
     "execution_count": 48,
     "metadata": {},
     "output_type": "execute_result"
    }
   ],
   "source": [
    "df[['ComputerProgramming','ElectronicsAndSemicon','ComputerScience','MechanicalEngg','ElectricalEngg','TelecomEngg','CivilEngg','Score']].head()"
   ]
  },
  {
   "cell_type": "code",
   "execution_count": 49,
   "metadata": {},
   "outputs": [],
   "source": [
    "df['Domain_Test'] = df[['ComputerProgramming','ElectronicsAndSemicon', 'ComputerScience', 'MechanicalEngg','ElectricalEngg', 'TelecomEngg', 'CivilEngg']].idxmax(axis=1)"
   ]
  },
  {
   "cell_type": "code",
   "execution_count": 50,
   "metadata": {},
   "outputs": [],
   "source": [
    "df['CP'] = np.where(df['Domain_Test']=='ComputerProgramming',1,0)\n",
    "df['ES'] = np.where(df['Domain_Test']=='ElectronicsAndSemicon',1,0)\n",
    "df['CS'] = np.where(df['Domain_Test']=='ComputerScience',1,0)\n",
    "df['ME'] = np.where(df['Domain_Test']=='MechanicalEngg',1,0)\n",
    "df['EE'] = np.where(df['Domain_Test']=='ElectricalEngg',1,0)\n",
    "df['TE'] = np.where(df['Domain_Test']=='TelecomEngg',1,0)\n",
    "df['CE'] = np.where(df['Domain_Test']=='CivilEngg',1,0)"
   ]
  },
  {
   "cell_type": "code",
   "execution_count": 51,
   "metadata": {},
   "outputs": [],
   "source": [
    "df.drop(['ComputerProgramming','ElectronicsAndSemicon', 'ComputerScience', 'MechanicalEngg','ElectricalEngg', 'TelecomEngg', 'CivilEngg'],axis=1,inplace=True)"
   ]
  },
  {
   "cell_type": "code",
   "execution_count": 52,
   "metadata": {},
   "outputs": [
    {
     "data": {
      "text/html": [
       "<div>\n",
       "<style scoped>\n",
       "    .dataframe tbody tr th:only-of-type {\n",
       "        vertical-align: middle;\n",
       "    }\n",
       "\n",
       "    .dataframe tbody tr th {\n",
       "        vertical-align: top;\n",
       "    }\n",
       "\n",
       "    .dataframe thead th {\n",
       "        text-align: right;\n",
       "    }\n",
       "</style>\n",
       "<table border=\"1\" class=\"dataframe\">\n",
       "  <thead>\n",
       "    <tr style=\"text-align: right;\">\n",
       "      <th></th>\n",
       "      <th>Salary</th>\n",
       "      <th>Designation</th>\n",
       "      <th>Gender</th>\n",
       "      <th>10percentage</th>\n",
       "      <th>10board</th>\n",
       "      <th>12percentage</th>\n",
       "      <th>12board</th>\n",
       "      <th>CollegeTier</th>\n",
       "      <th>Degree</th>\n",
       "      <th>Specialization</th>\n",
       "      <th>collegeGPA</th>\n",
       "      <th>CollegeCityTier</th>\n",
       "      <th>CollegeState</th>\n",
       "      <th>English</th>\n",
       "      <th>Logical</th>\n",
       "      <th>Quant</th>\n",
       "      <th>Domain</th>\n",
       "      <th>conscientiousness</th>\n",
       "      <th>agreeableness</th>\n",
       "      <th>extraversion</th>\n",
       "      <th>nueroticism</th>\n",
       "      <th>openess_to_experience</th>\n",
       "      <th>Exp</th>\n",
       "      <th>Age</th>\n",
       "      <th>JobRegion</th>\n",
       "      <th>DOB_yr</th>\n",
       "      <th>12Gap</th>\n",
       "      <th>GradGap</th>\n",
       "      <th>Score</th>\n",
       "      <th>Domain_Test</th>\n",
       "      <th>CP</th>\n",
       "      <th>ES</th>\n",
       "      <th>CS</th>\n",
       "      <th>ME</th>\n",
       "      <th>EE</th>\n",
       "      <th>TE</th>\n",
       "      <th>CE</th>\n",
       "    </tr>\n",
       "  </thead>\n",
       "  <tbody>\n",
       "    <tr>\n",
       "      <th>0</th>\n",
       "      <td>420000</td>\n",
       "      <td>senior quality engineer</td>\n",
       "      <td>f</td>\n",
       "      <td>84.3</td>\n",
       "      <td>state board of ap</td>\n",
       "      <td>95.8</td>\n",
       "      <td>state board of ap</td>\n",
       "      <td>2</td>\n",
       "      <td>B.Tech/B.E.</td>\n",
       "      <td>Computer Science</td>\n",
       "      <td>78.00</td>\n",
       "      <td>0</td>\n",
       "      <td>Andhra Pradesh</td>\n",
       "      <td>515</td>\n",
       "      <td>585</td>\n",
       "      <td>525</td>\n",
       "      <td>0.635979</td>\n",
       "      <td>0.9737</td>\n",
       "      <td>0.8128</td>\n",
       "      <td>0.5269</td>\n",
       "      <td>1.35490</td>\n",
       "      <td>-0.4455</td>\n",
       "      <td>3.6</td>\n",
       "      <td>26.0</td>\n",
       "      <td>South-South</td>\n",
       "      <td>1990</td>\n",
       "      <td>17</td>\n",
       "      <td>21.0</td>\n",
       "      <td>445.0</td>\n",
       "      <td>ComputerProgramming</td>\n",
       "      <td>1</td>\n",
       "      <td>0</td>\n",
       "      <td>0</td>\n",
       "      <td>0</td>\n",
       "      <td>0</td>\n",
       "      <td>0</td>\n",
       "      <td>0</td>\n",
       "    </tr>\n",
       "    <tr>\n",
       "      <th>1</th>\n",
       "      <td>500000</td>\n",
       "      <td>assistant manager</td>\n",
       "      <td>m</td>\n",
       "      <td>85.4</td>\n",
       "      <td>cbse</td>\n",
       "      <td>85.0</td>\n",
       "      <td>cbse</td>\n",
       "      <td>2</td>\n",
       "      <td>B.Tech/B.E.</td>\n",
       "      <td>Electronics</td>\n",
       "      <td>70.06</td>\n",
       "      <td>0</td>\n",
       "      <td>Madhya Pradesh</td>\n",
       "      <td>695</td>\n",
       "      <td>610</td>\n",
       "      <td>780</td>\n",
       "      <td>0.960603</td>\n",
       "      <td>-0.7335</td>\n",
       "      <td>0.3789</td>\n",
       "      <td>1.2396</td>\n",
       "      <td>-0.10760</td>\n",
       "      <td>0.8637</td>\n",
       "      <td>2.3</td>\n",
       "      <td>26.0</td>\n",
       "      <td>North-South</td>\n",
       "      <td>1989</td>\n",
       "      <td>18</td>\n",
       "      <td>23.0</td>\n",
       "      <td>466.0</td>\n",
       "      <td>ElectronicsAndSemicon</td>\n",
       "      <td>0</td>\n",
       "      <td>1</td>\n",
       "      <td>0</td>\n",
       "      <td>0</td>\n",
       "      <td>0</td>\n",
       "      <td>0</td>\n",
       "      <td>0</td>\n",
       "    </tr>\n",
       "    <tr>\n",
       "      <th>2</th>\n",
       "      <td>325000</td>\n",
       "      <td>systems engineer</td>\n",
       "      <td>f</td>\n",
       "      <td>85.0</td>\n",
       "      <td>cbse</td>\n",
       "      <td>68.2</td>\n",
       "      <td>cbse</td>\n",
       "      <td>2</td>\n",
       "      <td>B.Tech/B.E.</td>\n",
       "      <td>Information Technology</td>\n",
       "      <td>70.00</td>\n",
       "      <td>0</td>\n",
       "      <td>Uttar Pradesh</td>\n",
       "      <td>615</td>\n",
       "      <td>545</td>\n",
       "      <td>370</td>\n",
       "      <td>0.450877</td>\n",
       "      <td>0.2718</td>\n",
       "      <td>1.7109</td>\n",
       "      <td>0.1637</td>\n",
       "      <td>-0.86820</td>\n",
       "      <td>0.6721</td>\n",
       "      <td>1.6</td>\n",
       "      <td>23.0</td>\n",
       "      <td>South-East</td>\n",
       "      <td>1992</td>\n",
       "      <td>18</td>\n",
       "      <td>22.0</td>\n",
       "      <td>395.0</td>\n",
       "      <td>ComputerProgramming</td>\n",
       "      <td>1</td>\n",
       "      <td>0</td>\n",
       "      <td>0</td>\n",
       "      <td>0</td>\n",
       "      <td>0</td>\n",
       "      <td>0</td>\n",
       "      <td>0</td>\n",
       "    </tr>\n",
       "    <tr>\n",
       "      <th>3</th>\n",
       "      <td>1100000</td>\n",
       "      <td>senior software engineer</td>\n",
       "      <td>m</td>\n",
       "      <td>85.6</td>\n",
       "      <td>cbse</td>\n",
       "      <td>83.6</td>\n",
       "      <td>cbse</td>\n",
       "      <td>1</td>\n",
       "      <td>B.Tech/B.E.</td>\n",
       "      <td>Computer Science</td>\n",
       "      <td>74.64</td>\n",
       "      <td>1</td>\n",
       "      <td>Delhi</td>\n",
       "      <td>635</td>\n",
       "      <td>585</td>\n",
       "      <td>625</td>\n",
       "      <td>0.974396</td>\n",
       "      <td>0.0464</td>\n",
       "      <td>0.3448</td>\n",
       "      <td>-0.3440</td>\n",
       "      <td>-0.40780</td>\n",
       "      <td>-0.9194</td>\n",
       "      <td>4.5</td>\n",
       "      <td>26.0</td>\n",
       "      <td>North-North</td>\n",
       "      <td>1989</td>\n",
       "      <td>18</td>\n",
       "      <td>22.0</td>\n",
       "      <td>615.0</td>\n",
       "      <td>ComputerProgramming</td>\n",
       "      <td>1</td>\n",
       "      <td>0</td>\n",
       "      <td>0</td>\n",
       "      <td>0</td>\n",
       "      <td>0</td>\n",
       "      <td>0</td>\n",
       "      <td>0</td>\n",
       "    </tr>\n",
       "    <tr>\n",
       "      <th>4</th>\n",
       "      <td>200000</td>\n",
       "      <td>get</td>\n",
       "      <td>m</td>\n",
       "      <td>78.0</td>\n",
       "      <td>cbse</td>\n",
       "      <td>76.8</td>\n",
       "      <td>cbse</td>\n",
       "      <td>2</td>\n",
       "      <td>B.Tech/B.E.</td>\n",
       "      <td>Electronics</td>\n",
       "      <td>73.90</td>\n",
       "      <td>0</td>\n",
       "      <td>Uttar Pradesh</td>\n",
       "      <td>545</td>\n",
       "      <td>625</td>\n",
       "      <td>465</td>\n",
       "      <td>0.124502</td>\n",
       "      <td>-0.8810</td>\n",
       "      <td>-0.2793</td>\n",
       "      <td>-1.0697</td>\n",
       "      <td>0.09163</td>\n",
       "      <td>-0.1295</td>\n",
       "      <td>1.0</td>\n",
       "      <td>25.0</td>\n",
       "      <td>North-North</td>\n",
       "      <td>1991</td>\n",
       "      <td>17</td>\n",
       "      <td>21.0</td>\n",
       "      <td>233.0</td>\n",
       "      <td>ElectronicsAndSemicon</td>\n",
       "      <td>0</td>\n",
       "      <td>1</td>\n",
       "      <td>0</td>\n",
       "      <td>0</td>\n",
       "      <td>0</td>\n",
       "      <td>0</td>\n",
       "      <td>0</td>\n",
       "    </tr>\n",
       "  </tbody>\n",
       "</table>\n",
       "</div>"
      ],
      "text/plain": [
       "    Salary               Designation Gender  10percentage            10board  \\\n",
       "0   420000   senior quality engineer      f          84.3  state board of ap   \n",
       "1   500000         assistant manager      m          85.4               cbse   \n",
       "2   325000          systems engineer      f          85.0               cbse   \n",
       "3  1100000  senior software engineer      m          85.6               cbse   \n",
       "4   200000                       get      m          78.0               cbse   \n",
       "\n",
       "   12percentage            12board  CollegeTier       Degree  \\\n",
       "0          95.8  state board of ap            2  B.Tech/B.E.   \n",
       "1          85.0               cbse            2  B.Tech/B.E.   \n",
       "2          68.2               cbse            2  B.Tech/B.E.   \n",
       "3          83.6               cbse            1  B.Tech/B.E.   \n",
       "4          76.8               cbse            2  B.Tech/B.E.   \n",
       "\n",
       "           Specialization  collegeGPA  CollegeCityTier    CollegeState  \\\n",
       "0        Computer Science       78.00                0  Andhra Pradesh   \n",
       "1             Electronics       70.06                0  Madhya Pradesh   \n",
       "2  Information Technology       70.00                0   Uttar Pradesh   \n",
       "3        Computer Science       74.64                1           Delhi   \n",
       "4             Electronics       73.90                0   Uttar Pradesh   \n",
       "\n",
       "   English  Logical  Quant    Domain  conscientiousness  agreeableness  \\\n",
       "0      515      585    525  0.635979             0.9737         0.8128   \n",
       "1      695      610    780  0.960603            -0.7335         0.3789   \n",
       "2      615      545    370  0.450877             0.2718         1.7109   \n",
       "3      635      585    625  0.974396             0.0464         0.3448   \n",
       "4      545      625    465  0.124502            -0.8810        -0.2793   \n",
       "\n",
       "   extraversion  nueroticism  openess_to_experience  Exp   Age    JobRegion  \\\n",
       "0        0.5269      1.35490                -0.4455  3.6  26.0  South-South   \n",
       "1        1.2396     -0.10760                 0.8637  2.3  26.0  North-South   \n",
       "2        0.1637     -0.86820                 0.6721  1.6  23.0   South-East   \n",
       "3       -0.3440     -0.40780                -0.9194  4.5  26.0  North-North   \n",
       "4       -1.0697      0.09163                -0.1295  1.0  25.0  North-North   \n",
       "\n",
       "   DOB_yr  12Gap  GradGap  Score            Domain_Test  CP  ES  CS  ME  EE  \\\n",
       "0    1990     17     21.0  445.0    ComputerProgramming   1   0   0   0   0   \n",
       "1    1989     18     23.0  466.0  ElectronicsAndSemicon   0   1   0   0   0   \n",
       "2    1992     18     22.0  395.0    ComputerProgramming   1   0   0   0   0   \n",
       "3    1989     18     22.0  615.0    ComputerProgramming   1   0   0   0   0   \n",
       "4    1991     17     21.0  233.0  ElectronicsAndSemicon   0   1   0   0   0   \n",
       "\n",
       "   TE  CE  \n",
       "0   0   0  \n",
       "1   0   0  \n",
       "2   0   0  \n",
       "3   0   0  \n",
       "4   0   0  "
      ]
     },
     "execution_count": 52,
     "metadata": {},
     "output_type": "execute_result"
    }
   ],
   "source": [
    "df.head()"
   ]
  },
  {
   "cell_type": "code",
   "execution_count": 53,
   "metadata": {
    "scrolled": true
   },
   "outputs": [
    {
     "data": {
      "text/plain": [
       "419"
      ]
     },
     "execution_count": 53,
     "metadata": {},
     "output_type": "execute_result"
    }
   ],
   "source": [
    "len(df['Designation'].value_counts())"
   ]
  },
  {
   "cell_type": "markdown",
   "metadata": {},
   "source": [
    "# Outliers:"
   ]
  },
  {
   "cell_type": "code",
   "execution_count": 54,
   "metadata": {},
   "outputs": [
    {
     "data": {
      "text/plain": [
       "109"
      ]
     },
     "execution_count": 54,
     "metadata": {},
     "output_type": "execute_result"
    }
   ],
   "source": [
    "q1_s = df['Salary'].quantile(q= 0.25)\n",
    "q3_s = df['Salary'].quantile(q= 0.75)\n",
    "iqr_s = q3_s-q1_s\n",
    "Salary_o = df[(df['Salary']<(q1_s-1.5*iqr_s)) | (df['Salary']>(q3_s+1.5*iqr_s))].shape[0]\n",
    "Salary_o"
   ]
  },
  {
   "cell_type": "code",
   "execution_count": 55,
   "metadata": {},
   "outputs": [
    {
     "data": {
      "text/plain": [
       "30"
      ]
     },
     "execution_count": 55,
     "metadata": {},
     "output_type": "execute_result"
    }
   ],
   "source": [
    "q1_10 = df['10percentage'].quantile(q= 0.25)\n",
    "q3_10 = df['10percentage'].quantile(q= 0.75)\n",
    "iqr_10 = q3_10-q1_10\n",
    "tenthpercentage = df[(df['10percentage']<(q1_10-1.5*iqr_10)) | (df['10percentage']>(q3_10+1.5*iqr_10))].shape[0]\n",
    "tenthpercentage"
   ]
  },
  {
   "cell_type": "code",
   "execution_count": 56,
   "metadata": {},
   "outputs": [
    {
     "data": {
      "text/plain": [
       "1"
      ]
     },
     "execution_count": 56,
     "metadata": {},
     "output_type": "execute_result"
    }
   ],
   "source": [
    "q1_12 = df['12percentage'].quantile(q= 0.25)\n",
    "q3_12 = df['12percentage'].quantile(q= 0.75)\n",
    "iqr_12 = q3_12-q1_12\n",
    "twelvethpercentage = df[(df['12percentage']<(q1_12-1.5*iqr_12)) | (df['12percentage']>(q3_12+1.5*iqr_12))].shape[0]\n",
    "twelvethpercentage"
   ]
  },
  {
   "cell_type": "code",
   "execution_count": 57,
   "metadata": {
    "scrolled": true
   },
   "outputs": [
    {
     "data": {
      "text/plain": [
       "26"
      ]
     },
     "execution_count": 57,
     "metadata": {},
     "output_type": "execute_result"
    }
   ],
   "source": [
    "q1_c = df['collegeGPA'].quantile(q= 0.25)\n",
    "q3_c = df['collegeGPA'].quantile(q= 0.75)\n",
    "iqr_c = q3_c-q1_c\n",
    "CollegeGPA_o = df[(df['collegeGPA']<(q1_c-1.5*iqr_c)) | (df['collegeGPA']>(q3_c+1.5*iqr_c))].shape[0]\n",
    "CollegeGPA_o"
   ]
  },
  {
   "cell_type": "code",
   "execution_count": 58,
   "metadata": {},
   "outputs": [
    {
     "data": {
      "text/plain": [
       "15"
      ]
     },
     "execution_count": 58,
     "metadata": {},
     "output_type": "execute_result"
    }
   ],
   "source": [
    "q1_e = df['English'].quantile(q= 0.25)\n",
    "q3_e = df['English'].quantile(q= 0.75)\n",
    "iqr_e = q3_e-q1_e\n",
    "English_o = df[(df['English']<(q1_e-1.5*iqr_e)) | (df['English']>(q3_e+1.5*iqr_e))].shape[0]\n",
    "English_o"
   ]
  },
  {
   "cell_type": "code",
   "execution_count": 59,
   "metadata": {},
   "outputs": [
    {
     "data": {
      "text/plain": [
       "18"
      ]
     },
     "execution_count": 59,
     "metadata": {},
     "output_type": "execute_result"
    }
   ],
   "source": [
    "q1_l = df['Logical'].quantile(q= 0.25)\n",
    "q3_l = df['Logical'].quantile(q= 0.75)\n",
    "iqr_l = q3_l-q1_l\n",
    "Logical_o = df[(df['Logical']<(q1_l-1.5*iqr_l)) | (df['Logical']>(q3_l+1.5*iqr_l))].shape[0]\n",
    "Logical_o"
   ]
  },
  {
   "cell_type": "code",
   "execution_count": 60,
   "metadata": {},
   "outputs": [
    {
     "data": {
      "text/plain": [
       "25"
      ]
     },
     "execution_count": 60,
     "metadata": {},
     "output_type": "execute_result"
    }
   ],
   "source": [
    "q1_q = df['Quant'].quantile(q= 0.25)\n",
    "q3_q = df['Quant'].quantile(q= 0.75)\n",
    "iqr_q = q3_q-q1_q\n",
    "Quant_o = df[(df['Quant']<(q1_q-1.5*iqr_q)) | (df['Quant']>(q3_q+1.5*iqr_q))].shape[0]\n",
    "Quant_o"
   ]
  },
  {
   "cell_type": "code",
   "execution_count": 61,
   "metadata": {},
   "outputs": [
    {
     "data": {
      "text/plain": [
       "0"
      ]
     },
     "execution_count": 61,
     "metadata": {},
     "output_type": "execute_result"
    }
   ],
   "source": [
    "q1_d = df['Domain'].quantile(q= 0.25)\n",
    "q3_d = df['Domain'].quantile(q= 0.75)\n",
    "iqr_d = q3_d-q1_d\n",
    "Domain_o = df[(df['Domain']<(q1_d-1.5*iqr_d)) | (df['Domain']>(q3_d+1.5*iqr_d))].shape[0]\n",
    "Domain_o"
   ]
  },
  {
   "cell_type": "code",
   "execution_count": 62,
   "metadata": {},
   "outputs": [
    {
     "data": {
      "text/plain": [
       "39"
      ]
     },
     "execution_count": 62,
     "metadata": {},
     "output_type": "execute_result"
    }
   ],
   "source": [
    "q1_c = df['conscientiousness'].quantile(q= 0.25)\n",
    "q3_c = df['conscientiousness'].quantile(q= 0.75)\n",
    "iqr_c = q3_c-q1_c\n",
    "conscientiousness_o = df[(df['conscientiousness']<(q1_c-1.5*iqr_c)) | (df['conscientiousness']>(q3_c+1.5*iqr_c))].shape[0]\n",
    "conscientiousness_o"
   ]
  },
  {
   "cell_type": "code",
   "execution_count": 63,
   "metadata": {},
   "outputs": [
    {
     "data": {
      "text/plain": [
       "123"
      ]
     },
     "execution_count": 63,
     "metadata": {},
     "output_type": "execute_result"
    }
   ],
   "source": [
    "q1_a = df['agreeableness'].quantile(q= 0.25)\n",
    "q3_a= df['agreeableness'].quantile(q= 0.75)\n",
    "iqr_a = q3_a-q1_a\n",
    "agreeableness_o = df[(df['agreeableness']<(q1_a-1.5*iqr_a)) | (df['agreeableness']>(q3_a+1.5*iqr_a))].shape[0]\n",
    "agreeableness_o"
   ]
  },
  {
   "cell_type": "code",
   "execution_count": 64,
   "metadata": {},
   "outputs": [
    {
     "data": {
      "text/plain": [
       "40"
      ]
     },
     "execution_count": 64,
     "metadata": {},
     "output_type": "execute_result"
    }
   ],
   "source": [
    "q1_ex = df['extraversion'].quantile(q= 0.25)\n",
    "q3_ex = df['extraversion'].quantile(q= 0.75)\n",
    "iqr_ex = q3_ex-q1_ex\n",
    "extraversion_o = df[(df['extraversion']<(q1_ex-1.5*iqr_ex)) | (df['extraversion']>(q3_ex+1.5*iqr_ex))].shape[0]\n",
    "extraversion_o"
   ]
  },
  {
   "cell_type": "code",
   "execution_count": 65,
   "metadata": {},
   "outputs": [
    {
     "data": {
      "text/plain": [
       "15"
      ]
     },
     "execution_count": 65,
     "metadata": {},
     "output_type": "execute_result"
    }
   ],
   "source": [
    "q1_n = df['nueroticism'].quantile(q= 0.25)\n",
    "q3_n = df['nueroticism'].quantile(q= 0.75)\n",
    "iqr_n = q3_n-q1_n\n",
    "nueroticism_o = df[(df['nueroticism']<(q1_n-1.5*iqr_n)) | (df['nueroticism']>(q3_n+1.5*iqr_n))].shape[0]\n",
    "nueroticism_o"
   ]
  },
  {
   "cell_type": "code",
   "execution_count": 66,
   "metadata": {},
   "outputs": [
    {
     "data": {
      "text/plain": [
       "95"
      ]
     },
     "execution_count": 66,
     "metadata": {},
     "output_type": "execute_result"
    }
   ],
   "source": [
    "q1_o = df['openess_to_experience'].quantile(q= 0.25)\n",
    "q3_o = df['openess_to_experience'].quantile(q= 0.75)\n",
    "iqr_o = q3_o-q1_o\n",
    "openess_to_experience_o = df[(df['openess_to_experience']<(q1_o-1.5*iqr_o)) | (df['openess_to_experience']>(q3_o+1.5*iqr_o))].shape[0]\n",
    "openess_to_experience_o"
   ]
  },
  {
   "cell_type": "code",
   "execution_count": 67,
   "metadata": {},
   "outputs": [
    {
     "data": {
      "text/plain": [
       "136"
      ]
     },
     "execution_count": 67,
     "metadata": {},
     "output_type": "execute_result"
    }
   ],
   "source": [
    "q1_exp = df['Exp'].quantile(q= 0.25)\n",
    "q3_exp = df['Exp'].quantile(q= 0.75)\n",
    "iqr_exp = q3_exp-q1_exp\n",
    "Exp_o = df[(df['Exp']<(q1_exp-1.5*iqr_exp)) | (df['Exp']>(q3_exp+1.5*iqr_exp))].shape[0]\n",
    "Exp_o"
   ]
  },
  {
   "cell_type": "code",
   "execution_count": 68,
   "metadata": {},
   "outputs": [
    {
     "data": {
      "text/plain": [
       "78"
      ]
     },
     "execution_count": 68,
     "metadata": {},
     "output_type": "execute_result"
    }
   ],
   "source": [
    "q1_age = df['Age'].quantile(q= 0.25)\n",
    "q3_age = df['Age'].quantile(q= 0.75)\n",
    "iqr_age = q3_age-q1_age\n",
    "Age_o = df[(df['Age']<(q1_age-1.5*iqr_age)) | (df['Age']>(q3_age+1.5*iqr_age))].shape[0]\n",
    "Age_o"
   ]
  },
  {
   "cell_type": "code",
   "execution_count": 69,
   "metadata": {},
   "outputs": [
    {
     "data": {
      "text/plain": [
       "51"
      ]
     },
     "execution_count": 69,
     "metadata": {},
     "output_type": "execute_result"
    }
   ],
   "source": [
    "q1_Sc = df['Score'].quantile(q= 0.25)\n",
    "q3_Sc = df['Score'].quantile(q= 0.75)\n",
    "iqr_Sc = q3_Sc-q1_Sc\n",
    "Score_o = df[(df['Score']<(q1_Sc-1.5*iqr_Sc)) | (df['Score']>(q3_Sc+1.5*iqr_Sc))].shape[0]\n",
    "Score_o"
   ]
  },
  {
   "cell_type": "code",
   "execution_count": 70,
   "metadata": {},
   "outputs": [
    {
     "data": {
      "text/html": [
       "<div>\n",
       "<style scoped>\n",
       "    .dataframe tbody tr th:only-of-type {\n",
       "        vertical-align: middle;\n",
       "    }\n",
       "\n",
       "    .dataframe tbody tr th {\n",
       "        vertical-align: top;\n",
       "    }\n",
       "\n",
       "    .dataframe thead th {\n",
       "        text-align: right;\n",
       "    }\n",
       "</style>\n",
       "<table border=\"1\" class=\"dataframe\">\n",
       "  <thead>\n",
       "    <tr style=\"text-align: right;\">\n",
       "      <th></th>\n",
       "      <th>Features</th>\n",
       "      <th>No_of_Outliers</th>\n",
       "    </tr>\n",
       "  </thead>\n",
       "  <tbody>\n",
       "    <tr>\n",
       "      <th>0</th>\n",
       "      <td>Salary</td>\n",
       "      <td>109</td>\n",
       "    </tr>\n",
       "    <tr>\n",
       "      <th>1</th>\n",
       "      <td>10percentage</td>\n",
       "      <td>30</td>\n",
       "    </tr>\n",
       "    <tr>\n",
       "      <th>2</th>\n",
       "      <td>12percentage</td>\n",
       "      <td>1</td>\n",
       "    </tr>\n",
       "    <tr>\n",
       "      <th>3</th>\n",
       "      <td>CollegeGPA</td>\n",
       "      <td>26</td>\n",
       "    </tr>\n",
       "    <tr>\n",
       "      <th>4</th>\n",
       "      <td>English</td>\n",
       "      <td>15</td>\n",
       "    </tr>\n",
       "    <tr>\n",
       "      <th>5</th>\n",
       "      <td>Logical</td>\n",
       "      <td>18</td>\n",
       "    </tr>\n",
       "    <tr>\n",
       "      <th>6</th>\n",
       "      <td>Quant</td>\n",
       "      <td>25</td>\n",
       "    </tr>\n",
       "    <tr>\n",
       "      <th>7</th>\n",
       "      <td>Domain</td>\n",
       "      <td>0</td>\n",
       "    </tr>\n",
       "    <tr>\n",
       "      <th>8</th>\n",
       "      <td>conscientiousness</td>\n",
       "      <td>39</td>\n",
       "    </tr>\n",
       "    <tr>\n",
       "      <th>9</th>\n",
       "      <td>agreeableness</td>\n",
       "      <td>123</td>\n",
       "    </tr>\n",
       "    <tr>\n",
       "      <th>10</th>\n",
       "      <td>extraversion</td>\n",
       "      <td>40</td>\n",
       "    </tr>\n",
       "    <tr>\n",
       "      <th>11</th>\n",
       "      <td>nueroticism</td>\n",
       "      <td>15</td>\n",
       "    </tr>\n",
       "    <tr>\n",
       "      <th>12</th>\n",
       "      <td>openess_to_experience</td>\n",
       "      <td>95</td>\n",
       "    </tr>\n",
       "    <tr>\n",
       "      <th>13</th>\n",
       "      <td>Exp</td>\n",
       "      <td>136</td>\n",
       "    </tr>\n",
       "    <tr>\n",
       "      <th>14</th>\n",
       "      <td>Age</td>\n",
       "      <td>78</td>\n",
       "    </tr>\n",
       "    <tr>\n",
       "      <th>15</th>\n",
       "      <td>Score</td>\n",
       "      <td>51</td>\n",
       "    </tr>\n",
       "  </tbody>\n",
       "</table>\n",
       "</div>"
      ],
      "text/plain": [
       "                 Features  No_of_Outliers\n",
       "0                  Salary             109\n",
       "1            10percentage              30\n",
       "2            12percentage               1\n",
       "3              CollegeGPA              26\n",
       "4                 English              15\n",
       "5                 Logical              18\n",
       "6                   Quant              25\n",
       "7                  Domain               0\n",
       "8       conscientiousness              39\n",
       "9           agreeableness             123\n",
       "10           extraversion              40\n",
       "11            nueroticism              15\n",
       "12  openess_to_experience              95\n",
       "13                    Exp             136\n",
       "14                    Age              78\n",
       "15                  Score              51"
      ]
     },
     "execution_count": 70,
     "metadata": {},
     "output_type": "execute_result"
    }
   ],
   "source": [
    "Features = ['Salary','10percentage','12percentage','CollegeGPA','English','Logical','Quant','Domain','conscientiousness','agreeableness','extraversion','nueroticism','openess_to_experience','Exp','Age','Score']\n",
    "No_of_outliers = [Salary_o,tenthpercentage,twelvethpercentage,CollegeGPA_o,English_o,Logical_o,Quant_o,Domain_o,conscientiousness_o,agreeableness_o,extraversion_o,nueroticism_o,openess_to_experience_o,Exp_o,Age_o,Score_o]\n",
    "Outliers  = pd.DataFrame({'Features':Features,'No_of_Outliers':No_of_outliers})\n",
    "Outliers"
   ]
  },
  {
   "cell_type": "markdown",
   "metadata": {},
   "source": [
    "# Building Model For Domain:"
   ]
  },
  {
   "cell_type": "code",
   "execution_count": 71,
   "metadata": {},
   "outputs": [
    {
     "name": "stdout",
     "output_type": "stream",
     "text": [
      "(3998, 37)\n"
     ]
    }
   ],
   "source": [
    "print(df.shape)"
   ]
  },
  {
   "cell_type": "code",
   "execution_count": 72,
   "metadata": {},
   "outputs": [],
   "source": [
    "#cols = df.drop('Domain',axis=1).columns\n",
    "#df.dropna(inplace=True,subset=cols)"
   ]
  },
  {
   "cell_type": "code",
   "execution_count": 73,
   "metadata": {},
   "outputs": [],
   "source": [
    "df['JobRegion'].fillna(value='unknown',inplace=True)\n",
    "df['10board'].fillna(value='unknown',inplace=True)\n",
    "df['12board'].fillna(value='unknown',inplace=True)\n",
    "df['GradGap'].fillna(value = st.mode(df['GradGap']),inplace=True)"
   ]
  },
  {
   "cell_type": "code",
   "execution_count": 74,
   "metadata": {},
   "outputs": [],
   "source": [
    "#df1 = df.copy()"
   ]
  },
  {
   "cell_type": "code",
   "execution_count": 75,
   "metadata": {},
   "outputs": [],
   "source": [
    "from sklearn.preprocessing import LabelEncoder\n",
    "le = LabelEncoder()\n",
    "df['Gender']=le.fit_transform(df['Gender'])\n",
    "df['Degree']=le.fit_transform(df['Degree'])\n",
    "df['10board']=le.fit_transform(df['10board'])\n",
    "df['12board']=le.fit_transform(df['12board'])\n",
    "df['Designation'] = le.fit_transform(df['Designation'])\n",
    "df['JobRegion'] = le.fit_transform(df['JobRegion'])\n",
    "df['Specialization'] = le.fit_transform(df['Specialization'])\n",
    "df['CollegeState'] = le.fit_transform(df['CollegeState'])\n",
    "df['Domain_Test'] = le.fit_transform(df['Domain_Test'])"
   ]
  },
  {
   "cell_type": "code",
   "execution_count": 76,
   "metadata": {},
   "outputs": [],
   "source": [
    "X = df.drop('Domain',axis=1)\n",
    "y = df['Domain']"
   ]
  },
  {
   "cell_type": "code",
   "execution_count": 77,
   "metadata": {},
   "outputs": [],
   "source": [
    "from sklearn.linear_model import LinearRegression\n",
    "from sklearn.model_selection import train_test_split\n",
    "lr = LinearRegression()"
   ]
  },
  {
   "cell_type": "code",
   "execution_count": 78,
   "metadata": {},
   "outputs": [
    {
     "data": {
      "text/plain": [
       "5    NaN\n",
       "14   NaN\n",
       "16   NaN\n",
       "22   NaN\n",
       "35   NaN\n",
       "Name: Domain, dtype: float64"
      ]
     },
     "execution_count": 78,
     "metadata": {},
     "output_type": "execute_result"
    }
   ],
   "source": [
    "y[y.isnull()].head()"
   ]
  },
  {
   "cell_type": "code",
   "execution_count": 79,
   "metadata": {},
   "outputs": [],
   "source": [
    "xtrain = X[y.notnull()]\n",
    "ytrain = y[y.notnull()]\n",
    "xtest = X[y.isnull()]\n",
    "ytest = y[y.isnull()]"
   ]
  },
  {
   "cell_type": "code",
   "execution_count": 80,
   "metadata": {},
   "outputs": [
    {
     "data": {
      "text/html": [
       "<div>\n",
       "<style scoped>\n",
       "    .dataframe tbody tr th:only-of-type {\n",
       "        vertical-align: middle;\n",
       "    }\n",
       "\n",
       "    .dataframe tbody tr th {\n",
       "        vertical-align: top;\n",
       "    }\n",
       "\n",
       "    .dataframe thead th {\n",
       "        text-align: right;\n",
       "    }\n",
       "</style>\n",
       "<table border=\"1\" class=\"dataframe\">\n",
       "  <thead>\n",
       "    <tr style=\"text-align: right;\">\n",
       "      <th></th>\n",
       "      <th>Salary</th>\n",
       "      <th>Designation</th>\n",
       "      <th>Gender</th>\n",
       "      <th>10percentage</th>\n",
       "      <th>10board</th>\n",
       "      <th>12percentage</th>\n",
       "      <th>12board</th>\n",
       "      <th>CollegeTier</th>\n",
       "      <th>Degree</th>\n",
       "      <th>Specialization</th>\n",
       "      <th>collegeGPA</th>\n",
       "      <th>CollegeCityTier</th>\n",
       "      <th>CollegeState</th>\n",
       "      <th>English</th>\n",
       "      <th>Logical</th>\n",
       "      <th>Quant</th>\n",
       "      <th>conscientiousness</th>\n",
       "      <th>agreeableness</th>\n",
       "      <th>extraversion</th>\n",
       "      <th>nueroticism</th>\n",
       "      <th>openess_to_experience</th>\n",
       "      <th>Exp</th>\n",
       "      <th>Age</th>\n",
       "      <th>JobRegion</th>\n",
       "      <th>DOB_yr</th>\n",
       "      <th>12Gap</th>\n",
       "      <th>GradGap</th>\n",
       "      <th>Score</th>\n",
       "      <th>Domain_Test</th>\n",
       "      <th>CP</th>\n",
       "      <th>ES</th>\n",
       "      <th>CS</th>\n",
       "      <th>ME</th>\n",
       "      <th>EE</th>\n",
       "      <th>TE</th>\n",
       "      <th>CE</th>\n",
       "    </tr>\n",
       "  </thead>\n",
       "  <tbody>\n",
       "    <tr>\n",
       "      <th>0</th>\n",
       "      <td>420000</td>\n",
       "      <td>317</td>\n",
       "      <td>0</td>\n",
       "      <td>84.3</td>\n",
       "      <td>5</td>\n",
       "      <td>95.8</td>\n",
       "      <td>4</td>\n",
       "      <td>2</td>\n",
       "      <td>0</td>\n",
       "      <td>4</td>\n",
       "      <td>78.00</td>\n",
       "      <td>0</td>\n",
       "      <td>0</td>\n",
       "      <td>515</td>\n",
       "      <td>585</td>\n",
       "      <td>525</td>\n",
       "      <td>0.9737</td>\n",
       "      <td>0.8128</td>\n",
       "      <td>0.5269</td>\n",
       "      <td>1.35490</td>\n",
       "      <td>-0.4455</td>\n",
       "      <td>3.6</td>\n",
       "      <td>26.0</td>\n",
       "      <td>11</td>\n",
       "      <td>1990</td>\n",
       "      <td>17</td>\n",
       "      <td>21.0</td>\n",
       "      <td>445.0</td>\n",
       "      <td>1</td>\n",
       "      <td>1</td>\n",
       "      <td>0</td>\n",
       "      <td>0</td>\n",
       "      <td>0</td>\n",
       "      <td>0</td>\n",
       "      <td>0</td>\n",
       "      <td>0</td>\n",
       "    </tr>\n",
       "    <tr>\n",
       "      <th>1</th>\n",
       "      <td>500000</td>\n",
       "      <td>17</td>\n",
       "      <td>1</td>\n",
       "      <td>85.4</td>\n",
       "      <td>0</td>\n",
       "      <td>85.0</td>\n",
       "      <td>0</td>\n",
       "      <td>2</td>\n",
       "      <td>0</td>\n",
       "      <td>6</td>\n",
       "      <td>70.06</td>\n",
       "      <td>0</td>\n",
       "      <td>13</td>\n",
       "      <td>695</td>\n",
       "      <td>610</td>\n",
       "      <td>780</td>\n",
       "      <td>-0.7335</td>\n",
       "      <td>0.3789</td>\n",
       "      <td>1.2396</td>\n",
       "      <td>-0.10760</td>\n",
       "      <td>0.8637</td>\n",
       "      <td>2.3</td>\n",
       "      <td>26.0</td>\n",
       "      <td>6</td>\n",
       "      <td>1989</td>\n",
       "      <td>18</td>\n",
       "      <td>23.0</td>\n",
       "      <td>466.0</td>\n",
       "      <td>4</td>\n",
       "      <td>0</td>\n",
       "      <td>1</td>\n",
       "      <td>0</td>\n",
       "      <td>0</td>\n",
       "      <td>0</td>\n",
       "      <td>0</td>\n",
       "      <td>0</td>\n",
       "    </tr>\n",
       "    <tr>\n",
       "      <th>2</th>\n",
       "      <td>325000</td>\n",
       "      <td>377</td>\n",
       "      <td>0</td>\n",
       "      <td>85.0</td>\n",
       "      <td>0</td>\n",
       "      <td>68.2</td>\n",
       "      <td>0</td>\n",
       "      <td>2</td>\n",
       "      <td>0</td>\n",
       "      <td>10</td>\n",
       "      <td>70.00</td>\n",
       "      <td>0</td>\n",
       "      <td>23</td>\n",
       "      <td>615</td>\n",
       "      <td>545</td>\n",
       "      <td>370</td>\n",
       "      <td>0.2718</td>\n",
       "      <td>1.7109</td>\n",
       "      <td>0.1637</td>\n",
       "      <td>-0.86820</td>\n",
       "      <td>0.6721</td>\n",
       "      <td>1.6</td>\n",
       "      <td>23.0</td>\n",
       "      <td>9</td>\n",
       "      <td>1992</td>\n",
       "      <td>18</td>\n",
       "      <td>22.0</td>\n",
       "      <td>395.0</td>\n",
       "      <td>1</td>\n",
       "      <td>1</td>\n",
       "      <td>0</td>\n",
       "      <td>0</td>\n",
       "      <td>0</td>\n",
       "      <td>0</td>\n",
       "      <td>0</td>\n",
       "      <td>0</td>\n",
       "    </tr>\n",
       "    <tr>\n",
       "      <th>3</th>\n",
       "      <td>1100000</td>\n",
       "      <td>322</td>\n",
       "      <td>1</td>\n",
       "      <td>85.6</td>\n",
       "      <td>0</td>\n",
       "      <td>83.6</td>\n",
       "      <td>0</td>\n",
       "      <td>1</td>\n",
       "      <td>0</td>\n",
       "      <td>4</td>\n",
       "      <td>74.64</td>\n",
       "      <td>1</td>\n",
       "      <td>4</td>\n",
       "      <td>635</td>\n",
       "      <td>585</td>\n",
       "      <td>625</td>\n",
       "      <td>0.0464</td>\n",
       "      <td>0.3448</td>\n",
       "      <td>-0.3440</td>\n",
       "      <td>-0.40780</td>\n",
       "      <td>-0.9194</td>\n",
       "      <td>4.5</td>\n",
       "      <td>26.0</td>\n",
       "      <td>5</td>\n",
       "      <td>1989</td>\n",
       "      <td>18</td>\n",
       "      <td>22.0</td>\n",
       "      <td>615.0</td>\n",
       "      <td>1</td>\n",
       "      <td>1</td>\n",
       "      <td>0</td>\n",
       "      <td>0</td>\n",
       "      <td>0</td>\n",
       "      <td>0</td>\n",
       "      <td>0</td>\n",
       "      <td>0</td>\n",
       "    </tr>\n",
       "    <tr>\n",
       "      <th>4</th>\n",
       "      <td>200000</td>\n",
       "      <td>133</td>\n",
       "      <td>1</td>\n",
       "      <td>78.0</td>\n",
       "      <td>0</td>\n",
       "      <td>76.8</td>\n",
       "      <td>0</td>\n",
       "      <td>2</td>\n",
       "      <td>0</td>\n",
       "      <td>6</td>\n",
       "      <td>73.90</td>\n",
       "      <td>0</td>\n",
       "      <td>23</td>\n",
       "      <td>545</td>\n",
       "      <td>625</td>\n",
       "      <td>465</td>\n",
       "      <td>-0.8810</td>\n",
       "      <td>-0.2793</td>\n",
       "      <td>-1.0697</td>\n",
       "      <td>0.09163</td>\n",
       "      <td>-0.1295</td>\n",
       "      <td>1.0</td>\n",
       "      <td>25.0</td>\n",
       "      <td>5</td>\n",
       "      <td>1991</td>\n",
       "      <td>17</td>\n",
       "      <td>21.0</td>\n",
       "      <td>233.0</td>\n",
       "      <td>4</td>\n",
       "      <td>0</td>\n",
       "      <td>1</td>\n",
       "      <td>0</td>\n",
       "      <td>0</td>\n",
       "      <td>0</td>\n",
       "      <td>0</td>\n",
       "      <td>0</td>\n",
       "    </tr>\n",
       "  </tbody>\n",
       "</table>\n",
       "</div>"
      ],
      "text/plain": [
       "    Salary  Designation  Gender  10percentage  10board  12percentage  12board  \\\n",
       "0   420000          317       0          84.3        5          95.8        4   \n",
       "1   500000           17       1          85.4        0          85.0        0   \n",
       "2   325000          377       0          85.0        0          68.2        0   \n",
       "3  1100000          322       1          85.6        0          83.6        0   \n",
       "4   200000          133       1          78.0        0          76.8        0   \n",
       "\n",
       "   CollegeTier  Degree  Specialization  collegeGPA  CollegeCityTier  \\\n",
       "0            2       0               4       78.00                0   \n",
       "1            2       0               6       70.06                0   \n",
       "2            2       0              10       70.00                0   \n",
       "3            1       0               4       74.64                1   \n",
       "4            2       0               6       73.90                0   \n",
       "\n",
       "   CollegeState  English  Logical  Quant  conscientiousness  agreeableness  \\\n",
       "0             0      515      585    525             0.9737         0.8128   \n",
       "1            13      695      610    780            -0.7335         0.3789   \n",
       "2            23      615      545    370             0.2718         1.7109   \n",
       "3             4      635      585    625             0.0464         0.3448   \n",
       "4            23      545      625    465            -0.8810        -0.2793   \n",
       "\n",
       "   extraversion  nueroticism  openess_to_experience  Exp   Age  JobRegion  \\\n",
       "0        0.5269      1.35490                -0.4455  3.6  26.0         11   \n",
       "1        1.2396     -0.10760                 0.8637  2.3  26.0          6   \n",
       "2        0.1637     -0.86820                 0.6721  1.6  23.0          9   \n",
       "3       -0.3440     -0.40780                -0.9194  4.5  26.0          5   \n",
       "4       -1.0697      0.09163                -0.1295  1.0  25.0          5   \n",
       "\n",
       "   DOB_yr  12Gap  GradGap  Score  Domain_Test  CP  ES  CS  ME  EE  TE  CE  \n",
       "0    1990     17     21.0  445.0            1   1   0   0   0   0   0   0  \n",
       "1    1989     18     23.0  466.0            4   0   1   0   0   0   0   0  \n",
       "2    1992     18     22.0  395.0            1   1   0   0   0   0   0   0  \n",
       "3    1989     18     22.0  615.0            1   1   0   0   0   0   0   0  \n",
       "4    1991     17     21.0  233.0            4   0   1   0   0   0   0   0  "
      ]
     },
     "execution_count": 80,
     "metadata": {},
     "output_type": "execute_result"
    }
   ],
   "source": [
    "xtrain.head()"
   ]
  },
  {
   "cell_type": "code",
   "execution_count": 81,
   "metadata": {},
   "outputs": [
    {
     "data": {
      "text/html": [
       "<div>\n",
       "<style scoped>\n",
       "    .dataframe tbody tr th:only-of-type {\n",
       "        vertical-align: middle;\n",
       "    }\n",
       "\n",
       "    .dataframe tbody tr th {\n",
       "        vertical-align: top;\n",
       "    }\n",
       "\n",
       "    .dataframe thead th {\n",
       "        text-align: right;\n",
       "    }\n",
       "</style>\n",
       "<table border=\"1\" class=\"dataframe\">\n",
       "  <thead>\n",
       "    <tr style=\"text-align: right;\">\n",
       "      <th></th>\n",
       "      <th>Salary</th>\n",
       "      <th>Designation</th>\n",
       "      <th>Gender</th>\n",
       "      <th>10percentage</th>\n",
       "      <th>10board</th>\n",
       "      <th>12percentage</th>\n",
       "      <th>12board</th>\n",
       "      <th>CollegeTier</th>\n",
       "      <th>Degree</th>\n",
       "      <th>Specialization</th>\n",
       "      <th>collegeGPA</th>\n",
       "      <th>CollegeCityTier</th>\n",
       "      <th>CollegeState</th>\n",
       "      <th>English</th>\n",
       "      <th>Logical</th>\n",
       "      <th>Quant</th>\n",
       "      <th>conscientiousness</th>\n",
       "      <th>agreeableness</th>\n",
       "      <th>extraversion</th>\n",
       "      <th>nueroticism</th>\n",
       "      <th>openess_to_experience</th>\n",
       "      <th>Exp</th>\n",
       "      <th>Age</th>\n",
       "      <th>JobRegion</th>\n",
       "      <th>DOB_yr</th>\n",
       "      <th>12Gap</th>\n",
       "      <th>GradGap</th>\n",
       "      <th>Score</th>\n",
       "      <th>Domain_Test</th>\n",
       "      <th>CP</th>\n",
       "      <th>ES</th>\n",
       "      <th>CS</th>\n",
       "      <th>ME</th>\n",
       "      <th>EE</th>\n",
       "      <th>TE</th>\n",
       "      <th>CE</th>\n",
       "    </tr>\n",
       "  </thead>\n",
       "  <tbody>\n",
       "    <tr>\n",
       "      <th>5</th>\n",
       "      <td>300000</td>\n",
       "      <td>373</td>\n",
       "      <td>1</td>\n",
       "      <td>89.92</td>\n",
       "      <td>3</td>\n",
       "      <td>87.0</td>\n",
       "      <td>2</td>\n",
       "      <td>2</td>\n",
       "      <td>0</td>\n",
       "      <td>6</td>\n",
       "      <td>76.32</td>\n",
       "      <td>0</td>\n",
       "      <td>11</td>\n",
       "      <td>560</td>\n",
       "      <td>555</td>\n",
       "      <td>620</td>\n",
       "      <td>-0.3027</td>\n",
       "      <td>-0.6201</td>\n",
       "      <td>-2.2954</td>\n",
       "      <td>-0.7415</td>\n",
       "      <td>-0.8608</td>\n",
       "      <td>1.6</td>\n",
       "      <td>23.0</td>\n",
       "      <td>10</td>\n",
       "      <td>1992</td>\n",
       "      <td>18</td>\n",
       "      <td>22.0</td>\n",
       "      <td>645.0</td>\n",
       "      <td>1</td>\n",
       "      <td>1</td>\n",
       "      <td>0</td>\n",
       "      <td>0</td>\n",
       "      <td>0</td>\n",
       "      <td>0</td>\n",
       "      <td>0</td>\n",
       "      <td>0</td>\n",
       "    </tr>\n",
       "    <tr>\n",
       "      <th>14</th>\n",
       "      <td>300000</td>\n",
       "      <td>169</td>\n",
       "      <td>1</td>\n",
       "      <td>81.20</td>\n",
       "      <td>3</td>\n",
       "      <td>79.9</td>\n",
       "      <td>2</td>\n",
       "      <td>2</td>\n",
       "      <td>0</td>\n",
       "      <td>5</td>\n",
       "      <td>67.67</td>\n",
       "      <td>0</td>\n",
       "      <td>23</td>\n",
       "      <td>395</td>\n",
       "      <td>565</td>\n",
       "      <td>645</td>\n",
       "      <td>0.7027</td>\n",
       "      <td>0.7119</td>\n",
       "      <td>0.0100</td>\n",
       "      <td>-0.9950</td>\n",
       "      <td>0.6721</td>\n",
       "      <td>2.5</td>\n",
       "      <td>23.0</td>\n",
       "      <td>11</td>\n",
       "      <td>1992</td>\n",
       "      <td>16</td>\n",
       "      <td>21.0</td>\n",
       "      <td>495.0</td>\n",
       "      <td>1</td>\n",
       "      <td>1</td>\n",
       "      <td>0</td>\n",
       "      <td>0</td>\n",
       "      <td>0</td>\n",
       "      <td>0</td>\n",
       "      <td>0</td>\n",
       "      <td>0</td>\n",
       "    </tr>\n",
       "    <tr>\n",
       "      <th>16</th>\n",
       "      <td>325000</td>\n",
       "      <td>235</td>\n",
       "      <td>1</td>\n",
       "      <td>85.80</td>\n",
       "      <td>0</td>\n",
       "      <td>74.8</td>\n",
       "      <td>0</td>\n",
       "      <td>2</td>\n",
       "      <td>0</td>\n",
       "      <td>6</td>\n",
       "      <td>64.80</td>\n",
       "      <td>0</td>\n",
       "      <td>23</td>\n",
       "      <td>685</td>\n",
       "      <td>530</td>\n",
       "      <td>620</td>\n",
       "      <td>1.1336</td>\n",
       "      <td>1.0449</td>\n",
       "      <td>0.7785</td>\n",
       "      <td>-0.6147</td>\n",
       "      <td>-0.8608</td>\n",
       "      <td>1.3</td>\n",
       "      <td>24.0</td>\n",
       "      <td>5</td>\n",
       "      <td>1992</td>\n",
       "      <td>18</td>\n",
       "      <td>22.0</td>\n",
       "      <td>515.0</td>\n",
       "      <td>1</td>\n",
       "      <td>1</td>\n",
       "      <td>0</td>\n",
       "      <td>0</td>\n",
       "      <td>0</td>\n",
       "      <td>0</td>\n",
       "      <td>0</td>\n",
       "      <td>0</td>\n",
       "    </tr>\n",
       "    <tr>\n",
       "      <th>22</th>\n",
       "      <td>190000</td>\n",
       "      <td>87</td>\n",
       "      <td>1</td>\n",
       "      <td>92.50</td>\n",
       "      <td>3</td>\n",
       "      <td>95.2</td>\n",
       "      <td>2</td>\n",
       "      <td>2</td>\n",
       "      <td>0</td>\n",
       "      <td>6</td>\n",
       "      <td>76.00</td>\n",
       "      <td>0</td>\n",
       "      <td>21</td>\n",
       "      <td>395</td>\n",
       "      <td>455</td>\n",
       "      <td>485</td>\n",
       "      <td>-0.4463</td>\n",
       "      <td>-0.6201</td>\n",
       "      <td>-0.6048</td>\n",
       "      <td>0.7798</td>\n",
       "      <td>-2.7769</td>\n",
       "      <td>1.5</td>\n",
       "      <td>24.0</td>\n",
       "      <td>10</td>\n",
       "      <td>1992</td>\n",
       "      <td>17</td>\n",
       "      <td>21.0</td>\n",
       "      <td>455.0</td>\n",
       "      <td>1</td>\n",
       "      <td>1</td>\n",
       "      <td>0</td>\n",
       "      <td>0</td>\n",
       "      <td>0</td>\n",
       "      <td>0</td>\n",
       "      <td>0</td>\n",
       "      <td>0</td>\n",
       "    </tr>\n",
       "    <tr>\n",
       "      <th>35</th>\n",
       "      <td>350000</td>\n",
       "      <td>209</td>\n",
       "      <td>0</td>\n",
       "      <td>85.00</td>\n",
       "      <td>0</td>\n",
       "      <td>61.0</td>\n",
       "      <td>0</td>\n",
       "      <td>2</td>\n",
       "      <td>0</td>\n",
       "      <td>6</td>\n",
       "      <td>64.98</td>\n",
       "      <td>0</td>\n",
       "      <td>17</td>\n",
       "      <td>570</td>\n",
       "      <td>475</td>\n",
       "      <td>430</td>\n",
       "      <td>-0.4854</td>\n",
       "      <td>-0.5213</td>\n",
       "      <td>2.1129</td>\n",
       "      <td>-0.7350</td>\n",
       "      <td>1.8224</td>\n",
       "      <td>1.8</td>\n",
       "      <td>25.0</td>\n",
       "      <td>5</td>\n",
       "      <td>1990</td>\n",
       "      <td>18</td>\n",
       "      <td>21.0</td>\n",
       "      <td>465.0</td>\n",
       "      <td>1</td>\n",
       "      <td>1</td>\n",
       "      <td>0</td>\n",
       "      <td>0</td>\n",
       "      <td>0</td>\n",
       "      <td>0</td>\n",
       "      <td>0</td>\n",
       "      <td>0</td>\n",
       "    </tr>\n",
       "  </tbody>\n",
       "</table>\n",
       "</div>"
      ],
      "text/plain": [
       "    Salary  Designation  Gender  10percentage  10board  12percentage  12board  \\\n",
       "5   300000          373       1         89.92        3          87.0        2   \n",
       "14  300000          169       1         81.20        3          79.9        2   \n",
       "16  325000          235       1         85.80        0          74.8        0   \n",
       "22  190000           87       1         92.50        3          95.2        2   \n",
       "35  350000          209       0         85.00        0          61.0        0   \n",
       "\n",
       "    CollegeTier  Degree  Specialization  collegeGPA  CollegeCityTier  \\\n",
       "5             2       0               6       76.32                0   \n",
       "14            2       0               5       67.67                0   \n",
       "16            2       0               6       64.80                0   \n",
       "22            2       0               6       76.00                0   \n",
       "35            2       0               6       64.98                0   \n",
       "\n",
       "    CollegeState  English  Logical  Quant  conscientiousness  agreeableness  \\\n",
       "5             11      560      555    620            -0.3027        -0.6201   \n",
       "14            23      395      565    645             0.7027         0.7119   \n",
       "16            23      685      530    620             1.1336         1.0449   \n",
       "22            21      395      455    485            -0.4463        -0.6201   \n",
       "35            17      570      475    430            -0.4854        -0.5213   \n",
       "\n",
       "    extraversion  nueroticism  openess_to_experience  Exp   Age  JobRegion  \\\n",
       "5        -2.2954      -0.7415                -0.8608  1.6  23.0         10   \n",
       "14        0.0100      -0.9950                 0.6721  2.5  23.0         11   \n",
       "16        0.7785      -0.6147                -0.8608  1.3  24.0          5   \n",
       "22       -0.6048       0.7798                -2.7769  1.5  24.0         10   \n",
       "35        2.1129      -0.7350                 1.8224  1.8  25.0          5   \n",
       "\n",
       "    DOB_yr  12Gap  GradGap  Score  Domain_Test  CP  ES  CS  ME  EE  TE  CE  \n",
       "5     1992     18     22.0  645.0            1   1   0   0   0   0   0   0  \n",
       "14    1992     16     21.0  495.0            1   1   0   0   0   0   0   0  \n",
       "16    1992     18     22.0  515.0            1   1   0   0   0   0   0   0  \n",
       "22    1992     17     21.0  455.0            1   1   0   0   0   0   0   0  \n",
       "35    1990     18     21.0  465.0            1   1   0   0   0   0   0   0  "
      ]
     },
     "execution_count": 81,
     "metadata": {},
     "output_type": "execute_result"
    }
   ],
   "source": [
    "xtest.head()"
   ]
  },
  {
   "cell_type": "code",
   "execution_count": 82,
   "metadata": {},
   "outputs": [
    {
     "data": {
      "text/plain": [
       "0    0.635979\n",
       "1    0.960603\n",
       "2    0.450877\n",
       "3    0.974396\n",
       "4    0.124502\n",
       "Name: Domain, dtype: float64"
      ]
     },
     "execution_count": 82,
     "metadata": {},
     "output_type": "execute_result"
    }
   ],
   "source": [
    "ytrain.head()"
   ]
  },
  {
   "cell_type": "code",
   "execution_count": 83,
   "metadata": {},
   "outputs": [
    {
     "data": {
      "text/plain": [
       "5    NaN\n",
       "14   NaN\n",
       "16   NaN\n",
       "22   NaN\n",
       "35   NaN\n",
       "Name: Domain, dtype: float64"
      ]
     },
     "execution_count": 83,
     "metadata": {},
     "output_type": "execute_result"
    }
   ],
   "source": [
    "ytest.head()"
   ]
  },
  {
   "cell_type": "code",
   "execution_count": 84,
   "metadata": {},
   "outputs": [],
   "source": [
    "lr.fit(xtrain,ytrain)\n",
    "y_pred = lr.predict(xtest)"
   ]
  },
  {
   "cell_type": "code",
   "execution_count": 85,
   "metadata": {
    "scrolled": true
   },
   "outputs": [
    {
     "data": {
      "text/plain": [
       "array([ 1.00609298,  0.6488504 ,  0.67962162,  0.55077096,  0.56501064,\n",
       "        0.54396332,  0.27362759,  0.81728369,  0.29670919,  0.49591286,\n",
       "        0.08964111,  0.30890256,  0.68398152,  0.36227826,  0.49933838,\n",
       "        0.67282553,  0.58110743,  1.00999733,  0.49983144,  0.42371317,\n",
       "        0.26809992,  0.44429142,  0.55613269,  0.35937074,  0.95616137,\n",
       "        0.41825377,  0.2007412 ,  0.542756  ,  0.32105945,  0.03631171,\n",
       "        0.83145298,  0.70851789,  0.47079146,  0.1561212 ,  0.82588086,\n",
       "        0.43772685,  0.44311608,  0.08178654,  0.32858519,  0.74324419,\n",
       "        0.59424823,  0.52120258,  0.42790783,  0.19291924,  0.92554908,\n",
       "        0.87019946,  0.78441457,  0.5761108 ,  0.54620896,  0.58352203,\n",
       "        0.4809738 ,  0.56161474,  0.48435853,  0.89645593,  0.63297179,\n",
       "        0.47996341,  0.50030459,  0.37878442,  0.86818358,  0.35219921,\n",
       "        0.32776144,  0.59576721,  0.56129167,  0.35354689,  0.55130244,\n",
       "        0.52869191,  0.34278542,  0.73414595,  0.35120622,  0.55452926,\n",
       "        0.56163665,  0.58463332,  0.44987418,  0.54967626,  0.41099003,\n",
       "        0.99553704,  0.5930897 ,  0.6625665 ,  0.76095786,  0.30398342,\n",
       "        0.68097124,  0.40892013,  0.71976273,  0.2511792 ,  0.32797469,\n",
       "        0.58096431,  0.53275157,  0.35174058,  0.73446861,  0.62140006,\n",
       "        0.35282988,  0.21747261,  0.59146637,  0.66315024,  1.00100202,\n",
       "        0.90085023,  0.81676664,  0.73845799,  0.38822968,  0.25713769,\n",
       "        0.37675053,  0.14228269,  0.56136921,  0.99461843,  0.56759434,\n",
       "        0.18204782,  0.33894057,  0.45415833,  0.15545742,  0.37321599,\n",
       "        0.63537233,  0.25680638,  0.56437309,  0.43793585,  0.60935253,\n",
       "        0.53647459,  0.71951623,  0.27002251,  0.68893598,  0.59532599,\n",
       "        0.3093168 ,  0.7228712 ,  0.90636366,  0.85990101,  0.3241325 ,\n",
       "        0.34278462,  0.44173621,  0.21797596,  0.7809818 ,  0.55777197,\n",
       "        0.76527512,  0.61977256,  0.61262874,  0.71808636,  0.6983073 ,\n",
       "        0.49752788,  1.25867754,  0.63941967,  0.76679142,  0.48567636,\n",
       "        0.52687201,  0.58063928,  0.41813449,  0.73484793,  0.47792394,\n",
       "        0.68807072,  0.60361677,  0.56672298,  0.16446716,  0.53689766,\n",
       "        0.36575942,  0.64300645,  0.32900893,  0.43146045,  0.90577095,\n",
       "        0.37708025,  0.52240682,  0.61661694,  0.53362526,  0.98574639,\n",
       "        0.62307139,  0.22808187,  0.39127164,  0.25535494,  0.96749387,\n",
       "        0.82497103,  0.28200742,  0.67446546,  0.60324895,  0.50729812,\n",
       "        0.42080743,  0.07152174,  0.41963611,  0.92156079,  0.59662238,\n",
       "        0.73475782,  0.32647909,  0.29379147,  0.70205371,  0.57807612,\n",
       "        0.9622292 ,  0.37920271,  0.54607695,  0.5145537 ,  0.55160972,\n",
       "        0.56732821,  0.22483734,  0.87178687,  0.17016918,  0.81786888,\n",
       "        1.00675553,  0.38216562,  0.60185802,  0.32463229,  0.55794302,\n",
       "        0.75428741,  0.69671011,  0.65925706,  0.31674352,  0.47028256,\n",
       "        0.90298355,  0.75867606,  0.61534149,  0.84305262,  1.01380601,\n",
       "        0.4399695 ,  0.3523421 ,  0.95158947,  0.77864003,  0.30097554,\n",
       "        0.62771218, -0.11183079,  0.16247335,  0.29086062,  0.49158139,\n",
       "        0.10040965,  0.33589856,  0.67188375,  0.6689704 ,  0.68660364,\n",
       "        1.00237987,  0.46446767,  0.39075193,  0.3702493 ,  0.21412439,\n",
       "        0.34666826,  0.91664688,  0.34322833,  0.5604634 ,  0.60312543,\n",
       "        0.54258097,  0.62718045,  0.66459614,  0.46817732,  0.97325496,\n",
       "        0.66951282,  0.84470006,  0.94124921,  0.3276428 ,  0.34641441,\n",
       "        0.44647672,  0.42530498,  0.6880224 ,  0.38390494,  0.63349252,\n",
       "        0.38810741])"
      ]
     },
     "execution_count": 85,
     "metadata": {},
     "output_type": "execute_result"
    }
   ],
   "source": [
    "y_pred"
   ]
  },
  {
   "cell_type": "code",
   "execution_count": 86,
   "metadata": {},
   "outputs": [],
   "source": [
    "ytest = pd.DataFrame(y_pred,index=ytest.index)"
   ]
  },
  {
   "cell_type": "code",
   "execution_count": 87,
   "metadata": {
    "scrolled": true
   },
   "outputs": [],
   "source": [
    "df['Domain'] = pd.concat([ytrain,ytest],join='inner')"
   ]
  },
  {
   "cell_type": "code",
   "execution_count": 88,
   "metadata": {},
   "outputs": [
    {
     "data": {
      "text/plain": [
       "Salary                   0\n",
       "Designation              0\n",
       "Gender                   0\n",
       "10percentage             0\n",
       "10board                  0\n",
       "12percentage             0\n",
       "12board                  0\n",
       "CollegeTier              0\n",
       "Degree                   0\n",
       "Specialization           0\n",
       "collegeGPA               0\n",
       "CollegeCityTier          0\n",
       "CollegeState             0\n",
       "English                  0\n",
       "Logical                  0\n",
       "Quant                    0\n",
       "Domain                   0\n",
       "conscientiousness        0\n",
       "agreeableness            0\n",
       "extraversion             0\n",
       "nueroticism              0\n",
       "openess_to_experience    0\n",
       "Exp                      0\n",
       "Age                      0\n",
       "JobRegion                0\n",
       "DOB_yr                   0\n",
       "12Gap                    0\n",
       "GradGap                  0\n",
       "Score                    0\n",
       "Domain_Test              0\n",
       "CP                       0\n",
       "ES                       0\n",
       "CS                       0\n",
       "ME                       0\n",
       "EE                       0\n",
       "TE                       0\n",
       "CE                       0\n",
       "dtype: int64"
      ]
     },
     "execution_count": 88,
     "metadata": {},
     "output_type": "execute_result"
    }
   ],
   "source": [
    "df.isnull().sum()"
   ]
  },
  {
   "cell_type": "code",
   "execution_count": 89,
   "metadata": {},
   "outputs": [
    {
     "data": {
      "text/html": [
       "<div>\n",
       "<style scoped>\n",
       "    .dataframe tbody tr th:only-of-type {\n",
       "        vertical-align: middle;\n",
       "    }\n",
       "\n",
       "    .dataframe tbody tr th {\n",
       "        vertical-align: top;\n",
       "    }\n",
       "\n",
       "    .dataframe thead th {\n",
       "        text-align: right;\n",
       "    }\n",
       "</style>\n",
       "<table border=\"1\" class=\"dataframe\">\n",
       "  <thead>\n",
       "    <tr style=\"text-align: right;\">\n",
       "      <th></th>\n",
       "      <th>Salary</th>\n",
       "      <th>Designation</th>\n",
       "      <th>Gender</th>\n",
       "      <th>10percentage</th>\n",
       "      <th>10board</th>\n",
       "      <th>12percentage</th>\n",
       "      <th>12board</th>\n",
       "      <th>CollegeTier</th>\n",
       "      <th>Degree</th>\n",
       "      <th>Specialization</th>\n",
       "      <th>collegeGPA</th>\n",
       "      <th>CollegeCityTier</th>\n",
       "      <th>CollegeState</th>\n",
       "      <th>English</th>\n",
       "      <th>Logical</th>\n",
       "      <th>Quant</th>\n",
       "      <th>Domain</th>\n",
       "      <th>conscientiousness</th>\n",
       "      <th>agreeableness</th>\n",
       "      <th>extraversion</th>\n",
       "      <th>nueroticism</th>\n",
       "      <th>openess_to_experience</th>\n",
       "      <th>Exp</th>\n",
       "      <th>Age</th>\n",
       "      <th>JobRegion</th>\n",
       "      <th>DOB_yr</th>\n",
       "      <th>12Gap</th>\n",
       "      <th>GradGap</th>\n",
       "      <th>Score</th>\n",
       "      <th>Domain_Test</th>\n",
       "      <th>CP</th>\n",
       "      <th>ES</th>\n",
       "      <th>CS</th>\n",
       "      <th>ME</th>\n",
       "      <th>EE</th>\n",
       "      <th>TE</th>\n",
       "      <th>CE</th>\n",
       "    </tr>\n",
       "  </thead>\n",
       "  <tbody>\n",
       "    <tr>\n",
       "      <th>0</th>\n",
       "      <td>420000</td>\n",
       "      <td>317</td>\n",
       "      <td>0</td>\n",
       "      <td>84.30</td>\n",
       "      <td>5</td>\n",
       "      <td>95.8</td>\n",
       "      <td>4</td>\n",
       "      <td>2</td>\n",
       "      <td>0</td>\n",
       "      <td>4</td>\n",
       "      <td>78.00</td>\n",
       "      <td>0</td>\n",
       "      <td>0</td>\n",
       "      <td>515</td>\n",
       "      <td>585</td>\n",
       "      <td>525</td>\n",
       "      <td>0.635979</td>\n",
       "      <td>0.9737</td>\n",
       "      <td>0.8128</td>\n",
       "      <td>0.5269</td>\n",
       "      <td>1.35490</td>\n",
       "      <td>-0.4455</td>\n",
       "      <td>3.6</td>\n",
       "      <td>26.0</td>\n",
       "      <td>11</td>\n",
       "      <td>1990</td>\n",
       "      <td>17</td>\n",
       "      <td>21.0</td>\n",
       "      <td>445.0</td>\n",
       "      <td>1</td>\n",
       "      <td>1</td>\n",
       "      <td>0</td>\n",
       "      <td>0</td>\n",
       "      <td>0</td>\n",
       "      <td>0</td>\n",
       "      <td>0</td>\n",
       "      <td>0</td>\n",
       "    </tr>\n",
       "    <tr>\n",
       "      <th>1</th>\n",
       "      <td>500000</td>\n",
       "      <td>17</td>\n",
       "      <td>1</td>\n",
       "      <td>85.40</td>\n",
       "      <td>0</td>\n",
       "      <td>85.0</td>\n",
       "      <td>0</td>\n",
       "      <td>2</td>\n",
       "      <td>0</td>\n",
       "      <td>6</td>\n",
       "      <td>70.06</td>\n",
       "      <td>0</td>\n",
       "      <td>13</td>\n",
       "      <td>695</td>\n",
       "      <td>610</td>\n",
       "      <td>780</td>\n",
       "      <td>0.960603</td>\n",
       "      <td>-0.7335</td>\n",
       "      <td>0.3789</td>\n",
       "      <td>1.2396</td>\n",
       "      <td>-0.10760</td>\n",
       "      <td>0.8637</td>\n",
       "      <td>2.3</td>\n",
       "      <td>26.0</td>\n",
       "      <td>6</td>\n",
       "      <td>1989</td>\n",
       "      <td>18</td>\n",
       "      <td>23.0</td>\n",
       "      <td>466.0</td>\n",
       "      <td>4</td>\n",
       "      <td>0</td>\n",
       "      <td>1</td>\n",
       "      <td>0</td>\n",
       "      <td>0</td>\n",
       "      <td>0</td>\n",
       "      <td>0</td>\n",
       "      <td>0</td>\n",
       "    </tr>\n",
       "    <tr>\n",
       "      <th>2</th>\n",
       "      <td>325000</td>\n",
       "      <td>377</td>\n",
       "      <td>0</td>\n",
       "      <td>85.00</td>\n",
       "      <td>0</td>\n",
       "      <td>68.2</td>\n",
       "      <td>0</td>\n",
       "      <td>2</td>\n",
       "      <td>0</td>\n",
       "      <td>10</td>\n",
       "      <td>70.00</td>\n",
       "      <td>0</td>\n",
       "      <td>23</td>\n",
       "      <td>615</td>\n",
       "      <td>545</td>\n",
       "      <td>370</td>\n",
       "      <td>0.450877</td>\n",
       "      <td>0.2718</td>\n",
       "      <td>1.7109</td>\n",
       "      <td>0.1637</td>\n",
       "      <td>-0.86820</td>\n",
       "      <td>0.6721</td>\n",
       "      <td>1.6</td>\n",
       "      <td>23.0</td>\n",
       "      <td>9</td>\n",
       "      <td>1992</td>\n",
       "      <td>18</td>\n",
       "      <td>22.0</td>\n",
       "      <td>395.0</td>\n",
       "      <td>1</td>\n",
       "      <td>1</td>\n",
       "      <td>0</td>\n",
       "      <td>0</td>\n",
       "      <td>0</td>\n",
       "      <td>0</td>\n",
       "      <td>0</td>\n",
       "      <td>0</td>\n",
       "    </tr>\n",
       "    <tr>\n",
       "      <th>3</th>\n",
       "      <td>1100000</td>\n",
       "      <td>322</td>\n",
       "      <td>1</td>\n",
       "      <td>85.60</td>\n",
       "      <td>0</td>\n",
       "      <td>83.6</td>\n",
       "      <td>0</td>\n",
       "      <td>1</td>\n",
       "      <td>0</td>\n",
       "      <td>4</td>\n",
       "      <td>74.64</td>\n",
       "      <td>1</td>\n",
       "      <td>4</td>\n",
       "      <td>635</td>\n",
       "      <td>585</td>\n",
       "      <td>625</td>\n",
       "      <td>0.974396</td>\n",
       "      <td>0.0464</td>\n",
       "      <td>0.3448</td>\n",
       "      <td>-0.3440</td>\n",
       "      <td>-0.40780</td>\n",
       "      <td>-0.9194</td>\n",
       "      <td>4.5</td>\n",
       "      <td>26.0</td>\n",
       "      <td>5</td>\n",
       "      <td>1989</td>\n",
       "      <td>18</td>\n",
       "      <td>22.0</td>\n",
       "      <td>615.0</td>\n",
       "      <td>1</td>\n",
       "      <td>1</td>\n",
       "      <td>0</td>\n",
       "      <td>0</td>\n",
       "      <td>0</td>\n",
       "      <td>0</td>\n",
       "      <td>0</td>\n",
       "      <td>0</td>\n",
       "    </tr>\n",
       "    <tr>\n",
       "      <th>4</th>\n",
       "      <td>200000</td>\n",
       "      <td>133</td>\n",
       "      <td>1</td>\n",
       "      <td>78.00</td>\n",
       "      <td>0</td>\n",
       "      <td>76.8</td>\n",
       "      <td>0</td>\n",
       "      <td>2</td>\n",
       "      <td>0</td>\n",
       "      <td>6</td>\n",
       "      <td>73.90</td>\n",
       "      <td>0</td>\n",
       "      <td>23</td>\n",
       "      <td>545</td>\n",
       "      <td>625</td>\n",
       "      <td>465</td>\n",
       "      <td>0.124502</td>\n",
       "      <td>-0.8810</td>\n",
       "      <td>-0.2793</td>\n",
       "      <td>-1.0697</td>\n",
       "      <td>0.09163</td>\n",
       "      <td>-0.1295</td>\n",
       "      <td>1.0</td>\n",
       "      <td>25.0</td>\n",
       "      <td>5</td>\n",
       "      <td>1991</td>\n",
       "      <td>17</td>\n",
       "      <td>21.0</td>\n",
       "      <td>233.0</td>\n",
       "      <td>4</td>\n",
       "      <td>0</td>\n",
       "      <td>1</td>\n",
       "      <td>0</td>\n",
       "      <td>0</td>\n",
       "      <td>0</td>\n",
       "      <td>0</td>\n",
       "      <td>0</td>\n",
       "    </tr>\n",
       "    <tr>\n",
       "      <th>5</th>\n",
       "      <td>300000</td>\n",
       "      <td>373</td>\n",
       "      <td>1</td>\n",
       "      <td>89.92</td>\n",
       "      <td>3</td>\n",
       "      <td>87.0</td>\n",
       "      <td>2</td>\n",
       "      <td>2</td>\n",
       "      <td>0</td>\n",
       "      <td>6</td>\n",
       "      <td>76.32</td>\n",
       "      <td>0</td>\n",
       "      <td>11</td>\n",
       "      <td>560</td>\n",
       "      <td>555</td>\n",
       "      <td>620</td>\n",
       "      <td>1.006093</td>\n",
       "      <td>-0.3027</td>\n",
       "      <td>-0.6201</td>\n",
       "      <td>-2.2954</td>\n",
       "      <td>-0.74150</td>\n",
       "      <td>-0.8608</td>\n",
       "      <td>1.6</td>\n",
       "      <td>23.0</td>\n",
       "      <td>10</td>\n",
       "      <td>1992</td>\n",
       "      <td>18</td>\n",
       "      <td>22.0</td>\n",
       "      <td>645.0</td>\n",
       "      <td>1</td>\n",
       "      <td>1</td>\n",
       "      <td>0</td>\n",
       "      <td>0</td>\n",
       "      <td>0</td>\n",
       "      <td>0</td>\n",
       "      <td>0</td>\n",
       "      <td>0</td>\n",
       "    </tr>\n",
       "  </tbody>\n",
       "</table>\n",
       "</div>"
      ],
      "text/plain": [
       "    Salary  Designation  Gender  10percentage  10board  12percentage  12board  \\\n",
       "0   420000          317       0         84.30        5          95.8        4   \n",
       "1   500000           17       1         85.40        0          85.0        0   \n",
       "2   325000          377       0         85.00        0          68.2        0   \n",
       "3  1100000          322       1         85.60        0          83.6        0   \n",
       "4   200000          133       1         78.00        0          76.8        0   \n",
       "5   300000          373       1         89.92        3          87.0        2   \n",
       "\n",
       "   CollegeTier  Degree  Specialization  collegeGPA  CollegeCityTier  \\\n",
       "0            2       0               4       78.00                0   \n",
       "1            2       0               6       70.06                0   \n",
       "2            2       0              10       70.00                0   \n",
       "3            1       0               4       74.64                1   \n",
       "4            2       0               6       73.90                0   \n",
       "5            2       0               6       76.32                0   \n",
       "\n",
       "   CollegeState  English  Logical  Quant    Domain  conscientiousness  \\\n",
       "0             0      515      585    525  0.635979             0.9737   \n",
       "1            13      695      610    780  0.960603            -0.7335   \n",
       "2            23      615      545    370  0.450877             0.2718   \n",
       "3             4      635      585    625  0.974396             0.0464   \n",
       "4            23      545      625    465  0.124502            -0.8810   \n",
       "5            11      560      555    620  1.006093            -0.3027   \n",
       "\n",
       "   agreeableness  extraversion  nueroticism  openess_to_experience  Exp   Age  \\\n",
       "0         0.8128        0.5269      1.35490                -0.4455  3.6  26.0   \n",
       "1         0.3789        1.2396     -0.10760                 0.8637  2.3  26.0   \n",
       "2         1.7109        0.1637     -0.86820                 0.6721  1.6  23.0   \n",
       "3         0.3448       -0.3440     -0.40780                -0.9194  4.5  26.0   \n",
       "4        -0.2793       -1.0697      0.09163                -0.1295  1.0  25.0   \n",
       "5        -0.6201       -2.2954     -0.74150                -0.8608  1.6  23.0   \n",
       "\n",
       "   JobRegion  DOB_yr  12Gap  GradGap  Score  Domain_Test  CP  ES  CS  ME  EE  \\\n",
       "0         11    1990     17     21.0  445.0            1   1   0   0   0   0   \n",
       "1          6    1989     18     23.0  466.0            4   0   1   0   0   0   \n",
       "2          9    1992     18     22.0  395.0            1   1   0   0   0   0   \n",
       "3          5    1989     18     22.0  615.0            1   1   0   0   0   0   \n",
       "4          5    1991     17     21.0  233.0            4   0   1   0   0   0   \n",
       "5         10    1992     18     22.0  645.0            1   1   0   0   0   0   \n",
       "\n",
       "   TE  CE  \n",
       "0   0   0  \n",
       "1   0   0  \n",
       "2   0   0  \n",
       "3   0   0  \n",
       "4   0   0  \n",
       "5   0   0  "
      ]
     },
     "execution_count": 89,
     "metadata": {},
     "output_type": "execute_result"
    }
   ],
   "source": [
    "df.head(6)"
   ]
  },
  {
   "cell_type": "markdown",
   "metadata": {},
   "source": [
    "## Transformations:"
   ]
  },
  {
   "cell_type": "code",
   "execution_count": 90,
   "metadata": {},
   "outputs": [],
   "source": [
    "from sklearn.preprocessing import PowerTransformer\n",
    "power_transformer = PowerTransformer()"
   ]
  },
  {
   "cell_type": "code",
   "execution_count": 91,
   "metadata": {},
   "outputs": [
    {
     "data": {
      "text/plain": [
       "<matplotlib.axes._subplots.AxesSubplot at 0x7eefa69cc0>"
      ]
     },
     "execution_count": 91,
     "metadata": {},
     "output_type": "execute_result"
    },
    {
     "data": {
      "image/png": "[encoded data removed]",
      "text/plain": [
       "<Figure size 432x288 with 1 Axes>"
      ]
     },
     "metadata": {
      "needs_background": "light"
     },
     "output_type": "display_data"
    }
   ],
   "source": [
    "sns.distplot(df['10percentage'])"
   ]
  },
  {
   "cell_type": "code",
   "execution_count": 92,
   "metadata": {},
   "outputs": [],
   "source": [
    "df['10percentage'] = power_transformer.fit_transform(df[['10percentage']])"
   ]
  },
  {
   "cell_type": "code",
   "execution_count": 93,
   "metadata": {},
   "outputs": [
    {
     "data": {
      "text/plain": [
       "<matplotlib.axes._subplots.AxesSubplot at 0x7eefbce5c0>"
      ]
     },
     "execution_count": 93,
     "metadata": {},
     "output_type": "execute_result"
    },
    {
     "data": {
      "image/png": "[encoded data removed]",
      "text/plain": [
       "<Figure size 432x288 with 1 Axes>"
      ]
     },
     "metadata": {
      "needs_background": "light"
     },
     "output_type": "display_data"
    }
   ],
   "source": [
    "sns.distplot(df['10percentage'])"
   ]
  },
  {
   "cell_type": "code",
   "execution_count": 94,
   "metadata": {},
   "outputs": [
    {
     "data": {
      "text/plain": [
       "<matplotlib.axes._subplots.AxesSubplot at 0x7eefccb860>"
      ]
     },
     "execution_count": 94,
     "metadata": {},
     "output_type": "execute_result"
    },
    {
     "data": {
      "image/png": "[encoded data removed]",
      "text/plain": [
       "<Figure size 432x288 with 1 Axes>"
      ]
     },
     "metadata": {
      "needs_background": "light"
     },
     "output_type": "display_data"
    }
   ],
   "source": [
    "sns.distplot(df['English'])"
   ]
  },
  {
   "cell_type": "code",
   "execution_count": 95,
   "metadata": {},
   "outputs": [],
   "source": [
    "df['English'] = power_transformer.fit_transform(df[['English']])"
   ]
  },
  {
   "cell_type": "code",
   "execution_count": 96,
   "metadata": {},
   "outputs": [
    {
     "data": {
      "text/plain": [
       "<matplotlib.axes._subplots.AxesSubplot at 0x7eefd7bcf8>"
      ]
     },
     "execution_count": 96,
     "metadata": {},
     "output_type": "execute_result"
    },
    {
     "data": {
      "image/png": "[encoded data removed]",
      "text/plain": [
       "<Figure size 432x288 with 1 Axes>"
      ]
     },
     "metadata": {
      "needs_background": "light"
     },
     "output_type": "display_data"
    }
   ],
   "source": [
    "sns.distplot(df['English'])"
   ]
  },
  {
   "cell_type": "code",
   "execution_count": 97,
   "metadata": {},
   "outputs": [
    {
     "data": {
      "text/plain": [
       "<matplotlib.axes._subplots.AxesSubplot at 0x7ef0f416a0>"
      ]
     },
     "execution_count": 97,
     "metadata": {},
     "output_type": "execute_result"
    },
    {
     "data": {
      "image/png": "[encoded data removed]",
      "text/plain": [
       "<Figure size 432x288 with 1 Axes>"
      ]
     },
     "metadata": {
      "needs_background": "light"
     },
     "output_type": "display_data"
    }
   ],
   "source": [
    "sns.distplot(df['Logical'])"
   ]
  },
  {
   "cell_type": "code",
   "execution_count": 98,
   "metadata": {},
   "outputs": [],
   "source": [
    "df['Logical'] = power_transformer.fit_transform(df[['Logical']])"
   ]
  },
  {
   "cell_type": "code",
   "execution_count": 99,
   "metadata": {},
   "outputs": [
    {
     "data": {
      "text/plain": [
       "<matplotlib.axes._subplots.AxesSubplot at 0x7eefa61d30>"
      ]
     },
     "execution_count": 99,
     "metadata": {},
     "output_type": "execute_result"
    },
    {
     "data": {
      "image/png": "[encoded data removed]",
      "text/plain": [
       "<Figure size 432x288 with 1 Axes>"
      ]
     },
     "metadata": {
      "needs_background": "light"
     },
     "output_type": "display_data"
    }
   ],
   "source": [
    "sns.distplot(df['Logical'])"
   ]
  },
  {
   "cell_type": "code",
   "execution_count": 100,
   "metadata": {},
   "outputs": [
    {
     "data": {
      "text/plain": [
       "<matplotlib.axes._subplots.AxesSubplot at 0x7eef984d30>"
      ]
     },
     "execution_count": 100,
     "metadata": {},
     "output_type": "execute_result"
    },
    {
     "data": {
      "image/png": "[encoded data removed]",
      "text/plain": [
       "<Figure size 432x288 with 1 Axes>"
      ]
     },
     "metadata": {
      "needs_background": "light"
     },
     "output_type": "display_data"
    }
   ],
   "source": [
    "sns.distplot(df['Quant'])"
   ]
  },
  {
   "cell_type": "code",
   "execution_count": 101,
   "metadata": {},
   "outputs": [],
   "source": [
    "df['Quant'] = power_transformer.fit_transform(df[['Quant']])"
   ]
  },
  {
   "cell_type": "code",
   "execution_count": 102,
   "metadata": {},
   "outputs": [
    {
     "data": {
      "text/plain": [
       "<matplotlib.axes._subplots.AxesSubplot at 0x7eef7c5cc0>"
      ]
     },
     "execution_count": 102,
     "metadata": {},
     "output_type": "execute_result"
    },
    {
     "data": {
      "image/png": "[encoded data removed]",
      "text/plain": [
       "<Figure size 432x288 with 1 Axes>"
      ]
     },
     "metadata": {
      "needs_background": "light"
     },
     "output_type": "display_data"
    }
   ],
   "source": [
    "sns.distplot(df['Quant'])"
   ]
  },
  {
   "cell_type": "code",
   "execution_count": 103,
   "metadata": {},
   "outputs": [
    {
     "data": {
      "text/plain": [
       "<matplotlib.axes._subplots.AxesSubplot at 0x7eef8db8d0>"
      ]
     },
     "execution_count": 103,
     "metadata": {},
     "output_type": "execute_result"
    },
    {
     "data": {
      "image/png": "[encoded data removed]",
      "text/plain": [
       "<Figure size 432x288 with 1 Axes>"
      ]
     },
     "metadata": {
      "needs_background": "light"
     },
     "output_type": "display_data"
    }
   ],
   "source": [
    "sns.distplot(df['Domain'])"
   ]
  },
  {
   "cell_type": "code",
   "execution_count": 104,
   "metadata": {},
   "outputs": [],
   "source": [
    "df['Domain'] = power_transformer.fit_transform(df[['Domain']])"
   ]
  },
  {
   "cell_type": "code",
   "execution_count": 105,
   "metadata": {},
   "outputs": [
    {
     "data": {
      "text/plain": [
       "<matplotlib.axes._subplots.AxesSubplot at 0x7eef668c50>"
      ]
     },
     "execution_count": 105,
     "metadata": {},
     "output_type": "execute_result"
    },
    {
     "data": {
      "image/png": "[encoded data removed]",
      "text/plain": [
       "<Figure size 432x288 with 1 Axes>"
      ]
     },
     "metadata": {
      "needs_background": "light"
     },
     "output_type": "display_data"
    }
   ],
   "source": [
    "sns.distplot(df['Domain'])"
   ]
  },
  {
   "cell_type": "code",
   "execution_count": 106,
   "metadata": {},
   "outputs": [
    {
     "data": {
      "text/plain": [
       "<matplotlib.axes._subplots.AxesSubplot at 0x7eef6d8c50>"
      ]
     },
     "execution_count": 106,
     "metadata": {},
     "output_type": "execute_result"
    },
    {
     "data": {
      "image/png": "[encoded data removed]",
      "text/plain": [
       "<Figure size 432x288 with 1 Axes>"
      ]
     },
     "metadata": {
      "needs_background": "light"
     },
     "output_type": "display_data"
    }
   ],
   "source": [
    "sns.distplot(df['agreeableness'])"
   ]
  },
  {
   "cell_type": "code",
   "execution_count": 107,
   "metadata": {},
   "outputs": [],
   "source": [
    "df['agreeableness'] = power_transformer.fit_transform(df[['agreeableness']])"
   ]
  },
  {
   "cell_type": "code",
   "execution_count": 108,
   "metadata": {},
   "outputs": [
    {
     "data": {
      "text/plain": [
       "<matplotlib.axes._subplots.AxesSubplot at 0x7ef0fc29b0>"
      ]
     },
     "execution_count": 108,
     "metadata": {},
     "output_type": "execute_result"
    },
    {
     "data": {
      "image/png": "[encoded data removed]",
      "text/plain": [
       "<Figure size 432x288 with 1 Axes>"
      ]
     },
     "metadata": {
      "needs_background": "light"
     },
     "output_type": "display_data"
    }
   ],
   "source": [
    "sns.distplot(df['agreeableness'])"
   ]
  },
  {
   "cell_type": "code",
   "execution_count": 109,
   "metadata": {},
   "outputs": [
    {
     "data": {
      "text/plain": [
       "<matplotlib.axes._subplots.AxesSubplot at 0x7ef100fb70>"
      ]
     },
     "execution_count": 109,
     "metadata": {},
     "output_type": "execute_result"
    },
    {
     "data": {
      "image/png": "[encoded data removed]",
      "text/plain": [
       "<Figure size 432x288 with 1 Axes>"
      ]
     },
     "metadata": {
      "needs_background": "light"
     },
     "output_type": "display_data"
    }
   ],
   "source": [
    "sns.distplot(df['conscientiousness'])"
   ]
  },
  {
   "cell_type": "code",
   "execution_count": 110,
   "metadata": {},
   "outputs": [],
   "source": [
    "df['conscientiousness'] = power_transformer.fit_transform(df[['conscientiousness']])"
   ]
  },
  {
   "cell_type": "code",
   "execution_count": 111,
   "metadata": {},
   "outputs": [
    {
     "data": {
      "text/plain": [
       "<matplotlib.axes._subplots.AxesSubplot at 0x7ef4382978>"
      ]
     },
     "execution_count": 111,
     "metadata": {},
     "output_type": "execute_result"
    },
    {
     "data": {
      "image/png": "[encoded data removed]",
      "text/plain": [
       "<Figure size 432x288 with 1 Axes>"
      ]
     },
     "metadata": {
      "needs_background": "light"
     },
     "output_type": "display_data"
    }
   ],
   "source": [
    "sns.distplot(df['conscientiousness'])"
   ]
  },
  {
   "cell_type": "code",
   "execution_count": 112,
   "metadata": {},
   "outputs": [
    {
     "data": {
      "text/plain": [
       "<matplotlib.axes._subplots.AxesSubplot at 0x7ef4450c50>"
      ]
     },
     "execution_count": 112,
     "metadata": {},
     "output_type": "execute_result"
    },
    {
     "data": {
      "image/png": "[encoded data removed]",
      "text/plain": [
       "<Figure size 432x288 with 1 Axes>"
      ]
     },
     "metadata": {
      "needs_background": "light"
     },
     "output_type": "display_data"
    }
   ],
   "source": [
    "sns.distplot(df['extraversion'])"
   ]
  },
  {
   "cell_type": "code",
   "execution_count": 113,
   "metadata": {},
   "outputs": [],
   "source": [
    "df['extraversion'] = power_transformer.fit_transform(df[['extraversion']])"
   ]
  },
  {
   "cell_type": "code",
   "execution_count": 114,
   "metadata": {},
   "outputs": [
    {
     "data": {
      "text/plain": [
       "<matplotlib.axes._subplots.AxesSubplot at 0x7ef447d748>"
      ]
     },
     "execution_count": 114,
     "metadata": {},
     "output_type": "execute_result"
    },
    {
     "data": {
      "image/png": "[encoded data removed]",
      "text/plain": [
       "<Figure size 432x288 with 1 Axes>"
      ]
     },
     "metadata": {
      "needs_background": "light"
     },
     "output_type": "display_data"
    }
   ],
   "source": [
    "sns.distplot(df['extraversion'])"
   ]
  },
  {
   "cell_type": "code",
   "execution_count": 115,
   "metadata": {},
   "outputs": [
    {
     "data": {
      "text/plain": [
       "<matplotlib.axes._subplots.AxesSubplot at 0x7eefe21748>"
      ]
     },
     "execution_count": 115,
     "metadata": {},
     "output_type": "execute_result"
    },
    {
     "data": {
      "image/png": "[encoded data removed]",
      "text/plain": [
       "<Figure size 432x288 with 1 Axes>"
      ]
     },
     "metadata": {
      "needs_background": "light"
     },
     "output_type": "display_data"
    }
   ],
   "source": [
    "sns.distplot(df['nueroticism'])"
   ]
  },
  {
   "cell_type": "code",
   "execution_count": 116,
   "metadata": {},
   "outputs": [],
   "source": [
    "df['nueroticism'] = power_transformer.fit_transform(df[['nueroticism']])"
   ]
  },
  {
   "cell_type": "code",
   "execution_count": 117,
   "metadata": {},
   "outputs": [
    {
     "data": {
      "text/plain": [
       "<matplotlib.axes._subplots.AxesSubplot at 0x7ef45d6940>"
      ]
     },
     "execution_count": 117,
     "metadata": {},
     "output_type": "execute_result"
    },
    {
     "data": {
      "image/png": "[encoded data removed]",
      "text/plain": [
       "<Figure size 432x288 with 1 Axes>"
      ]
     },
     "metadata": {
      "needs_background": "light"
     },
     "output_type": "display_data"
    }
   ],
   "source": [
    "sns.distplot(df['nueroticism'])"
   ]
  },
  {
   "cell_type": "code",
   "execution_count": 118,
   "metadata": {},
   "outputs": [
    {
     "data": {
      "text/plain": [
       "<matplotlib.axes._subplots.AxesSubplot at 0x7ef4756908>"
      ]
     },
     "execution_count": 118,
     "metadata": {},
     "output_type": "execute_result"
    },
    {
     "data": {
      "image/png": "[encoded data removed]",
      "text/plain": [
       "<Figure size 432x288 with 1 Axes>"
      ]
     },
     "metadata": {
      "needs_background": "light"
     },
     "output_type": "display_data"
    }
   ],
   "source": [
    "sns.distplot(df['openess_to_experience'])"
   ]
  },
  {
   "cell_type": "code",
   "execution_count": 119,
   "metadata": {},
   "outputs": [],
   "source": [
    "df['openess_to_experience'] = power_transformer.fit_transform(df[['openess_to_experience']])"
   ]
  },
  {
   "cell_type": "code",
   "execution_count": 120,
   "metadata": {},
   "outputs": [
    {
     "data": {
      "text/plain": [
       "<matplotlib.axes._subplots.AxesSubplot at 0x7ef48475c0>"
      ]
     },
     "execution_count": 120,
     "metadata": {},
     "output_type": "execute_result"
    },
    {
     "data": {
      "image/png": "[encoded data removed]",
      "text/plain": [
       "<Figure size 432x288 with 1 Axes>"
      ]
     },
     "metadata": {
      "needs_background": "light"
     },
     "output_type": "display_data"
    }
   ],
   "source": [
    "sns.distplot(df['openess_to_experience'])"
   ]
  },
  {
   "cell_type": "code",
   "execution_count": 121,
   "metadata": {},
   "outputs": [
    {
     "data": {
      "text/plain": [
       "<matplotlib.axes._subplots.AxesSubplot at 0x7ef4879da0>"
      ]
     },
     "execution_count": 121,
     "metadata": {},
     "output_type": "execute_result"
    },
    {
     "data": {
      "image/png": "[encoded data removed]",
      "text/plain": [
       "<Figure size 432x288 with 1 Axes>"
      ]
     },
     "metadata": {
      "needs_background": "light"
     },
     "output_type": "display_data"
    }
   ],
   "source": [
    "sns.distplot(df['Exp'])"
   ]
  },
  {
   "cell_type": "code",
   "execution_count": 122,
   "metadata": {},
   "outputs": [],
   "source": [
    "df['Exp'] = power_transformer.fit_transform(df[['Exp']])"
   ]
  },
  {
   "cell_type": "code",
   "execution_count": 123,
   "metadata": {},
   "outputs": [
    {
     "data": {
      "text/plain": [
       "<matplotlib.axes._subplots.AxesSubplot at 0x7ef59ec4a8>"
      ]
     },
     "execution_count": 123,
     "metadata": {},
     "output_type": "execute_result"
    },
    {
     "data": {
      "image/png": "[encoded data removed]",
      "text/plain": [
       "<Figure size 432x288 with 1 Axes>"
      ]
     },
     "metadata": {
      "needs_background": "light"
     },
     "output_type": "display_data"
    }
   ],
   "source": [
    "sns.distplot(df['Exp'])"
   ]
  },
  {
   "cell_type": "code",
   "execution_count": 124,
   "metadata": {},
   "outputs": [
    {
     "data": {
      "text/plain": [
       "0"
      ]
     },
     "execution_count": 124,
     "metadata": {},
     "output_type": "execute_result"
    }
   ],
   "source": [
    "q1_10 = df['10percentage'].quantile(q= 0.25)\n",
    "q3_10 = df['10percentage'].quantile(q= 0.75)\n",
    "iqr_10 = q3_10-q1_10\n",
    "tenthpercentage = df[(df['10percentage']<(q1_10-1.5*iqr_10)) | (df['10percentage']>(q3_10+1.5*iqr_10))].shape[0]\n",
    "tenthpercentage"
   ]
  },
  {
   "cell_type": "code",
   "execution_count": 125,
   "metadata": {},
   "outputs": [
    {
     "data": {
      "text/plain": [
       "1"
      ]
     },
     "execution_count": 125,
     "metadata": {},
     "output_type": "execute_result"
    }
   ],
   "source": [
    "q1_12 = df['12percentage'].quantile(q= 0.25)\n",
    "q3_12 = df['12percentage'].quantile(q= 0.75)\n",
    "iqr_12 = q3_12-q1_12\n",
    "twelvethpercentage = df[(df['12percentage']<(q1_12-1.5*iqr_12)) | (df['12percentage']>(q3_12+1.5*iqr_12))].shape[0]\n",
    "twelvethpercentage"
   ]
  },
  {
   "cell_type": "code",
   "execution_count": 126,
   "metadata": {
    "scrolled": true
   },
   "outputs": [
    {
     "data": {
      "text/plain": [
       "26"
      ]
     },
     "execution_count": 126,
     "metadata": {},
     "output_type": "execute_result"
    }
   ],
   "source": [
    "q1_c = df['collegeGPA'].quantile(q= 0.25)\n",
    "q3_c = df['collegeGPA'].quantile(q= 0.75)\n",
    "iqr_c = q3_c-q1_c\n",
    "CollegeGPA_o = df[(df['collegeGPA']<(q1_c-1.5*iqr_c)) | (df['collegeGPA']>(q3_c+1.5*iqr_c))].shape[0]\n",
    "CollegeGPA_o"
   ]
  },
  {
   "cell_type": "code",
   "execution_count": 127,
   "metadata": {},
   "outputs": [
    {
     "data": {
      "text/plain": [
       "10"
      ]
     },
     "execution_count": 127,
     "metadata": {},
     "output_type": "execute_result"
    }
   ],
   "source": [
    "q1_e = df['English'].quantile(q= 0.25)\n",
    "q3_e = df['English'].quantile(q= 0.75)\n",
    "iqr_e = q3_e-q1_e\n",
    "English_o = df[(df['English']<(q1_e-1.5*iqr_e)) | (df['English']>(q3_e+1.5*iqr_e))].shape[0]\n",
    "English_o"
   ]
  },
  {
   "cell_type": "code",
   "execution_count": 128,
   "metadata": {},
   "outputs": [
    {
     "data": {
      "text/plain": [
       "8"
      ]
     },
     "execution_count": 128,
     "metadata": {},
     "output_type": "execute_result"
    }
   ],
   "source": [
    "q1_l = df['Logical'].quantile(q= 0.25)\n",
    "q3_l = df['Logical'].quantile(q= 0.75)\n",
    "iqr_l = q3_l-q1_l\n",
    "Logical_o = df[(df['Logical']<(q1_l-1.5*iqr_l)) | (df['Logical']>(q3_l+1.5*iqr_l))].shape[0]\n",
    "Logical_o"
   ]
  },
  {
   "cell_type": "code",
   "execution_count": 129,
   "metadata": {},
   "outputs": [
    {
     "data": {
      "text/plain": [
       "25"
      ]
     },
     "execution_count": 129,
     "metadata": {},
     "output_type": "execute_result"
    }
   ],
   "source": [
    "q1_q = df['Quant'].quantile(q= 0.25)\n",
    "q3_q = df['Quant'].quantile(q= 0.75)\n",
    "iqr_q = q3_q-q1_q\n",
    "Quant_o = df[(df['Quant']<(q1_q-1.5*iqr_q)) | (df['Quant']>(q3_q+1.5*iqr_q))].shape[0]\n",
    "Quant_o"
   ]
  },
  {
   "cell_type": "code",
   "execution_count": 130,
   "metadata": {},
   "outputs": [
    {
     "data": {
      "text/plain": [
       "0"
      ]
     },
     "execution_count": 130,
     "metadata": {},
     "output_type": "execute_result"
    }
   ],
   "source": [
    "q1_d = df['Domain'].quantile(q= 0.25)\n",
    "q3_d = df['Domain'].quantile(q= 0.75)\n",
    "iqr_d = q3_d-q1_d\n",
    "Domain_o = df[(df['Domain']<(q1_d-1.5*iqr_d)) | (df['Domain']>(q3_d+1.5*iqr_d))].shape[0]\n",
    "Domain_o"
   ]
  },
  {
   "cell_type": "code",
   "execution_count": 131,
   "metadata": {},
   "outputs": [
    {
     "data": {
      "text/plain": [
       "4"
      ]
     },
     "execution_count": 131,
     "metadata": {},
     "output_type": "execute_result"
    }
   ],
   "source": [
    "q1_c = df['conscientiousness'].quantile(q= 0.25)\n",
    "q3_c = df['conscientiousness'].quantile(q= 0.75)\n",
    "iqr_c = q3_c-q1_c\n",
    "conscientiousness_o = df[(df['conscientiousness']<(q1_c-1.5*iqr_c)) | (df['conscientiousness']>(q3_c+1.5*iqr_c))].shape[0]\n",
    "conscientiousness_o"
   ]
  },
  {
   "cell_type": "code",
   "execution_count": 132,
   "metadata": {},
   "outputs": [
    {
     "data": {
      "text/plain": [
       "26"
      ]
     },
     "execution_count": 132,
     "metadata": {},
     "output_type": "execute_result"
    }
   ],
   "source": [
    "q1_a = df['agreeableness'].quantile(q= 0.25)\n",
    "q3_a= df['agreeableness'].quantile(q= 0.75)\n",
    "iqr_a = q3_a-q1_a\n",
    "agreeableness_o = df[(df['agreeableness']<(q1_a-1.5*iqr_a)) | (df['agreeableness']>(q3_a+1.5*iqr_a))].shape[0]\n",
    "agreeableness_o"
   ]
  },
  {
   "cell_type": "code",
   "execution_count": 133,
   "metadata": {},
   "outputs": [
    {
     "data": {
      "text/plain": [
       "17"
      ]
     },
     "execution_count": 133,
     "metadata": {},
     "output_type": "execute_result"
    }
   ],
   "source": [
    "q1_ex = df['extraversion'].quantile(q= 0.25)\n",
    "q3_ex = df['extraversion'].quantile(q= 0.75)\n",
    "iqr_ex = q3_ex-q1_ex\n",
    "extraversion_o = df[(df['extraversion']<(q1_ex-1.5*iqr_ex)) | (df['extraversion']>(q3_ex+1.5*iqr_ex))].shape[0]\n",
    "extraversion_o"
   ]
  },
  {
   "cell_type": "code",
   "execution_count": 134,
   "metadata": {},
   "outputs": [
    {
     "data": {
      "text/plain": [
       "8"
      ]
     },
     "execution_count": 134,
     "metadata": {},
     "output_type": "execute_result"
    }
   ],
   "source": [
    "q1_n = df['nueroticism'].quantile(q= 0.25)\n",
    "q3_n = df['nueroticism'].quantile(q= 0.75)\n",
    "iqr_n = q3_n-q1_n\n",
    "nueroticism_o = df[(df['nueroticism']<(q1_n-1.5*iqr_n)) | (df['nueroticism']>(q3_n+1.5*iqr_n))].shape[0]\n",
    "nueroticism_o"
   ]
  },
  {
   "cell_type": "code",
   "execution_count": 135,
   "metadata": {},
   "outputs": [
    {
     "data": {
      "text/plain": [
       "28"
      ]
     },
     "execution_count": 135,
     "metadata": {},
     "output_type": "execute_result"
    }
   ],
   "source": [
    "q1_o = df['openess_to_experience'].quantile(q= 0.25)\n",
    "q3_o = df['openess_to_experience'].quantile(q= 0.75)\n",
    "iqr_o = q3_o-q1_o\n",
    "openess_to_experience_o = df[(df['openess_to_experience']<(q1_o-1.5*iqr_o)) | (df['openess_to_experience']>(q3_o+1.5*iqr_o))].shape[0]\n",
    "openess_to_experience_o"
   ]
  },
  {
   "cell_type": "code",
   "execution_count": 136,
   "metadata": {},
   "outputs": [
    {
     "data": {
      "text/plain": [
       "3"
      ]
     },
     "execution_count": 136,
     "metadata": {},
     "output_type": "execute_result"
    }
   ],
   "source": [
    "q1_exp = df['Exp'].quantile(q= 0.25)\n",
    "q3_exp = df['Exp'].quantile(q= 0.75)\n",
    "iqr_exp = q3_exp-q1_exp\n",
    "Exp_o = df[(df['Exp']<(q1_exp-1.5*iqr_exp)) | (df['Exp']>(q3_exp+1.5*iqr_exp))].shape[0]\n",
    "Exp_o"
   ]
  },
  {
   "cell_type": "code",
   "execution_count": 137,
   "metadata": {},
   "outputs": [
    {
     "data": {
      "text/plain": [
       "78"
      ]
     },
     "execution_count": 137,
     "metadata": {},
     "output_type": "execute_result"
    }
   ],
   "source": [
    "q1_age = df['Age'].quantile(q= 0.25)\n",
    "q3_age = df['Age'].quantile(q= 0.75)\n",
    "iqr_age = q3_age-q1_age\n",
    "Age_o = df[(df['Age']<(q1_age-1.5*iqr_age)) | (df['Age']>(q3_age+1.5*iqr_age))].shape[0]\n",
    "Age_o"
   ]
  },
  {
   "cell_type": "code",
   "execution_count": 138,
   "metadata": {},
   "outputs": [
    {
     "data": {
      "text/plain": [
       "51"
      ]
     },
     "execution_count": 138,
     "metadata": {},
     "output_type": "execute_result"
    }
   ],
   "source": [
    "q1_Sc = df['Score'].quantile(q= 0.25)\n",
    "q3_Sc = df['Score'].quantile(q= 0.75)\n",
    "iqr_Sc = q3_Sc-q1_Sc\n",
    "Score_o = df[(df['Score']<(q1_Sc-1.5*iqr_Sc)) | (df['Score']>(q3_Sc+1.5*iqr_Sc))].shape[0]\n",
    "Score_o"
   ]
  },
  {
   "cell_type": "code",
   "execution_count": 139,
   "metadata": {},
   "outputs": [
    {
     "data": {
      "text/html": [
       "<div>\n",
       "<style scoped>\n",
       "    .dataframe tbody tr th:only-of-type {\n",
       "        vertical-align: middle;\n",
       "    }\n",
       "\n",
       "    .dataframe tbody tr th {\n",
       "        vertical-align: top;\n",
       "    }\n",
       "\n",
       "    .dataframe thead th {\n",
       "        text-align: right;\n",
       "    }\n",
       "</style>\n",
       "<table border=\"1\" class=\"dataframe\">\n",
       "  <thead>\n",
       "    <tr style=\"text-align: right;\">\n",
       "      <th></th>\n",
       "      <th>Features</th>\n",
       "      <th>No_of_Outliers</th>\n",
       "    </tr>\n",
       "  </thead>\n",
       "  <tbody>\n",
       "    <tr>\n",
       "      <th>0</th>\n",
       "      <td>Salary</td>\n",
       "      <td>109</td>\n",
       "    </tr>\n",
       "    <tr>\n",
       "      <th>1</th>\n",
       "      <td>10percentage</td>\n",
       "      <td>0</td>\n",
       "    </tr>\n",
       "    <tr>\n",
       "      <th>2</th>\n",
       "      <td>12percentage</td>\n",
       "      <td>1</td>\n",
       "    </tr>\n",
       "    <tr>\n",
       "      <th>3</th>\n",
       "      <td>CollegeGPA</td>\n",
       "      <td>26</td>\n",
       "    </tr>\n",
       "    <tr>\n",
       "      <th>4</th>\n",
       "      <td>English</td>\n",
       "      <td>10</td>\n",
       "    </tr>\n",
       "    <tr>\n",
       "      <th>5</th>\n",
       "      <td>Logical</td>\n",
       "      <td>8</td>\n",
       "    </tr>\n",
       "    <tr>\n",
       "      <th>6</th>\n",
       "      <td>Quant</td>\n",
       "      <td>25</td>\n",
       "    </tr>\n",
       "    <tr>\n",
       "      <th>7</th>\n",
       "      <td>Domain</td>\n",
       "      <td>0</td>\n",
       "    </tr>\n",
       "    <tr>\n",
       "      <th>8</th>\n",
       "      <td>conscientiousness</td>\n",
       "      <td>4</td>\n",
       "    </tr>\n",
       "    <tr>\n",
       "      <th>9</th>\n",
       "      <td>agreeableness</td>\n",
       "      <td>26</td>\n",
       "    </tr>\n",
       "    <tr>\n",
       "      <th>10</th>\n",
       "      <td>extraversion</td>\n",
       "      <td>17</td>\n",
       "    </tr>\n",
       "    <tr>\n",
       "      <th>11</th>\n",
       "      <td>nueroticism</td>\n",
       "      <td>8</td>\n",
       "    </tr>\n",
       "    <tr>\n",
       "      <th>12</th>\n",
       "      <td>openess_to_experience</td>\n",
       "      <td>28</td>\n",
       "    </tr>\n",
       "    <tr>\n",
       "      <th>13</th>\n",
       "      <td>Exp</td>\n",
       "      <td>3</td>\n",
       "    </tr>\n",
       "    <tr>\n",
       "      <th>14</th>\n",
       "      <td>Age</td>\n",
       "      <td>78</td>\n",
       "    </tr>\n",
       "    <tr>\n",
       "      <th>15</th>\n",
       "      <td>Score</td>\n",
       "      <td>51</td>\n",
       "    </tr>\n",
       "  </tbody>\n",
       "</table>\n",
       "</div>"
      ],
      "text/plain": [
       "                 Features  No_of_Outliers\n",
       "0                  Salary             109\n",
       "1            10percentage               0\n",
       "2            12percentage               1\n",
       "3              CollegeGPA              26\n",
       "4                 English              10\n",
       "5                 Logical               8\n",
       "6                   Quant              25\n",
       "7                  Domain               0\n",
       "8       conscientiousness               4\n",
       "9           agreeableness              26\n",
       "10           extraversion              17\n",
       "11            nueroticism               8\n",
       "12  openess_to_experience              28\n",
       "13                    Exp               3\n",
       "14                    Age              78\n",
       "15                  Score              51"
      ]
     },
     "execution_count": 139,
     "metadata": {},
     "output_type": "execute_result"
    }
   ],
   "source": [
    "Features = ['Salary','10percentage','12percentage','CollegeGPA','English','Logical','Quant','Domain','conscientiousness','agreeableness','extraversion','nueroticism','openess_to_experience','Exp','Age','Score']\n",
    "No_of_outliers = [Salary_o,tenthpercentage,twelvethpercentage,CollegeGPA_o,English_o,Logical_o,Quant_o,Domain_o,conscientiousness_o,agreeableness_o,extraversion_o,nueroticism_o,openess_to_experience_o,Exp_o,Age_o,Score_o]\n",
    "Outliers  = pd.DataFrame({'Features':Features,'No_of_Outliers':No_of_outliers})\n",
    "Outliers"
   ]
  },
  {
   "cell_type": "code",
   "execution_count": 140,
   "metadata": {},
   "outputs": [],
   "source": [
    "df.to_excel('Ameo_cleaned.xlsx',index=False)"
   ]
  },
  {
   "cell_type": "markdown",
   "metadata": {},
   "source": [
    "# Base Model Building:"
   ]
  },
  {
   "cell_type": "code",
   "execution_count": 141,
   "metadata": {},
   "outputs": [],
   "source": [
    "from sklearn.linear_model import LinearRegression\n",
    "from sklearn.tree import DecisionTreeRegressor\n",
    "from sklearn.tree import ExtraTreeRegressor\n",
    "#####\n",
    "\n",
    "from sklearn.ensemble import BaggingRegressor\n",
    "from sklearn.ensemble import ExtraTreesRegressor\n",
    "from sklearn.ensemble import GradientBoostingRegressor\n",
    "from sklearn.ensemble import RandomForestRegressor\n",
    "import xgboost as xgboost"
   ]
  },
  {
   "cell_type": "code",
   "execution_count": 142,
   "metadata": {},
   "outputs": [],
   "source": [
    "lr = LinearRegression()\n",
    "\n",
    "dt = DecisionTreeRegressor()\n",
    "et = ExtraTreeRegressor()\n",
    "\n",
    "\n",
    "br = BaggingRegressor()\n",
    "etr = ExtraTreesRegressor()\n",
    "gbr = GradientBoostingRegressor()\n",
    "rfr = RandomForestRegressor()\n",
    "xgb = xgboost.XGBRegressor()"
   ]
  },
  {
   "cell_type": "code",
   "execution_count": 143,
   "metadata": {},
   "outputs": [],
   "source": [
    "train = []\n",
    "test = []"
   ]
  },
  {
   "cell_type": "code",
   "execution_count": 144,
   "metadata": {},
   "outputs": [],
   "source": [
    "def mean_absolute_percentage_error(y_true, y_pred): \n",
    "    y_true, y_pred = np.array(y_true), np.array(y_pred)\n",
    "    return np.mean(np.abs((y_true - y_pred) / y_true)) * 100"
   ]
  },
  {
   "cell_type": "code",
   "execution_count": 145,
   "metadata": {},
   "outputs": [],
   "source": [
    "def root_mean_squared_error(y_true,y_pred):\n",
    "    y_true, y_pred = np.array(y_true), np.array(y_pred)\n",
    "    return np.sqrt(mean_squared_error(y_true,y_pred))"
   ]
  },
  {
   "cell_type": "code",
   "execution_count": 146,
   "metadata": {},
   "outputs": [],
   "source": [
    "metrics = [mean_absolute_error,mean_absolute_percentage_error,root_mean_squared_error]"
   ]
  },
  {
   "cell_type": "code",
   "execution_count": 147,
   "metadata": {},
   "outputs": [],
   "source": [
    "mae = []\n",
    "mape = []\n",
    "rmse = []"
   ]
  },
  {
   "cell_type": "code",
   "execution_count": 148,
   "metadata": {},
   "outputs": [],
   "source": [
    "X = df.drop('Salary',axis=1)\n",
    "y = df['Salary']"
   ]
  },
  {
   "cell_type": "code",
   "execution_count": 149,
   "metadata": {},
   "outputs": [
    {
     "data": {
      "text/html": [
       "<table class=\"simpletable\">\n",
       "<caption>OLS Regression Results</caption>\n",
       "<tr>\n",
       "  <th>Dep. Variable:</th>         <td>Salary</td>      <th>  R-squared:         </th> <td>   0.225</td> \n",
       "</tr>\n",
       "<tr>\n",
       "  <th>Model:</th>                   <td>OLS</td>       <th>  Adj. R-squared:    </th> <td>   0.218</td> \n",
       "</tr>\n",
       "<tr>\n",
       "  <th>Method:</th>             <td>Least Squares</td>  <th>  F-statistic:       </th> <td>   33.78</td> \n",
       "</tr>\n",
       "<tr>\n",
       "  <th>Date:</th>             <td>Thu, 23 Jan 2020</td> <th>  Prob (F-statistic):</th> <td>1.31e-190</td>\n",
       "</tr>\n",
       "<tr>\n",
       "  <th>Time:</th>                 <td>00:08:01</td>     <th>  Log-Likelihood:    </th> <td> -54210.</td> \n",
       "</tr>\n",
       "<tr>\n",
       "  <th>No. Observations:</th>      <td>  3998</td>      <th>  AIC:               </th> <td>1.085e+05</td>\n",
       "</tr>\n",
       "<tr>\n",
       "  <th>Df Residuals:</th>          <td>  3963</td>      <th>  BIC:               </th> <td>1.087e+05</td>\n",
       "</tr>\n",
       "<tr>\n",
       "  <th>Df Model:</th>              <td>    34</td>      <th>                     </th>     <td> </td>    \n",
       "</tr>\n",
       "<tr>\n",
       "  <th>Covariance Type:</th>      <td>nonrobust</td>    <th>                     </th>     <td> </td>    \n",
       "</tr>\n",
       "</table>\n",
       "<table class=\"simpletable\">\n",
       "<tr>\n",
       "            <td></td>               <th>coef</th>     <th>std err</th>      <th>t</th>      <th>P>|t|</th>  <th>[0.025</th>    <th>0.975]</th>  \n",
       "</tr>\n",
       "<tr>\n",
       "  <th>const</th>                 <td> 2.795e+07</td> <td> 9.66e+06</td> <td>    2.894</td> <td> 0.004</td> <td> 9.01e+06</td> <td> 4.69e+07</td>\n",
       "</tr>\n",
       "<tr>\n",
       "  <th>Designation</th>           <td>  -23.2201</td> <td>   24.264</td> <td>   -0.957</td> <td> 0.339</td> <td>  -70.791</td> <td>   24.351</td>\n",
       "</tr>\n",
       "<tr>\n",
       "  <th>Gender</th>                <td> 2.505e+04</td> <td> 7430.934</td> <td>    3.371</td> <td> 0.001</td> <td> 1.05e+04</td> <td> 3.96e+04</td>\n",
       "</tr>\n",
       "<tr>\n",
       "  <th>10percentage</th>          <td> 1.142e+04</td> <td> 4315.821</td> <td>    2.646</td> <td> 0.008</td> <td> 2958.741</td> <td> 1.99e+04</td>\n",
       "</tr>\n",
       "<tr>\n",
       "  <th>10board</th>               <td>  313.6142</td> <td>  890.941</td> <td>    0.352</td> <td> 0.725</td> <td>-1433.131</td> <td> 2060.359</td>\n",
       "</tr>\n",
       "<tr>\n",
       "  <th>12percentage</th>          <td>  700.9440</td> <td>  389.104</td> <td>    1.801</td> <td> 0.072</td> <td>  -61.918</td> <td> 1463.806</td>\n",
       "</tr>\n",
       "<tr>\n",
       "  <th>12board</th>               <td>  276.5357</td> <td>  781.536</td> <td>    0.354</td> <td> 0.723</td> <td>-1255.714</td> <td> 1808.786</td>\n",
       "</tr>\n",
       "<tr>\n",
       "  <th>CollegeTier</th>           <td>-8.879e+04</td> <td> 1.23e+04</td> <td>   -7.216</td> <td> 0.000</td> <td>-1.13e+05</td> <td>-6.47e+04</td>\n",
       "</tr>\n",
       "<tr>\n",
       "  <th>Degree</th>                <td>-3050.5355</td> <td> 5147.369</td> <td>   -0.593</td> <td> 0.553</td> <td>-1.31e+04</td> <td> 7041.205</td>\n",
       "</tr>\n",
       "<tr>\n",
       "  <th>Specialization</th>        <td> -218.3123</td> <td> 1335.065</td> <td>   -0.164</td> <td> 0.870</td> <td>-2835.791</td> <td> 2399.166</td>\n",
       "</tr>\n",
       "<tr>\n",
       "  <th>collegeGPA</th>            <td> 1836.3609</td> <td>  480.233</td> <td>    3.824</td> <td> 0.000</td> <td>  894.834</td> <td> 2777.888</td>\n",
       "</tr>\n",
       "<tr>\n",
       "  <th>CollegeCityTier</th>       <td>-1.077e+04</td> <td> 6685.186</td> <td>   -1.612</td> <td> 0.107</td> <td>-2.39e+04</td> <td> 2332.147</td>\n",
       "</tr>\n",
       "<tr>\n",
       "  <th>CollegeState</th>          <td>  267.0832</td> <td>  442.762</td> <td>    0.603</td> <td> 0.546</td> <td> -600.980</td> <td> 1135.146</td>\n",
       "</tr>\n",
       "<tr>\n",
       "  <th>English</th>               <td> 1.562e+04</td> <td> 3612.788</td> <td>    4.323</td> <td> 0.000</td> <td> 8533.400</td> <td> 2.27e+04</td>\n",
       "</tr>\n",
       "<tr>\n",
       "  <th>Logical</th>               <td> 7026.1290</td> <td> 3764.737</td> <td>    1.866</td> <td> 0.062</td> <td> -354.874</td> <td> 1.44e+04</td>\n",
       "</tr>\n",
       "<tr>\n",
       "  <th>Quant</th>                 <td> 9227.3196</td> <td> 3866.101</td> <td>    2.387</td> <td> 0.017</td> <td> 1647.587</td> <td> 1.68e+04</td>\n",
       "</tr>\n",
       "<tr>\n",
       "  <th>Domain</th>                <td>  181.1736</td> <td> 5176.976</td> <td>    0.035</td> <td> 0.972</td> <td>-9968.613</td> <td> 1.03e+04</td>\n",
       "</tr>\n",
       "<tr>\n",
       "  <th>conscientiousness</th>     <td>-1.081e+04</td> <td> 3687.533</td> <td>   -2.932</td> <td> 0.003</td> <td> -1.8e+04</td> <td>-3582.118</td>\n",
       "</tr>\n",
       "<tr>\n",
       "  <th>agreeableness</th>         <td> 7065.7892</td> <td> 3943.456</td> <td>    1.792</td> <td> 0.073</td> <td> -665.603</td> <td> 1.48e+04</td>\n",
       "</tr>\n",
       "<tr>\n",
       "  <th>extraversion</th>          <td> 8551.7544</td> <td> 3487.655</td> <td>    2.452</td> <td> 0.014</td> <td> 1713.987</td> <td> 1.54e+04</td>\n",
       "</tr>\n",
       "<tr>\n",
       "  <th>nueroticism</th>           <td>-5751.7577</td> <td> 3277.196</td> <td>   -1.755</td> <td> 0.079</td> <td>-1.22e+04</td> <td>  673.391</td>\n",
       "</tr>\n",
       "<tr>\n",
       "  <th>openess_to_experience</th> <td>-7162.4353</td> <td> 3633.674</td> <td>   -1.971</td> <td> 0.049</td> <td>-1.43e+04</td> <td>  -38.389</td>\n",
       "</tr>\n",
       "<tr>\n",
       "  <th>Exp</th>                   <td> 6.172e+04</td> <td> 3709.206</td> <td>   16.638</td> <td> 0.000</td> <td> 5.44e+04</td> <td>  6.9e+04</td>\n",
       "</tr>\n",
       "<tr>\n",
       "  <th>Age</th>                   <td>-7096.7437</td> <td> 6231.211</td> <td>   -1.139</td> <td> 0.255</td> <td>-1.93e+04</td> <td> 5119.937</td>\n",
       "</tr>\n",
       "<tr>\n",
       "  <th>JobRegion</th>             <td> 1931.9225</td> <td>  629.991</td> <td>    3.067</td> <td> 0.002</td> <td>  696.785</td> <td> 3167.060</td>\n",
       "</tr>\n",
       "<tr>\n",
       "  <th>DOB_yr</th>                <td>-2.007e+04</td> <td> 6956.800</td> <td>   -2.884</td> <td> 0.004</td> <td>-3.37e+04</td> <td>-6427.573</td>\n",
       "</tr>\n",
       "<tr>\n",
       "  <th>12Gap</th>                 <td>-2859.3612</td> <td> 4716.250</td> <td>   -0.606</td> <td> 0.544</td> <td>-1.21e+04</td> <td> 6387.143</td>\n",
       "</tr>\n",
       "<tr>\n",
       "  <th>GradGap</th>               <td>-9359.1131</td> <td> 4910.562</td> <td>   -1.906</td> <td> 0.057</td> <td> -1.9e+04</td> <td>  268.352</td>\n",
       "</tr>\n",
       "<tr>\n",
       "  <th>Score</th>                 <td>  130.0204</td> <td>   60.324</td> <td>    2.155</td> <td> 0.031</td> <td>   11.752</td> <td>  248.288</td>\n",
       "</tr>\n",
       "<tr>\n",
       "  <th>Domain_Test</th>           <td> 2.883e+06</td> <td> 9.99e+05</td> <td>    2.886</td> <td> 0.004</td> <td> 9.25e+05</td> <td> 4.84e+06</td>\n",
       "</tr>\n",
       "<tr>\n",
       "  <th>CP</th>                    <td>  9.75e+06</td> <td> 3.38e+06</td> <td>    2.887</td> <td> 0.004</td> <td> 3.13e+06</td> <td> 1.64e+07</td>\n",
       "</tr>\n",
       "<tr>\n",
       "  <th>ES</th>                    <td> 1.092e+06</td> <td>  3.8e+05</td> <td>    2.870</td> <td> 0.004</td> <td> 3.46e+05</td> <td> 1.84e+06</td>\n",
       "</tr>\n",
       "<tr>\n",
       "  <th>CS</th>                    <td> 6.876e+06</td> <td> 2.38e+06</td> <td>    2.890</td> <td> 0.004</td> <td> 2.21e+06</td> <td> 1.15e+07</td>\n",
       "</tr>\n",
       "<tr>\n",
       "  <th>ME</th>                    <td>-1.773e+06</td> <td> 6.18e+05</td> <td>   -2.867</td> <td> 0.004</td> <td>-2.99e+06</td> <td>-5.61e+05</td>\n",
       "</tr>\n",
       "<tr>\n",
       "  <th>EE</th>                    <td> 3.958e+06</td> <td> 1.38e+06</td> <td>    2.868</td> <td> 0.004</td> <td> 1.25e+06</td> <td> 6.66e+06</td>\n",
       "</tr>\n",
       "<tr>\n",
       "  <th>TE</th>                    <td>-4.666e+06</td> <td> 1.62e+06</td> <td>   -2.884</td> <td> 0.004</td> <td>-7.84e+06</td> <td>-1.49e+06</td>\n",
       "</tr>\n",
       "<tr>\n",
       "  <th>CE</th>                    <td> 1.271e+07</td> <td> 4.38e+06</td> <td>    2.904</td> <td> 0.004</td> <td> 4.13e+06</td> <td> 2.13e+07</td>\n",
       "</tr>\n",
       "</table>\n",
       "<table class=\"simpletable\">\n",
       "<tr>\n",
       "  <th>Omnibus:</th>       <td>5777.078</td> <th>  Durbin-Watson:     </th>  <td>   1.990</td>  \n",
       "</tr>\n",
       "<tr>\n",
       "  <th>Prob(Omnibus):</th>  <td> 0.000</td>  <th>  Jarque-Bera (JB):  </th> <td>2462144.278</td>\n",
       "</tr>\n",
       "<tr>\n",
       "  <th>Skew:</th>           <td> 8.504</td>  <th>  Prob(JB):          </th>  <td>    0.00</td>  \n",
       "</tr>\n",
       "<tr>\n",
       "  <th>Kurtosis:</th>       <td>123.378</td> <th>  Cond. No.          </th>  <td>1.00e+16</td>  \n",
       "</tr>\n",
       "</table><br/><br/>Warnings:<br/>[1] Standard Errors assume that the covariance matrix of the errors is correctly specified.<br/>[2] The smallest eigenvalue is 1.69e-22. This might indicate that there are<br/>strong multicollinearity problems or that the design matrix is singular."
      ],
      "text/plain": [
       "<class 'statsmodels.iolib.summary.Summary'>\n",
       "\"\"\"\n",
       "                            OLS Regression Results                            \n",
       "==============================================================================\n",
       "Dep. Variable:                 Salary   R-squared:                       0.225\n",
       "Model:                            OLS   Adj. R-squared:                  0.218\n",
       "Method:                 Least Squares   F-statistic:                     33.78\n",
       "Date:                Thu, 23 Jan 2020   Prob (F-statistic):          1.31e-190\n",
       "Time:                        00:08:01   Log-Likelihood:                -54210.\n",
       "No. Observations:                3998   AIC:                         1.085e+05\n",
       "Df Residuals:                    3963   BIC:                         1.087e+05\n",
       "Df Model:                          34                                         \n",
       "Covariance Type:            nonrobust                                         \n",
       "=========================================================================================\n",
       "                            coef    std err          t      P>|t|      [0.025      0.975]\n",
       "-----------------------------------------------------------------------------------------\n",
       "const                  2.795e+07   9.66e+06      2.894      0.004    9.01e+06    4.69e+07\n",
       "Designation             -23.2201     24.264     -0.957      0.339     -70.791      24.351\n",
       "Gender                 2.505e+04   7430.934      3.371      0.001    1.05e+04    3.96e+04\n",
       "10percentage           1.142e+04   4315.821      2.646      0.008    2958.741    1.99e+04\n",
       "10board                 313.6142    890.941      0.352      0.725   -1433.131    2060.359\n",
       "12percentage            700.9440    389.104      1.801      0.072     -61.918    1463.806\n",
       "12board                 276.5357    781.536      0.354      0.723   -1255.714    1808.786\n",
       "CollegeTier           -8.879e+04   1.23e+04     -7.216      0.000   -1.13e+05   -6.47e+04\n",
       "Degree                -3050.5355   5147.369     -0.593      0.553   -1.31e+04    7041.205\n",
       "Specialization         -218.3123   1335.065     -0.164      0.870   -2835.791    2399.166\n",
       "collegeGPA             1836.3609    480.233      3.824      0.000     894.834    2777.888\n",
       "CollegeCityTier       -1.077e+04   6685.186     -1.612      0.107   -2.39e+04    2332.147\n",
       "CollegeState            267.0832    442.762      0.603      0.546    -600.980    1135.146\n",
       "English                1.562e+04   3612.788      4.323      0.000    8533.400    2.27e+04\n",
       "Logical                7026.1290   3764.737      1.866      0.062    -354.874    1.44e+04\n",
       "Quant                  9227.3196   3866.101      2.387      0.017    1647.587    1.68e+04\n",
       "Domain                  181.1736   5176.976      0.035      0.972   -9968.613    1.03e+04\n",
       "conscientiousness     -1.081e+04   3687.533     -2.932      0.003    -1.8e+04   -3582.118\n",
       "agreeableness          7065.7892   3943.456      1.792      0.073    -665.603    1.48e+04\n",
       "extraversion           8551.7544   3487.655      2.452      0.014    1713.987    1.54e+04\n",
       "nueroticism           -5751.7577   3277.196     -1.755      0.079   -1.22e+04     673.391\n",
       "openess_to_experience -7162.4353   3633.674     -1.971      0.049   -1.43e+04     -38.389\n",
       "Exp                    6.172e+04   3709.206     16.638      0.000    5.44e+04     6.9e+04\n",
       "Age                   -7096.7437   6231.211     -1.139      0.255   -1.93e+04    5119.937\n",
       "JobRegion              1931.9225    629.991      3.067      0.002     696.785    3167.060\n",
       "DOB_yr                -2.007e+04   6956.800     -2.884      0.004   -3.37e+04   -6427.573\n",
       "12Gap                 -2859.3612   4716.250     -0.606      0.544   -1.21e+04    6387.143\n",
       "GradGap               -9359.1131   4910.562     -1.906      0.057    -1.9e+04     268.352\n",
       "Score                   130.0204     60.324      2.155      0.031      11.752     248.288\n",
       "Domain_Test            2.883e+06   9.99e+05      2.886      0.004    9.25e+05    4.84e+06\n",
       "CP                      9.75e+06   3.38e+06      2.887      0.004    3.13e+06    1.64e+07\n",
       "ES                     1.092e+06    3.8e+05      2.870      0.004    3.46e+05    1.84e+06\n",
       "CS                     6.876e+06   2.38e+06      2.890      0.004    2.21e+06    1.15e+07\n",
       "ME                    -1.773e+06   6.18e+05     -2.867      0.004   -2.99e+06   -5.61e+05\n",
       "EE                     3.958e+06   1.38e+06      2.868      0.004    1.25e+06    6.66e+06\n",
       "TE                    -4.666e+06   1.62e+06     -2.884      0.004   -7.84e+06   -1.49e+06\n",
       "CE                     1.271e+07   4.38e+06      2.904      0.004    4.13e+06    2.13e+07\n",
       "==============================================================================\n",
       "Omnibus:                     5777.078   Durbin-Watson:                   1.990\n",
       "Prob(Omnibus):                  0.000   Jarque-Bera (JB):          2462144.278\n",
       "Skew:                           8.504   Prob(JB):                         0.00\n",
       "Kurtosis:                     123.378   Cond. No.                     1.00e+16\n",
       "==============================================================================\n",
       "\n",
       "Warnings:\n",
       "[1] Standard Errors assume that the covariance matrix of the errors is correctly specified.\n",
       "[2] The smallest eigenvalue is 1.69e-22. This might indicate that there are\n",
       "strong multicollinearity problems or that the design matrix is singular.\n",
       "\"\"\""
      ]
     },
     "execution_count": 149,
     "metadata": {},
     "output_type": "execute_result"
    }
   ],
   "source": [
    "import warnings \n",
    "warnings.filterwarnings('ignore')\n",
    "import statsmodels.api as sm\n",
    "\n",
    "X_constant = sm.add_constant(X)\n",
    "lin_reg = sm.OLS(y,X_constant).fit()\n",
    "lin_reg.summary()"
   ]
  },
  {
   "cell_type": "code",
   "execution_count": 150,
   "metadata": {},
   "outputs": [
    {
     "data": {
      "text/html": [
       "<div>\n",
       "<style scoped>\n",
       "    .dataframe tbody tr th:only-of-type {\n",
       "        vertical-align: middle;\n",
       "    }\n",
       "\n",
       "    .dataframe tbody tr th {\n",
       "        vertical-align: top;\n",
       "    }\n",
       "\n",
       "    .dataframe thead th {\n",
       "        text-align: right;\n",
       "    }\n",
       "</style>\n",
       "<table border=\"1\" class=\"dataframe\">\n",
       "  <thead>\n",
       "    <tr style=\"text-align: right;\">\n",
       "      <th></th>\n",
       "      <th>vif</th>\n",
       "    </tr>\n",
       "  </thead>\n",
       "  <tbody>\n",
       "    <tr>\n",
       "      <th>Designation</th>\n",
       "      <td>1.045225</td>\n",
       "    </tr>\n",
       "    <tr>\n",
       "      <th>Gender</th>\n",
       "      <td>1.135761</td>\n",
       "    </tr>\n",
       "    <tr>\n",
       "      <th>10percentage</th>\n",
       "      <td>2.104187</td>\n",
       "    </tr>\n",
       "    <tr>\n",
       "      <th>10board</th>\n",
       "      <td>6.983429</td>\n",
       "    </tr>\n",
       "    <tr>\n",
       "      <th>12percentage</th>\n",
       "      <td>2.068994</td>\n",
       "    </tr>\n",
       "    <tr>\n",
       "      <th>12board</th>\n",
       "      <td>7.155659</td>\n",
       "    </tr>\n",
       "    <tr>\n",
       "      <th>CollegeTier</th>\n",
       "      <td>1.176394</td>\n",
       "    </tr>\n",
       "    <tr>\n",
       "      <th>Degree</th>\n",
       "      <td>1.666348</td>\n",
       "    </tr>\n",
       "    <tr>\n",
       "      <th>Specialization</th>\n",
       "      <td>1.281201</td>\n",
       "    </tr>\n",
       "    <tr>\n",
       "      <th>collegeGPA</th>\n",
       "      <td>1.425768</td>\n",
       "    </tr>\n",
       "    <tr>\n",
       "      <th>CollegeCityTier</th>\n",
       "      <td>1.061046</td>\n",
       "    </tr>\n",
       "    <tr>\n",
       "      <th>CollegeState</th>\n",
       "      <td>1.124670</td>\n",
       "    </tr>\n",
       "    <tr>\n",
       "      <th>English</th>\n",
       "      <td>1.474492</td>\n",
       "    </tr>\n",
       "    <tr>\n",
       "      <th>Logical</th>\n",
       "      <td>1.601131</td>\n",
       "    </tr>\n",
       "    <tr>\n",
       "      <th>Quant</th>\n",
       "      <td>1.688510</td>\n",
       "    </tr>\n",
       "    <tr>\n",
       "      <th>Domain</th>\n",
       "      <td>3.027679</td>\n",
       "    </tr>\n",
       "    <tr>\n",
       "      <th>conscientiousness</th>\n",
       "      <td>1.536135</td>\n",
       "    </tr>\n",
       "    <tr>\n",
       "      <th>agreeableness</th>\n",
       "      <td>1.756756</td>\n",
       "    </tr>\n",
       "    <tr>\n",
       "      <th>extraversion</th>\n",
       "      <td>1.374120</td>\n",
       "    </tr>\n",
       "    <tr>\n",
       "      <th>nueroticism</th>\n",
       "      <td>1.213284</td>\n",
       "    </tr>\n",
       "    <tr>\n",
       "      <th>openess_to_experience</th>\n",
       "      <td>1.491590</td>\n",
       "    </tr>\n",
       "    <tr>\n",
       "      <th>Exp</th>\n",
       "      <td>1.554244</td>\n",
       "    </tr>\n",
       "    <tr>\n",
       "      <th>Age</th>\n",
       "      <td>13.897141</td>\n",
       "    </tr>\n",
       "    <tr>\n",
       "      <th>JobRegion</th>\n",
       "      <td>1.064933</td>\n",
       "    </tr>\n",
       "    <tr>\n",
       "      <th>DOB_yr</th>\n",
       "      <td>17.075489</td>\n",
       "    </tr>\n",
       "    <tr>\n",
       "      <th>12Gap</th>\n",
       "      <td>1.906284</td>\n",
       "    </tr>\n",
       "    <tr>\n",
       "      <th>GradGap</th>\n",
       "      <td>3.786186</td>\n",
       "    </tr>\n",
       "    <tr>\n",
       "      <th>Score</th>\n",
       "      <td>3.700421</td>\n",
       "    </tr>\n",
       "    <tr>\n",
       "      <th>Domain_Test</th>\n",
       "      <td>inf</td>\n",
       "    </tr>\n",
       "    <tr>\n",
       "      <th>CP</th>\n",
       "      <td>inf</td>\n",
       "    </tr>\n",
       "    <tr>\n",
       "      <th>ES</th>\n",
       "      <td>inf</td>\n",
       "    </tr>\n",
       "    <tr>\n",
       "      <th>CS</th>\n",
       "      <td>inf</td>\n",
       "    </tr>\n",
       "    <tr>\n",
       "      <th>ME</th>\n",
       "      <td>inf</td>\n",
       "    </tr>\n",
       "    <tr>\n",
       "      <th>EE</th>\n",
       "      <td>inf</td>\n",
       "    </tr>\n",
       "    <tr>\n",
       "      <th>TE</th>\n",
       "      <td>inf</td>\n",
       "    </tr>\n",
       "    <tr>\n",
       "      <th>CE</th>\n",
       "      <td>inf</td>\n",
       "    </tr>\n",
       "  </tbody>\n",
       "</table>\n",
       "</div>"
      ],
      "text/plain": [
       "                             vif\n",
       "Designation             1.045225\n",
       "Gender                  1.135761\n",
       "10percentage            2.104187\n",
       "10board                 6.983429\n",
       "12percentage            2.068994\n",
       "12board                 7.155659\n",
       "CollegeTier             1.176394\n",
       "Degree                  1.666348\n",
       "Specialization          1.281201\n",
       "collegeGPA              1.425768\n",
       "CollegeCityTier         1.061046\n",
       "CollegeState            1.124670\n",
       "English                 1.474492\n",
       "Logical                 1.601131\n",
       "Quant                   1.688510\n",
       "Domain                  3.027679\n",
       "conscientiousness       1.536135\n",
       "agreeableness           1.756756\n",
       "extraversion            1.374120\n",
       "nueroticism             1.213284\n",
       "openess_to_experience   1.491590\n",
       "Exp                     1.554244\n",
       "Age                    13.897141\n",
       "JobRegion               1.064933\n",
       "DOB_yr                 17.075489\n",
       "12Gap                   1.906284\n",
       "GradGap                 3.786186\n",
       "Score                   3.700421\n",
       "Domain_Test                  inf\n",
       "CP                           inf\n",
       "ES                           inf\n",
       "CS                           inf\n",
       "ME                           inf\n",
       "EE                           inf\n",
       "TE                           inf\n",
       "CE                           inf"
      ]
     },
     "execution_count": 150,
     "metadata": {},
     "output_type": "execute_result"
    }
   ],
   "source": [
    "from statsmodels.stats.outliers_influence import variance_inflation_factor\n",
    "\n",
    "vif = [variance_inflation_factor(X_constant.values, i) for i in range(X_constant.shape[1])]\n",
    "pd.DataFrame({'vif': vif[1:]}, index=X.columns)"
   ]
  },
  {
   "cell_type": "code",
   "execution_count": 151,
   "metadata": {},
   "outputs": [],
   "source": [
    "from sklearn.model_selection import train_test_split\n",
    "xtrain,xtest,ytrain,ytest = train_test_split(X,y,test_size=0.3,random_state=42)"
   ]
  },
  {
   "cell_type": "markdown",
   "metadata": {},
   "source": [
    "## Linear Regression:"
   ]
  },
  {
   "cell_type": "code",
   "execution_count": 152,
   "metadata": {},
   "outputs": [],
   "source": [
    "train_base = []\n",
    "test_base = []\n",
    "mae_base = []\n",
    "mape_base = []\n",
    "rmse_base = []"
   ]
  },
  {
   "cell_type": "code",
   "execution_count": 153,
   "metadata": {},
   "outputs": [
    {
     "data": {
      "text/plain": [
       "LinearRegression(copy_X=True, fit_intercept=True, n_jobs=None, normalize=False)"
      ]
     },
     "execution_count": 153,
     "metadata": {},
     "output_type": "execute_result"
    }
   ],
   "source": [
    "lr.fit(xtrain,ytrain)"
   ]
  },
  {
   "cell_type": "code",
   "execution_count": 154,
   "metadata": {},
   "outputs": [],
   "source": [
    "y_pred = lr.predict(xtest)"
   ]
  },
  {
   "cell_type": "code",
   "execution_count": 155,
   "metadata": {},
   "outputs": [
    {
     "name": "stdout",
     "output_type": "stream",
     "text": [
      "R2_Score of Train:  0.21399613517557792\n",
      "R2_Score of Test:  0.23909734113589498\n"
     ]
    }
   ],
   "source": [
    "print('R2_Score of Train: ',lr.score(xtrain,ytrain))\n",
    "train.append(lr.score(xtrain,ytrain))\n",
    "train_base.append(lr.score(xtrain,ytrain))\n",
    "print('R2_Score of Test: ',lr.score(xtest,ytest))\n",
    "test.append(lr.score(xtest,ytest))\n",
    "test_base.append(lr.score(xtest,ytest))"
   ]
  },
  {
   "cell_type": "code",
   "execution_count": 156,
   "metadata": {},
   "outputs": [
    {
     "name": "stdout",
     "output_type": "stream",
     "text": [
      "95219.54447642657\n",
      "40.83948356492558\n",
      "191655.05727481318\n"
     ]
    }
   ],
   "source": [
    "for i in metrics:\n",
    "    print(i(ytest,y_pred))\n",
    "    if i == mean_absolute_error:\n",
    "        mae_base.append(i(ytest,y_pred))\n",
    "        mae.append(i(ytest,y_pred))\n",
    "    elif i == mean_absolute_percentage_error:\n",
    "        mape_base.append(i(ytest,y_pred))\n",
    "        mape.append(i(ytest,y_pred))\n",
    "    else:\n",
    "        rmse_base.append(i(ytest,y_pred))\n",
    "        rmse.append(i(ytest,y_pred))"
   ]
  },
  {
   "cell_type": "markdown",
   "metadata": {},
   "source": [
    "## Decision Tree Regressor:"
   ]
  },
  {
   "cell_type": "code",
   "execution_count": 157,
   "metadata": {},
   "outputs": [
    {
     "data": {
      "text/plain": [
       "DecisionTreeRegressor(criterion='mse', max_depth=None, max_features=None,\n",
       "                      max_leaf_nodes=None, min_impurity_decrease=0.0,\n",
       "                      min_impurity_split=None, min_samples_leaf=1,\n",
       "                      min_samples_split=2, min_weight_fraction_leaf=0.0,\n",
       "                      presort=False, random_state=None, splitter='best')"
      ]
     },
     "execution_count": 157,
     "metadata": {},
     "output_type": "execute_result"
    }
   ],
   "source": [
    "dt.fit(xtrain,ytrain)"
   ]
  },
  {
   "cell_type": "code",
   "execution_count": 158,
   "metadata": {},
   "outputs": [],
   "source": [
    "y_pred = dt.predict(xtest)"
   ]
  },
  {
   "cell_type": "code",
   "execution_count": 159,
   "metadata": {},
   "outputs": [
    {
     "name": "stdout",
     "output_type": "stream",
     "text": [
      "R2_Score of Train:  1.0\n",
      "R2_Score of Test:  -0.8458589549572929\n"
     ]
    }
   ],
   "source": [
    "print('R2_Score of Train: ',dt.score(xtrain,ytrain))\n",
    "train_base.append(dt.score(xtrain,ytrain))\n",
    "print('R2_Score of Test: ',dt.score(xtest,ytest))\n",
    "test_base.append(dt.score(xtest,ytest))"
   ]
  },
  {
   "cell_type": "code",
   "execution_count": 160,
   "metadata": {},
   "outputs": [
    {
     "name": "stdout",
     "output_type": "stream",
     "text": [
      "146105.0\n",
      "58.791643446357455\n",
      "298507.3226349174\n"
     ]
    }
   ],
   "source": [
    "for i in metrics:\n",
    "    print(i(ytest,y_pred))\n",
    "    if i == mean_absolute_error:\n",
    "        mae_base.append(i(ytest,y_pred))\n",
    "    elif i == mean_absolute_percentage_error:\n",
    "        mape_base.append(i(ytest,y_pred))\n",
    "    else:\n",
    "        rmse_base.append(i(ytest,y_pred))"
   ]
  },
  {
   "cell_type": "markdown",
   "metadata": {},
   "source": [
    "#### Hyperparameter Tuning of Decision Tree:"
   ]
  },
  {
   "cell_type": "code",
   "execution_count": 161,
   "metadata": {},
   "outputs": [],
   "source": [
    "params = {\"criterion\": [\"mse\", \"mae\"],\n",
    "              \"min_samples_split\": [10, 20, 40],\n",
    "              \"max_depth\": [2, 6, 8],\n",
    "              \"min_samples_leaf\": [20, 40, 100],\n",
    "              \"max_leaf_nodes\": [5, 20, 100]\n",
    "              }"
   ]
  },
  {
   "cell_type": "code",
   "execution_count": 162,
   "metadata": {},
   "outputs": [
    {
     "data": {
      "text/plain": [
       "GridSearchCV(cv=5, error_score='raise-deprecating',\n",
       "             estimator=DecisionTreeRegressor(criterion='mse', max_depth=None,\n",
       "                                             max_features=None,\n",
       "                                             max_leaf_nodes=None,\n",
       "                                             min_impurity_decrease=0.0,\n",
       "                                             min_impurity_split=None,\n",
       "                                             min_samples_leaf=1,\n",
       "                                             min_samples_split=2,\n",
       "                                             min_weight_fraction_leaf=0.0,\n",
       "                                             presort=False, random_state=None,\n",
       "                                             splitter='best'),\n",
       "             iid='warn', n_jobs=None,\n",
       "             param_grid={'criterion': ['mse', 'mae'], 'max_depth': [2, 6, 8],\n",
       "                         'max_leaf_nodes': [5, 20, 100],\n",
       "                         'min_samples_leaf': [20, 40, 100],\n",
       "                         'min_samples_split': [10, 20, 40]},\n",
       "             pre_dispatch='2*n_jobs', refit=True, return_train_score=False,\n",
       "             scoring=None, verbose=0)"
      ]
     },
     "execution_count": 162,
     "metadata": {},
     "output_type": "execute_result"
    }
   ],
   "source": [
    "from sklearn.model_selection import GridSearchCV\n",
    "grid_cv_dt = GridSearchCV(dt,param_grid=params,cv=5)\n",
    "grid_cv_dt.fit(X,y)"
   ]
  },
  {
   "cell_type": "code",
   "execution_count": 163,
   "metadata": {},
   "outputs": [
    {
     "name": "stdout",
     "output_type": "stream",
     "text": [
      "{'criterion': 'mae', 'max_depth': 8, 'max_leaf_nodes': 100, 'min_samples_leaf': 100, 'min_samples_split': 10}\n"
     ]
    }
   ],
   "source": [
    "print(grid_cv_dt.best_params_)"
   ]
  },
  {
   "cell_type": "code",
   "execution_count": 164,
   "metadata": {},
   "outputs": [],
   "source": [
    "dt_reg1 = DecisionTreeRegressor(**grid_cv_dt.best_params_)\n",
    "dt_reg1.fit(xtrain,ytrain)\n",
    "y_pred1 = dt_reg1.predict(xtest)"
   ]
  },
  {
   "cell_type": "code",
   "execution_count": 165,
   "metadata": {},
   "outputs": [
    {
     "name": "stdout",
     "output_type": "stream",
     "text": [
      "R2_Score of Train:  0.17908297328663236\n",
      "R2_Score of Test:  0.16824381006760714\n",
      "mean_absolute_error 98855.0\n",
      "mean_absolute_percentage_error 40.398478142654916\n",
      "RMSE 200379.71454216616\n"
     ]
    }
   ],
   "source": [
    "print('R2_Score of Train: ',dt_reg1.score(xtrain,ytrain))\n",
    "train_base.append(dt_reg1.score(xtrain,ytrain))\n",
    "print('R2_Score of Test: ',dt_reg1.score(xtest,ytest))\n",
    "test_base.append(dt_reg1.score(xtest,ytest))\n",
    "print('mean_absolute_error',mean_absolute_error(ytest,y_pred1))\n",
    "mae_base.append(mean_absolute_error(ytest,y_pred1))\n",
    "print('mean_absolute_percentage_error',mean_absolute_percentage_error(ytest,y_pred1))\n",
    "mape_base.append(mean_absolute_percentage_error(ytest,y_pred1))\n",
    "print('RMSE',np.sqrt(mean_squared_error(ytest,y_pred1)))\n",
    "rmse_base.append(np.sqrt(mean_squared_error(ytest,y_pred1)))"
   ]
  },
  {
   "cell_type": "code",
   "execution_count": null,
   "metadata": {},
   "outputs": [],
   "source": []
  },
  {
   "cell_type": "markdown",
   "metadata": {},
   "source": [
    "## Random Forest Regressor:"
   ]
  },
  {
   "cell_type": "code",
   "execution_count": 166,
   "metadata": {},
   "outputs": [
    {
     "data": {
      "text/plain": [
       "RandomForestRegressor(bootstrap=True, criterion='mse', max_depth=None,\n",
       "                      max_features='auto', max_leaf_nodes=None,\n",
       "                      min_impurity_decrease=0.0, min_impurity_split=None,\n",
       "                      min_samples_leaf=1, min_samples_split=2,\n",
       "                      min_weight_fraction_leaf=0.0, n_estimators=10,\n",
       "                      n_jobs=None, oob_score=False, random_state=None,\n",
       "                      verbose=0, warm_start=False)"
      ]
     },
     "execution_count": 166,
     "metadata": {},
     "output_type": "execute_result"
    }
   ],
   "source": [
    "rfr.fit(xtrain,ytrain)"
   ]
  },
  {
   "cell_type": "code",
   "execution_count": 167,
   "metadata": {},
   "outputs": [],
   "source": [
    "y_pred = rfr.predict(xtest)"
   ]
  },
  {
   "cell_type": "code",
   "execution_count": 168,
   "metadata": {},
   "outputs": [
    {
     "name": "stdout",
     "output_type": "stream",
     "text": [
      "R2_Score of Train:  0.8369166828088379\n",
      "R2_Score of Test:  0.13068785569409336\n"
     ]
    }
   ],
   "source": [
    "print('R2_Score of Train: ',rfr.score(xtrain,ytrain))\n",
    "train_base.append(rfr.score(xtrain,ytrain))\n",
    "print('R2_Score of Test: ',rfr.score(xtest,ytest))\n",
    "test_base.append(rfr.score(xtest,ytest))"
   ]
  },
  {
   "cell_type": "code",
   "execution_count": 169,
   "metadata": {},
   "outputs": [
    {
     "name": "stdout",
     "output_type": "stream",
     "text": [
      "102477.91666666667\n",
      "42.25941062611102\n",
      "204853.60270609512\n"
     ]
    }
   ],
   "source": [
    "for i in metrics:\n",
    "    print(i(ytest,y_pred))\n",
    "    if i == mean_absolute_error:\n",
    "        mae_base.append(i(ytest,y_pred))\n",
    "    elif i == mean_absolute_percentage_error:\n",
    "        mape_base.append(i(ytest,y_pred))\n",
    "    else:\n",
    "        rmse_base.append(i(ytest,y_pred))"
   ]
  },
  {
   "cell_type": "markdown",
   "metadata": {},
   "source": [
    "## Extra Tree Regressor:"
   ]
  },
  {
   "cell_type": "code",
   "execution_count": 170,
   "metadata": {},
   "outputs": [
    {
     "data": {
      "text/plain": [
       "ExtraTreeRegressor(criterion='mse', max_depth=None, max_features='auto',\n",
       "                   max_leaf_nodes=None, min_impurity_decrease=0.0,\n",
       "                   min_impurity_split=None, min_samples_leaf=1,\n",
       "                   min_samples_split=2, min_weight_fraction_leaf=0.0,\n",
       "                   random_state=None, splitter='random')"
      ]
     },
     "execution_count": 170,
     "metadata": {},
     "output_type": "execute_result"
    }
   ],
   "source": [
    "et.fit(xtrain,ytrain)"
   ]
  },
  {
   "cell_type": "code",
   "execution_count": 171,
   "metadata": {},
   "outputs": [],
   "source": [
    "y_pred = et.predict(xtest)"
   ]
  },
  {
   "cell_type": "code",
   "execution_count": 172,
   "metadata": {},
   "outputs": [
    {
     "name": "stdout",
     "output_type": "stream",
     "text": [
      "R2_Score of Train:  1.0\n",
      "R2_Score of Test:  -0.5727314031425927\n"
     ]
    }
   ],
   "source": [
    "print('R2_Score of Train: ',et.score(xtrain,ytrain))\n",
    "train_base.append(et.score(xtrain,ytrain))\n",
    "print('R2_Score of Test: ',et.score(xtest,ytest))\n",
    "test_base.append(et.score(xtest,ytest))"
   ]
  },
  {
   "cell_type": "code",
   "execution_count": 173,
   "metadata": {},
   "outputs": [
    {
     "name": "stdout",
     "output_type": "stream",
     "text": [
      "136559.16666666666\n",
      "54.90085616672129\n",
      "275538.9582255112\n"
     ]
    }
   ],
   "source": [
    "for i in metrics:\n",
    "    print(i(ytest,y_pred))\n",
    "    if i == mean_absolute_error:\n",
    "        mae_base.append(i(ytest,y_pred))\n",
    "    elif i == mean_absolute_percentage_error:\n",
    "        mape_base.append(i(ytest,y_pred))\n",
    "    else:\n",
    "        rmse_base.append(i(ytest,y_pred))"
   ]
  },
  {
   "cell_type": "markdown",
   "metadata": {},
   "source": [
    "#### Hyperparamter Tuning of Extra Tree Regressor :"
   ]
  },
  {
   "cell_type": "code",
   "execution_count": 174,
   "metadata": {},
   "outputs": [],
   "source": [
    "params = {\"criterion\": [\"mse\", \"mae\"],\n",
    "              \"min_samples_split\": [10, 20, 40],\n",
    "              \"max_depth\": [2, 6, 8],\n",
    "              \"min_samples_leaf\": [20, 40, 100],\n",
    "              \"max_leaf_nodes\": [5, 20, 100]\n",
    "              }"
   ]
  },
  {
   "cell_type": "code",
   "execution_count": 175,
   "metadata": {},
   "outputs": [
    {
     "data": {
      "text/plain": [
       "GridSearchCV(cv=5, error_score='raise-deprecating',\n",
       "             estimator=ExtraTreeRegressor(criterion='mse', max_depth=None,\n",
       "                                          max_features='auto',\n",
       "                                          max_leaf_nodes=None,\n",
       "                                          min_impurity_decrease=0.0,\n",
       "                                          min_impurity_split=None,\n",
       "                                          min_samples_leaf=1,\n",
       "                                          min_samples_split=2,\n",
       "                                          min_weight_fraction_leaf=0.0,\n",
       "                                          random_state=None,\n",
       "                                          splitter='random'),\n",
       "             iid='warn', n_jobs=None,\n",
       "             param_grid={'criterion': ['mse', 'mae'], 'max_depth': [2, 6, 8],\n",
       "                         'max_leaf_nodes': [5, 20, 100],\n",
       "                         'min_samples_leaf': [20, 40, 100],\n",
       "                         'min_samples_split': [10, 20, 40]},\n",
       "             pre_dispatch='2*n_jobs', refit=True, return_train_score=False,\n",
       "             scoring=None, verbose=0)"
      ]
     },
     "execution_count": 175,
     "metadata": {},
     "output_type": "execute_result"
    }
   ],
   "source": [
    "from sklearn.model_selection import GridSearchCV\n",
    "grid_cv_et = GridSearchCV(et,param_grid=params,cv=5)\n",
    "grid_cv_et.fit(X,y)"
   ]
  },
  {
   "cell_type": "code",
   "execution_count": 176,
   "metadata": {},
   "outputs": [
    {
     "name": "stdout",
     "output_type": "stream",
     "text": [
      "{'criterion': 'mse', 'max_depth': 6, 'max_leaf_nodes': 100, 'min_samples_leaf': 100, 'min_samples_split': 10}\n"
     ]
    }
   ],
   "source": [
    "print(grid_cv_et.best_params_)"
   ]
  },
  {
   "cell_type": "code",
   "execution_count": 177,
   "metadata": {},
   "outputs": [],
   "source": [
    "et_reg1 = ExtraTreeRegressor(**grid_cv_et.best_params_)\n",
    "et_reg1.fit(xtrain,ytrain)\n",
    "y_pred_et = et_reg1.predict(xtest)"
   ]
  },
  {
   "cell_type": "code",
   "execution_count": 178,
   "metadata": {},
   "outputs": [
    {
     "name": "stdout",
     "output_type": "stream",
     "text": [
      "R2_Score of Train:  0.14269842087615214\n",
      "R2_Score of Test:  0.11110069595953342\n",
      "mean_absolute_error 110263.47468793574\n",
      "mean_absolute_percentage_error 46.93452739564742\n",
      "RMSE 207148.6063845659\n"
     ]
    }
   ],
   "source": [
    "print('R2_Score of Train: ',et_reg1.score(xtrain,ytrain))\n",
    "train_base.append(et_reg1.score(xtrain,ytrain))\n",
    "print('R2_Score of Test: ',et_reg1.score(xtest,ytest))\n",
    "test_base.append(et_reg1.score(xtest,ytest))\n",
    "print('mean_absolute_error',mean_absolute_error(ytest,y_pred_et))\n",
    "mae_base.append(mean_absolute_error(ytest,y_pred_et))\n",
    "print('mean_absolute_percentage_error',mean_absolute_percentage_error(ytest,y_pred_et))\n",
    "mape_base.append(mean_absolute_percentage_error(ytest,y_pred_et))\n",
    "print('RMSE',np.sqrt(mean_squared_error(ytest,y_pred_et)))\n",
    "rmse_base.append(np.sqrt(mean_squared_error(ytest,y_pred_et)))"
   ]
  },
  {
   "cell_type": "markdown",
   "metadata": {},
   "source": [
    "## Extra Trees Regressor:"
   ]
  },
  {
   "cell_type": "code",
   "execution_count": 179,
   "metadata": {},
   "outputs": [
    {
     "data": {
      "text/plain": [
       "ExtraTreesRegressor(bootstrap=False, criterion='mse', max_depth=None,\n",
       "                    max_features='auto', max_leaf_nodes=None,\n",
       "                    min_impurity_decrease=0.0, min_impurity_split=None,\n",
       "                    min_samples_leaf=1, min_samples_split=2,\n",
       "                    min_weight_fraction_leaf=0.0, n_estimators=10, n_jobs=None,\n",
       "                    oob_score=False, random_state=None, verbose=0,\n",
       "                    warm_start=False)"
      ]
     },
     "execution_count": 179,
     "metadata": {},
     "output_type": "execute_result"
    }
   ],
   "source": [
    "etr.fit(xtrain,ytrain)"
   ]
  },
  {
   "cell_type": "code",
   "execution_count": 180,
   "metadata": {},
   "outputs": [],
   "source": [
    "y_pred = etr.predict(xtest)"
   ]
  },
  {
   "cell_type": "code",
   "execution_count": 181,
   "metadata": {},
   "outputs": [
    {
     "name": "stdout",
     "output_type": "stream",
     "text": [
      "R2_Score of Train:  1.0\n",
      "R2_Score of Test:  0.13533457508691482\n"
     ]
    }
   ],
   "source": [
    "print('R2_Score of Train: ',etr.score(xtrain,ytrain))\n",
    "train_base.append(etr.score(xtrain,ytrain))\n",
    "print('R2_Score of Test: ',etr.score(xtest,ytest))\n",
    "test_base.append(etr.score(xtest,ytest))"
   ]
  },
  {
   "cell_type": "code",
   "execution_count": 182,
   "metadata": {},
   "outputs": [
    {
     "name": "stdout",
     "output_type": "stream",
     "text": [
      "103170.0\n",
      "43.15120061122233\n",
      "204305.36887218602\n"
     ]
    }
   ],
   "source": [
    "for i in metrics:\n",
    "    print(i(ytest,y_pred))\n",
    "    if i == mean_absolute_error:\n",
    "        mae_base.append(i(ytest,y_pred))\n",
    "    elif i == mean_absolute_percentage_error:\n",
    "        mape_base.append(i(ytest,y_pred))\n",
    "    else:\n",
    "        rmse_base.append(i(ytest,y_pred))"
   ]
  },
  {
   "cell_type": "markdown",
   "metadata": {},
   "source": [
    "## Bagging Regressor:"
   ]
  },
  {
   "cell_type": "code",
   "execution_count": 183,
   "metadata": {},
   "outputs": [
    {
     "data": {
      "text/plain": [
       "BaggingRegressor(base_estimator=None, bootstrap=True, bootstrap_features=False,\n",
       "                 max_features=1.0, max_samples=1.0, n_estimators=10,\n",
       "                 n_jobs=None, oob_score=False, random_state=None, verbose=0,\n",
       "                 warm_start=False)"
      ]
     },
     "execution_count": 183,
     "metadata": {},
     "output_type": "execute_result"
    }
   ],
   "source": [
    "br.fit(xtrain,ytrain)"
   ]
  },
  {
   "cell_type": "code",
   "execution_count": 184,
   "metadata": {},
   "outputs": [],
   "source": [
    "y_pred = br.predict(xtest)"
   ]
  },
  {
   "cell_type": "code",
   "execution_count": 185,
   "metadata": {},
   "outputs": [
    {
     "name": "stdout",
     "output_type": "stream",
     "text": [
      "R2_Score of Train:  0.7805512327700248\n",
      "R2_Score of Test:  0.138702732512749\n"
     ]
    }
   ],
   "source": [
    "print('R2_Score of Train: ',br.score(xtrain,ytrain))\n",
    "train_base.append(br.score(xtrain,ytrain))\n",
    "print('R2_Score of Test: ',br.score(xtest,ytest))\n",
    "test_base.append(br.score(xtest,ytest))"
   ]
  },
  {
   "cell_type": "code",
   "execution_count": 186,
   "metadata": {},
   "outputs": [
    {
     "name": "stdout",
     "output_type": "stream",
     "text": [
      "104855.83333333333\n",
      "44.741047160467296\n",
      "203907.06216313352\n"
     ]
    }
   ],
   "source": [
    "for i in metrics:\n",
    "    print(i(ytest,y_pred))\n",
    "    if i == mean_absolute_error:\n",
    "        mae_base.append(i(ytest,y_pred))\n",
    "    elif i == mean_absolute_percentage_error:\n",
    "        mape_base.append(i(ytest,y_pred))\n",
    "    else:\n",
    "        rmse_base.append(i(ytest,y_pred))"
   ]
  },
  {
   "cell_type": "markdown",
   "metadata": {},
   "source": [
    "## GradientBoostingRegressor"
   ]
  },
  {
   "cell_type": "code",
   "execution_count": 187,
   "metadata": {},
   "outputs": [
    {
     "data": {
      "text/plain": [
       "GradientBoostingRegressor(alpha=0.9, criterion='friedman_mse', init=None,\n",
       "                          learning_rate=0.1, loss='ls', max_depth=3,\n",
       "                          max_features=None, max_leaf_nodes=None,\n",
       "                          min_impurity_decrease=0.0, min_impurity_split=None,\n",
       "                          min_samples_leaf=1, min_samples_split=2,\n",
       "                          min_weight_fraction_leaf=0.0, n_estimators=100,\n",
       "                          n_iter_no_change=None, presort='auto',\n",
       "                          random_state=None, subsample=1.0, tol=0.0001,\n",
       "                          validation_fraction=0.1, verbose=0, warm_start=False)"
      ]
     },
     "execution_count": 187,
     "metadata": {},
     "output_type": "execute_result"
    }
   ],
   "source": [
    "gbr.fit(xtrain,ytrain)"
   ]
  },
  {
   "cell_type": "code",
   "execution_count": 188,
   "metadata": {},
   "outputs": [],
   "source": [
    "y_pred = gbr.predict(xtest)"
   ]
  },
  {
   "cell_type": "code",
   "execution_count": 189,
   "metadata": {},
   "outputs": [
    {
     "name": "stdout",
     "output_type": "stream",
     "text": [
      "R2_Score of Train:  0.6551348355359291\n",
      "R2_Score of Test:  0.17144298756906184\n"
     ]
    }
   ],
   "source": [
    "print('R2_Score of Train: ',gbr.score(xtrain,ytrain))\n",
    "train_base.append(gbr.score(xtrain,ytrain))\n",
    "print('R2_Score of Test: ',gbr.score(xtest,ytest))\n",
    "test_base.append(gbr.score(xtest,ytest))"
   ]
  },
  {
   "cell_type": "code",
   "execution_count": 190,
   "metadata": {},
   "outputs": [
    {
     "name": "stdout",
     "output_type": "stream",
     "text": [
      "95510.74426523095\n",
      "40.85442111182152\n",
      "199993.9837912006\n"
     ]
    }
   ],
   "source": [
    "for i in metrics:\n",
    "    print(i(ytest,y_pred))\n",
    "    if i == mean_absolute_error:\n",
    "        mae_base.append(i(ytest,y_pred))\n",
    "    elif i == mean_absolute_percentage_error:\n",
    "        mape_base.append(i(ytest,y_pred))\n",
    "    else:\n",
    "        rmse_base.append(i(ytest,y_pred))"
   ]
  },
  {
   "cell_type": "markdown",
   "metadata": {},
   "source": [
    "#### Gradient Boosting Regressor Hyperparameter Tuning:"
   ]
  },
  {
   "cell_type": "code",
   "execution_count": 191,
   "metadata": {},
   "outputs": [],
   "source": [
    "params = {\"loss\": ['ls', 'lad', 'huber', 'quantile'],\n",
    "              \"min_samples_split\": [10, 20, 40],\n",
    "              \"max_depth\": [2, 6, 8],\n",
    "              \"min_samples_leaf\": [20, 40, 100],\n",
    "              \"max_leaf_nodes\": [5, 20, 100]\n",
    "              }"
   ]
  },
  {
   "cell_type": "code",
   "execution_count": 192,
   "metadata": {},
   "outputs": [
    {
     "data": {
      "text/plain": [
       "GridSearchCV(cv=5, error_score='raise-deprecating',\n",
       "             estimator=GradientBoostingRegressor(alpha=0.9,\n",
       "                                                 criterion='friedman_mse',\n",
       "                                                 init=None, learning_rate=0.1,\n",
       "                                                 loss='ls', max_depth=3,\n",
       "                                                 max_features=None,\n",
       "                                                 max_leaf_nodes=None,\n",
       "                                                 min_impurity_decrease=0.0,\n",
       "                                                 min_impurity_split=None,\n",
       "                                                 min_samples_leaf=1,\n",
       "                                                 min_samples_split=2,\n",
       "                                                 min_weight_fraction_leaf=0.0,\n",
       "                                                 n_estimators=100,\n",
       "                                                 n_iter...\n",
       "                                                 random_state=None,\n",
       "                                                 subsample=1.0, tol=0.0001,\n",
       "                                                 validation_fraction=0.1,\n",
       "                                                 verbose=0, warm_start=False),\n",
       "             iid='warn', n_jobs=None,\n",
       "             param_grid={'loss': ['ls', 'lad', 'huber', 'quantile'],\n",
       "                         'max_depth': [2, 6, 8], 'max_leaf_nodes': [5, 20, 100],\n",
       "                         'min_samples_leaf': [20, 40, 100],\n",
       "                         'min_samples_split': [10, 20, 40]},\n",
       "             pre_dispatch='2*n_jobs', refit=True, return_train_score=False,\n",
       "             scoring=None, verbose=0)"
      ]
     },
     "execution_count": 192,
     "metadata": {},
     "output_type": "execute_result"
    }
   ],
   "source": [
    "grid_cv_gbr = GridSearchCV(gbr,param_grid=params,cv=5)\n",
    "grid_cv_gbr.fit(X,y)"
   ]
  },
  {
   "cell_type": "code",
   "execution_count": 193,
   "metadata": {},
   "outputs": [
    {
     "name": "stdout",
     "output_type": "stream",
     "text": [
      "{'loss': 'huber', 'max_depth': 6, 'max_leaf_nodes': 100, 'min_samples_leaf': 40, 'min_samples_split': 10}\n"
     ]
    }
   ],
   "source": [
    "print(grid_cv_gbr.best_params_)"
   ]
  },
  {
   "cell_type": "code",
   "execution_count": 194,
   "metadata": {},
   "outputs": [],
   "source": [
    "gbr_reg1 = GradientBoostingRegressor(**grid_cv_gbr.best_params_)\n",
    "gbr_reg1.fit(xtrain,ytrain)\n",
    "y_pred_gbr = gbr_reg1.predict(xtest)"
   ]
  },
  {
   "cell_type": "code",
   "execution_count": 195,
   "metadata": {},
   "outputs": [
    {
     "name": "stdout",
     "output_type": "stream",
     "text": [
      "R2_Score of Train:  0.36918853550296077\n",
      "R2_Score of Test:  0.25828572823113893\n",
      "mean_absolute_error 86403.88981428498\n",
      "mean_absolute_percentage_error 33.995247554099635\n",
      "RMSE 189223.0553164866\n"
     ]
    }
   ],
   "source": [
    "print('R2_Score of Train: ',gbr_reg1.score(xtrain,ytrain))\n",
    "print('R2_Score of Test: ',gbr_reg1.score(xtest,ytest))\n",
    "print('mean_absolute_error',mean_absolute_error(ytest,y_pred_gbr))\n",
    "print('mean_absolute_percentage_error',mean_absolute_percentage_error(ytest,y_pred_gbr))\n",
    "print('RMSE',np.sqrt(mean_squared_error(ytest,y_pred_gbr)))\n",
    "train_base.append(gbr_reg1.score(xtrain,ytrain))\n",
    "test_base.append(gbr_reg1.score(xtest,ytest))\n",
    "mae_base.append(mean_absolute_error(ytest,y_pred_gbr))\n",
    "mape_base.append(mean_absolute_percentage_error(ytest,y_pred_gbr))\n",
    "rmse_base.append(np.sqrt(mean_squared_error(ytest,y_pred_gbr)))"
   ]
  },
  {
   "cell_type": "markdown",
   "metadata": {},
   "source": [
    "## XGBoost:"
   ]
  },
  {
   "cell_type": "code",
   "execution_count": 196,
   "metadata": {},
   "outputs": [
    {
     "name": "stdout",
     "output_type": "stream",
     "text": [
      "[02:08:26] WARNING: C:/Jenkins/workspace/xgboost-win64_release_0.90/src/objective/regression_obj.cu:152: reg:linear is now deprecated in favor of reg:squarederror.\n"
     ]
    },
    {
     "data": {
      "text/plain": [
       "XGBRegressor(base_score=0.5, booster='gbtree', colsample_bylevel=1,\n",
       "             colsample_bynode=1, colsample_bytree=1, gamma=0,\n",
       "             importance_type='gain', learning_rate=0.1, max_delta_step=0,\n",
       "             max_depth=3, min_child_weight=1, missing=None, n_estimators=100,\n",
       "             n_jobs=1, nthread=None, objective='reg:linear', random_state=0,\n",
       "             reg_alpha=0, reg_lambda=1, scale_pos_weight=1, seed=None,\n",
       "             silent=None, subsample=1, verbosity=1)"
      ]
     },
     "execution_count": 196,
     "metadata": {},
     "output_type": "execute_result"
    }
   ],
   "source": [
    "xgb.fit(xtrain,ytrain)"
   ]
  },
  {
   "cell_type": "code",
   "execution_count": 197,
   "metadata": {},
   "outputs": [],
   "source": [
    "y_pred = xgb.predict(xtest)"
   ]
  },
  {
   "cell_type": "code",
   "execution_count": 198,
   "metadata": {},
   "outputs": [
    {
     "name": "stdout",
     "output_type": "stream",
     "text": [
      "R2_Score of Train:  0.5903224164193464\n",
      "R2_Score of Test:  0.2103285832677625\n"
     ]
    }
   ],
   "source": [
    "print('R2_Score of Train: ',xgb.score(xtrain,ytrain))\n",
    "train_base.append(xgb.score(xtrain,ytrain))\n",
    "print('R2_Score of Test: ',xgb.score(xtest,ytest))\n",
    "test_base.append(xgb.score(xtest,ytest))"
   ]
  },
  {
   "cell_type": "code",
   "execution_count": 199,
   "metadata": {},
   "outputs": [
    {
     "name": "stdout",
     "output_type": "stream",
     "text": [
      "92279.98955078125\n",
      "41.509559657190664\n",
      "195244.5599107444\n"
     ]
    }
   ],
   "source": [
    "for i in metrics:\n",
    "    print(i(ytest,y_pred))\n",
    "    if i == mean_absolute_error:\n",
    "        mae_base.append(i(ytest,y_pred))\n",
    "    elif i == mean_absolute_percentage_error:\n",
    "        mape_base.append(i(ytest,y_pred))\n",
    "    else:\n",
    "        rmse_base.append(i(ytest,y_pred))"
   ]
  },
  {
   "cell_type": "code",
   "execution_count": 200,
   "metadata": {},
   "outputs": [
    {
     "data": {
      "text/html": [
       "<div>\n",
       "<style scoped>\n",
       "    .dataframe tbody tr th:only-of-type {\n",
       "        vertical-align: middle;\n",
       "    }\n",
       "\n",
       "    .dataframe tbody tr th {\n",
       "        vertical-align: top;\n",
       "    }\n",
       "\n",
       "    .dataframe thead th {\n",
       "        text-align: right;\n",
       "    }\n",
       "</style>\n",
       "<table border=\"1\" class=\"dataframe\">\n",
       "  <thead>\n",
       "    <tr style=\"text-align: right;\">\n",
       "      <th></th>\n",
       "      <th>Models</th>\n",
       "      <th>Train_Score</th>\n",
       "      <th>Test_Score</th>\n",
       "      <th>MAE</th>\n",
       "      <th>MAPE</th>\n",
       "      <th>RMSE</th>\n",
       "    </tr>\n",
       "  </thead>\n",
       "  <tbody>\n",
       "    <tr>\n",
       "      <th>0</th>\n",
       "      <td>Linear Regression Base Model</td>\n",
       "      <td>0.213996</td>\n",
       "      <td>0.239097</td>\n",
       "      <td>95219.544476</td>\n",
       "      <td>40.839484</td>\n",
       "      <td>191655.057275</td>\n",
       "    </tr>\n",
       "    <tr>\n",
       "      <th>1</th>\n",
       "      <td>Decision Tree Regressor Base Model</td>\n",
       "      <td>1.000000</td>\n",
       "      <td>-0.845859</td>\n",
       "      <td>146105.000000</td>\n",
       "      <td>58.791643</td>\n",
       "      <td>298507.322635</td>\n",
       "    </tr>\n",
       "    <tr>\n",
       "      <th>2</th>\n",
       "      <td>DecisionTree Tuned</td>\n",
       "      <td>0.179083</td>\n",
       "      <td>0.168244</td>\n",
       "      <td>98855.000000</td>\n",
       "      <td>40.398478</td>\n",
       "      <td>200379.714542</td>\n",
       "    </tr>\n",
       "    <tr>\n",
       "      <th>3</th>\n",
       "      <td>Random Forest Regressor Base Model</td>\n",
       "      <td>0.836917</td>\n",
       "      <td>0.130688</td>\n",
       "      <td>102477.916667</td>\n",
       "      <td>42.259411</td>\n",
       "      <td>204853.602706</td>\n",
       "    </tr>\n",
       "    <tr>\n",
       "      <th>4</th>\n",
       "      <td>Extra Tree Regressor Base Model</td>\n",
       "      <td>1.000000</td>\n",
       "      <td>-0.572731</td>\n",
       "      <td>136559.166667</td>\n",
       "      <td>54.900856</td>\n",
       "      <td>275538.958226</td>\n",
       "    </tr>\n",
       "    <tr>\n",
       "      <th>5</th>\n",
       "      <td>ExtraTree Tuned</td>\n",
       "      <td>0.142698</td>\n",
       "      <td>0.111101</td>\n",
       "      <td>110263.474688</td>\n",
       "      <td>46.934527</td>\n",
       "      <td>207148.606385</td>\n",
       "    </tr>\n",
       "    <tr>\n",
       "      <th>6</th>\n",
       "      <td>Extra Trees Regressor Base Model</td>\n",
       "      <td>1.000000</td>\n",
       "      <td>0.135335</td>\n",
       "      <td>103170.000000</td>\n",
       "      <td>43.151201</td>\n",
       "      <td>204305.368872</td>\n",
       "    </tr>\n",
       "    <tr>\n",
       "      <th>7</th>\n",
       "      <td>Bagging Regressor Base Model</td>\n",
       "      <td>0.780551</td>\n",
       "      <td>0.138703</td>\n",
       "      <td>104855.833333</td>\n",
       "      <td>44.741047</td>\n",
       "      <td>203907.062163</td>\n",
       "    </tr>\n",
       "    <tr>\n",
       "      <th>8</th>\n",
       "      <td>Gradient Boosting Regressor Base Model</td>\n",
       "      <td>0.655135</td>\n",
       "      <td>0.171443</td>\n",
       "      <td>95510.744265</td>\n",
       "      <td>40.854421</td>\n",
       "      <td>199993.983791</td>\n",
       "    </tr>\n",
       "    <tr>\n",
       "      <th>9</th>\n",
       "      <td>GradientBoost Tuned</td>\n",
       "      <td>0.369189</td>\n",
       "      <td>0.258286</td>\n",
       "      <td>86403.889814</td>\n",
       "      <td>33.995248</td>\n",
       "      <td>189223.055316</td>\n",
       "    </tr>\n",
       "    <tr>\n",
       "      <th>10</th>\n",
       "      <td>XGBoost Regressor</td>\n",
       "      <td>0.590322</td>\n",
       "      <td>0.210329</td>\n",
       "      <td>92279.989551</td>\n",
       "      <td>41.509560</td>\n",
       "      <td>195244.559911</td>\n",
       "    </tr>\n",
       "  </tbody>\n",
       "</table>\n",
       "</div>"
      ],
      "text/plain": [
       "                                    Models  Train_Score  Test_Score  \\\n",
       "0             Linear Regression Base Model     0.213996    0.239097   \n",
       "1       Decision Tree Regressor Base Model     1.000000   -0.845859   \n",
       "2                       DecisionTree Tuned     0.179083    0.168244   \n",
       "3       Random Forest Regressor Base Model     0.836917    0.130688   \n",
       "4          Extra Tree Regressor Base Model     1.000000   -0.572731   \n",
       "5                          ExtraTree Tuned     0.142698    0.111101   \n",
       "6         Extra Trees Regressor Base Model     1.000000    0.135335   \n",
       "7             Bagging Regressor Base Model     0.780551    0.138703   \n",
       "8   Gradient Boosting Regressor Base Model     0.655135    0.171443   \n",
       "9                      GradientBoost Tuned     0.369189    0.258286   \n",
       "10                       XGBoost Regressor     0.590322    0.210329   \n",
       "\n",
       "              MAE       MAPE           RMSE  \n",
       "0    95219.544476  40.839484  191655.057275  \n",
       "1   146105.000000  58.791643  298507.322635  \n",
       "2    98855.000000  40.398478  200379.714542  \n",
       "3   102477.916667  42.259411  204853.602706  \n",
       "4   136559.166667  54.900856  275538.958226  \n",
       "5   110263.474688  46.934527  207148.606385  \n",
       "6   103170.000000  43.151201  204305.368872  \n",
       "7   104855.833333  44.741047  203907.062163  \n",
       "8    95510.744265  40.854421  199993.983791  \n",
       "9    86403.889814  33.995248  189223.055316  \n",
       "10   92279.989551  41.509560  195244.559911  "
      ]
     },
     "execution_count": 200,
     "metadata": {},
     "output_type": "execute_result"
    }
   ],
   "source": [
    "Models = ['Linear Regression Base Model','Decision Tree Regressor Base Model','DecisionTree Tuned','Random Forest Regressor Base Model',\n",
    "         'Extra Tree Regressor Base Model','ExtraTree Tuned','Extra Trees Regressor Base Model','Bagging Regressor Base Model',\n",
    "          'Gradient Boosting Regressor Base Model','GradientBoost Tuned','XGBoost Regressor']\n",
    "pd.DataFrame({'Models':Models,'Train_Score':train_base,'Test_Score':test_base,'MAE':mae_base,'MAPE':mape_base,'RMSE':rmse_base})"
   ]
  },
  {
   "cell_type": "markdown",
   "metadata": {},
   "source": [
    "# Feature Selection-Forward, Backward"
   ]
  },
  {
   "cell_type": "markdown",
   "metadata": {},
   "source": [
    "### Forward:"
   ]
  },
  {
   "cell_type": "code",
   "execution_count": 201,
   "metadata": {},
   "outputs": [
    {
     "data": {
      "image/png": "[encoded data removed]",
      "text/plain": [
       "<Figure size 432x288 with 1 Axes>"
      ]
     },
     "metadata": {
      "needs_background": "light"
     },
     "output_type": "display_data"
    }
   ],
   "source": [
    "sfs_f = SFS(lr, k_features='best', forward=True, floating=False, \n",
    "          scoring='neg_mean_squared_error', cv=20)\n",
    "model = sfs_f.fit(X,y)\n",
    "fig = plot_sfs(sfs_f.get_metric_dict(), kind='std_err')\n",
    "plt.title('Sequential Forward Selection (w. StdErr)')\n",
    "plt.grid()\n",
    "plt.show()"
   ]
  },
  {
   "cell_type": "code",
   "execution_count": 202,
   "metadata": {},
   "outputs": [
    {
     "name": "stdout",
     "output_type": "stream",
     "text": [
      "Selected features: (1, 2, 4, 6, 9, 10, 12, 13, 14, 16, 17, 18, 19, 20, 21, 23, 24, 26, 27, 33, 35)\n"
     ]
    }
   ],
   "source": [
    "print('Selected features:', sfs_f.k_feature_idx_)"
   ]
  },
  {
   "cell_type": "code",
   "execution_count": 203,
   "metadata": {
    "scrolled": true
   },
   "outputs": [
    {
     "name": "stdout",
     "output_type": "stream",
     "text": [
      "('Gender', '10percentage', '12percentage', 'CollegeTier', 'collegeGPA', 'CollegeCityTier', 'English', 'Logical', 'Quant', 'conscientiousness', 'agreeableness', 'extraversion', 'nueroticism', 'openess_to_experience', 'Exp', 'JobRegion', 'DOB_yr', 'GradGap', 'Score', 'EE', 'CE')\n"
     ]
    }
   ],
   "source": [
    "print(sfs_f.k_feature_names_)"
   ]
  },
  {
   "cell_type": "code",
   "execution_count": 204,
   "metadata": {},
   "outputs": [],
   "source": [
    "X = df[list(sfs_f.k_feature_names_)]\n",
    "y = df['Salary']"
   ]
  },
  {
   "cell_type": "code",
   "execution_count": 205,
   "metadata": {},
   "outputs": [],
   "source": [
    "xtrain,xtest,ytrain,ytest = train_test_split(X,y,test_size=0.3,random_state=42)"
   ]
  },
  {
   "cell_type": "markdown",
   "metadata": {},
   "source": [
    "## Linear Regression:"
   ]
  },
  {
   "cell_type": "code",
   "execution_count": 206,
   "metadata": {},
   "outputs": [
    {
     "data": {
      "text/plain": [
       "LinearRegression(copy_X=True, fit_intercept=True, n_jobs=None, normalize=False)"
      ]
     },
     "execution_count": 206,
     "metadata": {},
     "output_type": "execute_result"
    }
   ],
   "source": [
    "lr.fit(xtrain,ytrain)"
   ]
  },
  {
   "cell_type": "code",
   "execution_count": 207,
   "metadata": {},
   "outputs": [],
   "source": [
    "y_pred = lr.predict(xtest)"
   ]
  },
  {
   "cell_type": "code",
   "execution_count": 208,
   "metadata": {},
   "outputs": [
    {
     "name": "stdout",
     "output_type": "stream",
     "text": [
      "R2_Score of Train:  0.21105107325117647\n",
      "R2_Score of Test:  0.24505951485137834\n"
     ]
    }
   ],
   "source": [
    "print('R2_Score of Train: ',lr.score(xtrain,ytrain))\n",
    "train.append(lr.score(xtrain,ytrain))\n",
    "print('R2_Score of Test: ',lr.score(xtest,ytest))\n",
    "test.append(lr.score(xtest,ytest))"
   ]
  },
  {
   "cell_type": "code",
   "execution_count": 209,
   "metadata": {},
   "outputs": [
    {
     "name": "stdout",
     "output_type": "stream",
     "text": [
      "94069.89399395802\n",
      "40.45227302237736\n",
      "190902.7087591117\n"
     ]
    }
   ],
   "source": [
    "for i in metrics:\n",
    "    print(i(ytest,y_pred))\n",
    "    if i == mean_absolute_error:\n",
    "        mae.append(i(ytest,y_pred))\n",
    "    elif i == mean_absolute_percentage_error:\n",
    "        mape.append(i(ytest,y_pred))\n",
    "    else:\n",
    "        rmse.append(i(ytest,y_pred))"
   ]
  },
  {
   "cell_type": "markdown",
   "metadata": {},
   "source": [
    "## Decision Tree Regressor:"
   ]
  },
  {
   "cell_type": "code",
   "execution_count": 210,
   "metadata": {},
   "outputs": [
    {
     "data": {
      "text/plain": [
       "DecisionTreeRegressor(criterion='mse', max_depth=None, max_features=None,\n",
       "                      max_leaf_nodes=None, min_impurity_decrease=0.0,\n",
       "                      min_impurity_split=None, min_samples_leaf=1,\n",
       "                      min_samples_split=2, min_weight_fraction_leaf=0.0,\n",
       "                      presort=False, random_state=None, splitter='best')"
      ]
     },
     "execution_count": 210,
     "metadata": {},
     "output_type": "execute_result"
    }
   ],
   "source": [
    "dt.fit(xtrain,ytrain)"
   ]
  },
  {
   "cell_type": "code",
   "execution_count": 211,
   "metadata": {},
   "outputs": [],
   "source": [
    "y_pred = dt.predict(xtest)"
   ]
  },
  {
   "cell_type": "code",
   "execution_count": 212,
   "metadata": {},
   "outputs": [
    {
     "name": "stdout",
     "output_type": "stream",
     "text": [
      "R2_Score of Train:  1.0\n",
      "R2_Score of Test:  -0.3964212980932423\n"
     ]
    }
   ],
   "source": [
    "print('R2_Score of Train: ',dt.score(xtrain,ytrain))\n",
    "train.append(dt.score(xtrain,ytrain))\n",
    "print('R2_Score of Test: ',dt.score(xtest,ytest))\n",
    "test.append(dt.score(xtest,ytest))"
   ]
  },
  {
   "cell_type": "code",
   "execution_count": 213,
   "metadata": {},
   "outputs": [
    {
     "name": "stdout",
     "output_type": "stream",
     "text": [
      "131442.5\n",
      "52.34621646032355\n",
      "259635.4351136737\n"
     ]
    }
   ],
   "source": [
    "for i in metrics:\n",
    "    print(i(ytest,y_pred))\n",
    "    if i == mean_absolute_error:\n",
    "        mae.append(i(ytest,y_pred))\n",
    "    elif i == mean_absolute_percentage_error:\n",
    "        mape.append(i(ytest,y_pred))\n",
    "    else:\n",
    "        rmse.append(i(ytest,y_pred))"
   ]
  },
  {
   "cell_type": "markdown",
   "metadata": {},
   "source": [
    "#### Hyperparameter Tuning of Decision Tree:"
   ]
  },
  {
   "cell_type": "code",
   "execution_count": 214,
   "metadata": {},
   "outputs": [],
   "source": [
    "params = {\"criterion\": [\"mse\", \"mae\"],\n",
    "              \"min_samples_split\": [10, 20, 40],\n",
    "              \"max_depth\": [2, 6, 8],\n",
    "              \"min_samples_leaf\": [20, 40, 100],\n",
    "              \"max_leaf_nodes\": [5, 20, 100]\n",
    "              }"
   ]
  },
  {
   "cell_type": "code",
   "execution_count": 215,
   "metadata": {},
   "outputs": [
    {
     "data": {
      "text/plain": [
       "GridSearchCV(cv=5, error_score='raise-deprecating',\n",
       "             estimator=DecisionTreeRegressor(criterion='mse', max_depth=None,\n",
       "                                             max_features=None,\n",
       "                                             max_leaf_nodes=None,\n",
       "                                             min_impurity_decrease=0.0,\n",
       "                                             min_impurity_split=None,\n",
       "                                             min_samples_leaf=1,\n",
       "                                             min_samples_split=2,\n",
       "                                             min_weight_fraction_leaf=0.0,\n",
       "                                             presort=False, random_state=None,\n",
       "                                             splitter='best'),\n",
       "             iid='warn', n_jobs=None,\n",
       "             param_grid={'criterion': ['mse', 'mae'], 'max_depth': [2, 6, 8],\n",
       "                         'max_leaf_nodes': [5, 20, 100],\n",
       "                         'min_samples_leaf': [20, 40, 100],\n",
       "                         'min_samples_split': [10, 20, 40]},\n",
       "             pre_dispatch='2*n_jobs', refit=True, return_train_score=False,\n",
       "             scoring=None, verbose=0)"
      ]
     },
     "execution_count": 215,
     "metadata": {},
     "output_type": "execute_result"
    }
   ],
   "source": [
    "from sklearn.model_selection import GridSearchCV\n",
    "grid_cv_dt = GridSearchCV(dt,param_grid=params,cv=5)\n",
    "grid_cv_dt.fit(X,y)"
   ]
  },
  {
   "cell_type": "code",
   "execution_count": 216,
   "metadata": {},
   "outputs": [
    {
     "name": "stdout",
     "output_type": "stream",
     "text": [
      "{'criterion': 'mae', 'max_depth': 8, 'max_leaf_nodes': 100, 'min_samples_leaf': 40, 'min_samples_split': 20}\n"
     ]
    }
   ],
   "source": [
    "print(grid_cv_dt.best_params_)"
   ]
  },
  {
   "cell_type": "code",
   "execution_count": 217,
   "metadata": {},
   "outputs": [],
   "source": [
    "dt_reg1 = DecisionTreeRegressor(**grid_cv_dt.best_params_)\n",
    "dt_reg1.fit(xtrain,ytrain)\n",
    "y_pred1 = dt_reg1.predict(xtest)"
   ]
  },
  {
   "cell_type": "code",
   "execution_count": 218,
   "metadata": {},
   "outputs": [
    {
     "name": "stdout",
     "output_type": "stream",
     "text": [
      "R2_Score of Train:  0.21613505263880006\n",
      "R2_Score of Test:  0.1809134031984384\n",
      "mean_absolute_error 96827.91666666667\n",
      "mean_absolute_percentage_error 38.80369861405674\n",
      "RMSE 198847.7322601392\n"
     ]
    }
   ],
   "source": [
    "print('R2_Score of Train: ',dt_reg1.score(xtrain,ytrain))\n",
    "print('R2_Score of Test: ',dt_reg1.score(xtest,ytest))\n",
    "print('mean_absolute_error',mean_absolute_error(ytest,y_pred1))\n",
    "print('mean_absolute_percentage_error',mean_absolute_percentage_error(ytest,y_pred1))\n",
    "print('RMSE',np.sqrt(mean_squared_error(ytest,y_pred1)))\n",
    "train.append(dt_reg1.score(xtrain,ytrain))\n",
    "test.append(dt_reg1.score(xtest,ytest))\n",
    "mae.append(mean_absolute_error(ytest,y_pred1))\n",
    "mape.append(mean_absolute_percentage_error(ytest,y_pred1))\n",
    "rmse.append(np.sqrt(mean_squared_error(ytest,y_pred1)))"
   ]
  },
  {
   "cell_type": "markdown",
   "metadata": {},
   "source": [
    "## Random Forest Regressor:"
   ]
  },
  {
   "cell_type": "code",
   "execution_count": 219,
   "metadata": {},
   "outputs": [
    {
     "data": {
      "text/plain": [
       "RandomForestRegressor(bootstrap=True, criterion='mse', max_depth=None,\n",
       "                      max_features='auto', max_leaf_nodes=None,\n",
       "                      min_impurity_decrease=0.0, min_impurity_split=None,\n",
       "                      min_samples_leaf=1, min_samples_split=2,\n",
       "                      min_weight_fraction_leaf=0.0, n_estimators=10,\n",
       "                      n_jobs=None, oob_score=False, random_state=None,\n",
       "                      verbose=0, warm_start=False)"
      ]
     },
     "execution_count": 219,
     "metadata": {},
     "output_type": "execute_result"
    }
   ],
   "source": [
    "rfr.fit(xtrain,ytrain)"
   ]
  },
  {
   "cell_type": "code",
   "execution_count": 220,
   "metadata": {},
   "outputs": [],
   "source": [
    "y_pred = rfr.predict(xtest)"
   ]
  },
  {
   "cell_type": "code",
   "execution_count": 221,
   "metadata": {},
   "outputs": [
    {
     "name": "stdout",
     "output_type": "stream",
     "text": [
      "R2_Score of Train:  0.8152152366751212\n",
      "R2_Score of Test:  0.051497000197079146\n"
     ]
    }
   ],
   "source": [
    "print('R2_Score of Train: ',rfr.score(xtrain,ytrain))\n",
    "train.append(rfr.score(xtrain,ytrain))\n",
    "print('R2_Score of Test: ',rfr.score(xtest,ytest))\n",
    "test.append(rfr.score(xtest,ytest))"
   ]
  },
  {
   "cell_type": "code",
   "execution_count": 222,
   "metadata": {},
   "outputs": [
    {
     "name": "stdout",
     "output_type": "stream",
     "text": [
      "110240.41666666667\n",
      "47.09121193661298\n",
      "213980.93811131868\n"
     ]
    }
   ],
   "source": [
    "for i in metrics:\n",
    "    print(i(ytest,y_pred))\n",
    "    if i == mean_absolute_error:\n",
    "        mae.append(i(ytest,y_pred))\n",
    "    elif i == mean_absolute_percentage_error:\n",
    "        mape.append(i(ytest,y_pred))\n",
    "    else:\n",
    "        rmse.append(i(ytest,y_pred))"
   ]
  },
  {
   "cell_type": "markdown",
   "metadata": {},
   "source": [
    "## Extra Tree Regressor:"
   ]
  },
  {
   "cell_type": "code",
   "execution_count": 223,
   "metadata": {},
   "outputs": [
    {
     "data": {
      "text/plain": [
       "ExtraTreeRegressor(criterion='mse', max_depth=None, max_features='auto',\n",
       "                   max_leaf_nodes=None, min_impurity_decrease=0.0,\n",
       "                   min_impurity_split=None, min_samples_leaf=1,\n",
       "                   min_samples_split=2, min_weight_fraction_leaf=0.0,\n",
       "                   random_state=None, splitter='random')"
      ]
     },
     "execution_count": 223,
     "metadata": {},
     "output_type": "execute_result"
    }
   ],
   "source": [
    "et.fit(xtrain,ytrain)"
   ]
  },
  {
   "cell_type": "code",
   "execution_count": 224,
   "metadata": {},
   "outputs": [],
   "source": [
    "y_pred = et.predict(xtest)"
   ]
  },
  {
   "cell_type": "code",
   "execution_count": 225,
   "metadata": {},
   "outputs": [
    {
     "name": "stdout",
     "output_type": "stream",
     "text": [
      "R2_Score of Train:  1.0\n",
      "R2_Score of Test:  -0.5302689265996092\n"
     ]
    }
   ],
   "source": [
    "print('R2_Score of Train: ',et.score(xtrain,ytrain))\n",
    "train.append(et.score(xtrain,ytrain))\n",
    "print('R2_Score of Test: ',et.score(xtest,ytest))\n",
    "test.append(et.score(xtest,ytest))"
   ]
  },
  {
   "cell_type": "code",
   "execution_count": 226,
   "metadata": {},
   "outputs": [
    {
     "name": "stdout",
     "output_type": "stream",
     "text": [
      "139534.16666666666\n",
      "56.95006653944106\n",
      "271793.84190963564\n"
     ]
    }
   ],
   "source": [
    "for i in metrics:\n",
    "    print(i(ytest,y_pred))\n",
    "    if i == mean_absolute_error:\n",
    "        mae.append(i(ytest,y_pred))\n",
    "    elif i == mean_absolute_percentage_error:\n",
    "        mape.append(i(ytest,y_pred))\n",
    "    else:\n",
    "        rmse.append(i(ytest,y_pred))"
   ]
  },
  {
   "cell_type": "markdown",
   "metadata": {},
   "source": [
    "#### Hyperparamter Tuning of Extra Tree Regressor :"
   ]
  },
  {
   "cell_type": "code",
   "execution_count": 227,
   "metadata": {},
   "outputs": [],
   "source": [
    "params = {\"criterion\": [\"mse\", \"mae\"],\n",
    "              \"min_samples_split\": [10, 20, 40],\n",
    "              \"max_depth\": [2, 6, 8],\n",
    "              \"min_samples_leaf\": [20, 40, 100],\n",
    "              \"max_leaf_nodes\": [5, 20, 100]\n",
    "              }"
   ]
  },
  {
   "cell_type": "code",
   "execution_count": 228,
   "metadata": {},
   "outputs": [
    {
     "data": {
      "text/plain": [
       "GridSearchCV(cv=5, error_score='raise-deprecating',\n",
       "             estimator=ExtraTreeRegressor(criterion='mse', max_depth=None,\n",
       "                                          max_features='auto',\n",
       "                                          max_leaf_nodes=None,\n",
       "                                          min_impurity_decrease=0.0,\n",
       "                                          min_impurity_split=None,\n",
       "                                          min_samples_leaf=1,\n",
       "                                          min_samples_split=2,\n",
       "                                          min_weight_fraction_leaf=0.0,\n",
       "                                          random_state=None,\n",
       "                                          splitter='random'),\n",
       "             iid='warn', n_jobs=None,\n",
       "             param_grid={'criterion': ['mse', 'mae'], 'max_depth': [2, 6, 8],\n",
       "                         'max_leaf_nodes': [5, 20, 100],\n",
       "                         'min_samples_leaf': [20, 40, 100],\n",
       "                         'min_samples_split': [10, 20, 40]},\n",
       "             pre_dispatch='2*n_jobs', refit=True, return_train_score=False,\n",
       "             scoring=None, verbose=0)"
      ]
     },
     "execution_count": 228,
     "metadata": {},
     "output_type": "execute_result"
    }
   ],
   "source": [
    "from sklearn.model_selection import GridSearchCV\n",
    "grid_cv_et = GridSearchCV(et,param_grid=params,cv=5)\n",
    "grid_cv_et.fit(X,y)"
   ]
  },
  {
   "cell_type": "code",
   "execution_count": 229,
   "metadata": {},
   "outputs": [
    {
     "name": "stdout",
     "output_type": "stream",
     "text": [
      "{'criterion': 'mse', 'max_depth': 8, 'max_leaf_nodes': 100, 'min_samples_leaf': 40, 'min_samples_split': 20}\n"
     ]
    }
   ],
   "source": [
    "print(grid_cv_et.best_params_)"
   ]
  },
  {
   "cell_type": "code",
   "execution_count": 230,
   "metadata": {},
   "outputs": [],
   "source": [
    "et_reg1 = ExtraTreeRegressor(**grid_cv_et.best_params_)\n",
    "et_reg1.fit(xtrain,ytrain)\n",
    "y_pred_et = et_reg1.predict(xtest)"
   ]
  },
  {
   "cell_type": "code",
   "execution_count": 231,
   "metadata": {},
   "outputs": [
    {
     "name": "stdout",
     "output_type": "stream",
     "text": [
      "R2_Score of Train:  0.20622247142708194\n",
      "R2_Score of Test:  0.17359624418055886\n",
      "mean_absolute_error 99473.36283023571\n",
      "mean_absolute_percentage_error 41.69962799918508\n",
      "RMSE 199733.9422300101\n"
     ]
    }
   ],
   "source": [
    "print('R2_Score of Train: ',et_reg1.score(xtrain,ytrain))\n",
    "print('R2_Score of Test: ',et_reg1.score(xtest,ytest))\n",
    "print('mean_absolute_error',mean_absolute_error(ytest,y_pred_et))\n",
    "print('mean_absolute_percentage_error',mean_absolute_percentage_error(ytest,y_pred_et))\n",
    "print('RMSE',np.sqrt(mean_squared_error(ytest,y_pred_et)))\n",
    "train.append(et_reg1.score(xtrain,ytrain))\n",
    "test.append(et_reg1.score(xtest,ytest))\n",
    "mae.append(mean_absolute_error(ytest,y_pred_et))\n",
    "mape.append(mean_absolute_percentage_error(ytest,y_pred_et))\n",
    "rmse.append(np.sqrt(mean_squared_error(ytest,y_pred_et)))"
   ]
  },
  {
   "cell_type": "markdown",
   "metadata": {},
   "source": [
    "## Extra Trees Regressor:"
   ]
  },
  {
   "cell_type": "code",
   "execution_count": 232,
   "metadata": {},
   "outputs": [
    {
     "data": {
      "text/plain": [
       "ExtraTreesRegressor(bootstrap=False, criterion='mse', max_depth=None,\n",
       "                    max_features='auto', max_leaf_nodes=None,\n",
       "                    min_impurity_decrease=0.0, min_impurity_split=None,\n",
       "                    min_samples_leaf=1, min_samples_split=2,\n",
       "                    min_weight_fraction_leaf=0.0, n_estimators=10, n_jobs=None,\n",
       "                    oob_score=False, random_state=None, verbose=0,\n",
       "                    warm_start=False)"
      ]
     },
     "execution_count": 232,
     "metadata": {},
     "output_type": "execute_result"
    }
   ],
   "source": [
    "etr.fit(xtrain,ytrain)"
   ]
  },
  {
   "cell_type": "code",
   "execution_count": 233,
   "metadata": {},
   "outputs": [],
   "source": [
    "y_pred = etr.predict(xtest)"
   ]
  },
  {
   "cell_type": "code",
   "execution_count": 234,
   "metadata": {},
   "outputs": [
    {
     "name": "stdout",
     "output_type": "stream",
     "text": [
      "R2_Score of Train:  1.0\n",
      "R2_Score of Test:  0.15051879152473635\n"
     ]
    }
   ],
   "source": [
    "print('R2_Score of Train: ',etr.score(xtrain,ytrain))\n",
    "train.append(etr.score(xtrain,ytrain))\n",
    "print('R2_Score of Test: ',etr.score(xtest,ytest))\n",
    "test.append(etr.score(xtest,ytest))"
   ]
  },
  {
   "cell_type": "code",
   "execution_count": 235,
   "metadata": {},
   "outputs": [
    {
     "name": "stdout",
     "output_type": "stream",
     "text": [
      "102857.08333333333\n",
      "44.4556479277126\n",
      "202503.54060690725\n"
     ]
    }
   ],
   "source": [
    "for i in metrics:\n",
    "    print(i(ytest,y_pred))\n",
    "    if i == mean_absolute_error:\n",
    "        mae.append(i(ytest,y_pred))\n",
    "    elif i == mean_absolute_percentage_error:\n",
    "        mape.append(i(ytest,y_pred))\n",
    "    else:\n",
    "        rmse.append(i(ytest,y_pred))"
   ]
  },
  {
   "cell_type": "markdown",
   "metadata": {},
   "source": [
    "## Bagging Regressor:"
   ]
  },
  {
   "cell_type": "code",
   "execution_count": 236,
   "metadata": {},
   "outputs": [
    {
     "data": {
      "text/plain": [
       "BaggingRegressor(base_estimator=None, bootstrap=True, bootstrap_features=False,\n",
       "                 max_features=1.0, max_samples=1.0, n_estimators=10,\n",
       "                 n_jobs=None, oob_score=False, random_state=None, verbose=0,\n",
       "                 warm_start=False)"
      ]
     },
     "execution_count": 236,
     "metadata": {},
     "output_type": "execute_result"
    }
   ],
   "source": [
    "br.fit(xtrain,ytrain)"
   ]
  },
  {
   "cell_type": "code",
   "execution_count": 237,
   "metadata": {},
   "outputs": [],
   "source": [
    "y_pred = br.predict(xtest)"
   ]
  },
  {
   "cell_type": "code",
   "execution_count": 238,
   "metadata": {},
   "outputs": [
    {
     "name": "stdout",
     "output_type": "stream",
     "text": [
      "R2_Score of Train:  0.806973738448924\n",
      "R2_Score of Test:  0.17230480366890863\n"
     ]
    }
   ],
   "source": [
    "print('R2_Score of Train: ',br.score(xtrain,ytrain))\n",
    "train.append(br.score(xtrain,ytrain))\n",
    "print('R2_Score of Test: ',br.score(xtest,ytest))\n",
    "test.append(br.score(xtest,ytest))"
   ]
  },
  {
   "cell_type": "code",
   "execution_count": 239,
   "metadata": {},
   "outputs": [
    {
     "name": "stdout",
     "output_type": "stream",
     "text": [
      "102452.5\n",
      "43.3537207369788\n",
      "199889.9457618283\n"
     ]
    }
   ],
   "source": [
    "for i in metrics:\n",
    "    print(i(ytest,y_pred))\n",
    "    if i == mean_absolute_error:\n",
    "        mae.append(i(ytest,y_pred))\n",
    "    elif i == mean_absolute_percentage_error:\n",
    "        mape.append(i(ytest,y_pred))\n",
    "    else:\n",
    "        rmse.append(i(ytest,y_pred))"
   ]
  },
  {
   "cell_type": "markdown",
   "metadata": {},
   "source": [
    "## GradientBoostingRegressor"
   ]
  },
  {
   "cell_type": "code",
   "execution_count": 240,
   "metadata": {},
   "outputs": [
    {
     "data": {
      "text/plain": [
       "GradientBoostingRegressor(alpha=0.9, criterion='friedman_mse', init=None,\n",
       "                          learning_rate=0.1, loss='ls', max_depth=3,\n",
       "                          max_features=None, max_leaf_nodes=None,\n",
       "                          min_impurity_decrease=0.0, min_impurity_split=None,\n",
       "                          min_samples_leaf=1, min_samples_split=2,\n",
       "                          min_weight_fraction_leaf=0.0, n_estimators=100,\n",
       "                          n_iter_no_change=None, presort='auto',\n",
       "                          random_state=None, subsample=1.0, tol=0.0001,\n",
       "                          validation_fraction=0.1, verbose=0, warm_start=False)"
      ]
     },
     "execution_count": 240,
     "metadata": {},
     "output_type": "execute_result"
    }
   ],
   "source": [
    "gbr.fit(xtrain,ytrain)"
   ]
  },
  {
   "cell_type": "code",
   "execution_count": 241,
   "metadata": {},
   "outputs": [],
   "source": [
    "y_pred = gbr.predict(xtest)"
   ]
  },
  {
   "cell_type": "code",
   "execution_count": 242,
   "metadata": {},
   "outputs": [
    {
     "name": "stdout",
     "output_type": "stream",
     "text": [
      "R2_Score of Train:  0.6166947187850691\n",
      "R2_Score of Test:  0.16741246082589334\n"
     ]
    }
   ],
   "source": [
    "print('R2_Score of Train: ',gbr.score(xtrain,ytrain))\n",
    "train.append(gbr.score(xtrain,ytrain))\n",
    "print('R2_Score of Test: ',gbr.score(xtest,ytest))\n",
    "test.append(gbr.score(xtest,ytest))"
   ]
  },
  {
   "cell_type": "code",
   "execution_count": 243,
   "metadata": {},
   "outputs": [
    {
     "name": "stdout",
     "output_type": "stream",
     "text": [
      "95454.22253587465\n",
      "41.8464075491695\n",
      "200479.83036970088\n"
     ]
    }
   ],
   "source": [
    "for i in metrics:\n",
    "    print(i(ytest,y_pred))\n",
    "    if i == mean_absolute_error:\n",
    "        mae.append(i(ytest,y_pred))\n",
    "    elif i == mean_absolute_percentage_error:\n",
    "        mape.append(i(ytest,y_pred))\n",
    "    else:\n",
    "        rmse.append(i(ytest,y_pred))"
   ]
  },
  {
   "cell_type": "markdown",
   "metadata": {},
   "source": [
    "#### Gradient Boosting Regressor Hyperparameter Tuning:"
   ]
  },
  {
   "cell_type": "code",
   "execution_count": 244,
   "metadata": {},
   "outputs": [],
   "source": [
    "params = {\"loss\": ['ls', 'lad', 'huber', 'quantile'],\n",
    "              \"min_samples_split\": [10, 20, 40],\n",
    "              \"max_depth\": [2, 6, 8],\n",
    "              \"min_samples_leaf\": [20, 40, 100],\n",
    "              \"max_leaf_nodes\": [5, 20, 100]\n",
    "              }"
   ]
  },
  {
   "cell_type": "code",
   "execution_count": 245,
   "metadata": {},
   "outputs": [
    {
     "data": {
      "text/plain": [
       "GridSearchCV(cv=5, error_score='raise-deprecating',\n",
       "             estimator=GradientBoostingRegressor(alpha=0.9,\n",
       "                                                 criterion='friedman_mse',\n",
       "                                                 init=None, learning_rate=0.1,\n",
       "                                                 loss='ls', max_depth=3,\n",
       "                                                 max_features=None,\n",
       "                                                 max_leaf_nodes=None,\n",
       "                                                 min_impurity_decrease=0.0,\n",
       "                                                 min_impurity_split=None,\n",
       "                                                 min_samples_leaf=1,\n",
       "                                                 min_samples_split=2,\n",
       "                                                 min_weight_fraction_leaf=0.0,\n",
       "                                                 n_estimators=100,\n",
       "                                                 n_iter...\n",
       "                                                 random_state=None,\n",
       "                                                 subsample=1.0, tol=0.0001,\n",
       "                                                 validation_fraction=0.1,\n",
       "                                                 verbose=0, warm_start=False),\n",
       "             iid='warn', n_jobs=None,\n",
       "             param_grid={'loss': ['ls', 'lad', 'huber', 'quantile'],\n",
       "                         'max_depth': [2, 6, 8], 'max_leaf_nodes': [5, 20, 100],\n",
       "                         'min_samples_leaf': [20, 40, 100],\n",
       "                         'min_samples_split': [10, 20, 40]},\n",
       "             pre_dispatch='2*n_jobs', refit=True, return_train_score=False,\n",
       "             scoring=None, verbose=0)"
      ]
     },
     "execution_count": 245,
     "metadata": {},
     "output_type": "execute_result"
    }
   ],
   "source": [
    "grid_cv_gbr = GridSearchCV(gbr,param_grid=params,cv=5)\n",
    "grid_cv_gbr.fit(X,y)"
   ]
  },
  {
   "cell_type": "code",
   "execution_count": 246,
   "metadata": {},
   "outputs": [
    {
     "name": "stdout",
     "output_type": "stream",
     "text": [
      "{'loss': 'huber', 'max_depth': 6, 'max_leaf_nodes': 5, 'min_samples_leaf': 20, 'min_samples_split': 10}\n"
     ]
    }
   ],
   "source": [
    "print(grid_cv_gbr.best_params_)"
   ]
  },
  {
   "cell_type": "code",
   "execution_count": 247,
   "metadata": {},
   "outputs": [],
   "source": [
    "gbr_reg1 = GradientBoostingRegressor(**grid_cv_gbr.best_params_)\n",
    "gbr_reg1.fit(xtrain,ytrain)\n",
    "y_pred_gbr = gbr_reg1.predict(xtest)"
   ]
  },
  {
   "cell_type": "code",
   "execution_count": 248,
   "metadata": {},
   "outputs": [
    {
     "name": "stdout",
     "output_type": "stream",
     "text": [
      "R2_Score of Train:  0.2728856596626833\n",
      "R2_Score of Test:  0.24795139253839094\n",
      "mean_absolute_error 88819.89383981541\n",
      "mean_absolute_percentage_error 35.79799523376309\n",
      "RMSE 190536.72163994773\n"
     ]
    }
   ],
   "source": [
    "print('R2_Score of Train: ',gbr_reg1.score(xtrain,ytrain))\n",
    "print('R2_Score of Test: ',gbr_reg1.score(xtest,ytest))\n",
    "print('mean_absolute_error',mean_absolute_error(ytest,y_pred_gbr))\n",
    "print('mean_absolute_percentage_error',mean_absolute_percentage_error(ytest,y_pred_gbr))\n",
    "print('RMSE',np.sqrt(mean_squared_error(ytest,y_pred_gbr)))\n",
    "train.append(gbr_reg1.score(xtrain,ytrain))\n",
    "test.append(gbr_reg1.score(xtest,ytest))\n",
    "mae.append(mean_absolute_error(ytest,y_pred_gbr))\n",
    "mape.append(mean_absolute_percentage_error(ytest,y_pred_gbr))\n",
    "rmse.append(np.sqrt(mean_squared_error(ytest,y_pred_gbr)))"
   ]
  },
  {
   "cell_type": "markdown",
   "metadata": {},
   "source": [
    "## XGBoost:"
   ]
  },
  {
   "cell_type": "code",
   "execution_count": 249,
   "metadata": {},
   "outputs": [
    {
     "name": "stdout",
     "output_type": "stream",
     "text": [
      "[03:31:02] WARNING: C:/Jenkins/workspace/xgboost-win64_release_0.90/src/objective/regression_obj.cu:152: reg:linear is now deprecated in favor of reg:squarederror.\n"
     ]
    },
    {
     "data": {
      "text/plain": [
       "XGBRegressor(base_score=0.5, booster='gbtree', colsample_bylevel=1,\n",
       "             colsample_bynode=1, colsample_bytree=1, gamma=0,\n",
       "             importance_type='gain', learning_rate=0.1, max_delta_step=0,\n",
       "             max_depth=3, min_child_weight=1, missing=None, n_estimators=100,\n",
       "             n_jobs=1, nthread=None, objective='reg:linear', random_state=0,\n",
       "             reg_alpha=0, reg_lambda=1, scale_pos_weight=1, seed=None,\n",
       "             silent=None, subsample=1, verbosity=1)"
      ]
     },
     "execution_count": 249,
     "metadata": {},
     "output_type": "execute_result"
    }
   ],
   "source": [
    "xgb.fit(xtrain,ytrain)"
   ]
  },
  {
   "cell_type": "code",
   "execution_count": 250,
   "metadata": {},
   "outputs": [],
   "source": [
    "y_pred = xgb.predict(xtest)"
   ]
  },
  {
   "cell_type": "code",
   "execution_count": 251,
   "metadata": {},
   "outputs": [
    {
     "name": "stdout",
     "output_type": "stream",
     "text": [
      "R2_Score of Train:  0.5716494758726618\n",
      "R2_Score of Test:  0.2161154222555666\n"
     ]
    }
   ],
   "source": [
    "print('R2_Score of Train: ',xgb.score(xtrain,ytrain))\n",
    "train.append(xgb.score(xtrain,ytrain))\n",
    "print('R2_Score of Test: ',xgb.score(xtest,ytest))\n",
    "test.append(xgb.score(xtest,ytest))"
   ]
  },
  {
   "cell_type": "code",
   "execution_count": 252,
   "metadata": {},
   "outputs": [
    {
     "name": "stdout",
     "output_type": "stream",
     "text": [
      "93193.85549804688\n",
      "40.23774099160851\n",
      "194527.8527112714\n"
     ]
    }
   ],
   "source": [
    "for i in metrics:\n",
    "    print(i(ytest,y_pred))\n",
    "    if i == mean_absolute_error:\n",
    "        mae.append(i(ytest,y_pred))\n",
    "    elif i == mean_absolute_percentage_error:\n",
    "        mape.append(i(ytest,y_pred))\n",
    "    else:\n",
    "        rmse.append(i(ytest,y_pred))"
   ]
  },
  {
   "cell_type": "markdown",
   "metadata": {},
   "source": [
    "### Backward:"
   ]
  },
  {
   "cell_type": "code",
   "execution_count": 253,
   "metadata": {
    "scrolled": true
   },
   "outputs": [
    {
     "data": {
      "image/png": "[encoded data removed]",
      "text/plain": [
       "<Figure size 432x288 with 1 Axes>"
      ]
     },
     "metadata": {
      "needs_background": "light"
     },
     "output_type": "display_data"
    }
   ],
   "source": [
    "sfs_b = SFS(lr, k_features='best', forward=False, floating=False, \n",
    "          scoring='neg_mean_squared_error', cv=20)\n",
    "model = sfs_b.fit(X,y)\n",
    "fig = plot_sfs(sfs_b.get_metric_dict(), kind='std_err')\n",
    "plt.title('Sequential Forward Selection (w. StdErr)')\n",
    "plt.grid()\n",
    "plt.show()"
   ]
  },
  {
   "cell_type": "code",
   "execution_count": 254,
   "metadata": {},
   "outputs": [
    {
     "name": "stdout",
     "output_type": "stream",
     "text": [
      "Selected features: (0, 1, 2, 3, 4, 5, 6, 7, 9, 10, 11, 12, 13, 14, 15, 16, 17, 18, 19, 20)\n"
     ]
    }
   ],
   "source": [
    "print('Selected features:', sfs_b.k_feature_idx_)"
   ]
  },
  {
   "cell_type": "code",
   "execution_count": 255,
   "metadata": {},
   "outputs": [
    {
     "name": "stdout",
     "output_type": "stream",
     "text": [
      "('Gender', '10percentage', '12percentage', 'CollegeTier', 'collegeGPA', 'CollegeCityTier', 'English', 'Logical', 'conscientiousness', 'agreeableness', 'extraversion', 'nueroticism', 'openess_to_experience', 'Exp', 'JobRegion', 'DOB_yr', 'GradGap', 'Score', 'EE', 'CE')\n"
     ]
    }
   ],
   "source": [
    "print(sfs_b.k_feature_names_)"
   ]
  },
  {
   "cell_type": "code",
   "execution_count": 256,
   "metadata": {},
   "outputs": [],
   "source": [
    "X = df[list(sfs_b.k_feature_names_)]\n",
    "y = df['Salary']"
   ]
  },
  {
   "cell_type": "code",
   "execution_count": 257,
   "metadata": {},
   "outputs": [],
   "source": [
    "xtrain,xtest,ytrain,ytest = train_test_split(X,y,test_size=0.3,random_state=42)"
   ]
  },
  {
   "cell_type": "markdown",
   "metadata": {},
   "source": [
    "## Linear Regression:"
   ]
  },
  {
   "cell_type": "code",
   "execution_count": 258,
   "metadata": {},
   "outputs": [
    {
     "data": {
      "text/plain": [
       "LinearRegression(copy_X=True, fit_intercept=True, n_jobs=None, normalize=False)"
      ]
     },
     "execution_count": 258,
     "metadata": {},
     "output_type": "execute_result"
    }
   ],
   "source": [
    "lr.fit(xtrain,ytrain)"
   ]
  },
  {
   "cell_type": "code",
   "execution_count": 259,
   "metadata": {},
   "outputs": [],
   "source": [
    "y_pred = lr.predict(xtest)"
   ]
  },
  {
   "cell_type": "code",
   "execution_count": 260,
   "metadata": {},
   "outputs": [
    {
     "name": "stdout",
     "output_type": "stream",
     "text": [
      "R2_Score of Train:  0.2100716288584168\n",
      "R2_Score of Test:  0.24373377072266678\n"
     ]
    }
   ],
   "source": [
    "print('R2_Score of Train: ',lr.score(xtrain,ytrain))\n",
    "train.append(lr.score(xtrain,ytrain))\n",
    "print('R2_Score of Test: ',lr.score(xtest,ytest))\n",
    "test.append(lr.score(xtest,ytest))"
   ]
  },
  {
   "cell_type": "code",
   "execution_count": 261,
   "metadata": {},
   "outputs": [
    {
     "name": "stdout",
     "output_type": "stream",
     "text": [
      "94660.41463329428\n",
      "40.8561926306985\n",
      "191070.25649053877\n"
     ]
    }
   ],
   "source": [
    "for i in metrics:\n",
    "    print(i(ytest,y_pred))\n",
    "    if i == mean_absolute_error:\n",
    "        mae.append(i(ytest,y_pred))\n",
    "    elif i == mean_absolute_percentage_error:\n",
    "        mape.append(i(ytest,y_pred))\n",
    "    else:\n",
    "        rmse.append(i(ytest,y_pred))"
   ]
  },
  {
   "cell_type": "markdown",
   "metadata": {},
   "source": [
    "## Decision Tree Regressor:"
   ]
  },
  {
   "cell_type": "code",
   "execution_count": 262,
   "metadata": {},
   "outputs": [
    {
     "data": {
      "text/plain": [
       "DecisionTreeRegressor(criterion='mse', max_depth=None, max_features=None,\n",
       "                      max_leaf_nodes=None, min_impurity_decrease=0.0,\n",
       "                      min_impurity_split=None, min_samples_leaf=1,\n",
       "                      min_samples_split=2, min_weight_fraction_leaf=0.0,\n",
       "                      presort=False, random_state=None, splitter='best')"
      ]
     },
     "execution_count": 262,
     "metadata": {},
     "output_type": "execute_result"
    }
   ],
   "source": [
    "dt.fit(xtrain,ytrain)"
   ]
  },
  {
   "cell_type": "code",
   "execution_count": 263,
   "metadata": {},
   "outputs": [],
   "source": [
    "y_pred = dt.predict(xtest)"
   ]
  },
  {
   "cell_type": "code",
   "execution_count": 264,
   "metadata": {},
   "outputs": [
    {
     "name": "stdout",
     "output_type": "stream",
     "text": [
      "R2_Score of Train:  1.0\n",
      "R2_Score of Test:  -0.6229499851705007\n"
     ]
    }
   ],
   "source": [
    "print('R2_Score of Train: ',dt.score(xtrain,ytrain))\n",
    "train.append(dt.score(xtrain,ytrain))\n",
    "print('R2_Score of Test: ',dt.score(xtest,ytest))\n",
    "test.append(dt.score(xtest,ytest))"
   ]
  },
  {
   "cell_type": "code",
   "execution_count": 265,
   "metadata": {},
   "outputs": [
    {
     "name": "stdout",
     "output_type": "stream",
     "text": [
      "142025.83333333334\n",
      "57.68593269791402\n",
      "279903.48187664023\n"
     ]
    }
   ],
   "source": [
    "for i in metrics:\n",
    "    print(i(ytest,y_pred))\n",
    "    if i == mean_absolute_error:\n",
    "        mae.append(i(ytest,y_pred))\n",
    "    elif i == mean_absolute_percentage_error:\n",
    "        mape.append(i(ytest,y_pred))\n",
    "    else:\n",
    "        rmse.append(i(ytest,y_pred))"
   ]
  },
  {
   "cell_type": "markdown",
   "metadata": {},
   "source": [
    "#### Hyperparameter Tuning of Decision Tree:"
   ]
  },
  {
   "cell_type": "code",
   "execution_count": 266,
   "metadata": {},
   "outputs": [],
   "source": [
    "\n",
    "params = {\"criterion\": [\"mse\", \"mae\"],\n",
    "              \"min_samples_split\": [10, 20, 40],\n",
    "              \"max_depth\": [2, 6, 8],\n",
    "              \"min_samples_leaf\": [20, 40, 100],\n",
    "              \"max_leaf_nodes\": [5, 20, 100]\n",
    "              }"
   ]
  },
  {
   "cell_type": "code",
   "execution_count": 267,
   "metadata": {},
   "outputs": [
    {
     "data": {
      "text/plain": [
       "GridSearchCV(cv=5, error_score='raise-deprecating',\n",
       "             estimator=DecisionTreeRegressor(criterion='mse', max_depth=None,\n",
       "                                             max_features=None,\n",
       "                                             max_leaf_nodes=None,\n",
       "                                             min_impurity_decrease=0.0,\n",
       "                                             min_impurity_split=None,\n",
       "                                             min_samples_leaf=1,\n",
       "                                             min_samples_split=2,\n",
       "                                             min_weight_fraction_leaf=0.0,\n",
       "                                             presort=False, random_state=None,\n",
       "                                             splitter='best'),\n",
       "             iid='warn', n_jobs=None,\n",
       "             param_grid={'criterion': ['mse', 'mae'], 'max_depth': [2, 6, 8],\n",
       "                         'max_leaf_nodes': [5, 20, 100],\n",
       "                         'min_samples_leaf': [20, 40, 100],\n",
       "                         'min_samples_split': [10, 20, 40]},\n",
       "             pre_dispatch='2*n_jobs', refit=True, return_train_score=False,\n",
       "             scoring=None, verbose=0)"
      ]
     },
     "execution_count": 267,
     "metadata": {},
     "output_type": "execute_result"
    }
   ],
   "source": [
    "from sklearn.model_selection import GridSearchCV\n",
    "grid_cv_dt = GridSearchCV(dt,param_grid=params,cv=5)\n",
    "grid_cv_dt.fit(X,y)"
   ]
  },
  {
   "cell_type": "code",
   "execution_count": 268,
   "metadata": {},
   "outputs": [
    {
     "name": "stdout",
     "output_type": "stream",
     "text": [
      "{'criterion': 'mae', 'max_depth': 8, 'max_leaf_nodes': 100, 'min_samples_leaf': 40, 'min_samples_split': 40}\n"
     ]
    }
   ],
   "source": [
    "print(grid_cv_dt.best_params_)"
   ]
  },
  {
   "cell_type": "code",
   "execution_count": 269,
   "metadata": {},
   "outputs": [],
   "source": [
    "dt_reg1 = DecisionTreeRegressor(**grid_cv_dt.best_params_)\n",
    "dt_reg1.fit(xtrain,ytrain)\n",
    "y_pred1 = dt_reg1.predict(xtest)"
   ]
  },
  {
   "cell_type": "code",
   "execution_count": 270,
   "metadata": {},
   "outputs": [
    {
     "name": "stdout",
     "output_type": "stream",
     "text": [
      "R2_Score of Train:  0.2184294917062034\n",
      "R2_Score of Test:  0.17226833633564156\n",
      "mean_absolute_error 97159.16666666667\n",
      "mean_absolute_percentage_error 38.43661983305866\n",
      "RMSE 199894.3491780929\n"
     ]
    }
   ],
   "source": [
    "print('R2_Score of Train: ',dt_reg1.score(xtrain,ytrain))\n",
    "print('R2_Score of Test: ',dt_reg1.score(xtest,ytest))\n",
    "print('mean_absolute_error',mean_absolute_error(ytest,y_pred1))\n",
    "print('mean_absolute_percentage_error',mean_absolute_percentage_error(ytest,y_pred1))\n",
    "print('RMSE',np.sqrt(mean_squared_error(ytest,y_pred1)))\n",
    "train.append(dt_reg1.score(xtrain,ytrain))\n",
    "test.append(dt_reg1.score(xtest,ytest))\n",
    "mae.append(mean_absolute_error(ytest,y_pred1))\n",
    "mape.append(mean_absolute_percentage_error(ytest,y_pred1))\n",
    "rmse.append(np.sqrt(mean_squared_error(ytest,y_pred1)))"
   ]
  },
  {
   "cell_type": "markdown",
   "metadata": {},
   "source": [
    "## Random Forest Regressor:"
   ]
  },
  {
   "cell_type": "code",
   "execution_count": 271,
   "metadata": {},
   "outputs": [
    {
     "data": {
      "text/plain": [
       "RandomForestRegressor(bootstrap=True, criterion='mse', max_depth=None,\n",
       "                      max_features='auto', max_leaf_nodes=None,\n",
       "                      min_impurity_decrease=0.0, min_impurity_split=None,\n",
       "                      min_samples_leaf=1, min_samples_split=2,\n",
       "                      min_weight_fraction_leaf=0.0, n_estimators=10,\n",
       "                      n_jobs=None, oob_score=False, random_state=None,\n",
       "                      verbose=0, warm_start=False)"
      ]
     },
     "execution_count": 271,
     "metadata": {},
     "output_type": "execute_result"
    }
   ],
   "source": [
    "rfr.fit(xtrain,ytrain)"
   ]
  },
  {
   "cell_type": "code",
   "execution_count": 272,
   "metadata": {},
   "outputs": [],
   "source": [
    "y_pred = rfr.predict(xtest)"
   ]
  },
  {
   "cell_type": "code",
   "execution_count": 273,
   "metadata": {},
   "outputs": [
    {
     "name": "stdout",
     "output_type": "stream",
     "text": [
      "R2_Score of Train:  0.8522556994380733\n",
      "R2_Score of Test:  0.11790243022895575\n"
     ]
    }
   ],
   "source": [
    "print('R2_Score of Train: ',rfr.score(xtrain,ytrain))\n",
    "train.append(rfr.score(xtrain,ytrain))\n",
    "print('R2_Score of Test: ',rfr.score(xtest,ytest))\n",
    "test.append(rfr.score(xtest,ytest))"
   ]
  },
  {
   "cell_type": "code",
   "execution_count": 274,
   "metadata": {},
   "outputs": [
    {
     "name": "stdout",
     "output_type": "stream",
     "text": [
      "106360.83333333333\n",
      "44.789302640110975\n",
      "206354.54824968928\n"
     ]
    }
   ],
   "source": [
    "for i in metrics:\n",
    "    print(i(ytest,y_pred))\n",
    "    if i == mean_absolute_error:\n",
    "        mae.append(i(ytest,y_pred))\n",
    "    elif i == mean_absolute_percentage_error:\n",
    "        mape.append(i(ytest,y_pred))\n",
    "    else:\n",
    "        rmse.append(i(ytest,y_pred))"
   ]
  },
  {
   "cell_type": "markdown",
   "metadata": {},
   "source": [
    "## Extra Tree Regressor:"
   ]
  },
  {
   "cell_type": "code",
   "execution_count": 275,
   "metadata": {},
   "outputs": [
    {
     "data": {
      "text/plain": [
       "ExtraTreeRegressor(criterion='mse', max_depth=None, max_features='auto',\n",
       "                   max_leaf_nodes=None, min_impurity_decrease=0.0,\n",
       "                   min_impurity_split=None, min_samples_leaf=1,\n",
       "                   min_samples_split=2, min_weight_fraction_leaf=0.0,\n",
       "                   random_state=None, splitter='random')"
      ]
     },
     "execution_count": 275,
     "metadata": {},
     "output_type": "execute_result"
    }
   ],
   "source": [
    "et.fit(xtrain,ytrain)"
   ]
  },
  {
   "cell_type": "code",
   "execution_count": 276,
   "metadata": {},
   "outputs": [],
   "source": [
    "y_pred = et.predict(xtest)"
   ]
  },
  {
   "cell_type": "code",
   "execution_count": 277,
   "metadata": {},
   "outputs": [
    {
     "name": "stdout",
     "output_type": "stream",
     "text": [
      "R2_Score of Train:  1.0\n",
      "R2_Score of Test:  -0.6179147311567676\n"
     ]
    }
   ],
   "source": [
    "print('R2_Score of Train: ',et.score(xtrain,ytrain))\n",
    "train.append(et.score(xtrain,ytrain))\n",
    "print('R2_Score of Test: ',et.score(xtest,ytest))\n",
    "test.append(et.score(xtest,ytest))"
   ]
  },
  {
   "cell_type": "code",
   "execution_count": 278,
   "metadata": {},
   "outputs": [
    {
     "name": "stdout",
     "output_type": "stream",
     "text": [
      "142663.33333333334\n",
      "55.72094271949975\n",
      "279468.939836493\n"
     ]
    }
   ],
   "source": [
    "for i in metrics:\n",
    "    print(i(ytest,y_pred))\n",
    "    if i == mean_absolute_error:\n",
    "        mae.append(i(ytest,y_pred))\n",
    "    elif i == mean_absolute_percentage_error:\n",
    "        mape.append(i(ytest,y_pred))\n",
    "    else:\n",
    "        rmse.append(i(ytest,y_pred))"
   ]
  },
  {
   "cell_type": "markdown",
   "metadata": {},
   "source": [
    "#### Hyperparamter Tuning of Extra Tree Regressor :"
   ]
  },
  {
   "cell_type": "code",
   "execution_count": 279,
   "metadata": {},
   "outputs": [],
   "source": [
    "params = {\"criterion\": [\"mse\", \"mae\"],\n",
    "              \"min_samples_split\": [10, 20, 40],\n",
    "              \"max_depth\": [2, 6, 8],\n",
    "              \"min_samples_leaf\": [20, 40, 100],\n",
    "              \"max_leaf_nodes\": [5, 20, 100]\n",
    "              }"
   ]
  },
  {
   "cell_type": "code",
   "execution_count": 280,
   "metadata": {},
   "outputs": [
    {
     "data": {
      "text/plain": [
       "GridSearchCV(cv=5, error_score='raise-deprecating',\n",
       "             estimator=ExtraTreeRegressor(criterion='mse', max_depth=None,\n",
       "                                          max_features='auto',\n",
       "                                          max_leaf_nodes=None,\n",
       "                                          min_impurity_decrease=0.0,\n",
       "                                          min_impurity_split=None,\n",
       "                                          min_samples_leaf=1,\n",
       "                                          min_samples_split=2,\n",
       "                                          min_weight_fraction_leaf=0.0,\n",
       "                                          random_state=None,\n",
       "                                          splitter='random'),\n",
       "             iid='warn', n_jobs=None,\n",
       "             param_grid={'criterion': ['mse', 'mae'], 'max_depth': [2, 6, 8],\n",
       "                         'max_leaf_nodes': [5, 20, 100],\n",
       "                         'min_samples_leaf': [20, 40, 100],\n",
       "                         'min_samples_split': [10, 20, 40]},\n",
       "             pre_dispatch='2*n_jobs', refit=True, return_train_score=False,\n",
       "             scoring=None, verbose=0)"
      ]
     },
     "execution_count": 280,
     "metadata": {},
     "output_type": "execute_result"
    }
   ],
   "source": [
    "from sklearn.model_selection import GridSearchCV\n",
    "grid_cv_et = GridSearchCV(et,param_grid=params,cv=5)\n",
    "grid_cv_et.fit(X,y)"
   ]
  },
  {
   "cell_type": "code",
   "execution_count": 281,
   "metadata": {},
   "outputs": [
    {
     "name": "stdout",
     "output_type": "stream",
     "text": [
      "{'criterion': 'mse', 'max_depth': 6, 'max_leaf_nodes': 20, 'min_samples_leaf': 40, 'min_samples_split': 10}\n"
     ]
    }
   ],
   "source": [
    "print(grid_cv_et.best_params_)"
   ]
  },
  {
   "cell_type": "code",
   "execution_count": 282,
   "metadata": {},
   "outputs": [],
   "source": [
    "et_reg1 = ExtraTreeRegressor(**grid_cv_et.best_params_)\n",
    "et_reg1.fit(xtrain,ytrain)\n",
    "y_pred_et = et_reg1.predict(xtest)"
   ]
  },
  {
   "cell_type": "code",
   "execution_count": 283,
   "metadata": {},
   "outputs": [
    {
     "name": "stdout",
     "output_type": "stream",
     "text": [
      "R2_Score of Train:  0.13123728063417428\n",
      "R2_Score of Test:  0.14505366316881085\n",
      "mean_absolute_error 106520.06673306975\n",
      "mean_absolute_percentage_error 45.49472211270271\n",
      "RMSE 203153.8984579745\n"
     ]
    }
   ],
   "source": [
    "print('R2_Score of Train: ',et_reg1.score(xtrain,ytrain))\n",
    "print('R2_Score of Test: ',et_reg1.score(xtest,ytest))\n",
    "print('mean_absolute_error',mean_absolute_error(ytest,y_pred_et))\n",
    "print('mean_absolute_percentage_error',mean_absolute_percentage_error(ytest,y_pred_et))\n",
    "print('RMSE',np.sqrt(mean_squared_error(ytest,y_pred_et)))\n",
    "train.append(et_reg1.score(xtrain,ytrain))\n",
    "test.append(et_reg1.score(xtest,ytest))\n",
    "mae.append(mean_absolute_error(ytest,y_pred_et))\n",
    "mape.append(mean_absolute_percentage_error(ytest,y_pred_et))\n",
    "rmse.append(np.sqrt(mean_squared_error(ytest,y_pred_et)))"
   ]
  },
  {
   "cell_type": "markdown",
   "metadata": {},
   "source": [
    "## Extra Trees Regressor:"
   ]
  },
  {
   "cell_type": "code",
   "execution_count": 284,
   "metadata": {},
   "outputs": [
    {
     "data": {
      "text/plain": [
       "ExtraTreesRegressor(bootstrap=False, criterion='mse', max_depth=None,\n",
       "                    max_features='auto', max_leaf_nodes=None,\n",
       "                    min_impurity_decrease=0.0, min_impurity_split=None,\n",
       "                    min_samples_leaf=1, min_samples_split=2,\n",
       "                    min_weight_fraction_leaf=0.0, n_estimators=10, n_jobs=None,\n",
       "                    oob_score=False, random_state=None, verbose=0,\n",
       "                    warm_start=False)"
      ]
     },
     "execution_count": 284,
     "metadata": {},
     "output_type": "execute_result"
    }
   ],
   "source": [
    "etr.fit(xtrain,ytrain)"
   ]
  },
  {
   "cell_type": "code",
   "execution_count": 285,
   "metadata": {},
   "outputs": [],
   "source": [
    "y_pred = etr.predict(xtest)"
   ]
  },
  {
   "cell_type": "code",
   "execution_count": 286,
   "metadata": {},
   "outputs": [
    {
     "name": "stdout",
     "output_type": "stream",
     "text": [
      "R2_Score of Train:  1.0\n",
      "R2_Score of Test:  0.13968026419602264\n"
     ]
    }
   ],
   "source": [
    "print('R2_Score of Train: ',etr.score(xtrain,ytrain))\n",
    "train.append(etr.score(xtrain,ytrain))\n",
    "print('R2_Score of Test: ',etr.score(xtest,ytest))\n",
    "test.append(etr.score(xtest,ytest))"
   ]
  },
  {
   "cell_type": "code",
   "execution_count": 287,
   "metadata": {},
   "outputs": [
    {
     "name": "stdout",
     "output_type": "stream",
     "text": [
      "104840.83333333333\n",
      "44.108444223958394\n",
      "203791.31687423127\n"
     ]
    }
   ],
   "source": [
    "for i in metrics:\n",
    "    print(i(ytest,y_pred))\n",
    "    if i == mean_absolute_error:\n",
    "        mae.append(i(ytest,y_pred))\n",
    "    elif i == mean_absolute_percentage_error:\n",
    "        mape.append(i(ytest,y_pred))\n",
    "    else:\n",
    "        rmse.append(i(ytest,y_pred))"
   ]
  },
  {
   "cell_type": "markdown",
   "metadata": {},
   "source": [
    "## Bagging Regressor:"
   ]
  },
  {
   "cell_type": "code",
   "execution_count": 288,
   "metadata": {},
   "outputs": [
    {
     "data": {
      "text/plain": [
       "BaggingRegressor(base_estimator=None, bootstrap=True, bootstrap_features=False,\n",
       "                 max_features=1.0, max_samples=1.0, n_estimators=10,\n",
       "                 n_jobs=None, oob_score=False, random_state=None, verbose=0,\n",
       "                 warm_start=False)"
      ]
     },
     "execution_count": 288,
     "metadata": {},
     "output_type": "execute_result"
    }
   ],
   "source": [
    "br.fit(xtrain,ytrain)"
   ]
  },
  {
   "cell_type": "code",
   "execution_count": 289,
   "metadata": {},
   "outputs": [],
   "source": [
    "y_pred = br.predict(xtest)"
   ]
  },
  {
   "cell_type": "code",
   "execution_count": 290,
   "metadata": {},
   "outputs": [
    {
     "name": "stdout",
     "output_type": "stream",
     "text": [
      "R2_Score of Train:  0.828858414313377\n",
      "R2_Score of Test:  0.10616288356625747\n"
     ]
    }
   ],
   "source": [
    "print('R2_Score of Train: ',br.score(xtrain,ytrain))\n",
    "train.append(br.score(xtrain,ytrain))\n",
    "print('R2_Score of Test: ',br.score(xtest,ytest))\n",
    "test.append(br.score(xtest,ytest))"
   ]
  },
  {
   "cell_type": "code",
   "execution_count": 291,
   "metadata": {},
   "outputs": [
    {
     "name": "stdout",
     "output_type": "stream",
     "text": [
      "108160.0\n",
      "46.53099621761439\n",
      "207723.1621252992\n"
     ]
    }
   ],
   "source": [
    "for i in metrics:\n",
    "    print(i(ytest,y_pred))\n",
    "    if i == mean_absolute_error:\n",
    "        mae.append(i(ytest,y_pred))\n",
    "    elif i == mean_absolute_percentage_error:\n",
    "        mape.append(i(ytest,y_pred))\n",
    "    else:\n",
    "        rmse.append(i(ytest,y_pred))"
   ]
  },
  {
   "cell_type": "markdown",
   "metadata": {},
   "source": [
    "## GradientBoostingRegressor"
   ]
  },
  {
   "cell_type": "code",
   "execution_count": 292,
   "metadata": {},
   "outputs": [
    {
     "data": {
      "text/plain": [
       "GradientBoostingRegressor(alpha=0.9, criterion='friedman_mse', init=None,\n",
       "                          learning_rate=0.1, loss='ls', max_depth=3,\n",
       "                          max_features=None, max_leaf_nodes=None,\n",
       "                          min_impurity_decrease=0.0, min_impurity_split=None,\n",
       "                          min_samples_leaf=1, min_samples_split=2,\n",
       "                          min_weight_fraction_leaf=0.0, n_estimators=100,\n",
       "                          n_iter_no_change=None, presort='auto',\n",
       "                          random_state=None, subsample=1.0, tol=0.0001,\n",
       "                          validation_fraction=0.1, verbose=0, warm_start=False)"
      ]
     },
     "execution_count": 292,
     "metadata": {},
     "output_type": "execute_result"
    }
   ],
   "source": [
    "gbr.fit(xtrain,ytrain)"
   ]
  },
  {
   "cell_type": "code",
   "execution_count": 293,
   "metadata": {},
   "outputs": [],
   "source": [
    "y_pred = gbr.predict(xtest)"
   ]
  },
  {
   "cell_type": "code",
   "execution_count": 294,
   "metadata": {},
   "outputs": [
    {
     "name": "stdout",
     "output_type": "stream",
     "text": [
      "R2_Score of Train:  0.5830181706064547\n",
      "R2_Score of Test:  0.20304826898166753\n"
     ]
    }
   ],
   "source": [
    "print('R2_Score of Train: ',gbr.score(xtrain,ytrain))\n",
    "train.append(gbr.score(xtrain,ytrain))\n",
    "print('R2_Score of Test: ',gbr.score(xtest,ytest))\n",
    "test.append(gbr.score(xtest,ytest))"
   ]
  },
  {
   "cell_type": "code",
   "execution_count": 295,
   "metadata": {},
   "outputs": [
    {
     "name": "stdout",
     "output_type": "stream",
     "text": [
      "94368.96996624753\n",
      "40.590251744227\n",
      "196142.51602688018\n"
     ]
    }
   ],
   "source": [
    "for i in metrics:\n",
    "    print(i(ytest,y_pred))\n",
    "    if i == mean_absolute_error:\n",
    "        mae.append(i(ytest,y_pred))\n",
    "    elif i == mean_absolute_percentage_error:\n",
    "        mape.append(i(ytest,y_pred))\n",
    "    else:\n",
    "        rmse.append(i(ytest,y_pred))"
   ]
  },
  {
   "cell_type": "markdown",
   "metadata": {},
   "source": [
    "#### Gradient Boosting Regressor Hyperparameter Tuning:"
   ]
  },
  {
   "cell_type": "code",
   "execution_count": 296,
   "metadata": {},
   "outputs": [],
   "source": [
    "params = {\"loss\": ['ls', 'lad', 'huber', 'quantile'],\n",
    "              \"min_samples_split\": [10, 20, 40],\n",
    "              \"max_depth\": [2, 6, 8],\n",
    "              \"min_samples_leaf\": [20, 40, 100],\n",
    "              \"max_leaf_nodes\": [5, 20, 100]\n",
    "              }"
   ]
  },
  {
   "cell_type": "code",
   "execution_count": 297,
   "metadata": {},
   "outputs": [
    {
     "data": {
      "text/plain": [
       "GridSearchCV(cv=5, error_score='raise-deprecating',\n",
       "             estimator=GradientBoostingRegressor(alpha=0.9,\n",
       "                                                 criterion='friedman_mse',\n",
       "                                                 init=None, learning_rate=0.1,\n",
       "                                                 loss='ls', max_depth=3,\n",
       "                                                 max_features=None,\n",
       "                                                 max_leaf_nodes=None,\n",
       "                                                 min_impurity_decrease=0.0,\n",
       "                                                 min_impurity_split=None,\n",
       "                                                 min_samples_leaf=1,\n",
       "                                                 min_samples_split=2,\n",
       "                                                 min_weight_fraction_leaf=0.0,\n",
       "                                                 n_estimators=100,\n",
       "                                                 n_iter...\n",
       "                                                 random_state=None,\n",
       "                                                 subsample=1.0, tol=0.0001,\n",
       "                                                 validation_fraction=0.1,\n",
       "                                                 verbose=0, warm_start=False),\n",
       "             iid='warn', n_jobs=None,\n",
       "             param_grid={'loss': ['ls', 'lad', 'huber', 'quantile'],\n",
       "                         'max_depth': [2, 6, 8], 'max_leaf_nodes': [5, 20, 100],\n",
       "                         'min_samples_leaf': [20, 40, 100],\n",
       "                         'min_samples_split': [10, 20, 40]},\n",
       "             pre_dispatch='2*n_jobs', refit=True, return_train_score=False,\n",
       "             scoring=None, verbose=0)"
      ]
     },
     "execution_count": 297,
     "metadata": {},
     "output_type": "execute_result"
    }
   ],
   "source": [
    "grid_cv_gbr = GridSearchCV(gbr,param_grid=params,cv=5)\n",
    "grid_cv_gbr.fit(X,y)"
   ]
  },
  {
   "cell_type": "code",
   "execution_count": 298,
   "metadata": {},
   "outputs": [
    {
     "name": "stdout",
     "output_type": "stream",
     "text": [
      "{'loss': 'huber', 'max_depth': 6, 'max_leaf_nodes': 5, 'min_samples_leaf': 20, 'min_samples_split': 10}\n"
     ]
    }
   ],
   "source": [
    "print(grid_cv_gbr.best_params_)"
   ]
  },
  {
   "cell_type": "code",
   "execution_count": 299,
   "metadata": {},
   "outputs": [],
   "source": [
    "gbr_reg1 = GradientBoostingRegressor(**grid_cv_gbr.best_params_)\n",
    "gbr_reg1.fit(xtrain,ytrain)\n",
    "y_pred_gbr = gbr_reg1.predict(xtest)"
   ]
  },
  {
   "cell_type": "code",
   "execution_count": 300,
   "metadata": {},
   "outputs": [
    {
     "name": "stdout",
     "output_type": "stream",
     "text": [
      "R2_Score of Train:  0.26633756694792154\n",
      "R2_Score of Test:  0.2393440607384174\n",
      "mean_absolute_error 89735.08186073418\n",
      "mean_absolute_percentage_error 36.51674585269426\n",
      "RMSE 191623.983068001\n"
     ]
    }
   ],
   "source": [
    "print('R2_Score of Train: ',gbr_reg1.score(xtrain,ytrain))\n",
    "print('R2_Score of Test: ',gbr_reg1.score(xtest,ytest))\n",
    "print('mean_absolute_error',mean_absolute_error(ytest,y_pred_gbr))\n",
    "print('mean_absolute_percentage_error',mean_absolute_percentage_error(ytest,y_pred_gbr))\n",
    "print('RMSE',np.sqrt(mean_squared_error(ytest,y_pred_gbr)))\n",
    "train.append(gbr_reg1.score(xtrain,ytrain))\n",
    "test.append(gbr_reg1.score(xtest,ytest))\n",
    "mae.append(mean_absolute_error(ytest,y_pred_gbr))\n",
    "mape.append(mean_absolute_percentage_error(ytest,y_pred_gbr))\n",
    "rmse.append(np.sqrt(mean_squared_error(ytest,y_pred_gbr)))"
   ]
  },
  {
   "cell_type": "markdown",
   "metadata": {},
   "source": [
    "## XGBoost:"
   ]
  },
  {
   "cell_type": "code",
   "execution_count": 301,
   "metadata": {},
   "outputs": [
    {
     "name": "stdout",
     "output_type": "stream",
     "text": [
      "[04:50:18] WARNING: C:/Jenkins/workspace/xgboost-win64_release_0.90/src/objective/regression_obj.cu:152: reg:linear is now deprecated in favor of reg:squarederror.\n"
     ]
    },
    {
     "data": {
      "text/plain": [
       "XGBRegressor(base_score=0.5, booster='gbtree', colsample_bylevel=1,\n",
       "             colsample_bynode=1, colsample_bytree=1, gamma=0,\n",
       "             importance_type='gain', learning_rate=0.1, max_delta_step=0,\n",
       "             max_depth=3, min_child_weight=1, missing=None, n_estimators=100,\n",
       "             n_jobs=1, nthread=None, objective='reg:linear', random_state=0,\n",
       "             reg_alpha=0, reg_lambda=1, scale_pos_weight=1, seed=None,\n",
       "             silent=None, subsample=1, verbosity=1)"
      ]
     },
     "execution_count": 301,
     "metadata": {},
     "output_type": "execute_result"
    }
   ],
   "source": [
    "xgb.fit(xtrain,ytrain)"
   ]
  },
  {
   "cell_type": "code",
   "execution_count": 302,
   "metadata": {},
   "outputs": [],
   "source": [
    "y_pred = xgb.predict(xtest)"
   ]
  },
  {
   "cell_type": "code",
   "execution_count": 303,
   "metadata": {},
   "outputs": [
    {
     "name": "stdout",
     "output_type": "stream",
     "text": [
      "R2_Score of Train:  0.5301916060724995\n",
      "R2_Score of Test:  0.23290479318389135\n"
     ]
    }
   ],
   "source": [
    "print('R2_Score of Train: ',xgb.score(xtrain,ytrain))\n",
    "train.append(xgb.score(xtrain,ytrain))\n",
    "print('R2_Score of Test: ',xgb.score(xtest,ytest))\n",
    "test.append(xgb.score(xtest,ytest))"
   ]
  },
  {
   "cell_type": "code",
   "execution_count": 304,
   "metadata": {},
   "outputs": [
    {
     "name": "stdout",
     "output_type": "stream",
     "text": [
      "93128.15792317709\n",
      "39.54264603369138\n",
      "192433.36193532884\n"
     ]
    }
   ],
   "source": [
    "for i in metrics:\n",
    "    print(i(ytest,y_pred))\n",
    "    if i == mean_absolute_error:\n",
    "        mae.append(i(ytest,y_pred))\n",
    "    elif i == mean_absolute_percentage_error:\n",
    "        mape.append(i(ytest,y_pred))\n",
    "    else:\n",
    "        rmse.append(i(ytest,y_pred))"
   ]
  },
  {
   "cell_type": "markdown",
   "metadata": {},
   "source": [
    "# PCA:"
   ]
  },
  {
   "cell_type": "code",
   "execution_count": 305,
   "metadata": {},
   "outputs": [
    {
     "data": {
      "text/html": [
       "<div>\n",
       "<style scoped>\n",
       "    .dataframe tbody tr th:only-of-type {\n",
       "        vertical-align: middle;\n",
       "    }\n",
       "\n",
       "    .dataframe tbody tr th {\n",
       "        vertical-align: top;\n",
       "    }\n",
       "\n",
       "    .dataframe thead th {\n",
       "        text-align: right;\n",
       "    }\n",
       "</style>\n",
       "<table border=\"1\" class=\"dataframe\">\n",
       "  <thead>\n",
       "    <tr style=\"text-align: right;\">\n",
       "      <th></th>\n",
       "      <th>Salary</th>\n",
       "      <th>Designation</th>\n",
       "      <th>Gender</th>\n",
       "      <th>10percentage</th>\n",
       "      <th>10board</th>\n",
       "      <th>12percentage</th>\n",
       "      <th>12board</th>\n",
       "      <th>CollegeTier</th>\n",
       "      <th>Degree</th>\n",
       "      <th>Specialization</th>\n",
       "      <th>collegeGPA</th>\n",
       "      <th>CollegeCityTier</th>\n",
       "      <th>CollegeState</th>\n",
       "      <th>English</th>\n",
       "      <th>Logical</th>\n",
       "      <th>Quant</th>\n",
       "      <th>Domain</th>\n",
       "      <th>conscientiousness</th>\n",
       "      <th>agreeableness</th>\n",
       "      <th>extraversion</th>\n",
       "      <th>nueroticism</th>\n",
       "      <th>openess_to_experience</th>\n",
       "      <th>Exp</th>\n",
       "      <th>Age</th>\n",
       "      <th>JobRegion</th>\n",
       "      <th>DOB_yr</th>\n",
       "      <th>12Gap</th>\n",
       "      <th>GradGap</th>\n",
       "      <th>Score</th>\n",
       "      <th>Domain_Test</th>\n",
       "      <th>CP</th>\n",
       "      <th>ES</th>\n",
       "      <th>CS</th>\n",
       "      <th>ME</th>\n",
       "      <th>EE</th>\n",
       "      <th>TE</th>\n",
       "      <th>CE</th>\n",
       "    </tr>\n",
       "  </thead>\n",
       "  <tbody>\n",
       "    <tr>\n",
       "      <th>0</th>\n",
       "      <td>420000</td>\n",
       "      <td>317</td>\n",
       "      <td>0</td>\n",
       "      <td>0.613096</td>\n",
       "      <td>5</td>\n",
       "      <td>95.8</td>\n",
       "      <td>4</td>\n",
       "      <td>2</td>\n",
       "      <td>0</td>\n",
       "      <td>4</td>\n",
       "      <td>78.00</td>\n",
       "      <td>0</td>\n",
       "      <td>0</td>\n",
       "      <td>0.165870</td>\n",
       "      <td>0.966632</td>\n",
       "      <td>0.093821</td>\n",
       "      <td>0.035854</td>\n",
       "      <td>1.020401</td>\n",
       "      <td>0.708645</td>\n",
       "      <td>0.504175</td>\n",
       "      <td>1.475991</td>\n",
       "      <td>-0.481356</td>\n",
       "      <td>1.448317</td>\n",
       "      <td>26.0</td>\n",
       "      <td>11</td>\n",
       "      <td>1990</td>\n",
       "      <td>17</td>\n",
       "      <td>21.0</td>\n",
       "      <td>445.0</td>\n",
       "      <td>1</td>\n",
       "      <td>1</td>\n",
       "      <td>0</td>\n",
       "      <td>0</td>\n",
       "      <td>0</td>\n",
       "      <td>0</td>\n",
       "      <td>0</td>\n",
       "      <td>0</td>\n",
       "    </tr>\n",
       "    <tr>\n",
       "      <th>1</th>\n",
       "      <td>500000</td>\n",
       "      <td>17</td>\n",
       "      <td>1</td>\n",
       "      <td>0.749554</td>\n",
       "      <td>0</td>\n",
       "      <td>85.0</td>\n",
       "      <td>0</td>\n",
       "      <td>2</td>\n",
       "      <td>0</td>\n",
       "      <td>6</td>\n",
       "      <td>70.06</td>\n",
       "      <td>0</td>\n",
       "      <td>13</td>\n",
       "      <td>1.760886</td>\n",
       "      <td>1.278848</td>\n",
       "      <td>2.184748</td>\n",
       "      <td>1.400553</td>\n",
       "      <td>-0.741379</td>\n",
       "      <td>0.111546</td>\n",
       "      <td>1.405680</td>\n",
       "      <td>0.093830</td>\n",
       "      <td>1.140996</td>\n",
       "      <td>0.685162</td>\n",
       "      <td>26.0</td>\n",
       "      <td>6</td>\n",
       "      <td>1989</td>\n",
       "      <td>18</td>\n",
       "      <td>23.0</td>\n",
       "      <td>466.0</td>\n",
       "      <td>4</td>\n",
       "      <td>0</td>\n",
       "      <td>1</td>\n",
       "      <td>0</td>\n",
       "      <td>0</td>\n",
       "      <td>0</td>\n",
       "      <td>0</td>\n",
       "      <td>0</td>\n",
       "    </tr>\n",
       "    <tr>\n",
       "      <th>2</th>\n",
       "      <td>325000</td>\n",
       "      <td>377</td>\n",
       "      <td>0</td>\n",
       "      <td>0.699565</td>\n",
       "      <td>0</td>\n",
       "      <td>68.2</td>\n",
       "      <td>0</td>\n",
       "      <td>2</td>\n",
       "      <td>0</td>\n",
       "      <td>10</td>\n",
       "      <td>70.00</td>\n",
       "      <td>0</td>\n",
       "      <td>23</td>\n",
       "      <td>1.073985</td>\n",
       "      <td>0.478212</td>\n",
       "      <td>-1.172256</td>\n",
       "      <td>-0.639577</td>\n",
       "      <td>0.209753</td>\n",
       "      <td>2.189992</td>\n",
       "      <td>0.084389</td>\n",
       "      <td>-0.682707</td>\n",
       "      <td>0.849522</td>\n",
       "      <td>0.114042</td>\n",
       "      <td>23.0</td>\n",
       "      <td>9</td>\n",
       "      <td>1992</td>\n",
       "      <td>18</td>\n",
       "      <td>22.0</td>\n",
       "      <td>395.0</td>\n",
       "      <td>1</td>\n",
       "      <td>1</td>\n",
       "      <td>0</td>\n",
       "      <td>0</td>\n",
       "      <td>0</td>\n",
       "      <td>0</td>\n",
       "      <td>0</td>\n",
       "      <td>0</td>\n",
       "    </tr>\n",
       "    <tr>\n",
       "      <th>3</th>\n",
       "      <td>1100000</td>\n",
       "      <td>322</td>\n",
       "      <td>1</td>\n",
       "      <td>0.774707</td>\n",
       "      <td>0</td>\n",
       "      <td>83.6</td>\n",
       "      <td>0</td>\n",
       "      <td>1</td>\n",
       "      <td>0</td>\n",
       "      <td>4</td>\n",
       "      <td>74.64</td>\n",
       "      <td>1</td>\n",
       "      <td>4</td>\n",
       "      <td>1.248718</td>\n",
       "      <td>0.966632</td>\n",
       "      <td>0.912774</td>\n",
       "      <td>1.463582</td>\n",
       "      <td>-0.025549</td>\n",
       "      <td>0.068314</td>\n",
       "      <td>-0.446338</td>\n",
       "      <td>-0.208140</td>\n",
       "      <td>-0.886466</td>\n",
       "      <td>1.843818</td>\n",
       "      <td>26.0</td>\n",
       "      <td>5</td>\n",
       "      <td>1989</td>\n",
       "      <td>18</td>\n",
       "      <td>22.0</td>\n",
       "      <td>615.0</td>\n",
       "      <td>1</td>\n",
       "      <td>1</td>\n",
       "      <td>0</td>\n",
       "      <td>0</td>\n",
       "      <td>0</td>\n",
       "      <td>0</td>\n",
       "      <td>0</td>\n",
       "      <td>0</td>\n",
       "    </tr>\n",
       "    <tr>\n",
       "      <th>4</th>\n",
       "      <td>200000</td>\n",
       "      <td>133</td>\n",
       "      <td>1</td>\n",
       "      <td>-0.108537</td>\n",
       "      <td>0</td>\n",
       "      <td>76.8</td>\n",
       "      <td>0</td>\n",
       "      <td>2</td>\n",
       "      <td>0</td>\n",
       "      <td>6</td>\n",
       "      <td>73.90</td>\n",
       "      <td>0</td>\n",
       "      <td>23</td>\n",
       "      <td>0.444777</td>\n",
       "      <td>1.468677</td>\n",
       "      <td>-0.396802</td>\n",
       "      <td>-1.646315</td>\n",
       "      <td>-0.864389</td>\n",
       "      <td>-0.617651</td>\n",
       "      <td>-1.118680</td>\n",
       "      <td>0.290198</td>\n",
       "      <td>-0.170162</td>\n",
       "      <td>-0.537912</td>\n",
       "      <td>25.0</td>\n",
       "      <td>5</td>\n",
       "      <td>1991</td>\n",
       "      <td>17</td>\n",
       "      <td>21.0</td>\n",
       "      <td>233.0</td>\n",
       "      <td>4</td>\n",
       "      <td>0</td>\n",
       "      <td>1</td>\n",
       "      <td>0</td>\n",
       "      <td>0</td>\n",
       "      <td>0</td>\n",
       "      <td>0</td>\n",
       "      <td>0</td>\n",
       "    </tr>\n",
       "  </tbody>\n",
       "</table>\n",
       "</div>"
      ],
      "text/plain": [
       "    Salary  Designation  Gender  10percentage  10board  12percentage  12board  \\\n",
       "0   420000          317       0      0.613096        5          95.8        4   \n",
       "1   500000           17       1      0.749554        0          85.0        0   \n",
       "2   325000          377       0      0.699565        0          68.2        0   \n",
       "3  1100000          322       1      0.774707        0          83.6        0   \n",
       "4   200000          133       1     -0.108537        0          76.8        0   \n",
       "\n",
       "   CollegeTier  Degree  Specialization  collegeGPA  CollegeCityTier  \\\n",
       "0            2       0               4       78.00                0   \n",
       "1            2       0               6       70.06                0   \n",
       "2            2       0              10       70.00                0   \n",
       "3            1       0               4       74.64                1   \n",
       "4            2       0               6       73.90                0   \n",
       "\n",
       "   CollegeState   English   Logical     Quant    Domain  conscientiousness  \\\n",
       "0             0  0.165870  0.966632  0.093821  0.035854           1.020401   \n",
       "1            13  1.760886  1.278848  2.184748  1.400553          -0.741379   \n",
       "2            23  1.073985  0.478212 -1.172256 -0.639577           0.209753   \n",
       "3             4  1.248718  0.966632  0.912774  1.463582          -0.025549   \n",
       "4            23  0.444777  1.468677 -0.396802 -1.646315          -0.864389   \n",
       "\n",
       "   agreeableness  extraversion  nueroticism  openess_to_experience       Exp  \\\n",
       "0       0.708645      0.504175     1.475991              -0.481356  1.448317   \n",
       "1       0.111546      1.405680     0.093830               1.140996  0.685162   \n",
       "2       2.189992      0.084389    -0.682707               0.849522  0.114042   \n",
       "3       0.068314     -0.446338    -0.208140              -0.886466  1.843818   \n",
       "4      -0.617651     -1.118680     0.290198              -0.170162 -0.537912   \n",
       "\n",
       "    Age  JobRegion  DOB_yr  12Gap  GradGap  Score  Domain_Test  CP  ES  CS  \\\n",
       "0  26.0         11    1990     17     21.0  445.0            1   1   0   0   \n",
       "1  26.0          6    1989     18     23.0  466.0            4   0   1   0   \n",
       "2  23.0          9    1992     18     22.0  395.0            1   1   0   0   \n",
       "3  26.0          5    1989     18     22.0  615.0            1   1   0   0   \n",
       "4  25.0          5    1991     17     21.0  233.0            4   0   1   0   \n",
       "\n",
       "   ME  EE  TE  CE  \n",
       "0   0   0   0   0  \n",
       "1   0   0   0   0  \n",
       "2   0   0   0   0  \n",
       "3   0   0   0   0  \n",
       "4   0   0   0   0  "
      ]
     },
     "execution_count": 305,
     "metadata": {},
     "output_type": "execute_result"
    }
   ],
   "source": [
    "df.head()"
   ]
  },
  {
   "cell_type": "code",
   "execution_count": 306,
   "metadata": {},
   "outputs": [],
   "source": [
    "df_pca = df.copy()"
   ]
  },
  {
   "cell_type": "code",
   "execution_count": 307,
   "metadata": {},
   "outputs": [],
   "source": [
    "data1 = df_pca[['10percentage','12percentage','collegeGPA','English','Logical','Quant','Domain','conscientiousness','agreeableness','extraversion','nueroticism','openess_to_experience','Exp','Age','Score']]"
   ]
  },
  {
   "cell_type": "code",
   "execution_count": 308,
   "metadata": {},
   "outputs": [],
   "source": [
    "from sklearn.preprocessing import StandardScaler\n",
    "sc = StandardScaler()\n",
    "data1 = sc.fit_transform(data1)"
   ]
  },
  {
   "cell_type": "code",
   "execution_count": 309,
   "metadata": {},
   "outputs": [
    {
     "data": {
      "text/html": [
       "<div>\n",
       "<style scoped>\n",
       "    .dataframe tbody tr th:only-of-type {\n",
       "        vertical-align: middle;\n",
       "    }\n",
       "\n",
       "    .dataframe tbody tr th {\n",
       "        vertical-align: top;\n",
       "    }\n",
       "\n",
       "    .dataframe thead th {\n",
       "        text-align: right;\n",
       "    }\n",
       "</style>\n",
       "<table border=\"1\" class=\"dataframe\">\n",
       "  <thead>\n",
       "    <tr style=\"text-align: right;\">\n",
       "      <th></th>\n",
       "      <th>0</th>\n",
       "      <th>1</th>\n",
       "      <th>2</th>\n",
       "      <th>3</th>\n",
       "      <th>4</th>\n",
       "      <th>5</th>\n",
       "      <th>6</th>\n",
       "      <th>7</th>\n",
       "      <th>8</th>\n",
       "      <th>9</th>\n",
       "      <th>10</th>\n",
       "      <th>11</th>\n",
       "      <th>12</th>\n",
       "      <th>13</th>\n",
       "      <th>14</th>\n",
       "    </tr>\n",
       "  </thead>\n",
       "  <tbody>\n",
       "    <tr>\n",
       "      <th>0</th>\n",
       "      <td>0.613096</td>\n",
       "      <td>1.939676</td>\n",
       "      <td>0.853774</td>\n",
       "      <td>0.165870</td>\n",
       "      <td>0.966632</td>\n",
       "      <td>0.093821</td>\n",
       "      <td>0.035854</td>\n",
       "      <td>1.020401</td>\n",
       "      <td>0.708645</td>\n",
       "      <td>0.504175</td>\n",
       "      <td>1.475991</td>\n",
       "      <td>-0.481356</td>\n",
       "      <td>1.448317</td>\n",
       "      <td>0.529489</td>\n",
       "      <td>-0.027257</td>\n",
       "    </tr>\n",
       "    <tr>\n",
       "      <th>1</th>\n",
       "      <td>0.749554</td>\n",
       "      <td>0.957729</td>\n",
       "      <td>-0.219541</td>\n",
       "      <td>1.760886</td>\n",
       "      <td>1.278848</td>\n",
       "      <td>2.184748</td>\n",
       "      <td>1.400553</td>\n",
       "      <td>-0.741379</td>\n",
       "      <td>0.111546</td>\n",
       "      <td>1.405680</td>\n",
       "      <td>0.093830</td>\n",
       "      <td>1.140996</td>\n",
       "      <td>0.685162</td>\n",
       "      <td>0.529489</td>\n",
       "      <td>0.194083</td>\n",
       "    </tr>\n",
       "    <tr>\n",
       "      <th>2</th>\n",
       "      <td>0.699565</td>\n",
       "      <td>-0.569744</td>\n",
       "      <td>-0.227652</td>\n",
       "      <td>1.073985</td>\n",
       "      <td>0.478212</td>\n",
       "      <td>-1.172256</td>\n",
       "      <td>-0.639577</td>\n",
       "      <td>0.209753</td>\n",
       "      <td>2.189992</td>\n",
       "      <td>0.084389</td>\n",
       "      <td>-0.682707</td>\n",
       "      <td>0.849522</td>\n",
       "      <td>0.114042</td>\n",
       "      <td>-1.155938</td>\n",
       "      <td>-0.554256</td>\n",
       "    </tr>\n",
       "    <tr>\n",
       "      <th>3</th>\n",
       "      <td>0.774707</td>\n",
       "      <td>0.830439</td>\n",
       "      <td>0.399575</td>\n",
       "      <td>1.248718</td>\n",
       "      <td>0.966632</td>\n",
       "      <td>0.912774</td>\n",
       "      <td>1.463582</td>\n",
       "      <td>-0.025549</td>\n",
       "      <td>0.068314</td>\n",
       "      <td>-0.446338</td>\n",
       "      <td>-0.208140</td>\n",
       "      <td>-0.886466</td>\n",
       "      <td>1.843818</td>\n",
       "      <td>0.529489</td>\n",
       "      <td>1.764540</td>\n",
       "    </tr>\n",
       "    <tr>\n",
       "      <th>4</th>\n",
       "      <td>-0.108537</td>\n",
       "      <td>0.212176</td>\n",
       "      <td>0.299543</td>\n",
       "      <td>0.444777</td>\n",
       "      <td>1.468677</td>\n",
       "      <td>-0.396802</td>\n",
       "      <td>-1.646315</td>\n",
       "      <td>-0.864389</td>\n",
       "      <td>-0.617651</td>\n",
       "      <td>-1.118680</td>\n",
       "      <td>0.290198</td>\n",
       "      <td>-0.170162</td>\n",
       "      <td>-0.537912</td>\n",
       "      <td>-0.032320</td>\n",
       "      <td>-2.261733</td>\n",
       "    </tr>\n",
       "  </tbody>\n",
       "</table>\n",
       "</div>"
      ],
      "text/plain": [
       "          0         1         2         3         4         5         6  \\\n",
       "0  0.613096  1.939676  0.853774  0.165870  0.966632  0.093821  0.035854   \n",
       "1  0.749554  0.957729 -0.219541  1.760886  1.278848  2.184748  1.400553   \n",
       "2  0.699565 -0.569744 -0.227652  1.073985  0.478212 -1.172256 -0.639577   \n",
       "3  0.774707  0.830439  0.399575  1.248718  0.966632  0.912774  1.463582   \n",
       "4 -0.108537  0.212176  0.299543  0.444777  1.468677 -0.396802 -1.646315   \n",
       "\n",
       "          7         8         9        10        11        12        13  \\\n",
       "0  1.020401  0.708645  0.504175  1.475991 -0.481356  1.448317  0.529489   \n",
       "1 -0.741379  0.111546  1.405680  0.093830  1.140996  0.685162  0.529489   \n",
       "2  0.209753  2.189992  0.084389 -0.682707  0.849522  0.114042 -1.155938   \n",
       "3 -0.025549  0.068314 -0.446338 -0.208140 -0.886466  1.843818  0.529489   \n",
       "4 -0.864389 -0.617651 -1.118680  0.290198 -0.170162 -0.537912 -0.032320   \n",
       "\n",
       "         14  \n",
       "0 -0.027257  \n",
       "1  0.194083  \n",
       "2 -0.554256  \n",
       "3  1.764540  \n",
       "4 -2.261733  "
      ]
     },
     "execution_count": 309,
     "metadata": {},
     "output_type": "execute_result"
    }
   ],
   "source": [
    "data1 = pd.DataFrame(data1)\n",
    "data1.head()"
   ]
  },
  {
   "cell_type": "code",
   "execution_count": 310,
   "metadata": {},
   "outputs": [
    {
     "data": {
      "text/plain": [
       "PCA(copy=True, iterated_power='auto', n_components=None, random_state=None,\n",
       "    svd_solver='auto', tol=0.0, whiten=False)"
      ]
     },
     "execution_count": 310,
     "metadata": {},
     "output_type": "execute_result"
    }
   ],
   "source": [
    "from sklearn.decomposition import PCA\n",
    "pca = PCA()\n",
    "pca.fit(data1)"
   ]
  },
  {
   "cell_type": "code",
   "execution_count": 311,
   "metadata": {},
   "outputs": [
    {
     "data": {
      "text/plain": [
       "array([0.22748668, 0.3830451 , 0.4891086 , 0.5728551 , 0.64258473,\n",
       "       0.70727483, 0.7537421 , 0.79552788, 0.83327007, 0.86756678,\n",
       "       0.90114376, 0.93289864, 0.96162139, 0.98308339, 1.        ])"
      ]
     },
     "execution_count": 311,
     "metadata": {},
     "output_type": "execute_result"
    }
   ],
   "source": [
    "np.cumsum(pca.explained_variance_ratio_)"
   ]
  },
  {
   "cell_type": "code",
   "execution_count": 312,
   "metadata": {},
   "outputs": [
    {
     "name": "stdout",
     "output_type": "stream",
     "text": [
      "(3998, 11)\n"
     ]
    },
    {
     "data": {
      "text/html": [
       "<div>\n",
       "<style scoped>\n",
       "    .dataframe tbody tr th:only-of-type {\n",
       "        vertical-align: middle;\n",
       "    }\n",
       "\n",
       "    .dataframe tbody tr th {\n",
       "        vertical-align: top;\n",
       "    }\n",
       "\n",
       "    .dataframe thead th {\n",
       "        text-align: right;\n",
       "    }\n",
       "</style>\n",
       "<table border=\"1\" class=\"dataframe\">\n",
       "  <thead>\n",
       "    <tr style=\"text-align: right;\">\n",
       "      <th></th>\n",
       "      <th>pc1</th>\n",
       "      <th>pc2</th>\n",
       "      <th>pc3</th>\n",
       "      <th>pc4</th>\n",
       "      <th>pc5</th>\n",
       "      <th>pc6</th>\n",
       "      <th>pc7</th>\n",
       "      <th>pc8</th>\n",
       "      <th>pc9</th>\n",
       "      <th>pc10</th>\n",
       "      <th>pc11</th>\n",
       "    </tr>\n",
       "  </thead>\n",
       "  <tbody>\n",
       "    <tr>\n",
       "      <th>0</th>\n",
       "      <td>1.528091</td>\n",
       "      <td>0.182935</td>\n",
       "      <td>-0.287236</td>\n",
       "      <td>2.081060</td>\n",
       "      <td>-0.504894</td>\n",
       "      <td>0.805001</td>\n",
       "      <td>-0.061463</td>\n",
       "      <td>-0.289567</td>\n",
       "      <td>-0.052555</td>\n",
       "      <td>1.510137</td>\n",
       "      <td>-0.748153</td>\n",
       "    </tr>\n",
       "    <tr>\n",
       "      <th>1</th>\n",
       "      <td>2.922278</td>\n",
       "      <td>0.224132</td>\n",
       "      <td>1.085141</td>\n",
       "      <td>0.600491</td>\n",
       "      <td>1.252808</td>\n",
       "      <td>1.626935</td>\n",
       "      <td>-0.356081</td>\n",
       "      <td>-0.972509</td>\n",
       "      <td>-0.136257</td>\n",
       "      <td>-0.490003</td>\n",
       "      <td>0.589525</td>\n",
       "    </tr>\n",
       "    <tr>\n",
       "      <th>2</th>\n",
       "      <td>0.567474</td>\n",
       "      <td>-2.020379</td>\n",
       "      <td>-0.631881</td>\n",
       "      <td>0.040358</td>\n",
       "      <td>1.062089</td>\n",
       "      <td>0.126453</td>\n",
       "      <td>-0.408660</td>\n",
       "      <td>1.441771</td>\n",
       "      <td>-0.393275</td>\n",
       "      <td>-0.740295</td>\n",
       "      <td>-1.009624</td>\n",
       "    </tr>\n",
       "    <tr>\n",
       "      <th>3</th>\n",
       "      <td>2.745529</td>\n",
       "      <td>1.828152</td>\n",
       "      <td>1.356430</td>\n",
       "      <td>0.643499</td>\n",
       "      <td>0.031572</td>\n",
       "      <td>-0.377044</td>\n",
       "      <td>-0.799632</td>\n",
       "      <td>0.162666</td>\n",
       "      <td>-0.267589</td>\n",
       "      <td>0.497998</td>\n",
       "      <td>-0.619787</td>\n",
       "    </tr>\n",
       "    <tr>\n",
       "      <th>4</th>\n",
       "      <td>-1.036085</td>\n",
       "      <td>0.775052</td>\n",
       "      <td>-1.819770</td>\n",
       "      <td>0.522203</td>\n",
       "      <td>1.899734</td>\n",
       "      <td>0.243610</td>\n",
       "      <td>1.474199</td>\n",
       "      <td>0.463816</td>\n",
       "      <td>-0.041312</td>\n",
       "      <td>-0.537269</td>\n",
       "      <td>-0.016304</td>\n",
       "    </tr>\n",
       "  </tbody>\n",
       "</table>\n",
       "</div>"
      ],
      "text/plain": [
       "        pc1       pc2       pc3       pc4       pc5       pc6       pc7  \\\n",
       "0  1.528091  0.182935 -0.287236  2.081060 -0.504894  0.805001 -0.061463   \n",
       "1  2.922278  0.224132  1.085141  0.600491  1.252808  1.626935 -0.356081   \n",
       "2  0.567474 -2.020379 -0.631881  0.040358  1.062089  0.126453 -0.408660   \n",
       "3  2.745529  1.828152  1.356430  0.643499  0.031572 -0.377044 -0.799632   \n",
       "4 -1.036085  0.775052 -1.819770  0.522203  1.899734  0.243610  1.474199   \n",
       "\n",
       "        pc8       pc9      pc10      pc11  \n",
       "0 -0.289567 -0.052555  1.510137 -0.748153  \n",
       "1 -0.972509 -0.136257 -0.490003  0.589525  \n",
       "2  1.441771 -0.393275 -0.740295 -1.009624  \n",
       "3  0.162666 -0.267589  0.497998 -0.619787  \n",
       "4  0.463816 -0.041312 -0.537269 -0.016304  "
      ]
     },
     "execution_count": 312,
     "metadata": {},
     "output_type": "execute_result"
    }
   ],
   "source": [
    "pca = PCA(n_components=11)\n",
    "pca.fit(data1)\n",
    "df_pca_c = pd.DataFrame(pca.transform(data1),columns=['pc1','pc2','pc3','pc4','pc5','pc6','pc7','pc8','pc9','pc10','pc11'])\n",
    "print(df_pca_c.shape)\n",
    "df_pca_c.head()"
   ]
  },
  {
   "cell_type": "code",
   "execution_count": 313,
   "metadata": {},
   "outputs": [],
   "source": [
    "df_pca.drop(['10percentage','12percentage','collegeGPA','English','Logical','Quant','Domain','conscientiousness','agreeableness','extraversion','nueroticism','openess_to_experience','Exp','Age','Score'],axis=1,inplace=True)\n",
    "df_pca['PCA_1'] = df_pca_c['pc1']\n",
    "df_pca['PCA_2'] = df_pca_c['pc2']\n",
    "df_pca['PCA_3'] = df_pca_c['pc3']\n",
    "df_pca['PCA_4'] = df_pca_c['pc4']\n",
    "df_pca['PCA_5'] = df_pca_c['pc5']\n",
    "df_pca['PCA_6'] = df_pca_c['pc6']\n",
    "df_pca['PCA_7'] = df_pca_c['pc7']\n",
    "df_pca['PCA_8'] = df_pca_c['pc8']\n",
    "df_pca['PCA_9'] = df_pca_c['pc9']\n",
    "df_pca['PCA_10'] = df_pca_c['pc10']\n",
    "df_pca['PCA_11'] = df_pca_c['pc11']"
   ]
  },
  {
   "cell_type": "code",
   "execution_count": 314,
   "metadata": {},
   "outputs": [],
   "source": [
    "X = df_pca.drop('Salary',axis=1)\n",
    "y = df_pca['Salary']"
   ]
  },
  {
   "cell_type": "code",
   "execution_count": 315,
   "metadata": {},
   "outputs": [],
   "source": [
    "from sklearn.model_selection import train_test_split\n",
    "xtrain,xtest,ytrain,ytest = train_test_split(X,y,test_size=0.3,random_state=42)"
   ]
  },
  {
   "cell_type": "markdown",
   "metadata": {},
   "source": [
    "## Linear Regression:"
   ]
  },
  {
   "cell_type": "code",
   "execution_count": 316,
   "metadata": {},
   "outputs": [
    {
     "data": {
      "text/plain": [
       "LinearRegression(copy_X=True, fit_intercept=True, n_jobs=None, normalize=False)"
      ]
     },
     "execution_count": 316,
     "metadata": {},
     "output_type": "execute_result"
    }
   ],
   "source": [
    "lr.fit(xtrain,ytrain)"
   ]
  },
  {
   "cell_type": "code",
   "execution_count": 317,
   "metadata": {},
   "outputs": [],
   "source": [
    "y_pred = lr.predict(xtest)"
   ]
  },
  {
   "cell_type": "code",
   "execution_count": 318,
   "metadata": {},
   "outputs": [
    {
     "name": "stdout",
     "output_type": "stream",
     "text": [
      "R2_Score of Train:  0.21131099824311952\n",
      "R2_Score of Test:  0.23979056235575702\n"
     ]
    }
   ],
   "source": [
    "print('R2_Score of Train: ',lr.score(xtrain,ytrain))\n",
    "train.append(lr.score(xtrain,ytrain))\n",
    "print('R2_Score of Test: ',lr.score(xtest,ytest))\n",
    "test.append(lr.score(xtest,ytest))"
   ]
  },
  {
   "cell_type": "code",
   "execution_count": 319,
   "metadata": {},
   "outputs": [
    {
     "name": "stdout",
     "output_type": "stream",
     "text": [
      "94956.79661651266\n",
      "40.854028993020925\n",
      "191567.73360387023\n"
     ]
    }
   ],
   "source": [
    "for i in metrics:\n",
    "    print(i(ytest,y_pred))\n",
    "    if i == mean_absolute_error:\n",
    "        mae.append(i(ytest,y_pred))\n",
    "    elif i == mean_absolute_percentage_error:\n",
    "        mape.append(i(ytest,y_pred))\n",
    "    else:\n",
    "        rmse.append(i(ytest,y_pred))"
   ]
  },
  {
   "cell_type": "markdown",
   "metadata": {},
   "source": [
    "## Decision Tree Regressor:"
   ]
  },
  {
   "cell_type": "code",
   "execution_count": 320,
   "metadata": {},
   "outputs": [
    {
     "data": {
      "text/plain": [
       "DecisionTreeRegressor(criterion='mse', max_depth=None, max_features=None,\n",
       "                      max_leaf_nodes=None, min_impurity_decrease=0.0,\n",
       "                      min_impurity_split=None, min_samples_leaf=1,\n",
       "                      min_samples_split=2, min_weight_fraction_leaf=0.0,\n",
       "                      presort=False, random_state=None, splitter='best')"
      ]
     },
     "execution_count": 320,
     "metadata": {},
     "output_type": "execute_result"
    }
   ],
   "source": [
    "dt.fit(xtrain,ytrain)"
   ]
  },
  {
   "cell_type": "code",
   "execution_count": 321,
   "metadata": {},
   "outputs": [],
   "source": [
    "y_pred = dt.predict(xtest)"
   ]
  },
  {
   "cell_type": "code",
   "execution_count": 322,
   "metadata": {},
   "outputs": [
    {
     "name": "stdout",
     "output_type": "stream",
     "text": [
      "R2_Score of Train:  1.0\n",
      "R2_Score of Test:  -1.102462963863942\n"
     ]
    }
   ],
   "source": [
    "print('R2_Score of Train: ',dt.score(xtrain,ytrain))\n",
    "train.append(dt.score(xtrain,ytrain))\n",
    "print('R2_Score of Test: ',dt.score(xtest,ytest))\n",
    "test.append(dt.score(xtest,ytest))"
   ]
  },
  {
   "cell_type": "code",
   "execution_count": 323,
   "metadata": {},
   "outputs": [
    {
     "name": "stdout",
     "output_type": "stream",
     "text": [
      "147130.0\n",
      "59.44665650999603\n",
      "318581.0284161106\n"
     ]
    }
   ],
   "source": [
    "for i in metrics:\n",
    "    print(i(ytest,y_pred))\n",
    "    if i == mean_absolute_error:\n",
    "        mae.append(i(ytest,y_pred))\n",
    "    elif i == mean_absolute_percentage_error:\n",
    "        mape.append(i(ytest,y_pred))\n",
    "    else:\n",
    "        rmse.append(i(ytest,y_pred))"
   ]
  },
  {
   "cell_type": "markdown",
   "metadata": {},
   "source": [
    "#### Hyperparameter Tuning of Decision Tree:"
   ]
  },
  {
   "cell_type": "code",
   "execution_count": 324,
   "metadata": {},
   "outputs": [],
   "source": [
    "\n",
    "params = {\"criterion\": [\"mse\", \"mae\"],\n",
    "              \"min_samples_split\": [10, 20, 40],\n",
    "              \"max_depth\": [2, 6, 8],\n",
    "              \"min_samples_leaf\": [20, 40, 100],\n",
    "              \"max_leaf_nodes\": [5, 20, 100]\n",
    "              }"
   ]
  },
  {
   "cell_type": "code",
   "execution_count": 325,
   "metadata": {},
   "outputs": [
    {
     "data": {
      "text/plain": [
       "GridSearchCV(cv=5, error_score='raise-deprecating',\n",
       "             estimator=DecisionTreeRegressor(criterion='mse', max_depth=None,\n",
       "                                             max_features=None,\n",
       "                                             max_leaf_nodes=None,\n",
       "                                             min_impurity_decrease=0.0,\n",
       "                                             min_impurity_split=None,\n",
       "                                             min_samples_leaf=1,\n",
       "                                             min_samples_split=2,\n",
       "                                             min_weight_fraction_leaf=0.0,\n",
       "                                             presort=False, random_state=None,\n",
       "                                             splitter='best'),\n",
       "             iid='warn', n_jobs=None,\n",
       "             param_grid={'criterion': ['mse', 'mae'], 'max_depth': [2, 6, 8],\n",
       "                         'max_leaf_nodes': [5, 20, 100],\n",
       "                         'min_samples_leaf': [20, 40, 100],\n",
       "                         'min_samples_split': [10, 20, 40]},\n",
       "             pre_dispatch='2*n_jobs', refit=True, return_train_score=False,\n",
       "             scoring=None, verbose=0)"
      ]
     },
     "execution_count": 325,
     "metadata": {},
     "output_type": "execute_result"
    }
   ],
   "source": [
    "from sklearn.model_selection import GridSearchCV\n",
    "grid_cv_dt = GridSearchCV(dt,param_grid=params,cv=5)\n",
    "grid_cv_dt.fit(X,y)"
   ]
  },
  {
   "cell_type": "code",
   "execution_count": 326,
   "metadata": {},
   "outputs": [
    {
     "name": "stdout",
     "output_type": "stream",
     "text": [
      "{'criterion': 'mae', 'max_depth': 8, 'max_leaf_nodes': 100, 'min_samples_leaf': 100, 'min_samples_split': 20}\n"
     ]
    }
   ],
   "source": [
    "print(grid_cv_dt.best_params_)"
   ]
  },
  {
   "cell_type": "code",
   "execution_count": 327,
   "metadata": {},
   "outputs": [],
   "source": [
    "dt_reg1 = DecisionTreeRegressor(**grid_cv_dt.best_params_)\n",
    "dt_reg1.fit(xtrain,ytrain)\n",
    "y_pred1 = dt_reg1.predict(xtest)"
   ]
  },
  {
   "cell_type": "code",
   "execution_count": 328,
   "metadata": {},
   "outputs": [
    {
     "name": "stdout",
     "output_type": "stream",
     "text": [
      "R2_Score of Train:  0.14768615136814833\n",
      "R2_Score of Test:  0.13642347239562713\n",
      "mean_absolute_error 100786.25\n",
      "mean_absolute_percentage_error 40.38592495594756\n",
      "RMSE 204176.68461816758\n"
     ]
    }
   ],
   "source": [
    "print('R2_Score of Train: ',dt_reg1.score(xtrain,ytrain))\n",
    "print('R2_Score of Test: ',dt_reg1.score(xtest,ytest))\n",
    "print('mean_absolute_error',mean_absolute_error(ytest,y_pred1))\n",
    "print('mean_absolute_percentage_error',mean_absolute_percentage_error(ytest,y_pred1))\n",
    "print('RMSE',np.sqrt(mean_squared_error(ytest,y_pred1)))\n",
    "train.append(dt_reg1.score(xtrain,ytrain))\n",
    "test.append(dt_reg1.score(xtest,ytest))\n",
    "mae.append(mean_absolute_error(ytest,y_pred1))\n",
    "mape.append(mean_absolute_percentage_error(ytest,y_pred1))\n",
    "rmse.append(np.sqrt(mean_squared_error(ytest,y_pred1)))"
   ]
  },
  {
   "cell_type": "markdown",
   "metadata": {},
   "source": [
    "## Random Forest Regressor:"
   ]
  },
  {
   "cell_type": "code",
   "execution_count": 329,
   "metadata": {},
   "outputs": [
    {
     "data": {
      "text/plain": [
       "RandomForestRegressor(bootstrap=True, criterion='mse', max_depth=None,\n",
       "                      max_features='auto', max_leaf_nodes=None,\n",
       "                      min_impurity_decrease=0.0, min_impurity_split=None,\n",
       "                      min_samples_leaf=1, min_samples_split=2,\n",
       "                      min_weight_fraction_leaf=0.0, n_estimators=10,\n",
       "                      n_jobs=None, oob_score=False, random_state=None,\n",
       "                      verbose=0, warm_start=False)"
      ]
     },
     "execution_count": 329,
     "metadata": {},
     "output_type": "execute_result"
    }
   ],
   "source": [
    "rfr.fit(xtrain,ytrain)"
   ]
  },
  {
   "cell_type": "code",
   "execution_count": 330,
   "metadata": {},
   "outputs": [],
   "source": [
    "y_pred = rfr.predict(xtest)"
   ]
  },
  {
   "cell_type": "code",
   "execution_count": 331,
   "metadata": {},
   "outputs": [
    {
     "name": "stdout",
     "output_type": "stream",
     "text": [
      "R2_Score of Train:  0.8561433154825203\n",
      "R2_Score of Test:  0.0001471065466898125\n"
     ]
    }
   ],
   "source": [
    "print('R2_Score of Train: ',rfr.score(xtrain,ytrain))\n",
    "train.append(rfr.score(xtrain,ytrain))\n",
    "print('R2_Score of Test: ',rfr.score(xtest,ytest))\n",
    "test.append(rfr.score(xtest,ytest))"
   ]
  },
  {
   "cell_type": "code",
   "execution_count": 332,
   "metadata": {},
   "outputs": [
    {
     "name": "stdout",
     "output_type": "stream",
     "text": [
      "112936.66666666667\n",
      "48.068604507642206\n",
      "219696.82803809436\n"
     ]
    }
   ],
   "source": [
    "for i in metrics:\n",
    "    print(i(ytest,y_pred))\n",
    "    if i == mean_absolute_error:\n",
    "        mae.append(i(ytest,y_pred))\n",
    "    elif i == mean_absolute_percentage_error:\n",
    "        mape.append(i(ytest,y_pred))\n",
    "    else:\n",
    "        rmse.append(i(ytest,y_pred))"
   ]
  },
  {
   "cell_type": "markdown",
   "metadata": {},
   "source": [
    "## Extra Tree Regressor:"
   ]
  },
  {
   "cell_type": "code",
   "execution_count": 333,
   "metadata": {},
   "outputs": [
    {
     "data": {
      "text/plain": [
       "ExtraTreeRegressor(criterion='mse', max_depth=None, max_features='auto',\n",
       "                   max_leaf_nodes=None, min_impurity_decrease=0.0,\n",
       "                   min_impurity_split=None, min_samples_leaf=1,\n",
       "                   min_samples_split=2, min_weight_fraction_leaf=0.0,\n",
       "                   random_state=None, splitter='random')"
      ]
     },
     "execution_count": 333,
     "metadata": {},
     "output_type": "execute_result"
    }
   ],
   "source": [
    "et.fit(xtrain,ytrain)"
   ]
  },
  {
   "cell_type": "code",
   "execution_count": 334,
   "metadata": {},
   "outputs": [],
   "source": [
    "y_pred = et.predict(xtest)"
   ]
  },
  {
   "cell_type": "code",
   "execution_count": 335,
   "metadata": {},
   "outputs": [
    {
     "name": "stdout",
     "output_type": "stream",
     "text": [
      "R2_Score of Train:  1.0\n",
      "R2_Score of Test:  -1.184219531459806\n"
     ]
    }
   ],
   "source": [
    "print('R2_Score of Train: ',et.score(xtrain,ytrain))\n",
    "train.append(et.score(xtrain,ytrain))\n",
    "print('R2_Score of Test: ',et.score(xtest,ytest))\n",
    "test.append(et.score(xtest,ytest))"
   ]
  },
  {
   "cell_type": "code",
   "execution_count": 336,
   "metadata": {},
   "outputs": [
    {
     "name": "stdout",
     "output_type": "stream",
     "text": [
      "158021.66666666666\n",
      "63.457856615961326\n",
      "324716.14013883984\n"
     ]
    }
   ],
   "source": [
    "for i in metrics:\n",
    "    print(i(ytest,y_pred))\n",
    "    if i == mean_absolute_error:\n",
    "        mae.append(i(ytest,y_pred))\n",
    "    elif i == mean_absolute_percentage_error:\n",
    "        mape.append(i(ytest,y_pred))\n",
    "    else:\n",
    "        rmse.append(i(ytest,y_pred))"
   ]
  },
  {
   "cell_type": "markdown",
   "metadata": {},
   "source": [
    "#### Hyperparamter Tuning of Extra Tree Regressor :"
   ]
  },
  {
   "cell_type": "code",
   "execution_count": 337,
   "metadata": {},
   "outputs": [],
   "source": [
    "params = {\"criterion\": [\"mse\", \"mae\"],\n",
    "              \"min_samples_split\": [10, 20, 40],\n",
    "              \"max_depth\": [2, 6, 8],\n",
    "              \"min_samples_leaf\": [20, 40, 100],\n",
    "              \"max_leaf_nodes\": [5, 20, 100]\n",
    "              }"
   ]
  },
  {
   "cell_type": "code",
   "execution_count": 338,
   "metadata": {},
   "outputs": [
    {
     "data": {
      "text/plain": [
       "GridSearchCV(cv=5, error_score='raise-deprecating',\n",
       "             estimator=ExtraTreeRegressor(criterion='mse', max_depth=None,\n",
       "                                          max_features='auto',\n",
       "                                          max_leaf_nodes=None,\n",
       "                                          min_impurity_decrease=0.0,\n",
       "                                          min_impurity_split=None,\n",
       "                                          min_samples_leaf=1,\n",
       "                                          min_samples_split=2,\n",
       "                                          min_weight_fraction_leaf=0.0,\n",
       "                                          random_state=None,\n",
       "                                          splitter='random'),\n",
       "             iid='warn', n_jobs=None,\n",
       "             param_grid={'criterion': ['mse', 'mae'], 'max_depth': [2, 6, 8],\n",
       "                         'max_leaf_nodes': [5, 20, 100],\n",
       "                         'min_samples_leaf': [20, 40, 100],\n",
       "                         'min_samples_split': [10, 20, 40]},\n",
       "             pre_dispatch='2*n_jobs', refit=True, return_train_score=False,\n",
       "             scoring=None, verbose=0)"
      ]
     },
     "execution_count": 338,
     "metadata": {},
     "output_type": "execute_result"
    }
   ],
   "source": [
    "from sklearn.model_selection import GridSearchCV\n",
    "grid_cv_et = GridSearchCV(et,param_grid=params,cv=5)\n",
    "grid_cv_et.fit(X,y)"
   ]
  },
  {
   "cell_type": "code",
   "execution_count": 339,
   "metadata": {},
   "outputs": [
    {
     "name": "stdout",
     "output_type": "stream",
     "text": [
      "{'criterion': 'mse', 'max_depth': 8, 'max_leaf_nodes': 20, 'min_samples_leaf': 40, 'min_samples_split': 10}\n"
     ]
    }
   ],
   "source": [
    "print(grid_cv_et.best_params_)"
   ]
  },
  {
   "cell_type": "code",
   "execution_count": 340,
   "metadata": {},
   "outputs": [],
   "source": [
    "et_reg1 = ExtraTreeRegressor(**grid_cv_et.best_params_)\n",
    "et_reg1.fit(xtrain,ytrain)\n",
    "y_pred_et = et_reg1.predict(xtest)"
   ]
  },
  {
   "cell_type": "code",
   "execution_count": 341,
   "metadata": {},
   "outputs": [
    {
     "name": "stdout",
     "output_type": "stream",
     "text": [
      "R2_Score of Train:  0.13637751541900345\n",
      "R2_Score of Test:  0.09798272338491498\n",
      "mean_absolute_error 111589.2589656146\n",
      "mean_absolute_percentage_error 48.295732239299035\n",
      "RMSE 208671.51094628102\n"
     ]
    }
   ],
   "source": [
    "print('R2_Score of Train: ',et_reg1.score(xtrain,ytrain))\n",
    "print('R2_Score of Test: ',et_reg1.score(xtest,ytest))\n",
    "print('mean_absolute_error',mean_absolute_error(ytest,y_pred_et))\n",
    "print('mean_absolute_percentage_error',mean_absolute_percentage_error(ytest,y_pred_et))\n",
    "print('RMSE',np.sqrt(mean_squared_error(ytest,y_pred_et)))\n",
    "train.append(et_reg1.score(xtrain,ytrain))\n",
    "test.append(et_reg1.score(xtest,ytest))\n",
    "mae.append(mean_absolute_error(ytest,y_pred_et))\n",
    "mape.append(mean_absolute_percentage_error(ytest,y_pred_et))\n",
    "rmse.append(np.sqrt(mean_squared_error(ytest,y_pred_et)))"
   ]
  },
  {
   "cell_type": "markdown",
   "metadata": {},
   "source": [
    "## Extra Trees Regressor:"
   ]
  },
  {
   "cell_type": "code",
   "execution_count": 342,
   "metadata": {},
   "outputs": [
    {
     "data": {
      "text/plain": [
       "ExtraTreesRegressor(bootstrap=False, criterion='mse', max_depth=None,\n",
       "                    max_features='auto', max_leaf_nodes=None,\n",
       "                    min_impurity_decrease=0.0, min_impurity_split=None,\n",
       "                    min_samples_leaf=1, min_samples_split=2,\n",
       "                    min_weight_fraction_leaf=0.0, n_estimators=10, n_jobs=None,\n",
       "                    oob_score=False, random_state=None, verbose=0,\n",
       "                    warm_start=False)"
      ]
     },
     "execution_count": 342,
     "metadata": {},
     "output_type": "execute_result"
    }
   ],
   "source": [
    "etr.fit(xtrain,ytrain)"
   ]
  },
  {
   "cell_type": "code",
   "execution_count": 343,
   "metadata": {},
   "outputs": [],
   "source": [
    "y_pred = etr.predict(xtest)"
   ]
  },
  {
   "cell_type": "code",
   "execution_count": 344,
   "metadata": {},
   "outputs": [
    {
     "name": "stdout",
     "output_type": "stream",
     "text": [
      "R2_Score of Train:  1.0\n",
      "R2_Score of Test:  0.11231637706608533\n"
     ]
    }
   ],
   "source": [
    "print('R2_Score of Train: ',etr.score(xtrain,ytrain))\n",
    "train.append(etr.score(xtrain,ytrain))\n",
    "print('R2_Score of Test: ',etr.score(xtest,ytest))\n",
    "test.append(etr.score(xtest,ytest))"
   ]
  },
  {
   "cell_type": "code",
   "execution_count": 345,
   "metadata": {},
   "outputs": [
    {
     "name": "stdout",
     "output_type": "stream",
     "text": [
      "107167.5\n",
      "45.50853596850012\n",
      "207006.90709088268\n"
     ]
    }
   ],
   "source": [
    "for i in metrics:\n",
    "    print(i(ytest,y_pred))\n",
    "    if i == mean_absolute_error:\n",
    "        mae.append(i(ytest,y_pred))\n",
    "    elif i == mean_absolute_percentage_error:\n",
    "        mape.append(i(ytest,y_pred))\n",
    "    else:\n",
    "        rmse.append(i(ytest,y_pred))"
   ]
  },
  {
   "cell_type": "markdown",
   "metadata": {},
   "source": [
    "## Bagging Regressor:"
   ]
  },
  {
   "cell_type": "code",
   "execution_count": 346,
   "metadata": {},
   "outputs": [
    {
     "data": {
      "text/plain": [
       "BaggingRegressor(base_estimator=None, bootstrap=True, bootstrap_features=False,\n",
       "                 max_features=1.0, max_samples=1.0, n_estimators=10,\n",
       "                 n_jobs=None, oob_score=False, random_state=None, verbose=0,\n",
       "                 warm_start=False)"
      ]
     },
     "execution_count": 346,
     "metadata": {},
     "output_type": "execute_result"
    }
   ],
   "source": [
    "br.fit(xtrain,ytrain)"
   ]
  },
  {
   "cell_type": "code",
   "execution_count": 347,
   "metadata": {},
   "outputs": [],
   "source": [
    "y_pred = br.predict(xtest)"
   ]
  },
  {
   "cell_type": "code",
   "execution_count": 348,
   "metadata": {},
   "outputs": [
    {
     "name": "stdout",
     "output_type": "stream",
     "text": [
      "R2_Score of Train:  0.845213050708886\n",
      "R2_Score of Test:  0.10498501459569498\n"
     ]
    }
   ],
   "source": [
    "print('R2_Score of Train: ',br.score(xtrain,ytrain))\n",
    "train.append(br.score(xtrain,ytrain))\n",
    "print('R2_Score of Test: ',br.score(xtest,ytest))\n",
    "test.append(br.score(xtest,ytest))"
   ]
  },
  {
   "cell_type": "code",
   "execution_count": 349,
   "metadata": {},
   "outputs": [
    {
     "name": "stdout",
     "output_type": "stream",
     "text": [
      "108014.58333333333\n",
      "46.93371392253313\n",
      "207859.9824200576\n"
     ]
    }
   ],
   "source": [
    "for i in metrics:\n",
    "    print(i(ytest,y_pred))\n",
    "    if i == mean_absolute_error:\n",
    "        mae.append(i(ytest,y_pred))\n",
    "    elif i == mean_absolute_percentage_error:\n",
    "        mape.append(i(ytest,y_pred))\n",
    "    else:\n",
    "        rmse.append(i(ytest,y_pred))"
   ]
  },
  {
   "cell_type": "markdown",
   "metadata": {},
   "source": [
    "## GradientBoostingRegressor"
   ]
  },
  {
   "cell_type": "code",
   "execution_count": 350,
   "metadata": {},
   "outputs": [
    {
     "data": {
      "text/plain": [
       "GradientBoostingRegressor(alpha=0.9, criterion='friedman_mse', init=None,\n",
       "                          learning_rate=0.1, loss='ls', max_depth=3,\n",
       "                          max_features=None, max_leaf_nodes=None,\n",
       "                          min_impurity_decrease=0.0, min_impurity_split=None,\n",
       "                          min_samples_leaf=1, min_samples_split=2,\n",
       "                          min_weight_fraction_leaf=0.0, n_estimators=100,\n",
       "                          n_iter_no_change=None, presort='auto',\n",
       "                          random_state=None, subsample=1.0, tol=0.0001,\n",
       "                          validation_fraction=0.1, verbose=0, warm_start=False)"
      ]
     },
     "execution_count": 350,
     "metadata": {},
     "output_type": "execute_result"
    }
   ],
   "source": [
    "gbr.fit(xtrain,ytrain)"
   ]
  },
  {
   "cell_type": "code",
   "execution_count": 351,
   "metadata": {},
   "outputs": [],
   "source": [
    "y_pred = gbr.predict(xtest)"
   ]
  },
  {
   "cell_type": "code",
   "execution_count": 352,
   "metadata": {},
   "outputs": [
    {
     "name": "stdout",
     "output_type": "stream",
     "text": [
      "R2_Score of Train:  0.6543448180421076\n",
      "R2_Score of Test:  0.2320137441382103\n"
     ]
    }
   ],
   "source": [
    "print('R2_Score of Train: ',gbr.score(xtrain,ytrain))\n",
    "train.append(gbr.score(xtrain,ytrain))\n",
    "print('R2_Score of Test: ',gbr.score(xtest,ytest))\n",
    "test.append(gbr.score(xtest,ytest))"
   ]
  },
  {
   "cell_type": "code",
   "execution_count": 353,
   "metadata": {},
   "outputs": [
    {
     "name": "stdout",
     "output_type": "stream",
     "text": [
      "95236.75086963177\n",
      "41.662978960875805\n",
      "192545.09369769273\n"
     ]
    }
   ],
   "source": [
    "for i in metrics:\n",
    "    print(i(ytest,y_pred))\n",
    "    if i == mean_absolute_error:\n",
    "        mae.append(i(ytest,y_pred))\n",
    "    elif i == mean_absolute_percentage_error:\n",
    "        mape.append(i(ytest,y_pred))\n",
    "    else:\n",
    "        rmse.append(i(ytest,y_pred))"
   ]
  },
  {
   "cell_type": "markdown",
   "metadata": {},
   "source": [
    "#### Gradient Boosting Regressor Hyperparameter Tuning:"
   ]
  },
  {
   "cell_type": "code",
   "execution_count": 354,
   "metadata": {},
   "outputs": [],
   "source": [
    "params = {\"loss\": ['ls', 'lad', 'huber', 'quantile'],\n",
    "              \"min_samples_split\": [10, 20, 40],\n",
    "              \"max_depth\": [2, 6, 8],\n",
    "              \"min_samples_leaf\": [20, 40, 100],\n",
    "              \"max_leaf_nodes\": [5, 20, 100]\n",
    "              }"
   ]
  },
  {
   "cell_type": "code",
   "execution_count": 355,
   "metadata": {},
   "outputs": [
    {
     "data": {
      "text/plain": [
       "GridSearchCV(cv=5, error_score='raise-deprecating',\n",
       "             estimator=GradientBoostingRegressor(alpha=0.9,\n",
       "                                                 criterion='friedman_mse',\n",
       "                                                 init=None, learning_rate=0.1,\n",
       "                                                 loss='ls', max_depth=3,\n",
       "                                                 max_features=None,\n",
       "                                                 max_leaf_nodes=None,\n",
       "                                                 min_impurity_decrease=0.0,\n",
       "                                                 min_impurity_split=None,\n",
       "                                                 min_samples_leaf=1,\n",
       "                                                 min_samples_split=2,\n",
       "                                                 min_weight_fraction_leaf=0.0,\n",
       "                                                 n_estimators=100,\n",
       "                                                 n_iter...\n",
       "                                                 random_state=None,\n",
       "                                                 subsample=1.0, tol=0.0001,\n",
       "                                                 validation_fraction=0.1,\n",
       "                                                 verbose=0, warm_start=False),\n",
       "             iid='warn', n_jobs=None,\n",
       "             param_grid={'loss': ['ls', 'lad', 'huber', 'quantile'],\n",
       "                         'max_depth': [2, 6, 8], 'max_leaf_nodes': [5, 20, 100],\n",
       "                         'min_samples_leaf': [20, 40, 100],\n",
       "                         'min_samples_split': [10, 20, 40]},\n",
       "             pre_dispatch='2*n_jobs', refit=True, return_train_score=False,\n",
       "             scoring=None, verbose=0)"
      ]
     },
     "execution_count": 355,
     "metadata": {},
     "output_type": "execute_result"
    }
   ],
   "source": [
    "grid_cv_gbr = GridSearchCV(gbr,param_grid=params,cv=5)\n",
    "grid_cv_gbr.fit(X,y)"
   ]
  },
  {
   "cell_type": "code",
   "execution_count": 356,
   "metadata": {},
   "outputs": [
    {
     "name": "stdout",
     "output_type": "stream",
     "text": [
      "{'loss': 'huber', 'max_depth': 6, 'max_leaf_nodes': 100, 'min_samples_leaf': 20, 'min_samples_split': 20}\n"
     ]
    }
   ],
   "source": [
    "print(grid_cv_gbr.best_params_)"
   ]
  },
  {
   "cell_type": "code",
   "execution_count": 357,
   "metadata": {},
   "outputs": [],
   "source": [
    "gbr_reg1 = GradientBoostingRegressor(**grid_cv_gbr.best_params_)\n",
    "gbr_reg1.fit(xtrain,ytrain)\n",
    "y_pred_gbr = gbr_reg1.predict(xtest)"
   ]
  },
  {
   "cell_type": "code",
   "execution_count": 358,
   "metadata": {},
   "outputs": [
    {
     "name": "stdout",
     "output_type": "stream",
     "text": [
      "R2_Score of Train:  0.39297597010939445\n",
      "R2_Score of Test:  0.2584644023455722\n",
      "mean_absolute_error 87769.62424658678\n",
      "mean_absolute_percentage_error 35.08511291492871\n",
      "RMSE 189200.26264585945\n"
     ]
    }
   ],
   "source": [
    "print('R2_Score of Train: ',gbr_reg1.score(xtrain,ytrain))\n",
    "print('R2_Score of Test: ',gbr_reg1.score(xtest,ytest))\n",
    "print('mean_absolute_error',mean_absolute_error(ytest,y_pred_gbr))\n",
    "print('mean_absolute_percentage_error',mean_absolute_percentage_error(ytest,y_pred_gbr))\n",
    "print('RMSE',np.sqrt(mean_squared_error(ytest,y_pred_gbr)))\n",
    "train.append(gbr_reg1.score(xtrain,ytrain))\n",
    "test.append(gbr_reg1.score(xtest,ytest))\n",
    "mae.append(mean_absolute_error(ytest,y_pred_gbr))\n",
    "mape.append(mean_absolute_percentage_error(ytest,y_pred_gbr))\n",
    "rmse.append(np.sqrt(mean_squared_error(ytest,y_pred_gbr)))"
   ]
  },
  {
   "cell_type": "markdown",
   "metadata": {},
   "source": [
    "## XGBoost:"
   ]
  },
  {
   "cell_type": "code",
   "execution_count": 359,
   "metadata": {},
   "outputs": [
    {
     "name": "stdout",
     "output_type": "stream",
     "text": [
      "[07:07:45] WARNING: C:/Jenkins/workspace/xgboost-win64_release_0.90/src/objective/regression_obj.cu:152: reg:linear is now deprecated in favor of reg:squarederror.\n"
     ]
    },
    {
     "data": {
      "text/plain": [
       "XGBRegressor(base_score=0.5, booster='gbtree', colsample_bylevel=1,\n",
       "             colsample_bynode=1, colsample_bytree=1, gamma=0,\n",
       "             importance_type='gain', learning_rate=0.1, max_delta_step=0,\n",
       "             max_depth=3, min_child_weight=1, missing=None, n_estimators=100,\n",
       "             n_jobs=1, nthread=None, objective='reg:linear', random_state=0,\n",
       "             reg_alpha=0, reg_lambda=1, scale_pos_weight=1, seed=None,\n",
       "             silent=None, subsample=1, verbosity=1)"
      ]
     },
     "execution_count": 359,
     "metadata": {},
     "output_type": "execute_result"
    }
   ],
   "source": [
    "xgb.fit(xtrain,ytrain)"
   ]
  },
  {
   "cell_type": "code",
   "execution_count": 360,
   "metadata": {},
   "outputs": [],
   "source": [
    "y_pred = xgb.predict(xtest)"
   ]
  },
  {
   "cell_type": "code",
   "execution_count": 361,
   "metadata": {},
   "outputs": [
    {
     "name": "stdout",
     "output_type": "stream",
     "text": [
      "R2_Score of Train:  0.5715000068576661\n",
      "R2_Score of Test:  0.2663477716295395\n"
     ]
    }
   ],
   "source": [
    "print('R2_Score of Train: ',xgb.score(xtrain,ytrain))\n",
    "train.append(xgb.score(xtrain,ytrain))\n",
    "print('R2_Score of Test: ',xgb.score(xtest,ytest))\n",
    "test.append(xgb.score(xtest,ytest))"
   ]
  },
  {
   "cell_type": "code",
   "execution_count": 362,
   "metadata": {},
   "outputs": [
    {
     "name": "stdout",
     "output_type": "stream",
     "text": [
      "93554.38861328125\n",
      "40.55572896097554\n",
      "188191.86808072616\n"
     ]
    }
   ],
   "source": [
    "for i in metrics:\n",
    "    print(i(ytest,y_pred))\n",
    "    if i == mean_absolute_error:\n",
    "        mae.append(i(ytest,y_pred))\n",
    "    elif i == mean_absolute_percentage_error:\n",
    "        mape.append(i(ytest,y_pred))\n",
    "    else:\n",
    "        rmse.append(i(ytest,y_pred))"
   ]
  },
  {
   "cell_type": "code",
   "execution_count": 363,
   "metadata": {},
   "outputs": [],
   "source": [
    "Models = ['Linear Regression Base Model','Linear Regression FFS','Decision Tree Regressor FFS','DecisionTree FFS Tuned','Random Forest Regressor FFS',\n",
    "         'Extra Tree Regressor FFS','ExtraTree FFS Tuned','Extra Trees Regressor FFS','Bagging Regressor FFS','Gradient Boosting Regressor FFS','GradientBoost FFS Tuned','XGBoost Regressor FFS',\n",
    "          'Linear Regression BFS','Decision Tree Regressor BFS','DecisionTree BFS Tuned','Random Forest Regressor BFS',\n",
    "         'Extra Tree Regressor BFS','ExtraTree BFS Tuned','Extra Trees Regressor BFS','Bagging Regressor BFS','Gradient Boosting Regressor BFS','GradientBoost BFS Tuned','XGBoost Regressor BFS',\n",
    "         'Linear Regression With PCA','Decision Tree Regressor With PCA','DecisionTree with PCA Tuned','Random Forest Regressor With PCA',\n",
    "         'Extra Tree Regressor With PCA','ExtraTree With PCA Tuned','Extra Trees Regressor With PCA','Bagging Regressor With PCA','Gradient Boosting Regressor With PCA','GradientBoost with PCA Tuned','XGBoost Regressor with PCA']"
   ]
  },
  {
   "cell_type": "code",
   "execution_count": 364,
   "metadata": {},
   "outputs": [
    {
     "name": "stdout",
     "output_type": "stream",
     "text": [
      "34 34 34 34 34 34\n"
     ]
    }
   ],
   "source": [
    "print(len(train),len(test),len(mae),len(mape),len(rmse),len(Models))"
   ]
  },
  {
   "cell_type": "code",
   "execution_count": 365,
   "metadata": {},
   "outputs": [
    {
     "data": {
      "text/html": [
       "<div>\n",
       "<style scoped>\n",
       "    .dataframe tbody tr th:only-of-type {\n",
       "        vertical-align: middle;\n",
       "    }\n",
       "\n",
       "    .dataframe tbody tr th {\n",
       "        vertical-align: top;\n",
       "    }\n",
       "\n",
       "    .dataframe thead th {\n",
       "        text-align: right;\n",
       "    }\n",
       "</style>\n",
       "<table border=\"1\" class=\"dataframe\">\n",
       "  <thead>\n",
       "    <tr style=\"text-align: right;\">\n",
       "      <th></th>\n",
       "      <th>Models</th>\n",
       "      <th>Train</th>\n",
       "      <th>Test</th>\n",
       "      <th>Mean_absolute_error</th>\n",
       "      <th>mean_absolute_percentage_error</th>\n",
       "      <th>RMSE</th>\n",
       "    </tr>\n",
       "  </thead>\n",
       "  <tbody>\n",
       "    <tr>\n",
       "      <th>0</th>\n",
       "      <td>Linear Regression Base Model</td>\n",
       "      <td>0.213996</td>\n",
       "      <td>0.239097</td>\n",
       "      <td>95219.544476</td>\n",
       "      <td>40.839484</td>\n",
       "      <td>191655.057275</td>\n",
       "    </tr>\n",
       "    <tr>\n",
       "      <th>1</th>\n",
       "      <td>Linear Regression FFS</td>\n",
       "      <td>0.211051</td>\n",
       "      <td>0.245060</td>\n",
       "      <td>94069.893994</td>\n",
       "      <td>40.452273</td>\n",
       "      <td>190902.708759</td>\n",
       "    </tr>\n",
       "    <tr>\n",
       "      <th>2</th>\n",
       "      <td>Decision Tree Regressor FFS</td>\n",
       "      <td>1.000000</td>\n",
       "      <td>-0.396421</td>\n",
       "      <td>131442.500000</td>\n",
       "      <td>52.346216</td>\n",
       "      <td>259635.435114</td>\n",
       "    </tr>\n",
       "    <tr>\n",
       "      <th>3</th>\n",
       "      <td>DecisionTree FFS Tuned</td>\n",
       "      <td>0.216135</td>\n",
       "      <td>0.180913</td>\n",
       "      <td>96827.916667</td>\n",
       "      <td>38.803699</td>\n",
       "      <td>198847.732260</td>\n",
       "    </tr>\n",
       "    <tr>\n",
       "      <th>4</th>\n",
       "      <td>Random Forest Regressor FFS</td>\n",
       "      <td>0.815215</td>\n",
       "      <td>0.051497</td>\n",
       "      <td>110240.416667</td>\n",
       "      <td>47.091212</td>\n",
       "      <td>213980.938111</td>\n",
       "    </tr>\n",
       "    <tr>\n",
       "      <th>5</th>\n",
       "      <td>Extra Tree Regressor FFS</td>\n",
       "      <td>1.000000</td>\n",
       "      <td>-0.530269</td>\n",
       "      <td>139534.166667</td>\n",
       "      <td>56.950067</td>\n",
       "      <td>271793.841910</td>\n",
       "    </tr>\n",
       "    <tr>\n",
       "      <th>6</th>\n",
       "      <td>ExtraTree FFS Tuned</td>\n",
       "      <td>0.206222</td>\n",
       "      <td>0.173596</td>\n",
       "      <td>99473.362830</td>\n",
       "      <td>41.699628</td>\n",
       "      <td>199733.942230</td>\n",
       "    </tr>\n",
       "    <tr>\n",
       "      <th>7</th>\n",
       "      <td>Extra Trees Regressor FFS</td>\n",
       "      <td>1.000000</td>\n",
       "      <td>0.150519</td>\n",
       "      <td>102857.083333</td>\n",
       "      <td>44.455648</td>\n",
       "      <td>202503.540607</td>\n",
       "    </tr>\n",
       "    <tr>\n",
       "      <th>8</th>\n",
       "      <td>Bagging Regressor FFS</td>\n",
       "      <td>0.806974</td>\n",
       "      <td>0.172305</td>\n",
       "      <td>102452.500000</td>\n",
       "      <td>43.353721</td>\n",
       "      <td>199889.945762</td>\n",
       "    </tr>\n",
       "    <tr>\n",
       "      <th>9</th>\n",
       "      <td>Gradient Boosting Regressor FFS</td>\n",
       "      <td>0.616695</td>\n",
       "      <td>0.167412</td>\n",
       "      <td>95454.222536</td>\n",
       "      <td>41.846408</td>\n",
       "      <td>200479.830370</td>\n",
       "    </tr>\n",
       "    <tr>\n",
       "      <th>10</th>\n",
       "      <td>GradientBoost FFS Tuned</td>\n",
       "      <td>0.272886</td>\n",
       "      <td>0.247951</td>\n",
       "      <td>88819.893840</td>\n",
       "      <td>35.797995</td>\n",
       "      <td>190536.721640</td>\n",
       "    </tr>\n",
       "    <tr>\n",
       "      <th>11</th>\n",
       "      <td>XGBoost Regressor FFS</td>\n",
       "      <td>0.571649</td>\n",
       "      <td>0.216115</td>\n",
       "      <td>93193.855498</td>\n",
       "      <td>40.237741</td>\n",
       "      <td>194527.852711</td>\n",
       "    </tr>\n",
       "    <tr>\n",
       "      <th>12</th>\n",
       "      <td>Linear Regression BFS</td>\n",
       "      <td>0.210072</td>\n",
       "      <td>0.243734</td>\n",
       "      <td>94660.414633</td>\n",
       "      <td>40.856193</td>\n",
       "      <td>191070.256491</td>\n",
       "    </tr>\n",
       "    <tr>\n",
       "      <th>13</th>\n",
       "      <td>Decision Tree Regressor BFS</td>\n",
       "      <td>1.000000</td>\n",
       "      <td>-0.622950</td>\n",
       "      <td>142025.833333</td>\n",
       "      <td>57.685933</td>\n",
       "      <td>279903.481877</td>\n",
       "    </tr>\n",
       "    <tr>\n",
       "      <th>14</th>\n",
       "      <td>DecisionTree BFS Tuned</td>\n",
       "      <td>0.218429</td>\n",
       "      <td>0.172268</td>\n",
       "      <td>97159.166667</td>\n",
       "      <td>38.436620</td>\n",
       "      <td>199894.349178</td>\n",
       "    </tr>\n",
       "    <tr>\n",
       "      <th>15</th>\n",
       "      <td>Random Forest Regressor BFS</td>\n",
       "      <td>0.852256</td>\n",
       "      <td>0.117902</td>\n",
       "      <td>106360.833333</td>\n",
       "      <td>44.789303</td>\n",
       "      <td>206354.548250</td>\n",
       "    </tr>\n",
       "    <tr>\n",
       "      <th>16</th>\n",
       "      <td>Extra Tree Regressor BFS</td>\n",
       "      <td>1.000000</td>\n",
       "      <td>-0.617915</td>\n",
       "      <td>142663.333333</td>\n",
       "      <td>55.720943</td>\n",
       "      <td>279468.939836</td>\n",
       "    </tr>\n",
       "    <tr>\n",
       "      <th>17</th>\n",
       "      <td>ExtraTree BFS Tuned</td>\n",
       "      <td>0.131237</td>\n",
       "      <td>0.145054</td>\n",
       "      <td>106520.066733</td>\n",
       "      <td>45.494722</td>\n",
       "      <td>203153.898458</td>\n",
       "    </tr>\n",
       "    <tr>\n",
       "      <th>18</th>\n",
       "      <td>Extra Trees Regressor BFS</td>\n",
       "      <td>1.000000</td>\n",
       "      <td>0.139680</td>\n",
       "      <td>104840.833333</td>\n",
       "      <td>44.108444</td>\n",
       "      <td>203791.316874</td>\n",
       "    </tr>\n",
       "    <tr>\n",
       "      <th>19</th>\n",
       "      <td>Bagging Regressor BFS</td>\n",
       "      <td>0.828858</td>\n",
       "      <td>0.106163</td>\n",
       "      <td>108160.000000</td>\n",
       "      <td>46.530996</td>\n",
       "      <td>207723.162125</td>\n",
       "    </tr>\n",
       "    <tr>\n",
       "      <th>20</th>\n",
       "      <td>Gradient Boosting Regressor BFS</td>\n",
       "      <td>0.583018</td>\n",
       "      <td>0.203048</td>\n",
       "      <td>94368.969966</td>\n",
       "      <td>40.590252</td>\n",
       "      <td>196142.516027</td>\n",
       "    </tr>\n",
       "    <tr>\n",
       "      <th>21</th>\n",
       "      <td>GradientBoost BFS Tuned</td>\n",
       "      <td>0.266338</td>\n",
       "      <td>0.239344</td>\n",
       "      <td>89735.081861</td>\n",
       "      <td>36.516746</td>\n",
       "      <td>191623.983068</td>\n",
       "    </tr>\n",
       "    <tr>\n",
       "      <th>22</th>\n",
       "      <td>XGBoost Regressor BFS</td>\n",
       "      <td>0.530192</td>\n",
       "      <td>0.232905</td>\n",
       "      <td>93128.157923</td>\n",
       "      <td>39.542646</td>\n",
       "      <td>192433.361935</td>\n",
       "    </tr>\n",
       "    <tr>\n",
       "      <th>23</th>\n",
       "      <td>Linear Regression With PCA</td>\n",
       "      <td>0.211311</td>\n",
       "      <td>0.239791</td>\n",
       "      <td>94956.796617</td>\n",
       "      <td>40.854029</td>\n",
       "      <td>191567.733604</td>\n",
       "    </tr>\n",
       "    <tr>\n",
       "      <th>24</th>\n",
       "      <td>Decision Tree Regressor With PCA</td>\n",
       "      <td>1.000000</td>\n",
       "      <td>-1.102463</td>\n",
       "      <td>147130.000000</td>\n",
       "      <td>59.446657</td>\n",
       "      <td>318581.028416</td>\n",
       "    </tr>\n",
       "    <tr>\n",
       "      <th>25</th>\n",
       "      <td>DecisionTree with PCA Tuned</td>\n",
       "      <td>0.147686</td>\n",
       "      <td>0.136423</td>\n",
       "      <td>100786.250000</td>\n",
       "      <td>40.385925</td>\n",
       "      <td>204176.684618</td>\n",
       "    </tr>\n",
       "    <tr>\n",
       "      <th>26</th>\n",
       "      <td>Random Forest Regressor With PCA</td>\n",
       "      <td>0.856143</td>\n",
       "      <td>0.000147</td>\n",
       "      <td>112936.666667</td>\n",
       "      <td>48.068605</td>\n",
       "      <td>219696.828038</td>\n",
       "    </tr>\n",
       "    <tr>\n",
       "      <th>27</th>\n",
       "      <td>Extra Tree Regressor With PCA</td>\n",
       "      <td>1.000000</td>\n",
       "      <td>-1.184220</td>\n",
       "      <td>158021.666667</td>\n",
       "      <td>63.457857</td>\n",
       "      <td>324716.140139</td>\n",
       "    </tr>\n",
       "    <tr>\n",
       "      <th>28</th>\n",
       "      <td>ExtraTree With PCA Tuned</td>\n",
       "      <td>0.136378</td>\n",
       "      <td>0.097983</td>\n",
       "      <td>111589.258966</td>\n",
       "      <td>48.295732</td>\n",
       "      <td>208671.510946</td>\n",
       "    </tr>\n",
       "    <tr>\n",
       "      <th>29</th>\n",
       "      <td>Extra Trees Regressor With PCA</td>\n",
       "      <td>1.000000</td>\n",
       "      <td>0.112316</td>\n",
       "      <td>107167.500000</td>\n",
       "      <td>45.508536</td>\n",
       "      <td>207006.907091</td>\n",
       "    </tr>\n",
       "    <tr>\n",
       "      <th>30</th>\n",
       "      <td>Bagging Regressor With PCA</td>\n",
       "      <td>0.845213</td>\n",
       "      <td>0.104985</td>\n",
       "      <td>108014.583333</td>\n",
       "      <td>46.933714</td>\n",
       "      <td>207859.982420</td>\n",
       "    </tr>\n",
       "    <tr>\n",
       "      <th>31</th>\n",
       "      <td>Gradient Boosting Regressor With PCA</td>\n",
       "      <td>0.654345</td>\n",
       "      <td>0.232014</td>\n",
       "      <td>95236.750870</td>\n",
       "      <td>41.662979</td>\n",
       "      <td>192545.093698</td>\n",
       "    </tr>\n",
       "    <tr>\n",
       "      <th>32</th>\n",
       "      <td>GradientBoost with PCA Tuned</td>\n",
       "      <td>0.392976</td>\n",
       "      <td>0.258464</td>\n",
       "      <td>87769.624247</td>\n",
       "      <td>35.085113</td>\n",
       "      <td>189200.262646</td>\n",
       "    </tr>\n",
       "    <tr>\n",
       "      <th>33</th>\n",
       "      <td>XGBoost Regressor with PCA</td>\n",
       "      <td>0.571500</td>\n",
       "      <td>0.266348</td>\n",
       "      <td>93554.388613</td>\n",
       "      <td>40.555729</td>\n",
       "      <td>188191.868081</td>\n",
       "    </tr>\n",
       "  </tbody>\n",
       "</table>\n",
       "</div>"
      ],
      "text/plain": [
       "                                  Models     Train      Test  \\\n",
       "0           Linear Regression Base Model  0.213996  0.239097   \n",
       "1                  Linear Regression FFS  0.211051  0.245060   \n",
       "2            Decision Tree Regressor FFS  1.000000 -0.396421   \n",
       "3                 DecisionTree FFS Tuned  0.216135  0.180913   \n",
       "4            Random Forest Regressor FFS  0.815215  0.051497   \n",
       "5               Extra Tree Regressor FFS  1.000000 -0.530269   \n",
       "6                    ExtraTree FFS Tuned  0.206222  0.173596   \n",
       "7              Extra Trees Regressor FFS  1.000000  0.150519   \n",
       "8                  Bagging Regressor FFS  0.806974  0.172305   \n",
       "9        Gradient Boosting Regressor FFS  0.616695  0.167412   \n",
       "10               GradientBoost FFS Tuned  0.272886  0.247951   \n",
       "11                 XGBoost Regressor FFS  0.571649  0.216115   \n",
       "12                 Linear Regression BFS  0.210072  0.243734   \n",
       "13           Decision Tree Regressor BFS  1.000000 -0.622950   \n",
       "14                DecisionTree BFS Tuned  0.218429  0.172268   \n",
       "15           Random Forest Regressor BFS  0.852256  0.117902   \n",
       "16              Extra Tree Regressor BFS  1.000000 -0.617915   \n",
       "17                   ExtraTree BFS Tuned  0.131237  0.145054   \n",
       "18             Extra Trees Regressor BFS  1.000000  0.139680   \n",
       "19                 Bagging Regressor BFS  0.828858  0.106163   \n",
       "20       Gradient Boosting Regressor BFS  0.583018  0.203048   \n",
       "21               GradientBoost BFS Tuned  0.266338  0.239344   \n",
       "22                 XGBoost Regressor BFS  0.530192  0.232905   \n",
       "23            Linear Regression With PCA  0.211311  0.239791   \n",
       "24      Decision Tree Regressor With PCA  1.000000 -1.102463   \n",
       "25           DecisionTree with PCA Tuned  0.147686  0.136423   \n",
       "26      Random Forest Regressor With PCA  0.856143  0.000147   \n",
       "27         Extra Tree Regressor With PCA  1.000000 -1.184220   \n",
       "28              ExtraTree With PCA Tuned  0.136378  0.097983   \n",
       "29        Extra Trees Regressor With PCA  1.000000  0.112316   \n",
       "30            Bagging Regressor With PCA  0.845213  0.104985   \n",
       "31  Gradient Boosting Regressor With PCA  0.654345  0.232014   \n",
       "32          GradientBoost with PCA Tuned  0.392976  0.258464   \n",
       "33            XGBoost Regressor with PCA  0.571500  0.266348   \n",
       "\n",
       "    Mean_absolute_error   mean_absolute_percentage_error           RMSE  \n",
       "0          95219.544476                        40.839484  191655.057275  \n",
       "1          94069.893994                        40.452273  190902.708759  \n",
       "2         131442.500000                        52.346216  259635.435114  \n",
       "3          96827.916667                        38.803699  198847.732260  \n",
       "4         110240.416667                        47.091212  213980.938111  \n",
       "5         139534.166667                        56.950067  271793.841910  \n",
       "6          99473.362830                        41.699628  199733.942230  \n",
       "7         102857.083333                        44.455648  202503.540607  \n",
       "8         102452.500000                        43.353721  199889.945762  \n",
       "9          95454.222536                        41.846408  200479.830370  \n",
       "10         88819.893840                        35.797995  190536.721640  \n",
       "11         93193.855498                        40.237741  194527.852711  \n",
       "12         94660.414633                        40.856193  191070.256491  \n",
       "13        142025.833333                        57.685933  279903.481877  \n",
       "14         97159.166667                        38.436620  199894.349178  \n",
       "15        106360.833333                        44.789303  206354.548250  \n",
       "16        142663.333333                        55.720943  279468.939836  \n",
       "17        106520.066733                        45.494722  203153.898458  \n",
       "18        104840.833333                        44.108444  203791.316874  \n",
       "19        108160.000000                        46.530996  207723.162125  \n",
       "20         94368.969966                        40.590252  196142.516027  \n",
       "21         89735.081861                        36.516746  191623.983068  \n",
       "22         93128.157923                        39.542646  192433.361935  \n",
       "23         94956.796617                        40.854029  191567.733604  \n",
       "24        147130.000000                        59.446657  318581.028416  \n",
       "25        100786.250000                        40.385925  204176.684618  \n",
       "26        112936.666667                        48.068605  219696.828038  \n",
       "27        158021.666667                        63.457857  324716.140139  \n",
       "28        111589.258966                        48.295732  208671.510946  \n",
       "29        107167.500000                        45.508536  207006.907091  \n",
       "30        108014.583333                        46.933714  207859.982420  \n",
       "31         95236.750870                        41.662979  192545.093698  \n",
       "32         87769.624247                        35.085113  189200.262646  \n",
       "33         93554.388613                        40.555729  188191.868081  "
      ]
     },
     "execution_count": 365,
     "metadata": {},
     "output_type": "execute_result"
    }
   ],
   "source": [
    "pd.DataFrame({'Models':Models,'Train':train,'Test':test,'Mean_absolute_error':mae,' mean_absolute_percentage_error':mape,'RMSE':rmse})"
   ]
  },
  {
   "cell_type": "code",
   "execution_count": null,
   "metadata": {},
   "outputs": [],
   "source": []
  },
  {
   "cell_type": "code",
   "execution_count": null,
   "metadata": {},
   "outputs": [],
   "source": []
  },
  {
   "cell_type": "code",
   "execution_count": null,
   "metadata": {},
   "outputs": [],
   "source": []
  },
  {
   "cell_type": "code",
   "execution_count": null,
   "metadata": {},
   "outputs": [],
   "source": []
  },
  {
   "cell_type": "code",
   "execution_count": null,
   "metadata": {},
   "outputs": [],
   "source": []
  },
  {
   "cell_type": "markdown",
   "metadata": {},
   "source": [
    "## Classification:"
   ]
  },
  {
   "cell_type": "code",
   "execution_count": null,
   "metadata": {},
   "outputs": [],
   "source": []
  },
  {
   "cell_type": "code",
   "execution_count": null,
   "metadata": {},
   "outputs": [],
   "source": []
  },
  {
   "cell_type": "code",
   "execution_count": null,
   "metadata": {},
   "outputs": [],
   "source": []
  },
  {
   "cell_type": "code",
   "execution_count": null,
   "metadata": {},
   "outputs": [],
   "source": []
  },
  {
   "cell_type": "code",
   "execution_count": 366,
   "metadata": {},
   "outputs": [],
   "source": [
    "#from sklearn.model_selection import GridSearchCV\n",
    "#param_grid = {'criterion': ['gini','entropy'],\n",
    "              #'max_depth': [None,5,10,15],\n",
    "              #'max_features': [None,2,4]}\n",
    "\n",
    "#rf = RandomForestClassifier(n_estimators=200)\n",
    "#rf_grid = GridSearchCV(rf, param_grid, cv=5, scoring='f1_macro')\n",
    "#rf_grid.fit(xtrain, ytrain)"
   ]
  },
  {
   "cell_type": "code",
   "execution_count": null,
   "metadata": {},
   "outputs": [],
   "source": []
  },
  {
   "cell_type": "code",
   "execution_count": 367,
   "metadata": {},
   "outputs": [],
   "source": [
    "df['Salary_Class'] =pd.qcut(df['Salary'],[0, .25, .5, .75, 1.],labels=[\"Low Salary\", \"Medium Salary\", \"High Salary\",\"Very High Salary\"])"
   ]
  },
  {
   "cell_type": "code",
   "execution_count": 368,
   "metadata": {},
   "outputs": [],
   "source": [
    "df['Salary_Class']=le.fit_transform(df['Salary_Class'])"
   ]
  },
  {
   "cell_type": "code",
   "execution_count": 369,
   "metadata": {},
   "outputs": [
    {
     "data": {
      "text/html": [
       "<div>\n",
       "<style scoped>\n",
       "    .dataframe tbody tr th:only-of-type {\n",
       "        vertical-align: middle;\n",
       "    }\n",
       "\n",
       "    .dataframe tbody tr th {\n",
       "        vertical-align: top;\n",
       "    }\n",
       "\n",
       "    .dataframe thead th {\n",
       "        text-align: right;\n",
       "    }\n",
       "</style>\n",
       "<table border=\"1\" class=\"dataframe\">\n",
       "  <thead>\n",
       "    <tr style=\"text-align: right;\">\n",
       "      <th></th>\n",
       "      <th>Salary</th>\n",
       "      <th>Designation</th>\n",
       "      <th>Gender</th>\n",
       "      <th>10percentage</th>\n",
       "      <th>10board</th>\n",
       "      <th>12percentage</th>\n",
       "      <th>12board</th>\n",
       "      <th>CollegeTier</th>\n",
       "      <th>Degree</th>\n",
       "      <th>Specialization</th>\n",
       "      <th>collegeGPA</th>\n",
       "      <th>CollegeCityTier</th>\n",
       "      <th>CollegeState</th>\n",
       "      <th>English</th>\n",
       "      <th>Logical</th>\n",
       "      <th>Quant</th>\n",
       "      <th>Domain</th>\n",
       "      <th>conscientiousness</th>\n",
       "      <th>agreeableness</th>\n",
       "      <th>extraversion</th>\n",
       "      <th>nueroticism</th>\n",
       "      <th>openess_to_experience</th>\n",
       "      <th>Exp</th>\n",
       "      <th>Age</th>\n",
       "      <th>JobRegion</th>\n",
       "      <th>DOB_yr</th>\n",
       "      <th>12Gap</th>\n",
       "      <th>GradGap</th>\n",
       "      <th>Score</th>\n",
       "      <th>Domain_Test</th>\n",
       "      <th>CP</th>\n",
       "      <th>ES</th>\n",
       "      <th>CS</th>\n",
       "      <th>ME</th>\n",
       "      <th>EE</th>\n",
       "      <th>TE</th>\n",
       "      <th>CE</th>\n",
       "      <th>Salary_Class</th>\n",
       "    </tr>\n",
       "  </thead>\n",
       "  <tbody>\n",
       "    <tr>\n",
       "      <th>0</th>\n",
       "      <td>420000</td>\n",
       "      <td>317</td>\n",
       "      <td>0</td>\n",
       "      <td>0.613096</td>\n",
       "      <td>5</td>\n",
       "      <td>95.8</td>\n",
       "      <td>4</td>\n",
       "      <td>2</td>\n",
       "      <td>0</td>\n",
       "      <td>4</td>\n",
       "      <td>78.00</td>\n",
       "      <td>0</td>\n",
       "      <td>0</td>\n",
       "      <td>0.165870</td>\n",
       "      <td>0.966632</td>\n",
       "      <td>0.093821</td>\n",
       "      <td>0.035854</td>\n",
       "      <td>1.020401</td>\n",
       "      <td>0.708645</td>\n",
       "      <td>0.504175</td>\n",
       "      <td>1.475991</td>\n",
       "      <td>-0.481356</td>\n",
       "      <td>1.448317</td>\n",
       "      <td>26.0</td>\n",
       "      <td>11</td>\n",
       "      <td>1990</td>\n",
       "      <td>17</td>\n",
       "      <td>21.0</td>\n",
       "      <td>445.0</td>\n",
       "      <td>1</td>\n",
       "      <td>1</td>\n",
       "      <td>0</td>\n",
       "      <td>0</td>\n",
       "      <td>0</td>\n",
       "      <td>0</td>\n",
       "      <td>0</td>\n",
       "      <td>0</td>\n",
       "      <td>3</td>\n",
       "    </tr>\n",
       "    <tr>\n",
       "      <th>1</th>\n",
       "      <td>500000</td>\n",
       "      <td>17</td>\n",
       "      <td>1</td>\n",
       "      <td>0.749554</td>\n",
       "      <td>0</td>\n",
       "      <td>85.0</td>\n",
       "      <td>0</td>\n",
       "      <td>2</td>\n",
       "      <td>0</td>\n",
       "      <td>6</td>\n",
       "      <td>70.06</td>\n",
       "      <td>0</td>\n",
       "      <td>13</td>\n",
       "      <td>1.760886</td>\n",
       "      <td>1.278848</td>\n",
       "      <td>2.184748</td>\n",
       "      <td>1.400553</td>\n",
       "      <td>-0.741379</td>\n",
       "      <td>0.111546</td>\n",
       "      <td>1.405680</td>\n",
       "      <td>0.093830</td>\n",
       "      <td>1.140996</td>\n",
       "      <td>0.685162</td>\n",
       "      <td>26.0</td>\n",
       "      <td>6</td>\n",
       "      <td>1989</td>\n",
       "      <td>18</td>\n",
       "      <td>23.0</td>\n",
       "      <td>466.0</td>\n",
       "      <td>4</td>\n",
       "      <td>0</td>\n",
       "      <td>1</td>\n",
       "      <td>0</td>\n",
       "      <td>0</td>\n",
       "      <td>0</td>\n",
       "      <td>0</td>\n",
       "      <td>0</td>\n",
       "      <td>3</td>\n",
       "    </tr>\n",
       "    <tr>\n",
       "      <th>2</th>\n",
       "      <td>325000</td>\n",
       "      <td>377</td>\n",
       "      <td>0</td>\n",
       "      <td>0.699565</td>\n",
       "      <td>0</td>\n",
       "      <td>68.2</td>\n",
       "      <td>0</td>\n",
       "      <td>2</td>\n",
       "      <td>0</td>\n",
       "      <td>10</td>\n",
       "      <td>70.00</td>\n",
       "      <td>0</td>\n",
       "      <td>23</td>\n",
       "      <td>1.073985</td>\n",
       "      <td>0.478212</td>\n",
       "      <td>-1.172256</td>\n",
       "      <td>-0.639577</td>\n",
       "      <td>0.209753</td>\n",
       "      <td>2.189992</td>\n",
       "      <td>0.084389</td>\n",
       "      <td>-0.682707</td>\n",
       "      <td>0.849522</td>\n",
       "      <td>0.114042</td>\n",
       "      <td>23.0</td>\n",
       "      <td>9</td>\n",
       "      <td>1992</td>\n",
       "      <td>18</td>\n",
       "      <td>22.0</td>\n",
       "      <td>395.0</td>\n",
       "      <td>1</td>\n",
       "      <td>1</td>\n",
       "      <td>0</td>\n",
       "      <td>0</td>\n",
       "      <td>0</td>\n",
       "      <td>0</td>\n",
       "      <td>0</td>\n",
       "      <td>0</td>\n",
       "      <td>0</td>\n",
       "    </tr>\n",
       "    <tr>\n",
       "      <th>3</th>\n",
       "      <td>1100000</td>\n",
       "      <td>322</td>\n",
       "      <td>1</td>\n",
       "      <td>0.774707</td>\n",
       "      <td>0</td>\n",
       "      <td>83.6</td>\n",
       "      <td>0</td>\n",
       "      <td>1</td>\n",
       "      <td>0</td>\n",
       "      <td>4</td>\n",
       "      <td>74.64</td>\n",
       "      <td>1</td>\n",
       "      <td>4</td>\n",
       "      <td>1.248718</td>\n",
       "      <td>0.966632</td>\n",
       "      <td>0.912774</td>\n",
       "      <td>1.463582</td>\n",
       "      <td>-0.025549</td>\n",
       "      <td>0.068314</td>\n",
       "      <td>-0.446338</td>\n",
       "      <td>-0.208140</td>\n",
       "      <td>-0.886466</td>\n",
       "      <td>1.843818</td>\n",
       "      <td>26.0</td>\n",
       "      <td>5</td>\n",
       "      <td>1989</td>\n",
       "      <td>18</td>\n",
       "      <td>22.0</td>\n",
       "      <td>615.0</td>\n",
       "      <td>1</td>\n",
       "      <td>1</td>\n",
       "      <td>0</td>\n",
       "      <td>0</td>\n",
       "      <td>0</td>\n",
       "      <td>0</td>\n",
       "      <td>0</td>\n",
       "      <td>0</td>\n",
       "      <td>3</td>\n",
       "    </tr>\n",
       "    <tr>\n",
       "      <th>4</th>\n",
       "      <td>200000</td>\n",
       "      <td>133</td>\n",
       "      <td>1</td>\n",
       "      <td>-0.108537</td>\n",
       "      <td>0</td>\n",
       "      <td>76.8</td>\n",
       "      <td>0</td>\n",
       "      <td>2</td>\n",
       "      <td>0</td>\n",
       "      <td>6</td>\n",
       "      <td>73.90</td>\n",
       "      <td>0</td>\n",
       "      <td>23</td>\n",
       "      <td>0.444777</td>\n",
       "      <td>1.468677</td>\n",
       "      <td>-0.396802</td>\n",
       "      <td>-1.646315</td>\n",
       "      <td>-0.864389</td>\n",
       "      <td>-0.617651</td>\n",
       "      <td>-1.118680</td>\n",
       "      <td>0.290198</td>\n",
       "      <td>-0.170162</td>\n",
       "      <td>-0.537912</td>\n",
       "      <td>25.0</td>\n",
       "      <td>5</td>\n",
       "      <td>1991</td>\n",
       "      <td>17</td>\n",
       "      <td>21.0</td>\n",
       "      <td>233.0</td>\n",
       "      <td>4</td>\n",
       "      <td>0</td>\n",
       "      <td>1</td>\n",
       "      <td>0</td>\n",
       "      <td>0</td>\n",
       "      <td>0</td>\n",
       "      <td>0</td>\n",
       "      <td>0</td>\n",
       "      <td>2</td>\n",
       "    </tr>\n",
       "  </tbody>\n",
       "</table>\n",
       "</div>"
      ],
      "text/plain": [
       "    Salary  Designation  Gender  10percentage  10board  12percentage  12board  \\\n",
       "0   420000          317       0      0.613096        5          95.8        4   \n",
       "1   500000           17       1      0.749554        0          85.0        0   \n",
       "2   325000          377       0      0.699565        0          68.2        0   \n",
       "3  1100000          322       1      0.774707        0          83.6        0   \n",
       "4   200000          133       1     -0.108537        0          76.8        0   \n",
       "\n",
       "   CollegeTier  Degree  Specialization  collegeGPA  CollegeCityTier  \\\n",
       "0            2       0               4       78.00                0   \n",
       "1            2       0               6       70.06                0   \n",
       "2            2       0              10       70.00                0   \n",
       "3            1       0               4       74.64                1   \n",
       "4            2       0               6       73.90                0   \n",
       "\n",
       "   CollegeState   English   Logical     Quant    Domain  conscientiousness  \\\n",
       "0             0  0.165870  0.966632  0.093821  0.035854           1.020401   \n",
       "1            13  1.760886  1.278848  2.184748  1.400553          -0.741379   \n",
       "2            23  1.073985  0.478212 -1.172256 -0.639577           0.209753   \n",
       "3             4  1.248718  0.966632  0.912774  1.463582          -0.025549   \n",
       "4            23  0.444777  1.468677 -0.396802 -1.646315          -0.864389   \n",
       "\n",
       "   agreeableness  extraversion  nueroticism  openess_to_experience       Exp  \\\n",
       "0       0.708645      0.504175     1.475991              -0.481356  1.448317   \n",
       "1       0.111546      1.405680     0.093830               1.140996  0.685162   \n",
       "2       2.189992      0.084389    -0.682707               0.849522  0.114042   \n",
       "3       0.068314     -0.446338    -0.208140              -0.886466  1.843818   \n",
       "4      -0.617651     -1.118680     0.290198              -0.170162 -0.537912   \n",
       "\n",
       "    Age  JobRegion  DOB_yr  12Gap  GradGap  Score  Domain_Test  CP  ES  CS  \\\n",
       "0  26.0         11    1990     17     21.0  445.0            1   1   0   0   \n",
       "1  26.0          6    1989     18     23.0  466.0            4   0   1   0   \n",
       "2  23.0          9    1992     18     22.0  395.0            1   1   0   0   \n",
       "3  26.0          5    1989     18     22.0  615.0            1   1   0   0   \n",
       "4  25.0          5    1991     17     21.0  233.0            4   0   1   0   \n",
       "\n",
       "   ME  EE  TE  CE  Salary_Class  \n",
       "0   0   0   0   0             3  \n",
       "1   0   0   0   0             3  \n",
       "2   0   0   0   0             0  \n",
       "3   0   0   0   0             3  \n",
       "4   0   0   0   0             2  "
      ]
     },
     "execution_count": 369,
     "metadata": {},
     "output_type": "execute_result"
    }
   ],
   "source": [
    "df.head()"
   ]
  },
  {
   "cell_type": "code",
   "execution_count": 370,
   "metadata": {},
   "outputs": [],
   "source": [
    "df.drop('Salary',axis=1,inplace=True)\n",
    "X = df.drop('Salary_Class',axis=1)\n",
    "y = df['Salary_Class']"
   ]
  },
  {
   "cell_type": "code",
   "execution_count": 371,
   "metadata": {},
   "outputs": [],
   "source": [
    "from sklearn.model_selection import train_test_split\n",
    "xtrain,xtest,ytrain,ytest = train_test_split(X,y,test_size=0.3,random_state=42)"
   ]
  },
  {
   "cell_type": "code",
   "execution_count": 372,
   "metadata": {},
   "outputs": [],
   "source": [
    "def evaluate_model(model, X, y):\n",
    "    from sklearn import metrics\n",
    "    from sklearn.metrics import confusion_matrix, classification_report,accuracy_score\n",
    "    \n",
    "    ypred = model.predict(X)\n",
    "    cm = metrics.confusion_matrix(y, ypred)\n",
    "    print(cm)\n",
    "    acc = metrics.accuracy_score(y,ypred)\n",
    "    print(acc)"
   ]
  },
  {
   "cell_type": "code",
   "execution_count": 373,
   "metadata": {},
   "outputs": [
    {
     "name": "stdout",
     "output_type": "stream",
     "text": [
      "[[ 77  39  74  66]\n",
      " [ 50 112 110  25]\n",
      " [ 78  99 101  57]\n",
      " [ 63  25  53 171]]\n",
      "0.38416666666666666\n"
     ]
    }
   ],
   "source": [
    "from sklearn.tree import DecisionTreeClassifier\n",
    "dt = DecisionTreeClassifier()\n",
    "dt.fit(xtrain, ytrain)\n",
    "evaluate_model(dt, xtest, ytest)"
   ]
  },
  {
   "cell_type": "code",
   "execution_count": 374,
   "metadata": {},
   "outputs": [
    {
     "name": "stdout",
     "output_type": "stream",
     "text": [
      "[[ 93  21  65  77]\n",
      " [ 17 182  78  20]\n",
      " [ 46 121 105  63]\n",
      " [ 21  19  27 245]]\n",
      "0.5208333333333334\n"
     ]
    }
   ],
   "source": [
    "from sklearn.linear_model import LogisticRegression\n",
    "lr_model = LogisticRegression()\n",
    "lr_model.fit(xtrain,ytrain)\n",
    "evaluate_model(lr_model, xtest, ytest)"
   ]
  },
  {
   "cell_type": "code",
   "execution_count": null,
   "metadata": {},
   "outputs": [],
   "source": []
  },
  {
   "cell_type": "code",
   "execution_count": null,
   "metadata": {},
   "outputs": [],
   "source": []
  }
 ],
 "metadata": {
  "kernelspec": {
   "display_name": "Python 3",
   "language": "python",
   "name": "python3"
  },
  "language_info": {
   "codemirror_mode": {
    "name": "ipython",
    "version": 3
   },
   "file_extension": ".py",
   "mimetype": "text/x-python",
   "name": "python",
   "nbconvert_exporter": "python",
   "pygments_lexer": "ipython3",
   "version": "3.7.3"
  }
 },
 "nbformat": 4,
 "nbformat_minor": 2
}

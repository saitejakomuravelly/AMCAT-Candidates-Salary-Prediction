{
 "cells": [
  {
   "cell_type": "markdown",
   "metadata": {},
   "source": [
    "# PREDICTION OF Revenue and Genre"
   ]
  },
  {
   "cell_type": "markdown",
   "metadata": {},
   "source": [
    "## Libraries"
   ]
  },
  {
   "cell_type": "code",
   "execution_count": 1,
   "metadata": {},
   "outputs": [],
   "source": [
    "import pandas as pd\n",
    "import numpy as np\n",
    "import seaborn as sns\n",
    "import matplotlib.pyplot as plt\n",
    "\n",
    "pd.set_option('display.max_columns',999)\n",
    "pd.set_option('display.max_rows',3998)\n",
    "\n",
    "import warnings\n",
    "warnings.filterwarnings('ignore')"
   ]
  },
  {
   "cell_type": "markdown",
   "metadata": {},
   "source": [
    "## Reading The Data"
   ]
  },
  {
   "cell_type": "code",
   "execution_count": 2,
   "metadata": {},
   "outputs": [],
   "source": [
    "df = pd.read_csv('tmdb_5000_movies.csv')\n",
    "df.drop(['homepage','tagline','overview'],axis=1,inplace=True)  #Dropped the columns which are unnecessary."
   ]
  },
  {
   "cell_type": "code",
   "execution_count": 3,
   "metadata": {
    "scrolled": false
   },
   "outputs": [
    {
     "data": {
      "text/html": [
       "<div>\n",
       "<style scoped>\n",
       "    .dataframe tbody tr th:only-of-type {\n",
       "        vertical-align: middle;\n",
       "    }\n",
       "\n",
       "    .dataframe tbody tr th {\n",
       "        vertical-align: top;\n",
       "    }\n",
       "\n",
       "    .dataframe thead th {\n",
       "        text-align: right;\n",
       "    }\n",
       "</style>\n",
       "<table border=\"1\" class=\"dataframe\">\n",
       "  <thead>\n",
       "    <tr style=\"text-align: right;\">\n",
       "      <th></th>\n",
       "      <th>budget</th>\n",
       "      <th>genres</th>\n",
       "      <th>id</th>\n",
       "      <th>keywords</th>\n",
       "      <th>original_language</th>\n",
       "      <th>original_title</th>\n",
       "      <th>popularity</th>\n",
       "      <th>production_companies</th>\n",
       "      <th>production_countries</th>\n",
       "      <th>release_date</th>\n",
       "      <th>revenue</th>\n",
       "      <th>runtime</th>\n",
       "      <th>spoken_languages</th>\n",
       "      <th>status</th>\n",
       "      <th>title</th>\n",
       "      <th>vote_average</th>\n",
       "      <th>vote_count</th>\n",
       "    </tr>\n",
       "  </thead>\n",
       "  <tbody>\n",
       "    <tr>\n",
       "      <th>0</th>\n",
       "      <td>237000000</td>\n",
       "      <td>[{\"id\": 28, \"name\": \"Action\"}, {\"id\": 12, \"nam...</td>\n",
       "      <td>19995</td>\n",
       "      <td>[{\"id\": 1463, \"name\": \"culture clash\"}, {\"id\":...</td>\n",
       "      <td>en</td>\n",
       "      <td>Avatar</td>\n",
       "      <td>150.437577</td>\n",
       "      <td>[{\"name\": \"Ingenious Film Partners\", \"id\": 289...</td>\n",
       "      <td>[{\"iso_3166_1\": \"US\", \"name\": \"United States o...</td>\n",
       "      <td>2009-12-10</td>\n",
       "      <td>2787965087</td>\n",
       "      <td>162.0</td>\n",
       "      <td>[{\"iso_639_1\": \"en\", \"name\": \"English\"}, {\"iso...</td>\n",
       "      <td>Released</td>\n",
       "      <td>Avatar</td>\n",
       "      <td>7.2</td>\n",
       "      <td>11800</td>\n",
       "    </tr>\n",
       "    <tr>\n",
       "      <th>1</th>\n",
       "      <td>300000000</td>\n",
       "      <td>[{\"id\": 12, \"name\": \"Adventure\"}, {\"id\": 14, \"...</td>\n",
       "      <td>285</td>\n",
       "      <td>[{\"id\": 270, \"name\": \"ocean\"}, {\"id\": 726, \"na...</td>\n",
       "      <td>en</td>\n",
       "      <td>Pirates of the Caribbean: At World's End</td>\n",
       "      <td>139.082615</td>\n",
       "      <td>[{\"name\": \"Walt Disney Pictures\", \"id\": 2}, {\"...</td>\n",
       "      <td>[{\"iso_3166_1\": \"US\", \"name\": \"United States o...</td>\n",
       "      <td>2007-05-19</td>\n",
       "      <td>961000000</td>\n",
       "      <td>169.0</td>\n",
       "      <td>[{\"iso_639_1\": \"en\", \"name\": \"English\"}]</td>\n",
       "      <td>Released</td>\n",
       "      <td>Pirates of the Caribbean: At World's End</td>\n",
       "      <td>6.9</td>\n",
       "      <td>4500</td>\n",
       "    </tr>\n",
       "    <tr>\n",
       "      <th>2</th>\n",
       "      <td>245000000</td>\n",
       "      <td>[{\"id\": 28, \"name\": \"Action\"}, {\"id\": 12, \"nam...</td>\n",
       "      <td>206647</td>\n",
       "      <td>[{\"id\": 470, \"name\": \"spy\"}, {\"id\": 818, \"name...</td>\n",
       "      <td>en</td>\n",
       "      <td>Spectre</td>\n",
       "      <td>107.376788</td>\n",
       "      <td>[{\"name\": \"Columbia Pictures\", \"id\": 5}, {\"nam...</td>\n",
       "      <td>[{\"iso_3166_1\": \"GB\", \"name\": \"United Kingdom\"...</td>\n",
       "      <td>2015-10-26</td>\n",
       "      <td>880674609</td>\n",
       "      <td>148.0</td>\n",
       "      <td>[{\"iso_639_1\": \"fr\", \"name\": \"Fran\\u00e7ais\"},...</td>\n",
       "      <td>Released</td>\n",
       "      <td>Spectre</td>\n",
       "      <td>6.3</td>\n",
       "      <td>4466</td>\n",
       "    </tr>\n",
       "    <tr>\n",
       "      <th>3</th>\n",
       "      <td>250000000</td>\n",
       "      <td>[{\"id\": 28, \"name\": \"Action\"}, {\"id\": 80, \"nam...</td>\n",
       "      <td>49026</td>\n",
       "      <td>[{\"id\": 849, \"name\": \"dc comics\"}, {\"id\": 853,...</td>\n",
       "      <td>en</td>\n",
       "      <td>The Dark Knight Rises</td>\n",
       "      <td>112.312950</td>\n",
       "      <td>[{\"name\": \"Legendary Pictures\", \"id\": 923}, {\"...</td>\n",
       "      <td>[{\"iso_3166_1\": \"US\", \"name\": \"United States o...</td>\n",
       "      <td>2012-07-16</td>\n",
       "      <td>1084939099</td>\n",
       "      <td>165.0</td>\n",
       "      <td>[{\"iso_639_1\": \"en\", \"name\": \"English\"}]</td>\n",
       "      <td>Released</td>\n",
       "      <td>The Dark Knight Rises</td>\n",
       "      <td>7.6</td>\n",
       "      <td>9106</td>\n",
       "    </tr>\n",
       "    <tr>\n",
       "      <th>4</th>\n",
       "      <td>260000000</td>\n",
       "      <td>[{\"id\": 28, \"name\": \"Action\"}, {\"id\": 12, \"nam...</td>\n",
       "      <td>49529</td>\n",
       "      <td>[{\"id\": 818, \"name\": \"based on novel\"}, {\"id\":...</td>\n",
       "      <td>en</td>\n",
       "      <td>John Carter</td>\n",
       "      <td>43.926995</td>\n",
       "      <td>[{\"name\": \"Walt Disney Pictures\", \"id\": 2}]</td>\n",
       "      <td>[{\"iso_3166_1\": \"US\", \"name\": \"United States o...</td>\n",
       "      <td>2012-03-07</td>\n",
       "      <td>284139100</td>\n",
       "      <td>132.0</td>\n",
       "      <td>[{\"iso_639_1\": \"en\", \"name\": \"English\"}]</td>\n",
       "      <td>Released</td>\n",
       "      <td>John Carter</td>\n",
       "      <td>6.1</td>\n",
       "      <td>2124</td>\n",
       "    </tr>\n",
       "  </tbody>\n",
       "</table>\n",
       "</div>"
      ],
      "text/plain": [
       "      budget                                             genres      id  \\\n",
       "0  237000000  [{\"id\": 28, \"name\": \"Action\"}, {\"id\": 12, \"nam...   19995   \n",
       "1  300000000  [{\"id\": 12, \"name\": \"Adventure\"}, {\"id\": 14, \"...     285   \n",
       "2  245000000  [{\"id\": 28, \"name\": \"Action\"}, {\"id\": 12, \"nam...  206647   \n",
       "3  250000000  [{\"id\": 28, \"name\": \"Action\"}, {\"id\": 80, \"nam...   49026   \n",
       "4  260000000  [{\"id\": 28, \"name\": \"Action\"}, {\"id\": 12, \"nam...   49529   \n",
       "\n",
       "                                            keywords original_language  \\\n",
       "0  [{\"id\": 1463, \"name\": \"culture clash\"}, {\"id\":...                en   \n",
       "1  [{\"id\": 270, \"name\": \"ocean\"}, {\"id\": 726, \"na...                en   \n",
       "2  [{\"id\": 470, \"name\": \"spy\"}, {\"id\": 818, \"name...                en   \n",
       "3  [{\"id\": 849, \"name\": \"dc comics\"}, {\"id\": 853,...                en   \n",
       "4  [{\"id\": 818, \"name\": \"based on novel\"}, {\"id\":...                en   \n",
       "\n",
       "                             original_title  popularity  \\\n",
       "0                                    Avatar  150.437577   \n",
       "1  Pirates of the Caribbean: At World's End  139.082615   \n",
       "2                                   Spectre  107.376788   \n",
       "3                     The Dark Knight Rises  112.312950   \n",
       "4                               John Carter   43.926995   \n",
       "\n",
       "                                production_companies  \\\n",
       "0  [{\"name\": \"Ingenious Film Partners\", \"id\": 289...   \n",
       "1  [{\"name\": \"Walt Disney Pictures\", \"id\": 2}, {\"...   \n",
       "2  [{\"name\": \"Columbia Pictures\", \"id\": 5}, {\"nam...   \n",
       "3  [{\"name\": \"Legendary Pictures\", \"id\": 923}, {\"...   \n",
       "4        [{\"name\": \"Walt Disney Pictures\", \"id\": 2}]   \n",
       "\n",
       "                                production_countries release_date     revenue  \\\n",
       "0  [{\"iso_3166_1\": \"US\", \"name\": \"United States o...   2009-12-10  2787965087   \n",
       "1  [{\"iso_3166_1\": \"US\", \"name\": \"United States o...   2007-05-19   961000000   \n",
       "2  [{\"iso_3166_1\": \"GB\", \"name\": \"United Kingdom\"...   2015-10-26   880674609   \n",
       "3  [{\"iso_3166_1\": \"US\", \"name\": \"United States o...   2012-07-16  1084939099   \n",
       "4  [{\"iso_3166_1\": \"US\", \"name\": \"United States o...   2012-03-07   284139100   \n",
       "\n",
       "   runtime                                   spoken_languages    status  \\\n",
       "0    162.0  [{\"iso_639_1\": \"en\", \"name\": \"English\"}, {\"iso...  Released   \n",
       "1    169.0           [{\"iso_639_1\": \"en\", \"name\": \"English\"}]  Released   \n",
       "2    148.0  [{\"iso_639_1\": \"fr\", \"name\": \"Fran\\u00e7ais\"},...  Released   \n",
       "3    165.0           [{\"iso_639_1\": \"en\", \"name\": \"English\"}]  Released   \n",
       "4    132.0           [{\"iso_639_1\": \"en\", \"name\": \"English\"}]  Released   \n",
       "\n",
       "                                      title  vote_average  vote_count  \n",
       "0                                    Avatar           7.2       11800  \n",
       "1  Pirates of the Caribbean: At World's End           6.9        4500  \n",
       "2                                   Spectre           6.3        4466  \n",
       "3                     The Dark Knight Rises           7.6        9106  \n",
       "4                               John Carter           6.1        2124  "
      ]
     },
     "execution_count": 3,
     "metadata": {},
     "output_type": "execute_result"
    }
   ],
   "source": [
    "df.head()"
   ]
  },
  {
   "cell_type": "code",
   "execution_count": 4,
   "metadata": {},
   "outputs": [
    {
     "data": {
      "text/plain": [
       "(4803, 17)"
      ]
     },
     "execution_count": 4,
     "metadata": {},
     "output_type": "execute_result"
    }
   ],
   "source": [
    "df.shape"
   ]
  },
  {
   "cell_type": "markdown",
   "metadata": {},
   "source": [
    "## Checking Null Values"
   ]
  },
  {
   "cell_type": "code",
   "execution_count": 5,
   "metadata": {},
   "outputs": [
    {
     "data": {
      "text/plain": [
       "budget                  0\n",
       "genres                  0\n",
       "id                      0\n",
       "keywords                0\n",
       "original_language       0\n",
       "original_title          0\n",
       "popularity              0\n",
       "production_companies    0\n",
       "production_countries    0\n",
       "release_date            1\n",
       "revenue                 0\n",
       "runtime                 2\n",
       "spoken_languages        0\n",
       "status                  0\n",
       "title                   0\n",
       "vote_average            0\n",
       "vote_count              0\n",
       "dtype: int64"
      ]
     },
     "execution_count": 5,
     "metadata": {},
     "output_type": "execute_result"
    }
   ],
   "source": [
    "df.isnull().sum()"
   ]
  },
  {
   "cell_type": "markdown",
   "metadata": {},
   "source": [
    "## Checking Info"
   ]
  },
  {
   "cell_type": "code",
   "execution_count": 6,
   "metadata": {},
   "outputs": [
    {
     "name": "stdout",
     "output_type": "stream",
     "text": [
      "<class 'pandas.core.frame.DataFrame'>\n",
      "RangeIndex: 4803 entries, 0 to 4802\n",
      "Data columns (total 17 columns):\n",
      "budget                  4803 non-null int64\n",
      "genres                  4803 non-null object\n",
      "id                      4803 non-null int64\n",
      "keywords                4803 non-null object\n",
      "original_language       4803 non-null object\n",
      "original_title          4803 non-null object\n",
      "popularity              4803 non-null float64\n",
      "production_companies    4803 non-null object\n",
      "production_countries    4803 non-null object\n",
      "release_date            4802 non-null object\n",
      "revenue                 4803 non-null int64\n",
      "runtime                 4801 non-null float64\n",
      "spoken_languages        4803 non-null object\n",
      "status                  4803 non-null object\n",
      "title                   4803 non-null object\n",
      "vote_average            4803 non-null float64\n",
      "vote_count              4803 non-null int64\n",
      "dtypes: float64(3), int64(4), object(10)\n",
      "memory usage: 638.0+ KB\n"
     ]
    }
   ],
   "source": [
    "df.info()"
   ]
  },
  {
   "cell_type": "markdown",
   "metadata": {},
   "source": [
    "## Release Date Splitting"
   ]
  },
  {
   "cell_type": "code",
   "execution_count": 7,
   "metadata": {},
   "outputs": [],
   "source": [
    "data_a = df['release_date'].str.split('-',0,expand=True)\n",
    "df['release_date'] = data_a[0]"
   ]
  },
  {
   "cell_type": "markdown",
   "metadata": {},
   "source": [
    "## Genres Splitting"
   ]
  },
  {
   "cell_type": "code",
   "execution_count": 8,
   "metadata": {},
   "outputs": [
    {
     "data": {
      "text/plain": [
       "'[{\"id\": 28, \"name\": \"Action\"}, {\"id\": 12, \"name\": \"Adventure\"}, {\"id\": 14, \"name\": \"Fantasy\"}, {\"id\": 878, \"name\": \"Science Fiction\"}]'"
      ]
     },
     "execution_count": 8,
     "metadata": {},
     "output_type": "execute_result"
    }
   ],
   "source": [
    "df['genres'][0]"
   ]
  },
  {
   "cell_type": "code",
   "execution_count": 9,
   "metadata": {},
   "outputs": [
    {
     "data": {
      "text/html": [
       "<div>\n",
       "<style scoped>\n",
       "    .dataframe tbody tr th:only-of-type {\n",
       "        vertical-align: middle;\n",
       "    }\n",
       "\n",
       "    .dataframe tbody tr th {\n",
       "        vertical-align: top;\n",
       "    }\n",
       "\n",
       "    .dataframe thead th {\n",
       "        text-align: right;\n",
       "    }\n",
       "</style>\n",
       "<table border=\"1\" class=\"dataframe\">\n",
       "  <thead>\n",
       "    <tr style=\"text-align: right;\">\n",
       "      <th></th>\n",
       "      <th>0</th>\n",
       "      <th>1</th>\n",
       "      <th>2</th>\n",
       "    </tr>\n",
       "  </thead>\n",
       "  <tbody>\n",
       "    <tr>\n",
       "      <th>0</th>\n",
       "      <td>[{\"id\"</td>\n",
       "      <td>28, \"name\"</td>\n",
       "      <td>\"Action\"}, {\"id\": 12, \"name\": \"Adventure\"}, {...</td>\n",
       "    </tr>\n",
       "  </tbody>\n",
       "</table>\n",
       "</div>"
      ],
      "text/plain": [
       "        0            1                                                  2\n",
       "0  [{\"id\"   28, \"name\"   \"Action\"}, {\"id\": 12, \"name\": \"Adventure\"}, {..."
      ]
     },
     "execution_count": 9,
     "metadata": {},
     "output_type": "execute_result"
    }
   ],
   "source": [
    "data_b = df['genres'].str.split(':',2,expand=True)\n",
    "data_b.head(1)"
   ]
  },
  {
   "cell_type": "code",
   "execution_count": 10,
   "metadata": {},
   "outputs": [
    {
     "data": {
      "text/html": [
       "<div>\n",
       "<style scoped>\n",
       "    .dataframe tbody tr th:only-of-type {\n",
       "        vertical-align: middle;\n",
       "    }\n",
       "\n",
       "    .dataframe tbody tr th {\n",
       "        vertical-align: top;\n",
       "    }\n",
       "\n",
       "    .dataframe thead th {\n",
       "        text-align: right;\n",
       "    }\n",
       "</style>\n",
       "<table border=\"1\" class=\"dataframe\">\n",
       "  <thead>\n",
       "    <tr style=\"text-align: right;\">\n",
       "      <th></th>\n",
       "      <th>0</th>\n",
       "      <th>1</th>\n",
       "    </tr>\n",
       "  </thead>\n",
       "  <tbody>\n",
       "    <tr>\n",
       "      <th>0</th>\n",
       "      <td>\"Action\"</td>\n",
       "      <td>, {\"id\": 12, \"name\": \"Adventure\"}, {\"id\": 14, ...</td>\n",
       "    </tr>\n",
       "  </tbody>\n",
       "</table>\n",
       "</div>"
      ],
      "text/plain": [
       "           0                                                  1\n",
       "0   \"Action\"  , {\"id\": 12, \"name\": \"Adventure\"}, {\"id\": 14, ..."
      ]
     },
     "execution_count": 10,
     "metadata": {},
     "output_type": "execute_result"
    }
   ],
   "source": [
    "data_c = data_b[2].str.split('}',1,expand=True)\n",
    "data_c.head(1)"
   ]
  },
  {
   "cell_type": "code",
   "execution_count": 11,
   "metadata": {},
   "outputs": [
    {
     "data": {
      "text/html": [
       "<div>\n",
       "<style scoped>\n",
       "    .dataframe tbody tr th:only-of-type {\n",
       "        vertical-align: middle;\n",
       "    }\n",
       "\n",
       "    .dataframe tbody tr th {\n",
       "        vertical-align: top;\n",
       "    }\n",
       "\n",
       "    .dataframe thead th {\n",
       "        text-align: right;\n",
       "    }\n",
       "</style>\n",
       "<table border=\"1\" class=\"dataframe\">\n",
       "  <thead>\n",
       "    <tr style=\"text-align: right;\">\n",
       "      <th></th>\n",
       "      <th>0</th>\n",
       "      <th>1</th>\n",
       "    </tr>\n",
       "  </thead>\n",
       "  <tbody>\n",
       "    <tr>\n",
       "      <th>0</th>\n",
       "      <td></td>\n",
       "      <td>Action\"</td>\n",
       "    </tr>\n",
       "  </tbody>\n",
       "</table>\n",
       "</div>"
      ],
      "text/plain": [
       "   0        1\n",
       "0     Action\""
      ]
     },
     "execution_count": 11,
     "metadata": {},
     "output_type": "execute_result"
    }
   ],
   "source": [
    "data_d = data_c[0].str.split('\"',1,expand=True)\n",
    "data_d.head(1)"
   ]
  },
  {
   "cell_type": "code",
   "execution_count": 12,
   "metadata": {},
   "outputs": [
    {
     "data": {
      "text/html": [
       "<div>\n",
       "<style scoped>\n",
       "    .dataframe tbody tr th:only-of-type {\n",
       "        vertical-align: middle;\n",
       "    }\n",
       "\n",
       "    .dataframe tbody tr th {\n",
       "        vertical-align: top;\n",
       "    }\n",
       "\n",
       "    .dataframe thead th {\n",
       "        text-align: right;\n",
       "    }\n",
       "</style>\n",
       "<table border=\"1\" class=\"dataframe\">\n",
       "  <thead>\n",
       "    <tr style=\"text-align: right;\">\n",
       "      <th></th>\n",
       "      <th>0</th>\n",
       "      <th>1</th>\n",
       "    </tr>\n",
       "  </thead>\n",
       "  <tbody>\n",
       "    <tr>\n",
       "      <th>0</th>\n",
       "      <td>Action</td>\n",
       "      <td></td>\n",
       "    </tr>\n",
       "  </tbody>\n",
       "</table>\n",
       "</div>"
      ],
      "text/plain": [
       "        0 1\n",
       "0  Action  "
      ]
     },
     "execution_count": 12,
     "metadata": {},
     "output_type": "execute_result"
    }
   ],
   "source": [
    "data_f = data_d[1].str.split('\"',0,expand=True)\n",
    "data_f.head(1)"
   ]
  },
  {
   "cell_type": "code",
   "execution_count": 13,
   "metadata": {
    "scrolled": false
   },
   "outputs": [
    {
     "data": {
      "text/plain": [
       "Drama        1207\n",
       "Comedy       1042\n",
       "Action        754\n",
       "Adventure     339\n",
       "Horror        300\n",
       "Name: 0, dtype: int64"
      ]
     },
     "execution_count": 13,
     "metadata": {},
     "output_type": "execute_result"
    }
   ],
   "source": [
    "data_f[0].value_counts().head()"
   ]
  },
  {
   "cell_type": "code",
   "execution_count": 14,
   "metadata": {},
   "outputs": [],
   "source": [
    "df['genres'] = data_f[0]"
   ]
  },
  {
   "cell_type": "code",
   "execution_count": 15,
   "metadata": {},
   "outputs": [
    {
     "data": {
      "text/html": [
       "<div>\n",
       "<style scoped>\n",
       "    .dataframe tbody tr th:only-of-type {\n",
       "        vertical-align: middle;\n",
       "    }\n",
       "\n",
       "    .dataframe tbody tr th {\n",
       "        vertical-align: top;\n",
       "    }\n",
       "\n",
       "    .dataframe thead th {\n",
       "        text-align: right;\n",
       "    }\n",
       "</style>\n",
       "<table border=\"1\" class=\"dataframe\">\n",
       "  <thead>\n",
       "    <tr style=\"text-align: right;\">\n",
       "      <th></th>\n",
       "      <th>budget</th>\n",
       "      <th>genres</th>\n",
       "      <th>id</th>\n",
       "      <th>keywords</th>\n",
       "      <th>original_language</th>\n",
       "      <th>original_title</th>\n",
       "      <th>popularity</th>\n",
       "      <th>production_companies</th>\n",
       "      <th>production_countries</th>\n",
       "      <th>release_date</th>\n",
       "      <th>revenue</th>\n",
       "      <th>runtime</th>\n",
       "      <th>spoken_languages</th>\n",
       "      <th>status</th>\n",
       "      <th>title</th>\n",
       "      <th>vote_average</th>\n",
       "      <th>vote_count</th>\n",
       "    </tr>\n",
       "  </thead>\n",
       "  <tbody>\n",
       "    <tr>\n",
       "      <th>0</th>\n",
       "      <td>237000000</td>\n",
       "      <td>Action</td>\n",
       "      <td>19995</td>\n",
       "      <td>[{\"id\": 1463, \"name\": \"culture clash\"}, {\"id\":...</td>\n",
       "      <td>en</td>\n",
       "      <td>Avatar</td>\n",
       "      <td>150.437577</td>\n",
       "      <td>[{\"name\": \"Ingenious Film Partners\", \"id\": 289...</td>\n",
       "      <td>[{\"iso_3166_1\": \"US\", \"name\": \"United States o...</td>\n",
       "      <td>2009</td>\n",
       "      <td>2787965087</td>\n",
       "      <td>162.0</td>\n",
       "      <td>[{\"iso_639_1\": \"en\", \"name\": \"English\"}, {\"iso...</td>\n",
       "      <td>Released</td>\n",
       "      <td>Avatar</td>\n",
       "      <td>7.2</td>\n",
       "      <td>11800</td>\n",
       "    </tr>\n",
       "    <tr>\n",
       "      <th>1</th>\n",
       "      <td>300000000</td>\n",
       "      <td>Adventure</td>\n",
       "      <td>285</td>\n",
       "      <td>[{\"id\": 270, \"name\": \"ocean\"}, {\"id\": 726, \"na...</td>\n",
       "      <td>en</td>\n",
       "      <td>Pirates of the Caribbean: At World's End</td>\n",
       "      <td>139.082615</td>\n",
       "      <td>[{\"name\": \"Walt Disney Pictures\", \"id\": 2}, {\"...</td>\n",
       "      <td>[{\"iso_3166_1\": \"US\", \"name\": \"United States o...</td>\n",
       "      <td>2007</td>\n",
       "      <td>961000000</td>\n",
       "      <td>169.0</td>\n",
       "      <td>[{\"iso_639_1\": \"en\", \"name\": \"English\"}]</td>\n",
       "      <td>Released</td>\n",
       "      <td>Pirates of the Caribbean: At World's End</td>\n",
       "      <td>6.9</td>\n",
       "      <td>4500</td>\n",
       "    </tr>\n",
       "    <tr>\n",
       "      <th>2</th>\n",
       "      <td>245000000</td>\n",
       "      <td>Action</td>\n",
       "      <td>206647</td>\n",
       "      <td>[{\"id\": 470, \"name\": \"spy\"}, {\"id\": 818, \"name...</td>\n",
       "      <td>en</td>\n",
       "      <td>Spectre</td>\n",
       "      <td>107.376788</td>\n",
       "      <td>[{\"name\": \"Columbia Pictures\", \"id\": 5}, {\"nam...</td>\n",
       "      <td>[{\"iso_3166_1\": \"GB\", \"name\": \"United Kingdom\"...</td>\n",
       "      <td>2015</td>\n",
       "      <td>880674609</td>\n",
       "      <td>148.0</td>\n",
       "      <td>[{\"iso_639_1\": \"fr\", \"name\": \"Fran\\u00e7ais\"},...</td>\n",
       "      <td>Released</td>\n",
       "      <td>Spectre</td>\n",
       "      <td>6.3</td>\n",
       "      <td>4466</td>\n",
       "    </tr>\n",
       "    <tr>\n",
       "      <th>3</th>\n",
       "      <td>250000000</td>\n",
       "      <td>Action</td>\n",
       "      <td>49026</td>\n",
       "      <td>[{\"id\": 849, \"name\": \"dc comics\"}, {\"id\": 853,...</td>\n",
       "      <td>en</td>\n",
       "      <td>The Dark Knight Rises</td>\n",
       "      <td>112.312950</td>\n",
       "      <td>[{\"name\": \"Legendary Pictures\", \"id\": 923}, {\"...</td>\n",
       "      <td>[{\"iso_3166_1\": \"US\", \"name\": \"United States o...</td>\n",
       "      <td>2012</td>\n",
       "      <td>1084939099</td>\n",
       "      <td>165.0</td>\n",
       "      <td>[{\"iso_639_1\": \"en\", \"name\": \"English\"}]</td>\n",
       "      <td>Released</td>\n",
       "      <td>The Dark Knight Rises</td>\n",
       "      <td>7.6</td>\n",
       "      <td>9106</td>\n",
       "    </tr>\n",
       "    <tr>\n",
       "      <th>4</th>\n",
       "      <td>260000000</td>\n",
       "      <td>Action</td>\n",
       "      <td>49529</td>\n",
       "      <td>[{\"id\": 818, \"name\": \"based on novel\"}, {\"id\":...</td>\n",
       "      <td>en</td>\n",
       "      <td>John Carter</td>\n",
       "      <td>43.926995</td>\n",
       "      <td>[{\"name\": \"Walt Disney Pictures\", \"id\": 2}]</td>\n",
       "      <td>[{\"iso_3166_1\": \"US\", \"name\": \"United States o...</td>\n",
       "      <td>2012</td>\n",
       "      <td>284139100</td>\n",
       "      <td>132.0</td>\n",
       "      <td>[{\"iso_639_1\": \"en\", \"name\": \"English\"}]</td>\n",
       "      <td>Released</td>\n",
       "      <td>John Carter</td>\n",
       "      <td>6.1</td>\n",
       "      <td>2124</td>\n",
       "    </tr>\n",
       "  </tbody>\n",
       "</table>\n",
       "</div>"
      ],
      "text/plain": [
       "      budget     genres      id  \\\n",
       "0  237000000     Action   19995   \n",
       "1  300000000  Adventure     285   \n",
       "2  245000000     Action  206647   \n",
       "3  250000000     Action   49026   \n",
       "4  260000000     Action   49529   \n",
       "\n",
       "                                            keywords original_language  \\\n",
       "0  [{\"id\": 1463, \"name\": \"culture clash\"}, {\"id\":...                en   \n",
       "1  [{\"id\": 270, \"name\": \"ocean\"}, {\"id\": 726, \"na...                en   \n",
       "2  [{\"id\": 470, \"name\": \"spy\"}, {\"id\": 818, \"name...                en   \n",
       "3  [{\"id\": 849, \"name\": \"dc comics\"}, {\"id\": 853,...                en   \n",
       "4  [{\"id\": 818, \"name\": \"based on novel\"}, {\"id\":...                en   \n",
       "\n",
       "                             original_title  popularity  \\\n",
       "0                                    Avatar  150.437577   \n",
       "1  Pirates of the Caribbean: At World's End  139.082615   \n",
       "2                                   Spectre  107.376788   \n",
       "3                     The Dark Knight Rises  112.312950   \n",
       "4                               John Carter   43.926995   \n",
       "\n",
       "                                production_companies  \\\n",
       "0  [{\"name\": \"Ingenious Film Partners\", \"id\": 289...   \n",
       "1  [{\"name\": \"Walt Disney Pictures\", \"id\": 2}, {\"...   \n",
       "2  [{\"name\": \"Columbia Pictures\", \"id\": 5}, {\"nam...   \n",
       "3  [{\"name\": \"Legendary Pictures\", \"id\": 923}, {\"...   \n",
       "4        [{\"name\": \"Walt Disney Pictures\", \"id\": 2}]   \n",
       "\n",
       "                                production_countries release_date     revenue  \\\n",
       "0  [{\"iso_3166_1\": \"US\", \"name\": \"United States o...         2009  2787965087   \n",
       "1  [{\"iso_3166_1\": \"US\", \"name\": \"United States o...         2007   961000000   \n",
       "2  [{\"iso_3166_1\": \"GB\", \"name\": \"United Kingdom\"...         2015   880674609   \n",
       "3  [{\"iso_3166_1\": \"US\", \"name\": \"United States o...         2012  1084939099   \n",
       "4  [{\"iso_3166_1\": \"US\", \"name\": \"United States o...         2012   284139100   \n",
       "\n",
       "   runtime                                   spoken_languages    status  \\\n",
       "0    162.0  [{\"iso_639_1\": \"en\", \"name\": \"English\"}, {\"iso...  Released   \n",
       "1    169.0           [{\"iso_639_1\": \"en\", \"name\": \"English\"}]  Released   \n",
       "2    148.0  [{\"iso_639_1\": \"fr\", \"name\": \"Fran\\u00e7ais\"},...  Released   \n",
       "3    165.0           [{\"iso_639_1\": \"en\", \"name\": \"English\"}]  Released   \n",
       "4    132.0           [{\"iso_639_1\": \"en\", \"name\": \"English\"}]  Released   \n",
       "\n",
       "                                      title  vote_average  vote_count  \n",
       "0                                    Avatar           7.2       11800  \n",
       "1  Pirates of the Caribbean: At World's End           6.9        4500  \n",
       "2                                   Spectre           6.3        4466  \n",
       "3                     The Dark Knight Rises           7.6        9106  \n",
       "4                               John Carter           6.1        2124  "
      ]
     },
     "execution_count": 15,
     "metadata": {},
     "output_type": "execute_result"
    }
   ],
   "source": [
    "df.head()"
   ]
  },
  {
   "cell_type": "markdown",
   "metadata": {},
   "source": [
    "## Keywords Splitting"
   ]
  },
  {
   "cell_type": "code",
   "execution_count": 16,
   "metadata": {
    "scrolled": false
   },
   "outputs": [
    {
     "data": {
      "text/plain": [
       "'[{\"id\": 1463, \"name\": \"culture clash\"}, {\"id\": 2964, \"name\": \"future\"}, {\"id\": 3386, \"name\": \"space war\"}, {\"id\": 3388, \"name\": \"space colony\"}, {\"id\": 3679, \"name\": \"society\"}, {\"id\": 3801, \"name\": \"space travel\"}, {\"id\": 9685, \"name\": \"futuristic\"}, {\"id\": 9840, \"name\": \"romance\"}, {\"id\": 9882, \"name\": \"space\"}, {\"id\": 9951, \"name\": \"alien\"}, {\"id\": 10148, \"name\": \"tribe\"}, {\"id\": 10158, \"name\": \"alien planet\"}, {\"id\": 10987, \"name\": \"cgi\"}, {\"id\": 11399, \"name\": \"marine\"}, {\"id\": 13065, \"name\": \"soldier\"}, {\"id\": 14643, \"name\": \"battle\"}, {\"id\": 14720, \"name\": \"love affair\"}, {\"id\": 165431, \"name\": \"anti war\"}, {\"id\": 193554, \"name\": \"power relations\"}, {\"id\": 206690, \"name\": \"mind and soul\"}, {\"id\": 209714, \"name\": \"3d\"}]'"
      ]
     },
     "execution_count": 16,
     "metadata": {},
     "output_type": "execute_result"
    }
   ],
   "source": [
    "df['keywords'][0]"
   ]
  },
  {
   "cell_type": "code",
   "execution_count": 17,
   "metadata": {},
   "outputs": [
    {
     "data": {
      "text/html": [
       "<div>\n",
       "<style scoped>\n",
       "    .dataframe tbody tr th:only-of-type {\n",
       "        vertical-align: middle;\n",
       "    }\n",
       "\n",
       "    .dataframe tbody tr th {\n",
       "        vertical-align: top;\n",
       "    }\n",
       "\n",
       "    .dataframe thead th {\n",
       "        text-align: right;\n",
       "    }\n",
       "</style>\n",
       "<table border=\"1\" class=\"dataframe\">\n",
       "  <thead>\n",
       "    <tr style=\"text-align: right;\">\n",
       "      <th></th>\n",
       "      <th>0</th>\n",
       "      <th>1</th>\n",
       "      <th>2</th>\n",
       "    </tr>\n",
       "  </thead>\n",
       "  <tbody>\n",
       "    <tr>\n",
       "      <th>0</th>\n",
       "      <td>[{\"id\"</td>\n",
       "      <td>1463, \"name\"</td>\n",
       "      <td>\"culture clash\"}, {\"id\": 2964, \"name\": \"futur...</td>\n",
       "    </tr>\n",
       "  </tbody>\n",
       "</table>\n",
       "</div>"
      ],
      "text/plain": [
       "        0              1                                                  2\n",
       "0  [{\"id\"   1463, \"name\"   \"culture clash\"}, {\"id\": 2964, \"name\": \"futur..."
      ]
     },
     "execution_count": 17,
     "metadata": {},
     "output_type": "execute_result"
    }
   ],
   "source": [
    "data_g = df['keywords'].str.split(':',2,expand=True)\n",
    "data_g.head(1)"
   ]
  },
  {
   "cell_type": "code",
   "execution_count": 18,
   "metadata": {},
   "outputs": [
    {
     "data": {
      "text/html": [
       "<div>\n",
       "<style scoped>\n",
       "    .dataframe tbody tr th:only-of-type {\n",
       "        vertical-align: middle;\n",
       "    }\n",
       "\n",
       "    .dataframe tbody tr th {\n",
       "        vertical-align: top;\n",
       "    }\n",
       "\n",
       "    .dataframe thead th {\n",
       "        text-align: right;\n",
       "    }\n",
       "</style>\n",
       "<table border=\"1\" class=\"dataframe\">\n",
       "  <thead>\n",
       "    <tr style=\"text-align: right;\">\n",
       "      <th></th>\n",
       "      <th>0</th>\n",
       "      <th>1</th>\n",
       "    </tr>\n",
       "  </thead>\n",
       "  <tbody>\n",
       "    <tr>\n",
       "      <th>0</th>\n",
       "      <td>\"culture clash\"</td>\n",
       "      <td>, {\"id\": 2964, \"name\": \"future\"}, {\"id\": 3386,...</td>\n",
       "    </tr>\n",
       "  </tbody>\n",
       "</table>\n",
       "</div>"
      ],
      "text/plain": [
       "                  0                                                  1\n",
       "0   \"culture clash\"  , {\"id\": 2964, \"name\": \"future\"}, {\"id\": 3386,..."
      ]
     },
     "execution_count": 18,
     "metadata": {},
     "output_type": "execute_result"
    }
   ],
   "source": [
    "data_h = data_g[2].str.split('}',1,expand=True)\n",
    "data_h.head(1)"
   ]
  },
  {
   "cell_type": "code",
   "execution_count": 19,
   "metadata": {},
   "outputs": [
    {
     "data": {
      "text/html": [
       "<div>\n",
       "<style scoped>\n",
       "    .dataframe tbody tr th:only-of-type {\n",
       "        vertical-align: middle;\n",
       "    }\n",
       "\n",
       "    .dataframe tbody tr th {\n",
       "        vertical-align: top;\n",
       "    }\n",
       "\n",
       "    .dataframe thead th {\n",
       "        text-align: right;\n",
       "    }\n",
       "</style>\n",
       "<table border=\"1\" class=\"dataframe\">\n",
       "  <thead>\n",
       "    <tr style=\"text-align: right;\">\n",
       "      <th></th>\n",
       "      <th>0</th>\n",
       "      <th>1</th>\n",
       "    </tr>\n",
       "  </thead>\n",
       "  <tbody>\n",
       "    <tr>\n",
       "      <th>0</th>\n",
       "      <td></td>\n",
       "      <td>culture clash\"</td>\n",
       "    </tr>\n",
       "  </tbody>\n",
       "</table>\n",
       "</div>"
      ],
      "text/plain": [
       "   0               1\n",
       "0     culture clash\""
      ]
     },
     "execution_count": 19,
     "metadata": {},
     "output_type": "execute_result"
    }
   ],
   "source": [
    "data_i = data_h[0].str.split('\"',1,expand=True)\n",
    "data_i.head(1)"
   ]
  },
  {
   "cell_type": "code",
   "execution_count": 20,
   "metadata": {},
   "outputs": [
    {
     "data": {
      "text/html": [
       "<div>\n",
       "<style scoped>\n",
       "    .dataframe tbody tr th:only-of-type {\n",
       "        vertical-align: middle;\n",
       "    }\n",
       "\n",
       "    .dataframe tbody tr th {\n",
       "        vertical-align: top;\n",
       "    }\n",
       "\n",
       "    .dataframe thead th {\n",
       "        text-align: right;\n",
       "    }\n",
       "</style>\n",
       "<table border=\"1\" class=\"dataframe\">\n",
       "  <thead>\n",
       "    <tr style=\"text-align: right;\">\n",
       "      <th></th>\n",
       "      <th>0</th>\n",
       "      <th>1</th>\n",
       "    </tr>\n",
       "  </thead>\n",
       "  <tbody>\n",
       "    <tr>\n",
       "      <th>0</th>\n",
       "      <td>culture clash</td>\n",
       "      <td></td>\n",
       "    </tr>\n",
       "  </tbody>\n",
       "</table>\n",
       "</div>"
      ],
      "text/plain": [
       "               0 1\n",
       "0  culture clash  "
      ]
     },
     "execution_count": 20,
     "metadata": {},
     "output_type": "execute_result"
    }
   ],
   "source": [
    "data_j = data_i[1].str.split('\"',0,expand=True)\n",
    "data_j.head(1)"
   ]
  },
  {
   "cell_type": "code",
   "execution_count": 21,
   "metadata": {
    "scrolled": true
   },
   "outputs": [
    {
     "data": {
      "text/plain": [
       "based on novel      94\n",
       "independent film    87\n",
       "new york            73\n",
       "london england      61\n",
       "prison              60\n",
       "Name: 0, dtype: int64"
      ]
     },
     "execution_count": 21,
     "metadata": {},
     "output_type": "execute_result"
    }
   ],
   "source": [
    "data_j[0].value_counts().head()"
   ]
  },
  {
   "cell_type": "code",
   "execution_count": 22,
   "metadata": {},
   "outputs": [],
   "source": [
    "df['keywords'] = data_j[0]"
   ]
  },
  {
   "cell_type": "code",
   "execution_count": 23,
   "metadata": {},
   "outputs": [
    {
     "data": {
      "text/plain": [
       "0    based on novel\n",
       "dtype: object"
      ]
     },
     "execution_count": 23,
     "metadata": {},
     "output_type": "execute_result"
    }
   ],
   "source": [
    "df['keywords'].mode()"
   ]
  },
  {
   "cell_type": "code",
   "execution_count": 24,
   "metadata": {},
   "outputs": [
    {
     "data": {
      "text/plain": [
       "budget                    0\n",
       "genres                   28\n",
       "id                        0\n",
       "keywords                412\n",
       "original_language         0\n",
       "original_title            0\n",
       "popularity                0\n",
       "production_companies      0\n",
       "production_countries      0\n",
       "release_date              1\n",
       "revenue                   0\n",
       "runtime                   2\n",
       "spoken_languages          0\n",
       "status                    0\n",
       "title                     0\n",
       "vote_average              0\n",
       "vote_count                0\n",
       "dtype: int64"
      ]
     },
     "execution_count": 24,
     "metadata": {},
     "output_type": "execute_result"
    }
   ],
   "source": [
    "df.isnull().sum()"
   ]
  },
  {
   "cell_type": "code",
   "execution_count": 25,
   "metadata": {},
   "outputs": [
    {
     "data": {
      "text/html": [
       "<div>\n",
       "<style scoped>\n",
       "    .dataframe tbody tr th:only-of-type {\n",
       "        vertical-align: middle;\n",
       "    }\n",
       "\n",
       "    .dataframe tbody tr th {\n",
       "        vertical-align: top;\n",
       "    }\n",
       "\n",
       "    .dataframe thead th {\n",
       "        text-align: right;\n",
       "    }\n",
       "</style>\n",
       "<table border=\"1\" class=\"dataframe\">\n",
       "  <thead>\n",
       "    <tr style=\"text-align: right;\">\n",
       "      <th></th>\n",
       "      <th>budget</th>\n",
       "      <th>genres</th>\n",
       "      <th>id</th>\n",
       "      <th>keywords</th>\n",
       "      <th>original_language</th>\n",
       "      <th>original_title</th>\n",
       "      <th>popularity</th>\n",
       "      <th>production_companies</th>\n",
       "      <th>production_countries</th>\n",
       "      <th>release_date</th>\n",
       "      <th>revenue</th>\n",
       "      <th>runtime</th>\n",
       "      <th>spoken_languages</th>\n",
       "      <th>status</th>\n",
       "      <th>title</th>\n",
       "      <th>vote_average</th>\n",
       "      <th>vote_count</th>\n",
       "    </tr>\n",
       "  </thead>\n",
       "  <tbody>\n",
       "    <tr>\n",
       "      <th>0</th>\n",
       "      <td>237000000</td>\n",
       "      <td>Action</td>\n",
       "      <td>19995</td>\n",
       "      <td>culture clash</td>\n",
       "      <td>en</td>\n",
       "      <td>Avatar</td>\n",
       "      <td>150.437577</td>\n",
       "      <td>[{\"name\": \"Ingenious Film Partners\", \"id\": 289...</td>\n",
       "      <td>[{\"iso_3166_1\": \"US\", \"name\": \"United States o...</td>\n",
       "      <td>2009</td>\n",
       "      <td>2787965087</td>\n",
       "      <td>162.0</td>\n",
       "      <td>[{\"iso_639_1\": \"en\", \"name\": \"English\"}, {\"iso...</td>\n",
       "      <td>Released</td>\n",
       "      <td>Avatar</td>\n",
       "      <td>7.2</td>\n",
       "      <td>11800</td>\n",
       "    </tr>\n",
       "    <tr>\n",
       "      <th>1</th>\n",
       "      <td>300000000</td>\n",
       "      <td>Adventure</td>\n",
       "      <td>285</td>\n",
       "      <td>ocean</td>\n",
       "      <td>en</td>\n",
       "      <td>Pirates of the Caribbean: At World's End</td>\n",
       "      <td>139.082615</td>\n",
       "      <td>[{\"name\": \"Walt Disney Pictures\", \"id\": 2}, {\"...</td>\n",
       "      <td>[{\"iso_3166_1\": \"US\", \"name\": \"United States o...</td>\n",
       "      <td>2007</td>\n",
       "      <td>961000000</td>\n",
       "      <td>169.0</td>\n",
       "      <td>[{\"iso_639_1\": \"en\", \"name\": \"English\"}]</td>\n",
       "      <td>Released</td>\n",
       "      <td>Pirates of the Caribbean: At World's End</td>\n",
       "      <td>6.9</td>\n",
       "      <td>4500</td>\n",
       "    </tr>\n",
       "    <tr>\n",
       "      <th>2</th>\n",
       "      <td>245000000</td>\n",
       "      <td>Action</td>\n",
       "      <td>206647</td>\n",
       "      <td>spy</td>\n",
       "      <td>en</td>\n",
       "      <td>Spectre</td>\n",
       "      <td>107.376788</td>\n",
       "      <td>[{\"name\": \"Columbia Pictures\", \"id\": 5}, {\"nam...</td>\n",
       "      <td>[{\"iso_3166_1\": \"GB\", \"name\": \"United Kingdom\"...</td>\n",
       "      <td>2015</td>\n",
       "      <td>880674609</td>\n",
       "      <td>148.0</td>\n",
       "      <td>[{\"iso_639_1\": \"fr\", \"name\": \"Fran\\u00e7ais\"},...</td>\n",
       "      <td>Released</td>\n",
       "      <td>Spectre</td>\n",
       "      <td>6.3</td>\n",
       "      <td>4466</td>\n",
       "    </tr>\n",
       "    <tr>\n",
       "      <th>3</th>\n",
       "      <td>250000000</td>\n",
       "      <td>Action</td>\n",
       "      <td>49026</td>\n",
       "      <td>dc comics</td>\n",
       "      <td>en</td>\n",
       "      <td>The Dark Knight Rises</td>\n",
       "      <td>112.312950</td>\n",
       "      <td>[{\"name\": \"Legendary Pictures\", \"id\": 923}, {\"...</td>\n",
       "      <td>[{\"iso_3166_1\": \"US\", \"name\": \"United States o...</td>\n",
       "      <td>2012</td>\n",
       "      <td>1084939099</td>\n",
       "      <td>165.0</td>\n",
       "      <td>[{\"iso_639_1\": \"en\", \"name\": \"English\"}]</td>\n",
       "      <td>Released</td>\n",
       "      <td>The Dark Knight Rises</td>\n",
       "      <td>7.6</td>\n",
       "      <td>9106</td>\n",
       "    </tr>\n",
       "    <tr>\n",
       "      <th>4</th>\n",
       "      <td>260000000</td>\n",
       "      <td>Action</td>\n",
       "      <td>49529</td>\n",
       "      <td>based on novel</td>\n",
       "      <td>en</td>\n",
       "      <td>John Carter</td>\n",
       "      <td>43.926995</td>\n",
       "      <td>[{\"name\": \"Walt Disney Pictures\", \"id\": 2}]</td>\n",
       "      <td>[{\"iso_3166_1\": \"US\", \"name\": \"United States o...</td>\n",
       "      <td>2012</td>\n",
       "      <td>284139100</td>\n",
       "      <td>132.0</td>\n",
       "      <td>[{\"iso_639_1\": \"en\", \"name\": \"English\"}]</td>\n",
       "      <td>Released</td>\n",
       "      <td>John Carter</td>\n",
       "      <td>6.1</td>\n",
       "      <td>2124</td>\n",
       "    </tr>\n",
       "  </tbody>\n",
       "</table>\n",
       "</div>"
      ],
      "text/plain": [
       "      budget     genres      id        keywords original_language  \\\n",
       "0  237000000     Action   19995   culture clash                en   \n",
       "1  300000000  Adventure     285           ocean                en   \n",
       "2  245000000     Action  206647             spy                en   \n",
       "3  250000000     Action   49026       dc comics                en   \n",
       "4  260000000     Action   49529  based on novel                en   \n",
       "\n",
       "                             original_title  popularity  \\\n",
       "0                                    Avatar  150.437577   \n",
       "1  Pirates of the Caribbean: At World's End  139.082615   \n",
       "2                                   Spectre  107.376788   \n",
       "3                     The Dark Knight Rises  112.312950   \n",
       "4                               John Carter   43.926995   \n",
       "\n",
       "                                production_companies  \\\n",
       "0  [{\"name\": \"Ingenious Film Partners\", \"id\": 289...   \n",
       "1  [{\"name\": \"Walt Disney Pictures\", \"id\": 2}, {\"...   \n",
       "2  [{\"name\": \"Columbia Pictures\", \"id\": 5}, {\"nam...   \n",
       "3  [{\"name\": \"Legendary Pictures\", \"id\": 923}, {\"...   \n",
       "4        [{\"name\": \"Walt Disney Pictures\", \"id\": 2}]   \n",
       "\n",
       "                                production_countries release_date     revenue  \\\n",
       "0  [{\"iso_3166_1\": \"US\", \"name\": \"United States o...         2009  2787965087   \n",
       "1  [{\"iso_3166_1\": \"US\", \"name\": \"United States o...         2007   961000000   \n",
       "2  [{\"iso_3166_1\": \"GB\", \"name\": \"United Kingdom\"...         2015   880674609   \n",
       "3  [{\"iso_3166_1\": \"US\", \"name\": \"United States o...         2012  1084939099   \n",
       "4  [{\"iso_3166_1\": \"US\", \"name\": \"United States o...         2012   284139100   \n",
       "\n",
       "   runtime                                   spoken_languages    status  \\\n",
       "0    162.0  [{\"iso_639_1\": \"en\", \"name\": \"English\"}, {\"iso...  Released   \n",
       "1    169.0           [{\"iso_639_1\": \"en\", \"name\": \"English\"}]  Released   \n",
       "2    148.0  [{\"iso_639_1\": \"fr\", \"name\": \"Fran\\u00e7ais\"},...  Released   \n",
       "3    165.0           [{\"iso_639_1\": \"en\", \"name\": \"English\"}]  Released   \n",
       "4    132.0           [{\"iso_639_1\": \"en\", \"name\": \"English\"}]  Released   \n",
       "\n",
       "                                      title  vote_average  vote_count  \n",
       "0                                    Avatar           7.2       11800  \n",
       "1  Pirates of the Caribbean: At World's End           6.9        4500  \n",
       "2                                   Spectre           6.3        4466  \n",
       "3                     The Dark Knight Rises           7.6        9106  \n",
       "4                               John Carter           6.1        2124  "
      ]
     },
     "execution_count": 25,
     "metadata": {},
     "output_type": "execute_result"
    }
   ],
   "source": [
    "df.head()"
   ]
  },
  {
   "cell_type": "markdown",
   "metadata": {},
   "source": [
    "## Production Companies Splitting"
   ]
  },
  {
   "cell_type": "code",
   "execution_count": 26,
   "metadata": {},
   "outputs": [
    {
     "data": {
      "text/plain": [
       "[]                                            351\n",
       "[{\"name\": \"Paramount Pictures\", \"id\": 4}]      58\n",
       "[{\"name\": \"Universal Pictures\", \"id\": 33}]     45\n",
       "[{\"name\": \"New Line Cinema\", \"id\": 12}]        38\n",
       "[{\"name\": \"Columbia Pictures\", \"id\": 5}]       37\n",
       "Name: production_companies, dtype: int64"
      ]
     },
     "execution_count": 26,
     "metadata": {},
     "output_type": "execute_result"
    }
   ],
   "source": [
    "df['production_companies'].value_counts().head()"
   ]
  },
  {
   "cell_type": "code",
   "execution_count": 27,
   "metadata": {},
   "outputs": [
    {
     "data": {
      "text/html": [
       "<div>\n",
       "<style scoped>\n",
       "    .dataframe tbody tr th:only-of-type {\n",
       "        vertical-align: middle;\n",
       "    }\n",
       "\n",
       "    .dataframe tbody tr th {\n",
       "        vertical-align: top;\n",
       "    }\n",
       "\n",
       "    .dataframe thead th {\n",
       "        text-align: right;\n",
       "    }\n",
       "</style>\n",
       "<table border=\"1\" class=\"dataframe\">\n",
       "  <thead>\n",
       "    <tr style=\"text-align: right;\">\n",
       "      <th></th>\n",
       "      <th>0</th>\n",
       "      <th>1</th>\n",
       "    </tr>\n",
       "  </thead>\n",
       "  <tbody>\n",
       "    <tr>\n",
       "      <th>0</th>\n",
       "      <td>[{\"name\"</td>\n",
       "      <td>\"Ingenious Film Partners\", \"id\": 289}, {\"name...</td>\n",
       "    </tr>\n",
       "    <tr>\n",
       "      <th>1</th>\n",
       "      <td>[{\"name\"</td>\n",
       "      <td>\"Walt Disney Pictures\", \"id\": 2}, {\"name\": \"J...</td>\n",
       "    </tr>\n",
       "  </tbody>\n",
       "</table>\n",
       "</div>"
      ],
      "text/plain": [
       "          0                                                  1\n",
       "0  [{\"name\"   \"Ingenious Film Partners\", \"id\": 289}, {\"name...\n",
       "1  [{\"name\"   \"Walt Disney Pictures\", \"id\": 2}, {\"name\": \"J..."
      ]
     },
     "execution_count": 27,
     "metadata": {},
     "output_type": "execute_result"
    }
   ],
   "source": [
    "data_k = df['production_companies'].str.split(':',1,expand=True)\n",
    "data_k.head(2)"
   ]
  },
  {
   "cell_type": "code",
   "execution_count": 28,
   "metadata": {},
   "outputs": [
    {
     "data": {
      "text/html": [
       "<div>\n",
       "<style scoped>\n",
       "    .dataframe tbody tr th:only-of-type {\n",
       "        vertical-align: middle;\n",
       "    }\n",
       "\n",
       "    .dataframe tbody tr th {\n",
       "        vertical-align: top;\n",
       "    }\n",
       "\n",
       "    .dataframe thead th {\n",
       "        text-align: right;\n",
       "    }\n",
       "</style>\n",
       "<table border=\"1\" class=\"dataframe\">\n",
       "  <thead>\n",
       "    <tr style=\"text-align: right;\">\n",
       "      <th></th>\n",
       "      <th>0</th>\n",
       "      <th>1</th>\n",
       "    </tr>\n",
       "  </thead>\n",
       "  <tbody>\n",
       "    <tr>\n",
       "      <th>0</th>\n",
       "      <td></td>\n",
       "      <td>Ingenious Film Partners\", \"id\": 289}, {\"name\":...</td>\n",
       "    </tr>\n",
       "    <tr>\n",
       "      <th>1</th>\n",
       "      <td></td>\n",
       "      <td>Walt Disney Pictures\", \"id\": 2}, {\"name\": \"Jer...</td>\n",
       "    </tr>\n",
       "  </tbody>\n",
       "</table>\n",
       "</div>"
      ],
      "text/plain": [
       "   0                                                  1\n",
       "0     Ingenious Film Partners\", \"id\": 289}, {\"name\":...\n",
       "1     Walt Disney Pictures\", \"id\": 2}, {\"name\": \"Jer..."
      ]
     },
     "execution_count": 28,
     "metadata": {},
     "output_type": "execute_result"
    }
   ],
   "source": [
    "data_l = data_k[1].str.split('\"',1,expand=True)\n",
    "data_l.head(2)"
   ]
  },
  {
   "cell_type": "code",
   "execution_count": 29,
   "metadata": {},
   "outputs": [
    {
     "data": {
      "text/html": [
       "<div>\n",
       "<style scoped>\n",
       "    .dataframe tbody tr th:only-of-type {\n",
       "        vertical-align: middle;\n",
       "    }\n",
       "\n",
       "    .dataframe tbody tr th {\n",
       "        vertical-align: top;\n",
       "    }\n",
       "\n",
       "    .dataframe thead th {\n",
       "        text-align: right;\n",
       "    }\n",
       "</style>\n",
       "<table border=\"1\" class=\"dataframe\">\n",
       "  <thead>\n",
       "    <tr style=\"text-align: right;\">\n",
       "      <th></th>\n",
       "      <th>0</th>\n",
       "      <th>1</th>\n",
       "    </tr>\n",
       "  </thead>\n",
       "  <tbody>\n",
       "    <tr>\n",
       "      <th>0</th>\n",
       "      <td>Ingenious Film Partners</td>\n",
       "      <td>, \"id\": 289}, {\"name\": \"Twentieth Century Fox ...</td>\n",
       "    </tr>\n",
       "    <tr>\n",
       "      <th>1</th>\n",
       "      <td>Walt Disney Pictures</td>\n",
       "      <td>, \"id\": 2}, {\"name\": \"Jerry Bruckheimer Films\"...</td>\n",
       "    </tr>\n",
       "  </tbody>\n",
       "</table>\n",
       "</div>"
      ],
      "text/plain": [
       "                         0                                                  1\n",
       "0  Ingenious Film Partners  , \"id\": 289}, {\"name\": \"Twentieth Century Fox ...\n",
       "1     Walt Disney Pictures  , \"id\": 2}, {\"name\": \"Jerry Bruckheimer Films\"..."
      ]
     },
     "execution_count": 29,
     "metadata": {},
     "output_type": "execute_result"
    }
   ],
   "source": [
    "data_m = data_l[1].str.split('\"',1,expand=True)\n",
    "data_m.head(2)"
   ]
  },
  {
   "cell_type": "code",
   "execution_count": 30,
   "metadata": {
    "scrolled": false
   },
   "outputs": [
    {
     "data": {
      "text/plain": [
       "Paramount Pictures                        281\n",
       "Universal Pictures                        260\n",
       "Columbia Pictures                         200\n",
       "Twentieth Century Fox Film Corporation    177\n",
       "New Line Cinema                           157\n",
       "Name: 0, dtype: int64"
      ]
     },
     "execution_count": 30,
     "metadata": {},
     "output_type": "execute_result"
    }
   ],
   "source": [
    "data_m[0].value_counts().head()"
   ]
  },
  {
   "cell_type": "code",
   "execution_count": 31,
   "metadata": {},
   "outputs": [],
   "source": [
    "df['production_companies'] = data_m[0]"
   ]
  },
  {
   "cell_type": "markdown",
   "metadata": {},
   "source": [
    "## Production Countries Splitting"
   ]
  },
  {
   "cell_type": "code",
   "execution_count": 32,
   "metadata": {},
   "outputs": [
    {
     "data": {
      "text/plain": [
       "0    [{\"iso_3166_1\": \"US\", \"name\": \"United States o...\n",
       "1    [{\"iso_3166_1\": \"US\", \"name\": \"United States o...\n",
       "2    [{\"iso_3166_1\": \"GB\", \"name\": \"United Kingdom\"...\n",
       "3    [{\"iso_3166_1\": \"US\", \"name\": \"United States o...\n",
       "4    [{\"iso_3166_1\": \"US\", \"name\": \"United States o...\n",
       "Name: production_countries, dtype: object"
      ]
     },
     "execution_count": 32,
     "metadata": {},
     "output_type": "execute_result"
    }
   ],
   "source": [
    "df['production_countries'].head(5)"
   ]
  },
  {
   "cell_type": "code",
   "execution_count": 33,
   "metadata": {},
   "outputs": [
    {
     "data": {
      "text/html": [
       "<div>\n",
       "<style scoped>\n",
       "    .dataframe tbody tr th:only-of-type {\n",
       "        vertical-align: middle;\n",
       "    }\n",
       "\n",
       "    .dataframe tbody tr th {\n",
       "        vertical-align: top;\n",
       "    }\n",
       "\n",
       "    .dataframe thead th {\n",
       "        text-align: right;\n",
       "    }\n",
       "</style>\n",
       "<table border=\"1\" class=\"dataframe\">\n",
       "  <thead>\n",
       "    <tr style=\"text-align: right;\">\n",
       "      <th></th>\n",
       "      <th>0</th>\n",
       "      <th>1</th>\n",
       "      <th>2</th>\n",
       "      <th>3</th>\n",
       "    </tr>\n",
       "  </thead>\n",
       "  <tbody>\n",
       "    <tr>\n",
       "      <th>0</th>\n",
       "      <td>[{</td>\n",
       "      <td>iso_3166_1</td>\n",
       "      <td>:</td>\n",
       "      <td>US\", \"name\": \"United States of America\"}, {\"is...</td>\n",
       "    </tr>\n",
       "    <tr>\n",
       "      <th>1</th>\n",
       "      <td>[{</td>\n",
       "      <td>iso_3166_1</td>\n",
       "      <td>:</td>\n",
       "      <td>US\", \"name\": \"United States of America\"}]</td>\n",
       "    </tr>\n",
       "    <tr>\n",
       "      <th>2</th>\n",
       "      <td>[{</td>\n",
       "      <td>iso_3166_1</td>\n",
       "      <td>:</td>\n",
       "      <td>GB\", \"name\": \"United Kingdom\"}, {\"iso_3166_1\":...</td>\n",
       "    </tr>\n",
       "    <tr>\n",
       "      <th>3</th>\n",
       "      <td>[{</td>\n",
       "      <td>iso_3166_1</td>\n",
       "      <td>:</td>\n",
       "      <td>US\", \"name\": \"United States of America\"}]</td>\n",
       "    </tr>\n",
       "    <tr>\n",
       "      <th>4</th>\n",
       "      <td>[{</td>\n",
       "      <td>iso_3166_1</td>\n",
       "      <td>:</td>\n",
       "      <td>US\", \"name\": \"United States of America\"}]</td>\n",
       "    </tr>\n",
       "  </tbody>\n",
       "</table>\n",
       "</div>"
      ],
      "text/plain": [
       "    0           1   2                                                  3\n",
       "0  [{  iso_3166_1  :   US\", \"name\": \"United States of America\"}, {\"is...\n",
       "1  [{  iso_3166_1  :           US\", \"name\": \"United States of America\"}]\n",
       "2  [{  iso_3166_1  :   GB\", \"name\": \"United Kingdom\"}, {\"iso_3166_1\":...\n",
       "3  [{  iso_3166_1  :           US\", \"name\": \"United States of America\"}]\n",
       "4  [{  iso_3166_1  :           US\", \"name\": \"United States of America\"}]"
      ]
     },
     "execution_count": 33,
     "metadata": {},
     "output_type": "execute_result"
    }
   ],
   "source": [
    "data_n = df['production_countries'].str.split('\"',3,expand=True)\n",
    "data_n.head()"
   ]
  },
  {
   "cell_type": "code",
   "execution_count": 34,
   "metadata": {},
   "outputs": [
    {
     "data": {
      "text/html": [
       "<div>\n",
       "<style scoped>\n",
       "    .dataframe tbody tr th:only-of-type {\n",
       "        vertical-align: middle;\n",
       "    }\n",
       "\n",
       "    .dataframe tbody tr th {\n",
       "        vertical-align: top;\n",
       "    }\n",
       "\n",
       "    .dataframe thead th {\n",
       "        text-align: right;\n",
       "    }\n",
       "</style>\n",
       "<table border=\"1\" class=\"dataframe\">\n",
       "  <thead>\n",
       "    <tr style=\"text-align: right;\">\n",
       "      <th></th>\n",
       "      <th>0</th>\n",
       "      <th>1</th>\n",
       "    </tr>\n",
       "  </thead>\n",
       "  <tbody>\n",
       "    <tr>\n",
       "      <th>0</th>\n",
       "      <td>US</td>\n",
       "      <td>, \"name\": \"United States of America\"}, {\"iso_3...</td>\n",
       "    </tr>\n",
       "    <tr>\n",
       "      <th>1</th>\n",
       "      <td>US</td>\n",
       "      <td>, \"name\": \"United States of America\"}]</td>\n",
       "    </tr>\n",
       "  </tbody>\n",
       "</table>\n",
       "</div>"
      ],
      "text/plain": [
       "    0                                                  1\n",
       "0  US  , \"name\": \"United States of America\"}, {\"iso_3...\n",
       "1  US             , \"name\": \"United States of America\"}]"
      ]
     },
     "execution_count": 34,
     "metadata": {},
     "output_type": "execute_result"
    }
   ],
   "source": [
    "data_o = data_n[3].str.split('\"',1,expand=True)\n",
    "data_o.head(2)"
   ]
  },
  {
   "cell_type": "code",
   "execution_count": 35,
   "metadata": {},
   "outputs": [],
   "source": [
    "df['production_countries'] = data_o[0]"
   ]
  },
  {
   "cell_type": "markdown",
   "metadata": {},
   "source": [
    "## Spoken Languages Splitting"
   ]
  },
  {
   "cell_type": "code",
   "execution_count": 36,
   "metadata": {},
   "outputs": [
    {
     "data": {
      "text/plain": [
       "0    [{\"iso_639_1\": \"en\", \"name\": \"English\"}, {\"iso...\n",
       "1             [{\"iso_639_1\": \"en\", \"name\": \"English\"}]\n",
       "2    [{\"iso_639_1\": \"fr\", \"name\": \"Fran\\u00e7ais\"},...\n",
       "3             [{\"iso_639_1\": \"en\", \"name\": \"English\"}]\n",
       "4             [{\"iso_639_1\": \"en\", \"name\": \"English\"}]\n",
       "Name: spoken_languages, dtype: object"
      ]
     },
     "execution_count": 36,
     "metadata": {},
     "output_type": "execute_result"
    }
   ],
   "source": [
    "df['spoken_languages'].head()"
   ]
  },
  {
   "cell_type": "code",
   "execution_count": 37,
   "metadata": {},
   "outputs": [
    {
     "data": {
      "text/html": [
       "<div>\n",
       "<style scoped>\n",
       "    .dataframe tbody tr th:only-of-type {\n",
       "        vertical-align: middle;\n",
       "    }\n",
       "\n",
       "    .dataframe tbody tr th {\n",
       "        vertical-align: top;\n",
       "    }\n",
       "\n",
       "    .dataframe thead th {\n",
       "        text-align: right;\n",
       "    }\n",
       "</style>\n",
       "<table border=\"1\" class=\"dataframe\">\n",
       "  <thead>\n",
       "    <tr style=\"text-align: right;\">\n",
       "      <th></th>\n",
       "      <th>0</th>\n",
       "      <th>1</th>\n",
       "      <th>2</th>\n",
       "      <th>3</th>\n",
       "    </tr>\n",
       "  </thead>\n",
       "  <tbody>\n",
       "    <tr>\n",
       "      <th>0</th>\n",
       "      <td>[{</td>\n",
       "      <td>iso_639_1</td>\n",
       "      <td>:</td>\n",
       "      <td>en\", \"name\": \"English\"}, {\"iso_639_1\": \"es\", \"...</td>\n",
       "    </tr>\n",
       "    <tr>\n",
       "      <th>1</th>\n",
       "      <td>[{</td>\n",
       "      <td>iso_639_1</td>\n",
       "      <td>:</td>\n",
       "      <td>en\", \"name\": \"English\"}]</td>\n",
       "    </tr>\n",
       "  </tbody>\n",
       "</table>\n",
       "</div>"
      ],
      "text/plain": [
       "    0          1   2                                                  3\n",
       "0  [{  iso_639_1  :   en\", \"name\": \"English\"}, {\"iso_639_1\": \"es\", \"...\n",
       "1  [{  iso_639_1  :                            en\", \"name\": \"English\"}]"
      ]
     },
     "execution_count": 37,
     "metadata": {},
     "output_type": "execute_result"
    }
   ],
   "source": [
    "data_p = df['spoken_languages'].str.split('\"',3,expand=True)\n",
    "data_p.head(2)"
   ]
  },
  {
   "cell_type": "code",
   "execution_count": 38,
   "metadata": {},
   "outputs": [
    {
     "data": {
      "text/html": [
       "<div>\n",
       "<style scoped>\n",
       "    .dataframe tbody tr th:only-of-type {\n",
       "        vertical-align: middle;\n",
       "    }\n",
       "\n",
       "    .dataframe tbody tr th {\n",
       "        vertical-align: top;\n",
       "    }\n",
       "\n",
       "    .dataframe thead th {\n",
       "        text-align: right;\n",
       "    }\n",
       "</style>\n",
       "<table border=\"1\" class=\"dataframe\">\n",
       "  <thead>\n",
       "    <tr style=\"text-align: right;\">\n",
       "      <th></th>\n",
       "      <th>0</th>\n",
       "      <th>1</th>\n",
       "    </tr>\n",
       "  </thead>\n",
       "  <tbody>\n",
       "    <tr>\n",
       "      <th>0</th>\n",
       "      <td>en</td>\n",
       "      <td>, \"name\": \"English\"}, {\"iso_639_1\": \"es\", \"nam...</td>\n",
       "    </tr>\n",
       "    <tr>\n",
       "      <th>1</th>\n",
       "      <td>en</td>\n",
       "      <td>, \"name\": \"English\"}]</td>\n",
       "    </tr>\n",
       "    <tr>\n",
       "      <th>2</th>\n",
       "      <td>fr</td>\n",
       "      <td>, \"name\": \"Fran\\u00e7ais\"}, {\"iso_639_1\": \"en\"...</td>\n",
       "    </tr>\n",
       "  </tbody>\n",
       "</table>\n",
       "</div>"
      ],
      "text/plain": [
       "    0                                                  1\n",
       "0  en  , \"name\": \"English\"}, {\"iso_639_1\": \"es\", \"nam...\n",
       "1  en                              , \"name\": \"English\"}]\n",
       "2  fr  , \"name\": \"Fran\\u00e7ais\"}, {\"iso_639_1\": \"en\"..."
      ]
     },
     "execution_count": 38,
     "metadata": {},
     "output_type": "execute_result"
    }
   ],
   "source": [
    "data_q = data_p[3].str.split('\"',1,expand=True)\n",
    "data_q.head(3)"
   ]
  },
  {
   "cell_type": "code",
   "execution_count": 39,
   "metadata": {},
   "outputs": [],
   "source": [
    "df['spoken_languages'] = data_q[0]"
   ]
  },
  {
   "cell_type": "code",
   "execution_count": 40,
   "metadata": {},
   "outputs": [
    {
     "data": {
      "text/html": [
       "<div>\n",
       "<style scoped>\n",
       "    .dataframe tbody tr th:only-of-type {\n",
       "        vertical-align: middle;\n",
       "    }\n",
       "\n",
       "    .dataframe tbody tr th {\n",
       "        vertical-align: top;\n",
       "    }\n",
       "\n",
       "    .dataframe thead th {\n",
       "        text-align: right;\n",
       "    }\n",
       "</style>\n",
       "<table border=\"1\" class=\"dataframe\">\n",
       "  <thead>\n",
       "    <tr style=\"text-align: right;\">\n",
       "      <th></th>\n",
       "      <th>budget</th>\n",
       "      <th>genres</th>\n",
       "      <th>id</th>\n",
       "      <th>keywords</th>\n",
       "      <th>original_language</th>\n",
       "      <th>original_title</th>\n",
       "      <th>popularity</th>\n",
       "      <th>production_companies</th>\n",
       "      <th>production_countries</th>\n",
       "      <th>release_date</th>\n",
       "      <th>revenue</th>\n",
       "      <th>runtime</th>\n",
       "      <th>spoken_languages</th>\n",
       "      <th>status</th>\n",
       "      <th>title</th>\n",
       "      <th>vote_average</th>\n",
       "      <th>vote_count</th>\n",
       "    </tr>\n",
       "  </thead>\n",
       "  <tbody>\n",
       "    <tr>\n",
       "      <th>0</th>\n",
       "      <td>237000000</td>\n",
       "      <td>Action</td>\n",
       "      <td>19995</td>\n",
       "      <td>culture clash</td>\n",
       "      <td>en</td>\n",
       "      <td>Avatar</td>\n",
       "      <td>150.437577</td>\n",
       "      <td>Ingenious Film Partners</td>\n",
       "      <td>US</td>\n",
       "      <td>2009</td>\n",
       "      <td>2787965087</td>\n",
       "      <td>162.0</td>\n",
       "      <td>en</td>\n",
       "      <td>Released</td>\n",
       "      <td>Avatar</td>\n",
       "      <td>7.2</td>\n",
       "      <td>11800</td>\n",
       "    </tr>\n",
       "    <tr>\n",
       "      <th>1</th>\n",
       "      <td>300000000</td>\n",
       "      <td>Adventure</td>\n",
       "      <td>285</td>\n",
       "      <td>ocean</td>\n",
       "      <td>en</td>\n",
       "      <td>Pirates of the Caribbean: At World's End</td>\n",
       "      <td>139.082615</td>\n",
       "      <td>Walt Disney Pictures</td>\n",
       "      <td>US</td>\n",
       "      <td>2007</td>\n",
       "      <td>961000000</td>\n",
       "      <td>169.0</td>\n",
       "      <td>en</td>\n",
       "      <td>Released</td>\n",
       "      <td>Pirates of the Caribbean: At World's End</td>\n",
       "      <td>6.9</td>\n",
       "      <td>4500</td>\n",
       "    </tr>\n",
       "    <tr>\n",
       "      <th>2</th>\n",
       "      <td>245000000</td>\n",
       "      <td>Action</td>\n",
       "      <td>206647</td>\n",
       "      <td>spy</td>\n",
       "      <td>en</td>\n",
       "      <td>Spectre</td>\n",
       "      <td>107.376788</td>\n",
       "      <td>Columbia Pictures</td>\n",
       "      <td>GB</td>\n",
       "      <td>2015</td>\n",
       "      <td>880674609</td>\n",
       "      <td>148.0</td>\n",
       "      <td>fr</td>\n",
       "      <td>Released</td>\n",
       "      <td>Spectre</td>\n",
       "      <td>6.3</td>\n",
       "      <td>4466</td>\n",
       "    </tr>\n",
       "    <tr>\n",
       "      <th>3</th>\n",
       "      <td>250000000</td>\n",
       "      <td>Action</td>\n",
       "      <td>49026</td>\n",
       "      <td>dc comics</td>\n",
       "      <td>en</td>\n",
       "      <td>The Dark Knight Rises</td>\n",
       "      <td>112.312950</td>\n",
       "      <td>Legendary Pictures</td>\n",
       "      <td>US</td>\n",
       "      <td>2012</td>\n",
       "      <td>1084939099</td>\n",
       "      <td>165.0</td>\n",
       "      <td>en</td>\n",
       "      <td>Released</td>\n",
       "      <td>The Dark Knight Rises</td>\n",
       "      <td>7.6</td>\n",
       "      <td>9106</td>\n",
       "    </tr>\n",
       "    <tr>\n",
       "      <th>4</th>\n",
       "      <td>260000000</td>\n",
       "      <td>Action</td>\n",
       "      <td>49529</td>\n",
       "      <td>based on novel</td>\n",
       "      <td>en</td>\n",
       "      <td>John Carter</td>\n",
       "      <td>43.926995</td>\n",
       "      <td>Walt Disney Pictures</td>\n",
       "      <td>US</td>\n",
       "      <td>2012</td>\n",
       "      <td>284139100</td>\n",
       "      <td>132.0</td>\n",
       "      <td>en</td>\n",
       "      <td>Released</td>\n",
       "      <td>John Carter</td>\n",
       "      <td>6.1</td>\n",
       "      <td>2124</td>\n",
       "    </tr>\n",
       "  </tbody>\n",
       "</table>\n",
       "</div>"
      ],
      "text/plain": [
       "      budget     genres      id        keywords original_language  \\\n",
       "0  237000000     Action   19995   culture clash                en   \n",
       "1  300000000  Adventure     285           ocean                en   \n",
       "2  245000000     Action  206647             spy                en   \n",
       "3  250000000     Action   49026       dc comics                en   \n",
       "4  260000000     Action   49529  based on novel                en   \n",
       "\n",
       "                             original_title  popularity  \\\n",
       "0                                    Avatar  150.437577   \n",
       "1  Pirates of the Caribbean: At World's End  139.082615   \n",
       "2                                   Spectre  107.376788   \n",
       "3                     The Dark Knight Rises  112.312950   \n",
       "4                               John Carter   43.926995   \n",
       "\n",
       "      production_companies production_countries release_date     revenue  \\\n",
       "0  Ingenious Film Partners                   US         2009  2787965087   \n",
       "1     Walt Disney Pictures                   US         2007   961000000   \n",
       "2        Columbia Pictures                   GB         2015   880674609   \n",
       "3       Legendary Pictures                   US         2012  1084939099   \n",
       "4     Walt Disney Pictures                   US         2012   284139100   \n",
       "\n",
       "   runtime spoken_languages    status  \\\n",
       "0    162.0               en  Released   \n",
       "1    169.0               en  Released   \n",
       "2    148.0               fr  Released   \n",
       "3    165.0               en  Released   \n",
       "4    132.0               en  Released   \n",
       "\n",
       "                                      title  vote_average  vote_count  \n",
       "0                                    Avatar           7.2       11800  \n",
       "1  Pirates of the Caribbean: At World's End           6.9        4500  \n",
       "2                                   Spectre           6.3        4466  \n",
       "3                     The Dark Knight Rises           7.6        9106  \n",
       "4                               John Carter           6.1        2124  "
      ]
     },
     "execution_count": 40,
     "metadata": {},
     "output_type": "execute_result"
    }
   ],
   "source": [
    "df.head()"
   ]
  },
  {
   "cell_type": "code",
   "execution_count": 41,
   "metadata": {},
   "outputs": [
    {
     "data": {
      "text/plain": [
       "Released           4795\n",
       "Rumored               5\n",
       "Post Production       3\n",
       "Name: status, dtype: int64"
      ]
     },
     "execution_count": 41,
     "metadata": {},
     "output_type": "execute_result"
    }
   ],
   "source": [
    "df['status'].value_counts()"
   ]
  },
  {
   "cell_type": "code",
   "execution_count": 42,
   "metadata": {},
   "outputs": [
    {
     "data": {
      "text/plain": [
       "budget                    0\n",
       "genres                   28\n",
       "id                        0\n",
       "keywords                412\n",
       "original_language         0\n",
       "original_title            0\n",
       "popularity                0\n",
       "production_companies    351\n",
       "production_countries    174\n",
       "release_date              1\n",
       "revenue                   0\n",
       "runtime                   2\n",
       "spoken_languages         86\n",
       "status                    0\n",
       "title                     0\n",
       "vote_average              0\n",
       "vote_count                0\n",
       "dtype: int64"
      ]
     },
     "execution_count": 42,
     "metadata": {},
     "output_type": "execute_result"
    }
   ],
   "source": [
    "df.isnull().sum()"
   ]
  },
  {
   "cell_type": "markdown",
   "metadata": {},
   "source": [
    "## Dropping all the Null Values:"
   ]
  },
  {
   "cell_type": "code",
   "execution_count": 43,
   "metadata": {},
   "outputs": [],
   "source": [
    "df.dropna(inplace=True)"
   ]
  },
  {
   "cell_type": "markdown",
   "metadata": {},
   "source": [
    "## Converting Float Type to Int Type"
   ]
  },
  {
   "cell_type": "code",
   "execution_count": 44,
   "metadata": {},
   "outputs": [],
   "source": [
    "df['popularity']=df['popularity'].astype('int64')\n",
    "df['runtime'] = df['runtime'].astype('int64')\n",
    "df['release_date'] = df['release_date'].astype('int64')"
   ]
  },
  {
   "cell_type": "code",
   "execution_count": 45,
   "metadata": {},
   "outputs": [
    {
     "data": {
      "text/plain": [
       "(4162, 17)"
      ]
     },
     "execution_count": 45,
     "metadata": {},
     "output_type": "execute_result"
    }
   ],
   "source": [
    "df.shape"
   ]
  },
  {
   "cell_type": "code",
   "execution_count": 46,
   "metadata": {},
   "outputs": [
    {
     "data": {
      "text/plain": [
       "0.13345825525713095"
      ]
     },
     "execution_count": 46,
     "metadata": {},
     "output_type": "execute_result"
    }
   ],
   "source": [
    "1-4162/4803"
   ]
  },
  {
   "cell_type": "markdown",
   "metadata": {},
   "source": [
    "### 13.3% data is missed,we can neglect that one"
   ]
  },
  {
   "cell_type": "code",
   "execution_count": 47,
   "metadata": {},
   "outputs": [
    {
     "data": {
      "text/html": [
       "<div>\n",
       "<style scoped>\n",
       "    .dataframe tbody tr th:only-of-type {\n",
       "        vertical-align: middle;\n",
       "    }\n",
       "\n",
       "    .dataframe tbody tr th {\n",
       "        vertical-align: top;\n",
       "    }\n",
       "\n",
       "    .dataframe thead th {\n",
       "        text-align: right;\n",
       "    }\n",
       "</style>\n",
       "<table border=\"1\" class=\"dataframe\">\n",
       "  <thead>\n",
       "    <tr style=\"text-align: right;\">\n",
       "      <th></th>\n",
       "      <th>budget</th>\n",
       "      <th>genres</th>\n",
       "      <th>id</th>\n",
       "      <th>keywords</th>\n",
       "      <th>original_language</th>\n",
       "      <th>original_title</th>\n",
       "      <th>popularity</th>\n",
       "      <th>production_companies</th>\n",
       "      <th>production_countries</th>\n",
       "      <th>release_date</th>\n",
       "      <th>revenue</th>\n",
       "      <th>runtime</th>\n",
       "      <th>spoken_languages</th>\n",
       "      <th>status</th>\n",
       "      <th>title</th>\n",
       "      <th>vote_average</th>\n",
       "      <th>vote_count</th>\n",
       "    </tr>\n",
       "  </thead>\n",
       "  <tbody>\n",
       "    <tr>\n",
       "      <th>0</th>\n",
       "      <td>237000000</td>\n",
       "      <td>Action</td>\n",
       "      <td>19995</td>\n",
       "      <td>culture clash</td>\n",
       "      <td>en</td>\n",
       "      <td>Avatar</td>\n",
       "      <td>150</td>\n",
       "      <td>Ingenious Film Partners</td>\n",
       "      <td>US</td>\n",
       "      <td>2009</td>\n",
       "      <td>2787965087</td>\n",
       "      <td>162</td>\n",
       "      <td>en</td>\n",
       "      <td>Released</td>\n",
       "      <td>Avatar</td>\n",
       "      <td>7.2</td>\n",
       "      <td>11800</td>\n",
       "    </tr>\n",
       "    <tr>\n",
       "      <th>1</th>\n",
       "      <td>300000000</td>\n",
       "      <td>Adventure</td>\n",
       "      <td>285</td>\n",
       "      <td>ocean</td>\n",
       "      <td>en</td>\n",
       "      <td>Pirates of the Caribbean: At World's End</td>\n",
       "      <td>139</td>\n",
       "      <td>Walt Disney Pictures</td>\n",
       "      <td>US</td>\n",
       "      <td>2007</td>\n",
       "      <td>961000000</td>\n",
       "      <td>169</td>\n",
       "      <td>en</td>\n",
       "      <td>Released</td>\n",
       "      <td>Pirates of the Caribbean: At World's End</td>\n",
       "      <td>6.9</td>\n",
       "      <td>4500</td>\n",
       "    </tr>\n",
       "    <tr>\n",
       "      <th>2</th>\n",
       "      <td>245000000</td>\n",
       "      <td>Action</td>\n",
       "      <td>206647</td>\n",
       "      <td>spy</td>\n",
       "      <td>en</td>\n",
       "      <td>Spectre</td>\n",
       "      <td>107</td>\n",
       "      <td>Columbia Pictures</td>\n",
       "      <td>GB</td>\n",
       "      <td>2015</td>\n",
       "      <td>880674609</td>\n",
       "      <td>148</td>\n",
       "      <td>fr</td>\n",
       "      <td>Released</td>\n",
       "      <td>Spectre</td>\n",
       "      <td>6.3</td>\n",
       "      <td>4466</td>\n",
       "    </tr>\n",
       "    <tr>\n",
       "      <th>3</th>\n",
       "      <td>250000000</td>\n",
       "      <td>Action</td>\n",
       "      <td>49026</td>\n",
       "      <td>dc comics</td>\n",
       "      <td>en</td>\n",
       "      <td>The Dark Knight Rises</td>\n",
       "      <td>112</td>\n",
       "      <td>Legendary Pictures</td>\n",
       "      <td>US</td>\n",
       "      <td>2012</td>\n",
       "      <td>1084939099</td>\n",
       "      <td>165</td>\n",
       "      <td>en</td>\n",
       "      <td>Released</td>\n",
       "      <td>The Dark Knight Rises</td>\n",
       "      <td>7.6</td>\n",
       "      <td>9106</td>\n",
       "    </tr>\n",
       "    <tr>\n",
       "      <th>4</th>\n",
       "      <td>260000000</td>\n",
       "      <td>Action</td>\n",
       "      <td>49529</td>\n",
       "      <td>based on novel</td>\n",
       "      <td>en</td>\n",
       "      <td>John Carter</td>\n",
       "      <td>43</td>\n",
       "      <td>Walt Disney Pictures</td>\n",
       "      <td>US</td>\n",
       "      <td>2012</td>\n",
       "      <td>284139100</td>\n",
       "      <td>132</td>\n",
       "      <td>en</td>\n",
       "      <td>Released</td>\n",
       "      <td>John Carter</td>\n",
       "      <td>6.1</td>\n",
       "      <td>2124</td>\n",
       "    </tr>\n",
       "  </tbody>\n",
       "</table>\n",
       "</div>"
      ],
      "text/plain": [
       "      budget     genres      id        keywords original_language  \\\n",
       "0  237000000     Action   19995   culture clash                en   \n",
       "1  300000000  Adventure     285           ocean                en   \n",
       "2  245000000     Action  206647             spy                en   \n",
       "3  250000000     Action   49026       dc comics                en   \n",
       "4  260000000     Action   49529  based on novel                en   \n",
       "\n",
       "                             original_title  popularity  \\\n",
       "0                                    Avatar         150   \n",
       "1  Pirates of the Caribbean: At World's End         139   \n",
       "2                                   Spectre         107   \n",
       "3                     The Dark Knight Rises         112   \n",
       "4                               John Carter          43   \n",
       "\n",
       "      production_companies production_countries  release_date     revenue  \\\n",
       "0  Ingenious Film Partners                   US          2009  2787965087   \n",
       "1     Walt Disney Pictures                   US          2007   961000000   \n",
       "2        Columbia Pictures                   GB          2015   880674609   \n",
       "3       Legendary Pictures                   US          2012  1084939099   \n",
       "4     Walt Disney Pictures                   US          2012   284139100   \n",
       "\n",
       "   runtime spoken_languages    status  \\\n",
       "0      162               en  Released   \n",
       "1      169               en  Released   \n",
       "2      148               fr  Released   \n",
       "3      165               en  Released   \n",
       "4      132               en  Released   \n",
       "\n",
       "                                      title  vote_average  vote_count  \n",
       "0                                    Avatar           7.2       11800  \n",
       "1  Pirates of the Caribbean: At World's End           6.9        4500  \n",
       "2                                   Spectre           6.3        4466  \n",
       "3                     The Dark Knight Rises           7.6        9106  \n",
       "4                               John Carter           6.1        2124  "
      ]
     },
     "execution_count": 47,
     "metadata": {},
     "output_type": "execute_result"
    }
   ],
   "source": [
    "df.head()"
   ]
  },
  {
   "cell_type": "markdown",
   "metadata": {},
   "source": [
    "# Now our Data is Cleaned"
   ]
  },
  {
   "cell_type": "code",
   "execution_count": 48,
   "metadata": {},
   "outputs": [
    {
     "name": "stdout",
     "output_type": "stream",
     "text": [
      "---- genres ---\n",
      "Drama        1019\n",
      "Comedy        883\n",
      "Action        685\n",
      "Adventure     324\n",
      "Horror        265\n",
      "Name: genres, dtype: int64\n",
      "---- keywords ---\n",
      "based on novel      93\n",
      "new york            72\n",
      "london england      61\n",
      "prison              57\n",
      "independent film    52\n",
      "Name: keywords, dtype: int64\n",
      "---- original_language ---\n",
      "en    3927\n",
      "fr      56\n",
      "es      27\n",
      "zh      20\n",
      "de      20\n",
      "Name: original_language, dtype: int64\n",
      "---- original_title ---\n",
      "Batman         2\n",
      "Pi             1\n",
      "Devil          1\n",
      "Enough Said    1\n",
      "Saw            1\n",
      "Name: original_title, dtype: int64\n",
      "---- production_companies ---\n",
      "Paramount Pictures                        274\n",
      "Universal Pictures                        252\n",
      "Columbia Pictures                         197\n",
      "Twentieth Century Fox Film Corporation    168\n",
      "New Line Cinema                           152\n",
      "Name: production_companies, dtype: int64\n",
      "---- production_countries ---\n",
      "US    2796\n",
      "GB     342\n",
      "CA     196\n",
      "DE     187\n",
      "FR     155\n",
      "Name: production_countries, dtype: int64\n",
      "---- spoken_languages ---\n",
      "en    3628\n",
      "fr      96\n",
      "es      74\n",
      "de      53\n",
      "ar      31\n",
      "Name: spoken_languages, dtype: int64\n",
      "---- status ---\n",
      "Released    4160\n",
      "Rumored        2\n",
      "Name: status, dtype: int64\n",
      "---- title ---\n",
      "The Host                              2\n",
      "Batman                                2\n",
      "Pi                                    1\n",
      "Psycho                                1\n",
      "Friday the 13th: The Final Chapter    1\n",
      "Name: title, dtype: int64\n"
     ]
    }
   ],
   "source": [
    "for i in df.select_dtypes('object').columns:\n",
    "    print( \"---- %s ---\" % i)\n",
    "    print(df[i].value_counts().head())"
   ]
  },
  {
   "cell_type": "markdown",
   "metadata": {},
   "source": [
    "# Univariate Analysis"
   ]
  },
  {
   "cell_type": "code",
   "execution_count": 49,
   "metadata": {},
   "outputs": [
    {
     "data": {
      "text/plain": [
       "Index(['budget', 'genres', 'id', 'keywords', 'original_language',\n",
       "       'original_title', 'popularity', 'production_companies',\n",
       "       'production_countries', 'release_date', 'revenue', 'runtime',\n",
       "       'spoken_languages', 'status', 'title', 'vote_average', 'vote_count'],\n",
       "      dtype='object')"
      ]
     },
     "execution_count": 49,
     "metadata": {},
     "output_type": "execute_result"
    }
   ],
   "source": [
    "df.columns"
   ]
  },
  {
   "cell_type": "code",
   "execution_count": 50,
   "metadata": {},
   "outputs": [
    {
     "data": {
      "text/plain": [
       "<matplotlib.axes._subplots.AxesSubplot at 0xbb482da048>"
      ]
     },
     "execution_count": 50,
     "metadata": {},
     "output_type": "execute_result"
    },
    {
     "data": {
      "image/png": "[encoded data removed]",
      "text/plain": [
       "<Figure size 432x288 with 1 Axes>"
      ]
     },
     "metadata": {
      "needs_background": "light"
     },
     "output_type": "display_data"
    }
   ],
   "source": [
    "sns.distplot(df['budget'])"
   ]
  },
  {
   "cell_type": "code",
   "execution_count": 51,
   "metadata": {
    "scrolled": true
   },
   "outputs": [
    {
     "data": {
      "text/plain": [
       "<matplotlib.axes._subplots.AxesSubplot at 0xbb48416630>"
      ]
     },
     "execution_count": 51,
     "metadata": {},
     "output_type": "execute_result"
    },
    {
     "data": {
      "image/png": "[encoded data removed]",
      "text/plain": [
       "<Figure size 1440x360 with 1 Axes>"
      ]
     },
     "metadata": {
      "needs_background": "light"
     },
     "output_type": "display_data"
    }
   ],
   "source": [
    "plt.figure(figsize=(20,5))\n",
    "sns.countplot(df['genres'])"
   ]
  },
  {
   "cell_type": "code",
   "execution_count": 52,
   "metadata": {},
   "outputs": [
    {
     "data": {
      "text/plain": [
       "<matplotlib.axes._subplots.AxesSubplot at 0xbb484614e0>"
      ]
     },
     "execution_count": 52,
     "metadata": {},
     "output_type": "execute_result"
    },
    {
     "data": {
      "image/png": "[encoded data removed]",
      "text/plain": [
       "<Figure size 720x360 with 1 Axes>"
      ]
     },
     "metadata": {
      "needs_background": "light"
     },
     "output_type": "display_data"
    }
   ],
   "source": [
    "plt.figure(figsize=(10,5))\n",
    "sns.countplot(df['original_language'])"
   ]
  },
  {
   "cell_type": "code",
   "execution_count": 53,
   "metadata": {},
   "outputs": [
    {
     "data": {
      "text/plain": [
       "<matplotlib.axes._subplots.AxesSubplot at 0xbb48a1bb70>"
      ]
     },
     "execution_count": 53,
     "metadata": {},
     "output_type": "execute_result"
    },
    {
     "data": {
      "image/png": "[encoded data removed]",
      "text/plain": [
       "<Figure size 2520x504 with 1 Axes>"
      ]
     },
     "metadata": {
      "needs_background": "light"
     },
     "output_type": "display_data"
    }
   ],
   "source": [
    "plt.figure(figsize=(35,7))\n",
    "sns.countplot(df['production_companies'].head(30))"
   ]
  },
  {
   "cell_type": "code",
   "execution_count": 54,
   "metadata": {},
   "outputs": [
    {
     "data": {
      "text/plain": [
       "<matplotlib.axes._subplots.AxesSubplot at 0xbb48aae7f0>"
      ]
     },
     "execution_count": 54,
     "metadata": {},
     "output_type": "execute_result"
    },
    {
     "data": {
      "image/png": "[encoded data removed]",
      "text/plain": [
       "<Figure size 1440x360 with 1 Axes>"
      ]
     },
     "metadata": {
      "needs_background": "light"
     },
     "output_type": "display_data"
    }
   ],
   "source": [
    "plt.figure(figsize=(20,5))\n",
    "sns.countplot(df['production_countries'])"
   ]
  },
  {
   "cell_type": "code",
   "execution_count": 55,
   "metadata": {},
   "outputs": [
    {
     "data": {
      "text/plain": [
       "<matplotlib.axes._subplots.AxesSubplot at 0xbb4902aa58>"
      ]
     },
     "execution_count": 55,
     "metadata": {},
     "output_type": "execute_result"
    },
    {
     "data": {
      "image/png": "[encoded data removed]",
      "text/plain": [
       "<Figure size 2160x504 with 1 Axes>"
      ]
     },
     "metadata": {
      "needs_background": "light"
     },
     "output_type": "display_data"
    }
   ],
   "source": [
    "plt.figure(figsize=(30,7))\n",
    "sns.countplot(df['release_date'].head(30))"
   ]
  },
  {
   "cell_type": "code",
   "execution_count": 56,
   "metadata": {},
   "outputs": [
    {
     "data": {
      "text/plain": [
       "<matplotlib.axes._subplots.AxesSubplot at 0xbb48af4a90>"
      ]
     },
     "execution_count": 56,
     "metadata": {},
     "output_type": "execute_result"
    },
    {
     "data": {
      "image/png": "[encoded data removed]",
      "text/plain": [
       "<Figure size 1080x360 with 1 Axes>"
      ]
     },
     "metadata": {
      "needs_background": "light"
     },
     "output_type": "display_data"
    }
   ],
   "source": [
    "plt.figure(figsize=(15,5))\n",
    "sns.countplot(df['spoken_languages'])"
   ]
  },
  {
   "cell_type": "code",
   "execution_count": 57,
   "metadata": {},
   "outputs": [
    {
     "data": {
      "text/plain": [
       "Released    4160\n",
       "Rumored        2\n",
       "Name: status, dtype: int64"
      ]
     },
     "execution_count": 57,
     "metadata": {},
     "output_type": "execute_result"
    }
   ],
   "source": [
    "df['status'].value_counts()"
   ]
  },
  {
   "cell_type": "code",
   "execution_count": 58,
   "metadata": {},
   "outputs": [
    {
     "data": {
      "text/plain": [
       "<matplotlib.axes._subplots.AxesSubplot at 0xbb48fb65f8>"
      ]
     },
     "execution_count": 58,
     "metadata": {},
     "output_type": "execute_result"
    },
    {
     "data": {
      "image/png": "[encoded data removed]",
      "text/plain": [
       "<Figure size 432x288 with 1 Axes>"
      ]
     },
     "metadata": {
      "needs_background": "light"
     },
     "output_type": "display_data"
    }
   ],
   "source": [
    "df['status'].value_counts().plot.bar()"
   ]
  },
  {
   "cell_type": "code",
   "execution_count": 59,
   "metadata": {},
   "outputs": [
    {
     "data": {
      "text/plain": [
       "<matplotlib.axes._subplots.AxesSubplot at 0xbb495934a8>"
      ]
     },
     "execution_count": 59,
     "metadata": {},
     "output_type": "execute_result"
    },
    {
     "data": {
      "image/png": "[encoded data removed]",
      "text/plain": [
       "<Figure size 432x288 with 1 Axes>"
      ]
     },
     "metadata": {
      "needs_background": "light"
     },
     "output_type": "display_data"
    }
   ],
   "source": [
    "sns.distplot(df['revenue'])"
   ]
  },
  {
   "cell_type": "markdown",
   "metadata": {},
   "source": [
    "# Bivariate Analysis"
   ]
  },
  {
   "cell_type": "code",
   "execution_count": 60,
   "metadata": {},
   "outputs": [
    {
     "data": {
      "text/plain": [
       "genres\n",
       "Action             35309902395\n",
       "Adventure          21877831736\n",
       "Animation           8148032353\n",
       "Comedy             18618699640\n",
       "Crime               4171235753\n",
       "Documentary          163595145\n",
       "Drama              21143931141\n",
       "Family              2323877800\n",
       "Fantasy             6017038831\n",
       "Foreign                 225000\n",
       "History              608085000\n",
       "Horror              3436694269\n",
       "Music                512461360\n",
       "Mystery              901830000\n",
       "Romance             2143880100\n",
       "Science Fiction     4699882003\n",
       "TV Movie               1000000\n",
       "Thriller            4656170035\n",
       "War                  877250000\n",
       "Western              613923783\n",
       "Name: budget, dtype: int64"
      ]
     },
     "execution_count": 60,
     "metadata": {},
     "output_type": "execute_result"
    }
   ],
   "source": [
    "df['budget'].groupby(df['genres']).agg('sum')"
   ]
  },
  {
   "cell_type": "code",
   "execution_count": 61,
   "metadata": {},
   "outputs": [
    {
     "data": {
      "text/plain": [
       "<matplotlib.axes._subplots.AxesSubplot at 0xbb4965a748>"
      ]
     },
     "execution_count": 61,
     "metadata": {},
     "output_type": "execute_result"
    },
    {
     "data": {
      "image/png": "[encoded data removed]",
      "text/plain": [
       "<Figure size 1800x360 with 1 Axes>"
      ]
     },
     "metadata": {
      "needs_background": "light"
     },
     "output_type": "display_data"
    }
   ],
   "source": [
    "plt.figure(figsize=(25,5))\n",
    "sns.barplot(df['genres'],df['budget'],estimator=np.sum)"
   ]
  },
  {
   "cell_type": "code",
   "execution_count": 62,
   "metadata": {},
   "outputs": [
    {
     "data": {
      "text/plain": [
       "<matplotlib.axes._subplots.AxesSubplot at 0xbb498725c0>"
      ]
     },
     "execution_count": 62,
     "metadata": {},
     "output_type": "execute_result"
    },
    {
     "data": {
      "image/png": "[encoded data removed]",
      "text/plain": [
       "<Figure size 1800x360 with 1 Axes>"
      ]
     },
     "metadata": {
      "needs_background": "light"
     },
     "output_type": "display_data"
    }
   ],
   "source": [
    "plt.figure(figsize=(25,5))\n",
    "sns.barplot(df['original_language'],df['budget'],estimator=np.sum)"
   ]
  },
  {
   "cell_type": "code",
   "execution_count": 63,
   "metadata": {},
   "outputs": [
    {
     "data": {
      "text/plain": [
       "<matplotlib.legend.Legend at 0xbb49996f28>"
      ]
     },
     "execution_count": 63,
     "metadata": {},
     "output_type": "execute_result"
    },
    {
     "data": {
      "image/png": "[encoded data removed]",
      "text/plain": [
       "<Figure size 432x288 with 1 Axes>"
      ]
     },
     "metadata": {
      "needs_background": "light"
     },
     "output_type": "display_data"
    }
   ],
   "source": [
    "sns.scatterplot(df['budget'],df['popularity'],hue=df['genres'])\n",
    "plt.legend('A simple line')"
   ]
  },
  {
   "cell_type": "code",
   "execution_count": 64,
   "metadata": {},
   "outputs": [
    {
     "data": {
      "text/plain": [
       "<matplotlib.axes._subplots.AxesSubplot at 0xbb49e93c50>"
      ]
     },
     "execution_count": 64,
     "metadata": {},
     "output_type": "execute_result"
    },
    {
     "data": {
      "image/png": "[encoded data removed]",
      "text/plain": [
       "<Figure size 1800x360 with 1 Axes>"
      ]
     },
     "metadata": {
      "needs_background": "light"
     },
     "output_type": "display_data"
    }
   ],
   "source": [
    "plt.figure(figsize=(25,5))\n",
    "sns.barplot(df['production_countries'],df['budget'],estimator=np.sum)"
   ]
  },
  {
   "cell_type": "code",
   "execution_count": 65,
   "metadata": {},
   "outputs": [
    {
     "data": {
      "text/plain": [
       "<matplotlib.axes._subplots.AxesSubplot at 0xbb4b717fd0>"
      ]
     },
     "execution_count": 65,
     "metadata": {},
     "output_type": "execute_result"
    },
    {
     "data": {
      "image/png": "[encoded data removed]",
      "text/plain": [
       "<Figure size 3600x1080 with 1 Axes>"
      ]
     },
     "metadata": {
      "needs_background": "light"
     },
     "output_type": "display_data"
    }
   ],
   "source": [
    "plt.figure(figsize=(50,15))\n",
    "sns.barplot(df['release_date'],df['budget'],estimator=np.sum)"
   ]
  },
  {
   "cell_type": "code",
   "execution_count": 66,
   "metadata": {},
   "outputs": [
    {
     "data": {
      "text/plain": [
       "<seaborn.axisgrid.JointGrid at 0xbb4cb500b8>"
      ]
     },
     "execution_count": 66,
     "metadata": {},
     "output_type": "execute_result"
    },
    {
     "data": {
      "image/png": "[encoded data removed]",
      "text/plain": [
       "<Figure size 432x432 with 3 Axes>"
      ]
     },
     "metadata": {
      "needs_background": "light"
     },
     "output_type": "display_data"
    }
   ],
   "source": [
    "sns.jointplot(df['budget'],df['revenue'])"
   ]
  },
  {
   "cell_type": "code",
   "execution_count": 67,
   "metadata": {},
   "outputs": [
    {
     "data": {
      "text/plain": [
       "<seaborn.axisgrid.JointGrid at 0xbb4b987080>"
      ]
     },
     "execution_count": 67,
     "metadata": {},
     "output_type": "execute_result"
    },
    {
     "data": {
      "image/png": "[encoded data removed]",
      "text/plain": [
       "<Figure size 432x432 with 3 Axes>"
      ]
     },
     "metadata": {
      "needs_background": "light"
     },
     "output_type": "display_data"
    }
   ],
   "source": [
    "sns.jointplot(df['budget'],df['runtime'])"
   ]
  },
  {
   "cell_type": "code",
   "execution_count": 68,
   "metadata": {},
   "outputs": [
    {
     "data": {
      "text/plain": [
       "<matplotlib.axes._subplots.AxesSubplot at 0xbb48db32e8>"
      ]
     },
     "execution_count": 68,
     "metadata": {},
     "output_type": "execute_result"
    },
    {
     "data": {
      "image/png": "[encoded data removed]",
      "text/plain": [
       "<Figure size 2160x360 with 1 Axes>"
      ]
     },
     "metadata": {
      "needs_background": "light"
     },
     "output_type": "display_data"
    }
   ],
   "source": [
    "plt.figure(figsize=(30,5))\n",
    "sns.barplot(df['spoken_languages'],df['budget'],estimator=np.sum)"
   ]
  },
  {
   "cell_type": "code",
   "execution_count": 69,
   "metadata": {},
   "outputs": [
    {
     "data": {
      "text/plain": [
       "<seaborn.axisgrid.JointGrid at 0xbb4c179dd8>"
      ]
     },
     "execution_count": 69,
     "metadata": {},
     "output_type": "execute_result"
    },
    {
     "data": {
      "image/png": "[encoded data removed]",
      "text/plain": [
       "<Figure size 432x432 with 3 Axes>"
      ]
     },
     "metadata": {
      "needs_background": "light"
     },
     "output_type": "display_data"
    }
   ],
   "source": [
    "sns.jointplot(df['budget'],df['vote_average'])"
   ]
  },
  {
   "cell_type": "code",
   "execution_count": 70,
   "metadata": {},
   "outputs": [
    {
     "data": {
      "text/plain": [
       "<seaborn.axisgrid.JointGrid at 0xbb4c5499b0>"
      ]
     },
     "execution_count": 70,
     "metadata": {},
     "output_type": "execute_result"
    },
    {
     "data": {
      "image/png": "[encoded data removed]",
      "text/plain": [
       "<Figure size 432x432 with 3 Axes>"
      ]
     },
     "metadata": {
      "needs_background": "light"
     },
     "output_type": "display_data"
    }
   ],
   "source": [
    "sns.jointplot(df['budget'],df['vote_count'])"
   ]
  },
  {
   "cell_type": "code",
   "execution_count": 71,
   "metadata": {},
   "outputs": [
    {
     "data": {
      "text/plain": [
       "<matplotlib.legend.Legend at 0xbb4bd69898>"
      ]
     },
     "execution_count": 71,
     "metadata": {},
     "output_type": "execute_result"
    },
    {
     "data": {
      "text/plain": [
       "<Figure size 1080x720 with 0 Axes>"
      ]
     },
     "metadata": {},
     "output_type": "display_data"
    },
    {
     "data": {
      "image/png": "[encoded data removed]",
      "text/plain": [
       "<Figure size 432x288 with 1 Axes>"
      ]
     },
     "metadata": {
      "needs_background": "light"
     },
     "output_type": "display_data"
    }
   ],
   "source": [
    "plt.figure(figsize=(15,10))\n",
    "pd.crosstab(df['genres'],df['original_language']).plot.bar()\n",
    "plt.legend('A simple line')"
   ]
  },
  {
   "cell_type": "code",
   "execution_count": 72,
   "metadata": {},
   "outputs": [
    {
     "data": {
      "text/plain": [
       "<matplotlib.legend.Legend at 0xbb4d994550>"
      ]
     },
     "execution_count": 72,
     "metadata": {},
     "output_type": "execute_result"
    },
    {
     "data": {
      "text/plain": [
       "<Figure size 1080x720 with 0 Axes>"
      ]
     },
     "metadata": {},
     "output_type": "display_data"
    },
    {
     "data": {
      "image/png": "[encoded data removed]",
      "text/plain": [
       "<Figure size 432x288 with 1 Axes>"
      ]
     },
     "metadata": {
      "needs_background": "light"
     },
     "output_type": "display_data"
    }
   ],
   "source": [
    "plt.figure(figsize=(15,10))\n",
    "pd.crosstab(df['genres'],df['original_language']).plot.bar()\n",
    "plt.legend('A simple line')"
   ]
  },
  {
   "cell_type": "code",
   "execution_count": 73,
   "metadata": {},
   "outputs": [
    {
     "data": {
      "text/plain": [
       "<matplotlib.axes._subplots.AxesSubplot at 0xbb4d994e10>"
      ]
     },
     "execution_count": 73,
     "metadata": {},
     "output_type": "execute_result"
    },
    {
     "data": {
      "image/png": "[encoded data removed]",
      "text/plain": [
       "<Figure size 1440x360 with 1 Axes>"
      ]
     },
     "metadata": {
      "needs_background": "light"
     },
     "output_type": "display_data"
    }
   ],
   "source": [
    "plt.figure(figsize=(20,5))\n",
    "sns.barplot(df['genres'],df['popularity'],estimator=np.sum)"
   ]
  },
  {
   "cell_type": "code",
   "execution_count": 74,
   "metadata": {},
   "outputs": [
    {
     "data": {
      "text/plain": [
       "<matplotlib.legend.Legend at 0xbb4f107ac8>"
      ]
     },
     "execution_count": 74,
     "metadata": {},
     "output_type": "execute_result"
    },
    {
     "data": {
      "image/png": "[encoded data removed]",
      "text/plain": [
       "<Figure size 432x288 with 1 Axes>"
      ]
     },
     "metadata": {
      "needs_background": "light"
     },
     "output_type": "display_data"
    }
   ],
   "source": [
    "pd.crosstab(df['genres'],df['production_countries']).plot.bar()\n",
    "plt.legend('A simple line')"
   ]
  },
  {
   "cell_type": "code",
   "execution_count": 75,
   "metadata": {},
   "outputs": [
    {
     "data": {
      "text/plain": [
       "<matplotlib.legend.Legend at 0xbb4ff6f198>"
      ]
     },
     "execution_count": 75,
     "metadata": {},
     "output_type": "execute_result"
    },
    {
     "data": {
      "image/png": "[encoded data removed]",
      "text/plain": [
       "<Figure size 432x288 with 1 Axes>"
      ]
     },
     "metadata": {
      "needs_background": "light"
     },
     "output_type": "display_data"
    }
   ],
   "source": [
    "pd.crosstab(df['genres'],df['release_date']).plot.bar(stacked=True)\n",
    "plt.legend('A simple line')"
   ]
  },
  {
   "cell_type": "code",
   "execution_count": 76,
   "metadata": {},
   "outputs": [
    {
     "data": {
      "text/plain": [
       "<matplotlib.axes._subplots.AxesSubplot at 0xbb4f29c898>"
      ]
     },
     "execution_count": 76,
     "metadata": {},
     "output_type": "execute_result"
    },
    {
     "data": {
      "image/png": "[encoded data removed]",
      "text/plain": [
       "<Figure size 1800x504 with 1 Axes>"
      ]
     },
     "metadata": {
      "needs_background": "light"
     },
     "output_type": "display_data"
    }
   ],
   "source": [
    "plt.figure(figsize=(25,7))\n",
    "sns.barplot(df['genres'],df['revenue'],estimator=np.sum)"
   ]
  },
  {
   "cell_type": "code",
   "execution_count": 77,
   "metadata": {},
   "outputs": [
    {
     "data": {
      "text/plain": [
       "<matplotlib.axes._subplots.AxesSubplot at 0xbb50595ac8>"
      ]
     },
     "execution_count": 77,
     "metadata": {},
     "output_type": "execute_result"
    },
    {
     "data": {
      "image/png": "[encoded data removed]",
      "text/plain": [
       "<Figure size 1800x504 with 1 Axes>"
      ]
     },
     "metadata": {
      "needs_background": "light"
     },
     "output_type": "display_data"
    }
   ],
   "source": [
    "plt.figure(figsize=(25,7))\n",
    "sns.barplot(df['genres'],df['runtime'],estimator=np.mean)"
   ]
  },
  {
   "cell_type": "code",
   "execution_count": 78,
   "metadata": {},
   "outputs": [
    {
     "data": {
      "text/plain": [
       "<matplotlib.legend.Legend at 0xbb51421160>"
      ]
     },
     "execution_count": 78,
     "metadata": {},
     "output_type": "execute_result"
    },
    {
     "data": {
      "image/png": "[encoded data removed]",
      "text/plain": [
       "<Figure size 432x288 with 1 Axes>"
      ]
     },
     "metadata": {
      "needs_background": "light"
     },
     "output_type": "display_data"
    }
   ],
   "source": [
    "pd.crosstab(df['genres'],df['spoken_languages']).plot.bar(stacked=True)\n",
    "plt.legend('A simple line')"
   ]
  },
  {
   "cell_type": "code",
   "execution_count": 79,
   "metadata": {},
   "outputs": [
    {
     "data": {
      "text/plain": [
       "<matplotlib.axes._subplots.AxesSubplot at 0xbb533937b8>"
      ]
     },
     "execution_count": 79,
     "metadata": {},
     "output_type": "execute_result"
    },
    {
     "data": {
      "image/png": "[encoded data removed]",
      "text/plain": [
       "<Figure size 1800x504 with 1 Axes>"
      ]
     },
     "metadata": {
      "needs_background": "light"
     },
     "output_type": "display_data"
    }
   ],
   "source": [
    "plt.figure(figsize=(25,7))\n",
    "sns.barplot(df['genres'],df['vote_average'],estimator=np.sum)"
   ]
  },
  {
   "cell_type": "code",
   "execution_count": 80,
   "metadata": {},
   "outputs": [
    {
     "data": {
      "text/plain": [
       "<matplotlib.axes._subplots.AxesSubplot at 0xbb53565358>"
      ]
     },
     "execution_count": 80,
     "metadata": {},
     "output_type": "execute_result"
    },
    {
     "data": {
      "image/png": "[encoded data removed]",
      "text/plain": [
       "<Figure size 1800x504 with 1 Axes>"
      ]
     },
     "metadata": {
      "needs_background": "light"
     },
     "output_type": "display_data"
    }
   ],
   "source": [
    "plt.figure(figsize=(25,7))\n",
    "sns.barplot(df['genres'],df['vote_count'],estimator=np.mean)"
   ]
  },
  {
   "cell_type": "code",
   "execution_count": 81,
   "metadata": {},
   "outputs": [],
   "source": [
    "df.to_csv('movies_cleaned.csv',index=False)  #Saving cleaned file to csv format for visualisation in Tableau."
   ]
  },
  {
   "cell_type": "code",
   "execution_count": 82,
   "metadata": {},
   "outputs": [
    {
     "data": {
      "text/html": [
       "<div>\n",
       "<style scoped>\n",
       "    .dataframe tbody tr th:only-of-type {\n",
       "        vertical-align: middle;\n",
       "    }\n",
       "\n",
       "    .dataframe tbody tr th {\n",
       "        vertical-align: top;\n",
       "    }\n",
       "\n",
       "    .dataframe thead th {\n",
       "        text-align: right;\n",
       "    }\n",
       "</style>\n",
       "<table border=\"1\" class=\"dataframe\">\n",
       "  <thead>\n",
       "    <tr style=\"text-align: right;\">\n",
       "      <th></th>\n",
       "      <th>budget</th>\n",
       "      <th>genres</th>\n",
       "      <th>id</th>\n",
       "      <th>keywords</th>\n",
       "      <th>original_language</th>\n",
       "      <th>original_title</th>\n",
       "      <th>popularity</th>\n",
       "      <th>production_companies</th>\n",
       "      <th>production_countries</th>\n",
       "      <th>release_date</th>\n",
       "      <th>revenue</th>\n",
       "      <th>runtime</th>\n",
       "      <th>spoken_languages</th>\n",
       "      <th>status</th>\n",
       "      <th>title</th>\n",
       "      <th>vote_average</th>\n",
       "      <th>vote_count</th>\n",
       "    </tr>\n",
       "  </thead>\n",
       "  <tbody>\n",
       "    <tr>\n",
       "      <th>0</th>\n",
       "      <td>237000000</td>\n",
       "      <td>Action</td>\n",
       "      <td>19995</td>\n",
       "      <td>culture clash</td>\n",
       "      <td>en</td>\n",
       "      <td>Avatar</td>\n",
       "      <td>150</td>\n",
       "      <td>Ingenious Film Partners</td>\n",
       "      <td>US</td>\n",
       "      <td>2009</td>\n",
       "      <td>2787965087</td>\n",
       "      <td>162</td>\n",
       "      <td>en</td>\n",
       "      <td>Released</td>\n",
       "      <td>Avatar</td>\n",
       "      <td>7.2</td>\n",
       "      <td>11800</td>\n",
       "    </tr>\n",
       "    <tr>\n",
       "      <th>1</th>\n",
       "      <td>300000000</td>\n",
       "      <td>Adventure</td>\n",
       "      <td>285</td>\n",
       "      <td>ocean</td>\n",
       "      <td>en</td>\n",
       "      <td>Pirates of the Caribbean: At World's End</td>\n",
       "      <td>139</td>\n",
       "      <td>Walt Disney Pictures</td>\n",
       "      <td>US</td>\n",
       "      <td>2007</td>\n",
       "      <td>961000000</td>\n",
       "      <td>169</td>\n",
       "      <td>en</td>\n",
       "      <td>Released</td>\n",
       "      <td>Pirates of the Caribbean: At World's End</td>\n",
       "      <td>6.9</td>\n",
       "      <td>4500</td>\n",
       "    </tr>\n",
       "    <tr>\n",
       "      <th>2</th>\n",
       "      <td>245000000</td>\n",
       "      <td>Action</td>\n",
       "      <td>206647</td>\n",
       "      <td>spy</td>\n",
       "      <td>en</td>\n",
       "      <td>Spectre</td>\n",
       "      <td>107</td>\n",
       "      <td>Columbia Pictures</td>\n",
       "      <td>GB</td>\n",
       "      <td>2015</td>\n",
       "      <td>880674609</td>\n",
       "      <td>148</td>\n",
       "      <td>fr</td>\n",
       "      <td>Released</td>\n",
       "      <td>Spectre</td>\n",
       "      <td>6.3</td>\n",
       "      <td>4466</td>\n",
       "    </tr>\n",
       "    <tr>\n",
       "      <th>3</th>\n",
       "      <td>250000000</td>\n",
       "      <td>Action</td>\n",
       "      <td>49026</td>\n",
       "      <td>dc comics</td>\n",
       "      <td>en</td>\n",
       "      <td>The Dark Knight Rises</td>\n",
       "      <td>112</td>\n",
       "      <td>Legendary Pictures</td>\n",
       "      <td>US</td>\n",
       "      <td>2012</td>\n",
       "      <td>1084939099</td>\n",
       "      <td>165</td>\n",
       "      <td>en</td>\n",
       "      <td>Released</td>\n",
       "      <td>The Dark Knight Rises</td>\n",
       "      <td>7.6</td>\n",
       "      <td>9106</td>\n",
       "    </tr>\n",
       "    <tr>\n",
       "      <th>4</th>\n",
       "      <td>260000000</td>\n",
       "      <td>Action</td>\n",
       "      <td>49529</td>\n",
       "      <td>based on novel</td>\n",
       "      <td>en</td>\n",
       "      <td>John Carter</td>\n",
       "      <td>43</td>\n",
       "      <td>Walt Disney Pictures</td>\n",
       "      <td>US</td>\n",
       "      <td>2012</td>\n",
       "      <td>284139100</td>\n",
       "      <td>132</td>\n",
       "      <td>en</td>\n",
       "      <td>Released</td>\n",
       "      <td>John Carter</td>\n",
       "      <td>6.1</td>\n",
       "      <td>2124</td>\n",
       "    </tr>\n",
       "  </tbody>\n",
       "</table>\n",
       "</div>"
      ],
      "text/plain": [
       "      budget     genres      id        keywords original_language  \\\n",
       "0  237000000     Action   19995   culture clash                en   \n",
       "1  300000000  Adventure     285           ocean                en   \n",
       "2  245000000     Action  206647             spy                en   \n",
       "3  250000000     Action   49026       dc comics                en   \n",
       "4  260000000     Action   49529  based on novel                en   \n",
       "\n",
       "                             original_title  popularity  \\\n",
       "0                                    Avatar         150   \n",
       "1  Pirates of the Caribbean: At World's End         139   \n",
       "2                                   Spectre         107   \n",
       "3                     The Dark Knight Rises         112   \n",
       "4                               John Carter          43   \n",
       "\n",
       "      production_companies production_countries  release_date     revenue  \\\n",
       "0  Ingenious Film Partners                   US          2009  2787965087   \n",
       "1     Walt Disney Pictures                   US          2007   961000000   \n",
       "2        Columbia Pictures                   GB          2015   880674609   \n",
       "3       Legendary Pictures                   US          2012  1084939099   \n",
       "4     Walt Disney Pictures                   US          2012   284139100   \n",
       "\n",
       "   runtime spoken_languages    status  \\\n",
       "0      162               en  Released   \n",
       "1      169               en  Released   \n",
       "2      148               fr  Released   \n",
       "3      165               en  Released   \n",
       "4      132               en  Released   \n",
       "\n",
       "                                      title  vote_average  vote_count  \n",
       "0                                    Avatar           7.2       11800  \n",
       "1  Pirates of the Caribbean: At World's End           6.9        4500  \n",
       "2                                   Spectre           6.3        4466  \n",
       "3                     The Dark Knight Rises           7.6        9106  \n",
       "4                               John Carter           6.1        2124  "
      ]
     },
     "execution_count": 82,
     "metadata": {},
     "output_type": "execute_result"
    }
   ],
   "source": [
    "df1 = df.copy()\n",
    "df1.head()"
   ]
  },
  {
   "cell_type": "code",
   "execution_count": 83,
   "metadata": {},
   "outputs": [],
   "source": [
    "df1.drop(['id','keywords','original_title','title','status'],axis=1,inplace=True)"
   ]
  },
  {
   "cell_type": "code",
   "execution_count": 84,
   "metadata": {},
   "outputs": [
    {
     "data": {
      "text/html": [
       "<div>\n",
       "<style scoped>\n",
       "    .dataframe tbody tr th:only-of-type {\n",
       "        vertical-align: middle;\n",
       "    }\n",
       "\n",
       "    .dataframe tbody tr th {\n",
       "        vertical-align: top;\n",
       "    }\n",
       "\n",
       "    .dataframe thead th {\n",
       "        text-align: right;\n",
       "    }\n",
       "</style>\n",
       "<table border=\"1\" class=\"dataframe\">\n",
       "  <thead>\n",
       "    <tr style=\"text-align: right;\">\n",
       "      <th></th>\n",
       "      <th>budget</th>\n",
       "      <th>genres</th>\n",
       "      <th>original_language</th>\n",
       "      <th>popularity</th>\n",
       "      <th>production_companies</th>\n",
       "      <th>production_countries</th>\n",
       "      <th>release_date</th>\n",
       "      <th>revenue</th>\n",
       "      <th>runtime</th>\n",
       "      <th>spoken_languages</th>\n",
       "      <th>vote_average</th>\n",
       "      <th>vote_count</th>\n",
       "    </tr>\n",
       "  </thead>\n",
       "  <tbody>\n",
       "    <tr>\n",
       "      <th>0</th>\n",
       "      <td>237000000</td>\n",
       "      <td>Action</td>\n",
       "      <td>en</td>\n",
       "      <td>150</td>\n",
       "      <td>Ingenious Film Partners</td>\n",
       "      <td>US</td>\n",
       "      <td>2009</td>\n",
       "      <td>2787965087</td>\n",
       "      <td>162</td>\n",
       "      <td>en</td>\n",
       "      <td>7.2</td>\n",
       "      <td>11800</td>\n",
       "    </tr>\n",
       "    <tr>\n",
       "      <th>1</th>\n",
       "      <td>300000000</td>\n",
       "      <td>Adventure</td>\n",
       "      <td>en</td>\n",
       "      <td>139</td>\n",
       "      <td>Walt Disney Pictures</td>\n",
       "      <td>US</td>\n",
       "      <td>2007</td>\n",
       "      <td>961000000</td>\n",
       "      <td>169</td>\n",
       "      <td>en</td>\n",
       "      <td>6.9</td>\n",
       "      <td>4500</td>\n",
       "    </tr>\n",
       "    <tr>\n",
       "      <th>2</th>\n",
       "      <td>245000000</td>\n",
       "      <td>Action</td>\n",
       "      <td>en</td>\n",
       "      <td>107</td>\n",
       "      <td>Columbia Pictures</td>\n",
       "      <td>GB</td>\n",
       "      <td>2015</td>\n",
       "      <td>880674609</td>\n",
       "      <td>148</td>\n",
       "      <td>fr</td>\n",
       "      <td>6.3</td>\n",
       "      <td>4466</td>\n",
       "    </tr>\n",
       "    <tr>\n",
       "      <th>3</th>\n",
       "      <td>250000000</td>\n",
       "      <td>Action</td>\n",
       "      <td>en</td>\n",
       "      <td>112</td>\n",
       "      <td>Legendary Pictures</td>\n",
       "      <td>US</td>\n",
       "      <td>2012</td>\n",
       "      <td>1084939099</td>\n",
       "      <td>165</td>\n",
       "      <td>en</td>\n",
       "      <td>7.6</td>\n",
       "      <td>9106</td>\n",
       "    </tr>\n",
       "    <tr>\n",
       "      <th>4</th>\n",
       "      <td>260000000</td>\n",
       "      <td>Action</td>\n",
       "      <td>en</td>\n",
       "      <td>43</td>\n",
       "      <td>Walt Disney Pictures</td>\n",
       "      <td>US</td>\n",
       "      <td>2012</td>\n",
       "      <td>284139100</td>\n",
       "      <td>132</td>\n",
       "      <td>en</td>\n",
       "      <td>6.1</td>\n",
       "      <td>2124</td>\n",
       "    </tr>\n",
       "  </tbody>\n",
       "</table>\n",
       "</div>"
      ],
      "text/plain": [
       "      budget     genres original_language  popularity  \\\n",
       "0  237000000     Action                en         150   \n",
       "1  300000000  Adventure                en         139   \n",
       "2  245000000     Action                en         107   \n",
       "3  250000000     Action                en         112   \n",
       "4  260000000     Action                en          43   \n",
       "\n",
       "      production_companies production_countries  release_date     revenue  \\\n",
       "0  Ingenious Film Partners                   US          2009  2787965087   \n",
       "1     Walt Disney Pictures                   US          2007   961000000   \n",
       "2        Columbia Pictures                   GB          2015   880674609   \n",
       "3       Legendary Pictures                   US          2012  1084939099   \n",
       "4     Walt Disney Pictures                   US          2012   284139100   \n",
       "\n",
       "   runtime spoken_languages  vote_average  vote_count  \n",
       "0      162               en           7.2       11800  \n",
       "1      169               en           6.9        4500  \n",
       "2      148               fr           6.3        4466  \n",
       "3      165               en           7.6        9106  \n",
       "4      132               en           6.1        2124  "
      ]
     },
     "execution_count": 84,
     "metadata": {},
     "output_type": "execute_result"
    }
   ],
   "source": [
    "df1.head()"
   ]
  },
  {
   "cell_type": "code",
   "execution_count": 85,
   "metadata": {},
   "outputs": [],
   "source": [
    "from sklearn.preprocessing import LabelEncoder\n",
    "le = LabelEncoder()\n",
    "df1['genres'] = le.fit_transform(df1['genres'])\n",
    "df1['original_language'] = le.fit_transform(df1['original_language'])\n",
    "df1['production_companies'] = le.fit_transform(df1['production_companies'])\n",
    "df1['production_countries'] = le.fit_transform(df1['production_countries'])\n",
    "df1['spoken_languages'] = le.fit_transform(df1['spoken_languages'])"
   ]
  },
  {
   "cell_type": "code",
   "execution_count": 86,
   "metadata": {},
   "outputs": [
    {
     "data": {
      "text/html": [
       "<div>\n",
       "<style scoped>\n",
       "    .dataframe tbody tr th:only-of-type {\n",
       "        vertical-align: middle;\n",
       "    }\n",
       "\n",
       "    .dataframe tbody tr th {\n",
       "        vertical-align: top;\n",
       "    }\n",
       "\n",
       "    .dataframe thead th {\n",
       "        text-align: right;\n",
       "    }\n",
       "</style>\n",
       "<table border=\"1\" class=\"dataframe\">\n",
       "  <thead>\n",
       "    <tr style=\"text-align: right;\">\n",
       "      <th></th>\n",
       "      <th>budget</th>\n",
       "      <th>genres</th>\n",
       "      <th>original_language</th>\n",
       "      <th>popularity</th>\n",
       "      <th>production_companies</th>\n",
       "      <th>production_countries</th>\n",
       "      <th>release_date</th>\n",
       "      <th>revenue</th>\n",
       "      <th>runtime</th>\n",
       "      <th>spoken_languages</th>\n",
       "      <th>vote_average</th>\n",
       "      <th>vote_count</th>\n",
       "    </tr>\n",
       "  </thead>\n",
       "  <tbody>\n",
       "    <tr>\n",
       "      <th>0</th>\n",
       "      <td>237000000</td>\n",
       "      <td>0</td>\n",
       "      <td>6</td>\n",
       "      <td>150</td>\n",
       "      <td>546</td>\n",
       "      <td>61</td>\n",
       "      <td>2009</td>\n",
       "      <td>2787965087</td>\n",
       "      <td>162</td>\n",
       "      <td>13</td>\n",
       "      <td>7.2</td>\n",
       "      <td>11800</td>\n",
       "    </tr>\n",
       "    <tr>\n",
       "      <th>1</th>\n",
       "      <td>300000000</td>\n",
       "      <td>1</td>\n",
       "      <td>6</td>\n",
       "      <td>139</td>\n",
       "      <td>1126</td>\n",
       "      <td>61</td>\n",
       "      <td>2007</td>\n",
       "      <td>961000000</td>\n",
       "      <td>169</td>\n",
       "      <td>13</td>\n",
       "      <td>6.9</td>\n",
       "      <td>4500</td>\n",
       "    </tr>\n",
       "    <tr>\n",
       "      <th>2</th>\n",
       "      <td>245000000</td>\n",
       "      <td>0</td>\n",
       "      <td>6</td>\n",
       "      <td>107</td>\n",
       "      <td>236</td>\n",
       "      <td>26</td>\n",
       "      <td>2015</td>\n",
       "      <td>880674609</td>\n",
       "      <td>148</td>\n",
       "      <td>18</td>\n",
       "      <td>6.3</td>\n",
       "      <td>4466</td>\n",
       "    </tr>\n",
       "    <tr>\n",
       "      <th>3</th>\n",
       "      <td>250000000</td>\n",
       "      <td>0</td>\n",
       "      <td>6</td>\n",
       "      <td>112</td>\n",
       "      <td>621</td>\n",
       "      <td>61</td>\n",
       "      <td>2012</td>\n",
       "      <td>1084939099</td>\n",
       "      <td>165</td>\n",
       "      <td>13</td>\n",
       "      <td>7.6</td>\n",
       "      <td>9106</td>\n",
       "    </tr>\n",
       "    <tr>\n",
       "      <th>4</th>\n",
       "      <td>260000000</td>\n",
       "      <td>0</td>\n",
       "      <td>6</td>\n",
       "      <td>43</td>\n",
       "      <td>1126</td>\n",
       "      <td>61</td>\n",
       "      <td>2012</td>\n",
       "      <td>284139100</td>\n",
       "      <td>132</td>\n",
       "      <td>13</td>\n",
       "      <td>6.1</td>\n",
       "      <td>2124</td>\n",
       "    </tr>\n",
       "  </tbody>\n",
       "</table>\n",
       "</div>"
      ],
      "text/plain": [
       "      budget  genres  original_language  popularity  production_companies  \\\n",
       "0  237000000       0                  6         150                   546   \n",
       "1  300000000       1                  6         139                  1126   \n",
       "2  245000000       0                  6         107                   236   \n",
       "3  250000000       0                  6         112                   621   \n",
       "4  260000000       0                  6          43                  1126   \n",
       "\n",
       "   production_countries  release_date     revenue  runtime  spoken_languages  \\\n",
       "0                    61          2009  2787965087      162                13   \n",
       "1                    61          2007   961000000      169                13   \n",
       "2                    26          2015   880674609      148                18   \n",
       "3                    61          2012  1084939099      165                13   \n",
       "4                    61          2012   284139100      132                13   \n",
       "\n",
       "   vote_average  vote_count  \n",
       "0           7.2       11800  \n",
       "1           6.9        4500  \n",
       "2           6.3        4466  \n",
       "3           7.6        9106  \n",
       "4           6.1        2124  "
      ]
     },
     "execution_count": 86,
     "metadata": {},
     "output_type": "execute_result"
    }
   ],
   "source": [
    "df1.head()"
   ]
  },
  {
   "cell_type": "code",
   "execution_count": 87,
   "metadata": {},
   "outputs": [
    {
     "data": {
      "text/plain": [
       "(4162, 12)"
      ]
     },
     "execution_count": 87,
     "metadata": {},
     "output_type": "execute_result"
    }
   ],
   "source": [
    "df1.shape"
   ]
  },
  {
   "cell_type": "markdown",
   "metadata": {},
   "source": [
    "## Regression - Revenue, Before Scaling:"
   ]
  },
  {
   "cell_type": "code",
   "execution_count": 88,
   "metadata": {},
   "outputs": [],
   "source": [
    "X = df1.drop('revenue',axis=1)\n",
    "y = df1['revenue']"
   ]
  },
  {
   "cell_type": "code",
   "execution_count": 89,
   "metadata": {},
   "outputs": [],
   "source": [
    "from sklearn.model_selection import train_test_split\n",
    "xtrain,xtest,ytrain,ytest = train_test_split(X,y,test_size=0.30,random_state=42)"
   ]
  },
  {
   "cell_type": "code",
   "execution_count": 90,
   "metadata": {},
   "outputs": [],
   "source": [
    "from sklearn.linear_model import LinearRegression\n",
    "from sklearn.tree import DecisionTreeRegressor\n",
    "from sklearn.ensemble import RandomForestRegressor\n",
    "from sklearn.ensemble import AdaBoostRegressor\n",
    "from sklearn.ensemble import BaggingRegressor\n",
    "from sklearn.ensemble import GradientBoostingRegressor\n",
    "\n",
    "lr = LinearRegression()\n",
    "dt = DecisionTreeRegressor()\n",
    "rf = RandomForestRegressor()\n",
    "bag = BaggingRegressor()\n",
    "ada = AdaBoostRegressor()\n",
    "gb = GradientBoostingRegressor()"
   ]
  },
  {
   "cell_type": "code",
   "execution_count": 91,
   "metadata": {},
   "outputs": [],
   "source": [
    "from sklearn.metrics import r2_score,mean_squared_error\n",
    "models = [lr,dt,rf,bag,ada,gb]\n",
    "def revenue(a,b,c,d):\n",
    "    for i in models:\n",
    "        i.fit(a,c)\n",
    "        ypred = i.predict(b)\n",
    "        print('Model: {}'.format(i))\n",
    "        print('R2_Score: ',r2_score(d,ypred))\n",
    "        print('RMSE: ',np.sqrt(mean_squared_error(d,ypred)))\n",
    "        print('MAPE: ',np.mean(np.abs((d - ypred) / d)) * 100)"
   ]
  },
  {
   "cell_type": "code",
   "execution_count": 92,
   "metadata": {},
   "outputs": [
    {
     "name": "stdout",
     "output_type": "stream",
     "text": [
      "Model: LinearRegression(copy_X=True, fit_intercept=True, n_jobs=None, normalize=False)\n",
      "R2_Score:  0.69566712858748\n",
      "RMSE:  111623572.41439249\n",
      "MAPE:  inf\n",
      "Model: DecisionTreeRegressor(criterion='mse', max_depth=None, max_features=None,\n",
      "                      max_leaf_nodes=None, min_impurity_decrease=0.0,\n",
      "                      min_impurity_split=None, min_samples_leaf=1,\n",
      "                      min_samples_split=2, min_weight_fraction_leaf=0.0,\n",
      "                      presort=False, random_state=None, splitter='best')\n",
      "R2_Score:  0.5676660065699\n",
      "RMSE:  133042739.22707976\n",
      "MAPE:  inf\n",
      "Model: RandomForestRegressor(bootstrap=True, criterion='mse', max_depth=None,\n",
      "                      max_features='auto', max_leaf_nodes=None,\n",
      "                      min_impurity_decrease=0.0, min_impurity_split=None,\n",
      "                      min_samples_leaf=1, min_samples_split=2,\n",
      "                      min_weight_fraction_leaf=0.0, n_estimators=10,\n",
      "                      n_jobs=None, oob_score=False, random_state=None,\n",
      "                      verbose=0, warm_start=False)\n",
      "R2_Score:  0.7370156185160427\n",
      "RMSE:  103763942.45062254\n",
      "MAPE:  inf\n",
      "Model: BaggingRegressor(base_estimator=None, bootstrap=True, bootstrap_features=False,\n",
      "                 max_features=1.0, max_samples=1.0, n_estimators=10,\n",
      "                 n_jobs=None, oob_score=False, random_state=None, verbose=0,\n",
      "                 warm_start=False)\n",
      "R2_Score:  0.7260492057009243\n",
      "RMSE:  105905317.79986764\n",
      "MAPE:  inf\n",
      "Model: AdaBoostRegressor(base_estimator=None, learning_rate=1.0, loss='linear',\n",
      "                  n_estimators=50, random_state=None)\n",
      "R2_Score:  0.5192020204925222\n",
      "RMSE:  140301657.8306814\n",
      "MAPE:  inf\n",
      "Model: GradientBoostingRegressor(alpha=0.9, criterion='friedman_mse', init=None,\n",
      "                          learning_rate=0.1, loss='ls', max_depth=3,\n",
      "                          max_features=None, max_leaf_nodes=None,\n",
      "                          min_impurity_decrease=0.0, min_impurity_split=None,\n",
      "                          min_samples_leaf=1, min_samples_split=2,\n",
      "                          min_weight_fraction_leaf=0.0, n_estimators=100,\n",
      "                          n_iter_no_change=None, presort='auto',\n",
      "                          random_state=None, subsample=1.0, tol=0.0001,\n",
      "                          validation_fraction=0.1, verbose=0, warm_start=False)\n",
      "R2_Score:  0.7381955456482119\n",
      "RMSE:  103530902.88804913\n",
      "MAPE:  inf\n"
     ]
    }
   ],
   "source": [
    "revenue(xtrain,xtest,ytrain,ytest)"
   ]
  },
  {
   "cell_type": "markdown",
   "metadata": {},
   "source": [
    "## Regression - Revenue - After Scaling:"
   ]
  },
  {
   "cell_type": "code",
   "execution_count": 93,
   "metadata": {},
   "outputs": [],
   "source": [
    "from scipy.stats import zscore\n",
    "df_scaled = df1.apply(zscore)"
   ]
  },
  {
   "cell_type": "code",
   "execution_count": 94,
   "metadata": {},
   "outputs": [],
   "source": [
    "X_z = df_scaled.drop('revenue',axis=1)\n",
    "y_z = df_scaled['revenue']"
   ]
  },
  {
   "cell_type": "code",
   "execution_count": 95,
   "metadata": {},
   "outputs": [],
   "source": [
    "xtrain_z,xtest_z,ytrain_z,ytest_z = train_test_split(X_z,y_z,test_size=0.30,random_state=42)"
   ]
  },
  {
   "cell_type": "code",
   "execution_count": 96,
   "metadata": {},
   "outputs": [
    {
     "name": "stdout",
     "output_type": "stream",
     "text": [
      "Model: LinearRegression(copy_X=True, fit_intercept=True, n_jobs=None, normalize=False)\n",
      "R2_Score:  0.69566712858748\n",
      "RMSE:  0.6504603377851556\n",
      "MAPE:  168.94499739597063\n",
      "Model: DecisionTreeRegressor(criterion='mse', max_depth=None, max_features=None,\n",
      "                      max_leaf_nodes=None, min_impurity_decrease=0.0,\n",
      "                      min_impurity_split=None, min_samples_leaf=1,\n",
      "                      min_samples_split=2, min_weight_fraction_leaf=0.0,\n",
      "                      presort=False, random_state=None, splitter='best')\n",
      "R2_Score:  0.5912388914132274\n",
      "RMSE:  0.7538434621344023\n",
      "MAPE:  405.0340219513878\n",
      "Model: RandomForestRegressor(bootstrap=True, criterion='mse', max_depth=None,\n",
      "                      max_features='auto', max_leaf_nodes=None,\n",
      "                      min_impurity_decrease=0.0, min_impurity_split=None,\n",
      "                      min_samples_leaf=1, min_samples_split=2,\n",
      "                      min_weight_fraction_leaf=0.0, n_estimators=10,\n",
      "                      n_jobs=None, oob_score=False, random_state=None,\n",
      "                      verbose=0, warm_start=False)\n",
      "R2_Score:  0.7338325362343224\n",
      "RMSE:  0.6083084813908017\n",
      "MAPE:  250.2936817749902\n",
      "Model: BaggingRegressor(base_estimator=None, bootstrap=True, bootstrap_features=False,\n",
      "                 max_features=1.0, max_samples=1.0, n_estimators=10,\n",
      "                 n_jobs=None, oob_score=False, random_state=None, verbose=0,\n",
      "                 warm_start=False)\n",
      "R2_Score:  0.7459574745072173\n",
      "RMSE:  0.5942916102524541\n",
      "MAPE:  235.64191567172134\n",
      "Model: AdaBoostRegressor(base_estimator=None, learning_rate=1.0, loss='linear',\n",
      "                  n_estimators=50, random_state=None)\n",
      "R2_Score:  0.5500128984612696\n",
      "RMSE:  0.79094524803005\n",
      "MAPE:  517.302982715876\n",
      "Model: GradientBoostingRegressor(alpha=0.9, criterion='friedman_mse', init=None,\n",
      "                          learning_rate=0.1, loss='ls', max_depth=3,\n",
      "                          max_features=None, max_leaf_nodes=None,\n",
      "                          min_impurity_decrease=0.0, min_impurity_split=None,\n",
      "                          min_samples_leaf=1, min_samples_split=2,\n",
      "                          min_weight_fraction_leaf=0.0, n_estimators=100,\n",
      "                          n_iter_no_change=None, presort='auto',\n",
      "                          random_state=None, subsample=1.0, tol=0.0001,\n",
      "                          validation_fraction=0.1, verbose=0, warm_start=False)\n",
      "R2_Score:  0.741701059678431\n",
      "RMSE:  0.5992495281646885\n",
      "MAPE:  154.03147335327253\n"
     ]
    }
   ],
   "source": [
    "revenue(xtrain_z,xtest_z,ytrain_z,ytest_z)"
   ]
  },
  {
   "cell_type": "markdown",
   "metadata": {},
   "source": [
    "1. After Scaling the R2_Score has drastically decreased and RMSE has been decreased but Mean absolute percentage error is still in 100's form.\n",
    "\n",
    "2. The best Model is Gradient Boost Regressor, as this has high r2_score and low MAPE."
   ]
  },
  {
   "cell_type": "markdown",
   "metadata": {},
   "source": [
    "## Regression - Revenue - After Treating Dependent Variable:"
   ]
  },
  {
   "cell_type": "code",
   "execution_count": 97,
   "metadata": {},
   "outputs": [
    {
     "data": {
      "text/plain": [
       "<matplotlib.axes._subplots.AxesSubplot at 0xbb5468e668>"
      ]
     },
     "execution_count": 97,
     "metadata": {},
     "output_type": "execute_result"
    },
    {
     "data": {
      "image/png": "[encoded data removed]",
      "text/plain": [
       "<Figure size 432x288 with 1 Axes>"
      ]
     },
     "metadata": {
      "needs_background": "light"
     },
     "output_type": "display_data"
    }
   ],
   "source": [
    "sns.distplot(df1['revenue'])"
   ]
  },
  {
   "cell_type": "code",
   "execution_count": 98,
   "metadata": {},
   "outputs": [
    {
     "data": {
      "text/plain": [
       "<matplotlib.axes._subplots.AxesSubplot at 0xbb573425f8>"
      ]
     },
     "execution_count": 98,
     "metadata": {},
     "output_type": "execute_result"
    },
    {
     "data": {
      "image/png": "[encoded data removed]",
      "text/plain": [
       "<Figure size 432x288 with 1 Axes>"
      ]
     },
     "metadata": {
      "needs_background": "light"
     },
     "output_type": "display_data"
    }
   ],
   "source": [
    "from sklearn.preprocessing import FunctionTransformer\n",
    "exp_transformer = FunctionTransformer(np.sqrt)\n",
    "df1['revenue'] = exp_transformer.fit_transform(df1[['revenue']])\n",
    "sns.distplot(df1['revenue'])"
   ]
  },
  {
   "cell_type": "code",
   "execution_count": 99,
   "metadata": {},
   "outputs": [
    {
     "data": {
      "text/html": [
       "<div>\n",
       "<style scoped>\n",
       "    .dataframe tbody tr th:only-of-type {\n",
       "        vertical-align: middle;\n",
       "    }\n",
       "\n",
       "    .dataframe tbody tr th {\n",
       "        vertical-align: top;\n",
       "    }\n",
       "\n",
       "    .dataframe thead th {\n",
       "        text-align: right;\n",
       "    }\n",
       "</style>\n",
       "<table border=\"1\" class=\"dataframe\">\n",
       "  <thead>\n",
       "    <tr style=\"text-align: right;\">\n",
       "      <th></th>\n",
       "      <th>budget</th>\n",
       "      <th>genres</th>\n",
       "      <th>original_language</th>\n",
       "      <th>popularity</th>\n",
       "      <th>production_companies</th>\n",
       "      <th>production_countries</th>\n",
       "      <th>release_date</th>\n",
       "      <th>revenue</th>\n",
       "      <th>runtime</th>\n",
       "      <th>spoken_languages</th>\n",
       "      <th>vote_average</th>\n",
       "      <th>vote_count</th>\n",
       "    </tr>\n",
       "  </thead>\n",
       "  <tbody>\n",
       "    <tr>\n",
       "      <th>0</th>\n",
       "      <td>237000000</td>\n",
       "      <td>0</td>\n",
       "      <td>6</td>\n",
       "      <td>150</td>\n",
       "      <td>546</td>\n",
       "      <td>61</td>\n",
       "      <td>2009</td>\n",
       "      <td>52801.184523</td>\n",
       "      <td>162</td>\n",
       "      <td>13</td>\n",
       "      <td>7.2</td>\n",
       "      <td>11800</td>\n",
       "    </tr>\n",
       "    <tr>\n",
       "      <th>1</th>\n",
       "      <td>300000000</td>\n",
       "      <td>1</td>\n",
       "      <td>6</td>\n",
       "      <td>139</td>\n",
       "      <td>1126</td>\n",
       "      <td>61</td>\n",
       "      <td>2007</td>\n",
       "      <td>31000.000000</td>\n",
       "      <td>169</td>\n",
       "      <td>13</td>\n",
       "      <td>6.9</td>\n",
       "      <td>4500</td>\n",
       "    </tr>\n",
       "    <tr>\n",
       "      <th>2</th>\n",
       "      <td>245000000</td>\n",
       "      <td>0</td>\n",
       "      <td>6</td>\n",
       "      <td>107</td>\n",
       "      <td>236</td>\n",
       "      <td>26</td>\n",
       "      <td>2015</td>\n",
       "      <td>29676.162302</td>\n",
       "      <td>148</td>\n",
       "      <td>18</td>\n",
       "      <td>6.3</td>\n",
       "      <td>4466</td>\n",
       "    </tr>\n",
       "    <tr>\n",
       "      <th>3</th>\n",
       "      <td>250000000</td>\n",
       "      <td>0</td>\n",
       "      <td>6</td>\n",
       "      <td>112</td>\n",
       "      <td>621</td>\n",
       "      <td>61</td>\n",
       "      <td>2012</td>\n",
       "      <td>32938.413729</td>\n",
       "      <td>165</td>\n",
       "      <td>13</td>\n",
       "      <td>7.6</td>\n",
       "      <td>9106</td>\n",
       "    </tr>\n",
       "    <tr>\n",
       "      <th>4</th>\n",
       "      <td>260000000</td>\n",
       "      <td>0</td>\n",
       "      <td>6</td>\n",
       "      <td>43</td>\n",
       "      <td>1126</td>\n",
       "      <td>61</td>\n",
       "      <td>2012</td>\n",
       "      <td>16856.426074</td>\n",
       "      <td>132</td>\n",
       "      <td>13</td>\n",
       "      <td>6.1</td>\n",
       "      <td>2124</td>\n",
       "    </tr>\n",
       "  </tbody>\n",
       "</table>\n",
       "</div>"
      ],
      "text/plain": [
       "      budget  genres  original_language  popularity  production_companies  \\\n",
       "0  237000000       0                  6         150                   546   \n",
       "1  300000000       1                  6         139                  1126   \n",
       "2  245000000       0                  6         107                   236   \n",
       "3  250000000       0                  6         112                   621   \n",
       "4  260000000       0                  6          43                  1126   \n",
       "\n",
       "   production_countries  release_date       revenue  runtime  \\\n",
       "0                    61          2009  52801.184523      162   \n",
       "1                    61          2007  31000.000000      169   \n",
       "2                    26          2015  29676.162302      148   \n",
       "3                    61          2012  32938.413729      165   \n",
       "4                    61          2012  16856.426074      132   \n",
       "\n",
       "   spoken_languages  vote_average  vote_count  \n",
       "0                13           7.2       11800  \n",
       "1                13           6.9        4500  \n",
       "2                18           6.3        4466  \n",
       "3                13           7.6        9106  \n",
       "4                13           6.1        2124  "
      ]
     },
     "execution_count": 99,
     "metadata": {},
     "output_type": "execute_result"
    }
   ],
   "source": [
    "df1.head()"
   ]
  },
  {
   "cell_type": "code",
   "execution_count": 100,
   "metadata": {},
   "outputs": [],
   "source": [
    "df1_scaled = df1.apply(zscore)"
   ]
  },
  {
   "cell_type": "code",
   "execution_count": 101,
   "metadata": {},
   "outputs": [],
   "source": [
    "X_sq = df1_scaled.drop('revenue',axis=1)\n",
    "y_sq = df1_scaled['revenue']"
   ]
  },
  {
   "cell_type": "code",
   "execution_count": 102,
   "metadata": {},
   "outputs": [],
   "source": [
    "from sklearn.model_selection import train_test_split\n",
    "xtrain_sq,xtest_sq,ytrain_sq,ytest_sq = train_test_split(X_sq,y_sq,test_size=0.30,random_state=42)"
   ]
  },
  {
   "cell_type": "code",
   "execution_count": 103,
   "metadata": {},
   "outputs": [
    {
     "name": "stdout",
     "output_type": "stream",
     "text": [
      "Model: LinearRegression(copy_X=True, fit_intercept=True, n_jobs=None, normalize=False)\n",
      "R2_Score:  0.7068328252300189\n",
      "RMSE:  0.5812733219501536\n",
      "MAPE:  435.6156099565311\n",
      "Model: DecisionTreeRegressor(criterion='mse', max_depth=None, max_features=None,\n",
      "                      max_leaf_nodes=None, min_impurity_decrease=0.0,\n",
      "                      min_impurity_split=None, min_samples_leaf=1,\n",
      "                      min_samples_split=2, min_weight_fraction_leaf=0.0,\n",
      "                      presort=False, random_state=None, splitter='best')\n",
      "R2_Score:  0.6083333031493785\n",
      "RMSE:  0.6718634920367909\n",
      "MAPE:  412.92026138095395\n",
      "Model: RandomForestRegressor(bootstrap=True, criterion='mse', max_depth=None,\n",
      "                      max_features='auto', max_leaf_nodes=None,\n",
      "                      min_impurity_decrease=0.0, min_impurity_split=None,\n",
      "                      min_samples_leaf=1, min_samples_split=2,\n",
      "                      min_weight_fraction_leaf=0.0, n_estimators=10,\n",
      "                      n_jobs=None, oob_score=False, random_state=None,\n",
      "                      verbose=0, warm_start=False)\n",
      "R2_Score:  0.7733674538422091\n",
      "RMSE:  0.5110740843262966\n",
      "MAPE:  624.1898677258342\n",
      "Model: BaggingRegressor(base_estimator=None, bootstrap=True, bootstrap_features=False,\n",
      "                 max_features=1.0, max_samples=1.0, n_estimators=10,\n",
      "                 n_jobs=None, oob_score=False, random_state=None, verbose=0,\n",
      "                 warm_start=False)\n",
      "R2_Score:  0.7699592809726385\n",
      "RMSE:  0.5149025923991319\n",
      "MAPE:  541.737082804948\n",
      "Model: AdaBoostRegressor(base_estimator=None, learning_rate=1.0, loss='linear',\n",
      "                  n_estimators=50, random_state=None)\n",
      "R2_Score:  0.6569461925095662\n",
      "RMSE:  0.6287874168579615\n",
      "MAPE:  331.05887284733353\n",
      "Model: GradientBoostingRegressor(alpha=0.9, criterion='friedman_mse', init=None,\n",
      "                          learning_rate=0.1, loss='ls', max_depth=3,\n",
      "                          max_features=None, max_leaf_nodes=None,\n",
      "                          min_impurity_decrease=0.0, min_impurity_split=None,\n",
      "                          min_samples_leaf=1, min_samples_split=2,\n",
      "                          min_weight_fraction_leaf=0.0, n_estimators=100,\n",
      "                          n_iter_no_change=None, presort='auto',\n",
      "                          random_state=None, subsample=1.0, tol=0.0001,\n",
      "                          validation_fraction=0.1, verbose=0, warm_start=False)\n",
      "R2_Score:  0.7926133661692674\n",
      "RMSE:  0.4888921921626229\n",
      "MAPE:  472.34928141397086\n"
     ]
    }
   ],
   "source": [
    "revenue(xtrain_sq,xtest_sq,ytrain_sq,ytest_sq)"
   ]
  },
  {
   "cell_type": "markdown",
   "metadata": {},
   "source": [
    "1. The Parametric Models are affected by Outliers and Extreme Values, so we transformed our dependent variable with applying square root.\n",
    "\n",
    "2. The best model after applying z-score and treating our dependent variable is Gradient Boosting Regressor."
   ]
  },
  {
   "cell_type": "markdown",
   "metadata": {},
   "source": [
    "## Classification -  Genres"
   ]
  },
  {
   "cell_type": "code",
   "execution_count": 104,
   "metadata": {
    "scrolled": true
   },
   "outputs": [
    {
     "data": {
      "text/html": [
       "<div>\n",
       "<style scoped>\n",
       "    .dataframe tbody tr th:only-of-type {\n",
       "        vertical-align: middle;\n",
       "    }\n",
       "\n",
       "    .dataframe tbody tr th {\n",
       "        vertical-align: top;\n",
       "    }\n",
       "\n",
       "    .dataframe thead th {\n",
       "        text-align: right;\n",
       "    }\n",
       "</style>\n",
       "<table border=\"1\" class=\"dataframe\">\n",
       "  <thead>\n",
       "    <tr style=\"text-align: right;\">\n",
       "      <th></th>\n",
       "      <th>budget</th>\n",
       "      <th>genres</th>\n",
       "      <th>id</th>\n",
       "      <th>keywords</th>\n",
       "      <th>original_language</th>\n",
       "      <th>original_title</th>\n",
       "      <th>popularity</th>\n",
       "      <th>production_companies</th>\n",
       "      <th>production_countries</th>\n",
       "      <th>release_date</th>\n",
       "      <th>revenue</th>\n",
       "      <th>runtime</th>\n",
       "      <th>spoken_languages</th>\n",
       "      <th>status</th>\n",
       "      <th>title</th>\n",
       "      <th>vote_average</th>\n",
       "      <th>vote_count</th>\n",
       "    </tr>\n",
       "  </thead>\n",
       "  <tbody>\n",
       "    <tr>\n",
       "      <th>0</th>\n",
       "      <td>237000000</td>\n",
       "      <td>Action</td>\n",
       "      <td>19995</td>\n",
       "      <td>culture clash</td>\n",
       "      <td>en</td>\n",
       "      <td>Avatar</td>\n",
       "      <td>150</td>\n",
       "      <td>Ingenious Film Partners</td>\n",
       "      <td>US</td>\n",
       "      <td>2009</td>\n",
       "      <td>2787965087</td>\n",
       "      <td>162</td>\n",
       "      <td>en</td>\n",
       "      <td>Released</td>\n",
       "      <td>Avatar</td>\n",
       "      <td>7.2</td>\n",
       "      <td>11800</td>\n",
       "    </tr>\n",
       "    <tr>\n",
       "      <th>1</th>\n",
       "      <td>300000000</td>\n",
       "      <td>Adventure</td>\n",
       "      <td>285</td>\n",
       "      <td>ocean</td>\n",
       "      <td>en</td>\n",
       "      <td>Pirates of the Caribbean: At World's End</td>\n",
       "      <td>139</td>\n",
       "      <td>Walt Disney Pictures</td>\n",
       "      <td>US</td>\n",
       "      <td>2007</td>\n",
       "      <td>961000000</td>\n",
       "      <td>169</td>\n",
       "      <td>en</td>\n",
       "      <td>Released</td>\n",
       "      <td>Pirates of the Caribbean: At World's End</td>\n",
       "      <td>6.9</td>\n",
       "      <td>4500</td>\n",
       "    </tr>\n",
       "    <tr>\n",
       "      <th>2</th>\n",
       "      <td>245000000</td>\n",
       "      <td>Action</td>\n",
       "      <td>206647</td>\n",
       "      <td>spy</td>\n",
       "      <td>en</td>\n",
       "      <td>Spectre</td>\n",
       "      <td>107</td>\n",
       "      <td>Columbia Pictures</td>\n",
       "      <td>GB</td>\n",
       "      <td>2015</td>\n",
       "      <td>880674609</td>\n",
       "      <td>148</td>\n",
       "      <td>fr</td>\n",
       "      <td>Released</td>\n",
       "      <td>Spectre</td>\n",
       "      <td>6.3</td>\n",
       "      <td>4466</td>\n",
       "    </tr>\n",
       "    <tr>\n",
       "      <th>3</th>\n",
       "      <td>250000000</td>\n",
       "      <td>Action</td>\n",
       "      <td>49026</td>\n",
       "      <td>dc comics</td>\n",
       "      <td>en</td>\n",
       "      <td>The Dark Knight Rises</td>\n",
       "      <td>112</td>\n",
       "      <td>Legendary Pictures</td>\n",
       "      <td>US</td>\n",
       "      <td>2012</td>\n",
       "      <td>1084939099</td>\n",
       "      <td>165</td>\n",
       "      <td>en</td>\n",
       "      <td>Released</td>\n",
       "      <td>The Dark Knight Rises</td>\n",
       "      <td>7.6</td>\n",
       "      <td>9106</td>\n",
       "    </tr>\n",
       "    <tr>\n",
       "      <th>4</th>\n",
       "      <td>260000000</td>\n",
       "      <td>Action</td>\n",
       "      <td>49529</td>\n",
       "      <td>based on novel</td>\n",
       "      <td>en</td>\n",
       "      <td>John Carter</td>\n",
       "      <td>43</td>\n",
       "      <td>Walt Disney Pictures</td>\n",
       "      <td>US</td>\n",
       "      <td>2012</td>\n",
       "      <td>284139100</td>\n",
       "      <td>132</td>\n",
       "      <td>en</td>\n",
       "      <td>Released</td>\n",
       "      <td>John Carter</td>\n",
       "      <td>6.1</td>\n",
       "      <td>2124</td>\n",
       "    </tr>\n",
       "  </tbody>\n",
       "</table>\n",
       "</div>"
      ],
      "text/plain": [
       "      budget     genres      id        keywords original_language  \\\n",
       "0  237000000     Action   19995   culture clash                en   \n",
       "1  300000000  Adventure     285           ocean                en   \n",
       "2  245000000     Action  206647             spy                en   \n",
       "3  250000000     Action   49026       dc comics                en   \n",
       "4  260000000     Action   49529  based on novel                en   \n",
       "\n",
       "                             original_title  popularity  \\\n",
       "0                                    Avatar         150   \n",
       "1  Pirates of the Caribbean: At World's End         139   \n",
       "2                                   Spectre         107   \n",
       "3                     The Dark Knight Rises         112   \n",
       "4                               John Carter          43   \n",
       "\n",
       "      production_companies production_countries  release_date     revenue  \\\n",
       "0  Ingenious Film Partners                   US          2009  2787965087   \n",
       "1     Walt Disney Pictures                   US          2007   961000000   \n",
       "2        Columbia Pictures                   GB          2015   880674609   \n",
       "3       Legendary Pictures                   US          2012  1084939099   \n",
       "4     Walt Disney Pictures                   US          2012   284139100   \n",
       "\n",
       "   runtime spoken_languages    status  \\\n",
       "0      162               en  Released   \n",
       "1      169               en  Released   \n",
       "2      148               fr  Released   \n",
       "3      165               en  Released   \n",
       "4      132               en  Released   \n",
       "\n",
       "                                      title  vote_average  vote_count  \n",
       "0                                    Avatar           7.2       11800  \n",
       "1  Pirates of the Caribbean: At World's End           6.9        4500  \n",
       "2                                   Spectre           6.3        4466  \n",
       "3                     The Dark Knight Rises           7.6        9106  \n",
       "4                               John Carter           6.1        2124  "
      ]
     },
     "execution_count": 104,
     "metadata": {},
     "output_type": "execute_result"
    }
   ],
   "source": [
    "df2 = df.copy()\n",
    "df2.head()"
   ]
  },
  {
   "cell_type": "code",
   "execution_count": 105,
   "metadata": {},
   "outputs": [],
   "source": [
    "df2.drop(['id','keywords','original_title','title','status'],axis=1,inplace=True)"
   ]
  },
  {
   "cell_type": "code",
   "execution_count": 106,
   "metadata": {},
   "outputs": [
    {
     "data": {
      "text/plain": [
       "Drama              1019\n",
       "Comedy              883\n",
       "Action              685\n",
       "Adventure           324\n",
       "Horror              265\n",
       "Crime               180\n",
       "Thriller            165\n",
       "Animation           111\n",
       "Fantasy             111\n",
       "Romance              95\n",
       "Science Fiction      90\n",
       "Documentary          49\n",
       "Family               45\n",
       "Mystery              38\n",
       "Music                30\n",
       "History              24\n",
       "Western              23\n",
       "War                  22\n",
       "TV Movie              2\n",
       "Foreign               1\n",
       "Name: genres, dtype: int64"
      ]
     },
     "execution_count": 106,
     "metadata": {},
     "output_type": "execute_result"
    }
   ],
   "source": [
    "df2['genres'].value_counts()"
   ]
  },
  {
   "cell_type": "code",
   "execution_count": 107,
   "metadata": {},
   "outputs": [],
   "source": [
    "from sklearn.preprocessing import LabelEncoder\n",
    "le = LabelEncoder()\n",
    "df2['genres'] = le.fit_transform(df2['genres'])\n",
    "df2['original_language'] = le.fit_transform(df2['original_language'])\n",
    "df2['production_companies'] = le.fit_transform(df2['production_companies'])\n",
    "df2['production_countries'] = le.fit_transform(df2['production_countries'])\n",
    "df2['spoken_languages'] = le.fit_transform(df2['spoken_languages'])"
   ]
  },
  {
   "cell_type": "code",
   "execution_count": 108,
   "metadata": {},
   "outputs": [
    {
     "data": {
      "text/plain": [
       "6     1019\n",
       "3      883\n",
       "0      685\n",
       "1      324\n",
       "11     265\n",
       "4      180\n",
       "17     165\n",
       "2      111\n",
       "8      111\n",
       "14      95\n",
       "15      90\n",
       "5       49\n",
       "7       45\n",
       "13      38\n",
       "12      30\n",
       "10      24\n",
       "19      23\n",
       "18      22\n",
       "16       2\n",
       "9        1\n",
       "Name: genres, dtype: int64"
      ]
     },
     "execution_count": 108,
     "metadata": {},
     "output_type": "execute_result"
    }
   ],
   "source": [
    "df2['genres'].value_counts()"
   ]
  },
  {
   "cell_type": "code",
   "execution_count": 109,
   "metadata": {},
   "outputs": [],
   "source": [
    "X = df2.drop(['genres'],axis=1)\n",
    "y = df2['genres']"
   ]
  },
  {
   "cell_type": "code",
   "execution_count": 110,
   "metadata": {},
   "outputs": [],
   "source": [
    "xtrain,xtest,ytrain,ytest = train_test_split(X,y,test_size = 0.3,random_state=42)"
   ]
  },
  {
   "cell_type": "code",
   "execution_count": 111,
   "metadata": {},
   "outputs": [],
   "source": [
    "def evaluate_model(model, X, y):\n",
    "    from sklearn.metrics import confusion_matrix, classification_report\n",
    "    \n",
    "    ypred = model.predict(X)\n",
    "    cm = confusion_matrix(y, ypred)\n",
    "    print(cm)\n",
    "    tn = cm[0,0]\n",
    "    tp = cm[1,1]\n",
    "    fp = cm[0,1]\n",
    "    fn = cm[1,0]\n",
    "\n",
    "    accuracy = (tp+tn)/(tp+fn+fp+tn)\n",
    "    precision = tp / (tp+fp)\n",
    "    recall = tp / (tp+fn)\n",
    "    f1 = 2*precision*recall / (precision+recall)\n",
    "\n",
    "    print('Accuracy =',accuracy)\n",
    "    print('Precision =', precision)\n",
    "    print('Recall =', recall)\n",
    "    print('F1 Score =', f1)"
   ]
  },
  {
   "cell_type": "code",
   "execution_count": 112,
   "metadata": {},
   "outputs": [
    {
     "name": "stdout",
     "output_type": "stream",
     "text": [
      "[[134  27   1   9   0   0  46   0   0   0   0   0   0   0   0   0   0   0]\n",
      " [ 52  25   0  10   0   0  18   0   0   0   0   0   0   0   0   0   0   0]\n",
      " [ 11  14   0   0   0   0   5   0   0   0   0   0   0   0   0   0   0   0]\n",
      " [100   2   0  41   0   0 109   0   0   0   0   0   0   0   0   0   0   0]\n",
      " [ 24   0   0   6   0   0  20   0   0   0   0   0   0   0   0   0   0   0]\n",
      " [  1   0   0   7   0   0   7   0   0   0   0   0   0   0   0   0   0   0]\n",
      " [119   3   0  41   0   0 138   0   0   0   0   0   0   0   0   0   0   0]\n",
      " [  9   4   0   0   0   0   4   0   0   0   0   0   0   0   0   0   0   0]\n",
      " [ 23   5   0   5   0   0   7   0   0   0   0   0   0   0   0   0   0   0]\n",
      " [  4   1   0   2   0   0   0   0   0   0   0   0   0   0   0   0   0   0]\n",
      " [ 19   0   0  32   0   0  35   0   0   0   0   0   0   0   0   0   0   0]\n",
      " [  2   0   0   3   0   0   1   0   0   0   0   0   0   0   0   0   0   0]\n",
      " [  6   0   0   1   0   0   4   0   0   0   0   0   0   0   0   0   0   0]\n",
      " [ 13   1   0   3   0   0  11   0   0   0   0   0   0   0   0   0   0   0]\n",
      " [ 13   5   0   2   0   0   6   0   0   0   0   0   0   0   0   0   0   0]\n",
      " [ 19   1   0   7   0   0  14   0   0   0   0   0   0   0   0   0   0   0]\n",
      " [  5   0   0   0   0   0   2   0   0   0   0   0   0   0   0   0   0   0]\n",
      " [  3   1   0   2   0   0   4   0   0   0   0   0   0   0   0   0   0   0]]\n",
      "Accuracy = 0.6680672268907563\n",
      "Precision = 0.4807692307692308\n",
      "Recall = 0.3246753246753247\n",
      "F1 Score = 0.3875968992248062\n"
     ]
    }
   ],
   "source": [
    "from sklearn.linear_model import LogisticRegression\n",
    "lr_model = LogisticRegression()\n",
    "lr_model.fit(xtrain,ytrain)\n",
    "evaluate_model(lr_model, xtest, ytest)"
   ]
  },
  {
   "cell_type": "code",
   "execution_count": 113,
   "metadata": {},
   "outputs": [
    {
     "name": "stdout",
     "output_type": "stream",
     "text": [
      "[[ 56  28   4  35   8   0  35   3   8   1  10   1   0   8   7   0   9   3\n",
      "    1]\n",
      " [ 22  22  10  13   3   1  21   0   4   0   3   0   0   1   2   0   2   1\n",
      "    0]\n",
      " [  2   3   9   2   0   0   0   5   4   0   1   0   0   4   0   0   0   0\n",
      "    0]\n",
      " [ 23  11   4  77  16   3  49   1   6   0  25   1   1  10   6   1  16   1\n",
      "    1]\n",
      " [  5   2   0   4   5   1  19   0   1   3   5   0   0   2   2   0   0   1\n",
      "    0]\n",
      " [  1   0   1   5   0   1   6   1   0   0   0   0   0   0   0   0   0   0\n",
      "    0]\n",
      " [ 30  11   1  59  20   6 118   2   6   5  13   6   1   6   4   0   8   1\n",
      "    4]\n",
      " [  2   0   3   5   0   1   2   1   2   0   0   0   0   0   1   0   0   0\n",
      "    0]\n",
      " [  7   5   1  13   1   0   8   0   0   0   3   0   0   0   0   0   2   0\n",
      "    0]\n",
      " [  1   0   0   1   0   0   4   0   0   1   0   0   0   0   0   0   0   0\n",
      "    0]\n",
      " [ 12   9   1  20   0   0  10   0   0   0  22   1   0   4   0   0   6   0\n",
      "    1]\n",
      " [  0   0   0   4   0   0   2   0   0   0   0   0   0   0   0   0   0   0\n",
      "    0]\n",
      " [  4   0   0   3   0   0   4   0   0   0   0   0   0   0   0   0   0   0\n",
      "    0]\n",
      " [  6   3   0   9   5   0   0   0   0   0   2   0   0   2   1   0   0   0\n",
      "    0]\n",
      " [  8   7   0   3   1   0   2   0   0   0   0   0   0   0   1   0   4   0\n",
      "    0]\n",
      " [  0   0   0   0   0   0   0   0   0   0   0   0   0   0   0   0   0   0\n",
      "    0]\n",
      " [  4   2   1  12   2   0  10   0   0   0   6   0   0   1   0   0   1   1\n",
      "    1]\n",
      " [  1   0   0   1   3   0   1   0   1   0   0   0   0   0   0   0   0   0\n",
      "    0]\n",
      " [  1   0   0   2   1   0   4   0   0   0   2   0   0   0   0   0   0   0\n",
      "    0]]\n",
      "Accuracy = 0.609375\n",
      "Precision = 0.44\n",
      "Recall = 0.5\n",
      "F1 Score = 0.46808510638297873\n"
     ]
    }
   ],
   "source": [
    "from sklearn.tree import DecisionTreeClassifier\n",
    "dt = DecisionTreeClassifier()\n",
    "dt.fit(xtrain, ytrain)\n",
    "evaluate_model(dt, xtest, ytest)"
   ]
  },
  {
   "cell_type": "code",
   "execution_count": 114,
   "metadata": {},
   "outputs": [
    {
     "name": "stdout",
     "output_type": "stream",
     "text": [
      "[[ 90  22   2  51   2   0  39   0   2   0   4   0   0   0   2   2   0   1]\n",
      " [ 36  19   2  23   1   0  21   1   1   0   0   0   0   0   0   1   0   0]\n",
      " [  5   5   9   7   0   0   2   0   0   0   1   0   0   0   0   1   0   0]\n",
      " [ 35   4   4 128   3   2  63   0   0   0   8   0   1   1   0   3   0   0]\n",
      " [  8   0   0  11   1   0  27   0   0   1   1   0   0   0   0   1   0   0]\n",
      " [  0   1   0   4   0   0   9   0   0   0   1   0   0   0   0   0   0   0]\n",
      " [ 44   7   1  63   5   4 172   0   0   0   3   0   0   0   0   1   0   1]\n",
      " [  3   3   2   7   0   0   0   0   0   0   1   0   0   0   0   1   0   0]\n",
      " [ 11   2   1  14   2   0   9   0   0   0   1   0   0   0   0   0   0   0]\n",
      " [  1   1   0   0   1   0   4   0   0   0   0   0   0   0   0   0   0   0]\n",
      " [ 21   2   1  24   0   0  11   0   0   0  18   0   1   2   0   6   0   0]\n",
      " [  1   1   0   2   0   0   2   0   0   0   0   0   0   0   0   0   0   0]\n",
      " [  4   0   0   3   0   0   4   0   0   0   0   0   0   0   0   0   0   0]\n",
      " [  5   3   1   9   0   0   6   0   0   0   4   0   0   0   0   0   0   0]\n",
      " [ 13   4   0   1   0   0   4   0   0   0   2   0   0   0   0   2   0   0]\n",
      " [  4   3   0  13   2   0  15   0   0   0   2   0   0   0   0   2   0   0]\n",
      " [  4   0   0   0   0   0   3   0   0   0   0   0   0   0   0   0   0   0]\n",
      " [  3   0   0   2   0   0   5   0   0   0   0   0   0   0   0   0   0   0]]\n",
      "Accuracy = 0.6526946107784432\n",
      "Precision = 0.4634146341463415\n",
      "Recall = 0.34545454545454546\n",
      "F1 Score = 0.39583333333333337\n"
     ]
    }
   ],
   "source": [
    "from sklearn.ensemble import RandomForestClassifier\n",
    "rf = RandomForestClassifier()\n",
    "rf.fit(xtrain, ytrain)\n",
    "evaluate_model(rf, xtest, ytest)"
   ]
  },
  {
   "cell_type": "code",
   "execution_count": 115,
   "metadata": {},
   "outputs": [
    {
     "name": "stderr",
     "output_type": "stream",
     "text": [
      "C:\\Users\\USER\\Anaconda3\\lib\\site-packages\\sklearn\\model_selection\\_search.py:814: DeprecationWarning: The default of the `iid` parameter will change from True to False in version 0.22 and will be removed in 0.24. This will change numeric results when test-set sizes are unequal.\n",
      "  DeprecationWarning)\n"
     ]
    },
    {
     "data": {
      "text/plain": [
       "GridSearchCV(cv=5, error_score='raise-deprecating',\n",
       "             estimator=RandomForestClassifier(bootstrap=True, class_weight=None,\n",
       "                                              criterion='gini', max_depth=None,\n",
       "                                              max_features='auto',\n",
       "                                              max_leaf_nodes=None,\n",
       "                                              min_impurity_decrease=0.0,\n",
       "                                              min_impurity_split=None,\n",
       "                                              min_samples_leaf=1,\n",
       "                                              min_samples_split=2,\n",
       "                                              min_weight_fraction_leaf=0.0,\n",
       "                                              n_estimators=200, n_jobs=None,\n",
       "                                              oob_score=False,\n",
       "                                              random_state=None, verbose=0,\n",
       "                                              warm_start=False),\n",
       "             iid='warn', n_jobs=None,\n",
       "             param_grid={'criterion': ['gini', 'entropy'],\n",
       "                         'max_depth': [None, 5, 10, 15],\n",
       "                         'max_features': [None, 2, 4]},\n",
       "             pre_dispatch='2*n_jobs', refit=True, return_train_score=False,\n",
       "             scoring='f1_macro', verbose=0)"
      ]
     },
     "execution_count": 115,
     "metadata": {},
     "output_type": "execute_result"
    }
   ],
   "source": [
    "from sklearn.model_selection import GridSearchCV\n",
    "param_grid = {'criterion': ['gini','entropy'],\n",
    "              'max_depth': [None,5,10,15],\n",
    "              'max_features': [None,2,4]}\n",
    "\n",
    "rf = RandomForestClassifier(n_estimators=200)\n",
    "rf_grid = GridSearchCV(rf, param_grid, cv=5, scoring='f1_macro')\n",
    "rf_grid.fit(xtrain, ytrain)"
   ]
  },
  {
   "cell_type": "code",
   "execution_count": 116,
   "metadata": {},
   "outputs": [
    {
     "data": {
      "text/plain": [
       "{'criterion': 'entropy', 'max_depth': 15, 'max_features': None}"
      ]
     },
     "execution_count": 116,
     "metadata": {},
     "output_type": "execute_result"
    }
   ],
   "source": [
    "rf_grid.best_params_"
   ]
  },
  {
   "cell_type": "code",
   "execution_count": 117,
   "metadata": {},
   "outputs": [
    {
     "name": "stdout",
     "output_type": "stream",
     "text": [
      "[[ 73  19   1  64   1   0  46   0   1   0   4   0   0   0   3   0   4   0\n",
      "    1]\n",
      " [ 27  20   7  23   0   0  26   0   1   0   1   0   0   0   0   0   0   0\n",
      "    0]\n",
      " [  2   5  14   5   0   0   2   0   1   0   1   0   0   0   0   0   0   0\n",
      "    0]\n",
      " [ 26   3   0 139   0   2  71   0   0   0   9   0   0   0   2   0   0   0\n",
      "    0]\n",
      " [  3   1   0   6   0   0  37   0   0   0   2   0   0   0   0   0   1   0\n",
      "    0]\n",
      " [  0   0   0   6   0   0   7   0   0   0   1   0   0   1   0   0   0   0\n",
      "    0]\n",
      " [ 22   4   1  47   0   2 214   0   0   0   6   0   0   3   0   1   1   0\n",
      "    0]\n",
      " [  1   4   3   6   0   0   1   0   0   0   1   0   0   0   0   0   1   0\n",
      "    0]\n",
      " [  8   3   2  19   0   0   6   0   0   0   1   0   0   1   0   0   0   0\n",
      "    0]\n",
      " [  1   0   0   0   0   0   6   0   0   0   0   0   0   0   0   0   0   0\n",
      "    0]\n",
      " [  6   2   0  36   0   0  14   0   0   0  23   0   0   0   0   0   5   0\n",
      "    0]\n",
      " [  0   0   0   3   0   0   3   0   0   0   0   0   0   0   0   0   0   0\n",
      "    0]\n",
      " [  1   0   0   6   0   0   3   0   0   0   1   0   0   0   0   0   0   0\n",
      "    0]\n",
      " [  3   0   1  11   0   0  11   1   0   0   1   0   0   0   0   0   0   0\n",
      "    0]\n",
      " [ 13   2   0   5   0   0   3   0   0   0   2   0   0   0   0   0   1   0\n",
      "    0]\n",
      " [  0   0   0   0   0   0   0   0   0   0   0   0   0   0   0   0   0   0\n",
      "    0]\n",
      " [  7   1   0  10   0   0  16   0   0   0   2   0   0   0   0   0   5   0\n",
      "    0]\n",
      " [  3   0   0   1   0   0   3   0   0   0   0   0   0   0   0   0   0   0\n",
      "    0]\n",
      " [  2   0   0   1   0   0   7   0   0   0   0   0   0   0   0   0   0   0\n",
      "    0]]\n",
      "Accuracy = 0.6690647482014388\n",
      "Precision = 0.5128205128205128\n",
      "Recall = 0.425531914893617\n",
      "F1 Score = 0.4651162790697675\n"
     ]
    }
   ],
   "source": [
    "rf_best = rf_grid.best_estimator_\n",
    "evaluate_model(rf_best, xtest, ytest)"
   ]
  },
  {
   "cell_type": "code",
   "execution_count": null,
   "metadata": {},
   "outputs": [],
   "source": []
  },
  {
   "cell_type": "code",
   "execution_count": null,
   "metadata": {},
   "outputs": [],
   "source": []
  }
 ],
 "metadata": {
  "kernelspec": {
   "display_name": "Python 3",
   "language": "python",
   "name": "python3"
  },
  "language_info": {
   "codemirror_mode": {
    "name": "ipython",
    "version": 3
   },
   "file_extension": ".py",
   "mimetype": "text/x-python",
   "name": "python",
   "nbconvert_exporter": "python",
   "pygments_lexer": "ipython3",
   "version": "3.7.3"
  }
 },
 "nbformat": 4,
 "nbformat_minor": 2
}

{
 "cells": [
  {
   "cell_type": "markdown",
   "metadata": {},
   "source": [
    "# PREDICTION OF Revenue and Genre"
   ]
  },
  {
   "cell_type": "markdown",
   "metadata": {},
   "source": [
    "## Libraries"
   ]
  },
  {
   "cell_type": "code",
   "execution_count": 1,
   "metadata": {},
   "outputs": [],
   "source": [
    "import pandas as pd\n",
    "import numpy as np\n",
    "import seaborn as sns\n",
    "import matplotlib.pyplot as plt\n",
    "\n",
    "\n",
    "import warnings\n",
    "warnings.filterwarnings('ignore')"
   ]
  },
  {
   "cell_type": "markdown",
   "metadata": {},
   "source": [
    "## Reading The Data"
   ]
  },
  {
   "cell_type": "code",
   "execution_count": 2,
   "metadata": {},
   "outputs": [],
   "source": [
    "df = pd.read_csv('tmdb_5000_movies.csv')\n",
    "df.drop(['homepage','tagline','overview'],axis=1,inplace=True)  #Dropped the columns which are unnecessary."
   ]
  },
  {
   "cell_type": "code",
   "execution_count": 3,
   "metadata": {
    "scrolled": false
   },
   "outputs": [
    {
     "data": {
      "text/html": [
       "<div>\n",
       "<style scoped>\n",
       "    .dataframe tbody tr th:only-of-type {\n",
       "        vertical-align: middle;\n",
       "    }\n",
       "\n",
       "    .dataframe tbody tr th {\n",
       "        vertical-align: top;\n",
       "    }\n",
       "\n",
       "    .dataframe thead th {\n",
       "        text-align: right;\n",
       "    }\n",
       "</style>\n",
       "<table border=\"1\" class=\"dataframe\">\n",
       "  <thead>\n",
       "    <tr style=\"text-align: right;\">\n",
       "      <th></th>\n",
       "      <th>budget</th>\n",
       "      <th>genres</th>\n",
       "      <th>id</th>\n",
       "      <th>keywords</th>\n",
       "      <th>original_language</th>\n",
       "      <th>original_title</th>\n",
       "      <th>popularity</th>\n",
       "      <th>production_companies</th>\n",
       "      <th>production_countries</th>\n",
       "      <th>release_date</th>\n",
       "      <th>revenue</th>\n",
       "      <th>runtime</th>\n",
       "      <th>spoken_languages</th>\n",
       "      <th>status</th>\n",
       "      <th>title</th>\n",
       "      <th>vote_average</th>\n",
       "      <th>vote_count</th>\n",
       "    </tr>\n",
       "  </thead>\n",
       "  <tbody>\n",
       "    <tr>\n",
       "      <th>0</th>\n",
       "      <td>237000000</td>\n",
       "      <td>[{\"id\": 28, \"name\": \"Action\"}, {\"id\": 12, \"nam...</td>\n",
       "      <td>19995</td>\n",
       "      <td>[{\"id\": 1463, \"name\": \"culture clash\"}, {\"id\":...</td>\n",
       "      <td>en</td>\n",
       "      <td>Avatar</td>\n",
       "      <td>150.437577</td>\n",
       "      <td>[{\"name\": \"Ingenious Film Partners\", \"id\": 289...</td>\n",
       "      <td>[{\"iso_3166_1\": \"US\", \"name\": \"United States o...</td>\n",
       "      <td>2009-12-10</td>\n",
       "      <td>2787965087</td>\n",
       "      <td>162.0</td>\n",
       "      <td>[{\"iso_639_1\": \"en\", \"name\": \"English\"}, {\"iso...</td>\n",
       "      <td>Released</td>\n",
       "      <td>Avatar</td>\n",
       "      <td>7.2</td>\n",
       "      <td>11800</td>\n",
       "    </tr>\n",
       "    <tr>\n",
       "      <th>1</th>\n",
       "      <td>300000000</td>\n",
       "      <td>[{\"id\": 12, \"name\": \"Adventure\"}, {\"id\": 14, \"...</td>\n",
       "      <td>285</td>\n",
       "      <td>[{\"id\": 270, \"name\": \"ocean\"}, {\"id\": 726, \"na...</td>\n",
       "      <td>en</td>\n",
       "      <td>Pirates of the Caribbean: At World's End</td>\n",
       "      <td>139.082615</td>\n",
       "      <td>[{\"name\": \"Walt Disney Pictures\", \"id\": 2}, {\"...</td>\n",
       "      <td>[{\"iso_3166_1\": \"US\", \"name\": \"United States o...</td>\n",
       "      <td>2007-05-19</td>\n",
       "      <td>961000000</td>\n",
       "      <td>169.0</td>\n",
       "      <td>[{\"iso_639_1\": \"en\", \"name\": \"English\"}]</td>\n",
       "      <td>Released</td>\n",
       "      <td>Pirates of the Caribbean: At World's End</td>\n",
       "      <td>6.9</td>\n",
       "      <td>4500</td>\n",
       "    </tr>\n",
       "    <tr>\n",
       "      <th>2</th>\n",
       "      <td>245000000</td>\n",
       "      <td>[{\"id\": 28, \"name\": \"Action\"}, {\"id\": 12, \"nam...</td>\n",
       "      <td>206647</td>\n",
       "      <td>[{\"id\": 470, \"name\": \"spy\"}, {\"id\": 818, \"name...</td>\n",
       "      <td>en</td>\n",
       "      <td>Spectre</td>\n",
       "      <td>107.376788</td>\n",
       "      <td>[{\"name\": \"Columbia Pictures\", \"id\": 5}, {\"nam...</td>\n",
       "      <td>[{\"iso_3166_1\": \"GB\", \"name\": \"United Kingdom\"...</td>\n",
       "      <td>2015-10-26</td>\n",
       "      <td>880674609</td>\n",
       "      <td>148.0</td>\n",
       "      <td>[{\"iso_639_1\": \"fr\", \"name\": \"Fran\\u00e7ais\"},...</td>\n",
       "      <td>Released</td>\n",
       "      <td>Spectre</td>\n",
       "      <td>6.3</td>\n",
       "      <td>4466</td>\n",
       "    </tr>\n",
       "    <tr>\n",
       "      <th>3</th>\n",
       "      <td>250000000</td>\n",
       "      <td>[{\"id\": 28, \"name\": \"Action\"}, {\"id\": 80, \"nam...</td>\n",
       "      <td>49026</td>\n",
       "      <td>[{\"id\": 849, \"name\": \"dc comics\"}, {\"id\": 853,...</td>\n",
       "      <td>en</td>\n",
       "      <td>The Dark Knight Rises</td>\n",
       "      <td>112.312950</td>\n",
       "      <td>[{\"name\": \"Legendary Pictures\", \"id\": 923}, {\"...</td>\n",
       "      <td>[{\"iso_3166_1\": \"US\", \"name\": \"United States o...</td>\n",
       "      <td>2012-07-16</td>\n",
       "      <td>1084939099</td>\n",
       "      <td>165.0</td>\n",
       "      <td>[{\"iso_639_1\": \"en\", \"name\": \"English\"}]</td>\n",
       "      <td>Released</td>\n",
       "      <td>The Dark Knight Rises</td>\n",
       "      <td>7.6</td>\n",
       "      <td>9106</td>\n",
       "    </tr>\n",
       "    <tr>\n",
       "      <th>4</th>\n",
       "      <td>260000000</td>\n",
       "      <td>[{\"id\": 28, \"name\": \"Action\"}, {\"id\": 12, \"nam...</td>\n",
       "      <td>49529</td>\n",
       "      <td>[{\"id\": 818, \"name\": \"based on novel\"}, {\"id\":...</td>\n",
       "      <td>en</td>\n",
       "      <td>John Carter</td>\n",
       "      <td>43.926995</td>\n",
       "      <td>[{\"name\": \"Walt Disney Pictures\", \"id\": 2}]</td>\n",
       "      <td>[{\"iso_3166_1\": \"US\", \"name\": \"United States o...</td>\n",
       "      <td>2012-03-07</td>\n",
       "      <td>284139100</td>\n",
       "      <td>132.0</td>\n",
       "      <td>[{\"iso_639_1\": \"en\", \"name\": \"English\"}]</td>\n",
       "      <td>Released</td>\n",
       "      <td>John Carter</td>\n",
       "      <td>6.1</td>\n",
       "      <td>2124</td>\n",
       "    </tr>\n",
       "  </tbody>\n",
       "</table>\n",
       "</div>"
      ],
      "text/plain": [
       "      budget                                             genres      id  \\\n",
       "0  237000000  [{\"id\": 28, \"name\": \"Action\"}, {\"id\": 12, \"nam...   19995   \n",
       "1  300000000  [{\"id\": 12, \"name\": \"Adventure\"}, {\"id\": 14, \"...     285   \n",
       "2  245000000  [{\"id\": 28, \"name\": \"Action\"}, {\"id\": 12, \"nam...  206647   \n",
       "3  250000000  [{\"id\": 28, \"name\": \"Action\"}, {\"id\": 80, \"nam...   49026   \n",
       "4  260000000  [{\"id\": 28, \"name\": \"Action\"}, {\"id\": 12, \"nam...   49529   \n",
       "\n",
       "                                            keywords original_language  \\\n",
       "0  [{\"id\": 1463, \"name\": \"culture clash\"}, {\"id\":...                en   \n",
       "1  [{\"id\": 270, \"name\": \"ocean\"}, {\"id\": 726, \"na...                en   \n",
       "2  [{\"id\": 470, \"name\": \"spy\"}, {\"id\": 818, \"name...                en   \n",
       "3  [{\"id\": 849, \"name\": \"dc comics\"}, {\"id\": 853,...                en   \n",
       "4  [{\"id\": 818, \"name\": \"based on novel\"}, {\"id\":...                en   \n",
       "\n",
       "                             original_title  popularity  \\\n",
       "0                                    Avatar  150.437577   \n",
       "1  Pirates of the Caribbean: At World's End  139.082615   \n",
       "2                                   Spectre  107.376788   \n",
       "3                     The Dark Knight Rises  112.312950   \n",
       "4                               John Carter   43.926995   \n",
       "\n",
       "                                production_companies  \\\n",
       "0  [{\"name\": \"Ingenious Film Partners\", \"id\": 289...   \n",
       "1  [{\"name\": \"Walt Disney Pictures\", \"id\": 2}, {\"...   \n",
       "2  [{\"name\": \"Columbia Pictures\", \"id\": 5}, {\"nam...   \n",
       "3  [{\"name\": \"Legendary Pictures\", \"id\": 923}, {\"...   \n",
       "4        [{\"name\": \"Walt Disney Pictures\", \"id\": 2}]   \n",
       "\n",
       "                                production_countries release_date     revenue  \\\n",
       "0  [{\"iso_3166_1\": \"US\", \"name\": \"United States o...   2009-12-10  2787965087   \n",
       "1  [{\"iso_3166_1\": \"US\", \"name\": \"United States o...   2007-05-19   961000000   \n",
       "2  [{\"iso_3166_1\": \"GB\", \"name\": \"United Kingdom\"...   2015-10-26   880674609   \n",
       "3  [{\"iso_3166_1\": \"US\", \"name\": \"United States o...   2012-07-16  1084939099   \n",
       "4  [{\"iso_3166_1\": \"US\", \"name\": \"United States o...   2012-03-07   284139100   \n",
       "\n",
       "   runtime                                   spoken_languages    status  \\\n",
       "0    162.0  [{\"iso_639_1\": \"en\", \"name\": \"English\"}, {\"iso...  Released   \n",
       "1    169.0           [{\"iso_639_1\": \"en\", \"name\": \"English\"}]  Released   \n",
       "2    148.0  [{\"iso_639_1\": \"fr\", \"name\": \"Fran\\u00e7ais\"},...  Released   \n",
       "3    165.0           [{\"iso_639_1\": \"en\", \"name\": \"English\"}]  Released   \n",
       "4    132.0           [{\"iso_639_1\": \"en\", \"name\": \"English\"}]  Released   \n",
       "\n",
       "                                      title  vote_average  vote_count  \n",
       "0                                    Avatar           7.2       11800  \n",
       "1  Pirates of the Caribbean: At World's End           6.9        4500  \n",
       "2                                   Spectre           6.3        4466  \n",
       "3                     The Dark Knight Rises           7.6        9106  \n",
       "4                               John Carter           6.1        2124  "
      ]
     },
     "execution_count": 3,
     "metadata": {},
     "output_type": "execute_result"
    }
   ],
   "source": [
    "df.head()"
   ]
  },
  {
   "cell_type": "code",
   "execution_count": 4,
   "metadata": {},
   "outputs": [
    {
     "data": {
      "text/plain": [
       "(4803, 17)"
      ]
     },
     "execution_count": 4,
     "metadata": {},
     "output_type": "execute_result"
    }
   ],
   "source": [
    "df.shape"
   ]
  },
  {
   "cell_type": "markdown",
   "metadata": {},
   "source": [
    "## Checking Null Values"
   ]
  },
  {
   "cell_type": "code",
   "execution_count": 5,
   "metadata": {},
   "outputs": [
    {
     "data": {
      "text/plain": [
       "budget                  0\n",
       "genres                  0\n",
       "id                      0\n",
       "keywords                0\n",
       "original_language       0\n",
       "original_title          0\n",
       "popularity              0\n",
       "production_companies    0\n",
       "production_countries    0\n",
       "release_date            1\n",
       "revenue                 0\n",
       "runtime                 2\n",
       "spoken_languages        0\n",
       "status                  0\n",
       "title                   0\n",
       "vote_average            0\n",
       "vote_count              0\n",
       "dtype: int64"
      ]
     },
     "execution_count": 5,
     "metadata": {},
     "output_type": "execute_result"
    }
   ],
   "source": [
    "df.isnull().sum()"
   ]
  },
  {
   "cell_type": "markdown",
   "metadata": {},
   "source": [
    "## Checking Info"
   ]
  },
  {
   "cell_type": "code",
   "execution_count": 6,
   "metadata": {},
   "outputs": [
    {
     "name": "stdout",
     "output_type": "stream",
     "text": [
      "<class 'pandas.core.frame.DataFrame'>\n",
      "RangeIndex: 4803 entries, 0 to 4802\n",
      "Data columns (total 17 columns):\n",
      "budget                  4803 non-null int64\n",
      "genres                  4803 non-null object\n",
      "id                      4803 non-null int64\n",
      "keywords                4803 non-null object\n",
      "original_language       4803 non-null object\n",
      "original_title          4803 non-null object\n",
      "popularity              4803 non-null float64\n",
      "production_companies    4803 non-null object\n",
      "production_countries    4803 non-null object\n",
      "release_date            4802 non-null object\n",
      "revenue                 4803 non-null int64\n",
      "runtime                 4801 non-null float64\n",
      "spoken_languages        4803 non-null object\n",
      "status                  4803 non-null object\n",
      "title                   4803 non-null object\n",
      "vote_average            4803 non-null float64\n",
      "vote_count              4803 non-null int64\n",
      "dtypes: float64(3), int64(4), object(10)\n",
      "memory usage: 638.0+ KB\n"
     ]
    }
   ],
   "source": [
    "df.info()"
   ]
  },
  {
   "cell_type": "markdown",
   "metadata": {},
   "source": [
    "## Converting Float Type to Int Type"
   ]
  },
  {
   "cell_type": "code",
   "execution_count": 7,
   "metadata": {},
   "outputs": [],
   "source": [
    "df['popularity']=df['popularity'].astype('int64')"
   ]
  },
  {
   "cell_type": "markdown",
   "metadata": {},
   "source": [
    "## Release Date Splitting"
   ]
  },
  {
   "cell_type": "code",
   "execution_count": 8,
   "metadata": {},
   "outputs": [],
   "source": [
    "data_a = df['release_date'].str.split('-',0,expand=True)\n",
    "df['release_date'] = data_a[0]"
   ]
  },
  {
   "cell_type": "markdown",
   "metadata": {},
   "source": [
    "## Genres Splitting"
   ]
  },
  {
   "cell_type": "code",
   "execution_count": 9,
   "metadata": {},
   "outputs": [
    {
     "data": {
      "text/plain": [
       "0       [{\"id\": 28, \"name\": \"Action\"}, {\"id\": 12, \"nam...\n",
       "1       [{\"id\": 12, \"name\": \"Adventure\"}, {\"id\": 14, \"...\n",
       "2       [{\"id\": 28, \"name\": \"Action\"}, {\"id\": 12, \"nam...\n",
       "3       [{\"id\": 28, \"name\": \"Action\"}, {\"id\": 80, \"nam...\n",
       "4       [{\"id\": 28, \"name\": \"Action\"}, {\"id\": 12, \"nam...\n",
       "                              ...                        \n",
       "4798    [{\"id\": 28, \"name\": \"Action\"}, {\"id\": 80, \"nam...\n",
       "4799    [{\"id\": 35, \"name\": \"Comedy\"}, {\"id\": 10749, \"...\n",
       "4800    [{\"id\": 35, \"name\": \"Comedy\"}, {\"id\": 18, \"nam...\n",
       "4801                                                   []\n",
       "4802                  [{\"id\": 99, \"name\": \"Documentary\"}]\n",
       "Name: genres, Length: 4803, dtype: object"
      ]
     },
     "execution_count": 9,
     "metadata": {},
     "output_type": "execute_result"
    }
   ],
   "source": [
    "df['genres']"
   ]
  },
  {
   "cell_type": "code",
   "execution_count": 10,
   "metadata": {},
   "outputs": [
    {
     "data": {
      "text/html": [
       "<div>\n",
       "<style scoped>\n",
       "    .dataframe tbody tr th:only-of-type {\n",
       "        vertical-align: middle;\n",
       "    }\n",
       "\n",
       "    .dataframe tbody tr th {\n",
       "        vertical-align: top;\n",
       "    }\n",
       "\n",
       "    .dataframe thead th {\n",
       "        text-align: right;\n",
       "    }\n",
       "</style>\n",
       "<table border=\"1\" class=\"dataframe\">\n",
       "  <thead>\n",
       "    <tr style=\"text-align: right;\">\n",
       "      <th></th>\n",
       "      <th>0</th>\n",
       "      <th>1</th>\n",
       "      <th>2</th>\n",
       "    </tr>\n",
       "  </thead>\n",
       "  <tbody>\n",
       "    <tr>\n",
       "      <th>0</th>\n",
       "      <td>[{\"id\"</td>\n",
       "      <td>28, \"name\"</td>\n",
       "      <td>\"Action\"}, {\"id\": 12, \"name\": \"Adventure\"}, {...</td>\n",
       "    </tr>\n",
       "    <tr>\n",
       "      <th>1</th>\n",
       "      <td>[{\"id\"</td>\n",
       "      <td>12, \"name\"</td>\n",
       "      <td>\"Adventure\"}, {\"id\": 14, \"name\": \"Fantasy\"}, ...</td>\n",
       "    </tr>\n",
       "    <tr>\n",
       "      <th>2</th>\n",
       "      <td>[{\"id\"</td>\n",
       "      <td>28, \"name\"</td>\n",
       "      <td>\"Action\"}, {\"id\": 12, \"name\": \"Adventure\"}, {...</td>\n",
       "    </tr>\n",
       "    <tr>\n",
       "      <th>3</th>\n",
       "      <td>[{\"id\"</td>\n",
       "      <td>28, \"name\"</td>\n",
       "      <td>\"Action\"}, {\"id\": 80, \"name\": \"Crime\"}, {\"id\"...</td>\n",
       "    </tr>\n",
       "    <tr>\n",
       "      <th>4</th>\n",
       "      <td>[{\"id\"</td>\n",
       "      <td>28, \"name\"</td>\n",
       "      <td>\"Action\"}, {\"id\": 12, \"name\": \"Adventure\"}, {...</td>\n",
       "    </tr>\n",
       "    <tr>\n",
       "      <th>...</th>\n",
       "      <td>...</td>\n",
       "      <td>...</td>\n",
       "      <td>...</td>\n",
       "    </tr>\n",
       "    <tr>\n",
       "      <th>4798</th>\n",
       "      <td>[{\"id\"</td>\n",
       "      <td>28, \"name\"</td>\n",
       "      <td>\"Action\"}, {\"id\": 80, \"name\": \"Crime\"}, {\"id\"...</td>\n",
       "    </tr>\n",
       "    <tr>\n",
       "      <th>4799</th>\n",
       "      <td>[{\"id\"</td>\n",
       "      <td>35, \"name\"</td>\n",
       "      <td>\"Comedy\"}, {\"id\": 10749, \"name\": \"Romance\"}]</td>\n",
       "    </tr>\n",
       "    <tr>\n",
       "      <th>4800</th>\n",
       "      <td>[{\"id\"</td>\n",
       "      <td>35, \"name\"</td>\n",
       "      <td>\"Comedy\"}, {\"id\": 18, \"name\": \"Drama\"}, {\"id\"...</td>\n",
       "    </tr>\n",
       "    <tr>\n",
       "      <th>4801</th>\n",
       "      <td>[]</td>\n",
       "      <td>None</td>\n",
       "      <td>None</td>\n",
       "    </tr>\n",
       "    <tr>\n",
       "      <th>4802</th>\n",
       "      <td>[{\"id\"</td>\n",
       "      <td>99, \"name\"</td>\n",
       "      <td>\"Documentary\"}]</td>\n",
       "    </tr>\n",
       "  </tbody>\n",
       "</table>\n",
       "<p>4803 rows × 3 columns</p>\n",
       "</div>"
      ],
      "text/plain": [
       "           0            1                                                  2\n",
       "0     [{\"id\"   28, \"name\"   \"Action\"}, {\"id\": 12, \"name\": \"Adventure\"}, {...\n",
       "1     [{\"id\"   12, \"name\"   \"Adventure\"}, {\"id\": 14, \"name\": \"Fantasy\"}, ...\n",
       "2     [{\"id\"   28, \"name\"   \"Action\"}, {\"id\": 12, \"name\": \"Adventure\"}, {...\n",
       "3     [{\"id\"   28, \"name\"   \"Action\"}, {\"id\": 80, \"name\": \"Crime\"}, {\"id\"...\n",
       "4     [{\"id\"   28, \"name\"   \"Action\"}, {\"id\": 12, \"name\": \"Adventure\"}, {...\n",
       "...      ...          ...                                                ...\n",
       "4798  [{\"id\"   28, \"name\"   \"Action\"}, {\"id\": 80, \"name\": \"Crime\"}, {\"id\"...\n",
       "4799  [{\"id\"   35, \"name\"       \"Comedy\"}, {\"id\": 10749, \"name\": \"Romance\"}]\n",
       "4800  [{\"id\"   35, \"name\"   \"Comedy\"}, {\"id\": 18, \"name\": \"Drama\"}, {\"id\"...\n",
       "4801      []         None                                               None\n",
       "4802  [{\"id\"   99, \"name\"                                    \"Documentary\"}]\n",
       "\n",
       "[4803 rows x 3 columns]"
      ]
     },
     "execution_count": 10,
     "metadata": {},
     "output_type": "execute_result"
    }
   ],
   "source": [
    "data_b = df['genres'].str.split(':',2,expand=True)\n",
    "data_b"
   ]
  },
  {
   "cell_type": "code",
   "execution_count": 11,
   "metadata": {},
   "outputs": [
    {
     "data": {
      "text/html": [
       "<div>\n",
       "<style scoped>\n",
       "    .dataframe tbody tr th:only-of-type {\n",
       "        vertical-align: middle;\n",
       "    }\n",
       "\n",
       "    .dataframe tbody tr th {\n",
       "        vertical-align: top;\n",
       "    }\n",
       "\n",
       "    .dataframe thead th {\n",
       "        text-align: right;\n",
       "    }\n",
       "</style>\n",
       "<table border=\"1\" class=\"dataframe\">\n",
       "  <thead>\n",
       "    <tr style=\"text-align: right;\">\n",
       "      <th></th>\n",
       "      <th>0</th>\n",
       "      <th>1</th>\n",
       "    </tr>\n",
       "  </thead>\n",
       "  <tbody>\n",
       "    <tr>\n",
       "      <th>0</th>\n",
       "      <td>\"Action\"</td>\n",
       "      <td>, {\"id\": 12, \"name\": \"Adventure\"}, {\"id\": 14, ...</td>\n",
       "    </tr>\n",
       "    <tr>\n",
       "      <th>1</th>\n",
       "      <td>\"Adventure\"</td>\n",
       "      <td>, {\"id\": 14, \"name\": \"Fantasy\"}, {\"id\": 28, \"n...</td>\n",
       "    </tr>\n",
       "    <tr>\n",
       "      <th>2</th>\n",
       "      <td>\"Action\"</td>\n",
       "      <td>, {\"id\": 12, \"name\": \"Adventure\"}, {\"id\": 80, ...</td>\n",
       "    </tr>\n",
       "    <tr>\n",
       "      <th>3</th>\n",
       "      <td>\"Action\"</td>\n",
       "      <td>, {\"id\": 80, \"name\": \"Crime\"}, {\"id\": 18, \"nam...</td>\n",
       "    </tr>\n",
       "    <tr>\n",
       "      <th>4</th>\n",
       "      <td>\"Action\"</td>\n",
       "      <td>, {\"id\": 12, \"name\": \"Adventure\"}, {\"id\": 878,...</td>\n",
       "    </tr>\n",
       "    <tr>\n",
       "      <th>...</th>\n",
       "      <td>...</td>\n",
       "      <td>...</td>\n",
       "    </tr>\n",
       "    <tr>\n",
       "      <th>4798</th>\n",
       "      <td>\"Action\"</td>\n",
       "      <td>, {\"id\": 80, \"name\": \"Crime\"}, {\"id\": 53, \"nam...</td>\n",
       "    </tr>\n",
       "    <tr>\n",
       "      <th>4799</th>\n",
       "      <td>\"Comedy\"</td>\n",
       "      <td>, {\"id\": 10749, \"name\": \"Romance\"}]</td>\n",
       "    </tr>\n",
       "    <tr>\n",
       "      <th>4800</th>\n",
       "      <td>\"Comedy\"</td>\n",
       "      <td>, {\"id\": 18, \"name\": \"Drama\"}, {\"id\": 10749, \"...</td>\n",
       "    </tr>\n",
       "    <tr>\n",
       "      <th>4801</th>\n",
       "      <td>None</td>\n",
       "      <td>None</td>\n",
       "    </tr>\n",
       "    <tr>\n",
       "      <th>4802</th>\n",
       "      <td>\"Documentary\"</td>\n",
       "      <td>]</td>\n",
       "    </tr>\n",
       "  </tbody>\n",
       "</table>\n",
       "<p>4803 rows × 2 columns</p>\n",
       "</div>"
      ],
      "text/plain": [
       "                   0                                                  1\n",
       "0           \"Action\"  , {\"id\": 12, \"name\": \"Adventure\"}, {\"id\": 14, ...\n",
       "1        \"Adventure\"  , {\"id\": 14, \"name\": \"Fantasy\"}, {\"id\": 28, \"n...\n",
       "2           \"Action\"  , {\"id\": 12, \"name\": \"Adventure\"}, {\"id\": 80, ...\n",
       "3           \"Action\"  , {\"id\": 80, \"name\": \"Crime\"}, {\"id\": 18, \"nam...\n",
       "4           \"Action\"  , {\"id\": 12, \"name\": \"Adventure\"}, {\"id\": 878,...\n",
       "...              ...                                                ...\n",
       "4798        \"Action\"  , {\"id\": 80, \"name\": \"Crime\"}, {\"id\": 53, \"nam...\n",
       "4799        \"Comedy\"                , {\"id\": 10749, \"name\": \"Romance\"}]\n",
       "4800        \"Comedy\"  , {\"id\": 18, \"name\": \"Drama\"}, {\"id\": 10749, \"...\n",
       "4801            None                                               None\n",
       "4802   \"Documentary\"                                                  ]\n",
       "\n",
       "[4803 rows x 2 columns]"
      ]
     },
     "execution_count": 11,
     "metadata": {},
     "output_type": "execute_result"
    }
   ],
   "source": [
    "data_c = data_b[2].str.split('}',1,expand=True)\n",
    "data_c"
   ]
  },
  {
   "cell_type": "code",
   "execution_count": 12,
   "metadata": {},
   "outputs": [
    {
     "data": {
      "text/html": [
       "<div>\n",
       "<style scoped>\n",
       "    .dataframe tbody tr th:only-of-type {\n",
       "        vertical-align: middle;\n",
       "    }\n",
       "\n",
       "    .dataframe tbody tr th {\n",
       "        vertical-align: top;\n",
       "    }\n",
       "\n",
       "    .dataframe thead th {\n",
       "        text-align: right;\n",
       "    }\n",
       "</style>\n",
       "<table border=\"1\" class=\"dataframe\">\n",
       "  <thead>\n",
       "    <tr style=\"text-align: right;\">\n",
       "      <th></th>\n",
       "      <th>0</th>\n",
       "      <th>1</th>\n",
       "    </tr>\n",
       "  </thead>\n",
       "  <tbody>\n",
       "    <tr>\n",
       "      <th>0</th>\n",
       "      <td></td>\n",
       "      <td>Action\"</td>\n",
       "    </tr>\n",
       "    <tr>\n",
       "      <th>1</th>\n",
       "      <td></td>\n",
       "      <td>Adventure\"</td>\n",
       "    </tr>\n",
       "    <tr>\n",
       "      <th>2</th>\n",
       "      <td></td>\n",
       "      <td>Action\"</td>\n",
       "    </tr>\n",
       "    <tr>\n",
       "      <th>3</th>\n",
       "      <td></td>\n",
       "      <td>Action\"</td>\n",
       "    </tr>\n",
       "    <tr>\n",
       "      <th>4</th>\n",
       "      <td></td>\n",
       "      <td>Action\"</td>\n",
       "    </tr>\n",
       "    <tr>\n",
       "      <th>...</th>\n",
       "      <td>...</td>\n",
       "      <td>...</td>\n",
       "    </tr>\n",
       "    <tr>\n",
       "      <th>4798</th>\n",
       "      <td></td>\n",
       "      <td>Action\"</td>\n",
       "    </tr>\n",
       "    <tr>\n",
       "      <th>4799</th>\n",
       "      <td></td>\n",
       "      <td>Comedy\"</td>\n",
       "    </tr>\n",
       "    <tr>\n",
       "      <th>4800</th>\n",
       "      <td></td>\n",
       "      <td>Comedy\"</td>\n",
       "    </tr>\n",
       "    <tr>\n",
       "      <th>4801</th>\n",
       "      <td>None</td>\n",
       "      <td>None</td>\n",
       "    </tr>\n",
       "    <tr>\n",
       "      <th>4802</th>\n",
       "      <td></td>\n",
       "      <td>Documentary\"</td>\n",
       "    </tr>\n",
       "  </tbody>\n",
       "</table>\n",
       "<p>4803 rows × 2 columns</p>\n",
       "</div>"
      ],
      "text/plain": [
       "         0             1\n",
       "0                Action\"\n",
       "1             Adventure\"\n",
       "2                Action\"\n",
       "3                Action\"\n",
       "4                Action\"\n",
       "...    ...           ...\n",
       "4798             Action\"\n",
       "4799             Comedy\"\n",
       "4800             Comedy\"\n",
       "4801  None          None\n",
       "4802        Documentary\"\n",
       "\n",
       "[4803 rows x 2 columns]"
      ]
     },
     "execution_count": 12,
     "metadata": {},
     "output_type": "execute_result"
    }
   ],
   "source": [
    "data_d = data_c[0].str.split('\"',1,expand=True)\n",
    "data_d"
   ]
  },
  {
   "cell_type": "code",
   "execution_count": 13,
   "metadata": {},
   "outputs": [
    {
     "data": {
      "text/html": [
       "<div>\n",
       "<style scoped>\n",
       "    .dataframe tbody tr th:only-of-type {\n",
       "        vertical-align: middle;\n",
       "    }\n",
       "\n",
       "    .dataframe tbody tr th {\n",
       "        vertical-align: top;\n",
       "    }\n",
       "\n",
       "    .dataframe thead th {\n",
       "        text-align: right;\n",
       "    }\n",
       "</style>\n",
       "<table border=\"1\" class=\"dataframe\">\n",
       "  <thead>\n",
       "    <tr style=\"text-align: right;\">\n",
       "      <th></th>\n",
       "      <th>0</th>\n",
       "      <th>1</th>\n",
       "    </tr>\n",
       "  </thead>\n",
       "  <tbody>\n",
       "    <tr>\n",
       "      <th>0</th>\n",
       "      <td>Action</td>\n",
       "      <td></td>\n",
       "    </tr>\n",
       "    <tr>\n",
       "      <th>1</th>\n",
       "      <td>Adventure</td>\n",
       "      <td></td>\n",
       "    </tr>\n",
       "    <tr>\n",
       "      <th>2</th>\n",
       "      <td>Action</td>\n",
       "      <td></td>\n",
       "    </tr>\n",
       "    <tr>\n",
       "      <th>3</th>\n",
       "      <td>Action</td>\n",
       "      <td></td>\n",
       "    </tr>\n",
       "    <tr>\n",
       "      <th>4</th>\n",
       "      <td>Action</td>\n",
       "      <td></td>\n",
       "    </tr>\n",
       "    <tr>\n",
       "      <th>...</th>\n",
       "      <td>...</td>\n",
       "      <td>...</td>\n",
       "    </tr>\n",
       "    <tr>\n",
       "      <th>4798</th>\n",
       "      <td>Action</td>\n",
       "      <td></td>\n",
       "    </tr>\n",
       "    <tr>\n",
       "      <th>4799</th>\n",
       "      <td>Comedy</td>\n",
       "      <td></td>\n",
       "    </tr>\n",
       "    <tr>\n",
       "      <th>4800</th>\n",
       "      <td>Comedy</td>\n",
       "      <td></td>\n",
       "    </tr>\n",
       "    <tr>\n",
       "      <th>4801</th>\n",
       "      <td>None</td>\n",
       "      <td>None</td>\n",
       "    </tr>\n",
       "    <tr>\n",
       "      <th>4802</th>\n",
       "      <td>Documentary</td>\n",
       "      <td></td>\n",
       "    </tr>\n",
       "  </tbody>\n",
       "</table>\n",
       "<p>4803 rows × 2 columns</p>\n",
       "</div>"
      ],
      "text/plain": [
       "                0     1\n",
       "0          Action      \n",
       "1       Adventure      \n",
       "2          Action      \n",
       "3          Action      \n",
       "4          Action      \n",
       "...           ...   ...\n",
       "4798       Action      \n",
       "4799       Comedy      \n",
       "4800       Comedy      \n",
       "4801         None  None\n",
       "4802  Documentary      \n",
       "\n",
       "[4803 rows x 2 columns]"
      ]
     },
     "execution_count": 13,
     "metadata": {},
     "output_type": "execute_result"
    }
   ],
   "source": [
    "data_f = data_d[1].str.split('\"',0,expand=True)\n",
    "data_f"
   ]
  },
  {
   "cell_type": "code",
   "execution_count": 14,
   "metadata": {
    "scrolled": false
   },
   "outputs": [
    {
     "data": {
      "text/plain": [
       "Drama              1207\n",
       "Comedy             1042\n",
       "Action              754\n",
       "Adventure           339\n",
       "Horror              300\n",
       "Crime               195\n",
       "Thriller            194\n",
       "Animation           123\n",
       "Fantasy             117\n",
       "Romance             106\n",
       "Science Fiction      96\n",
       "Documentary          89\n",
       "Family               56\n",
       "Mystery              41\n",
       "Music                34\n",
       "Western              27\n",
       "History              25\n",
       "War                  24\n",
       "TV Movie              4\n",
       "Foreign               2\n",
       "Name: 0, dtype: int64"
      ]
     },
     "execution_count": 14,
     "metadata": {},
     "output_type": "execute_result"
    }
   ],
   "source": [
    "data_f[0].value_counts()"
   ]
  },
  {
   "cell_type": "code",
   "execution_count": 15,
   "metadata": {},
   "outputs": [],
   "source": [
    "df['genres'] = data_f[0]"
   ]
  },
  {
   "cell_type": "code",
   "execution_count": 16,
   "metadata": {},
   "outputs": [
    {
     "data": {
      "text/html": [
       "<div>\n",
       "<style scoped>\n",
       "    .dataframe tbody tr th:only-of-type {\n",
       "        vertical-align: middle;\n",
       "    }\n",
       "\n",
       "    .dataframe tbody tr th {\n",
       "        vertical-align: top;\n",
       "    }\n",
       "\n",
       "    .dataframe thead th {\n",
       "        text-align: right;\n",
       "    }\n",
       "</style>\n",
       "<table border=\"1\" class=\"dataframe\">\n",
       "  <thead>\n",
       "    <tr style=\"text-align: right;\">\n",
       "      <th></th>\n",
       "      <th>budget</th>\n",
       "      <th>genres</th>\n",
       "      <th>id</th>\n",
       "      <th>keywords</th>\n",
       "      <th>original_language</th>\n",
       "      <th>original_title</th>\n",
       "      <th>popularity</th>\n",
       "      <th>production_companies</th>\n",
       "      <th>production_countries</th>\n",
       "      <th>release_date</th>\n",
       "      <th>revenue</th>\n",
       "      <th>runtime</th>\n",
       "      <th>spoken_languages</th>\n",
       "      <th>status</th>\n",
       "      <th>title</th>\n",
       "      <th>vote_average</th>\n",
       "      <th>vote_count</th>\n",
       "    </tr>\n",
       "  </thead>\n",
       "  <tbody>\n",
       "    <tr>\n",
       "      <th>0</th>\n",
       "      <td>237000000</td>\n",
       "      <td>Action</td>\n",
       "      <td>19995</td>\n",
       "      <td>[{\"id\": 1463, \"name\": \"culture clash\"}, {\"id\":...</td>\n",
       "      <td>en</td>\n",
       "      <td>Avatar</td>\n",
       "      <td>150</td>\n",
       "      <td>[{\"name\": \"Ingenious Film Partners\", \"id\": 289...</td>\n",
       "      <td>[{\"iso_3166_1\": \"US\", \"name\": \"United States o...</td>\n",
       "      <td>2009</td>\n",
       "      <td>2787965087</td>\n",
       "      <td>162.0</td>\n",
       "      <td>[{\"iso_639_1\": \"en\", \"name\": \"English\"}, {\"iso...</td>\n",
       "      <td>Released</td>\n",
       "      <td>Avatar</td>\n",
       "      <td>7.2</td>\n",
       "      <td>11800</td>\n",
       "    </tr>\n",
       "    <tr>\n",
       "      <th>1</th>\n",
       "      <td>300000000</td>\n",
       "      <td>Adventure</td>\n",
       "      <td>285</td>\n",
       "      <td>[{\"id\": 270, \"name\": \"ocean\"}, {\"id\": 726, \"na...</td>\n",
       "      <td>en</td>\n",
       "      <td>Pirates of the Caribbean: At World's End</td>\n",
       "      <td>139</td>\n",
       "      <td>[{\"name\": \"Walt Disney Pictures\", \"id\": 2}, {\"...</td>\n",
       "      <td>[{\"iso_3166_1\": \"US\", \"name\": \"United States o...</td>\n",
       "      <td>2007</td>\n",
       "      <td>961000000</td>\n",
       "      <td>169.0</td>\n",
       "      <td>[{\"iso_639_1\": \"en\", \"name\": \"English\"}]</td>\n",
       "      <td>Released</td>\n",
       "      <td>Pirates of the Caribbean: At World's End</td>\n",
       "      <td>6.9</td>\n",
       "      <td>4500</td>\n",
       "    </tr>\n",
       "    <tr>\n",
       "      <th>2</th>\n",
       "      <td>245000000</td>\n",
       "      <td>Action</td>\n",
       "      <td>206647</td>\n",
       "      <td>[{\"id\": 470, \"name\": \"spy\"}, {\"id\": 818, \"name...</td>\n",
       "      <td>en</td>\n",
       "      <td>Spectre</td>\n",
       "      <td>107</td>\n",
       "      <td>[{\"name\": \"Columbia Pictures\", \"id\": 5}, {\"nam...</td>\n",
       "      <td>[{\"iso_3166_1\": \"GB\", \"name\": \"United Kingdom\"...</td>\n",
       "      <td>2015</td>\n",
       "      <td>880674609</td>\n",
       "      <td>148.0</td>\n",
       "      <td>[{\"iso_639_1\": \"fr\", \"name\": \"Fran\\u00e7ais\"},...</td>\n",
       "      <td>Released</td>\n",
       "      <td>Spectre</td>\n",
       "      <td>6.3</td>\n",
       "      <td>4466</td>\n",
       "    </tr>\n",
       "    <tr>\n",
       "      <th>3</th>\n",
       "      <td>250000000</td>\n",
       "      <td>Action</td>\n",
       "      <td>49026</td>\n",
       "      <td>[{\"id\": 849, \"name\": \"dc comics\"}, {\"id\": 853,...</td>\n",
       "      <td>en</td>\n",
       "      <td>The Dark Knight Rises</td>\n",
       "      <td>112</td>\n",
       "      <td>[{\"name\": \"Legendary Pictures\", \"id\": 923}, {\"...</td>\n",
       "      <td>[{\"iso_3166_1\": \"US\", \"name\": \"United States o...</td>\n",
       "      <td>2012</td>\n",
       "      <td>1084939099</td>\n",
       "      <td>165.0</td>\n",
       "      <td>[{\"iso_639_1\": \"en\", \"name\": \"English\"}]</td>\n",
       "      <td>Released</td>\n",
       "      <td>The Dark Knight Rises</td>\n",
       "      <td>7.6</td>\n",
       "      <td>9106</td>\n",
       "    </tr>\n",
       "    <tr>\n",
       "      <th>4</th>\n",
       "      <td>260000000</td>\n",
       "      <td>Action</td>\n",
       "      <td>49529</td>\n",
       "      <td>[{\"id\": 818, \"name\": \"based on novel\"}, {\"id\":...</td>\n",
       "      <td>en</td>\n",
       "      <td>John Carter</td>\n",
       "      <td>43</td>\n",
       "      <td>[{\"name\": \"Walt Disney Pictures\", \"id\": 2}]</td>\n",
       "      <td>[{\"iso_3166_1\": \"US\", \"name\": \"United States o...</td>\n",
       "      <td>2012</td>\n",
       "      <td>284139100</td>\n",
       "      <td>132.0</td>\n",
       "      <td>[{\"iso_639_1\": \"en\", \"name\": \"English\"}]</td>\n",
       "      <td>Released</td>\n",
       "      <td>John Carter</td>\n",
       "      <td>6.1</td>\n",
       "      <td>2124</td>\n",
       "    </tr>\n",
       "  </tbody>\n",
       "</table>\n",
       "</div>"
      ],
      "text/plain": [
       "      budget     genres      id  \\\n",
       "0  237000000     Action   19995   \n",
       "1  300000000  Adventure     285   \n",
       "2  245000000     Action  206647   \n",
       "3  250000000     Action   49026   \n",
       "4  260000000     Action   49529   \n",
       "\n",
       "                                            keywords original_language  \\\n",
       "0  [{\"id\": 1463, \"name\": \"culture clash\"}, {\"id\":...                en   \n",
       "1  [{\"id\": 270, \"name\": \"ocean\"}, {\"id\": 726, \"na...                en   \n",
       "2  [{\"id\": 470, \"name\": \"spy\"}, {\"id\": 818, \"name...                en   \n",
       "3  [{\"id\": 849, \"name\": \"dc comics\"}, {\"id\": 853,...                en   \n",
       "4  [{\"id\": 818, \"name\": \"based on novel\"}, {\"id\":...                en   \n",
       "\n",
       "                             original_title  popularity  \\\n",
       "0                                    Avatar         150   \n",
       "1  Pirates of the Caribbean: At World's End         139   \n",
       "2                                   Spectre         107   \n",
       "3                     The Dark Knight Rises         112   \n",
       "4                               John Carter          43   \n",
       "\n",
       "                                production_companies  \\\n",
       "0  [{\"name\": \"Ingenious Film Partners\", \"id\": 289...   \n",
       "1  [{\"name\": \"Walt Disney Pictures\", \"id\": 2}, {\"...   \n",
       "2  [{\"name\": \"Columbia Pictures\", \"id\": 5}, {\"nam...   \n",
       "3  [{\"name\": \"Legendary Pictures\", \"id\": 923}, {\"...   \n",
       "4        [{\"name\": \"Walt Disney Pictures\", \"id\": 2}]   \n",
       "\n",
       "                                production_countries release_date     revenue  \\\n",
       "0  [{\"iso_3166_1\": \"US\", \"name\": \"United States o...         2009  2787965087   \n",
       "1  [{\"iso_3166_1\": \"US\", \"name\": \"United States o...         2007   961000000   \n",
       "2  [{\"iso_3166_1\": \"GB\", \"name\": \"United Kingdom\"...         2015   880674609   \n",
       "3  [{\"iso_3166_1\": \"US\", \"name\": \"United States o...         2012  1084939099   \n",
       "4  [{\"iso_3166_1\": \"US\", \"name\": \"United States o...         2012   284139100   \n",
       "\n",
       "   runtime                                   spoken_languages    status  \\\n",
       "0    162.0  [{\"iso_639_1\": \"en\", \"name\": \"English\"}, {\"iso...  Released   \n",
       "1    169.0           [{\"iso_639_1\": \"en\", \"name\": \"English\"}]  Released   \n",
       "2    148.0  [{\"iso_639_1\": \"fr\", \"name\": \"Fran\\u00e7ais\"},...  Released   \n",
       "3    165.0           [{\"iso_639_1\": \"en\", \"name\": \"English\"}]  Released   \n",
       "4    132.0           [{\"iso_639_1\": \"en\", \"name\": \"English\"}]  Released   \n",
       "\n",
       "                                      title  vote_average  vote_count  \n",
       "0                                    Avatar           7.2       11800  \n",
       "1  Pirates of the Caribbean: At World's End           6.9        4500  \n",
       "2                                   Spectre           6.3        4466  \n",
       "3                     The Dark Knight Rises           7.6        9106  \n",
       "4                               John Carter           6.1        2124  "
      ]
     },
     "execution_count": 16,
     "metadata": {},
     "output_type": "execute_result"
    }
   ],
   "source": [
    "df.head()"
   ]
  },
  {
   "cell_type": "markdown",
   "metadata": {},
   "source": [
    "## Keywords Splitting"
   ]
  },
  {
   "cell_type": "code",
   "execution_count": 17,
   "metadata": {
    "scrolled": false
   },
   "outputs": [
    {
     "data": {
      "text/plain": [
       "0       [{\"id\": 1463, \"name\": \"culture clash\"}, {\"id\":...\n",
       "1       [{\"id\": 270, \"name\": \"ocean\"}, {\"id\": 726, \"na...\n",
       "2       [{\"id\": 470, \"name\": \"spy\"}, {\"id\": 818, \"name...\n",
       "3       [{\"id\": 849, \"name\": \"dc comics\"}, {\"id\": 853,...\n",
       "4       [{\"id\": 818, \"name\": \"based on novel\"}, {\"id\":...\n",
       "                              ...                        \n",
       "4798    [{\"id\": 5616, \"name\": \"united states\\u2013mexi...\n",
       "4799                                                   []\n",
       "4800    [{\"id\": 248, \"name\": \"date\"}, {\"id\": 699, \"nam...\n",
       "4801                                                   []\n",
       "4802    [{\"id\": 1523, \"name\": \"obsession\"}, {\"id\": 224...\n",
       "Name: keywords, Length: 4803, dtype: object"
      ]
     },
     "execution_count": 17,
     "metadata": {},
     "output_type": "execute_result"
    }
   ],
   "source": [
    "df['keywords']"
   ]
  },
  {
   "cell_type": "code",
   "execution_count": 18,
   "metadata": {},
   "outputs": [
    {
     "data": {
      "text/html": [
       "<div>\n",
       "<style scoped>\n",
       "    .dataframe tbody tr th:only-of-type {\n",
       "        vertical-align: middle;\n",
       "    }\n",
       "\n",
       "    .dataframe tbody tr th {\n",
       "        vertical-align: top;\n",
       "    }\n",
       "\n",
       "    .dataframe thead th {\n",
       "        text-align: right;\n",
       "    }\n",
       "</style>\n",
       "<table border=\"1\" class=\"dataframe\">\n",
       "  <thead>\n",
       "    <tr style=\"text-align: right;\">\n",
       "      <th></th>\n",
       "      <th>0</th>\n",
       "      <th>1</th>\n",
       "      <th>2</th>\n",
       "    </tr>\n",
       "  </thead>\n",
       "  <tbody>\n",
       "    <tr>\n",
       "      <th>0</th>\n",
       "      <td>[{\"id\"</td>\n",
       "      <td>1463, \"name\"</td>\n",
       "      <td>\"culture clash\"}, {\"id\": 2964, \"name\": \"futur...</td>\n",
       "    </tr>\n",
       "    <tr>\n",
       "      <th>1</th>\n",
       "      <td>[{\"id\"</td>\n",
       "      <td>270, \"name\"</td>\n",
       "      <td>\"ocean\"}, {\"id\": 726, \"name\": \"drug abuse\"}, ...</td>\n",
       "    </tr>\n",
       "    <tr>\n",
       "      <th>2</th>\n",
       "      <td>[{\"id\"</td>\n",
       "      <td>470, \"name\"</td>\n",
       "      <td>\"spy\"}, {\"id\": 818, \"name\": \"based on novel\"}...</td>\n",
       "    </tr>\n",
       "    <tr>\n",
       "      <th>3</th>\n",
       "      <td>[{\"id\"</td>\n",
       "      <td>849, \"name\"</td>\n",
       "      <td>\"dc comics\"}, {\"id\": 853, \"name\": \"crime figh...</td>\n",
       "    </tr>\n",
       "    <tr>\n",
       "      <th>4</th>\n",
       "      <td>[{\"id\"</td>\n",
       "      <td>818, \"name\"</td>\n",
       "      <td>\"based on novel\"}, {\"id\": 839, \"name\": \"mars\"...</td>\n",
       "    </tr>\n",
       "    <tr>\n",
       "      <th>...</th>\n",
       "      <td>...</td>\n",
       "      <td>...</td>\n",
       "      <td>...</td>\n",
       "    </tr>\n",
       "    <tr>\n",
       "      <th>4798</th>\n",
       "      <td>[{\"id\"</td>\n",
       "      <td>5616, \"name\"</td>\n",
       "      <td>\"united states\\u2013mexico barrier\"}, {\"id\": ...</td>\n",
       "    </tr>\n",
       "    <tr>\n",
       "      <th>4799</th>\n",
       "      <td>[]</td>\n",
       "      <td>None</td>\n",
       "      <td>None</td>\n",
       "    </tr>\n",
       "    <tr>\n",
       "      <th>4800</th>\n",
       "      <td>[{\"id\"</td>\n",
       "      <td>248, \"name\"</td>\n",
       "      <td>\"date\"}, {\"id\": 699, \"name\": \"love at first s...</td>\n",
       "    </tr>\n",
       "    <tr>\n",
       "      <th>4801</th>\n",
       "      <td>[]</td>\n",
       "      <td>None</td>\n",
       "      <td>None</td>\n",
       "    </tr>\n",
       "    <tr>\n",
       "      <th>4802</th>\n",
       "      <td>[{\"id\"</td>\n",
       "      <td>1523, \"name\"</td>\n",
       "      <td>\"obsession\"}, {\"id\": 2249, \"name\": \"camcorder...</td>\n",
       "    </tr>\n",
       "  </tbody>\n",
       "</table>\n",
       "<p>4803 rows × 3 columns</p>\n",
       "</div>"
      ],
      "text/plain": [
       "           0              1                                                  2\n",
       "0     [{\"id\"   1463, \"name\"   \"culture clash\"}, {\"id\": 2964, \"name\": \"futur...\n",
       "1     [{\"id\"    270, \"name\"   \"ocean\"}, {\"id\": 726, \"name\": \"drug abuse\"}, ...\n",
       "2     [{\"id\"    470, \"name\"   \"spy\"}, {\"id\": 818, \"name\": \"based on novel\"}...\n",
       "3     [{\"id\"    849, \"name\"   \"dc comics\"}, {\"id\": 853, \"name\": \"crime figh...\n",
       "4     [{\"id\"    818, \"name\"   \"based on novel\"}, {\"id\": 839, \"name\": \"mars\"...\n",
       "...      ...            ...                                                ...\n",
       "4798  [{\"id\"   5616, \"name\"   \"united states\\u2013mexico barrier\"}, {\"id\": ...\n",
       "4799      []           None                                               None\n",
       "4800  [{\"id\"    248, \"name\"   \"date\"}, {\"id\": 699, \"name\": \"love at first s...\n",
       "4801      []           None                                               None\n",
       "4802  [{\"id\"   1523, \"name\"   \"obsession\"}, {\"id\": 2249, \"name\": \"camcorder...\n",
       "\n",
       "[4803 rows x 3 columns]"
      ]
     },
     "execution_count": 18,
     "metadata": {},
     "output_type": "execute_result"
    }
   ],
   "source": [
    "data_g = df['keywords'].str.split(':',2,expand=True)\n",
    "data_g"
   ]
  },
  {
   "cell_type": "code",
   "execution_count": 19,
   "metadata": {},
   "outputs": [
    {
     "data": {
      "text/html": [
       "<div>\n",
       "<style scoped>\n",
       "    .dataframe tbody tr th:only-of-type {\n",
       "        vertical-align: middle;\n",
       "    }\n",
       "\n",
       "    .dataframe tbody tr th {\n",
       "        vertical-align: top;\n",
       "    }\n",
       "\n",
       "    .dataframe thead th {\n",
       "        text-align: right;\n",
       "    }\n",
       "</style>\n",
       "<table border=\"1\" class=\"dataframe\">\n",
       "  <thead>\n",
       "    <tr style=\"text-align: right;\">\n",
       "      <th></th>\n",
       "      <th>0</th>\n",
       "      <th>1</th>\n",
       "    </tr>\n",
       "  </thead>\n",
       "  <tbody>\n",
       "    <tr>\n",
       "      <th>0</th>\n",
       "      <td>\"culture clash\"</td>\n",
       "      <td>, {\"id\": 2964, \"name\": \"future\"}, {\"id\": 3386,...</td>\n",
       "    </tr>\n",
       "    <tr>\n",
       "      <th>1</th>\n",
       "      <td>\"ocean\"</td>\n",
       "      <td>, {\"id\": 726, \"name\": \"drug abuse\"}, {\"id\": 91...</td>\n",
       "    </tr>\n",
       "    <tr>\n",
       "      <th>2</th>\n",
       "      <td>\"spy\"</td>\n",
       "      <td>, {\"id\": 818, \"name\": \"based on novel\"}, {\"id\"...</td>\n",
       "    </tr>\n",
       "    <tr>\n",
       "      <th>3</th>\n",
       "      <td>\"dc comics\"</td>\n",
       "      <td>, {\"id\": 853, \"name\": \"crime fighter\"}, {\"id\":...</td>\n",
       "    </tr>\n",
       "    <tr>\n",
       "      <th>4</th>\n",
       "      <td>\"based on novel\"</td>\n",
       "      <td>, {\"id\": 839, \"name\": \"mars\"}, {\"id\": 1456, \"n...</td>\n",
       "    </tr>\n",
       "    <tr>\n",
       "      <th>...</th>\n",
       "      <td>...</td>\n",
       "      <td>...</td>\n",
       "    </tr>\n",
       "    <tr>\n",
       "      <th>4798</th>\n",
       "      <td>\"united states\\u2013mexico barrier\"</td>\n",
       "      <td>, {\"id\": 33649, \"name\": \"legs\"}, {\"id\": 162740...</td>\n",
       "    </tr>\n",
       "    <tr>\n",
       "      <th>4799</th>\n",
       "      <td>None</td>\n",
       "      <td>None</td>\n",
       "    </tr>\n",
       "    <tr>\n",
       "      <th>4800</th>\n",
       "      <td>\"date\"</td>\n",
       "      <td>, {\"id\": 699, \"name\": \"love at first sight\"}, ...</td>\n",
       "    </tr>\n",
       "    <tr>\n",
       "      <th>4801</th>\n",
       "      <td>None</td>\n",
       "      <td>None</td>\n",
       "    </tr>\n",
       "    <tr>\n",
       "      <th>4802</th>\n",
       "      <td>\"obsession\"</td>\n",
       "      <td>, {\"id\": 2249, \"name\": \"camcorder\"}, {\"id\": 99...</td>\n",
       "    </tr>\n",
       "  </tbody>\n",
       "</table>\n",
       "<p>4803 rows × 2 columns</p>\n",
       "</div>"
      ],
      "text/plain": [
       "                                         0  \\\n",
       "0                          \"culture clash\"   \n",
       "1                                  \"ocean\"   \n",
       "2                                    \"spy\"   \n",
       "3                              \"dc comics\"   \n",
       "4                         \"based on novel\"   \n",
       "...                                    ...   \n",
       "4798   \"united states\\u2013mexico barrier\"   \n",
       "4799                                  None   \n",
       "4800                                \"date\"   \n",
       "4801                                  None   \n",
       "4802                           \"obsession\"   \n",
       "\n",
       "                                                      1  \n",
       "0     , {\"id\": 2964, \"name\": \"future\"}, {\"id\": 3386,...  \n",
       "1     , {\"id\": 726, \"name\": \"drug abuse\"}, {\"id\": 91...  \n",
       "2     , {\"id\": 818, \"name\": \"based on novel\"}, {\"id\"...  \n",
       "3     , {\"id\": 853, \"name\": \"crime fighter\"}, {\"id\":...  \n",
       "4     , {\"id\": 839, \"name\": \"mars\"}, {\"id\": 1456, \"n...  \n",
       "...                                                 ...  \n",
       "4798  , {\"id\": 33649, \"name\": \"legs\"}, {\"id\": 162740...  \n",
       "4799                                               None  \n",
       "4800  , {\"id\": 699, \"name\": \"love at first sight\"}, ...  \n",
       "4801                                               None  \n",
       "4802  , {\"id\": 2249, \"name\": \"camcorder\"}, {\"id\": 99...  \n",
       "\n",
       "[4803 rows x 2 columns]"
      ]
     },
     "execution_count": 19,
     "metadata": {},
     "output_type": "execute_result"
    }
   ],
   "source": [
    "data_h = data_g[2].str.split('}',1,expand=True)\n",
    "data_h"
   ]
  },
  {
   "cell_type": "code",
   "execution_count": 20,
   "metadata": {},
   "outputs": [
    {
     "data": {
      "text/html": [
       "<div>\n",
       "<style scoped>\n",
       "    .dataframe tbody tr th:only-of-type {\n",
       "        vertical-align: middle;\n",
       "    }\n",
       "\n",
       "    .dataframe tbody tr th {\n",
       "        vertical-align: top;\n",
       "    }\n",
       "\n",
       "    .dataframe thead th {\n",
       "        text-align: right;\n",
       "    }\n",
       "</style>\n",
       "<table border=\"1\" class=\"dataframe\">\n",
       "  <thead>\n",
       "    <tr style=\"text-align: right;\">\n",
       "      <th></th>\n",
       "      <th>0</th>\n",
       "      <th>1</th>\n",
       "    </tr>\n",
       "  </thead>\n",
       "  <tbody>\n",
       "    <tr>\n",
       "      <th>0</th>\n",
       "      <td></td>\n",
       "      <td>culture clash\"</td>\n",
       "    </tr>\n",
       "    <tr>\n",
       "      <th>1</th>\n",
       "      <td></td>\n",
       "      <td>ocean\"</td>\n",
       "    </tr>\n",
       "    <tr>\n",
       "      <th>2</th>\n",
       "      <td></td>\n",
       "      <td>spy\"</td>\n",
       "    </tr>\n",
       "    <tr>\n",
       "      <th>3</th>\n",
       "      <td></td>\n",
       "      <td>dc comics\"</td>\n",
       "    </tr>\n",
       "    <tr>\n",
       "      <th>4</th>\n",
       "      <td></td>\n",
       "      <td>based on novel\"</td>\n",
       "    </tr>\n",
       "    <tr>\n",
       "      <th>...</th>\n",
       "      <td>...</td>\n",
       "      <td>...</td>\n",
       "    </tr>\n",
       "    <tr>\n",
       "      <th>4798</th>\n",
       "      <td></td>\n",
       "      <td>united states\\u2013mexico barrier\"</td>\n",
       "    </tr>\n",
       "    <tr>\n",
       "      <th>4799</th>\n",
       "      <td>None</td>\n",
       "      <td>None</td>\n",
       "    </tr>\n",
       "    <tr>\n",
       "      <th>4800</th>\n",
       "      <td></td>\n",
       "      <td>date\"</td>\n",
       "    </tr>\n",
       "    <tr>\n",
       "      <th>4801</th>\n",
       "      <td>None</td>\n",
       "      <td>None</td>\n",
       "    </tr>\n",
       "    <tr>\n",
       "      <th>4802</th>\n",
       "      <td></td>\n",
       "      <td>obsession\"</td>\n",
       "    </tr>\n",
       "  </tbody>\n",
       "</table>\n",
       "<p>4803 rows × 2 columns</p>\n",
       "</div>"
      ],
      "text/plain": [
       "         0                                   1\n",
       "0                               culture clash\"\n",
       "1                                       ocean\"\n",
       "2                                         spy\"\n",
       "3                                   dc comics\"\n",
       "4                              based on novel\"\n",
       "...    ...                                 ...\n",
       "4798        united states\\u2013mexico barrier\"\n",
       "4799  None                                None\n",
       "4800                                     date\"\n",
       "4801  None                                None\n",
       "4802                                obsession\"\n",
       "\n",
       "[4803 rows x 2 columns]"
      ]
     },
     "execution_count": 20,
     "metadata": {},
     "output_type": "execute_result"
    }
   ],
   "source": [
    "data_i = data_h[0].str.split('\"',1,expand=True)\n",
    "data_i"
   ]
  },
  {
   "cell_type": "code",
   "execution_count": 21,
   "metadata": {},
   "outputs": [
    {
     "data": {
      "text/html": [
       "<div>\n",
       "<style scoped>\n",
       "    .dataframe tbody tr th:only-of-type {\n",
       "        vertical-align: middle;\n",
       "    }\n",
       "\n",
       "    .dataframe tbody tr th {\n",
       "        vertical-align: top;\n",
       "    }\n",
       "\n",
       "    .dataframe thead th {\n",
       "        text-align: right;\n",
       "    }\n",
       "</style>\n",
       "<table border=\"1\" class=\"dataframe\">\n",
       "  <thead>\n",
       "    <tr style=\"text-align: right;\">\n",
       "      <th></th>\n",
       "      <th>0</th>\n",
       "      <th>1</th>\n",
       "    </tr>\n",
       "  </thead>\n",
       "  <tbody>\n",
       "    <tr>\n",
       "      <th>0</th>\n",
       "      <td>culture clash</td>\n",
       "      <td></td>\n",
       "    </tr>\n",
       "    <tr>\n",
       "      <th>1</th>\n",
       "      <td>ocean</td>\n",
       "      <td></td>\n",
       "    </tr>\n",
       "    <tr>\n",
       "      <th>2</th>\n",
       "      <td>spy</td>\n",
       "      <td></td>\n",
       "    </tr>\n",
       "    <tr>\n",
       "      <th>3</th>\n",
       "      <td>dc comics</td>\n",
       "      <td></td>\n",
       "    </tr>\n",
       "    <tr>\n",
       "      <th>4</th>\n",
       "      <td>based on novel</td>\n",
       "      <td></td>\n",
       "    </tr>\n",
       "    <tr>\n",
       "      <th>...</th>\n",
       "      <td>...</td>\n",
       "      <td>...</td>\n",
       "    </tr>\n",
       "    <tr>\n",
       "      <th>4798</th>\n",
       "      <td>united states\\u2013mexico barrier</td>\n",
       "      <td></td>\n",
       "    </tr>\n",
       "    <tr>\n",
       "      <th>4799</th>\n",
       "      <td>None</td>\n",
       "      <td>None</td>\n",
       "    </tr>\n",
       "    <tr>\n",
       "      <th>4800</th>\n",
       "      <td>date</td>\n",
       "      <td></td>\n",
       "    </tr>\n",
       "    <tr>\n",
       "      <th>4801</th>\n",
       "      <td>None</td>\n",
       "      <td>None</td>\n",
       "    </tr>\n",
       "    <tr>\n",
       "      <th>4802</th>\n",
       "      <td>obsession</td>\n",
       "      <td></td>\n",
       "    </tr>\n",
       "  </tbody>\n",
       "</table>\n",
       "<p>4803 rows × 2 columns</p>\n",
       "</div>"
      ],
      "text/plain": [
       "                                      0     1\n",
       "0                         culture clash      \n",
       "1                                 ocean      \n",
       "2                                   spy      \n",
       "3                             dc comics      \n",
       "4                        based on novel      \n",
       "...                                 ...   ...\n",
       "4798  united states\\u2013mexico barrier      \n",
       "4799                               None  None\n",
       "4800                               date      \n",
       "4801                               None  None\n",
       "4802                          obsession      \n",
       "\n",
       "[4803 rows x 2 columns]"
      ]
     },
     "execution_count": 21,
     "metadata": {},
     "output_type": "execute_result"
    }
   ],
   "source": [
    "data_j = data_i[1].str.split('\"',0,expand=True)\n",
    "data_j"
   ]
  },
  {
   "cell_type": "code",
   "execution_count": 22,
   "metadata": {
    "scrolled": true
   },
   "outputs": [
    {
     "data": {
      "text/plain": [
       "based on novel      94\n",
       "independent film    87\n",
       "new york            73\n",
       "london england      61\n",
       "prison              60\n",
       "                    ..\n",
       "overleven            1\n",
       "sandstorm            1\n",
       "malibu               1\n",
       "john f. kennedy      1\n",
       "naturalist           1\n",
       "Name: 0, Length: 1351, dtype: int64"
      ]
     },
     "execution_count": 22,
     "metadata": {},
     "output_type": "execute_result"
    }
   ],
   "source": [
    "data_j[0].value_counts()"
   ]
  },
  {
   "cell_type": "code",
   "execution_count": 23,
   "metadata": {},
   "outputs": [],
   "source": [
    "df['keywords'] = data_j[0]"
   ]
  },
  {
   "cell_type": "code",
   "execution_count": 24,
   "metadata": {},
   "outputs": [
    {
     "data": {
      "text/plain": [
       "0    based on novel\n",
       "dtype: object"
      ]
     },
     "execution_count": 24,
     "metadata": {},
     "output_type": "execute_result"
    }
   ],
   "source": [
    "df['keywords'].mode()"
   ]
  },
  {
   "cell_type": "code",
   "execution_count": 25,
   "metadata": {},
   "outputs": [
    {
     "data": {
      "text/plain": [
       "budget                    0\n",
       "genres                   28\n",
       "id                        0\n",
       "keywords                412\n",
       "original_language         0\n",
       "original_title            0\n",
       "popularity                0\n",
       "production_companies      0\n",
       "production_countries      0\n",
       "release_date              1\n",
       "revenue                   0\n",
       "runtime                   2\n",
       "spoken_languages          0\n",
       "status                    0\n",
       "title                     0\n",
       "vote_average              0\n",
       "vote_count                0\n",
       "dtype: int64"
      ]
     },
     "execution_count": 25,
     "metadata": {},
     "output_type": "execute_result"
    }
   ],
   "source": [
    "df.isnull().sum()"
   ]
  },
  {
   "cell_type": "code",
   "execution_count": 26,
   "metadata": {},
   "outputs": [
    {
     "data": {
      "text/html": [
       "<div>\n",
       "<style scoped>\n",
       "    .dataframe tbody tr th:only-of-type {\n",
       "        vertical-align: middle;\n",
       "    }\n",
       "\n",
       "    .dataframe tbody tr th {\n",
       "        vertical-align: top;\n",
       "    }\n",
       "\n",
       "    .dataframe thead th {\n",
       "        text-align: right;\n",
       "    }\n",
       "</style>\n",
       "<table border=\"1\" class=\"dataframe\">\n",
       "  <thead>\n",
       "    <tr style=\"text-align: right;\">\n",
       "      <th></th>\n",
       "      <th>budget</th>\n",
       "      <th>genres</th>\n",
       "      <th>id</th>\n",
       "      <th>keywords</th>\n",
       "      <th>original_language</th>\n",
       "      <th>original_title</th>\n",
       "      <th>popularity</th>\n",
       "      <th>production_companies</th>\n",
       "      <th>production_countries</th>\n",
       "      <th>release_date</th>\n",
       "      <th>revenue</th>\n",
       "      <th>runtime</th>\n",
       "      <th>spoken_languages</th>\n",
       "      <th>status</th>\n",
       "      <th>title</th>\n",
       "      <th>vote_average</th>\n",
       "      <th>vote_count</th>\n",
       "    </tr>\n",
       "  </thead>\n",
       "  <tbody>\n",
       "    <tr>\n",
       "      <th>0</th>\n",
       "      <td>237000000</td>\n",
       "      <td>Action</td>\n",
       "      <td>19995</td>\n",
       "      <td>culture clash</td>\n",
       "      <td>en</td>\n",
       "      <td>Avatar</td>\n",
       "      <td>150</td>\n",
       "      <td>[{\"name\": \"Ingenious Film Partners\", \"id\": 289...</td>\n",
       "      <td>[{\"iso_3166_1\": \"US\", \"name\": \"United States o...</td>\n",
       "      <td>2009</td>\n",
       "      <td>2787965087</td>\n",
       "      <td>162.0</td>\n",
       "      <td>[{\"iso_639_1\": \"en\", \"name\": \"English\"}, {\"iso...</td>\n",
       "      <td>Released</td>\n",
       "      <td>Avatar</td>\n",
       "      <td>7.2</td>\n",
       "      <td>11800</td>\n",
       "    </tr>\n",
       "    <tr>\n",
       "      <th>1</th>\n",
       "      <td>300000000</td>\n",
       "      <td>Adventure</td>\n",
       "      <td>285</td>\n",
       "      <td>ocean</td>\n",
       "      <td>en</td>\n",
       "      <td>Pirates of the Caribbean: At World's End</td>\n",
       "      <td>139</td>\n",
       "      <td>[{\"name\": \"Walt Disney Pictures\", \"id\": 2}, {\"...</td>\n",
       "      <td>[{\"iso_3166_1\": \"US\", \"name\": \"United States o...</td>\n",
       "      <td>2007</td>\n",
       "      <td>961000000</td>\n",
       "      <td>169.0</td>\n",
       "      <td>[{\"iso_639_1\": \"en\", \"name\": \"English\"}]</td>\n",
       "      <td>Released</td>\n",
       "      <td>Pirates of the Caribbean: At World's End</td>\n",
       "      <td>6.9</td>\n",
       "      <td>4500</td>\n",
       "    </tr>\n",
       "    <tr>\n",
       "      <th>2</th>\n",
       "      <td>245000000</td>\n",
       "      <td>Action</td>\n",
       "      <td>206647</td>\n",
       "      <td>spy</td>\n",
       "      <td>en</td>\n",
       "      <td>Spectre</td>\n",
       "      <td>107</td>\n",
       "      <td>[{\"name\": \"Columbia Pictures\", \"id\": 5}, {\"nam...</td>\n",
       "      <td>[{\"iso_3166_1\": \"GB\", \"name\": \"United Kingdom\"...</td>\n",
       "      <td>2015</td>\n",
       "      <td>880674609</td>\n",
       "      <td>148.0</td>\n",
       "      <td>[{\"iso_639_1\": \"fr\", \"name\": \"Fran\\u00e7ais\"},...</td>\n",
       "      <td>Released</td>\n",
       "      <td>Spectre</td>\n",
       "      <td>6.3</td>\n",
       "      <td>4466</td>\n",
       "    </tr>\n",
       "    <tr>\n",
       "      <th>3</th>\n",
       "      <td>250000000</td>\n",
       "      <td>Action</td>\n",
       "      <td>49026</td>\n",
       "      <td>dc comics</td>\n",
       "      <td>en</td>\n",
       "      <td>The Dark Knight Rises</td>\n",
       "      <td>112</td>\n",
       "      <td>[{\"name\": \"Legendary Pictures\", \"id\": 923}, {\"...</td>\n",
       "      <td>[{\"iso_3166_1\": \"US\", \"name\": \"United States o...</td>\n",
       "      <td>2012</td>\n",
       "      <td>1084939099</td>\n",
       "      <td>165.0</td>\n",
       "      <td>[{\"iso_639_1\": \"en\", \"name\": \"English\"}]</td>\n",
       "      <td>Released</td>\n",
       "      <td>The Dark Knight Rises</td>\n",
       "      <td>7.6</td>\n",
       "      <td>9106</td>\n",
       "    </tr>\n",
       "    <tr>\n",
       "      <th>4</th>\n",
       "      <td>260000000</td>\n",
       "      <td>Action</td>\n",
       "      <td>49529</td>\n",
       "      <td>based on novel</td>\n",
       "      <td>en</td>\n",
       "      <td>John Carter</td>\n",
       "      <td>43</td>\n",
       "      <td>[{\"name\": \"Walt Disney Pictures\", \"id\": 2}]</td>\n",
       "      <td>[{\"iso_3166_1\": \"US\", \"name\": \"United States o...</td>\n",
       "      <td>2012</td>\n",
       "      <td>284139100</td>\n",
       "      <td>132.0</td>\n",
       "      <td>[{\"iso_639_1\": \"en\", \"name\": \"English\"}]</td>\n",
       "      <td>Released</td>\n",
       "      <td>John Carter</td>\n",
       "      <td>6.1</td>\n",
       "      <td>2124</td>\n",
       "    </tr>\n",
       "  </tbody>\n",
       "</table>\n",
       "</div>"
      ],
      "text/plain": [
       "      budget     genres      id        keywords original_language  \\\n",
       "0  237000000     Action   19995   culture clash                en   \n",
       "1  300000000  Adventure     285           ocean                en   \n",
       "2  245000000     Action  206647             spy                en   \n",
       "3  250000000     Action   49026       dc comics                en   \n",
       "4  260000000     Action   49529  based on novel                en   \n",
       "\n",
       "                             original_title  popularity  \\\n",
       "0                                    Avatar         150   \n",
       "1  Pirates of the Caribbean: At World's End         139   \n",
       "2                                   Spectre         107   \n",
       "3                     The Dark Knight Rises         112   \n",
       "4                               John Carter          43   \n",
       "\n",
       "                                production_companies  \\\n",
       "0  [{\"name\": \"Ingenious Film Partners\", \"id\": 289...   \n",
       "1  [{\"name\": \"Walt Disney Pictures\", \"id\": 2}, {\"...   \n",
       "2  [{\"name\": \"Columbia Pictures\", \"id\": 5}, {\"nam...   \n",
       "3  [{\"name\": \"Legendary Pictures\", \"id\": 923}, {\"...   \n",
       "4        [{\"name\": \"Walt Disney Pictures\", \"id\": 2}]   \n",
       "\n",
       "                                production_countries release_date     revenue  \\\n",
       "0  [{\"iso_3166_1\": \"US\", \"name\": \"United States o...         2009  2787965087   \n",
       "1  [{\"iso_3166_1\": \"US\", \"name\": \"United States o...         2007   961000000   \n",
       "2  [{\"iso_3166_1\": \"GB\", \"name\": \"United Kingdom\"...         2015   880674609   \n",
       "3  [{\"iso_3166_1\": \"US\", \"name\": \"United States o...         2012  1084939099   \n",
       "4  [{\"iso_3166_1\": \"US\", \"name\": \"United States o...         2012   284139100   \n",
       "\n",
       "   runtime                                   spoken_languages    status  \\\n",
       "0    162.0  [{\"iso_639_1\": \"en\", \"name\": \"English\"}, {\"iso...  Released   \n",
       "1    169.0           [{\"iso_639_1\": \"en\", \"name\": \"English\"}]  Released   \n",
       "2    148.0  [{\"iso_639_1\": \"fr\", \"name\": \"Fran\\u00e7ais\"},...  Released   \n",
       "3    165.0           [{\"iso_639_1\": \"en\", \"name\": \"English\"}]  Released   \n",
       "4    132.0           [{\"iso_639_1\": \"en\", \"name\": \"English\"}]  Released   \n",
       "\n",
       "                                      title  vote_average  vote_count  \n",
       "0                                    Avatar           7.2       11800  \n",
       "1  Pirates of the Caribbean: At World's End           6.9        4500  \n",
       "2                                   Spectre           6.3        4466  \n",
       "3                     The Dark Knight Rises           7.6        9106  \n",
       "4                               John Carter           6.1        2124  "
      ]
     },
     "execution_count": 26,
     "metadata": {},
     "output_type": "execute_result"
    }
   ],
   "source": [
    "df.head()"
   ]
  },
  {
   "cell_type": "markdown",
   "metadata": {},
   "source": [
    "## Production Companies Splitting"
   ]
  },
  {
   "cell_type": "code",
   "execution_count": 27,
   "metadata": {},
   "outputs": [
    {
     "data": {
      "text/plain": [
       "[]                                                                                                                                                                                                                                                                           351\n",
       "[{\"name\": \"Paramount Pictures\", \"id\": 4}]                                                                                                                                                                                                                                     58\n",
       "[{\"name\": \"Universal Pictures\", \"id\": 33}]                                                                                                                                                                                                                                    45\n",
       "[{\"name\": \"New Line Cinema\", \"id\": 12}]                                                                                                                                                                                                                                       38\n",
       "[{\"name\": \"Columbia Pictures\", \"id\": 5}]                                                                                                                                                                                                                                      37\n",
       "                                                                                                                                                                                                                                                                            ... \n",
       "[{\"name\": \"Heavy Duty Entertainment\", \"id\": 4097}, {\"name\": \"MVP Films\", \"id\": 37580}, {\"name\": \"Liberty Road Entertainment\", \"id\": 49793}]                                                                                                                                    1\n",
       "[{\"name\": \"Filmhuset Gruppen\", \"id\": 68384}, {\"name\": \"Leiknar Myndir\", \"id\": 68385}]                                                                                                                                                                                          1\n",
       "[{\"name\": \"Jean Doumanian Productions\", \"id\": 16280}, {\"name\": \"Sweetland Films\", \"id\": 21716}, {\"name\": \"Magnolia Films\", \"id\": 65514}, {\"name\": \"Jasmine Productions Inc.\", \"id\": 65515}]                                                                                    1\n",
       "[{\"name\": \"WingNut Films\", \"id\": 11}, {\"name\": \"DreamWorks SKG\", \"id\": 27}, {\"name\": \"Key Creatives\", \"id\": 2300}, {\"name\": \"Film4\", \"id\": 9349}, {\"name\": \"Goldcrest Pictures\", \"id\": 11843}, {\"name\": \"New Zealand Large Budget Screen Production Grant\", \"id\": 12248}]      1\n",
       "[{\"name\": \"Twentieth Century Fox Film Corporation\", \"id\": 306}, {\"name\": \"Blue Wolf\", \"id\": 10230}]                                                                                                                                                                            1\n",
       "Name: production_companies, Length: 3697, dtype: int64"
      ]
     },
     "execution_count": 27,
     "metadata": {},
     "output_type": "execute_result"
    }
   ],
   "source": [
    "df['production_companies'].value_counts()"
   ]
  },
  {
   "cell_type": "code",
   "execution_count": 28,
   "metadata": {},
   "outputs": [
    {
     "data": {
      "text/html": [
       "<div>\n",
       "<style scoped>\n",
       "    .dataframe tbody tr th:only-of-type {\n",
       "        vertical-align: middle;\n",
       "    }\n",
       "\n",
       "    .dataframe tbody tr th {\n",
       "        vertical-align: top;\n",
       "    }\n",
       "\n",
       "    .dataframe thead th {\n",
       "        text-align: right;\n",
       "    }\n",
       "</style>\n",
       "<table border=\"1\" class=\"dataframe\">\n",
       "  <thead>\n",
       "    <tr style=\"text-align: right;\">\n",
       "      <th></th>\n",
       "      <th>0</th>\n",
       "      <th>1</th>\n",
       "    </tr>\n",
       "  </thead>\n",
       "  <tbody>\n",
       "    <tr>\n",
       "      <th>0</th>\n",
       "      <td>[{\"name\"</td>\n",
       "      <td>\"Ingenious Film Partners\", \"id\": 289}, {\"name...</td>\n",
       "    </tr>\n",
       "    <tr>\n",
       "      <th>1</th>\n",
       "      <td>[{\"name\"</td>\n",
       "      <td>\"Walt Disney Pictures\", \"id\": 2}, {\"name\": \"J...</td>\n",
       "    </tr>\n",
       "    <tr>\n",
       "      <th>2</th>\n",
       "      <td>[{\"name\"</td>\n",
       "      <td>\"Columbia Pictures\", \"id\": 5}, {\"name\": \"Danj...</td>\n",
       "    </tr>\n",
       "    <tr>\n",
       "      <th>3</th>\n",
       "      <td>[{\"name\"</td>\n",
       "      <td>\"Legendary Pictures\", \"id\": 923}, {\"name\": \"W...</td>\n",
       "    </tr>\n",
       "    <tr>\n",
       "      <th>4</th>\n",
       "      <td>[{\"name\"</td>\n",
       "      <td>\"Walt Disney Pictures\", \"id\": 2}]</td>\n",
       "    </tr>\n",
       "    <tr>\n",
       "      <th>...</th>\n",
       "      <td>...</td>\n",
       "      <td>...</td>\n",
       "    </tr>\n",
       "    <tr>\n",
       "      <th>4798</th>\n",
       "      <td>[{\"name\"</td>\n",
       "      <td>\"Columbia Pictures\", \"id\": 5}]</td>\n",
       "    </tr>\n",
       "    <tr>\n",
       "      <th>4799</th>\n",
       "      <td>[]</td>\n",
       "      <td>None</td>\n",
       "    </tr>\n",
       "    <tr>\n",
       "      <th>4800</th>\n",
       "      <td>[{\"name\"</td>\n",
       "      <td>\"Front Street Pictures\", \"id\": 3958}, {\"name\"...</td>\n",
       "    </tr>\n",
       "    <tr>\n",
       "      <th>4801</th>\n",
       "      <td>[]</td>\n",
       "      <td>None</td>\n",
       "    </tr>\n",
       "    <tr>\n",
       "      <th>4802</th>\n",
       "      <td>[{\"name\"</td>\n",
       "      <td>\"rusty bear entertainment\", \"id\": 87986}, {\"n...</td>\n",
       "    </tr>\n",
       "  </tbody>\n",
       "</table>\n",
       "<p>4803 rows × 2 columns</p>\n",
       "</div>"
      ],
      "text/plain": [
       "             0                                                  1\n",
       "0     [{\"name\"   \"Ingenious Film Partners\", \"id\": 289}, {\"name...\n",
       "1     [{\"name\"   \"Walt Disney Pictures\", \"id\": 2}, {\"name\": \"J...\n",
       "2     [{\"name\"   \"Columbia Pictures\", \"id\": 5}, {\"name\": \"Danj...\n",
       "3     [{\"name\"   \"Legendary Pictures\", \"id\": 923}, {\"name\": \"W...\n",
       "4     [{\"name\"                  \"Walt Disney Pictures\", \"id\": 2}]\n",
       "...        ...                                                ...\n",
       "4798  [{\"name\"                     \"Columbia Pictures\", \"id\": 5}]\n",
       "4799        []                                               None\n",
       "4800  [{\"name\"   \"Front Street Pictures\", \"id\": 3958}, {\"name\"...\n",
       "4801        []                                               None\n",
       "4802  [{\"name\"   \"rusty bear entertainment\", \"id\": 87986}, {\"n...\n",
       "\n",
       "[4803 rows x 2 columns]"
      ]
     },
     "execution_count": 28,
     "metadata": {},
     "output_type": "execute_result"
    }
   ],
   "source": [
    "data_k = df['production_companies'].str.split(':',1,expand=True)\n",
    "data_k"
   ]
  },
  {
   "cell_type": "code",
   "execution_count": 29,
   "metadata": {},
   "outputs": [
    {
     "data": {
      "text/html": [
       "<div>\n",
       "<style scoped>\n",
       "    .dataframe tbody tr th:only-of-type {\n",
       "        vertical-align: middle;\n",
       "    }\n",
       "\n",
       "    .dataframe tbody tr th {\n",
       "        vertical-align: top;\n",
       "    }\n",
       "\n",
       "    .dataframe thead th {\n",
       "        text-align: right;\n",
       "    }\n",
       "</style>\n",
       "<table border=\"1\" class=\"dataframe\">\n",
       "  <thead>\n",
       "    <tr style=\"text-align: right;\">\n",
       "      <th></th>\n",
       "      <th>0</th>\n",
       "      <th>1</th>\n",
       "    </tr>\n",
       "  </thead>\n",
       "  <tbody>\n",
       "    <tr>\n",
       "      <th>0</th>\n",
       "      <td></td>\n",
       "      <td>Ingenious Film Partners\", \"id\": 289}, {\"name\":...</td>\n",
       "    </tr>\n",
       "    <tr>\n",
       "      <th>1</th>\n",
       "      <td></td>\n",
       "      <td>Walt Disney Pictures\", \"id\": 2}, {\"name\": \"Jer...</td>\n",
       "    </tr>\n",
       "    <tr>\n",
       "      <th>2</th>\n",
       "      <td></td>\n",
       "      <td>Columbia Pictures\", \"id\": 5}, {\"name\": \"Danjaq...</td>\n",
       "    </tr>\n",
       "    <tr>\n",
       "      <th>3</th>\n",
       "      <td></td>\n",
       "      <td>Legendary Pictures\", \"id\": 923}, {\"name\": \"War...</td>\n",
       "    </tr>\n",
       "    <tr>\n",
       "      <th>4</th>\n",
       "      <td></td>\n",
       "      <td>Walt Disney Pictures\", \"id\": 2}]</td>\n",
       "    </tr>\n",
       "    <tr>\n",
       "      <th>...</th>\n",
       "      <td>...</td>\n",
       "      <td>...</td>\n",
       "    </tr>\n",
       "    <tr>\n",
       "      <th>4798</th>\n",
       "      <td></td>\n",
       "      <td>Columbia Pictures\", \"id\": 5}]</td>\n",
       "    </tr>\n",
       "    <tr>\n",
       "      <th>4799</th>\n",
       "      <td>None</td>\n",
       "      <td>None</td>\n",
       "    </tr>\n",
       "    <tr>\n",
       "      <th>4800</th>\n",
       "      <td></td>\n",
       "      <td>Front Street Pictures\", \"id\": 3958}, {\"name\": ...</td>\n",
       "    </tr>\n",
       "    <tr>\n",
       "      <th>4801</th>\n",
       "      <td>None</td>\n",
       "      <td>None</td>\n",
       "    </tr>\n",
       "    <tr>\n",
       "      <th>4802</th>\n",
       "      <td></td>\n",
       "      <td>rusty bear entertainment\", \"id\": 87986}, {\"nam...</td>\n",
       "    </tr>\n",
       "  </tbody>\n",
       "</table>\n",
       "<p>4803 rows × 2 columns</p>\n",
       "</div>"
      ],
      "text/plain": [
       "         0                                                  1\n",
       "0           Ingenious Film Partners\", \"id\": 289}, {\"name\":...\n",
       "1           Walt Disney Pictures\", \"id\": 2}, {\"name\": \"Jer...\n",
       "2           Columbia Pictures\", \"id\": 5}, {\"name\": \"Danjaq...\n",
       "3           Legendary Pictures\", \"id\": 923}, {\"name\": \"War...\n",
       "4                            Walt Disney Pictures\", \"id\": 2}]\n",
       "...    ...                                                ...\n",
       "4798                            Columbia Pictures\", \"id\": 5}]\n",
       "4799  None                                               None\n",
       "4800        Front Street Pictures\", \"id\": 3958}, {\"name\": ...\n",
       "4801  None                                               None\n",
       "4802        rusty bear entertainment\", \"id\": 87986}, {\"nam...\n",
       "\n",
       "[4803 rows x 2 columns]"
      ]
     },
     "execution_count": 29,
     "metadata": {},
     "output_type": "execute_result"
    }
   ],
   "source": [
    "data_l = data_k[1].str.split('\"',1,expand=True)\n",
    "data_l"
   ]
  },
  {
   "cell_type": "code",
   "execution_count": 30,
   "metadata": {},
   "outputs": [
    {
     "data": {
      "text/html": [
       "<div>\n",
       "<style scoped>\n",
       "    .dataframe tbody tr th:only-of-type {\n",
       "        vertical-align: middle;\n",
       "    }\n",
       "\n",
       "    .dataframe tbody tr th {\n",
       "        vertical-align: top;\n",
       "    }\n",
       "\n",
       "    .dataframe thead th {\n",
       "        text-align: right;\n",
       "    }\n",
       "</style>\n",
       "<table border=\"1\" class=\"dataframe\">\n",
       "  <thead>\n",
       "    <tr style=\"text-align: right;\">\n",
       "      <th></th>\n",
       "      <th>0</th>\n",
       "      <th>1</th>\n",
       "    </tr>\n",
       "  </thead>\n",
       "  <tbody>\n",
       "    <tr>\n",
       "      <th>0</th>\n",
       "      <td>Ingenious Film Partners</td>\n",
       "      <td>, \"id\": 289}, {\"name\": \"Twentieth Century Fox ...</td>\n",
       "    </tr>\n",
       "    <tr>\n",
       "      <th>1</th>\n",
       "      <td>Walt Disney Pictures</td>\n",
       "      <td>, \"id\": 2}, {\"name\": \"Jerry Bruckheimer Films\"...</td>\n",
       "    </tr>\n",
       "    <tr>\n",
       "      <th>2</th>\n",
       "      <td>Columbia Pictures</td>\n",
       "      <td>, \"id\": 5}, {\"name\": \"Danjaq\", \"id\": 10761}, {...</td>\n",
       "    </tr>\n",
       "    <tr>\n",
       "      <th>3</th>\n",
       "      <td>Legendary Pictures</td>\n",
       "      <td>, \"id\": 923}, {\"name\": \"Warner Bros.\", \"id\": 6...</td>\n",
       "    </tr>\n",
       "    <tr>\n",
       "      <th>4</th>\n",
       "      <td>Walt Disney Pictures</td>\n",
       "      <td>, \"id\": 2}]</td>\n",
       "    </tr>\n",
       "    <tr>\n",
       "      <th>...</th>\n",
       "      <td>...</td>\n",
       "      <td>...</td>\n",
       "    </tr>\n",
       "    <tr>\n",
       "      <th>4798</th>\n",
       "      <td>Columbia Pictures</td>\n",
       "      <td>, \"id\": 5}]</td>\n",
       "    </tr>\n",
       "    <tr>\n",
       "      <th>4799</th>\n",
       "      <td>None</td>\n",
       "      <td>None</td>\n",
       "    </tr>\n",
       "    <tr>\n",
       "      <th>4800</th>\n",
       "      <td>Front Street Pictures</td>\n",
       "      <td>, \"id\": 3958}, {\"name\": \"Muse Entertainment En...</td>\n",
       "    </tr>\n",
       "    <tr>\n",
       "      <th>4801</th>\n",
       "      <td>None</td>\n",
       "      <td>None</td>\n",
       "    </tr>\n",
       "    <tr>\n",
       "      <th>4802</th>\n",
       "      <td>rusty bear entertainment</td>\n",
       "      <td>, \"id\": 87986}, {\"name\": \"lucky crow films\", \"...</td>\n",
       "    </tr>\n",
       "  </tbody>\n",
       "</table>\n",
       "<p>4803 rows × 2 columns</p>\n",
       "</div>"
      ],
      "text/plain": [
       "                             0  \\\n",
       "0      Ingenious Film Partners   \n",
       "1         Walt Disney Pictures   \n",
       "2            Columbia Pictures   \n",
       "3           Legendary Pictures   \n",
       "4         Walt Disney Pictures   \n",
       "...                        ...   \n",
       "4798         Columbia Pictures   \n",
       "4799                      None   \n",
       "4800     Front Street Pictures   \n",
       "4801                      None   \n",
       "4802  rusty bear entertainment   \n",
       "\n",
       "                                                      1  \n",
       "0     , \"id\": 289}, {\"name\": \"Twentieth Century Fox ...  \n",
       "1     , \"id\": 2}, {\"name\": \"Jerry Bruckheimer Films\"...  \n",
       "2     , \"id\": 5}, {\"name\": \"Danjaq\", \"id\": 10761}, {...  \n",
       "3     , \"id\": 923}, {\"name\": \"Warner Bros.\", \"id\": 6...  \n",
       "4                                           , \"id\": 2}]  \n",
       "...                                                 ...  \n",
       "4798                                        , \"id\": 5}]  \n",
       "4799                                               None  \n",
       "4800  , \"id\": 3958}, {\"name\": \"Muse Entertainment En...  \n",
       "4801                                               None  \n",
       "4802  , \"id\": 87986}, {\"name\": \"lucky crow films\", \"...  \n",
       "\n",
       "[4803 rows x 2 columns]"
      ]
     },
     "execution_count": 30,
     "metadata": {},
     "output_type": "execute_result"
    }
   ],
   "source": [
    "data_m = data_l[1].str.split('\"',1,expand=True)\n",
    "data_m"
   ]
  },
  {
   "cell_type": "code",
   "execution_count": 31,
   "metadata": {
    "scrolled": false
   },
   "outputs": [
    {
     "data": {
      "text/plain": [
       "Paramount Pictures                        281\n",
       "Universal Pictures                        260\n",
       "Columbia Pictures                         200\n",
       "Twentieth Century Fox Film Corporation    177\n",
       "New Line Cinema                           157\n",
       "                                         ... \n",
       "Estudios Churubusco Azteca                  1\n",
       "Nexus Factory                               1\n",
       "Jungle Book Entertainment                   1\n",
       "Smokewood Entertainment Group               1\n",
       "Christiano Film Group                       1\n",
       "Name: 0, Length: 1313, dtype: int64"
      ]
     },
     "execution_count": 31,
     "metadata": {},
     "output_type": "execute_result"
    }
   ],
   "source": [
    "data_m[0].value_counts()"
   ]
  },
  {
   "cell_type": "code",
   "execution_count": 32,
   "metadata": {},
   "outputs": [],
   "source": [
    "df['production_companies'] = data_m[0]"
   ]
  },
  {
   "cell_type": "markdown",
   "metadata": {},
   "source": [
    "## Production Countries Splitting"
   ]
  },
  {
   "cell_type": "code",
   "execution_count": 33,
   "metadata": {},
   "outputs": [
    {
     "data": {
      "text/plain": [
       "0       [{\"iso_3166_1\": \"US\", \"name\": \"United States o...\n",
       "1       [{\"iso_3166_1\": \"US\", \"name\": \"United States o...\n",
       "2       [{\"iso_3166_1\": \"GB\", \"name\": \"United Kingdom\"...\n",
       "3       [{\"iso_3166_1\": \"US\", \"name\": \"United States o...\n",
       "4       [{\"iso_3166_1\": \"US\", \"name\": \"United States o...\n",
       "                              ...                        \n",
       "4798    [{\"iso_3166_1\": \"MX\", \"name\": \"Mexico\"}, {\"iso...\n",
       "4799                                                   []\n",
       "4800    [{\"iso_3166_1\": \"US\", \"name\": \"United States o...\n",
       "4801    [{\"iso_3166_1\": \"US\", \"name\": \"United States o...\n",
       "4802    [{\"iso_3166_1\": \"US\", \"name\": \"United States o...\n",
       "Name: production_countries, Length: 4803, dtype: object"
      ]
     },
     "execution_count": 33,
     "metadata": {},
     "output_type": "execute_result"
    }
   ],
   "source": [
    "df['production_countries']"
   ]
  },
  {
   "cell_type": "code",
   "execution_count": 34,
   "metadata": {},
   "outputs": [
    {
     "data": {
      "text/html": [
       "<div>\n",
       "<style scoped>\n",
       "    .dataframe tbody tr th:only-of-type {\n",
       "        vertical-align: middle;\n",
       "    }\n",
       "\n",
       "    .dataframe tbody tr th {\n",
       "        vertical-align: top;\n",
       "    }\n",
       "\n",
       "    .dataframe thead th {\n",
       "        text-align: right;\n",
       "    }\n",
       "</style>\n",
       "<table border=\"1\" class=\"dataframe\">\n",
       "  <thead>\n",
       "    <tr style=\"text-align: right;\">\n",
       "      <th></th>\n",
       "      <th>0</th>\n",
       "      <th>1</th>\n",
       "      <th>2</th>\n",
       "      <th>3</th>\n",
       "    </tr>\n",
       "  </thead>\n",
       "  <tbody>\n",
       "    <tr>\n",
       "      <th>0</th>\n",
       "      <td>[{</td>\n",
       "      <td>iso_3166_1</td>\n",
       "      <td>:</td>\n",
       "      <td>US\", \"name\": \"United States of America\"}, {\"is...</td>\n",
       "    </tr>\n",
       "    <tr>\n",
       "      <th>1</th>\n",
       "      <td>[{</td>\n",
       "      <td>iso_3166_1</td>\n",
       "      <td>:</td>\n",
       "      <td>US\", \"name\": \"United States of America\"}]</td>\n",
       "    </tr>\n",
       "    <tr>\n",
       "      <th>2</th>\n",
       "      <td>[{</td>\n",
       "      <td>iso_3166_1</td>\n",
       "      <td>:</td>\n",
       "      <td>GB\", \"name\": \"United Kingdom\"}, {\"iso_3166_1\":...</td>\n",
       "    </tr>\n",
       "    <tr>\n",
       "      <th>3</th>\n",
       "      <td>[{</td>\n",
       "      <td>iso_3166_1</td>\n",
       "      <td>:</td>\n",
       "      <td>US\", \"name\": \"United States of America\"}]</td>\n",
       "    </tr>\n",
       "    <tr>\n",
       "      <th>4</th>\n",
       "      <td>[{</td>\n",
       "      <td>iso_3166_1</td>\n",
       "      <td>:</td>\n",
       "      <td>US\", \"name\": \"United States of America\"}]</td>\n",
       "    </tr>\n",
       "    <tr>\n",
       "      <th>...</th>\n",
       "      <td>...</td>\n",
       "      <td>...</td>\n",
       "      <td>...</td>\n",
       "      <td>...</td>\n",
       "    </tr>\n",
       "    <tr>\n",
       "      <th>4798</th>\n",
       "      <td>[{</td>\n",
       "      <td>iso_3166_1</td>\n",
       "      <td>:</td>\n",
       "      <td>MX\", \"name\": \"Mexico\"}, {\"iso_3166_1\": \"US\", \"...</td>\n",
       "    </tr>\n",
       "    <tr>\n",
       "      <th>4799</th>\n",
       "      <td>[]</td>\n",
       "      <td>None</td>\n",
       "      <td>None</td>\n",
       "      <td>None</td>\n",
       "    </tr>\n",
       "    <tr>\n",
       "      <th>4800</th>\n",
       "      <td>[{</td>\n",
       "      <td>iso_3166_1</td>\n",
       "      <td>:</td>\n",
       "      <td>US\", \"name\": \"United States of America\"}]</td>\n",
       "    </tr>\n",
       "    <tr>\n",
       "      <th>4801</th>\n",
       "      <td>[{</td>\n",
       "      <td>iso_3166_1</td>\n",
       "      <td>:</td>\n",
       "      <td>US\", \"name\": \"United States of America\"}, {\"is...</td>\n",
       "    </tr>\n",
       "    <tr>\n",
       "      <th>4802</th>\n",
       "      <td>[{</td>\n",
       "      <td>iso_3166_1</td>\n",
       "      <td>:</td>\n",
       "      <td>US\", \"name\": \"United States of America\"}]</td>\n",
       "    </tr>\n",
       "  </tbody>\n",
       "</table>\n",
       "<p>4803 rows × 4 columns</p>\n",
       "</div>"
      ],
      "text/plain": [
       "       0           1     2                                                  3\n",
       "0     [{  iso_3166_1    :   US\", \"name\": \"United States of America\"}, {\"is...\n",
       "1     [{  iso_3166_1    :           US\", \"name\": \"United States of America\"}]\n",
       "2     [{  iso_3166_1    :   GB\", \"name\": \"United Kingdom\"}, {\"iso_3166_1\":...\n",
       "3     [{  iso_3166_1    :           US\", \"name\": \"United States of America\"}]\n",
       "4     [{  iso_3166_1    :           US\", \"name\": \"United States of America\"}]\n",
       "...   ..         ...   ...                                                ...\n",
       "4798  [{  iso_3166_1    :   MX\", \"name\": \"Mexico\"}, {\"iso_3166_1\": \"US\", \"...\n",
       "4799  []        None  None                                               None\n",
       "4800  [{  iso_3166_1    :           US\", \"name\": \"United States of America\"}]\n",
       "4801  [{  iso_3166_1    :   US\", \"name\": \"United States of America\"}, {\"is...\n",
       "4802  [{  iso_3166_1    :           US\", \"name\": \"United States of America\"}]\n",
       "\n",
       "[4803 rows x 4 columns]"
      ]
     },
     "execution_count": 34,
     "metadata": {},
     "output_type": "execute_result"
    }
   ],
   "source": [
    "data_n = df['production_countries'].str.split('\"',3,expand=True)\n",
    "data_n"
   ]
  },
  {
   "cell_type": "code",
   "execution_count": 35,
   "metadata": {},
   "outputs": [
    {
     "data": {
      "text/html": [
       "<div>\n",
       "<style scoped>\n",
       "    .dataframe tbody tr th:only-of-type {\n",
       "        vertical-align: middle;\n",
       "    }\n",
       "\n",
       "    .dataframe tbody tr th {\n",
       "        vertical-align: top;\n",
       "    }\n",
       "\n",
       "    .dataframe thead th {\n",
       "        text-align: right;\n",
       "    }\n",
       "</style>\n",
       "<table border=\"1\" class=\"dataframe\">\n",
       "  <thead>\n",
       "    <tr style=\"text-align: right;\">\n",
       "      <th></th>\n",
       "      <th>0</th>\n",
       "      <th>1</th>\n",
       "    </tr>\n",
       "  </thead>\n",
       "  <tbody>\n",
       "    <tr>\n",
       "      <th>0</th>\n",
       "      <td>US</td>\n",
       "      <td>, \"name\": \"United States of America\"}, {\"iso_3...</td>\n",
       "    </tr>\n",
       "    <tr>\n",
       "      <th>1</th>\n",
       "      <td>US</td>\n",
       "      <td>, \"name\": \"United States of America\"}]</td>\n",
       "    </tr>\n",
       "    <tr>\n",
       "      <th>2</th>\n",
       "      <td>GB</td>\n",
       "      <td>, \"name\": \"United Kingdom\"}, {\"iso_3166_1\": \"U...</td>\n",
       "    </tr>\n",
       "    <tr>\n",
       "      <th>3</th>\n",
       "      <td>US</td>\n",
       "      <td>, \"name\": \"United States of America\"}]</td>\n",
       "    </tr>\n",
       "    <tr>\n",
       "      <th>4</th>\n",
       "      <td>US</td>\n",
       "      <td>, \"name\": \"United States of America\"}]</td>\n",
       "    </tr>\n",
       "    <tr>\n",
       "      <th>...</th>\n",
       "      <td>...</td>\n",
       "      <td>...</td>\n",
       "    </tr>\n",
       "    <tr>\n",
       "      <th>4798</th>\n",
       "      <td>MX</td>\n",
       "      <td>, \"name\": \"Mexico\"}, {\"iso_3166_1\": \"US\", \"nam...</td>\n",
       "    </tr>\n",
       "    <tr>\n",
       "      <th>4799</th>\n",
       "      <td>None</td>\n",
       "      <td>None</td>\n",
       "    </tr>\n",
       "    <tr>\n",
       "      <th>4800</th>\n",
       "      <td>US</td>\n",
       "      <td>, \"name\": \"United States of America\"}]</td>\n",
       "    </tr>\n",
       "    <tr>\n",
       "      <th>4801</th>\n",
       "      <td>US</td>\n",
       "      <td>, \"name\": \"United States of America\"}, {\"iso_3...</td>\n",
       "    </tr>\n",
       "    <tr>\n",
       "      <th>4802</th>\n",
       "      <td>US</td>\n",
       "      <td>, \"name\": \"United States of America\"}]</td>\n",
       "    </tr>\n",
       "  </tbody>\n",
       "</table>\n",
       "<p>4803 rows × 2 columns</p>\n",
       "</div>"
      ],
      "text/plain": [
       "         0                                                  1\n",
       "0       US  , \"name\": \"United States of America\"}, {\"iso_3...\n",
       "1       US             , \"name\": \"United States of America\"}]\n",
       "2       GB  , \"name\": \"United Kingdom\"}, {\"iso_3166_1\": \"U...\n",
       "3       US             , \"name\": \"United States of America\"}]\n",
       "4       US             , \"name\": \"United States of America\"}]\n",
       "...    ...                                                ...\n",
       "4798    MX  , \"name\": \"Mexico\"}, {\"iso_3166_1\": \"US\", \"nam...\n",
       "4799  None                                               None\n",
       "4800    US             , \"name\": \"United States of America\"}]\n",
       "4801    US  , \"name\": \"United States of America\"}, {\"iso_3...\n",
       "4802    US             , \"name\": \"United States of America\"}]\n",
       "\n",
       "[4803 rows x 2 columns]"
      ]
     },
     "execution_count": 35,
     "metadata": {},
     "output_type": "execute_result"
    }
   ],
   "source": [
    "data_o = data_n[3].str.split('\"',1,expand=True)\n",
    "data_o"
   ]
  },
  {
   "cell_type": "code",
   "execution_count": 36,
   "metadata": {},
   "outputs": [],
   "source": [
    "df['production_countries'] = data_o[0]"
   ]
  },
  {
   "cell_type": "markdown",
   "metadata": {},
   "source": [
    "## Spoken Languages Splitting"
   ]
  },
  {
   "cell_type": "code",
   "execution_count": 37,
   "metadata": {},
   "outputs": [
    {
     "data": {
      "text/plain": [
       "0       [{\"iso_639_1\": \"en\", \"name\": \"English\"}, {\"iso...\n",
       "1                [{\"iso_639_1\": \"en\", \"name\": \"English\"}]\n",
       "2       [{\"iso_639_1\": \"fr\", \"name\": \"Fran\\u00e7ais\"},...\n",
       "3                [{\"iso_639_1\": \"en\", \"name\": \"English\"}]\n",
       "4                [{\"iso_639_1\": \"en\", \"name\": \"English\"}]\n",
       "                              ...                        \n",
       "4798        [{\"iso_639_1\": \"es\", \"name\": \"Espa\\u00f1ol\"}]\n",
       "4799                                                   []\n",
       "4800             [{\"iso_639_1\": \"en\", \"name\": \"English\"}]\n",
       "4801             [{\"iso_639_1\": \"en\", \"name\": \"English\"}]\n",
       "4802             [{\"iso_639_1\": \"en\", \"name\": \"English\"}]\n",
       "Name: spoken_languages, Length: 4803, dtype: object"
      ]
     },
     "execution_count": 37,
     "metadata": {},
     "output_type": "execute_result"
    }
   ],
   "source": [
    "df['spoken_languages']"
   ]
  },
  {
   "cell_type": "code",
   "execution_count": 38,
   "metadata": {},
   "outputs": [
    {
     "data": {
      "text/html": [
       "<div>\n",
       "<style scoped>\n",
       "    .dataframe tbody tr th:only-of-type {\n",
       "        vertical-align: middle;\n",
       "    }\n",
       "\n",
       "    .dataframe tbody tr th {\n",
       "        vertical-align: top;\n",
       "    }\n",
       "\n",
       "    .dataframe thead th {\n",
       "        text-align: right;\n",
       "    }\n",
       "</style>\n",
       "<table border=\"1\" class=\"dataframe\">\n",
       "  <thead>\n",
       "    <tr style=\"text-align: right;\">\n",
       "      <th></th>\n",
       "      <th>0</th>\n",
       "      <th>1</th>\n",
       "      <th>2</th>\n",
       "      <th>3</th>\n",
       "    </tr>\n",
       "  </thead>\n",
       "  <tbody>\n",
       "    <tr>\n",
       "      <th>0</th>\n",
       "      <td>[{</td>\n",
       "      <td>iso_639_1</td>\n",
       "      <td>:</td>\n",
       "      <td>en\", \"name\": \"English\"}, {\"iso_639_1\": \"es\", \"...</td>\n",
       "    </tr>\n",
       "    <tr>\n",
       "      <th>1</th>\n",
       "      <td>[{</td>\n",
       "      <td>iso_639_1</td>\n",
       "      <td>:</td>\n",
       "      <td>en\", \"name\": \"English\"}]</td>\n",
       "    </tr>\n",
       "    <tr>\n",
       "      <th>2</th>\n",
       "      <td>[{</td>\n",
       "      <td>iso_639_1</td>\n",
       "      <td>:</td>\n",
       "      <td>fr\", \"name\": \"Fran\\u00e7ais\"}, {\"iso_639_1\": \"...</td>\n",
       "    </tr>\n",
       "    <tr>\n",
       "      <th>3</th>\n",
       "      <td>[{</td>\n",
       "      <td>iso_639_1</td>\n",
       "      <td>:</td>\n",
       "      <td>en\", \"name\": \"English\"}]</td>\n",
       "    </tr>\n",
       "    <tr>\n",
       "      <th>4</th>\n",
       "      <td>[{</td>\n",
       "      <td>iso_639_1</td>\n",
       "      <td>:</td>\n",
       "      <td>en\", \"name\": \"English\"}]</td>\n",
       "    </tr>\n",
       "    <tr>\n",
       "      <th>...</th>\n",
       "      <td>...</td>\n",
       "      <td>...</td>\n",
       "      <td>...</td>\n",
       "      <td>...</td>\n",
       "    </tr>\n",
       "    <tr>\n",
       "      <th>4798</th>\n",
       "      <td>[{</td>\n",
       "      <td>iso_639_1</td>\n",
       "      <td>:</td>\n",
       "      <td>es\", \"name\": \"Espa\\u00f1ol\"}]</td>\n",
       "    </tr>\n",
       "    <tr>\n",
       "      <th>4799</th>\n",
       "      <td>[]</td>\n",
       "      <td>None</td>\n",
       "      <td>None</td>\n",
       "      <td>None</td>\n",
       "    </tr>\n",
       "    <tr>\n",
       "      <th>4800</th>\n",
       "      <td>[{</td>\n",
       "      <td>iso_639_1</td>\n",
       "      <td>:</td>\n",
       "      <td>en\", \"name\": \"English\"}]</td>\n",
       "    </tr>\n",
       "    <tr>\n",
       "      <th>4801</th>\n",
       "      <td>[{</td>\n",
       "      <td>iso_639_1</td>\n",
       "      <td>:</td>\n",
       "      <td>en\", \"name\": \"English\"}]</td>\n",
       "    </tr>\n",
       "    <tr>\n",
       "      <th>4802</th>\n",
       "      <td>[{</td>\n",
       "      <td>iso_639_1</td>\n",
       "      <td>:</td>\n",
       "      <td>en\", \"name\": \"English\"}]</td>\n",
       "    </tr>\n",
       "  </tbody>\n",
       "</table>\n",
       "<p>4803 rows × 4 columns</p>\n",
       "</div>"
      ],
      "text/plain": [
       "       0          1     2                                                  3\n",
       "0     [{  iso_639_1    :   en\", \"name\": \"English\"}, {\"iso_639_1\": \"es\", \"...\n",
       "1     [{  iso_639_1    :                            en\", \"name\": \"English\"}]\n",
       "2     [{  iso_639_1    :   fr\", \"name\": \"Fran\\u00e7ais\"}, {\"iso_639_1\": \"...\n",
       "3     [{  iso_639_1    :                            en\", \"name\": \"English\"}]\n",
       "4     [{  iso_639_1    :                            en\", \"name\": \"English\"}]\n",
       "...   ..        ...   ...                                                ...\n",
       "4798  [{  iso_639_1    :                       es\", \"name\": \"Espa\\u00f1ol\"}]\n",
       "4799  []       None  None                                               None\n",
       "4800  [{  iso_639_1    :                            en\", \"name\": \"English\"}]\n",
       "4801  [{  iso_639_1    :                            en\", \"name\": \"English\"}]\n",
       "4802  [{  iso_639_1    :                            en\", \"name\": \"English\"}]\n",
       "\n",
       "[4803 rows x 4 columns]"
      ]
     },
     "execution_count": 38,
     "metadata": {},
     "output_type": "execute_result"
    }
   ],
   "source": [
    "data_p = df['spoken_languages'].str.split('\"',3,expand=True)\n",
    "data_p"
   ]
  },
  {
   "cell_type": "code",
   "execution_count": 39,
   "metadata": {},
   "outputs": [
    {
     "data": {
      "text/html": [
       "<div>\n",
       "<style scoped>\n",
       "    .dataframe tbody tr th:only-of-type {\n",
       "        vertical-align: middle;\n",
       "    }\n",
       "\n",
       "    .dataframe tbody tr th {\n",
       "        vertical-align: top;\n",
       "    }\n",
       "\n",
       "    .dataframe thead th {\n",
       "        text-align: right;\n",
       "    }\n",
       "</style>\n",
       "<table border=\"1\" class=\"dataframe\">\n",
       "  <thead>\n",
       "    <tr style=\"text-align: right;\">\n",
       "      <th></th>\n",
       "      <th>0</th>\n",
       "      <th>1</th>\n",
       "    </tr>\n",
       "  </thead>\n",
       "  <tbody>\n",
       "    <tr>\n",
       "      <th>0</th>\n",
       "      <td>en</td>\n",
       "      <td>, \"name\": \"English\"}, {\"iso_639_1\": \"es\", \"nam...</td>\n",
       "    </tr>\n",
       "    <tr>\n",
       "      <th>1</th>\n",
       "      <td>en</td>\n",
       "      <td>, \"name\": \"English\"}]</td>\n",
       "    </tr>\n",
       "    <tr>\n",
       "      <th>2</th>\n",
       "      <td>fr</td>\n",
       "      <td>, \"name\": \"Fran\\u00e7ais\"}, {\"iso_639_1\": \"en\"...</td>\n",
       "    </tr>\n",
       "    <tr>\n",
       "      <th>3</th>\n",
       "      <td>en</td>\n",
       "      <td>, \"name\": \"English\"}]</td>\n",
       "    </tr>\n",
       "    <tr>\n",
       "      <th>4</th>\n",
       "      <td>en</td>\n",
       "      <td>, \"name\": \"English\"}]</td>\n",
       "    </tr>\n",
       "    <tr>\n",
       "      <th>...</th>\n",
       "      <td>...</td>\n",
       "      <td>...</td>\n",
       "    </tr>\n",
       "    <tr>\n",
       "      <th>4798</th>\n",
       "      <td>es</td>\n",
       "      <td>, \"name\": \"Espa\\u00f1ol\"}]</td>\n",
       "    </tr>\n",
       "    <tr>\n",
       "      <th>4799</th>\n",
       "      <td>None</td>\n",
       "      <td>None</td>\n",
       "    </tr>\n",
       "    <tr>\n",
       "      <th>4800</th>\n",
       "      <td>en</td>\n",
       "      <td>, \"name\": \"English\"}]</td>\n",
       "    </tr>\n",
       "    <tr>\n",
       "      <th>4801</th>\n",
       "      <td>en</td>\n",
       "      <td>, \"name\": \"English\"}]</td>\n",
       "    </tr>\n",
       "    <tr>\n",
       "      <th>4802</th>\n",
       "      <td>en</td>\n",
       "      <td>, \"name\": \"English\"}]</td>\n",
       "    </tr>\n",
       "  </tbody>\n",
       "</table>\n",
       "<p>4803 rows × 2 columns</p>\n",
       "</div>"
      ],
      "text/plain": [
       "         0                                                  1\n",
       "0       en  , \"name\": \"English\"}, {\"iso_639_1\": \"es\", \"nam...\n",
       "1       en                              , \"name\": \"English\"}]\n",
       "2       fr  , \"name\": \"Fran\\u00e7ais\"}, {\"iso_639_1\": \"en\"...\n",
       "3       en                              , \"name\": \"English\"}]\n",
       "4       en                              , \"name\": \"English\"}]\n",
       "...    ...                                                ...\n",
       "4798    es                         , \"name\": \"Espa\\u00f1ol\"}]\n",
       "4799  None                                               None\n",
       "4800    en                              , \"name\": \"English\"}]\n",
       "4801    en                              , \"name\": \"English\"}]\n",
       "4802    en                              , \"name\": \"English\"}]\n",
       "\n",
       "[4803 rows x 2 columns]"
      ]
     },
     "execution_count": 39,
     "metadata": {},
     "output_type": "execute_result"
    }
   ],
   "source": [
    "data_q = data_p[3].str.split('\"',1,expand=True)\n",
    "data_q"
   ]
  },
  {
   "cell_type": "code",
   "execution_count": 40,
   "metadata": {},
   "outputs": [],
   "source": [
    "df['spoken_languages'] = data_q[0]"
   ]
  },
  {
   "cell_type": "code",
   "execution_count": 41,
   "metadata": {},
   "outputs": [
    {
     "data": {
      "text/html": [
       "<div>\n",
       "<style scoped>\n",
       "    .dataframe tbody tr th:only-of-type {\n",
       "        vertical-align: middle;\n",
       "    }\n",
       "\n",
       "    .dataframe tbody tr th {\n",
       "        vertical-align: top;\n",
       "    }\n",
       "\n",
       "    .dataframe thead th {\n",
       "        text-align: right;\n",
       "    }\n",
       "</style>\n",
       "<table border=\"1\" class=\"dataframe\">\n",
       "  <thead>\n",
       "    <tr style=\"text-align: right;\">\n",
       "      <th></th>\n",
       "      <th>budget</th>\n",
       "      <th>genres</th>\n",
       "      <th>id</th>\n",
       "      <th>keywords</th>\n",
       "      <th>original_language</th>\n",
       "      <th>original_title</th>\n",
       "      <th>popularity</th>\n",
       "      <th>production_companies</th>\n",
       "      <th>production_countries</th>\n",
       "      <th>release_date</th>\n",
       "      <th>revenue</th>\n",
       "      <th>runtime</th>\n",
       "      <th>spoken_languages</th>\n",
       "      <th>status</th>\n",
       "      <th>title</th>\n",
       "      <th>vote_average</th>\n",
       "      <th>vote_count</th>\n",
       "    </tr>\n",
       "  </thead>\n",
       "  <tbody>\n",
       "    <tr>\n",
       "      <th>0</th>\n",
       "      <td>237000000</td>\n",
       "      <td>Action</td>\n",
       "      <td>19995</td>\n",
       "      <td>culture clash</td>\n",
       "      <td>en</td>\n",
       "      <td>Avatar</td>\n",
       "      <td>150</td>\n",
       "      <td>Ingenious Film Partners</td>\n",
       "      <td>US</td>\n",
       "      <td>2009</td>\n",
       "      <td>2787965087</td>\n",
       "      <td>162.0</td>\n",
       "      <td>en</td>\n",
       "      <td>Released</td>\n",
       "      <td>Avatar</td>\n",
       "      <td>7.2</td>\n",
       "      <td>11800</td>\n",
       "    </tr>\n",
       "    <tr>\n",
       "      <th>1</th>\n",
       "      <td>300000000</td>\n",
       "      <td>Adventure</td>\n",
       "      <td>285</td>\n",
       "      <td>ocean</td>\n",
       "      <td>en</td>\n",
       "      <td>Pirates of the Caribbean: At World's End</td>\n",
       "      <td>139</td>\n",
       "      <td>Walt Disney Pictures</td>\n",
       "      <td>US</td>\n",
       "      <td>2007</td>\n",
       "      <td>961000000</td>\n",
       "      <td>169.0</td>\n",
       "      <td>en</td>\n",
       "      <td>Released</td>\n",
       "      <td>Pirates of the Caribbean: At World's End</td>\n",
       "      <td>6.9</td>\n",
       "      <td>4500</td>\n",
       "    </tr>\n",
       "    <tr>\n",
       "      <th>2</th>\n",
       "      <td>245000000</td>\n",
       "      <td>Action</td>\n",
       "      <td>206647</td>\n",
       "      <td>spy</td>\n",
       "      <td>en</td>\n",
       "      <td>Spectre</td>\n",
       "      <td>107</td>\n",
       "      <td>Columbia Pictures</td>\n",
       "      <td>GB</td>\n",
       "      <td>2015</td>\n",
       "      <td>880674609</td>\n",
       "      <td>148.0</td>\n",
       "      <td>fr</td>\n",
       "      <td>Released</td>\n",
       "      <td>Spectre</td>\n",
       "      <td>6.3</td>\n",
       "      <td>4466</td>\n",
       "    </tr>\n",
       "    <tr>\n",
       "      <th>3</th>\n",
       "      <td>250000000</td>\n",
       "      <td>Action</td>\n",
       "      <td>49026</td>\n",
       "      <td>dc comics</td>\n",
       "      <td>en</td>\n",
       "      <td>The Dark Knight Rises</td>\n",
       "      <td>112</td>\n",
       "      <td>Legendary Pictures</td>\n",
       "      <td>US</td>\n",
       "      <td>2012</td>\n",
       "      <td>1084939099</td>\n",
       "      <td>165.0</td>\n",
       "      <td>en</td>\n",
       "      <td>Released</td>\n",
       "      <td>The Dark Knight Rises</td>\n",
       "      <td>7.6</td>\n",
       "      <td>9106</td>\n",
       "    </tr>\n",
       "    <tr>\n",
       "      <th>4</th>\n",
       "      <td>260000000</td>\n",
       "      <td>Action</td>\n",
       "      <td>49529</td>\n",
       "      <td>based on novel</td>\n",
       "      <td>en</td>\n",
       "      <td>John Carter</td>\n",
       "      <td>43</td>\n",
       "      <td>Walt Disney Pictures</td>\n",
       "      <td>US</td>\n",
       "      <td>2012</td>\n",
       "      <td>284139100</td>\n",
       "      <td>132.0</td>\n",
       "      <td>en</td>\n",
       "      <td>Released</td>\n",
       "      <td>John Carter</td>\n",
       "      <td>6.1</td>\n",
       "      <td>2124</td>\n",
       "    </tr>\n",
       "  </tbody>\n",
       "</table>\n",
       "</div>"
      ],
      "text/plain": [
       "      budget     genres      id        keywords original_language  \\\n",
       "0  237000000     Action   19995   culture clash                en   \n",
       "1  300000000  Adventure     285           ocean                en   \n",
       "2  245000000     Action  206647             spy                en   \n",
       "3  250000000     Action   49026       dc comics                en   \n",
       "4  260000000     Action   49529  based on novel                en   \n",
       "\n",
       "                             original_title  popularity  \\\n",
       "0                                    Avatar         150   \n",
       "1  Pirates of the Caribbean: At World's End         139   \n",
       "2                                   Spectre         107   \n",
       "3                     The Dark Knight Rises         112   \n",
       "4                               John Carter          43   \n",
       "\n",
       "      production_companies production_countries release_date     revenue  \\\n",
       "0  Ingenious Film Partners                   US         2009  2787965087   \n",
       "1     Walt Disney Pictures                   US         2007   961000000   \n",
       "2        Columbia Pictures                   GB         2015   880674609   \n",
       "3       Legendary Pictures                   US         2012  1084939099   \n",
       "4     Walt Disney Pictures                   US         2012   284139100   \n",
       "\n",
       "   runtime spoken_languages    status  \\\n",
       "0    162.0               en  Released   \n",
       "1    169.0               en  Released   \n",
       "2    148.0               fr  Released   \n",
       "3    165.0               en  Released   \n",
       "4    132.0               en  Released   \n",
       "\n",
       "                                      title  vote_average  vote_count  \n",
       "0                                    Avatar           7.2       11800  \n",
       "1  Pirates of the Caribbean: At World's End           6.9        4500  \n",
       "2                                   Spectre           6.3        4466  \n",
       "3                     The Dark Knight Rises           7.6        9106  \n",
       "4                               John Carter           6.1        2124  "
      ]
     },
     "execution_count": 41,
     "metadata": {},
     "output_type": "execute_result"
    }
   ],
   "source": [
    "df.head()"
   ]
  },
  {
   "cell_type": "code",
   "execution_count": 42,
   "metadata": {},
   "outputs": [
    {
     "data": {
      "text/plain": [
       "Released           4795\n",
       "Rumored               5\n",
       "Post Production       3\n",
       "Name: status, dtype: int64"
      ]
     },
     "execution_count": 42,
     "metadata": {},
     "output_type": "execute_result"
    }
   ],
   "source": [
    "df['status'].value_counts()"
   ]
  },
  {
   "cell_type": "code",
   "execution_count": 43,
   "metadata": {},
   "outputs": [
    {
     "data": {
      "text/plain": [
       "budget                    0\n",
       "genres                   28\n",
       "id                        0\n",
       "keywords                412\n",
       "original_language         0\n",
       "original_title            0\n",
       "popularity                0\n",
       "production_companies    351\n",
       "production_countries    174\n",
       "release_date              1\n",
       "revenue                   0\n",
       "runtime                   2\n",
       "spoken_languages         86\n",
       "status                    0\n",
       "title                     0\n",
       "vote_average              0\n",
       "vote_count                0\n",
       "dtype: int64"
      ]
     },
     "execution_count": 43,
     "metadata": {},
     "output_type": "execute_result"
    }
   ],
   "source": [
    "df.isnull().sum()"
   ]
  },
  {
   "cell_type": "code",
   "execution_count": 44,
   "metadata": {},
   "outputs": [],
   "source": [
    "df.dropna(inplace=True)\n",
    "df['runtime'] = df['runtime'].astype('int64')\n",
    "df['release_date'] = df['release_date'].astype('int64')"
   ]
  },
  {
   "cell_type": "code",
   "execution_count": 45,
   "metadata": {},
   "outputs": [
    {
     "data": {
      "text/plain": [
       "(4162, 17)"
      ]
     },
     "execution_count": 45,
     "metadata": {},
     "output_type": "execute_result"
    }
   ],
   "source": [
    "df.shape"
   ]
  },
  {
   "cell_type": "code",
   "execution_count": 46,
   "metadata": {},
   "outputs": [
    {
     "data": {
      "text/plain": [
       "0.13345825525713095"
      ]
     },
     "execution_count": 46,
     "metadata": {},
     "output_type": "execute_result"
    }
   ],
   "source": [
    "1-4162/4803"
   ]
  },
  {
   "cell_type": "markdown",
   "metadata": {},
   "source": [
    "### 13.3% data is missed,we can neglect that one"
   ]
  },
  {
   "cell_type": "code",
   "execution_count": 47,
   "metadata": {},
   "outputs": [
    {
     "data": {
      "text/html": [
       "<div>\n",
       "<style scoped>\n",
       "    .dataframe tbody tr th:only-of-type {\n",
       "        vertical-align: middle;\n",
       "    }\n",
       "\n",
       "    .dataframe tbody tr th {\n",
       "        vertical-align: top;\n",
       "    }\n",
       "\n",
       "    .dataframe thead th {\n",
       "        text-align: right;\n",
       "    }\n",
       "</style>\n",
       "<table border=\"1\" class=\"dataframe\">\n",
       "  <thead>\n",
       "    <tr style=\"text-align: right;\">\n",
       "      <th></th>\n",
       "      <th>budget</th>\n",
       "      <th>genres</th>\n",
       "      <th>id</th>\n",
       "      <th>keywords</th>\n",
       "      <th>original_language</th>\n",
       "      <th>original_title</th>\n",
       "      <th>popularity</th>\n",
       "      <th>production_companies</th>\n",
       "      <th>production_countries</th>\n",
       "      <th>release_date</th>\n",
       "      <th>revenue</th>\n",
       "      <th>runtime</th>\n",
       "      <th>spoken_languages</th>\n",
       "      <th>status</th>\n",
       "      <th>title</th>\n",
       "      <th>vote_average</th>\n",
       "      <th>vote_count</th>\n",
       "    </tr>\n",
       "  </thead>\n",
       "  <tbody>\n",
       "    <tr>\n",
       "      <th>0</th>\n",
       "      <td>237000000</td>\n",
       "      <td>Action</td>\n",
       "      <td>19995</td>\n",
       "      <td>culture clash</td>\n",
       "      <td>en</td>\n",
       "      <td>Avatar</td>\n",
       "      <td>150</td>\n",
       "      <td>Ingenious Film Partners</td>\n",
       "      <td>US</td>\n",
       "      <td>2009</td>\n",
       "      <td>2787965087</td>\n",
       "      <td>162</td>\n",
       "      <td>en</td>\n",
       "      <td>Released</td>\n",
       "      <td>Avatar</td>\n",
       "      <td>7.2</td>\n",
       "      <td>11800</td>\n",
       "    </tr>\n",
       "    <tr>\n",
       "      <th>1</th>\n",
       "      <td>300000000</td>\n",
       "      <td>Adventure</td>\n",
       "      <td>285</td>\n",
       "      <td>ocean</td>\n",
       "      <td>en</td>\n",
       "      <td>Pirates of the Caribbean: At World's End</td>\n",
       "      <td>139</td>\n",
       "      <td>Walt Disney Pictures</td>\n",
       "      <td>US</td>\n",
       "      <td>2007</td>\n",
       "      <td>961000000</td>\n",
       "      <td>169</td>\n",
       "      <td>en</td>\n",
       "      <td>Released</td>\n",
       "      <td>Pirates of the Caribbean: At World's End</td>\n",
       "      <td>6.9</td>\n",
       "      <td>4500</td>\n",
       "    </tr>\n",
       "    <tr>\n",
       "      <th>2</th>\n",
       "      <td>245000000</td>\n",
       "      <td>Action</td>\n",
       "      <td>206647</td>\n",
       "      <td>spy</td>\n",
       "      <td>en</td>\n",
       "      <td>Spectre</td>\n",
       "      <td>107</td>\n",
       "      <td>Columbia Pictures</td>\n",
       "      <td>GB</td>\n",
       "      <td>2015</td>\n",
       "      <td>880674609</td>\n",
       "      <td>148</td>\n",
       "      <td>fr</td>\n",
       "      <td>Released</td>\n",
       "      <td>Spectre</td>\n",
       "      <td>6.3</td>\n",
       "      <td>4466</td>\n",
       "    </tr>\n",
       "    <tr>\n",
       "      <th>3</th>\n",
       "      <td>250000000</td>\n",
       "      <td>Action</td>\n",
       "      <td>49026</td>\n",
       "      <td>dc comics</td>\n",
       "      <td>en</td>\n",
       "      <td>The Dark Knight Rises</td>\n",
       "      <td>112</td>\n",
       "      <td>Legendary Pictures</td>\n",
       "      <td>US</td>\n",
       "      <td>2012</td>\n",
       "      <td>1084939099</td>\n",
       "      <td>165</td>\n",
       "      <td>en</td>\n",
       "      <td>Released</td>\n",
       "      <td>The Dark Knight Rises</td>\n",
       "      <td>7.6</td>\n",
       "      <td>9106</td>\n",
       "    </tr>\n",
       "    <tr>\n",
       "      <th>4</th>\n",
       "      <td>260000000</td>\n",
       "      <td>Action</td>\n",
       "      <td>49529</td>\n",
       "      <td>based on novel</td>\n",
       "      <td>en</td>\n",
       "      <td>John Carter</td>\n",
       "      <td>43</td>\n",
       "      <td>Walt Disney Pictures</td>\n",
       "      <td>US</td>\n",
       "      <td>2012</td>\n",
       "      <td>284139100</td>\n",
       "      <td>132</td>\n",
       "      <td>en</td>\n",
       "      <td>Released</td>\n",
       "      <td>John Carter</td>\n",
       "      <td>6.1</td>\n",
       "      <td>2124</td>\n",
       "    </tr>\n",
       "  </tbody>\n",
       "</table>\n",
       "</div>"
      ],
      "text/plain": [
       "      budget     genres      id        keywords original_language  \\\n",
       "0  237000000     Action   19995   culture clash                en   \n",
       "1  300000000  Adventure     285           ocean                en   \n",
       "2  245000000     Action  206647             spy                en   \n",
       "3  250000000     Action   49026       dc comics                en   \n",
       "4  260000000     Action   49529  based on novel                en   \n",
       "\n",
       "                             original_title  popularity  \\\n",
       "0                                    Avatar         150   \n",
       "1  Pirates of the Caribbean: At World's End         139   \n",
       "2                                   Spectre         107   \n",
       "3                     The Dark Knight Rises         112   \n",
       "4                               John Carter          43   \n",
       "\n",
       "      production_companies production_countries  release_date     revenue  \\\n",
       "0  Ingenious Film Partners                   US          2009  2787965087   \n",
       "1     Walt Disney Pictures                   US          2007   961000000   \n",
       "2        Columbia Pictures                   GB          2015   880674609   \n",
       "3       Legendary Pictures                   US          2012  1084939099   \n",
       "4     Walt Disney Pictures                   US          2012   284139100   \n",
       "\n",
       "   runtime spoken_languages    status  \\\n",
       "0      162               en  Released   \n",
       "1      169               en  Released   \n",
       "2      148               fr  Released   \n",
       "3      165               en  Released   \n",
       "4      132               en  Released   \n",
       "\n",
       "                                      title  vote_average  vote_count  \n",
       "0                                    Avatar           7.2       11800  \n",
       "1  Pirates of the Caribbean: At World's End           6.9        4500  \n",
       "2                                   Spectre           6.3        4466  \n",
       "3                     The Dark Knight Rises           7.6        9106  \n",
       "4                               John Carter           6.1        2124  "
      ]
     },
     "execution_count": 47,
     "metadata": {},
     "output_type": "execute_result"
    }
   ],
   "source": [
    "df.head()"
   ]
  },
  {
   "cell_type": "markdown",
   "metadata": {},
   "source": [
    "# Now our Data is Cleaned"
   ]
  },
  {
   "cell_type": "code",
   "execution_count": 48,
   "metadata": {},
   "outputs": [
    {
     "name": "stdout",
     "output_type": "stream",
     "text": [
      "---- budget ---\n",
      "0           640\n",
      "20000000    135\n",
      "30000000    126\n",
      "25000000    120\n",
      "40000000    115\n",
      "           ... \n",
      "25530000      1\n",
      "15000         1\n",
      "10200000      1\n",
      "1488423       1\n",
      "40600000      1\n",
      "Name: budget, Length: 411, dtype: int64\n",
      "---- genres ---\n",
      "Drama              1019\n",
      "Comedy              883\n",
      "Action              685\n",
      "Adventure           324\n",
      "Horror              265\n",
      "Crime               180\n",
      "Thriller            165\n",
      "Animation           111\n",
      "Fantasy             111\n",
      "Romance              95\n",
      "Science Fiction      90\n",
      "Documentary          49\n",
      "Family               45\n",
      "Mystery              38\n",
      "Music                30\n",
      "History              24\n",
      "Western              23\n",
      "War                  22\n",
      "TV Movie              2\n",
      "Foreign               1\n",
      "Name: genres, dtype: int64\n",
      "---- id ---\n",
      "2043      1\n",
      "76726     1\n",
      "332411    1\n",
      "25209     1\n",
      "37495     1\n",
      "         ..\n",
      "11551     1\n",
      "9502      1\n",
      "7453      1\n",
      "13596     1\n",
      "65203     1\n",
      "Name: id, Length: 4162, dtype: int64\n",
      "---- keywords ---\n",
      "based on novel      93\n",
      "new york            72\n",
      "london england      61\n",
      "prison              57\n",
      "independent film    52\n",
      "                    ..\n",
      "john f. kennedy      1\n",
      "speed date           1\n",
      "serial killer        1\n",
      "grizzly bear         1\n",
      "naturalist           1\n",
      "Name: keywords, Length: 1303, dtype: int64\n",
      "---- original_language ---\n",
      "en    3927\n",
      "fr      56\n",
      "es      27\n",
      "zh      20\n",
      "de      20\n",
      "ja      13\n",
      "hi      11\n",
      "ko      11\n",
      "it      10\n",
      "cn       9\n",
      "ru       9\n",
      "da       7\n",
      "pt       7\n",
      "sv       5\n",
      "th       3\n",
      "nl       3\n",
      "fa       3\n",
      "ta       2\n",
      "id       2\n",
      "ar       2\n",
      "he       2\n",
      "te       1\n",
      "is       1\n",
      "ky       1\n",
      "el       1\n",
      "nb       1\n",
      "tr       1\n",
      "af       1\n",
      "sl       1\n",
      "xx       1\n",
      "pl       1\n",
      "ps       1\n",
      "no       1\n",
      "ro       1\n",
      "Name: original_language, dtype: int64\n",
      "---- original_title ---\n",
      "Batman                      2\n",
      "Taxman                      1\n",
      "The Boondock Saints         1\n",
      "Abandon                     1\n",
      "Cargo                       1\n",
      "                           ..\n",
      "Shanghai Noon               1\n",
      "The Hundred-Foot Journey    1\n",
      "Des hommes et des dieux     1\n",
      "Meteor                      1\n",
      "Open Range                  1\n",
      "Name: original_title, Length: 4161, dtype: int64\n",
      "---- popularity ---\n",
      "3      170\n",
      "6      152\n",
      "5      148\n",
      "0      147\n",
      "1      146\n",
      "      ... \n",
      "724      1\n",
      "192      1\n",
      "144      1\n",
      "140      1\n",
      "875      1\n",
      "Name: popularity, Length: 153, dtype: int64\n",
      "---- production_companies ---\n",
      "Paramount Pictures                        274\n",
      "Universal Pictures                        252\n",
      "Columbia Pictures                         197\n",
      "Twentieth Century Fox Film Corporation    168\n",
      "New Line Cinema                           152\n",
      "                                         ... \n",
      "Marmot-film                                 1\n",
      "Celador Films                               1\n",
      "Infinitum Nihil                             1\n",
      "PSO International                           1\n",
      "Christiano Film Group                       1\n",
      "Name: production_companies, Length: 1177, dtype: int64\n",
      "---- production_countries ---\n",
      "US    2796\n",
      "GB     342\n",
      "CA     196\n",
      "DE     187\n",
      "FR     155\n",
      "      ... \n",
      "MT       1\n",
      "LY       1\n",
      "PH       1\n",
      "GP       1\n",
      "PE       1\n",
      "Name: production_countries, Length: 63, dtype: int64\n",
      "---- release_date ---\n",
      "2009    209\n",
      "2006    202\n",
      "2008    201\n",
      "2011    198\n",
      "2013    193\n",
      "       ... \n",
      "1950      1\n",
      "1934      1\n",
      "1930      1\n",
      "1941      1\n",
      "1916      1\n",
      "Name: release_date, Length: 88, dtype: int64\n",
      "---- revenue ---\n",
      "0            932\n",
      "7000000        6\n",
      "8000000        6\n",
      "100000000      5\n",
      "12000000       5\n",
      "            ... \n",
      "15200000       1\n",
      "109906372      1\n",
      "83719388       1\n",
      "136621271      1\n",
      "25966555       1\n",
      "Name: revenue, Length: 3157, dtype: int64\n",
      "---- runtime ---\n",
      "100    130\n",
      "98     123\n",
      "97     116\n",
      "90     107\n",
      "95     106\n",
      "      ... \n",
      "173      1\n",
      "41       1\n",
      "25       1\n",
      "248      1\n",
      "0        1\n",
      "Name: runtime, Length: 150, dtype: int64\n",
      "---- spoken_languages ---\n",
      "en    3628\n",
      "fr      96\n",
      "es      74\n",
      "de      53\n",
      "ar      31\n",
      "ru      29\n",
      "zh      29\n",
      "cs      29\n",
      "it      23\n",
      "cn      23\n",
      "ja      20\n",
      "pt      13\n",
      "hi      12\n",
      "da      10\n",
      "la       8\n",
      "ko       7\n",
      "he       6\n",
      "el       5\n",
      "af       5\n",
      "nl       5\n",
      "sv       5\n",
      "th       4\n",
      "hu       3\n",
      "ro       3\n",
      "hy       3\n",
      "no       3\n",
      "xx       2\n",
      "uk       2\n",
      "ta       2\n",
      "sw       2\n",
      "vi       2\n",
      "fa       2\n",
      "co       1\n",
      "bo       1\n",
      "bn       1\n",
      "bg       1\n",
      "is       1\n",
      "dz       1\n",
      "gd       1\n",
      "km       1\n",
      "ky       1\n",
      "id       1\n",
      "ml       1\n",
      "et       1\n",
      "eo       1\n",
      "bs       1\n",
      "kw       1\n",
      "yi       1\n",
      "gl       1\n",
      "sh       1\n",
      "pl       1\n",
      "sq       1\n",
      "ga       1\n",
      "sr       1\n",
      "hr       1\n",
      "Name: spoken_languages, dtype: int64\n",
      "---- status ---\n",
      "Released    4160\n",
      "Rumored        2\n",
      "Name: status, dtype: int64\n",
      "---- title ---\n",
      "Batman               2\n",
      "The Host             2\n",
      "Wah-Wah              1\n",
      "The Great Raid       1\n",
      "Lolita               1\n",
      "                    ..\n",
      "Wrong Turn           1\n",
      "Malone               1\n",
      "Juno                 1\n",
      "Detroit Rock City    1\n",
      "Open Range           1\n",
      "Name: title, Length: 4160, dtype: int64\n",
      "---- vote_average ---\n",
      "6.5    199\n",
      "6.7    197\n",
      "6.0    191\n",
      "6.6    188\n",
      "6.2    186\n",
      "      ... \n",
      "1.0      1\n",
      "8.5      1\n",
      "2.7      1\n",
      "1.9      1\n",
      "9.3      1\n",
      "Name: vote_average, Length: 66, dtype: int64\n",
      "---- vote_count ---\n",
      "34      21\n",
      "6       19\n",
      "8       19\n",
      "9       18\n",
      "10      18\n",
      "        ..\n",
      "5765     1\n",
      "4116     1\n",
      "1671     1\n",
      "2035     1\n",
      "2039     1\n",
      "Name: vote_count, Length: 1605, dtype: int64\n"
     ]
    }
   ],
   "source": [
    "for i in df.columns:\n",
    "    print( \"---- %s ---\" % i)\n",
    "    print(df[i].value_counts())"
   ]
  },
  {
   "cell_type": "markdown",
   "metadata": {},
   "source": [
    "# Univarient Analysis"
   ]
  },
  {
   "cell_type": "code",
   "execution_count": 49,
   "metadata": {},
   "outputs": [
    {
     "data": {
      "text/plain": [
       "Index(['budget', 'genres', 'id', 'keywords', 'original_language',\n",
       "       'original_title', 'popularity', 'production_companies',\n",
       "       'production_countries', 'release_date', 'revenue', 'runtime',\n",
       "       'spoken_languages', 'status', 'title', 'vote_average', 'vote_count'],\n",
       "      dtype='object')"
      ]
     },
     "execution_count": 49,
     "metadata": {},
     "output_type": "execute_result"
    }
   ],
   "source": [
    "df.columns"
   ]
  },
  {
   "cell_type": "code",
   "execution_count": 50,
   "metadata": {},
   "outputs": [
    {
     "data": {
      "text/plain": [
       "(array([2.92e+03, 7.53e+02, 2.45e+02, 1.41e+02, 5.10e+01, 3.40e+01,\n",
       "        1.40e+01, 3.00e+00, 0.00e+00, 1.00e+00]),\n",
       " array([0.00e+00, 3.80e+07, 7.60e+07, 1.14e+08, 1.52e+08, 1.90e+08,\n",
       "        2.28e+08, 2.66e+08, 3.04e+08, 3.42e+08, 3.80e+08]),\n",
       " <a list of 10 Patch objects>)"
      ]
     },
     "execution_count": 50,
     "metadata": {},
     "output_type": "execute_result"
    },
    {
     "data": {
      "image/png": "[encoded data removed]",
      "text/plain": [
       "<Figure size 432x288 with 1 Axes>"
      ]
     },
     "metadata": {
      "needs_background": "light"
     },
     "output_type": "display_data"
    }
   ],
   "source": [
    "plt.hist(df['budget'],histtype='barstacked')"
   ]
  },
  {
   "cell_type": "code",
   "execution_count": 51,
   "metadata": {
    "scrolled": true
   },
   "outputs": [
    {
     "data": {
      "text/plain": [
       "<matplotlib.axes._subplots.AxesSubplot at 0x44bd474550>"
      ]
     },
     "execution_count": 51,
     "metadata": {},
     "output_type": "execute_result"
    },
    {
     "data": {
      "image/png": "[encoded data removed]",
      "text/plain": [
       "<Figure size 432x288 with 1 Axes>"
      ]
     },
     "metadata": {
      "needs_background": "light"
     },
     "output_type": "display_data"
    }
   ],
   "source": [
    "df['genres'].value_counts().plot.bar()"
   ]
  },
  {
   "cell_type": "code",
   "execution_count": 52,
   "metadata": {},
   "outputs": [
    {
     "data": {
      "text/plain": [
       "<matplotlib.axes._subplots.AxesSubplot at 0x44bd95c198>"
      ]
     },
     "execution_count": 52,
     "metadata": {},
     "output_type": "execute_result"
    },
    {
     "data": {
      "image/png": "[encoded data removed]",
      "text/plain": [
       "<Figure size 432x288 with 1 Axes>"
      ]
     },
     "metadata": {
      "needs_background": "light"
     },
     "output_type": "display_data"
    }
   ],
   "source": [
    "df['original_language'].value_counts().plot.bar()"
   ]
  },
  {
   "cell_type": "code",
   "execution_count": 53,
   "metadata": {},
   "outputs": [],
   "source": [
    "#df['production_companies'].value_counts().plot.bar()"
   ]
  },
  {
   "cell_type": "code",
   "execution_count": 54,
   "metadata": {},
   "outputs": [
    {
     "data": {
      "text/plain": [
       "<matplotlib.axes._subplots.AxesSubplot at 0x44bda04c18>"
      ]
     },
     "execution_count": 54,
     "metadata": {},
     "output_type": "execute_result"
    },
    {
     "data": {
      "image/png": "[encoded data removed]",
      "text/plain": [
       "<Figure size 432x288 with 1 Axes>"
      ]
     },
     "metadata": {
      "needs_background": "light"
     },
     "output_type": "display_data"
    }
   ],
   "source": [
    "df['production_countries'].value_counts().plot.bar()"
   ]
  },
  {
   "cell_type": "code",
   "execution_count": 55,
   "metadata": {},
   "outputs": [
    {
     "data": {
      "text/plain": [
       "<matplotlib.axes._subplots.AxesSubplot at 0x44bda647b8>"
      ]
     },
     "execution_count": 55,
     "metadata": {},
     "output_type": "execute_result"
    },
    {
     "data": {
      "image/png": "[encoded data removed]",
      "text/plain": [
       "<Figure size 1440x720 with 1 Axes>"
      ]
     },
     "metadata": {
      "needs_background": "light"
     },
     "output_type": "display_data"
    }
   ],
   "source": [
    "plt.figure(figsize=(20,10))\n",
    "df['release_date'].value_counts().plot.bar()"
   ]
  },
  {
   "cell_type": "code",
   "execution_count": 56,
   "metadata": {},
   "outputs": [
    {
     "data": {
      "text/plain": [
       "<matplotlib.axes._subplots.AxesSubplot at 0x44be216cf8>"
      ]
     },
     "execution_count": 56,
     "metadata": {},
     "output_type": "execute_result"
    },
    {
     "data": {
      "image/png": "[encoded data removed]",
      "text/plain": [
       "<Figure size 1080x720 with 1 Axes>"
      ]
     },
     "metadata": {
      "needs_background": "light"
     },
     "output_type": "display_data"
    }
   ],
   "source": [
    "plt.figure(figsize=(15,10))\n",
    "df['spoken_languages'].value_counts().plot.bar()"
   ]
  },
  {
   "cell_type": "code",
   "execution_count": 57,
   "metadata": {},
   "outputs": [
    {
     "data": {
      "text/plain": [
       "Released    4160\n",
       "Rumored        2\n",
       "Name: status, dtype: int64"
      ]
     },
     "execution_count": 57,
     "metadata": {},
     "output_type": "execute_result"
    }
   ],
   "source": [
    "df['status'].value_counts()"
   ]
  },
  {
   "cell_type": "code",
   "execution_count": 58,
   "metadata": {},
   "outputs": [
    {
     "data": {
      "text/plain": [
       "<matplotlib.axes._subplots.AxesSubplot at 0x44bdf024a8>"
      ]
     },
     "execution_count": 58,
     "metadata": {},
     "output_type": "execute_result"
    },
    {
     "data": {
      "image/png": "[encoded data removed]",
      "text/plain": [
       "<Figure size 432x288 with 1 Axes>"
      ]
     },
     "metadata": {
      "needs_background": "light"
     },
     "output_type": "display_data"
    }
   ],
   "source": [
    "df['status'].value_counts().plot.bar()"
   ]
  },
  {
   "cell_type": "markdown",
   "metadata": {},
   "source": [
    "## Bivarient Analysis"
   ]
  },
  {
   "cell_type": "code",
   "execution_count": 59,
   "metadata": {},
   "outputs": [
    {
     "data": {
      "text/plain": [
       "genres\n",
       "Action             35309902395\n",
       "Adventure          21877831736\n",
       "Animation           8148032353\n",
       "Comedy             18618699640\n",
       "Crime               4171235753\n",
       "Documentary          163595145\n",
       "Drama              21143931141\n",
       "Family              2323877800\n",
       "Fantasy             6017038831\n",
       "Foreign                 225000\n",
       "History              608085000\n",
       "Horror              3436694269\n",
       "Music                512461360\n",
       "Mystery              901830000\n",
       "Romance             2143880100\n",
       "Science Fiction     4699882003\n",
       "TV Movie               1000000\n",
       "Thriller            4656170035\n",
       "War                  877250000\n",
       "Western              613923783\n",
       "Name: budget, dtype: int64"
      ]
     },
     "execution_count": 59,
     "metadata": {},
     "output_type": "execute_result"
    }
   ],
   "source": [
    "df['budget'].groupby(df['genres']).agg('sum')"
   ]
  },
  {
   "cell_type": "code",
   "execution_count": 60,
   "metadata": {},
   "outputs": [
    {
     "data": {
      "text/plain": [
       "<matplotlib.axes._subplots.AxesSubplot at 0x44be13a9e8>"
      ]
     },
     "execution_count": 60,
     "metadata": {},
     "output_type": "execute_result"
    },
    {
     "data": {
      "image/png": "[encoded data removed]",
      "text/plain": [
       "<Figure size 432x288 with 1 Axes>"
      ]
     },
     "metadata": {
      "needs_background": "light"
     },
     "output_type": "display_data"
    }
   ],
   "source": [
    "df['budget'].groupby(df['genres']).agg('sum').plot.bar()"
   ]
  },
  {
   "cell_type": "code",
   "execution_count": 61,
   "metadata": {},
   "outputs": [
    {
     "data": {
      "text/plain": [
       "<matplotlib.axes._subplots.AxesSubplot at 0x44be527b38>"
      ]
     },
     "execution_count": 61,
     "metadata": {},
     "output_type": "execute_result"
    },
    {
     "data": {
      "image/png": "[encoded data removed]",
      "text/plain": [
       "<Figure size 432x288 with 1 Axes>"
      ]
     },
     "metadata": {
      "needs_background": "light"
     },
     "output_type": "display_data"
    }
   ],
   "source": [
    "df['budget'].groupby(df['original_language']).agg('sum').plot.bar()"
   ]
  },
  {
   "cell_type": "code",
   "execution_count": 62,
   "metadata": {},
   "outputs": [
    {
     "data": {
      "text/plain": [
       "<matplotlib.legend.Legend at 0x44be61c908>"
      ]
     },
     "execution_count": 62,
     "metadata": {},
     "output_type": "execute_result"
    },
    {
     "data": {
      "image/png": "[encoded data removed]",
      "text/plain": [
       "<Figure size 432x288 with 1 Axes>"
      ]
     },
     "metadata": {
      "needs_background": "light"
     },
     "output_type": "display_data"
    }
   ],
   "source": [
    "sns.scatterplot(df['budget'],df['popularity'],hue=df['genres'])\n",
    "plt.legend('A simple line')"
   ]
  },
  {
   "cell_type": "code",
   "execution_count": 63,
   "metadata": {},
   "outputs": [],
   "source": [
    "#plt.figure(figsize=(15,10))\n",
    "#df['budget'].groupby(df['production_companies']).agg('sum').plot.bar()"
   ]
  },
  {
   "cell_type": "code",
   "execution_count": 64,
   "metadata": {},
   "outputs": [
    {
     "data": {
      "text/plain": [
       "<matplotlib.axes._subplots.AxesSubplot at 0x44bf712c50>"
      ]
     },
     "execution_count": 64,
     "metadata": {},
     "output_type": "execute_result"
    },
    {
     "data": {
      "image/png": "[encoded data removed]",
      "text/plain": [
       "<Figure size 1080x720 with 1 Axes>"
      ]
     },
     "metadata": {
      "needs_background": "light"
     },
     "output_type": "display_data"
    }
   ],
   "source": [
    "plt.figure(figsize=(15,10))\n",
    "df['budget'].groupby(df['production_countries']).agg('sum').plot.bar()"
   ]
  },
  {
   "cell_type": "code",
   "execution_count": 65,
   "metadata": {},
   "outputs": [
    {
     "data": {
      "text/plain": [
       "<matplotlib.axes._subplots.AxesSubplot at 0x44bff73ac8>"
      ]
     },
     "execution_count": 65,
     "metadata": {},
     "output_type": "execute_result"
    },
    {
     "data": {
      "image/png": "[encoded data removed]",
      "text/plain": [
       "<Figure size 1080x720 with 1 Axes>"
      ]
     },
     "metadata": {
      "needs_background": "light"
     },
     "output_type": "display_data"
    }
   ],
   "source": [
    "plt.figure(figsize=(15,10))\n",
    "df['budget'].groupby(df['release_date']).agg('sum').plot.bar()"
   ]
  },
  {
   "cell_type": "code",
   "execution_count": 66,
   "metadata": {},
   "outputs": [
    {
     "data": {
      "text/plain": [
       "<seaborn.axisgrid.JointGrid at 0x44bf87d908>"
      ]
     },
     "execution_count": 66,
     "metadata": {},
     "output_type": "execute_result"
    },
    {
     "data": {
      "image/png": "[encoded data removed]",
      "text/plain": [
       "<Figure size 432x432 with 3 Axes>"
      ]
     },
     "metadata": {
      "needs_background": "light"
     },
     "output_type": "display_data"
    }
   ],
   "source": [
    "sns.jointplot(df['budget'],df['revenue'])"
   ]
  },
  {
   "cell_type": "code",
   "execution_count": 67,
   "metadata": {},
   "outputs": [
    {
     "data": {
      "text/plain": [
       "<seaborn.axisgrid.JointGrid at 0x44c028c6a0>"
      ]
     },
     "execution_count": 67,
     "metadata": {},
     "output_type": "execute_result"
    },
    {
     "data": {
      "image/png": "[encoded data removed]",
      "text/plain": [
       "<Figure size 432x432 with 3 Axes>"
      ]
     },
     "metadata": {
      "needs_background": "light"
     },
     "output_type": "display_data"
    }
   ],
   "source": [
    "sns.jointplot(df['budget'],df['runtime'])"
   ]
  },
  {
   "cell_type": "code",
   "execution_count": 68,
   "metadata": {},
   "outputs": [
    {
     "data": {
      "text/plain": [
       "<matplotlib.axes._subplots.AxesSubplot at 0x44bd63b278>"
      ]
     },
     "execution_count": 68,
     "metadata": {},
     "output_type": "execute_result"
    },
    {
     "data": {
      "image/png": "[encoded data removed]",
      "text/plain": [
       "<Figure size 432x288 with 1 Axes>"
      ]
     },
     "metadata": {
      "needs_background": "light"
     },
     "output_type": "display_data"
    }
   ],
   "source": [
    "df['budget'].groupby(df['spoken_languages']).agg('sum').plot.bar()"
   ]
  },
  {
   "cell_type": "code",
   "execution_count": 69,
   "metadata": {},
   "outputs": [
    {
     "data": {
      "text/plain": [
       "<seaborn.axisgrid.JointGrid at 0x44c07cf128>"
      ]
     },
     "execution_count": 69,
     "metadata": {},
     "output_type": "execute_result"
    },
    {
     "data": {
      "image/png": "[encoded data removed]",
      "text/plain": [
       "<Figure size 432x432 with 3 Axes>"
      ]
     },
     "metadata": {
      "needs_background": "light"
     },
     "output_type": "display_data"
    }
   ],
   "source": [
    "sns.jointplot(df['budget'],df['vote_average'])"
   ]
  },
  {
   "cell_type": "code",
   "execution_count": 70,
   "metadata": {},
   "outputs": [
    {
     "data": {
      "text/plain": [
       "<seaborn.axisgrid.JointGrid at 0x44c0a35470>"
      ]
     },
     "execution_count": 70,
     "metadata": {},
     "output_type": "execute_result"
    },
    {
     "data": {
      "image/png": "[encoded data removed]",
      "text/plain": [
       "<Figure size 432x432 with 3 Axes>"
      ]
     },
     "metadata": {
      "needs_background": "light"
     },
     "output_type": "display_data"
    }
   ],
   "source": [
    "sns.jointplot(df['budget'],df['vote_count'])"
   ]
  },
  {
   "cell_type": "code",
   "execution_count": 71,
   "metadata": {},
   "outputs": [
    {
     "data": {
      "text/plain": [
       "Index(['budget', 'genres', 'id', 'keywords', 'original_language',\n",
       "       'original_title', 'popularity', 'production_companies',\n",
       "       'production_countries', 'release_date', 'revenue', 'runtime',\n",
       "       'spoken_languages', 'status', 'title', 'vote_average', 'vote_count'],\n",
       "      dtype='object')"
      ]
     },
     "execution_count": 71,
     "metadata": {},
     "output_type": "execute_result"
    }
   ],
   "source": [
    "df.columns"
   ]
  },
  {
   "cell_type": "code",
   "execution_count": 72,
   "metadata": {},
   "outputs": [
    {
     "data": {
      "text/plain": [
       "<matplotlib.legend.Legend at 0x44c0ab7860>"
      ]
     },
     "execution_count": 72,
     "metadata": {},
     "output_type": "execute_result"
    },
    {
     "data": {
      "text/plain": [
       "<Figure size 1080x720 with 0 Axes>"
      ]
     },
     "metadata": {},
     "output_type": "display_data"
    },
    {
     "data": {
      "image/png": "[encoded data removed]",
      "text/plain": [
       "<Figure size 432x288 with 1 Axes>"
      ]
     },
     "metadata": {
      "needs_background": "light"
     },
     "output_type": "display_data"
    }
   ],
   "source": [
    "plt.figure(figsize=(15,10))\n",
    "pd.crosstab(df['genres'],df['original_language']).plot.bar()\n",
    "plt.legend('A simple line')"
   ]
  },
  {
   "cell_type": "code",
   "execution_count": 73,
   "metadata": {},
   "outputs": [
    {
     "data": {
      "text/plain": [
       "<matplotlib.legend.Legend at 0x44c23b0fd0>"
      ]
     },
     "execution_count": 73,
     "metadata": {},
     "output_type": "execute_result"
    },
    {
     "data": {
      "text/plain": [
       "<Figure size 1080x720 with 0 Axes>"
      ]
     },
     "metadata": {},
     "output_type": "display_data"
    },
    {
     "data": {
      "image/png": "[encoded data removed]",
      "text/plain": [
       "<Figure size 432x288 with 1 Axes>"
      ]
     },
     "metadata": {
      "needs_background": "light"
     },
     "output_type": "display_data"
    }
   ],
   "source": [
    "plt.figure(figsize=(15,10))\n",
    "pd.crosstab(df['genres'],df['original_language']).plot.bar()\n",
    "plt.legend('A simple line')"
   ]
  },
  {
   "cell_type": "code",
   "execution_count": 74,
   "metadata": {},
   "outputs": [
    {
     "data": {
      "text/plain": [
       "<matplotlib.axes._subplots.AxesSubplot at 0x44c2ace780>"
      ]
     },
     "execution_count": 74,
     "metadata": {},
     "output_type": "execute_result"
    },
    {
     "data": {
      "image/png": "[encoded data removed]",
      "text/plain": [
       "<Figure size 432x288 with 1 Axes>"
      ]
     },
     "metadata": {
      "needs_background": "light"
     },
     "output_type": "display_data"
    }
   ],
   "source": [
    "df['popularity'].groupby(df['genres']).agg('sum').plot.bar()"
   ]
  },
  {
   "cell_type": "code",
   "execution_count": 75,
   "metadata": {},
   "outputs": [
    {
     "data": {
      "text/plain": [
       "<matplotlib.legend.Legend at 0x44c2c7ff60>"
      ]
     },
     "execution_count": 75,
     "metadata": {},
     "output_type": "execute_result"
    },
    {
     "data": {
      "image/png": "[encoded data removed]",
      "text/plain": [
       "<Figure size 432x288 with 1 Axes>"
      ]
     },
     "metadata": {
      "needs_background": "light"
     },
     "output_type": "display_data"
    }
   ],
   "source": [
    "pd.crosstab(df['genres'],df['production_countries']).plot.bar()\n",
    "plt.legend('A simple line')"
   ]
  },
  {
   "cell_type": "code",
   "execution_count": 76,
   "metadata": {},
   "outputs": [
    {
     "data": {
      "text/plain": [
       "<matplotlib.legend.Legend at 0x44c3a2f390>"
      ]
     },
     "execution_count": 76,
     "metadata": {},
     "output_type": "execute_result"
    },
    {
     "data": {
      "image/png": "[encoded data removed]",
      "text/plain": [
       "<Figure size 432x288 with 1 Axes>"
      ]
     },
     "metadata": {
      "needs_background": "light"
     },
     "output_type": "display_data"
    }
   ],
   "source": [
    "pd.crosstab(df['genres'],df['release_date']).plot.bar(stacked=True)\n",
    "plt.legend('A simple line')"
   ]
  },
  {
   "cell_type": "code",
   "execution_count": 77,
   "metadata": {},
   "outputs": [
    {
     "data": {
      "text/plain": [
       "<matplotlib.axes._subplots.AxesSubplot at 0x44c443a898>"
      ]
     },
     "execution_count": 77,
     "metadata": {},
     "output_type": "execute_result"
    },
    {
     "data": {
      "image/png": "[encoded data removed]",
      "text/plain": [
       "<Figure size 432x288 with 1 Axes>"
      ]
     },
     "metadata": {
      "needs_background": "light"
     },
     "output_type": "display_data"
    }
   ],
   "source": [
    "df['revenue'].groupby(df['genres']).agg('sum').plot.bar()"
   ]
  },
  {
   "cell_type": "code",
   "execution_count": 78,
   "metadata": {},
   "outputs": [
    {
     "data": {
      "text/plain": [
       "<matplotlib.axes._subplots.AxesSubplot at 0x44c4d269e8>"
      ]
     },
     "execution_count": 78,
     "metadata": {},
     "output_type": "execute_result"
    },
    {
     "data": {
      "image/png": "[encoded data removed]",
      "text/plain": [
       "<Figure size 432x288 with 1 Axes>"
      ]
     },
     "metadata": {
      "needs_background": "light"
     },
     "output_type": "display_data"
    }
   ],
   "source": [
    "df['runtime'].groupby(df['genres']).agg('sum').plot.bar()"
   ]
  },
  {
   "cell_type": "code",
   "execution_count": 79,
   "metadata": {},
   "outputs": [
    {
     "data": {
      "text/plain": [
       "<matplotlib.legend.Legend at 0x44c3b1f390>"
      ]
     },
     "execution_count": 79,
     "metadata": {},
     "output_type": "execute_result"
    },
    {
     "data": {
      "image/png": "[encoded data removed]",
      "text/plain": [
       "<Figure size 432x288 with 1 Axes>"
      ]
     },
     "metadata": {
      "needs_background": "light"
     },
     "output_type": "display_data"
    }
   ],
   "source": [
    "pd.crosstab(df['genres'],df['spoken_languages']).plot.bar(stacked=True)\n",
    "plt.legend('A simple line')"
   ]
  },
  {
   "cell_type": "code",
   "execution_count": 80,
   "metadata": {},
   "outputs": [
    {
     "data": {
      "text/plain": [
       "<matplotlib.axes._subplots.AxesSubplot at 0x44c67f25c0>"
      ]
     },
     "execution_count": 80,
     "metadata": {},
     "output_type": "execute_result"
    },
    {
     "data": {
      "image/png": "[encoded data removed]",
      "text/plain": [
       "<Figure size 432x288 with 1 Axes>"
      ]
     },
     "metadata": {
      "needs_background": "light"
     },
     "output_type": "display_data"
    }
   ],
   "source": [
    "df['vote_average'].groupby(df['genres']).agg('sum').plot.bar()"
   ]
  },
  {
   "cell_type": "code",
   "execution_count": 81,
   "metadata": {},
   "outputs": [
    {
     "data": {
      "text/plain": [
       "<matplotlib.axes._subplots.AxesSubplot at 0x44c69cea20>"
      ]
     },
     "execution_count": 81,
     "metadata": {},
     "output_type": "execute_result"
    },
    {
     "data": {
      "image/png": "[encoded data removed]",
      "text/plain": [
       "<Figure size 432x288 with 1 Axes>"
      ]
     },
     "metadata": {
      "needs_background": "light"
     },
     "output_type": "display_data"
    }
   ],
   "source": [
    "df['vote_count'].groupby(df['genres']).agg('sum').plot.bar()"
   ]
  },
  {
   "cell_type": "code",
   "execution_count": 82,
   "metadata": {},
   "outputs": [],
   "source": [
    "df.to_csv('movies_cleaned.csv',index=False)  #Saving cleaned file to csv format for visualisation in Tableau."
   ]
  },
  {
   "cell_type": "code",
   "execution_count": 83,
   "metadata": {},
   "outputs": [
    {
     "data": {
      "text/html": [
       "<div>\n",
       "<style scoped>\n",
       "    .dataframe tbody tr th:only-of-type {\n",
       "        vertical-align: middle;\n",
       "    }\n",
       "\n",
       "    .dataframe tbody tr th {\n",
       "        vertical-align: top;\n",
       "    }\n",
       "\n",
       "    .dataframe thead th {\n",
       "        text-align: right;\n",
       "    }\n",
       "</style>\n",
       "<table border=\"1\" class=\"dataframe\">\n",
       "  <thead>\n",
       "    <tr style=\"text-align: right;\">\n",
       "      <th></th>\n",
       "      <th>budget</th>\n",
       "      <th>genres</th>\n",
       "      <th>id</th>\n",
       "      <th>keywords</th>\n",
       "      <th>original_language</th>\n",
       "      <th>original_title</th>\n",
       "      <th>popularity</th>\n",
       "      <th>production_companies</th>\n",
       "      <th>production_countries</th>\n",
       "      <th>release_date</th>\n",
       "      <th>revenue</th>\n",
       "      <th>runtime</th>\n",
       "      <th>spoken_languages</th>\n",
       "      <th>status</th>\n",
       "      <th>title</th>\n",
       "      <th>vote_average</th>\n",
       "      <th>vote_count</th>\n",
       "    </tr>\n",
       "  </thead>\n",
       "  <tbody>\n",
       "    <tr>\n",
       "      <th>0</th>\n",
       "      <td>237000000</td>\n",
       "      <td>Action</td>\n",
       "      <td>19995</td>\n",
       "      <td>culture clash</td>\n",
       "      <td>en</td>\n",
       "      <td>Avatar</td>\n",
       "      <td>150</td>\n",
       "      <td>Ingenious Film Partners</td>\n",
       "      <td>US</td>\n",
       "      <td>2009</td>\n",
       "      <td>2787965087</td>\n",
       "      <td>162</td>\n",
       "      <td>en</td>\n",
       "      <td>Released</td>\n",
       "      <td>Avatar</td>\n",
       "      <td>7.2</td>\n",
       "      <td>11800</td>\n",
       "    </tr>\n",
       "    <tr>\n",
       "      <th>1</th>\n",
       "      <td>300000000</td>\n",
       "      <td>Adventure</td>\n",
       "      <td>285</td>\n",
       "      <td>ocean</td>\n",
       "      <td>en</td>\n",
       "      <td>Pirates of the Caribbean: At World's End</td>\n",
       "      <td>139</td>\n",
       "      <td>Walt Disney Pictures</td>\n",
       "      <td>US</td>\n",
       "      <td>2007</td>\n",
       "      <td>961000000</td>\n",
       "      <td>169</td>\n",
       "      <td>en</td>\n",
       "      <td>Released</td>\n",
       "      <td>Pirates of the Caribbean: At World's End</td>\n",
       "      <td>6.9</td>\n",
       "      <td>4500</td>\n",
       "    </tr>\n",
       "    <tr>\n",
       "      <th>2</th>\n",
       "      <td>245000000</td>\n",
       "      <td>Action</td>\n",
       "      <td>206647</td>\n",
       "      <td>spy</td>\n",
       "      <td>en</td>\n",
       "      <td>Spectre</td>\n",
       "      <td>107</td>\n",
       "      <td>Columbia Pictures</td>\n",
       "      <td>GB</td>\n",
       "      <td>2015</td>\n",
       "      <td>880674609</td>\n",
       "      <td>148</td>\n",
       "      <td>fr</td>\n",
       "      <td>Released</td>\n",
       "      <td>Spectre</td>\n",
       "      <td>6.3</td>\n",
       "      <td>4466</td>\n",
       "    </tr>\n",
       "    <tr>\n",
       "      <th>3</th>\n",
       "      <td>250000000</td>\n",
       "      <td>Action</td>\n",
       "      <td>49026</td>\n",
       "      <td>dc comics</td>\n",
       "      <td>en</td>\n",
       "      <td>The Dark Knight Rises</td>\n",
       "      <td>112</td>\n",
       "      <td>Legendary Pictures</td>\n",
       "      <td>US</td>\n",
       "      <td>2012</td>\n",
       "      <td>1084939099</td>\n",
       "      <td>165</td>\n",
       "      <td>en</td>\n",
       "      <td>Released</td>\n",
       "      <td>The Dark Knight Rises</td>\n",
       "      <td>7.6</td>\n",
       "      <td>9106</td>\n",
       "    </tr>\n",
       "    <tr>\n",
       "      <th>4</th>\n",
       "      <td>260000000</td>\n",
       "      <td>Action</td>\n",
       "      <td>49529</td>\n",
       "      <td>based on novel</td>\n",
       "      <td>en</td>\n",
       "      <td>John Carter</td>\n",
       "      <td>43</td>\n",
       "      <td>Walt Disney Pictures</td>\n",
       "      <td>US</td>\n",
       "      <td>2012</td>\n",
       "      <td>284139100</td>\n",
       "      <td>132</td>\n",
       "      <td>en</td>\n",
       "      <td>Released</td>\n",
       "      <td>John Carter</td>\n",
       "      <td>6.1</td>\n",
       "      <td>2124</td>\n",
       "    </tr>\n",
       "  </tbody>\n",
       "</table>\n",
       "</div>"
      ],
      "text/plain": [
       "      budget     genres      id        keywords original_language  \\\n",
       "0  237000000     Action   19995   culture clash                en   \n",
       "1  300000000  Adventure     285           ocean                en   \n",
       "2  245000000     Action  206647             spy                en   \n",
       "3  250000000     Action   49026       dc comics                en   \n",
       "4  260000000     Action   49529  based on novel                en   \n",
       "\n",
       "                             original_title  popularity  \\\n",
       "0                                    Avatar         150   \n",
       "1  Pirates of the Caribbean: At World's End         139   \n",
       "2                                   Spectre         107   \n",
       "3                     The Dark Knight Rises         112   \n",
       "4                               John Carter          43   \n",
       "\n",
       "      production_companies production_countries  release_date     revenue  \\\n",
       "0  Ingenious Film Partners                   US          2009  2787965087   \n",
       "1     Walt Disney Pictures                   US          2007   961000000   \n",
       "2        Columbia Pictures                   GB          2015   880674609   \n",
       "3       Legendary Pictures                   US          2012  1084939099   \n",
       "4     Walt Disney Pictures                   US          2012   284139100   \n",
       "\n",
       "   runtime spoken_languages    status  \\\n",
       "0      162               en  Released   \n",
       "1      169               en  Released   \n",
       "2      148               fr  Released   \n",
       "3      165               en  Released   \n",
       "4      132               en  Released   \n",
       "\n",
       "                                      title  vote_average  vote_count  \n",
       "0                                    Avatar           7.2       11800  \n",
       "1  Pirates of the Caribbean: At World's End           6.9        4500  \n",
       "2                                   Spectre           6.3        4466  \n",
       "3                     The Dark Knight Rises           7.6        9106  \n",
       "4                               John Carter           6.1        2124  "
      ]
     },
     "execution_count": 83,
     "metadata": {},
     "output_type": "execute_result"
    }
   ],
   "source": [
    "df1 = df.copy()\n",
    "df1.head()"
   ]
  },
  {
   "cell_type": "code",
   "execution_count": 84,
   "metadata": {},
   "outputs": [],
   "source": [
    "df1.drop(['id','keywords','original_title','title','status'],axis=1,inplace=True)"
   ]
  },
  {
   "cell_type": "code",
   "execution_count": 85,
   "metadata": {},
   "outputs": [
    {
     "data": {
      "text/html": [
       "<div>\n",
       "<style scoped>\n",
       "    .dataframe tbody tr th:only-of-type {\n",
       "        vertical-align: middle;\n",
       "    }\n",
       "\n",
       "    .dataframe tbody tr th {\n",
       "        vertical-align: top;\n",
       "    }\n",
       "\n",
       "    .dataframe thead th {\n",
       "        text-align: right;\n",
       "    }\n",
       "</style>\n",
       "<table border=\"1\" class=\"dataframe\">\n",
       "  <thead>\n",
       "    <tr style=\"text-align: right;\">\n",
       "      <th></th>\n",
       "      <th>budget</th>\n",
       "      <th>genres</th>\n",
       "      <th>original_language</th>\n",
       "      <th>popularity</th>\n",
       "      <th>production_companies</th>\n",
       "      <th>production_countries</th>\n",
       "      <th>release_date</th>\n",
       "      <th>revenue</th>\n",
       "      <th>runtime</th>\n",
       "      <th>spoken_languages</th>\n",
       "      <th>vote_average</th>\n",
       "      <th>vote_count</th>\n",
       "    </tr>\n",
       "  </thead>\n",
       "  <tbody>\n",
       "    <tr>\n",
       "      <th>0</th>\n",
       "      <td>237000000</td>\n",
       "      <td>Action</td>\n",
       "      <td>en</td>\n",
       "      <td>150</td>\n",
       "      <td>Ingenious Film Partners</td>\n",
       "      <td>US</td>\n",
       "      <td>2009</td>\n",
       "      <td>2787965087</td>\n",
       "      <td>162</td>\n",
       "      <td>en</td>\n",
       "      <td>7.2</td>\n",
       "      <td>11800</td>\n",
       "    </tr>\n",
       "    <tr>\n",
       "      <th>1</th>\n",
       "      <td>300000000</td>\n",
       "      <td>Adventure</td>\n",
       "      <td>en</td>\n",
       "      <td>139</td>\n",
       "      <td>Walt Disney Pictures</td>\n",
       "      <td>US</td>\n",
       "      <td>2007</td>\n",
       "      <td>961000000</td>\n",
       "      <td>169</td>\n",
       "      <td>en</td>\n",
       "      <td>6.9</td>\n",
       "      <td>4500</td>\n",
       "    </tr>\n",
       "    <tr>\n",
       "      <th>2</th>\n",
       "      <td>245000000</td>\n",
       "      <td>Action</td>\n",
       "      <td>en</td>\n",
       "      <td>107</td>\n",
       "      <td>Columbia Pictures</td>\n",
       "      <td>GB</td>\n",
       "      <td>2015</td>\n",
       "      <td>880674609</td>\n",
       "      <td>148</td>\n",
       "      <td>fr</td>\n",
       "      <td>6.3</td>\n",
       "      <td>4466</td>\n",
       "    </tr>\n",
       "    <tr>\n",
       "      <th>3</th>\n",
       "      <td>250000000</td>\n",
       "      <td>Action</td>\n",
       "      <td>en</td>\n",
       "      <td>112</td>\n",
       "      <td>Legendary Pictures</td>\n",
       "      <td>US</td>\n",
       "      <td>2012</td>\n",
       "      <td>1084939099</td>\n",
       "      <td>165</td>\n",
       "      <td>en</td>\n",
       "      <td>7.6</td>\n",
       "      <td>9106</td>\n",
       "    </tr>\n",
       "    <tr>\n",
       "      <th>4</th>\n",
       "      <td>260000000</td>\n",
       "      <td>Action</td>\n",
       "      <td>en</td>\n",
       "      <td>43</td>\n",
       "      <td>Walt Disney Pictures</td>\n",
       "      <td>US</td>\n",
       "      <td>2012</td>\n",
       "      <td>284139100</td>\n",
       "      <td>132</td>\n",
       "      <td>en</td>\n",
       "      <td>6.1</td>\n",
       "      <td>2124</td>\n",
       "    </tr>\n",
       "  </tbody>\n",
       "</table>\n",
       "</div>"
      ],
      "text/plain": [
       "      budget     genres original_language  popularity  \\\n",
       "0  237000000     Action                en         150   \n",
       "1  300000000  Adventure                en         139   \n",
       "2  245000000     Action                en         107   \n",
       "3  250000000     Action                en         112   \n",
       "4  260000000     Action                en          43   \n",
       "\n",
       "      production_companies production_countries  release_date     revenue  \\\n",
       "0  Ingenious Film Partners                   US          2009  2787965087   \n",
       "1     Walt Disney Pictures                   US          2007   961000000   \n",
       "2        Columbia Pictures                   GB          2015   880674609   \n",
       "3       Legendary Pictures                   US          2012  1084939099   \n",
       "4     Walt Disney Pictures                   US          2012   284139100   \n",
       "\n",
       "   runtime spoken_languages  vote_average  vote_count  \n",
       "0      162               en           7.2       11800  \n",
       "1      169               en           6.9        4500  \n",
       "2      148               fr           6.3        4466  \n",
       "3      165               en           7.6        9106  \n",
       "4      132               en           6.1        2124  "
      ]
     },
     "execution_count": 85,
     "metadata": {},
     "output_type": "execute_result"
    }
   ],
   "source": [
    "df1.head()"
   ]
  },
  {
   "cell_type": "code",
   "execution_count": 86,
   "metadata": {},
   "outputs": [],
   "source": [
    "from sklearn.preprocessing import LabelEncoder\n",
    "le = LabelEncoder()\n",
    "df1['genres'] = le.fit_transform(df1['genres'])\n",
    "df1['original_language'] = le.fit_transform(df1['original_language'])\n",
    "df1['production_companies'] = le.fit_transform(df1['production_companies'])\n",
    "df1['production_countries'] = le.fit_transform(df1['production_countries'])\n",
    "df1['spoken_languages'] = le.fit_transform(df1['spoken_languages'])"
   ]
  },
  {
   "cell_type": "code",
   "execution_count": 87,
   "metadata": {},
   "outputs": [
    {
     "data": {
      "text/html": [
       "<div>\n",
       "<style scoped>\n",
       "    .dataframe tbody tr th:only-of-type {\n",
       "        vertical-align: middle;\n",
       "    }\n",
       "\n",
       "    .dataframe tbody tr th {\n",
       "        vertical-align: top;\n",
       "    }\n",
       "\n",
       "    .dataframe thead th {\n",
       "        text-align: right;\n",
       "    }\n",
       "</style>\n",
       "<table border=\"1\" class=\"dataframe\">\n",
       "  <thead>\n",
       "    <tr style=\"text-align: right;\">\n",
       "      <th></th>\n",
       "      <th>budget</th>\n",
       "      <th>genres</th>\n",
       "      <th>original_language</th>\n",
       "      <th>popularity</th>\n",
       "      <th>production_companies</th>\n",
       "      <th>production_countries</th>\n",
       "      <th>release_date</th>\n",
       "      <th>revenue</th>\n",
       "      <th>runtime</th>\n",
       "      <th>spoken_languages</th>\n",
       "      <th>vote_average</th>\n",
       "      <th>vote_count</th>\n",
       "    </tr>\n",
       "  </thead>\n",
       "  <tbody>\n",
       "    <tr>\n",
       "      <th>0</th>\n",
       "      <td>237000000</td>\n",
       "      <td>0</td>\n",
       "      <td>6</td>\n",
       "      <td>150</td>\n",
       "      <td>546</td>\n",
       "      <td>61</td>\n",
       "      <td>2009</td>\n",
       "      <td>2787965087</td>\n",
       "      <td>162</td>\n",
       "      <td>13</td>\n",
       "      <td>7.2</td>\n",
       "      <td>11800</td>\n",
       "    </tr>\n",
       "    <tr>\n",
       "      <th>1</th>\n",
       "      <td>300000000</td>\n",
       "      <td>1</td>\n",
       "      <td>6</td>\n",
       "      <td>139</td>\n",
       "      <td>1126</td>\n",
       "      <td>61</td>\n",
       "      <td>2007</td>\n",
       "      <td>961000000</td>\n",
       "      <td>169</td>\n",
       "      <td>13</td>\n",
       "      <td>6.9</td>\n",
       "      <td>4500</td>\n",
       "    </tr>\n",
       "    <tr>\n",
       "      <th>2</th>\n",
       "      <td>245000000</td>\n",
       "      <td>0</td>\n",
       "      <td>6</td>\n",
       "      <td>107</td>\n",
       "      <td>236</td>\n",
       "      <td>26</td>\n",
       "      <td>2015</td>\n",
       "      <td>880674609</td>\n",
       "      <td>148</td>\n",
       "      <td>18</td>\n",
       "      <td>6.3</td>\n",
       "      <td>4466</td>\n",
       "    </tr>\n",
       "    <tr>\n",
       "      <th>3</th>\n",
       "      <td>250000000</td>\n",
       "      <td>0</td>\n",
       "      <td>6</td>\n",
       "      <td>112</td>\n",
       "      <td>621</td>\n",
       "      <td>61</td>\n",
       "      <td>2012</td>\n",
       "      <td>1084939099</td>\n",
       "      <td>165</td>\n",
       "      <td>13</td>\n",
       "      <td>7.6</td>\n",
       "      <td>9106</td>\n",
       "    </tr>\n",
       "    <tr>\n",
       "      <th>4</th>\n",
       "      <td>260000000</td>\n",
       "      <td>0</td>\n",
       "      <td>6</td>\n",
       "      <td>43</td>\n",
       "      <td>1126</td>\n",
       "      <td>61</td>\n",
       "      <td>2012</td>\n",
       "      <td>284139100</td>\n",
       "      <td>132</td>\n",
       "      <td>13</td>\n",
       "      <td>6.1</td>\n",
       "      <td>2124</td>\n",
       "    </tr>\n",
       "  </tbody>\n",
       "</table>\n",
       "</div>"
      ],
      "text/plain": [
       "      budget  genres  original_language  popularity  production_companies  \\\n",
       "0  237000000       0                  6         150                   546   \n",
       "1  300000000       1                  6         139                  1126   \n",
       "2  245000000       0                  6         107                   236   \n",
       "3  250000000       0                  6         112                   621   \n",
       "4  260000000       0                  6          43                  1126   \n",
       "\n",
       "   production_countries  release_date     revenue  runtime  spoken_languages  \\\n",
       "0                    61          2009  2787965087      162                13   \n",
       "1                    61          2007   961000000      169                13   \n",
       "2                    26          2015   880674609      148                18   \n",
       "3                    61          2012  1084939099      165                13   \n",
       "4                    61          2012   284139100      132                13   \n",
       "\n",
       "   vote_average  vote_count  \n",
       "0           7.2       11800  \n",
       "1           6.9        4500  \n",
       "2           6.3        4466  \n",
       "3           7.6        9106  \n",
       "4           6.1        2124  "
      ]
     },
     "execution_count": 87,
     "metadata": {},
     "output_type": "execute_result"
    }
   ],
   "source": [
    "df1.head()"
   ]
  },
  {
   "cell_type": "code",
   "execution_count": 88,
   "metadata": {},
   "outputs": [
    {
     "data": {
      "text/plain": [
       "(4162, 12)"
      ]
     },
     "execution_count": 88,
     "metadata": {},
     "output_type": "execute_result"
    }
   ],
   "source": [
    "df1.shape"
   ]
  },
  {
   "cell_type": "markdown",
   "metadata": {},
   "source": [
    "## Regression - Revenue"
   ]
  },
  {
   "cell_type": "code",
   "execution_count": 89,
   "metadata": {},
   "outputs": [],
   "source": [
    "X = df1.drop('revenue',axis=1)\n",
    "y = df1['revenue']"
   ]
  },
  {
   "cell_type": "code",
   "execution_count": 90,
   "metadata": {},
   "outputs": [],
   "source": [
    "from sklearn.model_selection import train_test_split\n",
    "xtrain,xtest,ytrain,ytest = train_test_split(X,y,test_size=0.30,random_state=42)"
   ]
  },
  {
   "cell_type": "code",
   "execution_count": 91,
   "metadata": {},
   "outputs": [],
   "source": [
    "from sklearn.linear_model import LinearRegression\n",
    "from sklearn.tree import DecisionTreeRegressor\n",
    "from sklearn.ensemble import RandomForestRegressor\n",
    "lr = LinearRegression()\n",
    "dt = DecisionTreeRegressor()\n",
    "rf = RandomForestRegressor()"
   ]
  },
  {
   "cell_type": "code",
   "execution_count": 92,
   "metadata": {},
   "outputs": [],
   "source": [
    "from sklearn.metrics import r2_score\n",
    "models = [lr,dt,rf]\n",
    "def revenue(a,b,c,d):\n",
    "    for i in models:\n",
    "        i.fit(a,c)\n",
    "        ypred = i.predict(b)\n",
    "        print('Model: {}'.format(i))\n",
    "        print(r2_score(d,ypred))"
   ]
  },
  {
   "cell_type": "code",
   "execution_count": 93,
   "metadata": {},
   "outputs": [
    {
     "name": "stdout",
     "output_type": "stream",
     "text": [
      "Model: LinearRegression(copy_X=True, fit_intercept=True, n_jobs=None, normalize=False)\n",
      "0.69566712858748\n",
      "Model: DecisionTreeRegressor(criterion='mse', max_depth=None, max_features=None,\n",
      "                      max_leaf_nodes=None, min_impurity_decrease=0.0,\n",
      "                      min_impurity_split=None, min_samples_leaf=1,\n",
      "                      min_samples_split=2, min_weight_fraction_leaf=0.0,\n",
      "                      presort=False, random_state=None, splitter='best')\n",
      "0.5844714251275365\n",
      "Model: RandomForestRegressor(bootstrap=True, criterion='mse', max_depth=None,\n",
      "                      max_features='auto', max_leaf_nodes=None,\n",
      "                      min_impurity_decrease=0.0, min_impurity_split=None,\n",
      "                      min_samples_leaf=1, min_samples_split=2,\n",
      "                      min_weight_fraction_leaf=0.0, n_estimators=10,\n",
      "                      n_jobs=None, oob_score=False, random_state=None,\n",
      "                      verbose=0, warm_start=False)\n",
      "0.7171508800689865\n"
     ]
    }
   ],
   "source": [
    "revenue(xtrain,xtest,ytrain,ytest)"
   ]
  },
  {
   "cell_type": "markdown",
   "metadata": {},
   "source": [
    "## Classification -  Genres"
   ]
  },
  {
   "cell_type": "code",
   "execution_count": 94,
   "metadata": {
    "scrolled": true
   },
   "outputs": [
    {
     "data": {
      "text/html": [
       "<div>\n",
       "<style scoped>\n",
       "    .dataframe tbody tr th:only-of-type {\n",
       "        vertical-align: middle;\n",
       "    }\n",
       "\n",
       "    .dataframe tbody tr th {\n",
       "        vertical-align: top;\n",
       "    }\n",
       "\n",
       "    .dataframe thead th {\n",
       "        text-align: right;\n",
       "    }\n",
       "</style>\n",
       "<table border=\"1\" class=\"dataframe\">\n",
       "  <thead>\n",
       "    <tr style=\"text-align: right;\">\n",
       "      <th></th>\n",
       "      <th>budget</th>\n",
       "      <th>genres</th>\n",
       "      <th>id</th>\n",
       "      <th>keywords</th>\n",
       "      <th>original_language</th>\n",
       "      <th>original_title</th>\n",
       "      <th>popularity</th>\n",
       "      <th>production_companies</th>\n",
       "      <th>production_countries</th>\n",
       "      <th>release_date</th>\n",
       "      <th>revenue</th>\n",
       "      <th>runtime</th>\n",
       "      <th>spoken_languages</th>\n",
       "      <th>status</th>\n",
       "      <th>title</th>\n",
       "      <th>vote_average</th>\n",
       "      <th>vote_count</th>\n",
       "    </tr>\n",
       "  </thead>\n",
       "  <tbody>\n",
       "    <tr>\n",
       "      <th>0</th>\n",
       "      <td>237000000</td>\n",
       "      <td>Action</td>\n",
       "      <td>19995</td>\n",
       "      <td>culture clash</td>\n",
       "      <td>en</td>\n",
       "      <td>Avatar</td>\n",
       "      <td>150</td>\n",
       "      <td>Ingenious Film Partners</td>\n",
       "      <td>US</td>\n",
       "      <td>2009</td>\n",
       "      <td>2787965087</td>\n",
       "      <td>162</td>\n",
       "      <td>en</td>\n",
       "      <td>Released</td>\n",
       "      <td>Avatar</td>\n",
       "      <td>7.2</td>\n",
       "      <td>11800</td>\n",
       "    </tr>\n",
       "    <tr>\n",
       "      <th>1</th>\n",
       "      <td>300000000</td>\n",
       "      <td>Adventure</td>\n",
       "      <td>285</td>\n",
       "      <td>ocean</td>\n",
       "      <td>en</td>\n",
       "      <td>Pirates of the Caribbean: At World's End</td>\n",
       "      <td>139</td>\n",
       "      <td>Walt Disney Pictures</td>\n",
       "      <td>US</td>\n",
       "      <td>2007</td>\n",
       "      <td>961000000</td>\n",
       "      <td>169</td>\n",
       "      <td>en</td>\n",
       "      <td>Released</td>\n",
       "      <td>Pirates of the Caribbean: At World's End</td>\n",
       "      <td>6.9</td>\n",
       "      <td>4500</td>\n",
       "    </tr>\n",
       "    <tr>\n",
       "      <th>2</th>\n",
       "      <td>245000000</td>\n",
       "      <td>Action</td>\n",
       "      <td>206647</td>\n",
       "      <td>spy</td>\n",
       "      <td>en</td>\n",
       "      <td>Spectre</td>\n",
       "      <td>107</td>\n",
       "      <td>Columbia Pictures</td>\n",
       "      <td>GB</td>\n",
       "      <td>2015</td>\n",
       "      <td>880674609</td>\n",
       "      <td>148</td>\n",
       "      <td>fr</td>\n",
       "      <td>Released</td>\n",
       "      <td>Spectre</td>\n",
       "      <td>6.3</td>\n",
       "      <td>4466</td>\n",
       "    </tr>\n",
       "    <tr>\n",
       "      <th>3</th>\n",
       "      <td>250000000</td>\n",
       "      <td>Action</td>\n",
       "      <td>49026</td>\n",
       "      <td>dc comics</td>\n",
       "      <td>en</td>\n",
       "      <td>The Dark Knight Rises</td>\n",
       "      <td>112</td>\n",
       "      <td>Legendary Pictures</td>\n",
       "      <td>US</td>\n",
       "      <td>2012</td>\n",
       "      <td>1084939099</td>\n",
       "      <td>165</td>\n",
       "      <td>en</td>\n",
       "      <td>Released</td>\n",
       "      <td>The Dark Knight Rises</td>\n",
       "      <td>7.6</td>\n",
       "      <td>9106</td>\n",
       "    </tr>\n",
       "    <tr>\n",
       "      <th>4</th>\n",
       "      <td>260000000</td>\n",
       "      <td>Action</td>\n",
       "      <td>49529</td>\n",
       "      <td>based on novel</td>\n",
       "      <td>en</td>\n",
       "      <td>John Carter</td>\n",
       "      <td>43</td>\n",
       "      <td>Walt Disney Pictures</td>\n",
       "      <td>US</td>\n",
       "      <td>2012</td>\n",
       "      <td>284139100</td>\n",
       "      <td>132</td>\n",
       "      <td>en</td>\n",
       "      <td>Released</td>\n",
       "      <td>John Carter</td>\n",
       "      <td>6.1</td>\n",
       "      <td>2124</td>\n",
       "    </tr>\n",
       "  </tbody>\n",
       "</table>\n",
       "</div>"
      ],
      "text/plain": [
       "      budget     genres      id        keywords original_language  \\\n",
       "0  237000000     Action   19995   culture clash                en   \n",
       "1  300000000  Adventure     285           ocean                en   \n",
       "2  245000000     Action  206647             spy                en   \n",
       "3  250000000     Action   49026       dc comics                en   \n",
       "4  260000000     Action   49529  based on novel                en   \n",
       "\n",
       "                             original_title  popularity  \\\n",
       "0                                    Avatar         150   \n",
       "1  Pirates of the Caribbean: At World's End         139   \n",
       "2                                   Spectre         107   \n",
       "3                     The Dark Knight Rises         112   \n",
       "4                               John Carter          43   \n",
       "\n",
       "      production_companies production_countries  release_date     revenue  \\\n",
       "0  Ingenious Film Partners                   US          2009  2787965087   \n",
       "1     Walt Disney Pictures                   US          2007   961000000   \n",
       "2        Columbia Pictures                   GB          2015   880674609   \n",
       "3       Legendary Pictures                   US          2012  1084939099   \n",
       "4     Walt Disney Pictures                   US          2012   284139100   \n",
       "\n",
       "   runtime spoken_languages    status  \\\n",
       "0      162               en  Released   \n",
       "1      169               en  Released   \n",
       "2      148               fr  Released   \n",
       "3      165               en  Released   \n",
       "4      132               en  Released   \n",
       "\n",
       "                                      title  vote_average  vote_count  \n",
       "0                                    Avatar           7.2       11800  \n",
       "1  Pirates of the Caribbean: At World's End           6.9        4500  \n",
       "2                                   Spectre           6.3        4466  \n",
       "3                     The Dark Knight Rises           7.6        9106  \n",
       "4                               John Carter           6.1        2124  "
      ]
     },
     "execution_count": 94,
     "metadata": {},
     "output_type": "execute_result"
    }
   ],
   "source": [
    "df2 = df.copy()\n",
    "df2.head()"
   ]
  },
  {
   "cell_type": "code",
   "execution_count": 95,
   "metadata": {},
   "outputs": [],
   "source": [
    "df2.drop(['id','keywords','original_title','title','status'],axis=1,inplace=True)"
   ]
  },
  {
   "cell_type": "code",
   "execution_count": 96,
   "metadata": {},
   "outputs": [
    {
     "data": {
      "text/plain": [
       "Drama              1019\n",
       "Comedy              883\n",
       "Action              685\n",
       "Adventure           324\n",
       "Horror              265\n",
       "Crime               180\n",
       "Thriller            165\n",
       "Animation           111\n",
       "Fantasy             111\n",
       "Romance              95\n",
       "Science Fiction      90\n",
       "Documentary          49\n",
       "Family               45\n",
       "Mystery              38\n",
       "Music                30\n",
       "History              24\n",
       "Western              23\n",
       "War                  22\n",
       "TV Movie              2\n",
       "Foreign               1\n",
       "Name: genres, dtype: int64"
      ]
     },
     "execution_count": 96,
     "metadata": {},
     "output_type": "execute_result"
    }
   ],
   "source": [
    "df2['genres'].value_counts()"
   ]
  },
  {
   "cell_type": "code",
   "execution_count": 97,
   "metadata": {},
   "outputs": [],
   "source": [
    "from sklearn.preprocessing import LabelEncoder\n",
    "le = LabelEncoder()\n",
    "df2['genres'] = le.fit_transform(df2['genres'])\n",
    "df2['original_language'] = le.fit_transform(df2['original_language'])\n",
    "df2['production_companies'] = le.fit_transform(df2['production_companies'])\n",
    "df2['production_countries'] = le.fit_transform(df2['production_countries'])\n",
    "df2['spoken_languages'] = le.fit_transform(df2['spoken_languages'])"
   ]
  },
  {
   "cell_type": "code",
   "execution_count": 98,
   "metadata": {},
   "outputs": [
    {
     "data": {
      "text/plain": [
       "6     1019\n",
       "3      883\n",
       "0      685\n",
       "1      324\n",
       "11     265\n",
       "4      180\n",
       "17     165\n",
       "2      111\n",
       "8      111\n",
       "14      95\n",
       "15      90\n",
       "5       49\n",
       "7       45\n",
       "13      38\n",
       "12      30\n",
       "10      24\n",
       "19      23\n",
       "18      22\n",
       "16       2\n",
       "9        1\n",
       "Name: genres, dtype: int64"
      ]
     },
     "execution_count": 98,
     "metadata": {},
     "output_type": "execute_result"
    }
   ],
   "source": [
    "df2['genres'].value_counts()"
   ]
  },
  {
   "cell_type": "code",
   "execution_count": 99,
   "metadata": {},
   "outputs": [],
   "source": [
    "X = df2.drop(['genres'],axis=1)\n",
    "y = df2['genres']"
   ]
  },
  {
   "cell_type": "code",
   "execution_count": 100,
   "metadata": {},
   "outputs": [],
   "source": [
    "xtrain,xtest,ytrain,ytest = train_test_split(X,y,test_size = 0.3,random_state=42)"
   ]
  },
  {
   "cell_type": "code",
   "execution_count": 101,
   "metadata": {},
   "outputs": [],
   "source": [
    "def evaluate_model(model, X, y):\n",
    "    from sklearn.metrics import confusion_matrix, classification_report\n",
    "    \n",
    "    ypred = model.predict(X)\n",
    "    cm = confusion_matrix(y, ypred)\n",
    "    print(cm)\n",
    "    tn = cm[0,0]\n",
    "    tp = cm[1,1]\n",
    "    fp = cm[0,1]\n",
    "    fn = cm[1,0]\n",
    "\n",
    "    accuracy = (tp+tn)/(tp+fn+fp+tn)\n",
    "    precision = tp / (tp+fp)\n",
    "    recall = tp / (tp+fn)\n",
    "    f1 = 2*precision*recall / (precision+recall)\n",
    "\n",
    "    print('Accuracy =',accuracy)\n",
    "    print('Precision =', precision)\n",
    "    print('Recall =', recall)\n",
    "    print('F1 Score =', f1)"
   ]
  },
  {
   "cell_type": "code",
   "execution_count": 102,
   "metadata": {},
   "outputs": [
    {
     "name": "stdout",
     "output_type": "stream",
     "text": [
      "[[134  27   1   9   0   0  46   0   0   0   0   0   0   0   0   0   0   0]\n",
      " [ 52  25   0  10   0   0  18   0   0   0   0   0   0   0   0   0   0   0]\n",
      " [ 11  14   0   0   0   0   5   0   0   0   0   0   0   0   0   0   0   0]\n",
      " [100   2   0  41   0   0 109   0   0   0   0   0   0   0   0   0   0   0]\n",
      " [ 24   0   0   6   0   0  20   0   0   0   0   0   0   0   0   0   0   0]\n",
      " [  1   0   0   7   0   0   7   0   0   0   0   0   0   0   0   0   0   0]\n",
      " [119   3   0  41   0   0 138   0   0   0   0   0   0   0   0   0   0   0]\n",
      " [  9   4   0   0   0   0   4   0   0   0   0   0   0   0   0   0   0   0]\n",
      " [ 23   5   0   5   0   0   7   0   0   0   0   0   0   0   0   0   0   0]\n",
      " [  4   1   0   2   0   0   0   0   0   0   0   0   0   0   0   0   0   0]\n",
      " [ 19   0   0  32   0   0  35   0   0   0   0   0   0   0   0   0   0   0]\n",
      " [  2   0   0   3   0   0   1   0   0   0   0   0   0   0   0   0   0   0]\n",
      " [  6   0   0   1   0   0   4   0   0   0   0   0   0   0   0   0   0   0]\n",
      " [ 13   1   0   3   0   0  11   0   0   0   0   0   0   0   0   0   0   0]\n",
      " [ 13   5   0   2   0   0   6   0   0   0   0   0   0   0   0   0   0   0]\n",
      " [ 19   1   0   7   0   0  14   0   0   0   0   0   0   0   0   0   0   0]\n",
      " [  5   0   0   0   0   0   2   0   0   0   0   0   0   0   0   0   0   0]\n",
      " [  3   1   0   2   0   0   4   0   0   0   0   0   0   0   0   0   0   0]]\n",
      "Accuracy = 0.6680672268907563\n",
      "Precision = 0.4807692307692308\n",
      "Recall = 0.3246753246753247\n",
      "F1 Score = 0.3875968992248062\n"
     ]
    }
   ],
   "source": [
    "from sklearn.linear_model import LogisticRegression\n",
    "lr_model = LogisticRegression()\n",
    "lr_model.fit(xtrain,ytrain)\n",
    "evaluate_model(lr_model, xtest, ytest)"
   ]
  },
  {
   "cell_type": "code",
   "execution_count": 103,
   "metadata": {},
   "outputs": [
    {
     "name": "stdout",
     "output_type": "stream",
     "text": [
      "[[ 55  29   2  44   6   1  38   1   7   0   9   1   0   2  10  11   0   1]\n",
      " [ 23  24   7  12   4   0  21   0   2   0   2   0   1   1   4   2   1   1]\n",
      " [  5   5   8   3   0   0   0   4   2   0   2   0   0   1   0   0   0   0]\n",
      " [ 29   8   6  75  14   4  53   2   7   1  28   0   1   4   2  17   0   1]\n",
      " [  5   4   0   7   4   0  18   0   0   3   6   0   0   1   0   1   1   0]\n",
      " [  2   0   1   5   1   1   5   0   0   0   0   0   0   0   0   0   0   0]\n",
      " [ 35  13   1  54  19   8 117   2   5   4  12   9   0   6   3   8   1   4]\n",
      " [  1   2   2   4   0   0   2   1   2   0   1   0   0   0   1   1   0   0]\n",
      " [  9   7   1  11   1   0   6   0   1   0   2   0   0   0   0   2   0   0]\n",
      " [  2   0   0   1   0   0   3   0   0   1   0   0   0   0   0   0   0   0]\n",
      " [ 13   8   2  17   2   1  12   0   1   0  22   0   0   2   0   5   0   1]\n",
      " [  0   0   0   2   0   0   2   0   0   0   1   0   0   0   1   0   0   0]\n",
      " [  2   0   0   3   0   1   3   0   1   0   0   0   1   0   0   0   0   0]\n",
      " [  5   4   0   7   3   0   1   0   0   0   2   1   0   0   2   1   0   2]\n",
      " [  8   7   0   4   0   0   4   0   0   0   0   0   0   0   1   2   0   0]\n",
      " [  5   2   1  11   2   0   6   0   0   0   7   0   1   2   0   3   1   0]\n",
      " [  0   1   0   0   2   0   3   0   1   0   0   0   0   0   0   0   0   0]\n",
      " [  2   0   0   1   1   0   3   0   0   0   2   0   0   0   1   0   0   0]]\n",
      "Accuracy = 0.6030534351145038\n",
      "Precision = 0.4528301886792453\n",
      "Recall = 0.5106382978723404\n",
      "F1 Score = 0.48\n"
     ]
    }
   ],
   "source": [
    "from sklearn.tree import DecisionTreeClassifier\n",
    "dt = DecisionTreeClassifier()\n",
    "dt.fit(xtrain, ytrain)\n",
    "evaluate_model(dt, xtest, ytest)"
   ]
  },
  {
   "cell_type": "code",
   "execution_count": 104,
   "metadata": {},
   "outputs": [
    {
     "name": "stdout",
     "output_type": "stream",
     "text": [
      "[[ 82  22   4  55   4   0  39   1   0   0   2   1   0   1   3   0   2   0\n",
      "    1]\n",
      " [ 31  30   2  13   0   0  25   0   1   0   1   0   0   0   1   0   1   0\n",
      "    0]\n",
      " [  5   3  13   6   0   0   2   0   0   0   1   0   0   0   0   0   0   0\n",
      "    0]\n",
      " [ 49   7   4 114   3   2  60   0   0   0   9   0   0   0   1   0   3   0\n",
      "    0]\n",
      " [  4   2   0  12   2   0  29   0   0   0   1   0   0   0   0   0   0   0\n",
      "    0]\n",
      " [  1   0   1   5   1   0   7   0   0   0   0   0   0   0   0   0   0   0\n",
      "    0]\n",
      " [ 49   9   2  56   3   4 167   1   0   0   2   0   0   3   0   1   3   0\n",
      "    1]\n",
      " [  1   5   3   5   0   0   1   0   0   0   1   0   0   0   0   0   1   0\n",
      "    0]\n",
      " [ 13   2   2  12   0   0   9   0   0   0   2   0   0   0   0   0   0   0\n",
      "    0]\n",
      " [  0   1   0   0   1   0   5   0   0   0   0   0   0   0   0   0   0   0\n",
      "    0]\n",
      " [ 14   5   0  36   0   0  13   0   0   0  14   0   0   0   0   0   4   0\n",
      "    0]\n",
      " [  0   0   0   4   0   0   2   0   0   0   0   0   0   0   0   0   0   0\n",
      "    0]\n",
      " [  4   0   0   1   0   0   4   0   0   0   2   0   0   0   0   0   0   0\n",
      "    0]\n",
      " [  7   2   0  11   0   1   7   0   0   0   0   0   0   0   0   0   0   0\n",
      "    0]\n",
      " [ 12   3   0   8   0   0   1   0   0   0   0   0   0   0   1   0   1   0\n",
      "    0]\n",
      " [  0   0   0   0   0   0   0   0   0   0   0   0   0   0   0   0   0   0\n",
      "    0]\n",
      " [  5   2   2  11   2   0  15   0   0   0   2   0   0   0   0   0   2   0\n",
      "    0]\n",
      " [  2   0   0   1   0   0   4   0   0   0   0   0   0   0   0   0   0   0\n",
      "    0]\n",
      " [  2   1   0   1   0   0   6   0   0   0   0   0   0   0   0   0   0   0\n",
      "    0]]\n",
      "Accuracy = 0.6787878787878788\n",
      "Precision = 0.5769230769230769\n",
      "Recall = 0.4918032786885246\n",
      "F1 Score = 0.5309734513274337\n"
     ]
    }
   ],
   "source": [
    "from sklearn.ensemble import RandomForestClassifier\n",
    "rf = RandomForestClassifier()\n",
    "rf.fit(xtrain, ytrain)\n",
    "evaluate_model(rf, xtest, ytest)"
   ]
  },
  {
   "cell_type": "code",
   "execution_count": 105,
   "metadata": {},
   "outputs": [
    {
     "name": "stderr",
     "output_type": "stream",
     "text": [
      "C:\\Users\\USER\\Anaconda3\\lib\\site-packages\\sklearn\\model_selection\\_search.py:814: DeprecationWarning: The default of the `iid` parameter will change from True to False in version 0.22 and will be removed in 0.24. This will change numeric results when test-set sizes are unequal.\n",
      "  DeprecationWarning)\n"
     ]
    },
    {
     "data": {
      "text/plain": [
       "GridSearchCV(cv=5, error_score='raise-deprecating',\n",
       "             estimator=RandomForestClassifier(bootstrap=True, class_weight=None,\n",
       "                                              criterion='gini', max_depth=None,\n",
       "                                              max_features='auto',\n",
       "                                              max_leaf_nodes=None,\n",
       "                                              min_impurity_decrease=0.0,\n",
       "                                              min_impurity_split=None,\n",
       "                                              min_samples_leaf=1,\n",
       "                                              min_samples_split=2,\n",
       "                                              min_weight_fraction_leaf=0.0,\n",
       "                                              n_estimators=200, n_jobs=None,\n",
       "                                              oob_score=False,\n",
       "                                              random_state=None, verbose=0,\n",
       "                                              warm_start=False),\n",
       "             iid='warn', n_jobs=None,\n",
       "             param_grid={'criterion': ['gini', 'entropy'],\n",
       "                         'max_depth': [None, 5, 10, 15],\n",
       "                         'max_features': [None, 2, 4]},\n",
       "             pre_dispatch='2*n_jobs', refit=True, return_train_score=False,\n",
       "             scoring='f1_macro', verbose=0)"
      ]
     },
     "execution_count": 105,
     "metadata": {},
     "output_type": "execute_result"
    }
   ],
   "source": [
    "from sklearn.model_selection import GridSearchCV\n",
    "param_grid = {'criterion': ['gini','entropy'],\n",
    "              'max_depth': [None,5,10,15],\n",
    "              'max_features': [None,2,4]}\n",
    "\n",
    "rf = RandomForestClassifier(n_estimators=200)\n",
    "rf_grid = GridSearchCV(rf, param_grid, cv=5, scoring='f1_macro')\n",
    "rf_grid.fit(xtrain, ytrain)"
   ]
  },
  {
   "cell_type": "code",
   "execution_count": 106,
   "metadata": {},
   "outputs": [
    {
     "data": {
      "text/plain": [
       "{'criterion': 'entropy', 'max_depth': 15, 'max_features': None}"
      ]
     },
     "execution_count": 106,
     "metadata": {},
     "output_type": "execute_result"
    }
   ],
   "source": [
    "rf_grid.best_params_"
   ]
  },
  {
   "cell_type": "code",
   "execution_count": 107,
   "metadata": {},
   "outputs": [
    {
     "name": "stdout",
     "output_type": "stream",
     "text": [
      "[[ 78  23   0  56   0   0  49   0   1   0   3   0   0   0   3   0   3   0\n",
      "    1]\n",
      " [ 29  21   7  21   0   0  24   0   1   0   0   0   0   1   0   0   1   0\n",
      "    0]\n",
      " [  2   5  14   6   0   0   2   0   0   0   1   0   0   0   0   0   0   0\n",
      "    0]\n",
      " [ 31   2   0 131   0   2  75   1   0   0   9   0   0   0   1   0   0   0\n",
      "    0]\n",
      " [  3   1   0  11   0   0  33   0   0   0   1   0   0   0   0   0   1   0\n",
      "    0]\n",
      " [  0   0   0   6   0   0   7   0   0   0   1   0   0   1   0   0   0   0\n",
      "    0]\n",
      " [ 28   2   1  50   0   2 209   0   0   0   4   0   0   3   0   1   1   0\n",
      "    0]\n",
      " [  2   4   4   4   0   0   1   0   0   0   1   0   0   0   0   0   1   0\n",
      "    0]\n",
      " [  9   2   1  19   0   0   7   0   0   0   1   0   0   1   0   0   0   0\n",
      "    0]\n",
      " [  0   0   0   0   0   0   7   0   0   0   0   0   0   0   0   0   0   0\n",
      "    0]\n",
      " [  6   3   0  35   0   0  13   0   0   0  24   0   0   0   1   0   4   0\n",
      "    0]\n",
      " [  0   0   0   3   0   0   3   0   0   0   0   0   0   0   0   0   0   0\n",
      "    0]\n",
      " [  2   0   0   4   0   0   4   0   0   0   1   0   0   0   0   0   0   0\n",
      "    0]\n",
      " [  4   1   1   8   0   0  12   1   0   0   1   0   0   0   0   0   0   0\n",
      "    0]\n",
      " [ 13   1   0   5   0   0   4   0   0   0   1   0   0   0   1   0   1   0\n",
      "    0]\n",
      " [  0   0   0   0   0   0   0   0   0   0   0   0   0   0   0   0   0   0\n",
      "    0]\n",
      " [  5   2   0  13   0   0  17   0   0   0   0   0   0   0   0   0   4   0\n",
      "    0]\n",
      " [  3   0   0   1   0   0   3   0   0   0   0   0   0   0   0   0   0   0\n",
      "    0]\n",
      " [  1   0   0   1   0   0   8   0   0   0   0   0   0   0   0   0   0   0\n",
      "    0]]\n",
      "Accuracy = 0.6556291390728477\n",
      "Precision = 0.4772727272727273\n",
      "Recall = 0.42\n",
      "F1 Score = 0.4468085106382979\n"
     ]
    }
   ],
   "source": [
    "rf_best = rf_grid.best_estimator_\n",
    "evaluate_model(rf_best, xtest, ytest)"
   ]
  },
  {
   "cell_type": "code",
   "execution_count": null,
   "metadata": {},
   "outputs": [],
   "source": []
  },
  {
   "cell_type": "code",
   "execution_count": null,
   "metadata": {},
   "outputs": [],
   "source": []
  }
 ],
 "metadata": {
  "kernelspec": {
   "display_name": "Python 3",
   "language": "python",
   "name": "python3"
  },
  "language_info": {
   "codemirror_mode": {
    "name": "ipython",
    "version": 3
   },
   "file_extension": ".py",
   "mimetype": "text/x-python",
   "name": "python",
   "nbconvert_exporter": "python",
   "pygments_lexer": "ipython3",
   "version": "3.7.3"
  }
 },
 "nbformat": 4,
 "nbformat_minor": 2
}
